{
 "cells": [
  {
   "cell_type": "markdown",
   "id": "amber-merchandise",
   "metadata": {},
   "source": [
    "# Happiness Prediction\n",
    "- In this project, we will predict which countries or regions of the world will rise or fall in happiness based on factors such as GDP, freedom, and trust in government. We will use \n",
    "- How is this data collected? How is the happiness score calculated? "
   ]
  },
  {
   "cell_type": "code",
   "execution_count": 126,
   "id": "stock-tennis",
   "metadata": {},
   "outputs": [],
   "source": [
    "import matplotlib.pyplot as plt\n",
    "import pandas as pd\n",
    "import seaborn as sns\n",
    "from mpl_toolkits import mplot3d # for scatter plots\n",
    "%matplotlib inline"
   ]
  },
  {
   "cell_type": "markdown",
   "id": "russian-drove",
   "metadata": {},
   "source": [
    "# EDA\n",
    "- read in from 2015-2019\n",
    "- put them all in the same dataframe with a year as a label "
   ]
  },
  {
   "cell_type": "code",
   "execution_count": 127,
   "id": "killing-vegetation",
   "metadata": {
    "scrolled": false
   },
   "outputs": [],
   "source": [
    "df2015 = pd.read_csv('world_happiness/2015.csv')\n",
    "df2016 = pd.read_csv('world_happiness/2016.csv')\n",
    "df2017 = pd.read_csv('world_happiness/2017.csv')\n",
    "df2018 = pd.read_csv('world_happiness/2018.csv')\n",
    "df2019 = pd.read_csv('world_happiness/2019.csv')\n",
    "\n",
    "# print(\"2015 columns: \", df2015.columns)\n",
    "# print(\"2016 columns: \", df2016.columns)\n",
    "# print(\"2017 columns: \", df2017.columns)\n",
    "# print(\"2018 columns: \", df2018.columns) # 2018, 2019 have the same column names\n",
    "# print(\"2019 columns: \", df2019.columns)"
   ]
  },
  {
   "cell_type": "markdown",
   "id": "systematic-coordination",
   "metadata": {},
   "source": [
    "### preprocessing notes\n",
    "- country / region in 2015 and 2016 can be joined. 2017 has just country \n",
    "- 2015/2016 have similar formats\n",
    "- <b>should check out 2020 report</b>"
   ]
  },
  {
   "cell_type": "markdown",
   "id": "divided-newspaper",
   "metadata": {},
   "source": [
    "### view of the top 10 countries in 2019"
   ]
  },
  {
   "cell_type": "code",
   "execution_count": 128,
   "id": "tracked-collapse",
   "metadata": {},
   "outputs": [],
   "source": [
    "# df2019 = pd.read_csv('world_happiness/2019.csv')\n",
    "# df2019.iloc[:10,]"
   ]
  },
  {
   "cell_type": "code",
   "execution_count": 129,
   "id": "native-loading",
   "metadata": {
    "scrolled": true
   },
   "outputs": [],
   "source": [
    "# fig = plt.figure()\n",
    "# ax = fig.add_axes([0, 0, 5, 2]) \n",
    "\n",
    "# plt.bar(df2019['Country or region'].iloc[:10], df2019['Score'].iloc[:10], label='2019')\n",
    "# plt.bar(df2015['Country'].iloc[:10], df2015['Happiness Score'].iloc[:10], label='2015')\n",
    "# # plt.bar(df2019['Country or region'].iloc[-10:], df2019['Score'].iloc[-10:])\n",
    "# plt.xlabel('Country')\n",
    "# plt.ylabel('Happiness Score')\n",
    "# plt.ylim(0, 10)\n",
    "# plt.title('top 10 happiest countries for 2015 vs. 2019')\n",
    "# plt.legend()\n",
    "# plt.show()"
   ]
  },
  {
   "cell_type": "markdown",
   "id": "alleged-fisher",
   "metadata": {},
   "source": [
    "### Visualizing the data\n",
    "- countries represented per year \n",
    "    - rows of years (x)\n",
    "    - columns of countries (y)"
   ]
  },
  {
   "cell_type": "code",
   "execution_count": 130,
   "id": "blond-angle",
   "metadata": {},
   "outputs": [
    {
     "name": "stdout",
     "output_type": "stream",
     "text": [
      "Number of missing countries in 2015:  0\n",
      "Number of missing countries in 2016:  0\n"
     ]
    }
   ],
   "source": [
    "# to stay loyal to country or region, we only use region if there is no country provided \n",
    "# 2017 does not provide a region\n",
    "print(\"Number of missing countries in 2015: \", df2015.Country.isna().sum())\n",
    "print(\"Number of missing countries in 2016: \", df2016.Country.isna().sum())\n",
    "df2015 = df2015.drop(columns=['Region'])\n",
    "df2016 = df2016.drop(columns=['Region'])"
   ]
  },
  {
   "cell_type": "code",
   "execution_count": 131,
   "id": "warming-indonesian",
   "metadata": {},
   "outputs": [
    {
     "name": "stdout",
     "output_type": "stream",
     "text": [
      "11\n",
      "12\n",
      "12\n",
      "9\n",
      "9\n"
     ]
    }
   ],
   "source": [
    "# create one big df \n",
    "# drop the columns that aren't shared by others \n",
    "dfs = [df2015, df2016, df2017, df2018, df2019]\n",
    "def print_df_cols(dfs):\n",
    "    for i in dfs:\n",
    "        print(len(i.columns))\n",
    "print_df_cols(dfs)"
   ]
  },
  {
   "cell_type": "code",
   "execution_count": 132,
   "id": "offshore-television",
   "metadata": {},
   "outputs": [
    {
     "name": "stdout",
     "output_type": "stream",
     "text": [
      "11\n",
      "12\n",
      "12\n",
      "9\n",
      "9\n"
     ]
    }
   ],
   "source": [
    "df2015 = df2015.rename({'Happiness Rank': 'Overall rank', 'Happiness Score': 'Score',\n",
    "                       'Economy (GDP per Capita)':'GDP per capita', 'Health (Life Expectancy)': 'Healthy life expectancy', \n",
    "                       'Trust (Government Corruption)' : 'Perceptions of corruption', \n",
    "                        'Country' : 'Country or region'}, axis='columns')\n",
    "df2016 = df2016.rename({'Happiness Rank': 'Overall rank', 'Happiness Score': 'Score',\n",
    "                       'Economy (GDP per Capita)':'GDP per capita', 'Health (Life Expectancy)': 'Healthy life expectancy', \n",
    "                       'Trust (Government Corruption)' : 'Perceptions of corruption', \n",
    "                       'Country' : 'Country or region'}, axis='columns')\n",
    "df2017 = df2017.rename({'Happiness.Rank': 'Overall rank', 'Happiness.Score' : 'Score', \n",
    "                       'Economy..GDP.per.Capita.' : 'GDP per capita', 'Health..Life.Expectancy.' : 'Healthy life expectancy',\n",
    "                       'Trust..Government.Corruption.': 'Perceptions of corruption', \n",
    "                       'Country' : 'Country or region'}, axis='columns')\n",
    "dfs = [df2015, df2016, df2017, df2018, df2019]\n",
    "print_df_cols(dfs)"
   ]
  },
  {
   "cell_type": "markdown",
   "id": "established-harbor",
   "metadata": {},
   "source": [
    "### see if we can preserve the error metrics from 2015-2017\n",
    "- <b>2015-2016</b>\n",
    "    - Standard Error, Dystopia Residual, Lower Confidence Level\n",
    "- <b>2017</b>\n",
    "    - Whisker.high, Whisker.low, Dystopia.Residual"
   ]
  },
  {
   "cell_type": "code",
   "execution_count": 133,
   "id": "political-catalog",
   "metadata": {},
   "outputs": [
    {
     "name": "stdout",
     "output_type": "stream",
     "text": [
      "9\n",
      "9\n",
      "9\n",
      "9\n",
      "9\n"
     ]
    }
   ],
   "source": [
    "df2015 = df2015.drop(columns=['Standard Error', 'Dystopia Residual'])\n",
    "df2016 = df2016.drop(columns=['Dystopia Residual', 'Lower Confidence Interval', 'Upper Confidence Interval'])\n",
    "df2017 = df2017.drop(columns=['Whisker.high', 'Whisker.low', 'Dystopia.Residual'])\n",
    "dfs = [df2015, df2016, df2017, df2018, df2019]\n",
    "print_df_cols(dfs)"
   ]
  },
  {
   "cell_type": "markdown",
   "id": "early-velvet",
   "metadata": {},
   "source": [
    "### all the dfs have the same columns, now we'll drop the rows (countries) that don't have the same countries as 2019"
   ]
  },
  {
   "cell_type": "code",
   "execution_count": null,
   "id": "conceptual-defensive",
   "metadata": {},
   "outputs": [],
   "source": []
  }
 ],
 "metadata": {
  "kernelspec": {
   "display_name": "Python 3",
   "language": "python",
   "name": "python3"
  },
  "language_info": {
   "codemirror_mode": {
    "name": "ipython",
    "version": 3
   },
   "file_extension": ".py",
   "mimetype": "text/x-python",
   "name": "python",
   "nbconvert_exporter": "python",
   "pygments_lexer": "ipython3",
   "version": "3.9.2"
  }
 },
 "nbformat": 4,
 "nbformat_minor": 5
}
