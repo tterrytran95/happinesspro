{
 "cells": [
  {
   "cell_type": "code",
   "execution_count": 66,
   "id": "wired-reaction",
   "metadata": {},
   "outputs": [],
   "source": [
    "import pandas as pd\n",
    "import numpy as np\n",
    "import seaborn as sns\n",
    "import matplotlib.pyplot as plt\n",
    "import pickle"
   ]
  },
  {
   "cell_type": "markdown",
   "id": "contained-memphis",
   "metadata": {},
   "source": [
    "## In this notebook, we'll guarantee that all the countries are uniform between 2015-2020 dataframes.\n",
    "- This is a preprocessing notebook where all the data will be modified such that there is a 1-1 mapping between countries of each dataframe.\n",
    "- Use 2020 as our standard because want to predict this year\n",
    "- Remove countries from 2015-2019 that are NOT in 2020\n",
    "- [Drop data](https://www.shanelynn.ie/pandas-drop-delete-dataframe-rows-columns/)"
   ]
  },
  {
   "cell_type": "code",
   "execution_count": 67,
   "id": "great-technology",
   "metadata": {},
   "outputs": [],
   "source": [
    "with open('dataframes/df2015', 'rb') as f_2015:\n",
    "    df2015 = pickle.load(f_2015)\n",
    "f_2015.close()\n",
    "\n",
    "with open('dataframes/df2016', 'rb') as f_2016:\n",
    "    df2016 = pickle.load(f_2016)\n",
    "f_2016.close()\n",
    "\n",
    "with open('dataframes/df2017', 'rb') as f_2017:\n",
    "    df2017 = pickle.load(f_2017)\n",
    "f_2017.close()\n",
    "\n",
    "with open('dataframes/df2018', 'rb') as f_2018:\n",
    "    df2018 = pickle.load(f_2018)\n",
    "f_2018.close()\n",
    "\n",
    "with open('dataframes/df2019', 'rb') as f_2019:\n",
    "    df2019 = pickle.load(f_2019)\n",
    "f_2019.close()\n",
    "\n",
    "with open('dataframes/df2020', 'rb') as f_2020:\n",
    "    df2020 = pickle.load(f_2020)\n",
    "f_2020.close()\n",
    "\n",
    "with open('dataframes/df_all', 'rb') as f_all:\n",
    "    df_all = pickle.load(f_all)\n",
    "f_all.close()\n",
    "\n",
    "with open('dataframes/df_feats', 'rb') as f_feats:\n",
    "    df_feats = pickle.load(f_feats)\n",
    "f_feats.close()"
   ]
  },
  {
   "cell_type": "code",
   "execution_count": 68,
   "id": "exterior-appliance",
   "metadata": {},
   "outputs": [],
   "source": [
    "# c_2020 = df2020['Country or region'].tolist()\n",
    "# c_2019 = df2019['Country or region'].tolist()\n",
    "# c_2018 = df2018['Country or region'].tolist()\n",
    "# c_2017 = df2017['Country or region'].tolist()\n",
    "# c_2016 = df2016['Country or region'].tolist()\n",
    "# c_2015 = df2015['Country or region'].tolist()"
   ]
  },
  {
   "cell_type": "code",
   "execution_count": 69,
   "id": "heated-latex",
   "metadata": {},
   "outputs": [
    {
     "name": "stdout",
     "output_type": "stream",
     "text": [
      "United States\n",
      "Taiwan\n",
      "Qatar\n",
      "Trinidad & Tobago\n",
      "Northern Cyprus\n",
      "Hong Kong\n",
      "North Macedonia\n",
      "Bhutan\n",
      "Somalia\n",
      "Syria\n"
     ]
    },
    {
     "data": {
      "text/plain": [
       "[18, 24, 28, 38, 63, 75, 83, 94, 111, 148]"
      ]
     },
     "execution_count": 69,
     "metadata": {},
     "output_type": "execute_result"
    }
   ],
   "source": [
    "# check 2019\n",
    "c_2020 = df2020['Country or region'].tolist()\n",
    "c_2019 = df2019['Country or region'].tolist()\n",
    "drop_index = [] # list of rows to drop by index \n",
    "for i in range(len(c_2019)):\n",
    "    if (c_2019[i] not in c_2020):\n",
    "        drop_index.append(i)\n",
    "        print(c_2019[i])\n",
    "drop_index"
   ]
  },
  {
   "cell_type": "code",
   "execution_count": 54,
   "id": "surrounded-paris",
   "metadata": {},
   "outputs": [],
   "source": [
    "df2019.drop(df2019.index[drop_index], inplace=True)"
   ]
  },
  {
   "cell_type": "code",
   "execution_count": 55,
   "id": "higher-truth",
   "metadata": {},
   "outputs": [
    {
     "data": {
      "text/plain": [
       "[17, 25, 31, 37, 48, 57, 75, 88, 96, 97, 136, 141, 149]"
      ]
     },
     "execution_count": 55,
     "metadata": {},
     "output_type": "execute_result"
    }
   ],
   "source": [
    "# check 2018\n",
    "c_2019 = df2019['Country or region'].tolist()\n",
    "c_2018 = df2018['Country or region'].tolist()\n",
    "drop_index = [] # list of rows to drop by index \n",
    "for i in range(len(c_2018)):\n",
    "    if (c_2018[i] not in c_2019):\n",
    "        drop_index.append(i)\n",
    "drop_index"
   ]
  },
  {
   "cell_type": "code",
   "execution_count": 56,
   "id": "positive-religious",
   "metadata": {},
   "outputs": [],
   "source": [
    "df2018.drop(df2018.index[drop_index], inplace=True)"
   ]
  },
  {
   "cell_type": "code",
   "execution_count": 57,
   "id": "sexual-zimbabwe",
   "metadata": {},
   "outputs": [
    {
     "data": {
      "text/plain": [
       "[13, 32, 34, 37, 49, 60, 70, 91, 92, 96, 129, 139, 151]"
      ]
     },
     "execution_count": 57,
     "metadata": {},
     "output_type": "execute_result"
    }
   ],
   "source": [
    "# check 2017\n",
    "c_2018 = df2018['Country or region'].tolist()\n",
    "c_2017 = df2017['Country or region'].tolist()\n",
    "drop_index = [] # list of rows to drop by index \n",
    "for i in range(len(c_2017)):\n",
    "    if (c_2017[i] not in c_2018):\n",
    "        drop_index.append(i)\n",
    "drop_index"
   ]
  },
  {
   "cell_type": "code",
   "execution_count": 58,
   "id": "allied-engineer",
   "metadata": {},
   "outputs": [],
   "source": [
    "df2017.drop(df2017.index[drop_index], inplace=True)"
   ]
  },
  {
   "cell_type": "code",
   "execution_count": 59,
   "id": "sensitive-spanking",
   "metadata": {},
   "outputs": [
    {
     "data": {
      "text/plain": [
       "[12, 14, 34, 35, 39, 42, 51, 61, 74, 75, 83, 94, 96, 101, 132, 137, 140, 155]"
      ]
     },
     "execution_count": 59,
     "metadata": {},
     "output_type": "execute_result"
    }
   ],
   "source": [
    "# check 2016\n",
    "c_2017 = df2017['Country or region'].tolist()\n",
    "c_2016 = df2016['Country or region'].tolist()\n",
    "drop_index = [] # list of rows to drop by index \n",
    "for i in range(len(c_2016)):\n",
    "    if (c_2016[i] not in c_2017):\n",
    "        drop_index.append(i)\n",
    "drop_index"
   ]
  },
  {
   "cell_type": "code",
   "execution_count": 60,
   "id": "interim-homeless",
   "metadata": {},
   "outputs": [],
   "source": [
    "df2016.drop(df2016.index[drop_index], inplace=True)"
   ]
  },
  {
   "cell_type": "code",
   "execution_count": 61,
   "id": "loving-bibliography",
   "metadata": {},
   "outputs": [
    {
     "data": {
      "text/plain": [
       "[14,\n",
       " 21,\n",
       " 27,\n",
       " 37,\n",
       " 39,\n",
       " 40,\n",
       " 65,\n",
       " 71,\n",
       " 78,\n",
       " 90,\n",
       " 92,\n",
       " 93,\n",
       " 96,\n",
       " 98,\n",
       " 100,\n",
       " 117,\n",
       " 125,\n",
       " 136,\n",
       " 139,\n",
       " 147,\n",
       " 155]"
      ]
     },
     "execution_count": 61,
     "metadata": {},
     "output_type": "execute_result"
    }
   ],
   "source": [
    "# check 2015\n",
    "c_2016 = df2016['Country or region'].tolist()\n",
    "c_2015 = df2015['Country or region'].tolist()\n",
    "drop_index = [] # list of rows to drop by index \n",
    "for i in range(len(c_2015)):\n",
    "    if (c_2015[i] not in c_2016):\n",
    "        drop_index.append(i)\n",
    "drop_index"
   ]
  },
  {
   "cell_type": "code",
   "execution_count": 62,
   "id": "fatty-memorial",
   "metadata": {},
   "outputs": [],
   "source": [
    "df2015.drop(df2015.index[drop_index], inplace=True)"
   ]
  },
  {
   "cell_type": "code",
   "execution_count": 64,
   "id": "small-cartoon",
   "metadata": {},
   "outputs": [
    {
     "name": "stdout",
     "output_type": "stream",
     "text": [
      "(153, 9)\n",
      "(146, 10)\n",
      "(143, 10)\n",
      "(142, 10)\n",
      "(139, 10)\n",
      "(137, 10)\n"
     ]
    }
   ],
   "source": [
    "print(df2020.shape)\n",
    "print(df2019.shape)\n",
    "print(df2018.shape)\n",
    "print(df2017.shape)\n",
    "print(df2016.shape)\n",
    "print(df2015.shape)"
   ]
  },
  {
   "cell_type": "code",
   "execution_count": null,
   "id": "right-kruger",
   "metadata": {},
   "outputs": [],
   "source": []
  }
 ],
 "metadata": {
  "kernelspec": {
   "display_name": "Python 3",
   "language": "python",
   "name": "python3"
  },
  "language_info": {
   "codemirror_mode": {
    "name": "ipython",
    "version": 3
   },
   "file_extension": ".py",
   "mimetype": "text/x-python",
   "name": "python",
   "nbconvert_exporter": "python",
   "pygments_lexer": "ipython3",
   "version": "3.9.2"
  }
 },
 "nbformat": 4,
 "nbformat_minor": 5
}
