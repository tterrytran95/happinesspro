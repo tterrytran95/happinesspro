{
 "cells": [
  {
   "cell_type": "code",
   "execution_count": 537,
   "id": "instrumental-alexander",
   "metadata": {},
   "outputs": [],
   "source": [
    "import pandas as pd\n",
    "import numpy as np\n",
    "import seaborn as sns\n",
    "import matplotlib.pyplot as plt\n",
    "import pickle\n",
    "from sklearn.linear_model import LinearRegression\n",
    "from sklearn.model_selection import GridSearchCV, train_test_split\n",
    "from sklearn.preprocessing import StandardScaler\n",
    "from sklearn.metrics import r2_score, mean_squared_error, explained_variance_score"
   ]
  },
  {
   "cell_type": "code",
   "execution_count": 538,
   "id": "improved-nickname",
   "metadata": {},
   "outputs": [],
   "source": [
    "with open('dataframes/df2015', 'rb') as f_2015:\n",
    "    df2015 = pickle.load(f_2015)\n",
    "f_2015.close()\n",
    "\n",
    "with open('dataframes/df2016', 'rb') as f_2016:\n",
    "    df2016 = pickle.load(f_2016)\n",
    "f_2016.close()\n",
    "\n",
    "with open('dataframes/df2017', 'rb') as f_2017:\n",
    "    df2017 = pickle.load(f_2017)\n",
    "f_2017.close()\n",
    "\n",
    "with open('dataframes/df2018', 'rb') as f_2018:\n",
    "    df2018 = pickle.load(f_2018)\n",
    "f_2018.close()\n",
    "\n",
    "with open('dataframes/df2019', 'rb') as f_2019:\n",
    "    df2019 = pickle.load(f_2019)\n",
    "f_2019.close()\n",
    "\n",
    "with open('dataframes/df2020', 'rb') as f_2020:\n",
    "    df2020 = pickle.load(f_2020)\n",
    "f_2020.close()\n",
    "\n",
    "with open('dataframes/df_all', 'rb') as f_all:\n",
    "    df_all = pickle.load(f_all)\n",
    "f_all.close()\n",
    "\n",
    "with open('dataframes/df_feats', 'rb') as f_feats:\n",
    "    df_feats = pickle.load(f_feats)\n",
    "f_feats.close()"
   ]
  },
  {
   "cell_type": "markdown",
   "id": "neither-mineral",
   "metadata": {},
   "source": [
    "# Linear Regression\n",
    "- The data in this set lends itself to linear regression since the happiness score is positively correlated with all its features as seen in the EDA steps. \n",
    "- GDP is the highest correlated features. \n",
    "- Since there are only 7 features, it's likely that we won't need to perform PCA on the dataset since there is no worthy feature to remove. These have all been engineered to be linearly correlated with our target (happiness). \n",
    "- Here, we will explore different ways regression can be applied to this dataset to make predictions."
   ]
  },
  {
   "cell_type": "markdown",
   "id": "legitimate-configuration",
   "metadata": {},
   "source": [
    "### Question 1: What is the happines score of each country for 2020 given the 2020 features?\n",
    "- we predicted for MOST countries based on SOME countries for this one"
   ]
  },
  {
   "cell_type": "code",
   "execution_count": 539,
   "id": "comic-blond",
   "metadata": {},
   "outputs": [],
   "source": [
    "Y = df2020['Score'] # target \n",
    "X = df2020.iloc[:, 1:].drop(['Score'],axis='columns') # features \n",
    "train_x, test_x, train_y, test_y = train_test_split(X, Y, test_size=.2)\n",
    "# print(train_x.shape)\n",
    "# print(test_y.shape) # ok! "
   ]
  },
  {
   "cell_type": "code",
   "execution_count": 540,
   "id": "suspected-relief",
   "metadata": {},
   "outputs": [],
   "source": [
    "scaler = StandardScaler()\n",
    "train_x = scaler.fit_transform(train_x.iloc[:, 1:])\n",
    "test_x = scaler.transform(test_x.iloc[:, 1:])"
   ]
  },
  {
   "cell_type": "code",
   "execution_count": 541,
   "id": "gentle-bathroom",
   "metadata": {},
   "outputs": [],
   "source": [
    "lr_reg = LinearRegression()\n",
    "lr_reg.fit(train_x, train_y) # keep the countries # index without it \n",
    "hyp = lr_reg.predict(test_x)"
   ]
  },
  {
   "cell_type": "code",
   "execution_count": 542,
   "id": "stable-magnitude",
   "metadata": {},
   "outputs": [
    {
     "name": "stdout",
     "output_type": "stream",
     "text": [
      "R2 score...          \t 0.8137411138644184\n",
      "Variance explained...\t 0.8257758562172264\n",
      "Mean squared error...\t 0.1901389671095601\n"
     ]
    }
   ],
   "source": [
    "# metrics\n",
    "res = test_y - hyp\n",
    "r2_score = r2_score(test_y, hyp)\n",
    "var = explained_variance_score(test_y, hyp)\n",
    "mse = mean_squared_error(test_y, hyp)\n",
    "print('R2 score...          \\t', r2_score)\n",
    "print('Variance explained...\\t', var)\n",
    "print('Mean squared error...\\t', mse)\n",
    "# DON'T TOUCH THIS # IT'S VERY GOOD"
   ]
  },
  {
   "cell_type": "code",
   "execution_count": null,
   "id": "illegal-correlation",
   "metadata": {},
   "outputs": [],
   "source": [
    "# tell me which countries were predicted and what they are"
   ]
  },
  {
   "cell_type": "markdown",
   "id": "downtown-vermont",
   "metadata": {},
   "source": [
    "### Question 2: What is the happiness score of each country for 2020 given the the data from past years (2015-2019)?"
   ]
  },
  {
   "cell_type": "code",
   "execution_count": 547,
   "id": "lesser-groove",
   "metadata": {},
   "outputs": [],
   "source": [
    "Y = df_feats['Score'] # target \n",
    "X = df_feats.iloc[:, 1:].drop(['Score'],axis='columns') # features \n",
    "train_x, test_x, train_y, test_y = train_test_split(X, Y, test_size=.2)\n",
    "# print(train_x.shape)\n",
    "# print(test_y.shape) # ok! "
   ]
  },
  {
   "cell_type": "code",
   "execution_count": 544,
   "id": "revised-somerset",
   "metadata": {},
   "outputs": [],
   "source": [
    "# scaler = StandardScaler()\n",
    "# train_x = scaler.fit_transform(train_x.iloc[:, 1:])\n",
    "# test_x = scaler.fit(test_x.iloc[:, 1:])"
   ]
  },
  {
   "cell_type": "code",
   "execution_count": 550,
   "id": "specific-laptop",
   "metadata": {},
   "outputs": [
    {
     "data": {
      "text/html": [
       "<div>\n",
       "<style scoped>\n",
       "    .dataframe tbody tr th:only-of-type {\n",
       "        vertical-align: middle;\n",
       "    }\n",
       "\n",
       "    .dataframe tbody tr th {\n",
       "        vertical-align: top;\n",
       "    }\n",
       "\n",
       "    .dataframe thead th {\n",
       "        text-align: right;\n",
       "    }\n",
       "</style>\n",
       "<table border=\"1\" class=\"dataframe\">\n",
       "  <thead>\n",
       "    <tr style=\"text-align: right;\">\n",
       "      <th></th>\n",
       "      <th>GDP per capita</th>\n",
       "      <th>Social support</th>\n",
       "      <th>Healthy life expectancy</th>\n",
       "      <th>Freedom</th>\n",
       "      <th>Perceptions of corruption</th>\n",
       "      <th>Generosity</th>\n",
       "    </tr>\n",
       "  </thead>\n",
       "  <tbody>\n",
       "    <tr>\n",
       "      <th>138</th>\n",
       "      <td>0.275000</td>\n",
       "      <td>0.572000</td>\n",
       "      <td>0.410000</td>\n",
       "      <td>0.293000</td>\n",
       "      <td>0.085000</td>\n",
       "      <td>0.177000</td>\n",
       "    </tr>\n",
       "    <tr>\n",
       "      <th>54</th>\n",
       "      <td>1.401678</td>\n",
       "      <td>1.128274</td>\n",
       "      <td>0.900214</td>\n",
       "      <td>0.257922</td>\n",
       "      <td>0.063283</td>\n",
       "      <td>0.206674</td>\n",
       "    </tr>\n",
       "    <tr>\n",
       "      <th>69</th>\n",
       "      <td>0.893730</td>\n",
       "      <td>1.111110</td>\n",
       "      <td>0.582950</td>\n",
       "      <td>0.462350</td>\n",
       "      <td>0.073960</td>\n",
       "      <td>0.252960</td>\n",
       "    </tr>\n",
       "    <tr>\n",
       "      <th>24</th>\n",
       "      <td>1.131000</td>\n",
       "      <td>1.331000</td>\n",
       "      <td>0.808000</td>\n",
       "      <td>0.431000</td>\n",
       "      <td>0.061000</td>\n",
       "      <td>0.197000</td>\n",
       "    </tr>\n",
       "    <tr>\n",
       "      <th>7</th>\n",
       "      <td>1.303000</td>\n",
       "      <td>1.557000</td>\n",
       "      <td>1.026000</td>\n",
       "      <td>0.585000</td>\n",
       "      <td>0.380000</td>\n",
       "      <td>0.330000</td>\n",
       "    </tr>\n",
       "    <tr>\n",
       "      <th>...</th>\n",
       "      <td>...</td>\n",
       "      <td>...</td>\n",
       "      <td>...</td>\n",
       "      <td>...</td>\n",
       "      <td>...</td>\n",
       "      <td>...</td>\n",
       "    </tr>\n",
       "    <tr>\n",
       "      <th>143</th>\n",
       "      <td>0.489000</td>\n",
       "      <td>1.169000</td>\n",
       "      <td>0.168000</td>\n",
       "      <td>0.359000</td>\n",
       "      <td>0.093000</td>\n",
       "      <td>0.107000</td>\n",
       "    </tr>\n",
       "    <tr>\n",
       "      <th>86</th>\n",
       "      <td>1.052000</td>\n",
       "      <td>1.538000</td>\n",
       "      <td>0.657000</td>\n",
       "      <td>0.394000</td>\n",
       "      <td>0.028000</td>\n",
       "      <td>0.244000</td>\n",
       "    </tr>\n",
       "    <tr>\n",
       "      <th>0</th>\n",
       "      <td>1.340000</td>\n",
       "      <td>1.587000</td>\n",
       "      <td>0.986000</td>\n",
       "      <td>0.596000</td>\n",
       "      <td>0.393000</td>\n",
       "      <td>0.153000</td>\n",
       "    </tr>\n",
       "    <tr>\n",
       "      <th>129</th>\n",
       "      <td>0.741900</td>\n",
       "      <td>0.385620</td>\n",
       "      <td>0.729260</td>\n",
       "      <td>0.405770</td>\n",
       "      <td>0.383310</td>\n",
       "      <td>0.055470</td>\n",
       "    </tr>\n",
       "    <tr>\n",
       "      <th>60</th>\n",
       "      <td>0.776000</td>\n",
       "      <td>1.209000</td>\n",
       "      <td>0.706000</td>\n",
       "      <td>0.511000</td>\n",
       "      <td>0.064000</td>\n",
       "      <td>0.137000</td>\n",
       "    </tr>\n",
       "  </tbody>\n",
       "</table>\n",
       "<p>625 rows × 6 columns</p>\n",
       "</div>"
      ],
      "text/plain": [
       "     GDP per capita  Social support  Healthy life expectancy   Freedom  \\\n",
       "138        0.275000        0.572000                 0.410000  0.293000   \n",
       "54         1.401678        1.128274                 0.900214  0.257922   \n",
       "69         0.893730        1.111110                 0.582950  0.462350   \n",
       "24         1.131000        1.331000                 0.808000  0.431000   \n",
       "7          1.303000        1.557000                 1.026000  0.585000   \n",
       "..              ...             ...                      ...       ...   \n",
       "143        0.489000        1.169000                 0.168000  0.359000   \n",
       "86         1.052000        1.538000                 0.657000  0.394000   \n",
       "0          1.340000        1.587000                 0.986000  0.596000   \n",
       "129        0.741900        0.385620                 0.729260  0.405770   \n",
       "60         0.776000        1.209000                 0.706000  0.511000   \n",
       "\n",
       "     Perceptions of corruption  Generosity  \n",
       "138                   0.085000    0.177000  \n",
       "54                    0.063283    0.206674  \n",
       "69                    0.073960    0.252960  \n",
       "24                    0.061000    0.197000  \n",
       "7                     0.380000    0.330000  \n",
       "..                         ...         ...  \n",
       "143                   0.093000    0.107000  \n",
       "86                    0.028000    0.244000  \n",
       "0                     0.393000    0.153000  \n",
       "129                   0.383310    0.055470  \n",
       "60                    0.064000    0.137000  \n",
       "\n",
       "[625 rows x 6 columns]"
      ]
     },
     "execution_count": 550,
     "metadata": {},
     "output_type": "execute_result"
    }
   ],
   "source": [
    "train_x.iloc[:, 2:]"
   ]
  },
  {
   "cell_type": "code",
   "execution_count": 551,
   "id": "powered-textbook",
   "metadata": {},
   "outputs": [
    {
     "ename": "ValueError",
     "evalue": "Input contains NaN, infinity or a value too large for dtype('float64').",
     "output_type": "error",
     "traceback": [
      "\u001b[0;31m---------------------------------------------------------------------------\u001b[0m",
      "\u001b[0;31mValueError\u001b[0m                                Traceback (most recent call last)",
      "\u001b[0;32m<ipython-input-551-552a98d65326>\u001b[0m in \u001b[0;36m<module>\u001b[0;34m\u001b[0m\n\u001b[1;32m      2\u001b[0m \u001b[0;31m# lr_reg = GridSearchCV(lr, param_grid={}, n_jobs = 5)\u001b[0m\u001b[0;34m\u001b[0m\u001b[0;34m\u001b[0m\u001b[0;34m\u001b[0m\u001b[0m\n\u001b[1;32m      3\u001b[0m \u001b[0mlr_reg\u001b[0m\u001b[0;34m.\u001b[0m\u001b[0mfit\u001b[0m\u001b[0;34m(\u001b[0m\u001b[0mtrain_x\u001b[0m\u001b[0;34m.\u001b[0m\u001b[0miloc\u001b[0m\u001b[0;34m[\u001b[0m\u001b[0;34m:\u001b[0m\u001b[0;34m,\u001b[0m \u001b[0;36m2\u001b[0m\u001b[0;34m:\u001b[0m\u001b[0;34m]\u001b[0m\u001b[0;34m,\u001b[0m \u001b[0mtrain_y\u001b[0m\u001b[0;34m)\u001b[0m \u001b[0;31m# keep the countries # index without it\u001b[0m\u001b[0;34m\u001b[0m\u001b[0;34m\u001b[0m\u001b[0m\n\u001b[0;32m----> 4\u001b[0;31m \u001b[0mhyp\u001b[0m \u001b[0;34m=\u001b[0m \u001b[0mlr_reg\u001b[0m\u001b[0;34m.\u001b[0m\u001b[0mpredict\u001b[0m\u001b[0;34m(\u001b[0m\u001b[0mtest_x\u001b[0m\u001b[0;34m.\u001b[0m\u001b[0miloc\u001b[0m\u001b[0;34m[\u001b[0m\u001b[0;34m:\u001b[0m\u001b[0;34m,\u001b[0m \u001b[0;36m2\u001b[0m\u001b[0;34m:\u001b[0m\u001b[0;34m]\u001b[0m\u001b[0;34m)\u001b[0m\u001b[0;34m\u001b[0m\u001b[0;34m\u001b[0m\u001b[0m\n\u001b[0m",
      "\u001b[0;32m/Library/Frameworks/Python.framework/Versions/3.9/lib/python3.9/site-packages/sklearn/linear_model/_base.py\u001b[0m in \u001b[0;36mpredict\u001b[0;34m(self, X)\u001b[0m\n\u001b[1;32m    236\u001b[0m             \u001b[0mReturns\u001b[0m \u001b[0mpredicted\u001b[0m \u001b[0mvalues\u001b[0m\u001b[0;34m.\u001b[0m\u001b[0;34m\u001b[0m\u001b[0;34m\u001b[0m\u001b[0m\n\u001b[1;32m    237\u001b[0m         \"\"\"\n\u001b[0;32m--> 238\u001b[0;31m         \u001b[0;32mreturn\u001b[0m \u001b[0mself\u001b[0m\u001b[0;34m.\u001b[0m\u001b[0m_decision_function\u001b[0m\u001b[0;34m(\u001b[0m\u001b[0mX\u001b[0m\u001b[0;34m)\u001b[0m\u001b[0;34m\u001b[0m\u001b[0;34m\u001b[0m\u001b[0m\n\u001b[0m\u001b[1;32m    239\u001b[0m \u001b[0;34m\u001b[0m\u001b[0m\n\u001b[1;32m    240\u001b[0m     \u001b[0m_preprocess_data\u001b[0m \u001b[0;34m=\u001b[0m \u001b[0mstaticmethod\u001b[0m\u001b[0;34m(\u001b[0m\u001b[0m_preprocess_data\u001b[0m\u001b[0;34m)\u001b[0m\u001b[0;34m\u001b[0m\u001b[0;34m\u001b[0m\u001b[0m\n",
      "\u001b[0;32m/Library/Frameworks/Python.framework/Versions/3.9/lib/python3.9/site-packages/sklearn/linear_model/_base.py\u001b[0m in \u001b[0;36m_decision_function\u001b[0;34m(self, X)\u001b[0m\n\u001b[1;32m    218\u001b[0m         \u001b[0mcheck_is_fitted\u001b[0m\u001b[0;34m(\u001b[0m\u001b[0mself\u001b[0m\u001b[0;34m)\u001b[0m\u001b[0;34m\u001b[0m\u001b[0;34m\u001b[0m\u001b[0m\n\u001b[1;32m    219\u001b[0m \u001b[0;34m\u001b[0m\u001b[0m\n\u001b[0;32m--> 220\u001b[0;31m         \u001b[0mX\u001b[0m \u001b[0;34m=\u001b[0m \u001b[0mcheck_array\u001b[0m\u001b[0;34m(\u001b[0m\u001b[0mX\u001b[0m\u001b[0;34m,\u001b[0m \u001b[0maccept_sparse\u001b[0m\u001b[0;34m=\u001b[0m\u001b[0;34m[\u001b[0m\u001b[0;34m'csr'\u001b[0m\u001b[0;34m,\u001b[0m \u001b[0;34m'csc'\u001b[0m\u001b[0;34m,\u001b[0m \u001b[0;34m'coo'\u001b[0m\u001b[0;34m]\u001b[0m\u001b[0;34m)\u001b[0m\u001b[0;34m\u001b[0m\u001b[0;34m\u001b[0m\u001b[0m\n\u001b[0m\u001b[1;32m    221\u001b[0m         return safe_sparse_dot(X, self.coef_.T,\n\u001b[1;32m    222\u001b[0m                                dense_output=True) + self.intercept_\n",
      "\u001b[0;32m/Library/Frameworks/Python.framework/Versions/3.9/lib/python3.9/site-packages/sklearn/utils/validation.py\u001b[0m in \u001b[0;36minner_f\u001b[0;34m(*args, **kwargs)\u001b[0m\n\u001b[1;32m     61\u001b[0m             \u001b[0mextra_args\u001b[0m \u001b[0;34m=\u001b[0m \u001b[0mlen\u001b[0m\u001b[0;34m(\u001b[0m\u001b[0margs\u001b[0m\u001b[0;34m)\u001b[0m \u001b[0;34m-\u001b[0m \u001b[0mlen\u001b[0m\u001b[0;34m(\u001b[0m\u001b[0mall_args\u001b[0m\u001b[0;34m)\u001b[0m\u001b[0;34m\u001b[0m\u001b[0;34m\u001b[0m\u001b[0m\n\u001b[1;32m     62\u001b[0m             \u001b[0;32mif\u001b[0m \u001b[0mextra_args\u001b[0m \u001b[0;34m<=\u001b[0m \u001b[0;36m0\u001b[0m\u001b[0;34m:\u001b[0m\u001b[0;34m\u001b[0m\u001b[0;34m\u001b[0m\u001b[0m\n\u001b[0;32m---> 63\u001b[0;31m                 \u001b[0;32mreturn\u001b[0m \u001b[0mf\u001b[0m\u001b[0;34m(\u001b[0m\u001b[0;34m*\u001b[0m\u001b[0margs\u001b[0m\u001b[0;34m,\u001b[0m \u001b[0;34m**\u001b[0m\u001b[0mkwargs\u001b[0m\u001b[0;34m)\u001b[0m\u001b[0;34m\u001b[0m\u001b[0;34m\u001b[0m\u001b[0m\n\u001b[0m\u001b[1;32m     64\u001b[0m \u001b[0;34m\u001b[0m\u001b[0m\n\u001b[1;32m     65\u001b[0m             \u001b[0;31m# extra_args > 0\u001b[0m\u001b[0;34m\u001b[0m\u001b[0;34m\u001b[0m\u001b[0;34m\u001b[0m\u001b[0m\n",
      "\u001b[0;32m/Library/Frameworks/Python.framework/Versions/3.9/lib/python3.9/site-packages/sklearn/utils/validation.py\u001b[0m in \u001b[0;36mcheck_array\u001b[0;34m(array, accept_sparse, accept_large_sparse, dtype, order, copy, force_all_finite, ensure_2d, allow_nd, ensure_min_samples, ensure_min_features, estimator)\u001b[0m\n\u001b[1;32m    661\u001b[0m \u001b[0;34m\u001b[0m\u001b[0m\n\u001b[1;32m    662\u001b[0m         \u001b[0;32mif\u001b[0m \u001b[0mforce_all_finite\u001b[0m\u001b[0;34m:\u001b[0m\u001b[0;34m\u001b[0m\u001b[0;34m\u001b[0m\u001b[0m\n\u001b[0;32m--> 663\u001b[0;31m             _assert_all_finite(array,\n\u001b[0m\u001b[1;32m    664\u001b[0m                                allow_nan=force_all_finite == 'allow-nan')\n\u001b[1;32m    665\u001b[0m \u001b[0;34m\u001b[0m\u001b[0m\n",
      "\u001b[0;32m/Library/Frameworks/Python.framework/Versions/3.9/lib/python3.9/site-packages/sklearn/utils/validation.py\u001b[0m in \u001b[0;36m_assert_all_finite\u001b[0;34m(X, allow_nan, msg_dtype)\u001b[0m\n\u001b[1;32m    101\u001b[0m                 not allow_nan and not np.isfinite(X).all()):\n\u001b[1;32m    102\u001b[0m             \u001b[0mtype_err\u001b[0m \u001b[0;34m=\u001b[0m \u001b[0;34m'infinity'\u001b[0m \u001b[0;32mif\u001b[0m \u001b[0mallow_nan\u001b[0m \u001b[0;32melse\u001b[0m \u001b[0;34m'NaN, infinity'\u001b[0m\u001b[0;34m\u001b[0m\u001b[0;34m\u001b[0m\u001b[0m\n\u001b[0;32m--> 103\u001b[0;31m             raise ValueError(\n\u001b[0m\u001b[1;32m    104\u001b[0m                     \u001b[0mmsg_err\u001b[0m\u001b[0;34m.\u001b[0m\u001b[0mformat\u001b[0m\u001b[0;34m\u001b[0m\u001b[0;34m\u001b[0m\u001b[0m\n\u001b[1;32m    105\u001b[0m                     (type_err,\n",
      "\u001b[0;31mValueError\u001b[0m: Input contains NaN, infinity or a value too large for dtype('float64')."
     ]
    }
   ],
   "source": [
    "lr_reg = LinearRegression()\n",
    "# lr_reg = GridSearchCV(lr, param_grid={}, n_jobs = 5)\n",
    "lr_reg.fit(train_x.iloc[:, 2:], train_y) # keep the countries # index without it \n",
    "hyp = lr_reg.predict(test_x.iloc[:, 2:])"
   ]
  },
  {
   "cell_type": "code",
   "execution_count": null,
   "id": "italian-bridal",
   "metadata": {},
   "outputs": [],
   "source": [
    "# r2_score = r2_score(test_y, hyp)\n",
    "# var = explained_variance_score(test_y, hyp)\n",
    "# mse = mean_squared_error(test_y, hyp)\n",
    "# print('R2 score...\\t', r2_score)\n",
    "# print('Variance explained...\\t', var)\n",
    "# print('Mean squared error...\\t', mse)"
   ]
  },
  {
   "cell_type": "markdown",
   "id": "civic-representative",
   "metadata": {},
   "source": [
    "# References\n",
    "- [Happiness Data Analysis 2015-2019](https://www.kaggle.com/kojisera/happiness-data-analysis-2015-2019) - See top happy 30 countries scatter plot for 2015-2019"
   ]
  },
  {
   "cell_type": "code",
   "execution_count": null,
   "id": "hairy-argument",
   "metadata": {},
   "outputs": [],
   "source": []
  },
  {
   "cell_type": "code",
   "execution_count": null,
   "id": "round-bulgaria",
   "metadata": {},
   "outputs": [],
   "source": []
  },
  {
   "cell_type": "code",
   "execution_count": null,
   "id": "personalized-auckland",
   "metadata": {},
   "outputs": [],
   "source": []
  }
 ],
 "metadata": {
  "kernelspec": {
   "display_name": "Python 3",
   "language": "python",
   "name": "python3"
  },
  "language_info": {
   "codemirror_mode": {
    "name": "ipython",
    "version": 3
   },
   "file_extension": ".py",
   "mimetype": "text/x-python",
   "name": "python",
   "nbconvert_exporter": "python",
   "pygments_lexer": "ipython3",
   "version": "3.9.2"
  }
 },
 "nbformat": 4,
 "nbformat_minor": 5
}
