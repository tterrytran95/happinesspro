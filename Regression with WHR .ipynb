{
 "cells": [
  {
   "cell_type": "code",
   "execution_count": 671,
   "id": "instrumental-alexander",
   "metadata": {},
   "outputs": [],
   "source": [
    "import pandas as pd\n",
    "import numpy as np\n",
    "import seaborn as sns\n",
    "import matplotlib.pyplot as plt\n",
    "import pickle\n",
    "from sklearn.linear_model import LinearRegression\n",
    "from sklearn.model_selection import GridSearchCV, train_test_split\n",
    "from sklearn.preprocessing import StandardScaler\n",
    "from sklearn.metrics import r2_score, mean_squared_error, explained_variance_score"
   ]
  },
  {
   "cell_type": "code",
   "execution_count": 672,
   "id": "improved-nickname",
   "metadata": {},
   "outputs": [],
   "source": [
    "with open('dataframes/df2015', 'rb') as f_2015:\n",
    "    df2015 = pickle.load(f_2015)\n",
    "f_2015.close()\n",
    "\n",
    "with open('dataframes/df2016', 'rb') as f_2016:\n",
    "    df2016 = pickle.load(f_2016)\n",
    "f_2016.close()\n",
    "\n",
    "with open('dataframes/df2017', 'rb') as f_2017:\n",
    "    df2017 = pickle.load(f_2017)\n",
    "f_2017.close()\n",
    "\n",
    "with open('dataframes/df2018', 'rb') as f_2018:\n",
    "    df2018 = pickle.load(f_2018)\n",
    "f_2018.close()\n",
    "\n",
    "with open('dataframes/df2019', 'rb') as f_2019:\n",
    "    df2019 = pickle.load(f_2019)\n",
    "f_2019.close()\n",
    "\n",
    "with open('dataframes/df2020', 'rb') as f_2020:\n",
    "    df2020 = pickle.load(f_2020)\n",
    "f_2020.close()\n",
    "\n",
    "with open('dataframes/df_all', 'rb') as f_all:\n",
    "    df_all = pickle.load(f_all)\n",
    "f_all.close()\n",
    "\n",
    "with open('dataframes/df_feats', 'rb') as f_feats:\n",
    "    df_feats = pickle.load(f_feats)\n",
    "f_feats.close()"
   ]
  },
  {
   "cell_type": "markdown",
   "id": "neither-mineral",
   "metadata": {},
   "source": [
    "# Linear Regression\n",
    "- The data in this set lends itself to linear regression since the happiness score is positively correlated with all its features as seen in the EDA steps. \n",
    "- GDP is the highest correlated features. \n",
    "- Since there are only 7 features, it's likely that we won't need to perform PCA on the dataset since there is no worthy feature to remove. These have all been engineered to be linearly correlated with our target (happiness). \n",
    "- Here, we will explore different ways regression can be applied to this dataset to make predictions."
   ]
  },
  {
   "cell_type": "markdown",
   "id": "legitimate-configuration",
   "metadata": {},
   "source": [
    "### Question 1: What is the happines score of each country for 2020 given the 2020 features?\n",
    "- we predicted for MOST countries based on SOME countries for this one"
   ]
  },
  {
   "cell_type": "code",
   "execution_count": 673,
   "id": "chicken-interview",
   "metadata": {},
   "outputs": [],
   "source": [
    "Y = df2020['Score'] # target \n",
    "X = df2020.iloc[:, 1:].drop(['Score'],axis='columns') # features \n",
    "train_x, test_x, train_y, test_y = train_test_split(X, Y, test_size=.2)\n",
    "# print(train_x.shape)\n",
    "# print(test_y.shape) # ok! "
   ]
  },
  {
   "cell_type": "code",
   "execution_count": 674,
   "id": "eastern-tulsa",
   "metadata": {},
   "outputs": [],
   "source": [
    "scaler = StandardScaler()\n",
    "train_x = scaler.fit_transform(train_x.iloc[:, 1:])\n",
    "test_x = scaler.transform(test_x.iloc[:, 1:])"
   ]
  },
  {
   "cell_type": "code",
   "execution_count": 675,
   "id": "gentle-bathroom",
   "metadata": {},
   "outputs": [],
   "source": [
    "lr_reg = LinearRegression()\n",
    "lr_reg.fit(train_x, train_y) # keep the countries # index without it \n",
    "hyp = lr_reg.predict(test_x)"
   ]
  },
  {
   "cell_type": "code",
   "execution_count": 676,
   "id": "northern-government",
   "metadata": {},
   "outputs": [
    {
     "name": "stdout",
     "output_type": "stream",
     "text": [
      "R2 score...          \t 0.7674583920737953\n",
      "Variance explained...\t 0.7837391581941752\n",
      "Mean squared error...\t 0.2643099252837662\n"
     ]
    }
   ],
   "source": [
    "# metrics\n",
    "res = test_y - hyp\n",
    "r2_score = r2_score(test_y, hyp)\n",
    "var = explained_variance_score(test_y, hyp)\n",
    "mse = mean_squared_error(test_y, hyp)\n",
    "print('R2 score...          \\t', r2_score)\n",
    "print('Variance explained...\\t', var)\n",
    "print('Mean squared error...\\t', mse)\n",
    "# DON'T TOUCH THIS # IT'S VERY GOOD"
   ]
  },
  {
   "cell_type": "code",
   "execution_count": 617,
   "id": "center-latex",
   "metadata": {},
   "outputs": [],
   "source": [
    "# tell me which countries were predicted and what they are"
   ]
  },
  {
   "cell_type": "markdown",
   "id": "modern-cornwall",
   "metadata": {},
   "source": [
    "### Question 2: What is the happiness score of each country for 2020 given the the data from past years (2015-2019)?\n",
    "- This is kind of a hot mess\n",
    "- See how Ariana does this?"
   ]
  },
  {
   "cell_type": "code",
   "execution_count": 627,
   "id": "optimum-shell",
   "metadata": {},
   "outputs": [],
   "source": [
    "Y = df_feats['Score'] # target \n",
    "X = df_feats.iloc[:, 1:].drop(['Score'],axis='columns') # features \n",
    "train_x, test_x, train_y, test_y = train_test_split(X, Y, test_size=.2)\n",
    "# print(train_x.shape)\n",
    "# print(test_y.shape) # ok! "
   ]
  },
  {
   "cell_type": "code",
   "execution_count": 628,
   "id": "wireless-vietnamese",
   "metadata": {},
   "outputs": [],
   "source": [
    "# scaler = StandardScaler()\n",
    "# train_x = scaler.fit_transform(train_x.iloc[:, 1:])\n",
    "# test_x = scaler.fit(test_x.iloc[:, 1:])"
   ]
  },
  {
   "cell_type": "code",
   "execution_count": 629,
   "id": "varying-guidance",
   "metadata": {},
   "outputs": [],
   "source": [
    "# lr_reg = LinearRegression()\n",
    "# lr_reg = GridSearchCV(lr, param_grid={}, n_jobs = 5)\n",
    "# lr_reg.fit(train_x.iloc[:, 2:], train_y) # keep the countries # index without it \n",
    "# hyp = lr_reg.predict(test_x.iloc[:, 2:])"
   ]
  },
  {
   "cell_type": "code",
   "execution_count": null,
   "id": "local-angola",
   "metadata": {},
   "outputs": [],
   "source": [
    "# r2_score = r2_score(test_y, hyp)\n",
    "# var = explained_variance_score(test_y, hyp)\n",
    "# mse = mean_squared_error(test_y, hyp)\n",
    "# print('R2 score...\\t', r2_score)\n",
    "# print('Variance explained...\\t', var)\n",
    "# print('Mean squared error...\\t', mse)"
   ]
  },
  {
   "cell_type": "markdown",
   "id": "empty-variety",
   "metadata": {},
   "source": [
    "### Question 3: Given that we predict the each feature for 2020, can we obtain a valid happiness score?\n",
    "- We will predict the GDP for 2020 given 2015-2019, Health Life Expectancy for 2020 given 2015-2019, etc. \n",
    "- Once those features are predicted, we will predict the happiness score! "
   ]
  },
  {
   "cell_type": "code",
   "execution_count": 630,
   "id": "human-functionality",
   "metadata": {},
   "outputs": [
    {
     "name": "stdout",
     "output_type": "stream",
     "text": [
      "(158, 10)\n",
      "(153, 9)\n"
     ]
    }
   ],
   "source": [
    "print(df2015.shape)\n",
    "print(df2020.shape)"
   ]
  },
  {
   "cell_type": "code",
   "execution_count": null,
   "id": "utility-incidence",
   "metadata": {},
   "outputs": [],
   "source": [
    "# GDP per capita"
   ]
  },
  {
   "cell_type": "code",
   "execution_count": null,
   "id": "invalid-spare",
   "metadata": {},
   "outputs": [],
   "source": [
    "# Healthy life expectancy"
   ]
  },
  {
   "cell_type": "code",
   "execution_count": null,
   "id": "grand-virgin",
   "metadata": {},
   "outputs": [],
   "source": [
    "# Social support"
   ]
  },
  {
   "cell_type": "code",
   "execution_count": null,
   "id": "considered-juvenile",
   "metadata": {},
   "outputs": [],
   "source": [
    "# Freedom to make life choices"
   ]
  },
  {
   "cell_type": "code",
   "execution_count": null,
   "id": "electric-jefferson",
   "metadata": {},
   "outputs": [],
   "source": [
    "# Perceptions of corruption"
   ]
  },
  {
   "cell_type": "code",
   "execution_count": null,
   "id": "developed-flood",
   "metadata": {},
   "outputs": [],
   "source": [
    "# Generosity"
   ]
  },
  {
   "cell_type": "markdown",
   "id": "civic-representative",
   "metadata": {},
   "source": [
    "# References\n",
    "- [Happiness Data Analysis 2015-2019](https://www.kaggle.com/kojisera/happiness-data-analysis-2015-2019) - See top happy 30 countries scatter plot for 2015-2019"
   ]
  },
  {
   "cell_type": "code",
   "execution_count": null,
   "id": "hairy-argument",
   "metadata": {},
   "outputs": [],
   "source": []
  },
  {
   "cell_type": "code",
   "execution_count": null,
   "id": "considerable-monitoring",
   "metadata": {},
   "outputs": [],
   "source": []
  },
  {
   "cell_type": "code",
   "execution_count": null,
   "id": "defensive-german",
   "metadata": {},
   "outputs": [],
   "source": []
  }
 ],
 "metadata": {
  "kernelspec": {
   "display_name": "Python 3",
   "language": "python",
   "name": "python3"
  },
  "language_info": {
   "codemirror_mode": {
    "name": "ipython",
    "version": 3
   },
   "file_extension": ".py",
   "mimetype": "text/x-python",
   "name": "python",
   "nbconvert_exporter": "python",
   "pygments_lexer": "ipython3",
   "version": "3.9.2"
  }
 },
 "nbformat": 4,
 "nbformat_minor": 5
}
