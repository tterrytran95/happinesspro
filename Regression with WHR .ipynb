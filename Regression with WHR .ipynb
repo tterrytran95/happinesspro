{
 "cells": [
  {
   "cell_type": "code",
   "execution_count": 2139,
   "id": "instrumental-alexander",
   "metadata": {},
   "outputs": [],
   "source": [
    "import pandas as pd\n",
    "import numpy as np\n",
    "import seaborn as sns\n",
    "import geopandas as gp\n",
    "import matplotlib.pyplot as plt\n",
    "import plotly.express as px\n",
    "import plotly.graph_objects as go\n",
    "import pickle\n",
    "from sklearn.preprocessing import OneHotEncoder, LabelEncoder\n",
    "from sklearn.linear_model import LinearRegression\n",
    "from sklearn.model_selection import GridSearchCV, train_test_split\n",
    "from sklearn.preprocessing import StandardScaler\n",
    "from sklearn.metrics import r2_score, mean_squared_error, explained_variance_score"
   ]
  },
  {
   "cell_type": "code",
   "execution_count": 2140,
   "id": "improved-nickname",
   "metadata": {},
   "outputs": [],
   "source": [
    "with open('dataframes/df2015', 'rb') as f_2015:\n",
    "    df2015 = pickle.load(f_2015)\n",
    "f_2015.close()\n",
    "\n",
    "with open('dataframes/df2016', 'rb') as f_2016:\n",
    "    df2016 = pickle.load(f_2016)\n",
    "f_2016.close()\n",
    "\n",
    "with open('dataframes/df2017', 'rb') as f_2017:\n",
    "    df2017 = pickle.load(f_2017)\n",
    "f_2017.close()\n",
    "\n",
    "with open('dataframes/df2018', 'rb') as f_2018:\n",
    "    df2018 = pickle.load(f_2018)\n",
    "f_2018.close()\n",
    "\n",
    "with open('dataframes/df2019', 'rb') as f_2019:\n",
    "    df2019 = pickle.load(f_2019)\n",
    "f_2019.close()\n",
    "\n",
    "with open('dataframes/df2020', 'rb') as f_2020:\n",
    "    df2020 = pickle.load(f_2020)\n",
    "f_2020.close()"
   ]
  },
  {
   "cell_type": "markdown",
   "id": "neither-mineral",
   "metadata": {},
   "source": [
    "# Linear Regression\n",
    "- The data in this set lends itself to linear regression since the happiness score is positively correlated with all its features as seen in the EDA steps. \n",
    "- GDP is the highest correlated features. \n",
    "- Since there are only 7 features, it's likely that we won't need to perform PCA on the dataset since there is no worthy feature to remove. These have all been engineered to be linearly correlated with our target (happiness). \n",
    "- Here, we will explore different ways regression can be applied to this dataset to make predictions."
   ]
  },
  {
   "cell_type": "markdown",
   "id": "legitimate-configuration",
   "metadata": {},
   "source": [
    "### Question 1: What is the happines score of each country for 2020 given the 2020 features?\n",
    "- we predicted for MOST countries based on SOME countries for this one"
   ]
  },
  {
   "cell_type": "code",
   "execution_count": 2141,
   "id": "chicken-interview",
   "metadata": {},
   "outputs": [],
   "source": [
    "Y = df2020['Score'] # target \n",
    "X = df2020.iloc[:, 1:].drop(['Score'],axis='columns') # features \n",
    "train_x, test_x, train_y, test_y = train_test_split(X, Y, test_size=.2)\n",
    "# print(train_x.shape)\n",
    "# print(test_y.shape) # ok! "
   ]
  },
  {
   "cell_type": "code",
   "execution_count": 2142,
   "id": "eastern-tulsa",
   "metadata": {},
   "outputs": [],
   "source": [
    "scaler = StandardScaler()\n",
    "train_x = scaler.fit_transform(train_x.iloc[:, 1:])\n",
    "test_x = scaler.transform(test_x.iloc[:, 1:])"
   ]
  },
  {
   "cell_type": "code",
   "execution_count": 2143,
   "id": "gentle-bathroom",
   "metadata": {},
   "outputs": [],
   "source": [
    "lr_reg = LinearRegression()\n",
    "lr_reg.fit(train_x, train_y) # keep the countries # index without it \n",
    "hyp = lr_reg.predict(test_x)"
   ]
  },
  {
   "cell_type": "code",
   "execution_count": 2144,
   "id": "northern-government",
   "metadata": {},
   "outputs": [
    {
     "name": "stdout",
     "output_type": "stream",
     "text": [
      "R2 score...          \t 0.9497218579502714\n",
      "Variance explained...\t 0.9542726165605359\n",
      "Mean squared error...\t 0.055976563709964025\n"
     ]
    }
   ],
   "source": [
    "# metrics\n",
    "res = test_y - hyp\n",
    "r2 = r2_score(test_y, hyp)\n",
    "var = explained_variance_score(test_y, hyp)\n",
    "mse = mean_squared_error(test_y, hyp)\n",
    "print('R2 score...          \\t', r2)\n",
    "print('Variance explained...\\t', var)\n",
    "print('Mean squared error...\\t', mse)"
   ]
  },
  {
   "cell_type": "markdown",
   "id": "modern-cornwall",
   "metadata": {},
   "source": [
    "### Question 2: What is the happiness score of each country for 2020 given the the data from past years (2015-2019)?\n",
    "- This is kind of a hot mess\n",
    "- See how Ariana does this?"
   ]
  },
  {
   "cell_type": "code",
   "execution_count": 2145,
   "id": "optimum-shell",
   "metadata": {},
   "outputs": [],
   "source": [
    "Y = df_feats['Score'] # target \n",
    "X = df_feats.iloc[:, 1:].drop(['Score'],axis='columns') # features \n",
    "train_x, test_x, train_y, test_y = train_test_split(X, Y, test_size=.2)\n",
    "# print(train_x.shape)\n",
    "# print(test_y.shape) # ok! "
   ]
  },
  {
   "cell_type": "code",
   "execution_count": 2146,
   "id": "wireless-vietnamese",
   "metadata": {},
   "outputs": [],
   "source": [
    "# scaler = StandardScaler()\n",
    "# train_x = scaler.fit_transform(train_x.iloc[:, 1:])\n",
    "# test_x = scaler.fit(test_x.iloc[:, 1:])"
   ]
  },
  {
   "cell_type": "code",
   "execution_count": 2147,
   "id": "varying-guidance",
   "metadata": {},
   "outputs": [],
   "source": [
    "# lr_reg = LinearRegression()\n",
    "# lr_reg = GridSearchCV(lr, param_grid={}, n_jobs = 5)\n",
    "# lr_reg.fit(train_x.iloc[:, 2:], train_y) # keep the countries # index without it \n",
    "# hyp = lr_reg.predict(test_x.iloc[:, 2:])"
   ]
  },
  {
   "cell_type": "code",
   "execution_count": 2148,
   "id": "local-angola",
   "metadata": {},
   "outputs": [],
   "source": [
    "# r2_score = r2_score(test_y, hyp)\n",
    "# var = explained_variance_score(test_y, hyp)\n",
    "# mse = mean_squared_error(test_y, hyp)\n",
    "# print('R2 score...\\t', r2_score)\n",
    "# print('Variance explained...\\t', var)\n",
    "# print('Mean squared error...\\t', mse)"
   ]
  },
  {
   "cell_type": "markdown",
   "id": "empty-variety",
   "metadata": {},
   "source": [
    "### Question 3: Given that we predict the each feature for 2020, can we obtain a valid happiness score?\n",
    "- We will predict the GDP for 2020 given 2015-2019, Health Life Expectancy for 2020 given 2015-2019, etc. \n",
    "- Once those features are predicted, we will predict the happiness score! \n",
    "### How to do it\n",
    "- Start by generating features for 2019 (based on 2015-18)\n",
    "- The 2019 data is used to test the output of the previous years\n",
    "- We will create a set of features trained/tested by 2015-19\n",
    "- At last, then we will use this model "
   ]
  },
  {
   "cell_type": "markdown",
   "id": "active-amazon",
   "metadata": {},
   "source": [
    "### Preliminary preprocessing\n",
    "- Fill na\n",
    "- Encode countries"
   ]
  },
  {
   "cell_type": "code",
   "execution_count": 2149,
   "id": "agreed-nepal",
   "metadata": {},
   "outputs": [],
   "source": [
    "# put all features (2015-2019) together\n",
    "df_all = pd.concat([df2015, df2016, df2017, df2018, df2019, df2020])\n",
    "# df_all = pd.concat([df2015, df2016, df2017, df2018])\n",
    "df_all[df_all['Perceptions of corruption'].isna()] # one null value \n",
    "mean = df_all[df_all['Country or region'] == 'United Arab Emirates']['Perceptions of corruption'].mean() # get avg \n",
    "df_all = df_all.fillna(mean) # fill na with mean"
   ]
  },
  {
   "cell_type": "markdown",
   "id": "electrical-variation",
   "metadata": {},
   "source": [
    "### Preparing data frame for some Visuals with this data"
   ]
  },
  {
   "cell_type": "code",
   "execution_count": 2150,
   "id": "ancient-sleep",
   "metadata": {},
   "outputs": [],
   "source": [
    "### select some countries \n",
    "avg_countries = ['South Korea', 'United States', 'Canada', 'Russia']\n",
    "top_countries = df2020['Country or region'].iloc[:10].tolist()\n",
    "bottom_countries = df2020['Country or region'].iloc[-10:].tolist()\n",
    "countries = top_countries + avg_countries + bottom_countries\n",
    "df_i=df_all[df_all['Country or region'].isin(countries)]"
   ]
  },
  {
   "cell_type": "code",
   "execution_count": 2151,
   "id": "mental-trainer",
   "metadata": {},
   "outputs": [],
   "source": [
    "def plot_line(category):\n",
    "    fig = px.line(data_frame=df_i, x='year', y=category, \n",
    "                  color='Country or region', title=category+' by country')\n",
    "    fig.show()"
   ]
  },
  {
   "cell_type": "code",
   "execution_count": 2152,
   "id": "continuing-flood",
   "metadata": {},
   "outputs": [],
   "source": [
    "def plot_scatter(category):\n",
    "    fig = px.scatter(data_frame=df_i, x='Country or region', y=category, \n",
    "                     color='year', title=category+ ' by year')\n",
    "    fig.show()"
   ]
  },
  {
   "cell_type": "markdown",
   "id": "mineral-governor",
   "metadata": {},
   "source": [
    "### Encode countries for regression"
   ]
  },
  {
   "cell_type": "code",
   "execution_count": 2153,
   "id": "junior-modem",
   "metadata": {},
   "outputs": [],
   "source": [
    "# one hot encode countries\n",
    "ohe = OneHotEncoder()\n",
    "le = LabelEncoder()\n",
    "le_country = le.fit_transform(df_all['Country or region'])\n",
    "enc_country = pd.DataFrame(le_country, columns=['enc_country'])\n",
    "ohe_country = ohe.fit_transform(enc_country[['enc_country']])\n",
    "oh_enc_country = pd.DataFrame(ohe_country.toarray())"
   ]
  },
  {
   "cell_type": "code",
   "execution_count": 2154,
   "id": "declared-rates",
   "metadata": {},
   "outputs": [],
   "source": [
    "df_all = df_all.join(oh_enc_country).reset_index()"
   ]
  },
  {
   "cell_type": "code",
   "execution_count": 2155,
   "id": "hindu-turning",
   "metadata": {},
   "outputs": [
    {
     "data": {
      "text/html": [
       "<div>\n",
       "<style scoped>\n",
       "    .dataframe tbody tr th:only-of-type {\n",
       "        vertical-align: middle;\n",
       "    }\n",
       "\n",
       "    .dataframe tbody tr th {\n",
       "        vertical-align: top;\n",
       "    }\n",
       "\n",
       "    .dataframe thead th {\n",
       "        text-align: right;\n",
       "    }\n",
       "</style>\n",
       "<table border=\"1\" class=\"dataframe\">\n",
       "  <thead>\n",
       "    <tr style=\"text-align: right;\">\n",
       "      <th></th>\n",
       "      <th>index</th>\n",
       "      <th>year</th>\n",
       "      <th>Country or region</th>\n",
       "      <th>Overall rank</th>\n",
       "      <th>Score</th>\n",
       "      <th>GDP per capita</th>\n",
       "      <th>Social support</th>\n",
       "      <th>Healthy life expectancy</th>\n",
       "      <th>Freedom</th>\n",
       "      <th>Perceptions of corruption</th>\n",
       "      <th>...</th>\n",
       "      <th>128</th>\n",
       "      <th>129</th>\n",
       "      <th>130</th>\n",
       "      <th>131</th>\n",
       "      <th>132</th>\n",
       "      <th>133</th>\n",
       "      <th>134</th>\n",
       "      <th>135</th>\n",
       "      <th>136</th>\n",
       "      <th>137</th>\n",
       "    </tr>\n",
       "  </thead>\n",
       "  <tbody>\n",
       "    <tr>\n",
       "      <th>0</th>\n",
       "      <td>0</td>\n",
       "      <td>2015</td>\n",
       "      <td>Switzerland</td>\n",
       "      <td>1</td>\n",
       "      <td>7.587</td>\n",
       "      <td>1.396510</td>\n",
       "      <td>1.349510</td>\n",
       "      <td>0.941430</td>\n",
       "      <td>0.665570</td>\n",
       "      <td>0.419780</td>\n",
       "      <td>...</td>\n",
       "      <td>0.0</td>\n",
       "      <td>0.0</td>\n",
       "      <td>0.0</td>\n",
       "      <td>0.0</td>\n",
       "      <td>0.0</td>\n",
       "      <td>0.0</td>\n",
       "      <td>0.0</td>\n",
       "      <td>0.0</td>\n",
       "      <td>0.0</td>\n",
       "      <td>0.0</td>\n",
       "    </tr>\n",
       "    <tr>\n",
       "      <th>1</th>\n",
       "      <td>0</td>\n",
       "      <td>2016</td>\n",
       "      <td>Denmark</td>\n",
       "      <td>1</td>\n",
       "      <td>7.526</td>\n",
       "      <td>1.441780</td>\n",
       "      <td>1.163740</td>\n",
       "      <td>0.795040</td>\n",
       "      <td>0.579410</td>\n",
       "      <td>0.444530</td>\n",
       "      <td>...</td>\n",
       "      <td>0.0</td>\n",
       "      <td>0.0</td>\n",
       "      <td>0.0</td>\n",
       "      <td>0.0</td>\n",
       "      <td>0.0</td>\n",
       "      <td>0.0</td>\n",
       "      <td>0.0</td>\n",
       "      <td>0.0</td>\n",
       "      <td>0.0</td>\n",
       "      <td>0.0</td>\n",
       "    </tr>\n",
       "    <tr>\n",
       "      <th>2</th>\n",
       "      <td>0</td>\n",
       "      <td>2017</td>\n",
       "      <td>Norway</td>\n",
       "      <td>1</td>\n",
       "      <td>7.537</td>\n",
       "      <td>1.616463</td>\n",
       "      <td>1.533524</td>\n",
       "      <td>0.796667</td>\n",
       "      <td>0.635423</td>\n",
       "      <td>0.315964</td>\n",
       "      <td>...</td>\n",
       "      <td>0.0</td>\n",
       "      <td>0.0</td>\n",
       "      <td>0.0</td>\n",
       "      <td>0.0</td>\n",
       "      <td>0.0</td>\n",
       "      <td>0.0</td>\n",
       "      <td>0.0</td>\n",
       "      <td>0.0</td>\n",
       "      <td>0.0</td>\n",
       "      <td>0.0</td>\n",
       "    </tr>\n",
       "    <tr>\n",
       "      <th>3</th>\n",
       "      <td>0</td>\n",
       "      <td>2018</td>\n",
       "      <td>Finland</td>\n",
       "      <td>1</td>\n",
       "      <td>7.632</td>\n",
       "      <td>1.305000</td>\n",
       "      <td>1.592000</td>\n",
       "      <td>0.874000</td>\n",
       "      <td>0.681000</td>\n",
       "      <td>0.393000</td>\n",
       "      <td>...</td>\n",
       "      <td>0.0</td>\n",
       "      <td>0.0</td>\n",
       "      <td>0.0</td>\n",
       "      <td>0.0</td>\n",
       "      <td>0.0</td>\n",
       "      <td>0.0</td>\n",
       "      <td>0.0</td>\n",
       "      <td>0.0</td>\n",
       "      <td>0.0</td>\n",
       "      <td>0.0</td>\n",
       "    </tr>\n",
       "    <tr>\n",
       "      <th>4</th>\n",
       "      <td>0</td>\n",
       "      <td>2019</td>\n",
       "      <td>Finland</td>\n",
       "      <td>1</td>\n",
       "      <td>7.769</td>\n",
       "      <td>1.340000</td>\n",
       "      <td>1.587000</td>\n",
       "      <td>0.986000</td>\n",
       "      <td>0.596000</td>\n",
       "      <td>0.393000</td>\n",
       "      <td>...</td>\n",
       "      <td>0.0</td>\n",
       "      <td>0.0</td>\n",
       "      <td>0.0</td>\n",
       "      <td>0.0</td>\n",
       "      <td>0.0</td>\n",
       "      <td>0.0</td>\n",
       "      <td>0.0</td>\n",
       "      <td>0.0</td>\n",
       "      <td>0.0</td>\n",
       "      <td>0.0</td>\n",
       "    </tr>\n",
       "    <tr>\n",
       "      <th>...</th>\n",
       "      <td>...</td>\n",
       "      <td>...</td>\n",
       "      <td>...</td>\n",
       "      <td>...</td>\n",
       "      <td>...</td>\n",
       "      <td>...</td>\n",
       "      <td>...</td>\n",
       "      <td>...</td>\n",
       "      <td>...</td>\n",
       "      <td>...</td>\n",
       "      <td>...</td>\n",
       "      <td>...</td>\n",
       "      <td>...</td>\n",
       "      <td>...</td>\n",
       "      <td>...</td>\n",
       "      <td>...</td>\n",
       "      <td>...</td>\n",
       "      <td>...</td>\n",
       "      <td>...</td>\n",
       "      <td>...</td>\n",
       "      <td>...</td>\n",
       "    </tr>\n",
       "    <tr>\n",
       "      <th>823</th>\n",
       "      <td>154</td>\n",
       "      <td>2016</td>\n",
       "      <td>Togo</td>\n",
       "      <td>155</td>\n",
       "      <td>3.303</td>\n",
       "      <td>0.281230</td>\n",
       "      <td>0.000000</td>\n",
       "      <td>0.248110</td>\n",
       "      <td>0.346780</td>\n",
       "      <td>0.115870</td>\n",
       "      <td>...</td>\n",
       "      <td>0.0</td>\n",
       "      <td>0.0</td>\n",
       "      <td>0.0</td>\n",
       "      <td>0.0</td>\n",
       "      <td>0.0</td>\n",
       "      <td>0.0</td>\n",
       "      <td>0.0</td>\n",
       "      <td>0.0</td>\n",
       "      <td>0.0</td>\n",
       "      <td>0.0</td>\n",
       "    </tr>\n",
       "    <tr>\n",
       "      <th>824</th>\n",
       "      <td>155</td>\n",
       "      <td>2018</td>\n",
       "      <td>Burundi</td>\n",
       "      <td>156</td>\n",
       "      <td>2.905</td>\n",
       "      <td>0.091000</td>\n",
       "      <td>0.627000</td>\n",
       "      <td>0.145000</td>\n",
       "      <td>0.065000</td>\n",
       "      <td>0.076000</td>\n",
       "      <td>...</td>\n",
       "      <td>0.0</td>\n",
       "      <td>0.0</td>\n",
       "      <td>0.0</td>\n",
       "      <td>0.0</td>\n",
       "      <td>0.0</td>\n",
       "      <td>0.0</td>\n",
       "      <td>0.0</td>\n",
       "      <td>0.0</td>\n",
       "      <td>0.0</td>\n",
       "      <td>0.0</td>\n",
       "    </tr>\n",
       "    <tr>\n",
       "      <th>825</th>\n",
       "      <td>156</td>\n",
       "      <td>2015</td>\n",
       "      <td>Burundi</td>\n",
       "      <td>157</td>\n",
       "      <td>2.905</td>\n",
       "      <td>0.015300</td>\n",
       "      <td>0.415870</td>\n",
       "      <td>0.223960</td>\n",
       "      <td>0.118500</td>\n",
       "      <td>0.100620</td>\n",
       "      <td>...</td>\n",
       "      <td>0.0</td>\n",
       "      <td>0.0</td>\n",
       "      <td>0.0</td>\n",
       "      <td>0.0</td>\n",
       "      <td>0.0</td>\n",
       "      <td>0.0</td>\n",
       "      <td>0.0</td>\n",
       "      <td>0.0</td>\n",
       "      <td>0.0</td>\n",
       "      <td>0.0</td>\n",
       "    </tr>\n",
       "    <tr>\n",
       "      <th>826</th>\n",
       "      <td>156</td>\n",
       "      <td>2016</td>\n",
       "      <td>Burundi</td>\n",
       "      <td>157</td>\n",
       "      <td>2.905</td>\n",
       "      <td>0.068310</td>\n",
       "      <td>0.234420</td>\n",
       "      <td>0.157470</td>\n",
       "      <td>0.043200</td>\n",
       "      <td>0.094190</td>\n",
       "      <td>...</td>\n",
       "      <td>0.0</td>\n",
       "      <td>0.0</td>\n",
       "      <td>0.0</td>\n",
       "      <td>0.0</td>\n",
       "      <td>0.0</td>\n",
       "      <td>0.0</td>\n",
       "      <td>0.0</td>\n",
       "      <td>0.0</td>\n",
       "      <td>0.0</td>\n",
       "      <td>0.0</td>\n",
       "    </tr>\n",
       "    <tr>\n",
       "      <th>827</th>\n",
       "      <td>157</td>\n",
       "      <td>2015</td>\n",
       "      <td>Togo</td>\n",
       "      <td>158</td>\n",
       "      <td>2.839</td>\n",
       "      <td>0.208680</td>\n",
       "      <td>0.139950</td>\n",
       "      <td>0.284430</td>\n",
       "      <td>0.364530</td>\n",
       "      <td>0.107310</td>\n",
       "      <td>...</td>\n",
       "      <td>0.0</td>\n",
       "      <td>0.0</td>\n",
       "      <td>0.0</td>\n",
       "      <td>0.0</td>\n",
       "      <td>0.0</td>\n",
       "      <td>0.0</td>\n",
       "      <td>0.0</td>\n",
       "      <td>0.0</td>\n",
       "      <td>0.0</td>\n",
       "      <td>0.0</td>\n",
       "    </tr>\n",
       "  </tbody>\n",
       "</table>\n",
       "<p>828 rows × 149 columns</p>\n",
       "</div>"
      ],
      "text/plain": [
       "     index  year Country or region  Overall rank  Score  GDP per capita  \\\n",
       "0        0  2015       Switzerland             1  7.587        1.396510   \n",
       "1        0  2016           Denmark             1  7.526        1.441780   \n",
       "2        0  2017            Norway             1  7.537        1.616463   \n",
       "3        0  2018           Finland             1  7.632        1.305000   \n",
       "4        0  2019           Finland             1  7.769        1.340000   \n",
       "..     ...   ...               ...           ...    ...             ...   \n",
       "823    154  2016              Togo           155  3.303        0.281230   \n",
       "824    155  2018           Burundi           156  2.905        0.091000   \n",
       "825    156  2015           Burundi           157  2.905        0.015300   \n",
       "826    156  2016           Burundi           157  2.905        0.068310   \n",
       "827    157  2015              Togo           158  2.839        0.208680   \n",
       "\n",
       "     Social support  Healthy life expectancy   Freedom  \\\n",
       "0          1.349510                 0.941430  0.665570   \n",
       "1          1.163740                 0.795040  0.579410   \n",
       "2          1.533524                 0.796667  0.635423   \n",
       "3          1.592000                 0.874000  0.681000   \n",
       "4          1.587000                 0.986000  0.596000   \n",
       "..              ...                      ...       ...   \n",
       "823        0.000000                 0.248110  0.346780   \n",
       "824        0.627000                 0.145000  0.065000   \n",
       "825        0.415870                 0.223960  0.118500   \n",
       "826        0.234420                 0.157470  0.043200   \n",
       "827        0.139950                 0.284430  0.364530   \n",
       "\n",
       "     Perceptions of corruption  ...  128  129  130  131  132  133  134  135  \\\n",
       "0                     0.419780  ...  0.0  0.0  0.0  0.0  0.0  0.0  0.0  0.0   \n",
       "1                     0.444530  ...  0.0  0.0  0.0  0.0  0.0  0.0  0.0  0.0   \n",
       "2                     0.315964  ...  0.0  0.0  0.0  0.0  0.0  0.0  0.0  0.0   \n",
       "3                     0.393000  ...  0.0  0.0  0.0  0.0  0.0  0.0  0.0  0.0   \n",
       "4                     0.393000  ...  0.0  0.0  0.0  0.0  0.0  0.0  0.0  0.0   \n",
       "..                         ...  ...  ...  ...  ...  ...  ...  ...  ...  ...   \n",
       "823                   0.115870  ...  0.0  0.0  0.0  0.0  0.0  0.0  0.0  0.0   \n",
       "824                   0.076000  ...  0.0  0.0  0.0  0.0  0.0  0.0  0.0  0.0   \n",
       "825                   0.100620  ...  0.0  0.0  0.0  0.0  0.0  0.0  0.0  0.0   \n",
       "826                   0.094190  ...  0.0  0.0  0.0  0.0  0.0  0.0  0.0  0.0   \n",
       "827                   0.107310  ...  0.0  0.0  0.0  0.0  0.0  0.0  0.0  0.0   \n",
       "\n",
       "     136  137  \n",
       "0    0.0  0.0  \n",
       "1    0.0  0.0  \n",
       "2    0.0  0.0  \n",
       "3    0.0  0.0  \n",
       "4    0.0  0.0  \n",
       "..   ...  ...  \n",
       "823  0.0  0.0  \n",
       "824  0.0  0.0  \n",
       "825  0.0  0.0  \n",
       "826  0.0  0.0  \n",
       "827  0.0  0.0  \n",
       "\n",
       "[828 rows x 149 columns]"
      ]
     },
     "execution_count": 2155,
     "metadata": {},
     "output_type": "execute_result"
    }
   ],
   "source": [
    "df_all"
   ]
  },
  {
   "cell_type": "code",
   "execution_count": 2156,
   "id": "exceptional-competition",
   "metadata": {},
   "outputs": [
    {
     "data": {
      "text/html": [
       "<div>\n",
       "<style scoped>\n",
       "    .dataframe tbody tr th:only-of-type {\n",
       "        vertical-align: middle;\n",
       "    }\n",
       "\n",
       "    .dataframe tbody tr th {\n",
       "        vertical-align: top;\n",
       "    }\n",
       "\n",
       "    .dataframe thead th {\n",
       "        text-align: right;\n",
       "    }\n",
       "</style>\n",
       "<table border=\"1\" class=\"dataframe\">\n",
       "  <thead>\n",
       "    <tr style=\"text-align: right;\">\n",
       "      <th></th>\n",
       "      <th>index</th>\n",
       "      <th>year</th>\n",
       "      <th>Country or region</th>\n",
       "      <th>Overall rank</th>\n",
       "      <th>Score</th>\n",
       "      <th>GDP per capita</th>\n",
       "      <th>Social support</th>\n",
       "      <th>Healthy life expectancy</th>\n",
       "      <th>Freedom</th>\n",
       "      <th>Perceptions of corruption</th>\n",
       "      <th>...</th>\n",
       "      <th>128</th>\n",
       "      <th>129</th>\n",
       "      <th>130</th>\n",
       "      <th>131</th>\n",
       "      <th>132</th>\n",
       "      <th>133</th>\n",
       "      <th>134</th>\n",
       "      <th>135</th>\n",
       "      <th>136</th>\n",
       "      <th>137</th>\n",
       "    </tr>\n",
       "  </thead>\n",
       "  <tbody>\n",
       "    <tr>\n",
       "      <th>5</th>\n",
       "      <td>0</td>\n",
       "      <td>2020</td>\n",
       "      <td>Finland</td>\n",
       "      <td>1</td>\n",
       "      <td>7.8087</td>\n",
       "      <td>1.285190</td>\n",
       "      <td>1.499526</td>\n",
       "      <td>0.961271</td>\n",
       "      <td>0.662317</td>\n",
       "      <td>0.477857</td>\n",
       "      <td>...</td>\n",
       "      <td>0.0</td>\n",
       "      <td>0.0</td>\n",
       "      <td>0.0</td>\n",
       "      <td>0.0</td>\n",
       "      <td>0.0</td>\n",
       "      <td>0.0</td>\n",
       "      <td>0.0</td>\n",
       "      <td>0.0</td>\n",
       "      <td>0.0</td>\n",
       "      <td>0.0</td>\n",
       "    </tr>\n",
       "    <tr>\n",
       "      <th>11</th>\n",
       "      <td>1</td>\n",
       "      <td>2020</td>\n",
       "      <td>Denmark</td>\n",
       "      <td>2</td>\n",
       "      <td>7.6456</td>\n",
       "      <td>1.326949</td>\n",
       "      <td>1.503449</td>\n",
       "      <td>0.979333</td>\n",
       "      <td>0.665040</td>\n",
       "      <td>0.495260</td>\n",
       "      <td>...</td>\n",
       "      <td>0.0</td>\n",
       "      <td>0.0</td>\n",
       "      <td>0.0</td>\n",
       "      <td>0.0</td>\n",
       "      <td>0.0</td>\n",
       "      <td>0.0</td>\n",
       "      <td>0.0</td>\n",
       "      <td>0.0</td>\n",
       "      <td>0.0</td>\n",
       "      <td>0.0</td>\n",
       "    </tr>\n",
       "    <tr>\n",
       "      <th>17</th>\n",
       "      <td>2</td>\n",
       "      <td>2020</td>\n",
       "      <td>Switzerland</td>\n",
       "      <td>3</td>\n",
       "      <td>7.5599</td>\n",
       "      <td>1.390774</td>\n",
       "      <td>1.472403</td>\n",
       "      <td>1.040533</td>\n",
       "      <td>0.628954</td>\n",
       "      <td>0.407946</td>\n",
       "      <td>...</td>\n",
       "      <td>0.0</td>\n",
       "      <td>0.0</td>\n",
       "      <td>0.0</td>\n",
       "      <td>0.0</td>\n",
       "      <td>0.0</td>\n",
       "      <td>0.0</td>\n",
       "      <td>0.0</td>\n",
       "      <td>0.0</td>\n",
       "      <td>0.0</td>\n",
       "      <td>0.0</td>\n",
       "    </tr>\n",
       "    <tr>\n",
       "      <th>23</th>\n",
       "      <td>3</td>\n",
       "      <td>2020</td>\n",
       "      <td>Iceland</td>\n",
       "      <td>4</td>\n",
       "      <td>7.5045</td>\n",
       "      <td>1.326502</td>\n",
       "      <td>1.547567</td>\n",
       "      <td>1.000843</td>\n",
       "      <td>0.661981</td>\n",
       "      <td>0.144541</td>\n",
       "      <td>...</td>\n",
       "      <td>0.0</td>\n",
       "      <td>0.0</td>\n",
       "      <td>0.0</td>\n",
       "      <td>0.0</td>\n",
       "      <td>0.0</td>\n",
       "      <td>0.0</td>\n",
       "      <td>0.0</td>\n",
       "      <td>0.0</td>\n",
       "      <td>0.0</td>\n",
       "      <td>0.0</td>\n",
       "    </tr>\n",
       "    <tr>\n",
       "      <th>29</th>\n",
       "      <td>4</td>\n",
       "      <td>2020</td>\n",
       "      <td>Norway</td>\n",
       "      <td>5</td>\n",
       "      <td>7.4880</td>\n",
       "      <td>1.424207</td>\n",
       "      <td>1.495173</td>\n",
       "      <td>1.008072</td>\n",
       "      <td>0.670201</td>\n",
       "      <td>0.434101</td>\n",
       "      <td>...</td>\n",
       "      <td>0.0</td>\n",
       "      <td>0.0</td>\n",
       "      <td>0.0</td>\n",
       "      <td>0.0</td>\n",
       "      <td>0.0</td>\n",
       "      <td>0.0</td>\n",
       "      <td>0.0</td>\n",
       "      <td>0.0</td>\n",
       "      <td>0.0</td>\n",
       "      <td>0.0</td>\n",
       "    </tr>\n",
       "    <tr>\n",
       "      <th>...</th>\n",
       "      <td>...</td>\n",
       "      <td>...</td>\n",
       "      <td>...</td>\n",
       "      <td>...</td>\n",
       "      <td>...</td>\n",
       "      <td>...</td>\n",
       "      <td>...</td>\n",
       "      <td>...</td>\n",
       "      <td>...</td>\n",
       "      <td>...</td>\n",
       "      <td>...</td>\n",
       "      <td>...</td>\n",
       "      <td>...</td>\n",
       "      <td>...</td>\n",
       "      <td>...</td>\n",
       "      <td>...</td>\n",
       "      <td>...</td>\n",
       "      <td>...</td>\n",
       "      <td>...</td>\n",
       "      <td>...</td>\n",
       "      <td>...</td>\n",
       "    </tr>\n",
       "    <tr>\n",
       "      <th>787</th>\n",
       "      <td>146</td>\n",
       "      <td>2020</td>\n",
       "      <td>Botswana</td>\n",
       "      <td>147</td>\n",
       "      <td>3.4789</td>\n",
       "      <td>0.997549</td>\n",
       "      <td>1.085695</td>\n",
       "      <td>0.494102</td>\n",
       "      <td>0.509089</td>\n",
       "      <td>0.101786</td>\n",
       "      <td>...</td>\n",
       "      <td>0.0</td>\n",
       "      <td>0.0</td>\n",
       "      <td>0.0</td>\n",
       "      <td>0.0</td>\n",
       "      <td>0.0</td>\n",
       "      <td>0.0</td>\n",
       "      <td>0.0</td>\n",
       "      <td>0.0</td>\n",
       "      <td>0.0</td>\n",
       "      <td>0.0</td>\n",
       "    </tr>\n",
       "    <tr>\n",
       "      <th>792</th>\n",
       "      <td>147</td>\n",
       "      <td>2020</td>\n",
       "      <td>Tanzania</td>\n",
       "      <td>148</td>\n",
       "      <td>3.4762</td>\n",
       "      <td>0.457163</td>\n",
       "      <td>0.872675</td>\n",
       "      <td>0.442678</td>\n",
       "      <td>0.509343</td>\n",
       "      <td>0.203881</td>\n",
       "      <td>...</td>\n",
       "      <td>0.0</td>\n",
       "      <td>0.0</td>\n",
       "      <td>0.0</td>\n",
       "      <td>0.0</td>\n",
       "      <td>0.0</td>\n",
       "      <td>0.0</td>\n",
       "      <td>0.0</td>\n",
       "      <td>0.0</td>\n",
       "      <td>0.0</td>\n",
       "      <td>0.0</td>\n",
       "    </tr>\n",
       "    <tr>\n",
       "      <th>801</th>\n",
       "      <td>149</td>\n",
       "      <td>2020</td>\n",
       "      <td>Rwanda</td>\n",
       "      <td>150</td>\n",
       "      <td>3.3123</td>\n",
       "      <td>0.343243</td>\n",
       "      <td>0.522876</td>\n",
       "      <td>0.572383</td>\n",
       "      <td>0.604088</td>\n",
       "      <td>0.485542</td>\n",
       "      <td>...</td>\n",
       "      <td>0.0</td>\n",
       "      <td>0.0</td>\n",
       "      <td>0.0</td>\n",
       "      <td>0.0</td>\n",
       "      <td>0.0</td>\n",
       "      <td>0.0</td>\n",
       "      <td>0.0</td>\n",
       "      <td>0.0</td>\n",
       "      <td>0.0</td>\n",
       "      <td>0.0</td>\n",
       "    </tr>\n",
       "    <tr>\n",
       "      <th>807</th>\n",
       "      <td>150</td>\n",
       "      <td>2020</td>\n",
       "      <td>Zimbabwe</td>\n",
       "      <td>151</td>\n",
       "      <td>3.2992</td>\n",
       "      <td>0.425564</td>\n",
       "      <td>1.047835</td>\n",
       "      <td>0.375038</td>\n",
       "      <td>0.377405</td>\n",
       "      <td>0.080929</td>\n",
       "      <td>...</td>\n",
       "      <td>0.0</td>\n",
       "      <td>0.0</td>\n",
       "      <td>1.0</td>\n",
       "      <td>0.0</td>\n",
       "      <td>0.0</td>\n",
       "      <td>0.0</td>\n",
       "      <td>0.0</td>\n",
       "      <td>0.0</td>\n",
       "      <td>0.0</td>\n",
       "      <td>0.0</td>\n",
       "    </tr>\n",
       "    <tr>\n",
       "      <th>817</th>\n",
       "      <td>152</td>\n",
       "      <td>2020</td>\n",
       "      <td>Afghanistan</td>\n",
       "      <td>153</td>\n",
       "      <td>2.5669</td>\n",
       "      <td>0.300706</td>\n",
       "      <td>0.356434</td>\n",
       "      <td>0.266052</td>\n",
       "      <td>0.000000</td>\n",
       "      <td>0.001226</td>\n",
       "      <td>...</td>\n",
       "      <td>0.0</td>\n",
       "      <td>0.0</td>\n",
       "      <td>0.0</td>\n",
       "      <td>0.0</td>\n",
       "      <td>0.0</td>\n",
       "      <td>0.0</td>\n",
       "      <td>0.0</td>\n",
       "      <td>0.0</td>\n",
       "      <td>0.0</td>\n",
       "      <td>0.0</td>\n",
       "    </tr>\n",
       "  </tbody>\n",
       "</table>\n",
       "<p>138 rows × 149 columns</p>\n",
       "</div>"
      ],
      "text/plain": [
       "     index  year Country or region  Overall rank   Score  GDP per capita  \\\n",
       "5        0  2020           Finland             1  7.8087        1.285190   \n",
       "11       1  2020           Denmark             2  7.6456        1.326949   \n",
       "17       2  2020       Switzerland             3  7.5599        1.390774   \n",
       "23       3  2020           Iceland             4  7.5045        1.326502   \n",
       "29       4  2020            Norway             5  7.4880        1.424207   \n",
       "..     ...   ...               ...           ...     ...             ...   \n",
       "787    146  2020          Botswana           147  3.4789        0.997549   \n",
       "792    147  2020          Tanzania           148  3.4762        0.457163   \n",
       "801    149  2020            Rwanda           150  3.3123        0.343243   \n",
       "807    150  2020          Zimbabwe           151  3.2992        0.425564   \n",
       "817    152  2020       Afghanistan           153  2.5669        0.300706   \n",
       "\n",
       "     Social support  Healthy life expectancy   Freedom  \\\n",
       "5          1.499526                 0.961271  0.662317   \n",
       "11         1.503449                 0.979333  0.665040   \n",
       "17         1.472403                 1.040533  0.628954   \n",
       "23         1.547567                 1.000843  0.661981   \n",
       "29         1.495173                 1.008072  0.670201   \n",
       "..              ...                      ...       ...   \n",
       "787        1.085695                 0.494102  0.509089   \n",
       "792        0.872675                 0.442678  0.509343   \n",
       "801        0.522876                 0.572383  0.604088   \n",
       "807        1.047835                 0.375038  0.377405   \n",
       "817        0.356434                 0.266052  0.000000   \n",
       "\n",
       "     Perceptions of corruption  ...  128  129  130  131  132  133  134  135  \\\n",
       "5                     0.477857  ...  0.0  0.0  0.0  0.0  0.0  0.0  0.0  0.0   \n",
       "11                    0.495260  ...  0.0  0.0  0.0  0.0  0.0  0.0  0.0  0.0   \n",
       "17                    0.407946  ...  0.0  0.0  0.0  0.0  0.0  0.0  0.0  0.0   \n",
       "23                    0.144541  ...  0.0  0.0  0.0  0.0  0.0  0.0  0.0  0.0   \n",
       "29                    0.434101  ...  0.0  0.0  0.0  0.0  0.0  0.0  0.0  0.0   \n",
       "..                         ...  ...  ...  ...  ...  ...  ...  ...  ...  ...   \n",
       "787                   0.101786  ...  0.0  0.0  0.0  0.0  0.0  0.0  0.0  0.0   \n",
       "792                   0.203881  ...  0.0  0.0  0.0  0.0  0.0  0.0  0.0  0.0   \n",
       "801                   0.485542  ...  0.0  0.0  0.0  0.0  0.0  0.0  0.0  0.0   \n",
       "807                   0.080929  ...  0.0  0.0  1.0  0.0  0.0  0.0  0.0  0.0   \n",
       "817                   0.001226  ...  0.0  0.0  0.0  0.0  0.0  0.0  0.0  0.0   \n",
       "\n",
       "     136  137  \n",
       "5    0.0  0.0  \n",
       "11   0.0  0.0  \n",
       "17   0.0  0.0  \n",
       "23   0.0  0.0  \n",
       "29   0.0  0.0  \n",
       "..   ...  ...  \n",
       "787  0.0  0.0  \n",
       "792  0.0  0.0  \n",
       "801  0.0  0.0  \n",
       "807  0.0  0.0  \n",
       "817  0.0  0.0  \n",
       "\n",
       "[138 rows x 149 columns]"
      ]
     },
     "execution_count": 2156,
     "metadata": {},
     "output_type": "execute_result"
    }
   ],
   "source": [
    "df2019 = df_all[df_all['year'] == 2019]\n",
    "df2020 = df_all[df_all['year'] == 2020]\n",
    "df2020"
   ]
  },
  {
   "cell_type": "code",
   "execution_count": 2157,
   "id": "liquid-second",
   "metadata": {},
   "outputs": [],
   "source": [
    "# drop 2019 and 2020\n",
    "df_all = df_all.drop(df_all[df_all['year'] == 2019].index)\n",
    "df_all = df_all.drop(df_all[df_all['year'] == 2020].index)"
   ]
  },
  {
   "cell_type": "code",
   "execution_count": 2158,
   "id": "advisory-hammer",
   "metadata": {},
   "outputs": [],
   "source": [
    "# # reset indices # drop index columns\n",
    "df_all = df_all.reset_index().drop(columns=['level_0', 'index'])\n",
    "df2019 = df2019.reset_index().drop(columns=['level_0', 'index'])\n",
    "df2020 = df2020.reset_index().drop(columns=['level_0', 'index'])"
   ]
  },
  {
   "cell_type": "markdown",
   "id": "stunning-oracle",
   "metadata": {},
   "source": [
    "### Separate data into 3 categories\n",
    "- Training data (2015-2018) for predicting 2019\n",
    "- 2019 used for validating predictions\n",
    "- 2020 used for testing predictions"
   ]
  },
  {
   "cell_type": "code",
   "execution_count": 2159,
   "id": "likely-commander",
   "metadata": {},
   "outputs": [
    {
     "data": {
      "text/html": [
       "<div>\n",
       "<style scoped>\n",
       "    .dataframe tbody tr th:only-of-type {\n",
       "        vertical-align: middle;\n",
       "    }\n",
       "\n",
       "    .dataframe tbody tr th {\n",
       "        vertical-align: top;\n",
       "    }\n",
       "\n",
       "    .dataframe thead th {\n",
       "        text-align: right;\n",
       "    }\n",
       "</style>\n",
       "<table border=\"1\" class=\"dataframe\">\n",
       "  <thead>\n",
       "    <tr style=\"text-align: right;\">\n",
       "      <th></th>\n",
       "      <th>year</th>\n",
       "      <th>Country or region</th>\n",
       "      <th>Overall rank</th>\n",
       "      <th>Score</th>\n",
       "      <th>GDP per capita</th>\n",
       "      <th>Social support</th>\n",
       "      <th>Healthy life expectancy</th>\n",
       "      <th>Freedom</th>\n",
       "      <th>Perceptions of corruption</th>\n",
       "      <th>Generosity</th>\n",
       "      <th>...</th>\n",
       "      <th>128</th>\n",
       "      <th>129</th>\n",
       "      <th>130</th>\n",
       "      <th>131</th>\n",
       "      <th>132</th>\n",
       "      <th>133</th>\n",
       "      <th>134</th>\n",
       "      <th>135</th>\n",
       "      <th>136</th>\n",
       "      <th>137</th>\n",
       "    </tr>\n",
       "  </thead>\n",
       "  <tbody>\n",
       "    <tr>\n",
       "      <th>0</th>\n",
       "      <td>2015</td>\n",
       "      <td>Switzerland</td>\n",
       "      <td>1</td>\n",
       "      <td>7.587</td>\n",
       "      <td>1.396510</td>\n",
       "      <td>1.349510</td>\n",
       "      <td>0.941430</td>\n",
       "      <td>0.665570</td>\n",
       "      <td>0.419780</td>\n",
       "      <td>0.296780</td>\n",
       "      <td>...</td>\n",
       "      <td>0.0</td>\n",
       "      <td>0.0</td>\n",
       "      <td>0.0</td>\n",
       "      <td>0.0</td>\n",
       "      <td>0.0</td>\n",
       "      <td>0.0</td>\n",
       "      <td>0.0</td>\n",
       "      <td>0.0</td>\n",
       "      <td>0.0</td>\n",
       "      <td>0.0</td>\n",
       "    </tr>\n",
       "    <tr>\n",
       "      <th>1</th>\n",
       "      <td>2016</td>\n",
       "      <td>Denmark</td>\n",
       "      <td>1</td>\n",
       "      <td>7.526</td>\n",
       "      <td>1.441780</td>\n",
       "      <td>1.163740</td>\n",
       "      <td>0.795040</td>\n",
       "      <td>0.579410</td>\n",
       "      <td>0.444530</td>\n",
       "      <td>0.361710</td>\n",
       "      <td>...</td>\n",
       "      <td>0.0</td>\n",
       "      <td>0.0</td>\n",
       "      <td>0.0</td>\n",
       "      <td>0.0</td>\n",
       "      <td>0.0</td>\n",
       "      <td>0.0</td>\n",
       "      <td>0.0</td>\n",
       "      <td>0.0</td>\n",
       "      <td>0.0</td>\n",
       "      <td>0.0</td>\n",
       "    </tr>\n",
       "    <tr>\n",
       "      <th>2</th>\n",
       "      <td>2017</td>\n",
       "      <td>Norway</td>\n",
       "      <td>1</td>\n",
       "      <td>7.537</td>\n",
       "      <td>1.616463</td>\n",
       "      <td>1.533524</td>\n",
       "      <td>0.796667</td>\n",
       "      <td>0.635423</td>\n",
       "      <td>0.315964</td>\n",
       "      <td>0.362012</td>\n",
       "      <td>...</td>\n",
       "      <td>0.0</td>\n",
       "      <td>0.0</td>\n",
       "      <td>0.0</td>\n",
       "      <td>0.0</td>\n",
       "      <td>0.0</td>\n",
       "      <td>0.0</td>\n",
       "      <td>0.0</td>\n",
       "      <td>0.0</td>\n",
       "      <td>0.0</td>\n",
       "      <td>0.0</td>\n",
       "    </tr>\n",
       "    <tr>\n",
       "      <th>3</th>\n",
       "      <td>2018</td>\n",
       "      <td>Finland</td>\n",
       "      <td>1</td>\n",
       "      <td>7.632</td>\n",
       "      <td>1.305000</td>\n",
       "      <td>1.592000</td>\n",
       "      <td>0.874000</td>\n",
       "      <td>0.681000</td>\n",
       "      <td>0.393000</td>\n",
       "      <td>0.202000</td>\n",
       "      <td>...</td>\n",
       "      <td>0.0</td>\n",
       "      <td>0.0</td>\n",
       "      <td>0.0</td>\n",
       "      <td>0.0</td>\n",
       "      <td>0.0</td>\n",
       "      <td>0.0</td>\n",
       "      <td>0.0</td>\n",
       "      <td>0.0</td>\n",
       "      <td>0.0</td>\n",
       "      <td>0.0</td>\n",
       "    </tr>\n",
       "    <tr>\n",
       "      <th>4</th>\n",
       "      <td>2015</td>\n",
       "      <td>Iceland</td>\n",
       "      <td>2</td>\n",
       "      <td>7.561</td>\n",
       "      <td>1.302320</td>\n",
       "      <td>1.402230</td>\n",
       "      <td>0.947840</td>\n",
       "      <td>0.628770</td>\n",
       "      <td>0.141450</td>\n",
       "      <td>0.436300</td>\n",
       "      <td>...</td>\n",
       "      <td>0.0</td>\n",
       "      <td>0.0</td>\n",
       "      <td>0.0</td>\n",
       "      <td>0.0</td>\n",
       "      <td>0.0</td>\n",
       "      <td>0.0</td>\n",
       "      <td>0.0</td>\n",
       "      <td>0.0</td>\n",
       "      <td>0.0</td>\n",
       "      <td>0.0</td>\n",
       "    </tr>\n",
       "    <tr>\n",
       "      <th>...</th>\n",
       "      <td>...</td>\n",
       "      <td>...</td>\n",
       "      <td>...</td>\n",
       "      <td>...</td>\n",
       "      <td>...</td>\n",
       "      <td>...</td>\n",
       "      <td>...</td>\n",
       "      <td>...</td>\n",
       "      <td>...</td>\n",
       "      <td>...</td>\n",
       "      <td>...</td>\n",
       "      <td>...</td>\n",
       "      <td>...</td>\n",
       "      <td>...</td>\n",
       "      <td>...</td>\n",
       "      <td>...</td>\n",
       "      <td>...</td>\n",
       "      <td>...</td>\n",
       "      <td>...</td>\n",
       "      <td>...</td>\n",
       "      <td>...</td>\n",
       "    </tr>\n",
       "    <tr>\n",
       "      <th>547</th>\n",
       "      <td>2016</td>\n",
       "      <td>Togo</td>\n",
       "      <td>155</td>\n",
       "      <td>3.303</td>\n",
       "      <td>0.281230</td>\n",
       "      <td>0.000000</td>\n",
       "      <td>0.248110</td>\n",
       "      <td>0.346780</td>\n",
       "      <td>0.115870</td>\n",
       "      <td>0.175170</td>\n",
       "      <td>...</td>\n",
       "      <td>0.0</td>\n",
       "      <td>0.0</td>\n",
       "      <td>0.0</td>\n",
       "      <td>0.0</td>\n",
       "      <td>0.0</td>\n",
       "      <td>0.0</td>\n",
       "      <td>0.0</td>\n",
       "      <td>0.0</td>\n",
       "      <td>0.0</td>\n",
       "      <td>0.0</td>\n",
       "    </tr>\n",
       "    <tr>\n",
       "      <th>548</th>\n",
       "      <td>2018</td>\n",
       "      <td>Burundi</td>\n",
       "      <td>156</td>\n",
       "      <td>2.905</td>\n",
       "      <td>0.091000</td>\n",
       "      <td>0.627000</td>\n",
       "      <td>0.145000</td>\n",
       "      <td>0.065000</td>\n",
       "      <td>0.076000</td>\n",
       "      <td>0.149000</td>\n",
       "      <td>...</td>\n",
       "      <td>0.0</td>\n",
       "      <td>0.0</td>\n",
       "      <td>0.0</td>\n",
       "      <td>0.0</td>\n",
       "      <td>0.0</td>\n",
       "      <td>0.0</td>\n",
       "      <td>0.0</td>\n",
       "      <td>0.0</td>\n",
       "      <td>0.0</td>\n",
       "      <td>0.0</td>\n",
       "    </tr>\n",
       "    <tr>\n",
       "      <th>549</th>\n",
       "      <td>2015</td>\n",
       "      <td>Burundi</td>\n",
       "      <td>157</td>\n",
       "      <td>2.905</td>\n",
       "      <td>0.015300</td>\n",
       "      <td>0.415870</td>\n",
       "      <td>0.223960</td>\n",
       "      <td>0.118500</td>\n",
       "      <td>0.100620</td>\n",
       "      <td>0.197270</td>\n",
       "      <td>...</td>\n",
       "      <td>0.0</td>\n",
       "      <td>0.0</td>\n",
       "      <td>0.0</td>\n",
       "      <td>0.0</td>\n",
       "      <td>0.0</td>\n",
       "      <td>0.0</td>\n",
       "      <td>0.0</td>\n",
       "      <td>0.0</td>\n",
       "      <td>0.0</td>\n",
       "      <td>0.0</td>\n",
       "    </tr>\n",
       "    <tr>\n",
       "      <th>550</th>\n",
       "      <td>2016</td>\n",
       "      <td>Burundi</td>\n",
       "      <td>157</td>\n",
       "      <td>2.905</td>\n",
       "      <td>0.068310</td>\n",
       "      <td>0.234420</td>\n",
       "      <td>0.157470</td>\n",
       "      <td>0.043200</td>\n",
       "      <td>0.094190</td>\n",
       "      <td>0.202900</td>\n",
       "      <td>...</td>\n",
       "      <td>0.0</td>\n",
       "      <td>0.0</td>\n",
       "      <td>0.0</td>\n",
       "      <td>0.0</td>\n",
       "      <td>0.0</td>\n",
       "      <td>0.0</td>\n",
       "      <td>0.0</td>\n",
       "      <td>0.0</td>\n",
       "      <td>0.0</td>\n",
       "      <td>0.0</td>\n",
       "    </tr>\n",
       "    <tr>\n",
       "      <th>551</th>\n",
       "      <td>2015</td>\n",
       "      <td>Togo</td>\n",
       "      <td>158</td>\n",
       "      <td>2.839</td>\n",
       "      <td>0.208680</td>\n",
       "      <td>0.139950</td>\n",
       "      <td>0.284430</td>\n",
       "      <td>0.364530</td>\n",
       "      <td>0.107310</td>\n",
       "      <td>0.166810</td>\n",
       "      <td>...</td>\n",
       "      <td>0.0</td>\n",
       "      <td>0.0</td>\n",
       "      <td>0.0</td>\n",
       "      <td>0.0</td>\n",
       "      <td>0.0</td>\n",
       "      <td>0.0</td>\n",
       "      <td>0.0</td>\n",
       "      <td>0.0</td>\n",
       "      <td>0.0</td>\n",
       "      <td>0.0</td>\n",
       "    </tr>\n",
       "  </tbody>\n",
       "</table>\n",
       "<p>552 rows × 148 columns</p>\n",
       "</div>"
      ],
      "text/plain": [
       "     year Country or region  Overall rank  Score  GDP per capita  \\\n",
       "0    2015       Switzerland             1  7.587        1.396510   \n",
       "1    2016           Denmark             1  7.526        1.441780   \n",
       "2    2017            Norway             1  7.537        1.616463   \n",
       "3    2018           Finland             1  7.632        1.305000   \n",
       "4    2015           Iceland             2  7.561        1.302320   \n",
       "..    ...               ...           ...    ...             ...   \n",
       "547  2016              Togo           155  3.303        0.281230   \n",
       "548  2018           Burundi           156  2.905        0.091000   \n",
       "549  2015           Burundi           157  2.905        0.015300   \n",
       "550  2016           Burundi           157  2.905        0.068310   \n",
       "551  2015              Togo           158  2.839        0.208680   \n",
       "\n",
       "     Social support  Healthy life expectancy   Freedom  \\\n",
       "0          1.349510                 0.941430  0.665570   \n",
       "1          1.163740                 0.795040  0.579410   \n",
       "2          1.533524                 0.796667  0.635423   \n",
       "3          1.592000                 0.874000  0.681000   \n",
       "4          1.402230                 0.947840  0.628770   \n",
       "..              ...                      ...       ...   \n",
       "547        0.000000                 0.248110  0.346780   \n",
       "548        0.627000                 0.145000  0.065000   \n",
       "549        0.415870                 0.223960  0.118500   \n",
       "550        0.234420                 0.157470  0.043200   \n",
       "551        0.139950                 0.284430  0.364530   \n",
       "\n",
       "     Perceptions of corruption  Generosity  ...  128  129  130  131  132  133  \\\n",
       "0                     0.419780    0.296780  ...  0.0  0.0  0.0  0.0  0.0  0.0   \n",
       "1                     0.444530    0.361710  ...  0.0  0.0  0.0  0.0  0.0  0.0   \n",
       "2                     0.315964    0.362012  ...  0.0  0.0  0.0  0.0  0.0  0.0   \n",
       "3                     0.393000    0.202000  ...  0.0  0.0  0.0  0.0  0.0  0.0   \n",
       "4                     0.141450    0.436300  ...  0.0  0.0  0.0  0.0  0.0  0.0   \n",
       "..                         ...         ...  ...  ...  ...  ...  ...  ...  ...   \n",
       "547                   0.115870    0.175170  ...  0.0  0.0  0.0  0.0  0.0  0.0   \n",
       "548                   0.076000    0.149000  ...  0.0  0.0  0.0  0.0  0.0  0.0   \n",
       "549                   0.100620    0.197270  ...  0.0  0.0  0.0  0.0  0.0  0.0   \n",
       "550                   0.094190    0.202900  ...  0.0  0.0  0.0  0.0  0.0  0.0   \n",
       "551                   0.107310    0.166810  ...  0.0  0.0  0.0  0.0  0.0  0.0   \n",
       "\n",
       "     134  135  136  137  \n",
       "0    0.0  0.0  0.0  0.0  \n",
       "1    0.0  0.0  0.0  0.0  \n",
       "2    0.0  0.0  0.0  0.0  \n",
       "3    0.0  0.0  0.0  0.0  \n",
       "4    0.0  0.0  0.0  0.0  \n",
       "..   ...  ...  ...  ...  \n",
       "547  0.0  0.0  0.0  0.0  \n",
       "548  0.0  0.0  0.0  0.0  \n",
       "549  0.0  0.0  0.0  0.0  \n",
       "550  0.0  0.0  0.0  0.0  \n",
       "551  0.0  0.0  0.0  0.0  \n",
       "\n",
       "[552 rows x 148 columns]"
      ]
     },
     "execution_count": 2159,
     "metadata": {},
     "output_type": "execute_result"
    }
   ],
   "source": [
    "df_all"
   ]
  },
  {
   "cell_type": "code",
   "execution_count": 2160,
   "id": "relevant-pepper",
   "metadata": {},
   "outputs": [
    {
     "data": {
      "text/html": [
       "<div>\n",
       "<style scoped>\n",
       "    .dataframe tbody tr th:only-of-type {\n",
       "        vertical-align: middle;\n",
       "    }\n",
       "\n",
       "    .dataframe tbody tr th {\n",
       "        vertical-align: top;\n",
       "    }\n",
       "\n",
       "    .dataframe thead th {\n",
       "        text-align: right;\n",
       "    }\n",
       "</style>\n",
       "<table border=\"1\" class=\"dataframe\">\n",
       "  <thead>\n",
       "    <tr style=\"text-align: right;\">\n",
       "      <th></th>\n",
       "      <th>year</th>\n",
       "      <th>Country or region</th>\n",
       "      <th>Overall rank</th>\n",
       "      <th>Score</th>\n",
       "      <th>GDP per capita</th>\n",
       "      <th>Social support</th>\n",
       "      <th>Healthy life expectancy</th>\n",
       "      <th>Freedom</th>\n",
       "      <th>Perceptions of corruption</th>\n",
       "      <th>Generosity</th>\n",
       "      <th>...</th>\n",
       "      <th>128</th>\n",
       "      <th>129</th>\n",
       "      <th>130</th>\n",
       "      <th>131</th>\n",
       "      <th>132</th>\n",
       "      <th>133</th>\n",
       "      <th>134</th>\n",
       "      <th>135</th>\n",
       "      <th>136</th>\n",
       "      <th>137</th>\n",
       "    </tr>\n",
       "  </thead>\n",
       "  <tbody>\n",
       "    <tr>\n",
       "      <th>0</th>\n",
       "      <td>2019</td>\n",
       "      <td>Finland</td>\n",
       "      <td>1</td>\n",
       "      <td>7.769</td>\n",
       "      <td>1.340</td>\n",
       "      <td>1.587</td>\n",
       "      <td>0.986</td>\n",
       "      <td>0.596</td>\n",
       "      <td>0.393</td>\n",
       "      <td>0.153</td>\n",
       "      <td>...</td>\n",
       "      <td>0.0</td>\n",
       "      <td>0.0</td>\n",
       "      <td>0.0</td>\n",
       "      <td>0.0</td>\n",
       "      <td>0.0</td>\n",
       "      <td>0.0</td>\n",
       "      <td>0.0</td>\n",
       "      <td>0.0</td>\n",
       "      <td>0.0</td>\n",
       "      <td>0.0</td>\n",
       "    </tr>\n",
       "    <tr>\n",
       "      <th>1</th>\n",
       "      <td>2019</td>\n",
       "      <td>Denmark</td>\n",
       "      <td>2</td>\n",
       "      <td>7.600</td>\n",
       "      <td>1.383</td>\n",
       "      <td>1.573</td>\n",
       "      <td>0.996</td>\n",
       "      <td>0.592</td>\n",
       "      <td>0.410</td>\n",
       "      <td>0.252</td>\n",
       "      <td>...</td>\n",
       "      <td>0.0</td>\n",
       "      <td>0.0</td>\n",
       "      <td>0.0</td>\n",
       "      <td>0.0</td>\n",
       "      <td>0.0</td>\n",
       "      <td>0.0</td>\n",
       "      <td>0.0</td>\n",
       "      <td>0.0</td>\n",
       "      <td>0.0</td>\n",
       "      <td>0.0</td>\n",
       "    </tr>\n",
       "    <tr>\n",
       "      <th>2</th>\n",
       "      <td>2019</td>\n",
       "      <td>Norway</td>\n",
       "      <td>3</td>\n",
       "      <td>7.554</td>\n",
       "      <td>1.488</td>\n",
       "      <td>1.582</td>\n",
       "      <td>1.028</td>\n",
       "      <td>0.603</td>\n",
       "      <td>0.341</td>\n",
       "      <td>0.271</td>\n",
       "      <td>...</td>\n",
       "      <td>0.0</td>\n",
       "      <td>0.0</td>\n",
       "      <td>0.0</td>\n",
       "      <td>0.0</td>\n",
       "      <td>0.0</td>\n",
       "      <td>0.0</td>\n",
       "      <td>0.0</td>\n",
       "      <td>0.0</td>\n",
       "      <td>0.0</td>\n",
       "      <td>0.0</td>\n",
       "    </tr>\n",
       "    <tr>\n",
       "      <th>3</th>\n",
       "      <td>2019</td>\n",
       "      <td>Iceland</td>\n",
       "      <td>4</td>\n",
       "      <td>7.494</td>\n",
       "      <td>1.380</td>\n",
       "      <td>1.624</td>\n",
       "      <td>1.026</td>\n",
       "      <td>0.591</td>\n",
       "      <td>0.118</td>\n",
       "      <td>0.354</td>\n",
       "      <td>...</td>\n",
       "      <td>0.0</td>\n",
       "      <td>0.0</td>\n",
       "      <td>0.0</td>\n",
       "      <td>0.0</td>\n",
       "      <td>0.0</td>\n",
       "      <td>0.0</td>\n",
       "      <td>0.0</td>\n",
       "      <td>0.0</td>\n",
       "      <td>0.0</td>\n",
       "      <td>0.0</td>\n",
       "    </tr>\n",
       "    <tr>\n",
       "      <th>4</th>\n",
       "      <td>2019</td>\n",
       "      <td>Netherlands</td>\n",
       "      <td>5</td>\n",
       "      <td>7.488</td>\n",
       "      <td>1.396</td>\n",
       "      <td>1.522</td>\n",
       "      <td>0.999</td>\n",
       "      <td>0.557</td>\n",
       "      <td>0.298</td>\n",
       "      <td>0.322</td>\n",
       "      <td>...</td>\n",
       "      <td>0.0</td>\n",
       "      <td>0.0</td>\n",
       "      <td>0.0</td>\n",
       "      <td>0.0</td>\n",
       "      <td>0.0</td>\n",
       "      <td>0.0</td>\n",
       "      <td>0.0</td>\n",
       "      <td>0.0</td>\n",
       "      <td>0.0</td>\n",
       "      <td>0.0</td>\n",
       "    </tr>\n",
       "    <tr>\n",
       "      <th>...</th>\n",
       "      <td>...</td>\n",
       "      <td>...</td>\n",
       "      <td>...</td>\n",
       "      <td>...</td>\n",
       "      <td>...</td>\n",
       "      <td>...</td>\n",
       "      <td>...</td>\n",
       "      <td>...</td>\n",
       "      <td>...</td>\n",
       "      <td>...</td>\n",
       "      <td>...</td>\n",
       "      <td>...</td>\n",
       "      <td>...</td>\n",
       "      <td>...</td>\n",
       "      <td>...</td>\n",
       "      <td>...</td>\n",
       "      <td>...</td>\n",
       "      <td>...</td>\n",
       "      <td>...</td>\n",
       "      <td>...</td>\n",
       "      <td>...</td>\n",
       "    </tr>\n",
       "    <tr>\n",
       "      <th>133</th>\n",
       "      <td>2019</td>\n",
       "      <td>Malawi</td>\n",
       "      <td>150</td>\n",
       "      <td>3.410</td>\n",
       "      <td>0.191</td>\n",
       "      <td>0.560</td>\n",
       "      <td>0.495</td>\n",
       "      <td>0.443</td>\n",
       "      <td>0.089</td>\n",
       "      <td>0.218</td>\n",
       "      <td>...</td>\n",
       "      <td>0.0</td>\n",
       "      <td>0.0</td>\n",
       "      <td>0.0</td>\n",
       "      <td>0.0</td>\n",
       "      <td>0.0</td>\n",
       "      <td>0.0</td>\n",
       "      <td>0.0</td>\n",
       "      <td>0.0</td>\n",
       "      <td>0.0</td>\n",
       "      <td>0.0</td>\n",
       "    </tr>\n",
       "    <tr>\n",
       "      <th>134</th>\n",
       "      <td>2019</td>\n",
       "      <td>Yemen</td>\n",
       "      <td>151</td>\n",
       "      <td>3.380</td>\n",
       "      <td>0.287</td>\n",
       "      <td>1.163</td>\n",
       "      <td>0.463</td>\n",
       "      <td>0.143</td>\n",
       "      <td>0.077</td>\n",
       "      <td>0.108</td>\n",
       "      <td>...</td>\n",
       "      <td>0.0</td>\n",
       "      <td>0.0</td>\n",
       "      <td>1.0</td>\n",
       "      <td>0.0</td>\n",
       "      <td>0.0</td>\n",
       "      <td>0.0</td>\n",
       "      <td>0.0</td>\n",
       "      <td>0.0</td>\n",
       "      <td>0.0</td>\n",
       "      <td>0.0</td>\n",
       "    </tr>\n",
       "    <tr>\n",
       "      <th>135</th>\n",
       "      <td>2019</td>\n",
       "      <td>Rwanda</td>\n",
       "      <td>152</td>\n",
       "      <td>3.334</td>\n",
       "      <td>0.359</td>\n",
       "      <td>0.711</td>\n",
       "      <td>0.614</td>\n",
       "      <td>0.555</td>\n",
       "      <td>0.411</td>\n",
       "      <td>0.217</td>\n",
       "      <td>...</td>\n",
       "      <td>0.0</td>\n",
       "      <td>0.0</td>\n",
       "      <td>0.0</td>\n",
       "      <td>0.0</td>\n",
       "      <td>0.0</td>\n",
       "      <td>0.0</td>\n",
       "      <td>0.0</td>\n",
       "      <td>0.0</td>\n",
       "      <td>0.0</td>\n",
       "      <td>0.0</td>\n",
       "    </tr>\n",
       "    <tr>\n",
       "      <th>136</th>\n",
       "      <td>2019</td>\n",
       "      <td>Tanzania</td>\n",
       "      <td>153</td>\n",
       "      <td>3.231</td>\n",
       "      <td>0.476</td>\n",
       "      <td>0.885</td>\n",
       "      <td>0.499</td>\n",
       "      <td>0.417</td>\n",
       "      <td>0.147</td>\n",
       "      <td>0.276</td>\n",
       "      <td>...</td>\n",
       "      <td>0.0</td>\n",
       "      <td>0.0</td>\n",
       "      <td>0.0</td>\n",
       "      <td>0.0</td>\n",
       "      <td>0.0</td>\n",
       "      <td>0.0</td>\n",
       "      <td>0.0</td>\n",
       "      <td>0.0</td>\n",
       "      <td>0.0</td>\n",
       "      <td>0.0</td>\n",
       "    </tr>\n",
       "    <tr>\n",
       "      <th>137</th>\n",
       "      <td>2019</td>\n",
       "      <td>Afghanistan</td>\n",
       "      <td>154</td>\n",
       "      <td>3.203</td>\n",
       "      <td>0.350</td>\n",
       "      <td>0.517</td>\n",
       "      <td>0.361</td>\n",
       "      <td>0.000</td>\n",
       "      <td>0.025</td>\n",
       "      <td>0.158</td>\n",
       "      <td>...</td>\n",
       "      <td>0.0</td>\n",
       "      <td>0.0</td>\n",
       "      <td>0.0</td>\n",
       "      <td>0.0</td>\n",
       "      <td>0.0</td>\n",
       "      <td>0.0</td>\n",
       "      <td>0.0</td>\n",
       "      <td>0.0</td>\n",
       "      <td>0.0</td>\n",
       "      <td>0.0</td>\n",
       "    </tr>\n",
       "  </tbody>\n",
       "</table>\n",
       "<p>138 rows × 148 columns</p>\n",
       "</div>"
      ],
      "text/plain": [
       "     year Country or region  Overall rank  Score  GDP per capita  \\\n",
       "0    2019           Finland             1  7.769           1.340   \n",
       "1    2019           Denmark             2  7.600           1.383   \n",
       "2    2019            Norway             3  7.554           1.488   \n",
       "3    2019           Iceland             4  7.494           1.380   \n",
       "4    2019       Netherlands             5  7.488           1.396   \n",
       "..    ...               ...           ...    ...             ...   \n",
       "133  2019            Malawi           150  3.410           0.191   \n",
       "134  2019             Yemen           151  3.380           0.287   \n",
       "135  2019            Rwanda           152  3.334           0.359   \n",
       "136  2019          Tanzania           153  3.231           0.476   \n",
       "137  2019       Afghanistan           154  3.203           0.350   \n",
       "\n",
       "     Social support  Healthy life expectancy  Freedom  \\\n",
       "0             1.587                    0.986    0.596   \n",
       "1             1.573                    0.996    0.592   \n",
       "2             1.582                    1.028    0.603   \n",
       "3             1.624                    1.026    0.591   \n",
       "4             1.522                    0.999    0.557   \n",
       "..              ...                      ...      ...   \n",
       "133           0.560                    0.495    0.443   \n",
       "134           1.163                    0.463    0.143   \n",
       "135           0.711                    0.614    0.555   \n",
       "136           0.885                    0.499    0.417   \n",
       "137           0.517                    0.361    0.000   \n",
       "\n",
       "     Perceptions of corruption  Generosity  ...  128  129  130  131  132  133  \\\n",
       "0                        0.393       0.153  ...  0.0  0.0  0.0  0.0  0.0  0.0   \n",
       "1                        0.410       0.252  ...  0.0  0.0  0.0  0.0  0.0  0.0   \n",
       "2                        0.341       0.271  ...  0.0  0.0  0.0  0.0  0.0  0.0   \n",
       "3                        0.118       0.354  ...  0.0  0.0  0.0  0.0  0.0  0.0   \n",
       "4                        0.298       0.322  ...  0.0  0.0  0.0  0.0  0.0  0.0   \n",
       "..                         ...         ...  ...  ...  ...  ...  ...  ...  ...   \n",
       "133                      0.089       0.218  ...  0.0  0.0  0.0  0.0  0.0  0.0   \n",
       "134                      0.077       0.108  ...  0.0  0.0  1.0  0.0  0.0  0.0   \n",
       "135                      0.411       0.217  ...  0.0  0.0  0.0  0.0  0.0  0.0   \n",
       "136                      0.147       0.276  ...  0.0  0.0  0.0  0.0  0.0  0.0   \n",
       "137                      0.025       0.158  ...  0.0  0.0  0.0  0.0  0.0  0.0   \n",
       "\n",
       "     134  135  136  137  \n",
       "0    0.0  0.0  0.0  0.0  \n",
       "1    0.0  0.0  0.0  0.0  \n",
       "2    0.0  0.0  0.0  0.0  \n",
       "3    0.0  0.0  0.0  0.0  \n",
       "4    0.0  0.0  0.0  0.0  \n",
       "..   ...  ...  ...  ...  \n",
       "133  0.0  0.0  0.0  0.0  \n",
       "134  0.0  0.0  0.0  0.0  \n",
       "135  0.0  0.0  0.0  0.0  \n",
       "136  0.0  0.0  0.0  0.0  \n",
       "137  0.0  0.0  0.0  0.0  \n",
       "\n",
       "[138 rows x 148 columns]"
      ]
     },
     "execution_count": 2160,
     "metadata": {},
     "output_type": "execute_result"
    }
   ],
   "source": [
    "df2019"
   ]
  },
  {
   "cell_type": "code",
   "execution_count": 2161,
   "id": "simple-public",
   "metadata": {},
   "outputs": [
    {
     "data": {
      "text/html": [
       "<div>\n",
       "<style scoped>\n",
       "    .dataframe tbody tr th:only-of-type {\n",
       "        vertical-align: middle;\n",
       "    }\n",
       "\n",
       "    .dataframe tbody tr th {\n",
       "        vertical-align: top;\n",
       "    }\n",
       "\n",
       "    .dataframe thead th {\n",
       "        text-align: right;\n",
       "    }\n",
       "</style>\n",
       "<table border=\"1\" class=\"dataframe\">\n",
       "  <thead>\n",
       "    <tr style=\"text-align: right;\">\n",
       "      <th></th>\n",
       "      <th>year</th>\n",
       "      <th>Country or region</th>\n",
       "      <th>Overall rank</th>\n",
       "      <th>Score</th>\n",
       "      <th>GDP per capita</th>\n",
       "      <th>Social support</th>\n",
       "      <th>Healthy life expectancy</th>\n",
       "      <th>Freedom</th>\n",
       "      <th>Perceptions of corruption</th>\n",
       "      <th>Generosity</th>\n",
       "      <th>...</th>\n",
       "      <th>128</th>\n",
       "      <th>129</th>\n",
       "      <th>130</th>\n",
       "      <th>131</th>\n",
       "      <th>132</th>\n",
       "      <th>133</th>\n",
       "      <th>134</th>\n",
       "      <th>135</th>\n",
       "      <th>136</th>\n",
       "      <th>137</th>\n",
       "    </tr>\n",
       "  </thead>\n",
       "  <tbody>\n",
       "    <tr>\n",
       "      <th>0</th>\n",
       "      <td>2020</td>\n",
       "      <td>Finland</td>\n",
       "      <td>1</td>\n",
       "      <td>7.8087</td>\n",
       "      <td>1.285190</td>\n",
       "      <td>1.499526</td>\n",
       "      <td>0.961271</td>\n",
       "      <td>0.662317</td>\n",
       "      <td>0.477857</td>\n",
       "      <td>0.159670</td>\n",
       "      <td>...</td>\n",
       "      <td>0.0</td>\n",
       "      <td>0.0</td>\n",
       "      <td>0.0</td>\n",
       "      <td>0.0</td>\n",
       "      <td>0.0</td>\n",
       "      <td>0.0</td>\n",
       "      <td>0.0</td>\n",
       "      <td>0.0</td>\n",
       "      <td>0.0</td>\n",
       "      <td>0.0</td>\n",
       "    </tr>\n",
       "    <tr>\n",
       "      <th>1</th>\n",
       "      <td>2020</td>\n",
       "      <td>Denmark</td>\n",
       "      <td>2</td>\n",
       "      <td>7.6456</td>\n",
       "      <td>1.326949</td>\n",
       "      <td>1.503449</td>\n",
       "      <td>0.979333</td>\n",
       "      <td>0.665040</td>\n",
       "      <td>0.495260</td>\n",
       "      <td>0.242793</td>\n",
       "      <td>...</td>\n",
       "      <td>0.0</td>\n",
       "      <td>0.0</td>\n",
       "      <td>0.0</td>\n",
       "      <td>0.0</td>\n",
       "      <td>0.0</td>\n",
       "      <td>0.0</td>\n",
       "      <td>0.0</td>\n",
       "      <td>0.0</td>\n",
       "      <td>0.0</td>\n",
       "      <td>0.0</td>\n",
       "    </tr>\n",
       "    <tr>\n",
       "      <th>2</th>\n",
       "      <td>2020</td>\n",
       "      <td>Switzerland</td>\n",
       "      <td>3</td>\n",
       "      <td>7.5599</td>\n",
       "      <td>1.390774</td>\n",
       "      <td>1.472403</td>\n",
       "      <td>1.040533</td>\n",
       "      <td>0.628954</td>\n",
       "      <td>0.407946</td>\n",
       "      <td>0.269056</td>\n",
       "      <td>...</td>\n",
       "      <td>0.0</td>\n",
       "      <td>0.0</td>\n",
       "      <td>0.0</td>\n",
       "      <td>0.0</td>\n",
       "      <td>0.0</td>\n",
       "      <td>0.0</td>\n",
       "      <td>0.0</td>\n",
       "      <td>0.0</td>\n",
       "      <td>0.0</td>\n",
       "      <td>0.0</td>\n",
       "    </tr>\n",
       "    <tr>\n",
       "      <th>3</th>\n",
       "      <td>2020</td>\n",
       "      <td>Iceland</td>\n",
       "      <td>4</td>\n",
       "      <td>7.5045</td>\n",
       "      <td>1.326502</td>\n",
       "      <td>1.547567</td>\n",
       "      <td>1.000843</td>\n",
       "      <td>0.661981</td>\n",
       "      <td>0.144541</td>\n",
       "      <td>0.362330</td>\n",
       "      <td>...</td>\n",
       "      <td>0.0</td>\n",
       "      <td>0.0</td>\n",
       "      <td>0.0</td>\n",
       "      <td>0.0</td>\n",
       "      <td>0.0</td>\n",
       "      <td>0.0</td>\n",
       "      <td>0.0</td>\n",
       "      <td>0.0</td>\n",
       "      <td>0.0</td>\n",
       "      <td>0.0</td>\n",
       "    </tr>\n",
       "    <tr>\n",
       "      <th>4</th>\n",
       "      <td>2020</td>\n",
       "      <td>Norway</td>\n",
       "      <td>5</td>\n",
       "      <td>7.4880</td>\n",
       "      <td>1.424207</td>\n",
       "      <td>1.495173</td>\n",
       "      <td>1.008072</td>\n",
       "      <td>0.670201</td>\n",
       "      <td>0.434101</td>\n",
       "      <td>0.287985</td>\n",
       "      <td>...</td>\n",
       "      <td>0.0</td>\n",
       "      <td>0.0</td>\n",
       "      <td>0.0</td>\n",
       "      <td>0.0</td>\n",
       "      <td>0.0</td>\n",
       "      <td>0.0</td>\n",
       "      <td>0.0</td>\n",
       "      <td>0.0</td>\n",
       "      <td>0.0</td>\n",
       "      <td>0.0</td>\n",
       "    </tr>\n",
       "    <tr>\n",
       "      <th>...</th>\n",
       "      <td>...</td>\n",
       "      <td>...</td>\n",
       "      <td>...</td>\n",
       "      <td>...</td>\n",
       "      <td>...</td>\n",
       "      <td>...</td>\n",
       "      <td>...</td>\n",
       "      <td>...</td>\n",
       "      <td>...</td>\n",
       "      <td>...</td>\n",
       "      <td>...</td>\n",
       "      <td>...</td>\n",
       "      <td>...</td>\n",
       "      <td>...</td>\n",
       "      <td>...</td>\n",
       "      <td>...</td>\n",
       "      <td>...</td>\n",
       "      <td>...</td>\n",
       "      <td>...</td>\n",
       "      <td>...</td>\n",
       "      <td>...</td>\n",
       "    </tr>\n",
       "    <tr>\n",
       "      <th>133</th>\n",
       "      <td>2020</td>\n",
       "      <td>Botswana</td>\n",
       "      <td>147</td>\n",
       "      <td>3.4789</td>\n",
       "      <td>0.997549</td>\n",
       "      <td>1.085695</td>\n",
       "      <td>0.494102</td>\n",
       "      <td>0.509089</td>\n",
       "      <td>0.101786</td>\n",
       "      <td>0.033407</td>\n",
       "      <td>...</td>\n",
       "      <td>0.0</td>\n",
       "      <td>0.0</td>\n",
       "      <td>0.0</td>\n",
       "      <td>0.0</td>\n",
       "      <td>0.0</td>\n",
       "      <td>0.0</td>\n",
       "      <td>0.0</td>\n",
       "      <td>0.0</td>\n",
       "      <td>0.0</td>\n",
       "      <td>0.0</td>\n",
       "    </tr>\n",
       "    <tr>\n",
       "      <th>134</th>\n",
       "      <td>2020</td>\n",
       "      <td>Tanzania</td>\n",
       "      <td>148</td>\n",
       "      <td>3.4762</td>\n",
       "      <td>0.457163</td>\n",
       "      <td>0.872675</td>\n",
       "      <td>0.442678</td>\n",
       "      <td>0.509343</td>\n",
       "      <td>0.203881</td>\n",
       "      <td>0.271541</td>\n",
       "      <td>...</td>\n",
       "      <td>0.0</td>\n",
       "      <td>0.0</td>\n",
       "      <td>0.0</td>\n",
       "      <td>0.0</td>\n",
       "      <td>0.0</td>\n",
       "      <td>0.0</td>\n",
       "      <td>0.0</td>\n",
       "      <td>0.0</td>\n",
       "      <td>0.0</td>\n",
       "      <td>0.0</td>\n",
       "    </tr>\n",
       "    <tr>\n",
       "      <th>135</th>\n",
       "      <td>2020</td>\n",
       "      <td>Rwanda</td>\n",
       "      <td>150</td>\n",
       "      <td>3.3123</td>\n",
       "      <td>0.343243</td>\n",
       "      <td>0.522876</td>\n",
       "      <td>0.572383</td>\n",
       "      <td>0.604088</td>\n",
       "      <td>0.485542</td>\n",
       "      <td>0.235705</td>\n",
       "      <td>...</td>\n",
       "      <td>0.0</td>\n",
       "      <td>0.0</td>\n",
       "      <td>0.0</td>\n",
       "      <td>0.0</td>\n",
       "      <td>0.0</td>\n",
       "      <td>0.0</td>\n",
       "      <td>0.0</td>\n",
       "      <td>0.0</td>\n",
       "      <td>0.0</td>\n",
       "      <td>0.0</td>\n",
       "    </tr>\n",
       "    <tr>\n",
       "      <th>136</th>\n",
       "      <td>2020</td>\n",
       "      <td>Zimbabwe</td>\n",
       "      <td>151</td>\n",
       "      <td>3.2992</td>\n",
       "      <td>0.425564</td>\n",
       "      <td>1.047835</td>\n",
       "      <td>0.375038</td>\n",
       "      <td>0.377405</td>\n",
       "      <td>0.080929</td>\n",
       "      <td>0.151349</td>\n",
       "      <td>...</td>\n",
       "      <td>0.0</td>\n",
       "      <td>0.0</td>\n",
       "      <td>1.0</td>\n",
       "      <td>0.0</td>\n",
       "      <td>0.0</td>\n",
       "      <td>0.0</td>\n",
       "      <td>0.0</td>\n",
       "      <td>0.0</td>\n",
       "      <td>0.0</td>\n",
       "      <td>0.0</td>\n",
       "    </tr>\n",
       "    <tr>\n",
       "      <th>137</th>\n",
       "      <td>2020</td>\n",
       "      <td>Afghanistan</td>\n",
       "      <td>153</td>\n",
       "      <td>2.5669</td>\n",
       "      <td>0.300706</td>\n",
       "      <td>0.356434</td>\n",
       "      <td>0.266052</td>\n",
       "      <td>0.000000</td>\n",
       "      <td>0.001226</td>\n",
       "      <td>0.135235</td>\n",
       "      <td>...</td>\n",
       "      <td>0.0</td>\n",
       "      <td>0.0</td>\n",
       "      <td>0.0</td>\n",
       "      <td>0.0</td>\n",
       "      <td>0.0</td>\n",
       "      <td>0.0</td>\n",
       "      <td>0.0</td>\n",
       "      <td>0.0</td>\n",
       "      <td>0.0</td>\n",
       "      <td>0.0</td>\n",
       "    </tr>\n",
       "  </tbody>\n",
       "</table>\n",
       "<p>138 rows × 148 columns</p>\n",
       "</div>"
      ],
      "text/plain": [
       "     year Country or region  Overall rank   Score  GDP per capita  \\\n",
       "0    2020           Finland             1  7.8087        1.285190   \n",
       "1    2020           Denmark             2  7.6456        1.326949   \n",
       "2    2020       Switzerland             3  7.5599        1.390774   \n",
       "3    2020           Iceland             4  7.5045        1.326502   \n",
       "4    2020            Norway             5  7.4880        1.424207   \n",
       "..    ...               ...           ...     ...             ...   \n",
       "133  2020          Botswana           147  3.4789        0.997549   \n",
       "134  2020          Tanzania           148  3.4762        0.457163   \n",
       "135  2020            Rwanda           150  3.3123        0.343243   \n",
       "136  2020          Zimbabwe           151  3.2992        0.425564   \n",
       "137  2020       Afghanistan           153  2.5669        0.300706   \n",
       "\n",
       "     Social support  Healthy life expectancy   Freedom  \\\n",
       "0          1.499526                 0.961271  0.662317   \n",
       "1          1.503449                 0.979333  0.665040   \n",
       "2          1.472403                 1.040533  0.628954   \n",
       "3          1.547567                 1.000843  0.661981   \n",
       "4          1.495173                 1.008072  0.670201   \n",
       "..              ...                      ...       ...   \n",
       "133        1.085695                 0.494102  0.509089   \n",
       "134        0.872675                 0.442678  0.509343   \n",
       "135        0.522876                 0.572383  0.604088   \n",
       "136        1.047835                 0.375038  0.377405   \n",
       "137        0.356434                 0.266052  0.000000   \n",
       "\n",
       "     Perceptions of corruption  Generosity  ...  128  129  130  131  132  133  \\\n",
       "0                     0.477857    0.159670  ...  0.0  0.0  0.0  0.0  0.0  0.0   \n",
       "1                     0.495260    0.242793  ...  0.0  0.0  0.0  0.0  0.0  0.0   \n",
       "2                     0.407946    0.269056  ...  0.0  0.0  0.0  0.0  0.0  0.0   \n",
       "3                     0.144541    0.362330  ...  0.0  0.0  0.0  0.0  0.0  0.0   \n",
       "4                     0.434101    0.287985  ...  0.0  0.0  0.0  0.0  0.0  0.0   \n",
       "..                         ...         ...  ...  ...  ...  ...  ...  ...  ...   \n",
       "133                   0.101786    0.033407  ...  0.0  0.0  0.0  0.0  0.0  0.0   \n",
       "134                   0.203881    0.271541  ...  0.0  0.0  0.0  0.0  0.0  0.0   \n",
       "135                   0.485542    0.235705  ...  0.0  0.0  0.0  0.0  0.0  0.0   \n",
       "136                   0.080929    0.151349  ...  0.0  0.0  1.0  0.0  0.0  0.0   \n",
       "137                   0.001226    0.135235  ...  0.0  0.0  0.0  0.0  0.0  0.0   \n",
       "\n",
       "     134  135  136  137  \n",
       "0    0.0  0.0  0.0  0.0  \n",
       "1    0.0  0.0  0.0  0.0  \n",
       "2    0.0  0.0  0.0  0.0  \n",
       "3    0.0  0.0  0.0  0.0  \n",
       "4    0.0  0.0  0.0  0.0  \n",
       "..   ...  ...  ...  ...  \n",
       "133  0.0  0.0  0.0  0.0  \n",
       "134  0.0  0.0  0.0  0.0  \n",
       "135  0.0  0.0  0.0  0.0  \n",
       "136  0.0  0.0  0.0  0.0  \n",
       "137  0.0  0.0  0.0  0.0  \n",
       "\n",
       "[138 rows x 148 columns]"
      ]
     },
     "execution_count": 2161,
     "metadata": {},
     "output_type": "execute_result"
    }
   ],
   "source": [
    "df2020"
   ]
  },
  {
   "cell_type": "markdown",
   "id": "apart-sword",
   "metadata": {},
   "source": [
    "### GDP"
   ]
  },
  {
   "cell_type": "code",
   "execution_count": 2162,
   "id": "seeing-illustration",
   "metadata": {},
   "outputs": [
    {
     "data": {
      "application/vnd.plotly.v1+json": {
       "config": {
        "plotlyServerURL": "https://plot.ly"
       },
       "data": [
        {
         "hovertemplate": "Country or region=Switzerland<br>year=%{x}<br>GDP per capita=%{y}<extra></extra>",
         "legendgroup": "Switzerland",
         "line": {
          "color": "#636efa",
          "dash": "solid"
         },
         "mode": "lines",
         "name": "Switzerland",
         "orientation": "v",
         "showlegend": true,
         "type": "scatter",
         "x": [
          2015,
          2016,
          2017,
          2018,
          2019,
          2020
         ],
         "xaxis": "x",
         "y": [
          1.39651,
          1.52733,
          1.56497955322266,
          1.42,
          1.452,
          1.39077425
         ],
         "yaxis": "y"
        },
        {
         "hovertemplate": "Country or region=Iceland<br>year=%{x}<br>GDP per capita=%{y}<extra></extra>",
         "legendgroup": "Iceland",
         "line": {
          "color": "#EF553B",
          "dash": "solid"
         },
         "mode": "lines",
         "name": "Iceland",
         "orientation": "v",
         "showlegend": true,
         "type": "scatter",
         "x": [
          2015,
          2016,
          2017,
          2018,
          2019,
          2020
         ],
         "xaxis": "x",
         "y": [
          1.30232,
          1.42666,
          1.480633020401,
          1.343,
          1.38,
          1.326501608
         ],
         "yaxis": "y"
        },
        {
         "hovertemplate": "Country or region=Denmark<br>year=%{x}<br>GDP per capita=%{y}<extra></extra>",
         "legendgroup": "Denmark",
         "line": {
          "color": "#00cc96",
          "dash": "solid"
         },
         "mode": "lines",
         "name": "Denmark",
         "orientation": "v",
         "showlegend": true,
         "type": "scatter",
         "x": [
          2015,
          2016,
          2017,
          2018,
          2019,
          2020
         ],
         "xaxis": "x",
         "y": [
          1.32548,
          1.44178,
          1.48238301277161,
          1.351,
          1.383,
          1.326948524
         ],
         "yaxis": "y"
        },
        {
         "hovertemplate": "Country or region=Norway<br>year=%{x}<br>GDP per capita=%{y}<extra></extra>",
         "legendgroup": "Norway",
         "line": {
          "color": "#ab63fa",
          "dash": "solid"
         },
         "mode": "lines",
         "name": "Norway",
         "orientation": "v",
         "showlegend": true,
         "type": "scatter",
         "x": [
          2015,
          2016,
          2017,
          2018,
          2019,
          2020
         ],
         "xaxis": "x",
         "y": [
          1.459,
          1.57744,
          1.61646318435669,
          1.456,
          1.488,
          1.42420733
         ],
         "yaxis": "y"
        },
        {
         "hovertemplate": "Country or region=Canada<br>year=%{x}<br>GDP per capita=%{y}<extra></extra>",
         "legendgroup": "Canada",
         "line": {
          "color": "#FFA15A",
          "dash": "solid"
         },
         "mode": "lines",
         "name": "Canada",
         "orientation": "v",
         "showlegend": true,
         "type": "scatter",
         "x": [
          2015,
          2016,
          2017,
          2018,
          2019,
          2020
         ],
         "xaxis": "x",
         "y": [
          1.32629,
          1.44015,
          1.47920441627502,
          1.33,
          1.365,
          1.301647663
         ],
         "yaxis": "y"
        },
        {
         "hovertemplate": "Country or region=Finland<br>year=%{x}<br>GDP per capita=%{y}<extra></extra>",
         "legendgroup": "Finland",
         "line": {
          "color": "#19d3f3",
          "dash": "solid"
         },
         "mode": "lines",
         "name": "Finland",
         "orientation": "v",
         "showlegend": true,
         "type": "scatter",
         "x": [
          2015,
          2016,
          2017,
          2018,
          2019,
          2020
         ],
         "xaxis": "x",
         "y": [
          1.29025,
          1.40598,
          1.44357192516327,
          1.305,
          1.34,
          1.285189509
         ],
         "yaxis": "y"
        },
        {
         "hovertemplate": "Country or region=Netherlands<br>year=%{x}<br>GDP per capita=%{y}<extra></extra>",
         "legendgroup": "Netherlands",
         "line": {
          "color": "#FF6692",
          "dash": "solid"
         },
         "mode": "lines",
         "name": "Netherlands",
         "orientation": "v",
         "showlegend": true,
         "type": "scatter",
         "x": [
          2015,
          2016,
          2017,
          2018,
          2019,
          2020
         ],
         "xaxis": "x",
         "y": [
          1.32944,
          1.46468,
          1.50394463539124,
          1.361,
          1.396,
          1.338946342
         ],
         "yaxis": "y"
        },
        {
         "hovertemplate": "Country or region=Sweden<br>year=%{x}<br>GDP per capita=%{y}<extra></extra>",
         "legendgroup": "Sweden",
         "line": {
          "color": "#B6E880",
          "dash": "solid"
         },
         "mode": "lines",
         "name": "Sweden",
         "orientation": "v",
         "showlegend": true,
         "type": "scatter",
         "x": [
          2015,
          2016,
          2017,
          2018,
          2019,
          2020
         ],
         "xaxis": "x",
         "y": [
          1.33171,
          1.45181,
          1.49438726902008,
          1.355,
          1.387,
          1.322235227
         ],
         "yaxis": "y"
        },
        {
         "hovertemplate": "Country or region=New Zealand<br>year=%{x}<br>GDP per capita=%{y}<extra></extra>",
         "legendgroup": "New Zealand",
         "line": {
          "color": "#FF97FF",
          "dash": "solid"
         },
         "mode": "lines",
         "name": "New Zealand",
         "orientation": "v",
         "showlegend": true,
         "type": "scatter",
         "x": [
          2015,
          2016,
          2017,
          2018,
          2019,
          2020
         ],
         "xaxis": "x",
         "y": [
          1.25018,
          1.36066,
          1.40570604801178,
          1.268,
          1.303,
          1.242317915
         ],
         "yaxis": "y"
        },
        {
         "hovertemplate": "Country or region=Austria<br>year=%{x}<br>GDP per capita=%{y}<extra></extra>",
         "legendgroup": "Austria",
         "line": {
          "color": "#FECB52",
          "dash": "solid"
         },
         "mode": "lines",
         "name": "Austria",
         "orientation": "v",
         "showlegend": true,
         "type": "scatter",
         "x": [
          2015,
          2016,
          2017,
          2018,
          2019,
          2020
         ],
         "xaxis": "x",
         "y": [
          1.33723,
          1.45038,
          1.48709726333618,
          1.341,
          1.376,
          1.317285538
         ],
         "yaxis": "y"
        },
        {
         "hovertemplate": "Country or region=United States<br>year=%{x}<br>GDP per capita=%{y}<extra></extra>",
         "legendgroup": "United States",
         "line": {
          "color": "#636efa",
          "dash": "solid"
         },
         "mode": "lines",
         "name": "United States",
         "orientation": "v",
         "showlegend": true,
         "type": "scatter",
         "x": [
          2015,
          2016,
          2017,
          2018,
          2019,
          2020
         ],
         "xaxis": "x",
         "y": [
          1.39451,
          1.50796,
          1.54625928401947,
          1.398,
          1.433,
          1.37398684
         ],
         "yaxis": "y"
        },
        {
         "hovertemplate": "Country or region=Luxembourg<br>year=%{x}<br>GDP per capita=%{y}<extra></extra>",
         "legendgroup": "Luxembourg",
         "line": {
          "color": "#EF553B",
          "dash": "solid"
         },
         "mode": "lines",
         "name": "Luxembourg",
         "orientation": "v",
         "showlegend": true,
         "type": "scatter",
         "x": [
          2015,
          2016,
          2017,
          2018,
          2019,
          2020
         ],
         "xaxis": "x",
         "y": [
          1.56391,
          1.69752,
          1.74194359779358,
          1.576,
          1.609,
          1.536676049
         ],
         "yaxis": "y"
        },
        {
         "hovertemplate": "Country or region=South Korea<br>year=%{x}<br>GDP per capita=%{y}<extra></extra>",
         "legendgroup": "South Korea",
         "line": {
          "color": "#00cc96",
          "dash": "solid"
         },
         "mode": "lines",
         "name": "South Korea",
         "orientation": "v",
         "showlegend": true,
         "type": "scatter",
         "x": [
          2015,
          2016,
          2017,
          2018,
          2019,
          2020
         ],
         "xaxis": "x",
         "y": [
          1.24461,
          1.35948,
          1.40167844295502,
          1.266,
          1.301,
          1.245300651
         ],
         "yaxis": "y"
        },
        {
         "hovertemplate": "Country or region=Russia<br>year=%{x}<br>GDP per capita=%{y}<extra></extra>",
         "legendgroup": "Russia",
         "line": {
          "color": "#ab63fa",
          "dash": "solid"
         },
         "mode": "lines",
         "name": "Russia",
         "orientation": "v",
         "showlegend": true,
         "type": "scatter",
         "x": [
          2015,
          2016,
          2017,
          2018,
          2019,
          2020
         ],
         "xaxis": "x",
         "y": [
          1.13764,
          1.23228,
          1.28177809715271,
          1.151,
          1.183,
          1.126999617
         ],
         "yaxis": "y"
        },
        {
         "hovertemplate": "Country or region=Zambia<br>year=%{x}<br>GDP per capita=%{y}<extra></extra>",
         "legendgroup": "Zambia",
         "line": {
          "color": "#FFA15A",
          "dash": "solid"
         },
         "mode": "lines",
         "name": "Zambia",
         "orientation": "v",
         "showlegend": true,
         "type": "scatter",
         "x": [
          2015,
          2016,
          2017,
          2018,
          2019,
          2020
         ],
         "xaxis": "x",
         "y": [
          0.47038,
          0.61202,
          0.636406779289246,
          0.562,
          0.578,
          0.536833763
         ],
         "yaxis": "y"
        },
        {
         "hovertemplate": "Country or region=Zimbabwe<br>year=%{x}<br>GDP per capita=%{y}<extra></extra>",
         "legendgroup": "Zimbabwe",
         "line": {
          "color": "#19d3f3",
          "dash": "solid"
         },
         "mode": "lines",
         "name": "Zimbabwe",
         "orientation": "v",
         "showlegend": true,
         "type": "scatter",
         "x": [
          2015,
          2016,
          2017,
          2018,
          2019,
          2020
         ],
         "xaxis": "x",
         "y": [
          0.271,
          0.35041,
          0.375846534967422,
          0.357,
          0.366,
          0.425564021
         ],
         "yaxis": "y"
        },
        {
         "hovertemplate": "Country or region=India<br>year=%{x}<br>GDP per capita=%{y}<extra></extra>",
         "legendgroup": "India",
         "line": {
          "color": "#FF6692",
          "dash": "solid"
         },
         "mode": "lines",
         "name": "India",
         "orientation": "v",
         "showlegend": true,
         "type": "scatter",
         "x": [
          2015,
          2016,
          2017,
          2018,
          2019,
          2020
         ],
         "xaxis": "x",
         "y": [
          0.64499,
          0.74036,
          0.792221248149872,
          0.721,
          0.755,
          0.730576158
         ],
         "yaxis": "y"
        },
        {
         "hovertemplate": "Country or region=Haiti<br>year=%{x}<br>GDP per capita=%{y}<extra></extra>",
         "legendgroup": "Haiti",
         "line": {
          "color": "#B6E880",
          "dash": "solid"
         },
         "mode": "lines",
         "name": "Haiti",
         "orientation": "v",
         "showlegend": true,
         "type": "scatter",
         "x": [
          2015,
          2016,
          2017,
          2018,
          2019,
          2020
         ],
         "xaxis": "x",
         "y": [
          0.26673,
          0.34097,
          0.368610262870789,
          0.315,
          0.323,
          0.284734428
         ],
         "yaxis": "y"
        },
        {
         "hovertemplate": "Country or region=Botswana<br>year=%{x}<br>GDP per capita=%{y}<extra></extra>",
         "legendgroup": "Botswana",
         "line": {
          "color": "#FF97FF",
          "dash": "solid"
         },
         "mode": "lines",
         "name": "Botswana",
         "orientation": "v",
         "showlegend": true,
         "type": "scatter",
         "x": [
          2015,
          2016,
          2017,
          2018,
          2019,
          2020
         ],
         "xaxis": "x",
         "y": [
          0.99355,
          1.09426,
          1.12209415435791,
          1.017,
          1.041,
          0.997548997
         ],
         "yaxis": "y"
        },
        {
         "hovertemplate": "Country or region=Malawi<br>year=%{x}<br>GDP per capita=%{y}<extra></extra>",
         "legendgroup": "Malawi",
         "line": {
          "color": "#FECB52",
          "dash": "solid"
         },
         "mode": "lines",
         "name": "Malawi",
         "orientation": "v",
         "showlegend": true,
         "type": "scatter",
         "x": [
          2015,
          2016,
          2017,
          2018,
          2019,
          2020
         ],
         "xaxis": "x",
         "y": [
          0.01604,
          0.08709,
          0.233442038297653,
          0.186,
          0.191,
          0.176534727
         ],
         "yaxis": "y"
        },
        {
         "hovertemplate": "Country or region=Yemen<br>year=%{x}<br>GDP per capita=%{y}<extra></extra>",
         "legendgroup": "Yemen",
         "line": {
          "color": "#636efa",
          "dash": "solid"
         },
         "mode": "lines",
         "name": "Yemen",
         "orientation": "v",
         "showlegend": true,
         "type": "scatter",
         "x": [
          2015,
          2016,
          2017,
          2018,
          2019,
          2020
         ],
         "xaxis": "x",
         "y": [
          0.54649,
          0.57939,
          0.591683447360992,
          0.442,
          0.287,
          0.392701775
         ],
         "yaxis": "y"
        },
        {
         "hovertemplate": "Country or region=Tanzania<br>year=%{x}<br>GDP per capita=%{y}<extra></extra>",
         "legendgroup": "Tanzania",
         "line": {
          "color": "#EF553B",
          "dash": "solid"
         },
         "mode": "lines",
         "name": "Tanzania",
         "orientation": "v",
         "showlegend": true,
         "type": "scatter",
         "x": [
          2015,
          2016,
          2017,
          2018,
          2019,
          2020
         ],
         "xaxis": "x",
         "y": [
          0.2852,
          0.47155,
          0.511135876178741,
          0.455,
          0.476,
          0.457163125
         ],
         "yaxis": "y"
        },
        {
         "hovertemplate": "Country or region=Afghanistan<br>year=%{x}<br>GDP per capita=%{y}<extra></extra>",
         "legendgroup": "Afghanistan",
         "line": {
          "color": "#00cc96",
          "dash": "solid"
         },
         "mode": "lines",
         "name": "Afghanistan",
         "orientation": "v",
         "showlegend": true,
         "type": "scatter",
         "x": [
          2015,
          2016,
          2017,
          2018,
          2019,
          2020
         ],
         "xaxis": "x",
         "y": [
          0.31982,
          0.38227,
          0.401477217674255,
          0.332,
          0.35,
          0.30070585
         ],
         "yaxis": "y"
        },
        {
         "hovertemplate": "Country or region=Rwanda<br>year=%{x}<br>GDP per capita=%{y}<extra></extra>",
         "legendgroup": "Rwanda",
         "line": {
          "color": "#ab63fa",
          "dash": "solid"
         },
         "mode": "lines",
         "name": "Rwanda",
         "orientation": "v",
         "showlegend": true,
         "type": "scatter",
         "x": [
          2015,
          2016,
          2017,
          2018,
          2019,
          2020
         ],
         "xaxis": "x",
         "y": [
          0.22208,
          0.32846,
          0.368745893239975,
          0.332,
          0.359,
          0.343242675
         ],
         "yaxis": "y"
        }
       ],
       "layout": {
        "legend": {
         "title": {
          "text": "Country or region"
         },
         "tracegroupgap": 0
        },
        "template": {
         "data": {
          "bar": [
           {
            "error_x": {
             "color": "#2a3f5f"
            },
            "error_y": {
             "color": "#2a3f5f"
            },
            "marker": {
             "line": {
              "color": "#E5ECF6",
              "width": 0.5
             }
            },
            "type": "bar"
           }
          ],
          "barpolar": [
           {
            "marker": {
             "line": {
              "color": "#E5ECF6",
              "width": 0.5
             }
            },
            "type": "barpolar"
           }
          ],
          "carpet": [
           {
            "aaxis": {
             "endlinecolor": "#2a3f5f",
             "gridcolor": "white",
             "linecolor": "white",
             "minorgridcolor": "white",
             "startlinecolor": "#2a3f5f"
            },
            "baxis": {
             "endlinecolor": "#2a3f5f",
             "gridcolor": "white",
             "linecolor": "white",
             "minorgridcolor": "white",
             "startlinecolor": "#2a3f5f"
            },
            "type": "carpet"
           }
          ],
          "choropleth": [
           {
            "colorbar": {
             "outlinewidth": 0,
             "ticks": ""
            },
            "type": "choropleth"
           }
          ],
          "contour": [
           {
            "colorbar": {
             "outlinewidth": 0,
             "ticks": ""
            },
            "colorscale": [
             [
              0,
              "#0d0887"
             ],
             [
              0.1111111111111111,
              "#46039f"
             ],
             [
              0.2222222222222222,
              "#7201a8"
             ],
             [
              0.3333333333333333,
              "#9c179e"
             ],
             [
              0.4444444444444444,
              "#bd3786"
             ],
             [
              0.5555555555555556,
              "#d8576b"
             ],
             [
              0.6666666666666666,
              "#ed7953"
             ],
             [
              0.7777777777777778,
              "#fb9f3a"
             ],
             [
              0.8888888888888888,
              "#fdca26"
             ],
             [
              1,
              "#f0f921"
             ]
            ],
            "type": "contour"
           }
          ],
          "contourcarpet": [
           {
            "colorbar": {
             "outlinewidth": 0,
             "ticks": ""
            },
            "type": "contourcarpet"
           }
          ],
          "heatmap": [
           {
            "colorbar": {
             "outlinewidth": 0,
             "ticks": ""
            },
            "colorscale": [
             [
              0,
              "#0d0887"
             ],
             [
              0.1111111111111111,
              "#46039f"
             ],
             [
              0.2222222222222222,
              "#7201a8"
             ],
             [
              0.3333333333333333,
              "#9c179e"
             ],
             [
              0.4444444444444444,
              "#bd3786"
             ],
             [
              0.5555555555555556,
              "#d8576b"
             ],
             [
              0.6666666666666666,
              "#ed7953"
             ],
             [
              0.7777777777777778,
              "#fb9f3a"
             ],
             [
              0.8888888888888888,
              "#fdca26"
             ],
             [
              1,
              "#f0f921"
             ]
            ],
            "type": "heatmap"
           }
          ],
          "heatmapgl": [
           {
            "colorbar": {
             "outlinewidth": 0,
             "ticks": ""
            },
            "colorscale": [
             [
              0,
              "#0d0887"
             ],
             [
              0.1111111111111111,
              "#46039f"
             ],
             [
              0.2222222222222222,
              "#7201a8"
             ],
             [
              0.3333333333333333,
              "#9c179e"
             ],
             [
              0.4444444444444444,
              "#bd3786"
             ],
             [
              0.5555555555555556,
              "#d8576b"
             ],
             [
              0.6666666666666666,
              "#ed7953"
             ],
             [
              0.7777777777777778,
              "#fb9f3a"
             ],
             [
              0.8888888888888888,
              "#fdca26"
             ],
             [
              1,
              "#f0f921"
             ]
            ],
            "type": "heatmapgl"
           }
          ],
          "histogram": [
           {
            "marker": {
             "colorbar": {
              "outlinewidth": 0,
              "ticks": ""
             }
            },
            "type": "histogram"
           }
          ],
          "histogram2d": [
           {
            "colorbar": {
             "outlinewidth": 0,
             "ticks": ""
            },
            "colorscale": [
             [
              0,
              "#0d0887"
             ],
             [
              0.1111111111111111,
              "#46039f"
             ],
             [
              0.2222222222222222,
              "#7201a8"
             ],
             [
              0.3333333333333333,
              "#9c179e"
             ],
             [
              0.4444444444444444,
              "#bd3786"
             ],
             [
              0.5555555555555556,
              "#d8576b"
             ],
             [
              0.6666666666666666,
              "#ed7953"
             ],
             [
              0.7777777777777778,
              "#fb9f3a"
             ],
             [
              0.8888888888888888,
              "#fdca26"
             ],
             [
              1,
              "#f0f921"
             ]
            ],
            "type": "histogram2d"
           }
          ],
          "histogram2dcontour": [
           {
            "colorbar": {
             "outlinewidth": 0,
             "ticks": ""
            },
            "colorscale": [
             [
              0,
              "#0d0887"
             ],
             [
              0.1111111111111111,
              "#46039f"
             ],
             [
              0.2222222222222222,
              "#7201a8"
             ],
             [
              0.3333333333333333,
              "#9c179e"
             ],
             [
              0.4444444444444444,
              "#bd3786"
             ],
             [
              0.5555555555555556,
              "#d8576b"
             ],
             [
              0.6666666666666666,
              "#ed7953"
             ],
             [
              0.7777777777777778,
              "#fb9f3a"
             ],
             [
              0.8888888888888888,
              "#fdca26"
             ],
             [
              1,
              "#f0f921"
             ]
            ],
            "type": "histogram2dcontour"
           }
          ],
          "mesh3d": [
           {
            "colorbar": {
             "outlinewidth": 0,
             "ticks": ""
            },
            "type": "mesh3d"
           }
          ],
          "parcoords": [
           {
            "line": {
             "colorbar": {
              "outlinewidth": 0,
              "ticks": ""
             }
            },
            "type": "parcoords"
           }
          ],
          "pie": [
           {
            "automargin": true,
            "type": "pie"
           }
          ],
          "scatter": [
           {
            "marker": {
             "colorbar": {
              "outlinewidth": 0,
              "ticks": ""
             }
            },
            "type": "scatter"
           }
          ],
          "scatter3d": [
           {
            "line": {
             "colorbar": {
              "outlinewidth": 0,
              "ticks": ""
             }
            },
            "marker": {
             "colorbar": {
              "outlinewidth": 0,
              "ticks": ""
             }
            },
            "type": "scatter3d"
           }
          ],
          "scattercarpet": [
           {
            "marker": {
             "colorbar": {
              "outlinewidth": 0,
              "ticks": ""
             }
            },
            "type": "scattercarpet"
           }
          ],
          "scattergeo": [
           {
            "marker": {
             "colorbar": {
              "outlinewidth": 0,
              "ticks": ""
             }
            },
            "type": "scattergeo"
           }
          ],
          "scattergl": [
           {
            "marker": {
             "colorbar": {
              "outlinewidth": 0,
              "ticks": ""
             }
            },
            "type": "scattergl"
           }
          ],
          "scattermapbox": [
           {
            "marker": {
             "colorbar": {
              "outlinewidth": 0,
              "ticks": ""
             }
            },
            "type": "scattermapbox"
           }
          ],
          "scatterpolar": [
           {
            "marker": {
             "colorbar": {
              "outlinewidth": 0,
              "ticks": ""
             }
            },
            "type": "scatterpolar"
           }
          ],
          "scatterpolargl": [
           {
            "marker": {
             "colorbar": {
              "outlinewidth": 0,
              "ticks": ""
             }
            },
            "type": "scatterpolargl"
           }
          ],
          "scatterternary": [
           {
            "marker": {
             "colorbar": {
              "outlinewidth": 0,
              "ticks": ""
             }
            },
            "type": "scatterternary"
           }
          ],
          "surface": [
           {
            "colorbar": {
             "outlinewidth": 0,
             "ticks": ""
            },
            "colorscale": [
             [
              0,
              "#0d0887"
             ],
             [
              0.1111111111111111,
              "#46039f"
             ],
             [
              0.2222222222222222,
              "#7201a8"
             ],
             [
              0.3333333333333333,
              "#9c179e"
             ],
             [
              0.4444444444444444,
              "#bd3786"
             ],
             [
              0.5555555555555556,
              "#d8576b"
             ],
             [
              0.6666666666666666,
              "#ed7953"
             ],
             [
              0.7777777777777778,
              "#fb9f3a"
             ],
             [
              0.8888888888888888,
              "#fdca26"
             ],
             [
              1,
              "#f0f921"
             ]
            ],
            "type": "surface"
           }
          ],
          "table": [
           {
            "cells": {
             "fill": {
              "color": "#EBF0F8"
             },
             "line": {
              "color": "white"
             }
            },
            "header": {
             "fill": {
              "color": "#C8D4E3"
             },
             "line": {
              "color": "white"
             }
            },
            "type": "table"
           }
          ]
         },
         "layout": {
          "annotationdefaults": {
           "arrowcolor": "#2a3f5f",
           "arrowhead": 0,
           "arrowwidth": 1
          },
          "autotypenumbers": "strict",
          "coloraxis": {
           "colorbar": {
            "outlinewidth": 0,
            "ticks": ""
           }
          },
          "colorscale": {
           "diverging": [
            [
             0,
             "#8e0152"
            ],
            [
             0.1,
             "#c51b7d"
            ],
            [
             0.2,
             "#de77ae"
            ],
            [
             0.3,
             "#f1b6da"
            ],
            [
             0.4,
             "#fde0ef"
            ],
            [
             0.5,
             "#f7f7f7"
            ],
            [
             0.6,
             "#e6f5d0"
            ],
            [
             0.7,
             "#b8e186"
            ],
            [
             0.8,
             "#7fbc41"
            ],
            [
             0.9,
             "#4d9221"
            ],
            [
             1,
             "#276419"
            ]
           ],
           "sequential": [
            [
             0,
             "#0d0887"
            ],
            [
             0.1111111111111111,
             "#46039f"
            ],
            [
             0.2222222222222222,
             "#7201a8"
            ],
            [
             0.3333333333333333,
             "#9c179e"
            ],
            [
             0.4444444444444444,
             "#bd3786"
            ],
            [
             0.5555555555555556,
             "#d8576b"
            ],
            [
             0.6666666666666666,
             "#ed7953"
            ],
            [
             0.7777777777777778,
             "#fb9f3a"
            ],
            [
             0.8888888888888888,
             "#fdca26"
            ],
            [
             1,
             "#f0f921"
            ]
           ],
           "sequentialminus": [
            [
             0,
             "#0d0887"
            ],
            [
             0.1111111111111111,
             "#46039f"
            ],
            [
             0.2222222222222222,
             "#7201a8"
            ],
            [
             0.3333333333333333,
             "#9c179e"
            ],
            [
             0.4444444444444444,
             "#bd3786"
            ],
            [
             0.5555555555555556,
             "#d8576b"
            ],
            [
             0.6666666666666666,
             "#ed7953"
            ],
            [
             0.7777777777777778,
             "#fb9f3a"
            ],
            [
             0.8888888888888888,
             "#fdca26"
            ],
            [
             1,
             "#f0f921"
            ]
           ]
          },
          "colorway": [
           "#636efa",
           "#EF553B",
           "#00cc96",
           "#ab63fa",
           "#FFA15A",
           "#19d3f3",
           "#FF6692",
           "#B6E880",
           "#FF97FF",
           "#FECB52"
          ],
          "font": {
           "color": "#2a3f5f"
          },
          "geo": {
           "bgcolor": "white",
           "lakecolor": "white",
           "landcolor": "#E5ECF6",
           "showlakes": true,
           "showland": true,
           "subunitcolor": "white"
          },
          "hoverlabel": {
           "align": "left"
          },
          "hovermode": "closest",
          "mapbox": {
           "style": "light"
          },
          "paper_bgcolor": "white",
          "plot_bgcolor": "#E5ECF6",
          "polar": {
           "angularaxis": {
            "gridcolor": "white",
            "linecolor": "white",
            "ticks": ""
           },
           "bgcolor": "#E5ECF6",
           "radialaxis": {
            "gridcolor": "white",
            "linecolor": "white",
            "ticks": ""
           }
          },
          "scene": {
           "xaxis": {
            "backgroundcolor": "#E5ECF6",
            "gridcolor": "white",
            "gridwidth": 2,
            "linecolor": "white",
            "showbackground": true,
            "ticks": "",
            "zerolinecolor": "white"
           },
           "yaxis": {
            "backgroundcolor": "#E5ECF6",
            "gridcolor": "white",
            "gridwidth": 2,
            "linecolor": "white",
            "showbackground": true,
            "ticks": "",
            "zerolinecolor": "white"
           },
           "zaxis": {
            "backgroundcolor": "#E5ECF6",
            "gridcolor": "white",
            "gridwidth": 2,
            "linecolor": "white",
            "showbackground": true,
            "ticks": "",
            "zerolinecolor": "white"
           }
          },
          "shapedefaults": {
           "line": {
            "color": "#2a3f5f"
           }
          },
          "ternary": {
           "aaxis": {
            "gridcolor": "white",
            "linecolor": "white",
            "ticks": ""
           },
           "baxis": {
            "gridcolor": "white",
            "linecolor": "white",
            "ticks": ""
           },
           "bgcolor": "#E5ECF6",
           "caxis": {
            "gridcolor": "white",
            "linecolor": "white",
            "ticks": ""
           }
          },
          "title": {
           "x": 0.05
          },
          "xaxis": {
           "automargin": true,
           "gridcolor": "white",
           "linecolor": "white",
           "ticks": "",
           "title": {
            "standoff": 15
           },
           "zerolinecolor": "white",
           "zerolinewidth": 2
          },
          "yaxis": {
           "automargin": true,
           "gridcolor": "white",
           "linecolor": "white",
           "ticks": "",
           "title": {
            "standoff": 15
           },
           "zerolinecolor": "white",
           "zerolinewidth": 2
          }
         }
        },
        "title": {
         "text": "GDP per capita by country"
        },
        "xaxis": {
         "anchor": "y",
         "domain": [
          0,
          1
         ],
         "title": {
          "text": "year"
         }
        },
        "yaxis": {
         "anchor": "x",
         "domain": [
          0,
          1
         ],
         "title": {
          "text": "GDP per capita"
         }
        }
       }
      },
      "text/html": [
       "<div>                            <div id=\"e576194f-7c9d-4fbc-941a-19ae2a3f1048\" class=\"plotly-graph-div\" style=\"height:525px; width:100%;\"></div>            <script type=\"text/javascript\">                require([\"plotly\"], function(Plotly) {                    window.PLOTLYENV=window.PLOTLYENV || {};                                    if (document.getElementById(\"e576194f-7c9d-4fbc-941a-19ae2a3f1048\")) {                    Plotly.newPlot(                        \"e576194f-7c9d-4fbc-941a-19ae2a3f1048\",                        [{\"hovertemplate\": \"Country or region=Switzerland<br>year=%{x}<br>GDP per capita=%{y}<extra></extra>\", \"legendgroup\": \"Switzerland\", \"line\": {\"color\": \"#636efa\", \"dash\": \"solid\"}, \"mode\": \"lines\", \"name\": \"Switzerland\", \"orientation\": \"v\", \"showlegend\": true, \"type\": \"scatter\", \"x\": [2015, 2016, 2017, 2018, 2019, 2020], \"xaxis\": \"x\", \"y\": [1.39651, 1.52733, 1.56497955322266, 1.42, 1.452, 1.39077425], \"yaxis\": \"y\"}, {\"hovertemplate\": \"Country or region=Iceland<br>year=%{x}<br>GDP per capita=%{y}<extra></extra>\", \"legendgroup\": \"Iceland\", \"line\": {\"color\": \"#EF553B\", \"dash\": \"solid\"}, \"mode\": \"lines\", \"name\": \"Iceland\", \"orientation\": \"v\", \"showlegend\": true, \"type\": \"scatter\", \"x\": [2015, 2016, 2017, 2018, 2019, 2020], \"xaxis\": \"x\", \"y\": [1.30232, 1.42666, 1.480633020401, 1.343, 1.38, 1.326501608], \"yaxis\": \"y\"}, {\"hovertemplate\": \"Country or region=Denmark<br>year=%{x}<br>GDP per capita=%{y}<extra></extra>\", \"legendgroup\": \"Denmark\", \"line\": {\"color\": \"#00cc96\", \"dash\": \"solid\"}, \"mode\": \"lines\", \"name\": \"Denmark\", \"orientation\": \"v\", \"showlegend\": true, \"type\": \"scatter\", \"x\": [2015, 2016, 2017, 2018, 2019, 2020], \"xaxis\": \"x\", \"y\": [1.32548, 1.44178, 1.48238301277161, 1.351, 1.383, 1.326948524], \"yaxis\": \"y\"}, {\"hovertemplate\": \"Country or region=Norway<br>year=%{x}<br>GDP per capita=%{y}<extra></extra>\", \"legendgroup\": \"Norway\", \"line\": {\"color\": \"#ab63fa\", \"dash\": \"solid\"}, \"mode\": \"lines\", \"name\": \"Norway\", \"orientation\": \"v\", \"showlegend\": true, \"type\": \"scatter\", \"x\": [2015, 2016, 2017, 2018, 2019, 2020], \"xaxis\": \"x\", \"y\": [1.459, 1.57744, 1.61646318435669, 1.456, 1.488, 1.42420733], \"yaxis\": \"y\"}, {\"hovertemplate\": \"Country or region=Canada<br>year=%{x}<br>GDP per capita=%{y}<extra></extra>\", \"legendgroup\": \"Canada\", \"line\": {\"color\": \"#FFA15A\", \"dash\": \"solid\"}, \"mode\": \"lines\", \"name\": \"Canada\", \"orientation\": \"v\", \"showlegend\": true, \"type\": \"scatter\", \"x\": [2015, 2016, 2017, 2018, 2019, 2020], \"xaxis\": \"x\", \"y\": [1.32629, 1.44015, 1.47920441627502, 1.33, 1.365, 1.301647663], \"yaxis\": \"y\"}, {\"hovertemplate\": \"Country or region=Finland<br>year=%{x}<br>GDP per capita=%{y}<extra></extra>\", \"legendgroup\": \"Finland\", \"line\": {\"color\": \"#19d3f3\", \"dash\": \"solid\"}, \"mode\": \"lines\", \"name\": \"Finland\", \"orientation\": \"v\", \"showlegend\": true, \"type\": \"scatter\", \"x\": [2015, 2016, 2017, 2018, 2019, 2020], \"xaxis\": \"x\", \"y\": [1.29025, 1.40598, 1.44357192516327, 1.305, 1.34, 1.285189509], \"yaxis\": \"y\"}, {\"hovertemplate\": \"Country or region=Netherlands<br>year=%{x}<br>GDP per capita=%{y}<extra></extra>\", \"legendgroup\": \"Netherlands\", \"line\": {\"color\": \"#FF6692\", \"dash\": \"solid\"}, \"mode\": \"lines\", \"name\": \"Netherlands\", \"orientation\": \"v\", \"showlegend\": true, \"type\": \"scatter\", \"x\": [2015, 2016, 2017, 2018, 2019, 2020], \"xaxis\": \"x\", \"y\": [1.32944, 1.46468, 1.50394463539124, 1.361, 1.396, 1.338946342], \"yaxis\": \"y\"}, {\"hovertemplate\": \"Country or region=Sweden<br>year=%{x}<br>GDP per capita=%{y}<extra></extra>\", \"legendgroup\": \"Sweden\", \"line\": {\"color\": \"#B6E880\", \"dash\": \"solid\"}, \"mode\": \"lines\", \"name\": \"Sweden\", \"orientation\": \"v\", \"showlegend\": true, \"type\": \"scatter\", \"x\": [2015, 2016, 2017, 2018, 2019, 2020], \"xaxis\": \"x\", \"y\": [1.33171, 1.45181, 1.49438726902008, 1.355, 1.387, 1.322235227], \"yaxis\": \"y\"}, {\"hovertemplate\": \"Country or region=New Zealand<br>year=%{x}<br>GDP per capita=%{y}<extra></extra>\", \"legendgroup\": \"New Zealand\", \"line\": {\"color\": \"#FF97FF\", \"dash\": \"solid\"}, \"mode\": \"lines\", \"name\": \"New Zealand\", \"orientation\": \"v\", \"showlegend\": true, \"type\": \"scatter\", \"x\": [2015, 2016, 2017, 2018, 2019, 2020], \"xaxis\": \"x\", \"y\": [1.25018, 1.36066, 1.40570604801178, 1.268, 1.303, 1.242317915], \"yaxis\": \"y\"}, {\"hovertemplate\": \"Country or region=Austria<br>year=%{x}<br>GDP per capita=%{y}<extra></extra>\", \"legendgroup\": \"Austria\", \"line\": {\"color\": \"#FECB52\", \"dash\": \"solid\"}, \"mode\": \"lines\", \"name\": \"Austria\", \"orientation\": \"v\", \"showlegend\": true, \"type\": \"scatter\", \"x\": [2015, 2016, 2017, 2018, 2019, 2020], \"xaxis\": \"x\", \"y\": [1.33723, 1.45038, 1.48709726333618, 1.341, 1.376, 1.317285538], \"yaxis\": \"y\"}, {\"hovertemplate\": \"Country or region=United States<br>year=%{x}<br>GDP per capita=%{y}<extra></extra>\", \"legendgroup\": \"United States\", \"line\": {\"color\": \"#636efa\", \"dash\": \"solid\"}, \"mode\": \"lines\", \"name\": \"United States\", \"orientation\": \"v\", \"showlegend\": true, \"type\": \"scatter\", \"x\": [2015, 2016, 2017, 2018, 2019, 2020], \"xaxis\": \"x\", \"y\": [1.39451, 1.50796, 1.54625928401947, 1.398, 1.433, 1.37398684], \"yaxis\": \"y\"}, {\"hovertemplate\": \"Country or region=Luxembourg<br>year=%{x}<br>GDP per capita=%{y}<extra></extra>\", \"legendgroup\": \"Luxembourg\", \"line\": {\"color\": \"#EF553B\", \"dash\": \"solid\"}, \"mode\": \"lines\", \"name\": \"Luxembourg\", \"orientation\": \"v\", \"showlegend\": true, \"type\": \"scatter\", \"x\": [2015, 2016, 2017, 2018, 2019, 2020], \"xaxis\": \"x\", \"y\": [1.56391, 1.69752, 1.74194359779358, 1.576, 1.609, 1.536676049], \"yaxis\": \"y\"}, {\"hovertemplate\": \"Country or region=South Korea<br>year=%{x}<br>GDP per capita=%{y}<extra></extra>\", \"legendgroup\": \"South Korea\", \"line\": {\"color\": \"#00cc96\", \"dash\": \"solid\"}, \"mode\": \"lines\", \"name\": \"South Korea\", \"orientation\": \"v\", \"showlegend\": true, \"type\": \"scatter\", \"x\": [2015, 2016, 2017, 2018, 2019, 2020], \"xaxis\": \"x\", \"y\": [1.24461, 1.35948, 1.40167844295502, 1.266, 1.301, 1.245300651], \"yaxis\": \"y\"}, {\"hovertemplate\": \"Country or region=Russia<br>year=%{x}<br>GDP per capita=%{y}<extra></extra>\", \"legendgroup\": \"Russia\", \"line\": {\"color\": \"#ab63fa\", \"dash\": \"solid\"}, \"mode\": \"lines\", \"name\": \"Russia\", \"orientation\": \"v\", \"showlegend\": true, \"type\": \"scatter\", \"x\": [2015, 2016, 2017, 2018, 2019, 2020], \"xaxis\": \"x\", \"y\": [1.13764, 1.23228, 1.28177809715271, 1.151, 1.183, 1.126999617], \"yaxis\": \"y\"}, {\"hovertemplate\": \"Country or region=Zambia<br>year=%{x}<br>GDP per capita=%{y}<extra></extra>\", \"legendgroup\": \"Zambia\", \"line\": {\"color\": \"#FFA15A\", \"dash\": \"solid\"}, \"mode\": \"lines\", \"name\": \"Zambia\", \"orientation\": \"v\", \"showlegend\": true, \"type\": \"scatter\", \"x\": [2015, 2016, 2017, 2018, 2019, 2020], \"xaxis\": \"x\", \"y\": [0.47038, 0.61202, 0.636406779289246, 0.562, 0.578, 0.536833763], \"yaxis\": \"y\"}, {\"hovertemplate\": \"Country or region=Zimbabwe<br>year=%{x}<br>GDP per capita=%{y}<extra></extra>\", \"legendgroup\": \"Zimbabwe\", \"line\": {\"color\": \"#19d3f3\", \"dash\": \"solid\"}, \"mode\": \"lines\", \"name\": \"Zimbabwe\", \"orientation\": \"v\", \"showlegend\": true, \"type\": \"scatter\", \"x\": [2015, 2016, 2017, 2018, 2019, 2020], \"xaxis\": \"x\", \"y\": [0.271, 0.35041, 0.375846534967422, 0.357, 0.366, 0.425564021], \"yaxis\": \"y\"}, {\"hovertemplate\": \"Country or region=India<br>year=%{x}<br>GDP per capita=%{y}<extra></extra>\", \"legendgroup\": \"India\", \"line\": {\"color\": \"#FF6692\", \"dash\": \"solid\"}, \"mode\": \"lines\", \"name\": \"India\", \"orientation\": \"v\", \"showlegend\": true, \"type\": \"scatter\", \"x\": [2015, 2016, 2017, 2018, 2019, 2020], \"xaxis\": \"x\", \"y\": [0.64499, 0.74036, 0.792221248149872, 0.721, 0.755, 0.730576158], \"yaxis\": \"y\"}, {\"hovertemplate\": \"Country or region=Haiti<br>year=%{x}<br>GDP per capita=%{y}<extra></extra>\", \"legendgroup\": \"Haiti\", \"line\": {\"color\": \"#B6E880\", \"dash\": \"solid\"}, \"mode\": \"lines\", \"name\": \"Haiti\", \"orientation\": \"v\", \"showlegend\": true, \"type\": \"scatter\", \"x\": [2015, 2016, 2017, 2018, 2019, 2020], \"xaxis\": \"x\", \"y\": [0.26673, 0.34097, 0.368610262870789, 0.315, 0.323, 0.284734428], \"yaxis\": \"y\"}, {\"hovertemplate\": \"Country or region=Botswana<br>year=%{x}<br>GDP per capita=%{y}<extra></extra>\", \"legendgroup\": \"Botswana\", \"line\": {\"color\": \"#FF97FF\", \"dash\": \"solid\"}, \"mode\": \"lines\", \"name\": \"Botswana\", \"orientation\": \"v\", \"showlegend\": true, \"type\": \"scatter\", \"x\": [2015, 2016, 2017, 2018, 2019, 2020], \"xaxis\": \"x\", \"y\": [0.99355, 1.09426, 1.12209415435791, 1.017, 1.041, 0.997548997], \"yaxis\": \"y\"}, {\"hovertemplate\": \"Country or region=Malawi<br>year=%{x}<br>GDP per capita=%{y}<extra></extra>\", \"legendgroup\": \"Malawi\", \"line\": {\"color\": \"#FECB52\", \"dash\": \"solid\"}, \"mode\": \"lines\", \"name\": \"Malawi\", \"orientation\": \"v\", \"showlegend\": true, \"type\": \"scatter\", \"x\": [2015, 2016, 2017, 2018, 2019, 2020], \"xaxis\": \"x\", \"y\": [0.01604, 0.08709, 0.233442038297653, 0.186, 0.191, 0.176534727], \"yaxis\": \"y\"}, {\"hovertemplate\": \"Country or region=Yemen<br>year=%{x}<br>GDP per capita=%{y}<extra></extra>\", \"legendgroup\": \"Yemen\", \"line\": {\"color\": \"#636efa\", \"dash\": \"solid\"}, \"mode\": \"lines\", \"name\": \"Yemen\", \"orientation\": \"v\", \"showlegend\": true, \"type\": \"scatter\", \"x\": [2015, 2016, 2017, 2018, 2019, 2020], \"xaxis\": \"x\", \"y\": [0.54649, 0.57939, 0.591683447360992, 0.442, 0.287, 0.392701775], \"yaxis\": \"y\"}, {\"hovertemplate\": \"Country or region=Tanzania<br>year=%{x}<br>GDP per capita=%{y}<extra></extra>\", \"legendgroup\": \"Tanzania\", \"line\": {\"color\": \"#EF553B\", \"dash\": \"solid\"}, \"mode\": \"lines\", \"name\": \"Tanzania\", \"orientation\": \"v\", \"showlegend\": true, \"type\": \"scatter\", \"x\": [2015, 2016, 2017, 2018, 2019, 2020], \"xaxis\": \"x\", \"y\": [0.2852, 0.47155, 0.511135876178741, 0.455, 0.476, 0.457163125], \"yaxis\": \"y\"}, {\"hovertemplate\": \"Country or region=Afghanistan<br>year=%{x}<br>GDP per capita=%{y}<extra></extra>\", \"legendgroup\": \"Afghanistan\", \"line\": {\"color\": \"#00cc96\", \"dash\": \"solid\"}, \"mode\": \"lines\", \"name\": \"Afghanistan\", \"orientation\": \"v\", \"showlegend\": true, \"type\": \"scatter\", \"x\": [2015, 2016, 2017, 2018, 2019, 2020], \"xaxis\": \"x\", \"y\": [0.31982, 0.38227, 0.401477217674255, 0.332, 0.35, 0.30070585], \"yaxis\": \"y\"}, {\"hovertemplate\": \"Country or region=Rwanda<br>year=%{x}<br>GDP per capita=%{y}<extra></extra>\", \"legendgroup\": \"Rwanda\", \"line\": {\"color\": \"#ab63fa\", \"dash\": \"solid\"}, \"mode\": \"lines\", \"name\": \"Rwanda\", \"orientation\": \"v\", \"showlegend\": true, \"type\": \"scatter\", \"x\": [2015, 2016, 2017, 2018, 2019, 2020], \"xaxis\": \"x\", \"y\": [0.22208, 0.32846, 0.368745893239975, 0.332, 0.359, 0.343242675], \"yaxis\": \"y\"}],                        {\"legend\": {\"title\": {\"text\": \"Country or region\"}, \"tracegroupgap\": 0}, \"template\": {\"data\": {\"bar\": [{\"error_x\": {\"color\": \"#2a3f5f\"}, \"error_y\": {\"color\": \"#2a3f5f\"}, \"marker\": {\"line\": {\"color\": \"#E5ECF6\", \"width\": 0.5}}, \"type\": \"bar\"}], \"barpolar\": [{\"marker\": {\"line\": {\"color\": \"#E5ECF6\", \"width\": 0.5}}, \"type\": \"barpolar\"}], \"carpet\": [{\"aaxis\": {\"endlinecolor\": \"#2a3f5f\", \"gridcolor\": \"white\", \"linecolor\": \"white\", \"minorgridcolor\": \"white\", \"startlinecolor\": \"#2a3f5f\"}, \"baxis\": {\"endlinecolor\": \"#2a3f5f\", \"gridcolor\": \"white\", \"linecolor\": \"white\", \"minorgridcolor\": \"white\", \"startlinecolor\": \"#2a3f5f\"}, \"type\": \"carpet\"}], \"choropleth\": [{\"colorbar\": {\"outlinewidth\": 0, \"ticks\": \"\"}, \"type\": \"choropleth\"}], \"contour\": [{\"colorbar\": {\"outlinewidth\": 0, \"ticks\": \"\"}, \"colorscale\": [[0.0, \"#0d0887\"], [0.1111111111111111, \"#46039f\"], [0.2222222222222222, \"#7201a8\"], [0.3333333333333333, \"#9c179e\"], [0.4444444444444444, \"#bd3786\"], [0.5555555555555556, \"#d8576b\"], [0.6666666666666666, \"#ed7953\"], [0.7777777777777778, \"#fb9f3a\"], [0.8888888888888888, \"#fdca26\"], [1.0, \"#f0f921\"]], \"type\": \"contour\"}], \"contourcarpet\": [{\"colorbar\": {\"outlinewidth\": 0, \"ticks\": \"\"}, \"type\": \"contourcarpet\"}], \"heatmap\": [{\"colorbar\": {\"outlinewidth\": 0, \"ticks\": \"\"}, \"colorscale\": [[0.0, \"#0d0887\"], [0.1111111111111111, \"#46039f\"], [0.2222222222222222, \"#7201a8\"], [0.3333333333333333, \"#9c179e\"], [0.4444444444444444, \"#bd3786\"], [0.5555555555555556, \"#d8576b\"], [0.6666666666666666, \"#ed7953\"], [0.7777777777777778, \"#fb9f3a\"], [0.8888888888888888, \"#fdca26\"], [1.0, \"#f0f921\"]], \"type\": \"heatmap\"}], \"heatmapgl\": [{\"colorbar\": {\"outlinewidth\": 0, \"ticks\": \"\"}, \"colorscale\": [[0.0, \"#0d0887\"], [0.1111111111111111, \"#46039f\"], [0.2222222222222222, \"#7201a8\"], [0.3333333333333333, \"#9c179e\"], [0.4444444444444444, \"#bd3786\"], [0.5555555555555556, \"#d8576b\"], [0.6666666666666666, \"#ed7953\"], [0.7777777777777778, \"#fb9f3a\"], [0.8888888888888888, \"#fdca26\"], [1.0, \"#f0f921\"]], \"type\": \"heatmapgl\"}], \"histogram\": [{\"marker\": {\"colorbar\": {\"outlinewidth\": 0, \"ticks\": \"\"}}, \"type\": \"histogram\"}], \"histogram2d\": [{\"colorbar\": {\"outlinewidth\": 0, \"ticks\": \"\"}, \"colorscale\": [[0.0, \"#0d0887\"], [0.1111111111111111, \"#46039f\"], [0.2222222222222222, \"#7201a8\"], [0.3333333333333333, \"#9c179e\"], [0.4444444444444444, \"#bd3786\"], [0.5555555555555556, \"#d8576b\"], [0.6666666666666666, \"#ed7953\"], [0.7777777777777778, \"#fb9f3a\"], [0.8888888888888888, \"#fdca26\"], [1.0, \"#f0f921\"]], \"type\": \"histogram2d\"}], \"histogram2dcontour\": [{\"colorbar\": {\"outlinewidth\": 0, \"ticks\": \"\"}, \"colorscale\": [[0.0, \"#0d0887\"], [0.1111111111111111, \"#46039f\"], [0.2222222222222222, \"#7201a8\"], [0.3333333333333333, \"#9c179e\"], [0.4444444444444444, \"#bd3786\"], [0.5555555555555556, \"#d8576b\"], [0.6666666666666666, \"#ed7953\"], [0.7777777777777778, \"#fb9f3a\"], [0.8888888888888888, \"#fdca26\"], [1.0, \"#f0f921\"]], \"type\": \"histogram2dcontour\"}], \"mesh3d\": [{\"colorbar\": {\"outlinewidth\": 0, \"ticks\": \"\"}, \"type\": \"mesh3d\"}], \"parcoords\": [{\"line\": {\"colorbar\": {\"outlinewidth\": 0, \"ticks\": \"\"}}, \"type\": \"parcoords\"}], \"pie\": [{\"automargin\": true, \"type\": \"pie\"}], \"scatter\": [{\"marker\": {\"colorbar\": {\"outlinewidth\": 0, \"ticks\": \"\"}}, \"type\": \"scatter\"}], \"scatter3d\": [{\"line\": {\"colorbar\": {\"outlinewidth\": 0, \"ticks\": \"\"}}, \"marker\": {\"colorbar\": {\"outlinewidth\": 0, \"ticks\": \"\"}}, \"type\": \"scatter3d\"}], \"scattercarpet\": [{\"marker\": {\"colorbar\": {\"outlinewidth\": 0, \"ticks\": \"\"}}, \"type\": \"scattercarpet\"}], \"scattergeo\": [{\"marker\": {\"colorbar\": {\"outlinewidth\": 0, \"ticks\": \"\"}}, \"type\": \"scattergeo\"}], \"scattergl\": [{\"marker\": {\"colorbar\": {\"outlinewidth\": 0, \"ticks\": \"\"}}, \"type\": \"scattergl\"}], \"scattermapbox\": [{\"marker\": {\"colorbar\": {\"outlinewidth\": 0, \"ticks\": \"\"}}, \"type\": \"scattermapbox\"}], \"scatterpolar\": [{\"marker\": {\"colorbar\": {\"outlinewidth\": 0, \"ticks\": \"\"}}, \"type\": \"scatterpolar\"}], \"scatterpolargl\": [{\"marker\": {\"colorbar\": {\"outlinewidth\": 0, \"ticks\": \"\"}}, \"type\": \"scatterpolargl\"}], \"scatterternary\": [{\"marker\": {\"colorbar\": {\"outlinewidth\": 0, \"ticks\": \"\"}}, \"type\": \"scatterternary\"}], \"surface\": [{\"colorbar\": {\"outlinewidth\": 0, \"ticks\": \"\"}, \"colorscale\": [[0.0, \"#0d0887\"], [0.1111111111111111, \"#46039f\"], [0.2222222222222222, \"#7201a8\"], [0.3333333333333333, \"#9c179e\"], [0.4444444444444444, \"#bd3786\"], [0.5555555555555556, \"#d8576b\"], [0.6666666666666666, \"#ed7953\"], [0.7777777777777778, \"#fb9f3a\"], [0.8888888888888888, \"#fdca26\"], [1.0, \"#f0f921\"]], \"type\": \"surface\"}], \"table\": [{\"cells\": {\"fill\": {\"color\": \"#EBF0F8\"}, \"line\": {\"color\": \"white\"}}, \"header\": {\"fill\": {\"color\": \"#C8D4E3\"}, \"line\": {\"color\": \"white\"}}, \"type\": \"table\"}]}, \"layout\": {\"annotationdefaults\": {\"arrowcolor\": \"#2a3f5f\", \"arrowhead\": 0, \"arrowwidth\": 1}, \"autotypenumbers\": \"strict\", \"coloraxis\": {\"colorbar\": {\"outlinewidth\": 0, \"ticks\": \"\"}}, \"colorscale\": {\"diverging\": [[0, \"#8e0152\"], [0.1, \"#c51b7d\"], [0.2, \"#de77ae\"], [0.3, \"#f1b6da\"], [0.4, \"#fde0ef\"], [0.5, \"#f7f7f7\"], [0.6, \"#e6f5d0\"], [0.7, \"#b8e186\"], [0.8, \"#7fbc41\"], [0.9, \"#4d9221\"], [1, \"#276419\"]], \"sequential\": [[0.0, \"#0d0887\"], [0.1111111111111111, \"#46039f\"], [0.2222222222222222, \"#7201a8\"], [0.3333333333333333, \"#9c179e\"], [0.4444444444444444, \"#bd3786\"], [0.5555555555555556, \"#d8576b\"], [0.6666666666666666, \"#ed7953\"], [0.7777777777777778, \"#fb9f3a\"], [0.8888888888888888, \"#fdca26\"], [1.0, \"#f0f921\"]], \"sequentialminus\": [[0.0, \"#0d0887\"], [0.1111111111111111, \"#46039f\"], [0.2222222222222222, \"#7201a8\"], [0.3333333333333333, \"#9c179e\"], [0.4444444444444444, \"#bd3786\"], [0.5555555555555556, \"#d8576b\"], [0.6666666666666666, \"#ed7953\"], [0.7777777777777778, \"#fb9f3a\"], [0.8888888888888888, \"#fdca26\"], [1.0, \"#f0f921\"]]}, \"colorway\": [\"#636efa\", \"#EF553B\", \"#00cc96\", \"#ab63fa\", \"#FFA15A\", \"#19d3f3\", \"#FF6692\", \"#B6E880\", \"#FF97FF\", \"#FECB52\"], \"font\": {\"color\": \"#2a3f5f\"}, \"geo\": {\"bgcolor\": \"white\", \"lakecolor\": \"white\", \"landcolor\": \"#E5ECF6\", \"showlakes\": true, \"showland\": true, \"subunitcolor\": \"white\"}, \"hoverlabel\": {\"align\": \"left\"}, \"hovermode\": \"closest\", \"mapbox\": {\"style\": \"light\"}, \"paper_bgcolor\": \"white\", \"plot_bgcolor\": \"#E5ECF6\", \"polar\": {\"angularaxis\": {\"gridcolor\": \"white\", \"linecolor\": \"white\", \"ticks\": \"\"}, \"bgcolor\": \"#E5ECF6\", \"radialaxis\": {\"gridcolor\": \"white\", \"linecolor\": \"white\", \"ticks\": \"\"}}, \"scene\": {\"xaxis\": {\"backgroundcolor\": \"#E5ECF6\", \"gridcolor\": \"white\", \"gridwidth\": 2, \"linecolor\": \"white\", \"showbackground\": true, \"ticks\": \"\", \"zerolinecolor\": \"white\"}, \"yaxis\": {\"backgroundcolor\": \"#E5ECF6\", \"gridcolor\": \"white\", \"gridwidth\": 2, \"linecolor\": \"white\", \"showbackground\": true, \"ticks\": \"\", \"zerolinecolor\": \"white\"}, \"zaxis\": {\"backgroundcolor\": \"#E5ECF6\", \"gridcolor\": \"white\", \"gridwidth\": 2, \"linecolor\": \"white\", \"showbackground\": true, \"ticks\": \"\", \"zerolinecolor\": \"white\"}}, \"shapedefaults\": {\"line\": {\"color\": \"#2a3f5f\"}}, \"ternary\": {\"aaxis\": {\"gridcolor\": \"white\", \"linecolor\": \"white\", \"ticks\": \"\"}, \"baxis\": {\"gridcolor\": \"white\", \"linecolor\": \"white\", \"ticks\": \"\"}, \"bgcolor\": \"#E5ECF6\", \"caxis\": {\"gridcolor\": \"white\", \"linecolor\": \"white\", \"ticks\": \"\"}}, \"title\": {\"x\": 0.05}, \"xaxis\": {\"automargin\": true, \"gridcolor\": \"white\", \"linecolor\": \"white\", \"ticks\": \"\", \"title\": {\"standoff\": 15}, \"zerolinecolor\": \"white\", \"zerolinewidth\": 2}, \"yaxis\": {\"automargin\": true, \"gridcolor\": \"white\", \"linecolor\": \"white\", \"ticks\": \"\", \"title\": {\"standoff\": 15}, \"zerolinecolor\": \"white\", \"zerolinewidth\": 2}}}, \"title\": {\"text\": \"GDP per capita by country\"}, \"xaxis\": {\"anchor\": \"y\", \"domain\": [0.0, 1.0], \"title\": {\"text\": \"year\"}}, \"yaxis\": {\"anchor\": \"x\", \"domain\": [0.0, 1.0], \"title\": {\"text\": \"GDP per capita\"}}},                        {\"responsive\": true}                    ).then(function(){\n",
       "                            \n",
       "var gd = document.getElementById('e576194f-7c9d-4fbc-941a-19ae2a3f1048');\n",
       "var x = new MutationObserver(function (mutations, observer) {{\n",
       "        var display = window.getComputedStyle(gd).display;\n",
       "        if (!display || display === 'none') {{\n",
       "            console.log([gd, 'removed!']);\n",
       "            Plotly.purge(gd);\n",
       "            observer.disconnect();\n",
       "        }}\n",
       "}});\n",
       "\n",
       "// Listen for the removal of the full notebook cells\n",
       "var notebookContainer = gd.closest('#notebook-container');\n",
       "if (notebookContainer) {{\n",
       "    x.observe(notebookContainer, {childList: true});\n",
       "}}\n",
       "\n",
       "// Listen for the clearing of the current output cell\n",
       "var outputEl = gd.closest('.output');\n",
       "if (outputEl) {{\n",
       "    x.observe(outputEl, {childList: true});\n",
       "}}\n",
       "\n",
       "                        })                };                });            </script>        </div>"
      ]
     },
     "metadata": {},
     "output_type": "display_data"
    }
   ],
   "source": [
    "plot_line('GDP per capita')"
   ]
  },
  {
   "cell_type": "code",
   "execution_count": 2163,
   "id": "heard-genetics",
   "metadata": {},
   "outputs": [
    {
     "data": {
      "application/vnd.plotly.v1+json": {
       "config": {
        "plotlyServerURL": "https://plot.ly"
       },
       "data": [
        {
         "hovertemplate": "Country or region=%{x}<br>GDP per capita=%{y}<br>year=%{marker.color}<extra></extra>",
         "legendgroup": "",
         "marker": {
          "color": [
           2015,
           2015,
           2015,
           2015,
           2015,
           2015,
           2015,
           2015,
           2015,
           2015,
           2015,
           2015,
           2015,
           2015,
           2015,
           2015,
           2015,
           2015,
           2015,
           2015,
           2015,
           2015,
           2015,
           2015,
           2016,
           2016,
           2016,
           2016,
           2016,
           2016,
           2016,
           2016,
           2016,
           2016,
           2016,
           2016,
           2016,
           2016,
           2016,
           2016,
           2016,
           2016,
           2016,
           2016,
           2016,
           2016,
           2016,
           2016,
           2017,
           2017,
           2017,
           2017,
           2017,
           2017,
           2017,
           2017,
           2017,
           2017,
           2017,
           2017,
           2017,
           2017,
           2017,
           2017,
           2017,
           2017,
           2017,
           2017,
           2017,
           2017,
           2017,
           2017,
           2018,
           2018,
           2018,
           2018,
           2018,
           2018,
           2018,
           2018,
           2018,
           2018,
           2018,
           2018,
           2018,
           2018,
           2018,
           2018,
           2018,
           2018,
           2018,
           2018,
           2018,
           2018,
           2018,
           2018,
           2019,
           2019,
           2019,
           2019,
           2019,
           2019,
           2019,
           2019,
           2019,
           2019,
           2019,
           2019,
           2019,
           2019,
           2019,
           2019,
           2019,
           2019,
           2019,
           2019,
           2019,
           2019,
           2019,
           2019,
           2020,
           2020,
           2020,
           2020,
           2020,
           2020,
           2020,
           2020,
           2020,
           2020,
           2020,
           2020,
           2020,
           2020,
           2020,
           2020,
           2020,
           2020,
           2020,
           2020,
           2020,
           2020,
           2020,
           2020
          ],
          "coloraxis": "coloraxis",
          "symbol": "circle"
         },
         "mode": "markers",
         "name": "",
         "orientation": "v",
         "showlegend": false,
         "type": "scatter",
         "x": [
          "Switzerland",
          "Iceland",
          "Denmark",
          "Norway",
          "Canada",
          "Finland",
          "Netherlands",
          "Sweden",
          "New Zealand",
          "Austria",
          "United States",
          "Luxembourg",
          "South Korea",
          "Russia",
          "Zambia",
          "Zimbabwe",
          "India",
          "Haiti",
          "Botswana",
          "Malawi",
          "Yemen",
          "Tanzania",
          "Afghanistan",
          "Rwanda",
          "Denmark",
          "Switzerland",
          "Iceland",
          "Norway",
          "Finland",
          "Canada",
          "Netherlands",
          "New Zealand",
          "Sweden",
          "Austria",
          "United States",
          "Luxembourg",
          "Russia",
          "South Korea",
          "Zambia",
          "India",
          "Zimbabwe",
          "Malawi",
          "Haiti",
          "Botswana",
          "Yemen",
          "Tanzania",
          "Rwanda",
          "Afghanistan",
          "Norway",
          "Denmark",
          "Iceland",
          "Switzerland",
          "Finland",
          "Netherlands",
          "Canada",
          "New Zealand",
          "Sweden",
          "Austria",
          "United States",
          "Luxembourg",
          "Russia",
          "South Korea",
          "Zambia",
          "India",
          "Malawi",
          "Zimbabwe",
          "Afghanistan",
          "Botswana",
          "Haiti",
          "Yemen",
          "Rwanda",
          "Tanzania",
          "Finland",
          "Norway",
          "Denmark",
          "Iceland",
          "Switzerland",
          "Netherlands",
          "Canada",
          "New Zealand",
          "Sweden",
          "Austria",
          "Luxembourg",
          "United States",
          "South Korea",
          "Russia",
          "Zambia",
          "India",
          "Zimbabwe",
          "Afghanistan",
          "Botswana",
          "Malawi",
          "Haiti",
          "Rwanda",
          "Yemen",
          "Tanzania",
          "Finland",
          "Denmark",
          "Norway",
          "Iceland",
          "Netherlands",
          "Switzerland",
          "Sweden",
          "New Zealand",
          "Canada",
          "Austria",
          "Luxembourg",
          "United States",
          "South Korea",
          "Russia",
          "Zambia",
          "India",
          "Zimbabwe",
          "Haiti",
          "Botswana",
          "Malawi",
          "Yemen",
          "Rwanda",
          "Tanzania",
          "Afghanistan",
          "Finland",
          "Denmark",
          "Switzerland",
          "Iceland",
          "Norway",
          "Netherlands",
          "Sweden",
          "New Zealand",
          "Austria",
          "Luxembourg",
          "Canada",
          "United States",
          "South Korea",
          "Russia",
          "Zambia",
          "Haiti",
          "India",
          "Malawi",
          "Yemen",
          "Botswana",
          "Tanzania",
          "Rwanda",
          "Zimbabwe",
          "Afghanistan"
         ],
         "xaxis": "x",
         "y": [
          1.39651,
          1.30232,
          1.32548,
          1.459,
          1.32629,
          1.29025,
          1.32944,
          1.33171,
          1.25018,
          1.33723,
          1.39451,
          1.56391,
          1.24461,
          1.13764,
          0.47038,
          0.271,
          0.64499,
          0.26673,
          0.99355,
          0.01604,
          0.54649,
          0.2852,
          0.31982,
          0.22208,
          1.44178,
          1.52733,
          1.42666,
          1.57744,
          1.40598,
          1.44015,
          1.46468,
          1.36066,
          1.45181,
          1.45038,
          1.50796,
          1.69752,
          1.23228,
          1.35948,
          0.61202,
          0.74036,
          0.35041,
          0.08709,
          0.34097,
          1.09426,
          0.57939,
          0.47155,
          0.32846,
          0.38227,
          1.61646318435669,
          1.48238301277161,
          1.480633020401,
          1.56497955322266,
          1.44357192516327,
          1.50394463539124,
          1.47920441627502,
          1.40570604801178,
          1.49438726902008,
          1.48709726333618,
          1.54625928401947,
          1.74194359779358,
          1.28177809715271,
          1.40167844295502,
          0.636406779289246,
          0.792221248149872,
          0.233442038297653,
          0.375846534967422,
          0.401477217674255,
          1.12209415435791,
          0.368610262870789,
          0.591683447360992,
          0.368745893239975,
          0.511135876178741,
          1.305,
          1.456,
          1.351,
          1.343,
          1.42,
          1.361,
          1.33,
          1.268,
          1.355,
          1.341,
          1.576,
          1.398,
          1.266,
          1.151,
          0.562,
          0.721,
          0.357,
          0.332,
          1.017,
          0.186,
          0.315,
          0.332,
          0.442,
          0.455,
          1.34,
          1.383,
          1.488,
          1.38,
          1.396,
          1.452,
          1.387,
          1.303,
          1.365,
          1.376,
          1.609,
          1.433,
          1.301,
          1.183,
          0.578,
          0.755,
          0.366,
          0.323,
          1.041,
          0.191,
          0.287,
          0.359,
          0.476,
          0.35,
          1.285189509,
          1.326948524,
          1.39077425,
          1.326501608,
          1.42420733,
          1.338946342,
          1.322235227,
          1.242317915,
          1.317285538,
          1.536676049,
          1.301647663,
          1.37398684,
          1.245300651,
          1.126999617,
          0.536833763,
          0.284734428,
          0.730576158,
          0.176534727,
          0.392701775,
          0.997548997,
          0.457163125,
          0.343242675,
          0.425564021,
          0.30070585
         ],
         "yaxis": "y"
        }
       ],
       "layout": {
        "coloraxis": {
         "colorbar": {
          "title": {
           "text": "year"
          }
         },
         "colorscale": [
          [
           0,
           "#0d0887"
          ],
          [
           0.1111111111111111,
           "#46039f"
          ],
          [
           0.2222222222222222,
           "#7201a8"
          ],
          [
           0.3333333333333333,
           "#9c179e"
          ],
          [
           0.4444444444444444,
           "#bd3786"
          ],
          [
           0.5555555555555556,
           "#d8576b"
          ],
          [
           0.6666666666666666,
           "#ed7953"
          ],
          [
           0.7777777777777778,
           "#fb9f3a"
          ],
          [
           0.8888888888888888,
           "#fdca26"
          ],
          [
           1,
           "#f0f921"
          ]
         ]
        },
        "legend": {
         "tracegroupgap": 0
        },
        "template": {
         "data": {
          "bar": [
           {
            "error_x": {
             "color": "#2a3f5f"
            },
            "error_y": {
             "color": "#2a3f5f"
            },
            "marker": {
             "line": {
              "color": "#E5ECF6",
              "width": 0.5
             }
            },
            "type": "bar"
           }
          ],
          "barpolar": [
           {
            "marker": {
             "line": {
              "color": "#E5ECF6",
              "width": 0.5
             }
            },
            "type": "barpolar"
           }
          ],
          "carpet": [
           {
            "aaxis": {
             "endlinecolor": "#2a3f5f",
             "gridcolor": "white",
             "linecolor": "white",
             "minorgridcolor": "white",
             "startlinecolor": "#2a3f5f"
            },
            "baxis": {
             "endlinecolor": "#2a3f5f",
             "gridcolor": "white",
             "linecolor": "white",
             "minorgridcolor": "white",
             "startlinecolor": "#2a3f5f"
            },
            "type": "carpet"
           }
          ],
          "choropleth": [
           {
            "colorbar": {
             "outlinewidth": 0,
             "ticks": ""
            },
            "type": "choropleth"
           }
          ],
          "contour": [
           {
            "colorbar": {
             "outlinewidth": 0,
             "ticks": ""
            },
            "colorscale": [
             [
              0,
              "#0d0887"
             ],
             [
              0.1111111111111111,
              "#46039f"
             ],
             [
              0.2222222222222222,
              "#7201a8"
             ],
             [
              0.3333333333333333,
              "#9c179e"
             ],
             [
              0.4444444444444444,
              "#bd3786"
             ],
             [
              0.5555555555555556,
              "#d8576b"
             ],
             [
              0.6666666666666666,
              "#ed7953"
             ],
             [
              0.7777777777777778,
              "#fb9f3a"
             ],
             [
              0.8888888888888888,
              "#fdca26"
             ],
             [
              1,
              "#f0f921"
             ]
            ],
            "type": "contour"
           }
          ],
          "contourcarpet": [
           {
            "colorbar": {
             "outlinewidth": 0,
             "ticks": ""
            },
            "type": "contourcarpet"
           }
          ],
          "heatmap": [
           {
            "colorbar": {
             "outlinewidth": 0,
             "ticks": ""
            },
            "colorscale": [
             [
              0,
              "#0d0887"
             ],
             [
              0.1111111111111111,
              "#46039f"
             ],
             [
              0.2222222222222222,
              "#7201a8"
             ],
             [
              0.3333333333333333,
              "#9c179e"
             ],
             [
              0.4444444444444444,
              "#bd3786"
             ],
             [
              0.5555555555555556,
              "#d8576b"
             ],
             [
              0.6666666666666666,
              "#ed7953"
             ],
             [
              0.7777777777777778,
              "#fb9f3a"
             ],
             [
              0.8888888888888888,
              "#fdca26"
             ],
             [
              1,
              "#f0f921"
             ]
            ],
            "type": "heatmap"
           }
          ],
          "heatmapgl": [
           {
            "colorbar": {
             "outlinewidth": 0,
             "ticks": ""
            },
            "colorscale": [
             [
              0,
              "#0d0887"
             ],
             [
              0.1111111111111111,
              "#46039f"
             ],
             [
              0.2222222222222222,
              "#7201a8"
             ],
             [
              0.3333333333333333,
              "#9c179e"
             ],
             [
              0.4444444444444444,
              "#bd3786"
             ],
             [
              0.5555555555555556,
              "#d8576b"
             ],
             [
              0.6666666666666666,
              "#ed7953"
             ],
             [
              0.7777777777777778,
              "#fb9f3a"
             ],
             [
              0.8888888888888888,
              "#fdca26"
             ],
             [
              1,
              "#f0f921"
             ]
            ],
            "type": "heatmapgl"
           }
          ],
          "histogram": [
           {
            "marker": {
             "colorbar": {
              "outlinewidth": 0,
              "ticks": ""
             }
            },
            "type": "histogram"
           }
          ],
          "histogram2d": [
           {
            "colorbar": {
             "outlinewidth": 0,
             "ticks": ""
            },
            "colorscale": [
             [
              0,
              "#0d0887"
             ],
             [
              0.1111111111111111,
              "#46039f"
             ],
             [
              0.2222222222222222,
              "#7201a8"
             ],
             [
              0.3333333333333333,
              "#9c179e"
             ],
             [
              0.4444444444444444,
              "#bd3786"
             ],
             [
              0.5555555555555556,
              "#d8576b"
             ],
             [
              0.6666666666666666,
              "#ed7953"
             ],
             [
              0.7777777777777778,
              "#fb9f3a"
             ],
             [
              0.8888888888888888,
              "#fdca26"
             ],
             [
              1,
              "#f0f921"
             ]
            ],
            "type": "histogram2d"
           }
          ],
          "histogram2dcontour": [
           {
            "colorbar": {
             "outlinewidth": 0,
             "ticks": ""
            },
            "colorscale": [
             [
              0,
              "#0d0887"
             ],
             [
              0.1111111111111111,
              "#46039f"
             ],
             [
              0.2222222222222222,
              "#7201a8"
             ],
             [
              0.3333333333333333,
              "#9c179e"
             ],
             [
              0.4444444444444444,
              "#bd3786"
             ],
             [
              0.5555555555555556,
              "#d8576b"
             ],
             [
              0.6666666666666666,
              "#ed7953"
             ],
             [
              0.7777777777777778,
              "#fb9f3a"
             ],
             [
              0.8888888888888888,
              "#fdca26"
             ],
             [
              1,
              "#f0f921"
             ]
            ],
            "type": "histogram2dcontour"
           }
          ],
          "mesh3d": [
           {
            "colorbar": {
             "outlinewidth": 0,
             "ticks": ""
            },
            "type": "mesh3d"
           }
          ],
          "parcoords": [
           {
            "line": {
             "colorbar": {
              "outlinewidth": 0,
              "ticks": ""
             }
            },
            "type": "parcoords"
           }
          ],
          "pie": [
           {
            "automargin": true,
            "type": "pie"
           }
          ],
          "scatter": [
           {
            "marker": {
             "colorbar": {
              "outlinewidth": 0,
              "ticks": ""
             }
            },
            "type": "scatter"
           }
          ],
          "scatter3d": [
           {
            "line": {
             "colorbar": {
              "outlinewidth": 0,
              "ticks": ""
             }
            },
            "marker": {
             "colorbar": {
              "outlinewidth": 0,
              "ticks": ""
             }
            },
            "type": "scatter3d"
           }
          ],
          "scattercarpet": [
           {
            "marker": {
             "colorbar": {
              "outlinewidth": 0,
              "ticks": ""
             }
            },
            "type": "scattercarpet"
           }
          ],
          "scattergeo": [
           {
            "marker": {
             "colorbar": {
              "outlinewidth": 0,
              "ticks": ""
             }
            },
            "type": "scattergeo"
           }
          ],
          "scattergl": [
           {
            "marker": {
             "colorbar": {
              "outlinewidth": 0,
              "ticks": ""
             }
            },
            "type": "scattergl"
           }
          ],
          "scattermapbox": [
           {
            "marker": {
             "colorbar": {
              "outlinewidth": 0,
              "ticks": ""
             }
            },
            "type": "scattermapbox"
           }
          ],
          "scatterpolar": [
           {
            "marker": {
             "colorbar": {
              "outlinewidth": 0,
              "ticks": ""
             }
            },
            "type": "scatterpolar"
           }
          ],
          "scatterpolargl": [
           {
            "marker": {
             "colorbar": {
              "outlinewidth": 0,
              "ticks": ""
             }
            },
            "type": "scatterpolargl"
           }
          ],
          "scatterternary": [
           {
            "marker": {
             "colorbar": {
              "outlinewidth": 0,
              "ticks": ""
             }
            },
            "type": "scatterternary"
           }
          ],
          "surface": [
           {
            "colorbar": {
             "outlinewidth": 0,
             "ticks": ""
            },
            "colorscale": [
             [
              0,
              "#0d0887"
             ],
             [
              0.1111111111111111,
              "#46039f"
             ],
             [
              0.2222222222222222,
              "#7201a8"
             ],
             [
              0.3333333333333333,
              "#9c179e"
             ],
             [
              0.4444444444444444,
              "#bd3786"
             ],
             [
              0.5555555555555556,
              "#d8576b"
             ],
             [
              0.6666666666666666,
              "#ed7953"
             ],
             [
              0.7777777777777778,
              "#fb9f3a"
             ],
             [
              0.8888888888888888,
              "#fdca26"
             ],
             [
              1,
              "#f0f921"
             ]
            ],
            "type": "surface"
           }
          ],
          "table": [
           {
            "cells": {
             "fill": {
              "color": "#EBF0F8"
             },
             "line": {
              "color": "white"
             }
            },
            "header": {
             "fill": {
              "color": "#C8D4E3"
             },
             "line": {
              "color": "white"
             }
            },
            "type": "table"
           }
          ]
         },
         "layout": {
          "annotationdefaults": {
           "arrowcolor": "#2a3f5f",
           "arrowhead": 0,
           "arrowwidth": 1
          },
          "autotypenumbers": "strict",
          "coloraxis": {
           "colorbar": {
            "outlinewidth": 0,
            "ticks": ""
           }
          },
          "colorscale": {
           "diverging": [
            [
             0,
             "#8e0152"
            ],
            [
             0.1,
             "#c51b7d"
            ],
            [
             0.2,
             "#de77ae"
            ],
            [
             0.3,
             "#f1b6da"
            ],
            [
             0.4,
             "#fde0ef"
            ],
            [
             0.5,
             "#f7f7f7"
            ],
            [
             0.6,
             "#e6f5d0"
            ],
            [
             0.7,
             "#b8e186"
            ],
            [
             0.8,
             "#7fbc41"
            ],
            [
             0.9,
             "#4d9221"
            ],
            [
             1,
             "#276419"
            ]
           ],
           "sequential": [
            [
             0,
             "#0d0887"
            ],
            [
             0.1111111111111111,
             "#46039f"
            ],
            [
             0.2222222222222222,
             "#7201a8"
            ],
            [
             0.3333333333333333,
             "#9c179e"
            ],
            [
             0.4444444444444444,
             "#bd3786"
            ],
            [
             0.5555555555555556,
             "#d8576b"
            ],
            [
             0.6666666666666666,
             "#ed7953"
            ],
            [
             0.7777777777777778,
             "#fb9f3a"
            ],
            [
             0.8888888888888888,
             "#fdca26"
            ],
            [
             1,
             "#f0f921"
            ]
           ],
           "sequentialminus": [
            [
             0,
             "#0d0887"
            ],
            [
             0.1111111111111111,
             "#46039f"
            ],
            [
             0.2222222222222222,
             "#7201a8"
            ],
            [
             0.3333333333333333,
             "#9c179e"
            ],
            [
             0.4444444444444444,
             "#bd3786"
            ],
            [
             0.5555555555555556,
             "#d8576b"
            ],
            [
             0.6666666666666666,
             "#ed7953"
            ],
            [
             0.7777777777777778,
             "#fb9f3a"
            ],
            [
             0.8888888888888888,
             "#fdca26"
            ],
            [
             1,
             "#f0f921"
            ]
           ]
          },
          "colorway": [
           "#636efa",
           "#EF553B",
           "#00cc96",
           "#ab63fa",
           "#FFA15A",
           "#19d3f3",
           "#FF6692",
           "#B6E880",
           "#FF97FF",
           "#FECB52"
          ],
          "font": {
           "color": "#2a3f5f"
          },
          "geo": {
           "bgcolor": "white",
           "lakecolor": "white",
           "landcolor": "#E5ECF6",
           "showlakes": true,
           "showland": true,
           "subunitcolor": "white"
          },
          "hoverlabel": {
           "align": "left"
          },
          "hovermode": "closest",
          "mapbox": {
           "style": "light"
          },
          "paper_bgcolor": "white",
          "plot_bgcolor": "#E5ECF6",
          "polar": {
           "angularaxis": {
            "gridcolor": "white",
            "linecolor": "white",
            "ticks": ""
           },
           "bgcolor": "#E5ECF6",
           "radialaxis": {
            "gridcolor": "white",
            "linecolor": "white",
            "ticks": ""
           }
          },
          "scene": {
           "xaxis": {
            "backgroundcolor": "#E5ECF6",
            "gridcolor": "white",
            "gridwidth": 2,
            "linecolor": "white",
            "showbackground": true,
            "ticks": "",
            "zerolinecolor": "white"
           },
           "yaxis": {
            "backgroundcolor": "#E5ECF6",
            "gridcolor": "white",
            "gridwidth": 2,
            "linecolor": "white",
            "showbackground": true,
            "ticks": "",
            "zerolinecolor": "white"
           },
           "zaxis": {
            "backgroundcolor": "#E5ECF6",
            "gridcolor": "white",
            "gridwidth": 2,
            "linecolor": "white",
            "showbackground": true,
            "ticks": "",
            "zerolinecolor": "white"
           }
          },
          "shapedefaults": {
           "line": {
            "color": "#2a3f5f"
           }
          },
          "ternary": {
           "aaxis": {
            "gridcolor": "white",
            "linecolor": "white",
            "ticks": ""
           },
           "baxis": {
            "gridcolor": "white",
            "linecolor": "white",
            "ticks": ""
           },
           "bgcolor": "#E5ECF6",
           "caxis": {
            "gridcolor": "white",
            "linecolor": "white",
            "ticks": ""
           }
          },
          "title": {
           "x": 0.05
          },
          "xaxis": {
           "automargin": true,
           "gridcolor": "white",
           "linecolor": "white",
           "ticks": "",
           "title": {
            "standoff": 15
           },
           "zerolinecolor": "white",
           "zerolinewidth": 2
          },
          "yaxis": {
           "automargin": true,
           "gridcolor": "white",
           "linecolor": "white",
           "ticks": "",
           "title": {
            "standoff": 15
           },
           "zerolinecolor": "white",
           "zerolinewidth": 2
          }
         }
        },
        "title": {
         "text": "GDP per capita by year"
        },
        "xaxis": {
         "anchor": "y",
         "domain": [
          0,
          1
         ],
         "title": {
          "text": "Country or region"
         }
        },
        "yaxis": {
         "anchor": "x",
         "domain": [
          0,
          1
         ],
         "title": {
          "text": "GDP per capita"
         }
        }
       }
      },
      "text/html": [
       "<div>                            <div id=\"7f69ba91-6820-4590-8593-44839953c432\" class=\"plotly-graph-div\" style=\"height:525px; width:100%;\"></div>            <script type=\"text/javascript\">                require([\"plotly\"], function(Plotly) {                    window.PLOTLYENV=window.PLOTLYENV || {};                                    if (document.getElementById(\"7f69ba91-6820-4590-8593-44839953c432\")) {                    Plotly.newPlot(                        \"7f69ba91-6820-4590-8593-44839953c432\",                        [{\"hovertemplate\": \"Country or region=%{x}<br>GDP per capita=%{y}<br>year=%{marker.color}<extra></extra>\", \"legendgroup\": \"\", \"marker\": {\"color\": [2015, 2015, 2015, 2015, 2015, 2015, 2015, 2015, 2015, 2015, 2015, 2015, 2015, 2015, 2015, 2015, 2015, 2015, 2015, 2015, 2015, 2015, 2015, 2015, 2016, 2016, 2016, 2016, 2016, 2016, 2016, 2016, 2016, 2016, 2016, 2016, 2016, 2016, 2016, 2016, 2016, 2016, 2016, 2016, 2016, 2016, 2016, 2016, 2017, 2017, 2017, 2017, 2017, 2017, 2017, 2017, 2017, 2017, 2017, 2017, 2017, 2017, 2017, 2017, 2017, 2017, 2017, 2017, 2017, 2017, 2017, 2017, 2018, 2018, 2018, 2018, 2018, 2018, 2018, 2018, 2018, 2018, 2018, 2018, 2018, 2018, 2018, 2018, 2018, 2018, 2018, 2018, 2018, 2018, 2018, 2018, 2019, 2019, 2019, 2019, 2019, 2019, 2019, 2019, 2019, 2019, 2019, 2019, 2019, 2019, 2019, 2019, 2019, 2019, 2019, 2019, 2019, 2019, 2019, 2019, 2020, 2020, 2020, 2020, 2020, 2020, 2020, 2020, 2020, 2020, 2020, 2020, 2020, 2020, 2020, 2020, 2020, 2020, 2020, 2020, 2020, 2020, 2020, 2020], \"coloraxis\": \"coloraxis\", \"symbol\": \"circle\"}, \"mode\": \"markers\", \"name\": \"\", \"orientation\": \"v\", \"showlegend\": false, \"type\": \"scatter\", \"x\": [\"Switzerland\", \"Iceland\", \"Denmark\", \"Norway\", \"Canada\", \"Finland\", \"Netherlands\", \"Sweden\", \"New Zealand\", \"Austria\", \"United States\", \"Luxembourg\", \"South Korea\", \"Russia\", \"Zambia\", \"Zimbabwe\", \"India\", \"Haiti\", \"Botswana\", \"Malawi\", \"Yemen\", \"Tanzania\", \"Afghanistan\", \"Rwanda\", \"Denmark\", \"Switzerland\", \"Iceland\", \"Norway\", \"Finland\", \"Canada\", \"Netherlands\", \"New Zealand\", \"Sweden\", \"Austria\", \"United States\", \"Luxembourg\", \"Russia\", \"South Korea\", \"Zambia\", \"India\", \"Zimbabwe\", \"Malawi\", \"Haiti\", \"Botswana\", \"Yemen\", \"Tanzania\", \"Rwanda\", \"Afghanistan\", \"Norway\", \"Denmark\", \"Iceland\", \"Switzerland\", \"Finland\", \"Netherlands\", \"Canada\", \"New Zealand\", \"Sweden\", \"Austria\", \"United States\", \"Luxembourg\", \"Russia\", \"South Korea\", \"Zambia\", \"India\", \"Malawi\", \"Zimbabwe\", \"Afghanistan\", \"Botswana\", \"Haiti\", \"Yemen\", \"Rwanda\", \"Tanzania\", \"Finland\", \"Norway\", \"Denmark\", \"Iceland\", \"Switzerland\", \"Netherlands\", \"Canada\", \"New Zealand\", \"Sweden\", \"Austria\", \"Luxembourg\", \"United States\", \"South Korea\", \"Russia\", \"Zambia\", \"India\", \"Zimbabwe\", \"Afghanistan\", \"Botswana\", \"Malawi\", \"Haiti\", \"Rwanda\", \"Yemen\", \"Tanzania\", \"Finland\", \"Denmark\", \"Norway\", \"Iceland\", \"Netherlands\", \"Switzerland\", \"Sweden\", \"New Zealand\", \"Canada\", \"Austria\", \"Luxembourg\", \"United States\", \"South Korea\", \"Russia\", \"Zambia\", \"India\", \"Zimbabwe\", \"Haiti\", \"Botswana\", \"Malawi\", \"Yemen\", \"Rwanda\", \"Tanzania\", \"Afghanistan\", \"Finland\", \"Denmark\", \"Switzerland\", \"Iceland\", \"Norway\", \"Netherlands\", \"Sweden\", \"New Zealand\", \"Austria\", \"Luxembourg\", \"Canada\", \"United States\", \"South Korea\", \"Russia\", \"Zambia\", \"Haiti\", \"India\", \"Malawi\", \"Yemen\", \"Botswana\", \"Tanzania\", \"Rwanda\", \"Zimbabwe\", \"Afghanistan\"], \"xaxis\": \"x\", \"y\": [1.39651, 1.30232, 1.32548, 1.459, 1.32629, 1.29025, 1.32944, 1.33171, 1.25018, 1.33723, 1.39451, 1.56391, 1.24461, 1.13764, 0.47038, 0.271, 0.64499, 0.26673, 0.99355, 0.01604, 0.54649, 0.2852, 0.31982, 0.22208, 1.44178, 1.52733, 1.42666, 1.57744, 1.40598, 1.44015, 1.46468, 1.36066, 1.45181, 1.45038, 1.50796, 1.69752, 1.23228, 1.35948, 0.61202, 0.74036, 0.35041, 0.08709, 0.34097, 1.09426, 0.57939, 0.47155, 0.32846, 0.38227, 1.61646318435669, 1.48238301277161, 1.480633020401, 1.56497955322266, 1.44357192516327, 1.50394463539124, 1.47920441627502, 1.40570604801178, 1.49438726902008, 1.48709726333618, 1.54625928401947, 1.74194359779358, 1.28177809715271, 1.40167844295502, 0.636406779289246, 0.792221248149872, 0.233442038297653, 0.375846534967422, 0.401477217674255, 1.12209415435791, 0.368610262870789, 0.591683447360992, 0.368745893239975, 0.511135876178741, 1.305, 1.456, 1.351, 1.343, 1.42, 1.361, 1.33, 1.268, 1.355, 1.341, 1.576, 1.398, 1.266, 1.151, 0.562, 0.721, 0.357, 0.332, 1.017, 0.186, 0.315, 0.332, 0.442, 0.455, 1.34, 1.383, 1.488, 1.38, 1.396, 1.452, 1.387, 1.303, 1.365, 1.376, 1.609, 1.433, 1.301, 1.183, 0.578, 0.755, 0.366, 0.323, 1.041, 0.191, 0.287, 0.359, 0.476, 0.35, 1.285189509, 1.326948524, 1.39077425, 1.326501608, 1.42420733, 1.338946342, 1.322235227, 1.242317915, 1.317285538, 1.536676049, 1.301647663, 1.37398684, 1.245300651, 1.126999617, 0.536833763, 0.284734428, 0.730576158, 0.176534727, 0.392701775, 0.997548997, 0.457163125, 0.343242675, 0.425564021, 0.30070585], \"yaxis\": \"y\"}],                        {\"coloraxis\": {\"colorbar\": {\"title\": {\"text\": \"year\"}}, \"colorscale\": [[0.0, \"#0d0887\"], [0.1111111111111111, \"#46039f\"], [0.2222222222222222, \"#7201a8\"], [0.3333333333333333, \"#9c179e\"], [0.4444444444444444, \"#bd3786\"], [0.5555555555555556, \"#d8576b\"], [0.6666666666666666, \"#ed7953\"], [0.7777777777777778, \"#fb9f3a\"], [0.8888888888888888, \"#fdca26\"], [1.0, \"#f0f921\"]]}, \"legend\": {\"tracegroupgap\": 0}, \"template\": {\"data\": {\"bar\": [{\"error_x\": {\"color\": \"#2a3f5f\"}, \"error_y\": {\"color\": \"#2a3f5f\"}, \"marker\": {\"line\": {\"color\": \"#E5ECF6\", \"width\": 0.5}}, \"type\": \"bar\"}], \"barpolar\": [{\"marker\": {\"line\": {\"color\": \"#E5ECF6\", \"width\": 0.5}}, \"type\": \"barpolar\"}], \"carpet\": [{\"aaxis\": {\"endlinecolor\": \"#2a3f5f\", \"gridcolor\": \"white\", \"linecolor\": \"white\", \"minorgridcolor\": \"white\", \"startlinecolor\": \"#2a3f5f\"}, \"baxis\": {\"endlinecolor\": \"#2a3f5f\", \"gridcolor\": \"white\", \"linecolor\": \"white\", \"minorgridcolor\": \"white\", \"startlinecolor\": \"#2a3f5f\"}, \"type\": \"carpet\"}], \"choropleth\": [{\"colorbar\": {\"outlinewidth\": 0, \"ticks\": \"\"}, \"type\": \"choropleth\"}], \"contour\": [{\"colorbar\": {\"outlinewidth\": 0, \"ticks\": \"\"}, \"colorscale\": [[0.0, \"#0d0887\"], [0.1111111111111111, \"#46039f\"], [0.2222222222222222, \"#7201a8\"], [0.3333333333333333, \"#9c179e\"], [0.4444444444444444, \"#bd3786\"], [0.5555555555555556, \"#d8576b\"], [0.6666666666666666, \"#ed7953\"], [0.7777777777777778, \"#fb9f3a\"], [0.8888888888888888, \"#fdca26\"], [1.0, \"#f0f921\"]], \"type\": \"contour\"}], \"contourcarpet\": [{\"colorbar\": {\"outlinewidth\": 0, \"ticks\": \"\"}, \"type\": \"contourcarpet\"}], \"heatmap\": [{\"colorbar\": {\"outlinewidth\": 0, \"ticks\": \"\"}, \"colorscale\": [[0.0, \"#0d0887\"], [0.1111111111111111, \"#46039f\"], [0.2222222222222222, \"#7201a8\"], [0.3333333333333333, \"#9c179e\"], [0.4444444444444444, \"#bd3786\"], [0.5555555555555556, \"#d8576b\"], [0.6666666666666666, \"#ed7953\"], [0.7777777777777778, \"#fb9f3a\"], [0.8888888888888888, \"#fdca26\"], [1.0, \"#f0f921\"]], \"type\": \"heatmap\"}], \"heatmapgl\": [{\"colorbar\": {\"outlinewidth\": 0, \"ticks\": \"\"}, \"colorscale\": [[0.0, \"#0d0887\"], [0.1111111111111111, \"#46039f\"], [0.2222222222222222, \"#7201a8\"], [0.3333333333333333, \"#9c179e\"], [0.4444444444444444, \"#bd3786\"], [0.5555555555555556, \"#d8576b\"], [0.6666666666666666, \"#ed7953\"], [0.7777777777777778, \"#fb9f3a\"], [0.8888888888888888, \"#fdca26\"], [1.0, \"#f0f921\"]], \"type\": \"heatmapgl\"}], \"histogram\": [{\"marker\": {\"colorbar\": {\"outlinewidth\": 0, \"ticks\": \"\"}}, \"type\": \"histogram\"}], \"histogram2d\": [{\"colorbar\": {\"outlinewidth\": 0, \"ticks\": \"\"}, \"colorscale\": [[0.0, \"#0d0887\"], [0.1111111111111111, \"#46039f\"], [0.2222222222222222, \"#7201a8\"], [0.3333333333333333, \"#9c179e\"], [0.4444444444444444, \"#bd3786\"], [0.5555555555555556, \"#d8576b\"], [0.6666666666666666, \"#ed7953\"], [0.7777777777777778, \"#fb9f3a\"], [0.8888888888888888, \"#fdca26\"], [1.0, \"#f0f921\"]], \"type\": \"histogram2d\"}], \"histogram2dcontour\": [{\"colorbar\": {\"outlinewidth\": 0, \"ticks\": \"\"}, \"colorscale\": [[0.0, \"#0d0887\"], [0.1111111111111111, \"#46039f\"], [0.2222222222222222, \"#7201a8\"], [0.3333333333333333, \"#9c179e\"], [0.4444444444444444, \"#bd3786\"], [0.5555555555555556, \"#d8576b\"], [0.6666666666666666, \"#ed7953\"], [0.7777777777777778, \"#fb9f3a\"], [0.8888888888888888, \"#fdca26\"], [1.0, \"#f0f921\"]], \"type\": \"histogram2dcontour\"}], \"mesh3d\": [{\"colorbar\": {\"outlinewidth\": 0, \"ticks\": \"\"}, \"type\": \"mesh3d\"}], \"parcoords\": [{\"line\": {\"colorbar\": {\"outlinewidth\": 0, \"ticks\": \"\"}}, \"type\": \"parcoords\"}], \"pie\": [{\"automargin\": true, \"type\": \"pie\"}], \"scatter\": [{\"marker\": {\"colorbar\": {\"outlinewidth\": 0, \"ticks\": \"\"}}, \"type\": \"scatter\"}], \"scatter3d\": [{\"line\": {\"colorbar\": {\"outlinewidth\": 0, \"ticks\": \"\"}}, \"marker\": {\"colorbar\": {\"outlinewidth\": 0, \"ticks\": \"\"}}, \"type\": \"scatter3d\"}], \"scattercarpet\": [{\"marker\": {\"colorbar\": {\"outlinewidth\": 0, \"ticks\": \"\"}}, \"type\": \"scattercarpet\"}], \"scattergeo\": [{\"marker\": {\"colorbar\": {\"outlinewidth\": 0, \"ticks\": \"\"}}, \"type\": \"scattergeo\"}], \"scattergl\": [{\"marker\": {\"colorbar\": {\"outlinewidth\": 0, \"ticks\": \"\"}}, \"type\": \"scattergl\"}], \"scattermapbox\": [{\"marker\": {\"colorbar\": {\"outlinewidth\": 0, \"ticks\": \"\"}}, \"type\": \"scattermapbox\"}], \"scatterpolar\": [{\"marker\": {\"colorbar\": {\"outlinewidth\": 0, \"ticks\": \"\"}}, \"type\": \"scatterpolar\"}], \"scatterpolargl\": [{\"marker\": {\"colorbar\": {\"outlinewidth\": 0, \"ticks\": \"\"}}, \"type\": \"scatterpolargl\"}], \"scatterternary\": [{\"marker\": {\"colorbar\": {\"outlinewidth\": 0, \"ticks\": \"\"}}, \"type\": \"scatterternary\"}], \"surface\": [{\"colorbar\": {\"outlinewidth\": 0, \"ticks\": \"\"}, \"colorscale\": [[0.0, \"#0d0887\"], [0.1111111111111111, \"#46039f\"], [0.2222222222222222, \"#7201a8\"], [0.3333333333333333, \"#9c179e\"], [0.4444444444444444, \"#bd3786\"], [0.5555555555555556, \"#d8576b\"], [0.6666666666666666, \"#ed7953\"], [0.7777777777777778, \"#fb9f3a\"], [0.8888888888888888, \"#fdca26\"], [1.0, \"#f0f921\"]], \"type\": \"surface\"}], \"table\": [{\"cells\": {\"fill\": {\"color\": \"#EBF0F8\"}, \"line\": {\"color\": \"white\"}}, \"header\": {\"fill\": {\"color\": \"#C8D4E3\"}, \"line\": {\"color\": \"white\"}}, \"type\": \"table\"}]}, \"layout\": {\"annotationdefaults\": {\"arrowcolor\": \"#2a3f5f\", \"arrowhead\": 0, \"arrowwidth\": 1}, \"autotypenumbers\": \"strict\", \"coloraxis\": {\"colorbar\": {\"outlinewidth\": 0, \"ticks\": \"\"}}, \"colorscale\": {\"diverging\": [[0, \"#8e0152\"], [0.1, \"#c51b7d\"], [0.2, \"#de77ae\"], [0.3, \"#f1b6da\"], [0.4, \"#fde0ef\"], [0.5, \"#f7f7f7\"], [0.6, \"#e6f5d0\"], [0.7, \"#b8e186\"], [0.8, \"#7fbc41\"], [0.9, \"#4d9221\"], [1, \"#276419\"]], \"sequential\": [[0.0, \"#0d0887\"], [0.1111111111111111, \"#46039f\"], [0.2222222222222222, \"#7201a8\"], [0.3333333333333333, \"#9c179e\"], [0.4444444444444444, \"#bd3786\"], [0.5555555555555556, \"#d8576b\"], [0.6666666666666666, \"#ed7953\"], [0.7777777777777778, \"#fb9f3a\"], [0.8888888888888888, \"#fdca26\"], [1.0, \"#f0f921\"]], \"sequentialminus\": [[0.0, \"#0d0887\"], [0.1111111111111111, \"#46039f\"], [0.2222222222222222, \"#7201a8\"], [0.3333333333333333, \"#9c179e\"], [0.4444444444444444, \"#bd3786\"], [0.5555555555555556, \"#d8576b\"], [0.6666666666666666, \"#ed7953\"], [0.7777777777777778, \"#fb9f3a\"], [0.8888888888888888, \"#fdca26\"], [1.0, \"#f0f921\"]]}, \"colorway\": [\"#636efa\", \"#EF553B\", \"#00cc96\", \"#ab63fa\", \"#FFA15A\", \"#19d3f3\", \"#FF6692\", \"#B6E880\", \"#FF97FF\", \"#FECB52\"], \"font\": {\"color\": \"#2a3f5f\"}, \"geo\": {\"bgcolor\": \"white\", \"lakecolor\": \"white\", \"landcolor\": \"#E5ECF6\", \"showlakes\": true, \"showland\": true, \"subunitcolor\": \"white\"}, \"hoverlabel\": {\"align\": \"left\"}, \"hovermode\": \"closest\", \"mapbox\": {\"style\": \"light\"}, \"paper_bgcolor\": \"white\", \"plot_bgcolor\": \"#E5ECF6\", \"polar\": {\"angularaxis\": {\"gridcolor\": \"white\", \"linecolor\": \"white\", \"ticks\": \"\"}, \"bgcolor\": \"#E5ECF6\", \"radialaxis\": {\"gridcolor\": \"white\", \"linecolor\": \"white\", \"ticks\": \"\"}}, \"scene\": {\"xaxis\": {\"backgroundcolor\": \"#E5ECF6\", \"gridcolor\": \"white\", \"gridwidth\": 2, \"linecolor\": \"white\", \"showbackground\": true, \"ticks\": \"\", \"zerolinecolor\": \"white\"}, \"yaxis\": {\"backgroundcolor\": \"#E5ECF6\", \"gridcolor\": \"white\", \"gridwidth\": 2, \"linecolor\": \"white\", \"showbackground\": true, \"ticks\": \"\", \"zerolinecolor\": \"white\"}, \"zaxis\": {\"backgroundcolor\": \"#E5ECF6\", \"gridcolor\": \"white\", \"gridwidth\": 2, \"linecolor\": \"white\", \"showbackground\": true, \"ticks\": \"\", \"zerolinecolor\": \"white\"}}, \"shapedefaults\": {\"line\": {\"color\": \"#2a3f5f\"}}, \"ternary\": {\"aaxis\": {\"gridcolor\": \"white\", \"linecolor\": \"white\", \"ticks\": \"\"}, \"baxis\": {\"gridcolor\": \"white\", \"linecolor\": \"white\", \"ticks\": \"\"}, \"bgcolor\": \"#E5ECF6\", \"caxis\": {\"gridcolor\": \"white\", \"linecolor\": \"white\", \"ticks\": \"\"}}, \"title\": {\"x\": 0.05}, \"xaxis\": {\"automargin\": true, \"gridcolor\": \"white\", \"linecolor\": \"white\", \"ticks\": \"\", \"title\": {\"standoff\": 15}, \"zerolinecolor\": \"white\", \"zerolinewidth\": 2}, \"yaxis\": {\"automargin\": true, \"gridcolor\": \"white\", \"linecolor\": \"white\", \"ticks\": \"\", \"title\": {\"standoff\": 15}, \"zerolinecolor\": \"white\", \"zerolinewidth\": 2}}}, \"title\": {\"text\": \"GDP per capita by year\"}, \"xaxis\": {\"anchor\": \"y\", \"domain\": [0.0, 1.0], \"title\": {\"text\": \"Country or region\"}}, \"yaxis\": {\"anchor\": \"x\", \"domain\": [0.0, 1.0], \"title\": {\"text\": \"GDP per capita\"}}},                        {\"responsive\": true}                    ).then(function(){\n",
       "                            \n",
       "var gd = document.getElementById('7f69ba91-6820-4590-8593-44839953c432');\n",
       "var x = new MutationObserver(function (mutations, observer) {{\n",
       "        var display = window.getComputedStyle(gd).display;\n",
       "        if (!display || display === 'none') {{\n",
       "            console.log([gd, 'removed!']);\n",
       "            Plotly.purge(gd);\n",
       "            observer.disconnect();\n",
       "        }}\n",
       "}});\n",
       "\n",
       "// Listen for the removal of the full notebook cells\n",
       "var notebookContainer = gd.closest('#notebook-container');\n",
       "if (notebookContainer) {{\n",
       "    x.observe(notebookContainer, {childList: true});\n",
       "}}\n",
       "\n",
       "// Listen for the clearing of the current output cell\n",
       "var outputEl = gd.closest('.output');\n",
       "if (outputEl) {{\n",
       "    x.observe(outputEl, {childList: true});\n",
       "}}\n",
       "\n",
       "                        })                };                });            </script>        </div>"
      ]
     },
     "metadata": {},
     "output_type": "display_data"
    }
   ],
   "source": [
    "plot_scatter('GDP per capita')"
   ]
  },
  {
   "cell_type": "code",
   "execution_count": 2164,
   "id": "finite-intelligence",
   "metadata": {},
   "outputs": [],
   "source": [
    "train_y = df_all['GDP per capita'].to_numpy()\n",
    "train_x = df_all.iloc[:, 5:]\n",
    "test_y = df2019['GDP per capita'].to_numpy()\n",
    "test_x = df2019.iloc[:, 5:]\n",
    "scaler = StandardScaler()\n",
    "train_x = scaler.fit_transform(train_x)\n",
    "test_x = scaler.transform(test_x)"
   ]
  },
  {
   "cell_type": "code",
   "execution_count": 2165,
   "id": "utility-incidence",
   "metadata": {},
   "outputs": [],
   "source": [
    "lr = LinearRegression()\n",
    "lr.fit(train_x, train_y)\n",
    "hyp_gdp = lr.predict(test_x)"
   ]
  },
  {
   "cell_type": "code",
   "execution_count": 2166,
   "id": "automotive-carpet",
   "metadata": {},
   "outputs": [
    {
     "name": "stdout",
     "output_type": "stream",
     "text": [
      "R2 score...          \t -1.1132784665707884e+24\n",
      "Variance explained...\t -1.1052112313056834e+24\n",
      "Mean squared error...\t 1.589789589203305e+23\n"
     ]
    }
   ],
   "source": [
    "r2 = r2_score(test_y, hyp_gdp)\n",
    "var = explained_variance_score(test_y, hyp_gdp)\n",
    "mse = mean_squared_error(test_y, hyp_gdp)\n",
    "print('R2 score...          \\t', r2)\n",
    "print('Variance explained...\\t', var)\n",
    "print('Mean squared error...\\t', mse)"
   ]
  },
  {
   "cell_type": "markdown",
   "id": "rotary-protest",
   "metadata": {},
   "source": [
    "### Healthy Life Expectancy"
   ]
  },
  {
   "cell_type": "code",
   "execution_count": 2167,
   "id": "beginning-bulgaria",
   "metadata": {},
   "outputs": [
    {
     "data": {
      "application/vnd.plotly.v1+json": {
       "config": {
        "plotlyServerURL": "https://plot.ly"
       },
       "data": [
        {
         "hovertemplate": "Country or region=Switzerland<br>year=%{x}<br>Healthy life expectancy=%{y}<extra></extra>",
         "legendgroup": "Switzerland",
         "line": {
          "color": "#636efa",
          "dash": "solid"
         },
         "mode": "lines",
         "name": "Switzerland",
         "orientation": "v",
         "showlegend": true,
         "type": "scatter",
         "x": [
          2015,
          2016,
          2017,
          2018,
          2019,
          2020
         ],
         "xaxis": "x",
         "y": [
          0.94143,
          0.86303,
          0.858131289482117,
          0.927,
          1.052,
          1.040533185
         ],
         "yaxis": "y"
        },
        {
         "hovertemplate": "Country or region=Iceland<br>year=%{x}<br>Healthy life expectancy=%{y}<extra></extra>",
         "legendgroup": "Iceland",
         "line": {
          "color": "#EF553B",
          "dash": "solid"
         },
         "mode": "lines",
         "name": "Iceland",
         "orientation": "v",
         "showlegend": true,
         "type": "scatter",
         "x": [
          2015,
          2016,
          2017,
          2018,
          2019,
          2020
         ],
         "xaxis": "x",
         "y": [
          0.94784,
          0.86733,
          0.833552122116089,
          0.914,
          1.026,
          1.000843406
         ],
         "yaxis": "y"
        },
        {
         "hovertemplate": "Country or region=Denmark<br>year=%{x}<br>Healthy life expectancy=%{y}<extra></extra>",
         "legendgroup": "Denmark",
         "line": {
          "color": "#00cc96",
          "dash": "solid"
         },
         "mode": "lines",
         "name": "Denmark",
         "orientation": "v",
         "showlegend": true,
         "type": "scatter",
         "x": [
          2015,
          2016,
          2017,
          2018,
          2019,
          2020
         ],
         "xaxis": "x",
         "y": [
          0.87464,
          0.79504,
          0.792565524578094,
          0.868,
          0.996,
          0.979332566
         ],
         "yaxis": "y"
        },
        {
         "hovertemplate": "Country or region=Norway<br>year=%{x}<br>Healthy life expectancy=%{y}<extra></extra>",
         "legendgroup": "Norway",
         "line": {
          "color": "#ab63fa",
          "dash": "solid"
         },
         "mode": "lines",
         "name": "Norway",
         "orientation": "v",
         "showlegend": true,
         "type": "scatter",
         "x": [
          2015,
          2016,
          2017,
          2018,
          2019,
          2020
         ],
         "xaxis": "x",
         "y": [
          0.88521,
          0.79579,
          0.796666502952576,
          0.861,
          1.028,
          1.008071899
         ],
         "yaxis": "y"
        },
        {
         "hovertemplate": "Country or region=Canada<br>year=%{x}<br>Healthy life expectancy=%{y}<extra></extra>",
         "legendgroup": "Canada",
         "line": {
          "color": "#FFA15A",
          "dash": "solid"
         },
         "mode": "lines",
         "name": "Canada",
         "orientation": "v",
         "showlegend": true,
         "type": "scatter",
         "x": [
          2015,
          2016,
          2017,
          2018,
          2019,
          2020
         ],
         "xaxis": "x",
         "y": [
          0.90563,
          0.8276,
          0.83455765247345,
          0.896,
          1.039,
          1.022501945
         ],
         "yaxis": "y"
        },
        {
         "hovertemplate": "Country or region=Finland<br>year=%{x}<br>Healthy life expectancy=%{y}<extra></extra>",
         "legendgroup": "Finland",
         "line": {
          "color": "#19d3f3",
          "dash": "solid"
         },
         "mode": "lines",
         "name": "Finland",
         "orientation": "v",
         "showlegend": true,
         "type": "scatter",
         "x": [
          2015,
          2016,
          2017,
          2018,
          2019,
          2020
         ],
         "xaxis": "x",
         "y": [
          0.88911,
          0.81091,
          0.80915766954422,
          0.874,
          0.986,
          0.961271405
         ],
         "yaxis": "y"
        },
        {
         "hovertemplate": "Country or region=Netherlands<br>year=%{x}<br>Healthy life expectancy=%{y}<extra></extra>",
         "legendgroup": "Netherlands",
         "line": {
          "color": "#FF6692",
          "dash": "solid"
         },
         "mode": "lines",
         "name": "Netherlands",
         "orientation": "v",
         "showlegend": true,
         "type": "scatter",
         "x": [
          2015,
          2016,
          2017,
          2018,
          2019,
          2020
         ],
         "xaxis": "x",
         "y": [
          0.89284,
          0.81231,
          0.810696125030518,
          0.878,
          0.999,
          0.975675344
         ],
         "yaxis": "y"
        },
        {
         "hovertemplate": "Country or region=Sweden<br>year=%{x}<br>Healthy life expectancy=%{y}<extra></extra>",
         "legendgroup": "Sweden",
         "line": {
          "color": "#B6E880",
          "dash": "solid"
         },
         "mode": "lines",
         "name": "Sweden",
         "orientation": "v",
         "showlegend": true,
         "type": "scatter",
         "x": [
          2015,
          2016,
          2017,
          2018,
          2019,
          2020
         ],
         "xaxis": "x",
         "y": [
          0.91087,
          0.83121,
          0.830875158309937,
          0.913,
          1.009,
          0.986470461
         ],
         "yaxis": "y"
        },
        {
         "hovertemplate": "Country or region=New Zealand<br>year=%{x}<br>Healthy life expectancy=%{y}<extra></extra>",
         "legendgroup": "New Zealand",
         "line": {
          "color": "#FF97FF",
          "dash": "solid"
         },
         "mode": "lines",
         "name": "New Zealand",
         "orientation": "v",
         "showlegend": true,
         "type": "scatter",
         "x": [
          2015,
          2016,
          2017,
          2018,
          2019,
          2020
         ],
         "xaxis": "x",
         "y": [
          0.90837,
          0.83096,
          0.816759705543518,
          0.876,
          1.026,
          1.008138299
         ],
         "yaxis": "y"
        },
        {
         "hovertemplate": "Country or region=Austria<br>year=%{x}<br>Healthy life expectancy=%{y}<extra></extra>",
         "legendgroup": "Austria",
         "line": {
          "color": "#FECB52",
          "dash": "solid"
         },
         "mode": "lines",
         "name": "Austria",
         "orientation": "v",
         "showlegend": true,
         "type": "scatter",
         "x": [
          2015,
          2016,
          2017,
          2018,
          2019,
          2020
         ],
         "xaxis": "x",
         "y": [
          0.89042,
          0.80565,
          0.815328419208527,
          0.891,
          1.016,
          1.000933528
         ],
         "yaxis": "y"
        },
        {
         "hovertemplate": "Country or region=United States<br>year=%{x}<br>Healthy life expectancy=%{y}<extra></extra>",
         "legendgroup": "United States",
         "line": {
          "color": "#636efa",
          "dash": "solid"
         },
         "mode": "lines",
         "name": "United States",
         "orientation": "v",
         "showlegend": true,
         "type": "scatter",
         "x": [
          2015,
          2016,
          2017,
          2018,
          2019,
          2020
         ],
         "xaxis": "x",
         "y": [
          0.86179,
          0.779,
          0.77428662776947,
          0.819,
          0.874,
          0.831618011
         ],
         "yaxis": "y"
        },
        {
         "hovertemplate": "Country or region=Luxembourg<br>year=%{x}<br>Healthy life expectancy=%{y}<extra></extra>",
         "legendgroup": "Luxembourg",
         "line": {
          "color": "#EF553B",
          "dash": "solid"
         },
         "mode": "lines",
         "name": "Luxembourg",
         "orientation": "v",
         "showlegend": true,
         "type": "scatter",
         "x": [
          2015,
          2016,
          2017,
          2018,
          2019,
          2020
         ],
         "xaxis": "x",
         "y": [
          0.91894,
          0.84542,
          0.845089495182037,
          0.896,
          1.012,
          0.986442685
         ],
         "yaxis": "y"
        },
        {
         "hovertemplate": "Country or region=South Korea<br>year=%{x}<br>Healthy life expectancy=%{y}<extra></extra>",
         "legendgroup": "South Korea",
         "line": {
          "color": "#00cc96",
          "dash": "solid"
         },
         "mode": "lines",
         "name": "South Korea",
         "orientation": "v",
         "showlegend": true,
         "type": "scatter",
         "x": [
          2015,
          2016,
          2017,
          2018,
          2019,
          2020
         ],
         "xaxis": "x",
         "y": [
          0.96538,
          0.88645,
          0.900214076042175,
          0.955,
          1.036,
          1.022542596
         ],
         "yaxis": "y"
        },
        {
         "hovertemplate": "Country or region=Russia<br>year=%{x}<br>Healthy life expectancy=%{y}<extra></extra>",
         "legendgroup": "Russia",
         "line": {
          "color": "#ab63fa",
          "dash": "solid"
         },
         "mode": "lines",
         "name": "Russia",
         "orientation": "v",
         "showlegend": true,
         "type": "scatter",
         "x": [
          2015,
          2016,
          2017,
          2018,
          2019,
          2020
         ],
         "xaxis": "x",
         "y": [
          0.66926,
          0.58991,
          0.547349333763123,
          0.599,
          0.726,
          0.68044591
         ],
         "yaxis": "y"
        },
        {
         "hovertemplate": "Country or region=Zambia<br>year=%{x}<br>Healthy life expectancy=%{y}<extra></extra>",
         "legendgroup": "Zambia",
         "line": {
          "color": "#FFA15A",
          "dash": "solid"
         },
         "mode": "lines",
         "name": "Zambia",
         "orientation": "v",
         "showlegend": true,
         "type": "scatter",
         "x": [
          2015,
          2016,
          2017,
          2018,
          2019,
          2020
         ],
         "xaxis": "x",
         "y": [
          0.29924,
          0.23573,
          0.257835894823074,
          0.295,
          0.426,
          0.36359334
         ],
         "yaxis": "y"
        },
        {
         "hovertemplate": "Country or region=Zimbabwe<br>year=%{x}<br>Healthy life expectancy=%{y}<extra></extra>",
         "legendgroup": "Zimbabwe",
         "line": {
          "color": "#19d3f3",
          "dash": "solid"
         },
         "mode": "lines",
         "name": "Zimbabwe",
         "orientation": "v",
         "showlegend": true,
         "type": "scatter",
         "x": [
          2015,
          2016,
          2017,
          2018,
          2019,
          2020
         ],
         "xaxis": "x",
         "y": [
          0.33475,
          0.1595,
          0.196763753890991,
          0.248,
          0.433,
          0.375037611
         ],
         "yaxis": "y"
        },
        {
         "hovertemplate": "Country or region=India<br>year=%{x}<br>Healthy life expectancy=%{y}<extra></extra>",
         "legendgroup": "India",
         "line": {
          "color": "#FF6692",
          "dash": "solid"
         },
         "mode": "lines",
         "name": "India",
         "orientation": "v",
         "showlegend": true,
         "type": "scatter",
         "x": [
          2015,
          2016,
          2017,
          2018,
          2019,
          2020
         ],
         "xaxis": "x",
         "y": [
          0.51529,
          0.45091,
          0.455427616834641,
          0.485,
          0.588,
          0.54057014
         ],
         "yaxis": "y"
        },
        {
         "hovertemplate": "Country or region=Haiti<br>year=%{x}<br>Healthy life expectancy=%{y}<extra></extra>",
         "legendgroup": "Haiti",
         "line": {
          "color": "#B6E880",
          "dash": "solid"
         },
         "mode": "lines",
         "name": "Haiti",
         "orientation": "v",
         "showlegend": true,
         "type": "scatter",
         "x": [
          2015,
          2016,
          2017,
          2018,
          2019,
          2020
         ],
         "xaxis": "x",
         "y": [
          0.38847,
          0.27494,
          0.277321130037308,
          0.289,
          0.449,
          0.37436673
         ],
         "yaxis": "y"
        },
        {
         "hovertemplate": "Country or region=Botswana<br>year=%{x}<br>Healthy life expectancy=%{y}<extra></extra>",
         "legendgroup": "Botswana",
         "line": {
          "color": "#FF97FF",
          "dash": "solid"
         },
         "mode": "lines",
         "name": "Botswana",
         "orientation": "v",
         "showlegend": true,
         "type": "scatter",
         "x": [
          2015,
          2016,
          2017,
          2018,
          2019,
          2020
         ],
         "xaxis": "x",
         "y": [
          0.04776,
          0.34752,
          0.341755509376526,
          0.417,
          0.538,
          0.494101733
         ],
         "yaxis": "y"
        },
        {
         "hovertemplate": "Country or region=Malawi<br>year=%{x}<br>Healthy life expectancy=%{y}<extra></extra>",
         "legendgroup": "Malawi",
         "line": {
          "color": "#FECB52",
          "dash": "solid"
         },
         "mode": "lines",
         "name": "Malawi",
         "orientation": "v",
         "showlegend": true,
         "type": "scatter",
         "x": [
          2015,
          2016,
          2017,
          2018,
          2019,
          2020
         ],
         "xaxis": "x",
         "y": [
          0.22562,
          0.29364,
          0.315089583396912,
          0.306,
          0.495,
          0.446163297
         ],
         "yaxis": "y"
        },
        {
         "hovertemplate": "Country or region=Yemen<br>year=%{x}<br>Healthy life expectancy=%{y}<extra></extra>",
         "legendgroup": "Yemen",
         "line": {
          "color": "#636efa",
          "dash": "solid"
         },
         "mode": "lines",
         "name": "Yemen",
         "orientation": "v",
         "showlegend": true,
         "type": "scatter",
         "x": [
          2015,
          2016,
          2017,
          2018,
          2019,
          2020
         ],
         "xaxis": "x",
         "y": [
          0.40064,
          0.31048,
          0.310080915689468,
          0.343,
          0.463,
          0.41500017
         ],
         "yaxis": "y"
        },
        {
         "hovertemplate": "Country or region=Tanzania<br>year=%{x}<br>Healthy life expectancy=%{y}<extra></extra>",
         "legendgroup": "Tanzania",
         "line": {
          "color": "#EF553B",
          "dash": "solid"
         },
         "mode": "lines",
         "name": "Tanzania",
         "orientation": "v",
         "showlegend": true,
         "type": "scatter",
         "x": [
          2015,
          2016,
          2017,
          2018,
          2019,
          2020
         ],
         "xaxis": "x",
         "y": [
          0.38215,
          0.357,
          0.364509284496307,
          0.381,
          0.499,
          0.442677855
         ],
         "yaxis": "y"
        },
        {
         "hovertemplate": "Country or region=Afghanistan<br>year=%{x}<br>Healthy life expectancy=%{y}<extra></extra>",
         "legendgroup": "Afghanistan",
         "line": {
          "color": "#00cc96",
          "dash": "solid"
         },
         "mode": "lines",
         "name": "Afghanistan",
         "orientation": "v",
         "showlegend": true,
         "type": "scatter",
         "x": [
          2015,
          2016,
          2017,
          2018,
          2019,
          2020
         ],
         "xaxis": "x",
         "y": [
          0.30335,
          0.17344,
          0.180746778845787,
          0.255,
          0.361,
          0.266051531
         ],
         "yaxis": "y"
        },
        {
         "hovertemplate": "Country or region=Rwanda<br>year=%{x}<br>Healthy life expectancy=%{y}<extra></extra>",
         "legendgroup": "Rwanda",
         "line": {
          "color": "#ab63fa",
          "dash": "solid"
         },
         "mode": "lines",
         "name": "Rwanda",
         "orientation": "v",
         "showlegend": true,
         "type": "scatter",
         "x": [
          2015,
          2016,
          2017,
          2018,
          2019,
          2020
         ],
         "xaxis": "x",
         "y": [
          0.42864,
          0.31865,
          0.326424807310104,
          0.4,
          0.614,
          0.572383285
         ],
         "yaxis": "y"
        }
       ],
       "layout": {
        "legend": {
         "title": {
          "text": "Country or region"
         },
         "tracegroupgap": 0
        },
        "template": {
         "data": {
          "bar": [
           {
            "error_x": {
             "color": "#2a3f5f"
            },
            "error_y": {
             "color": "#2a3f5f"
            },
            "marker": {
             "line": {
              "color": "#E5ECF6",
              "width": 0.5
             }
            },
            "type": "bar"
           }
          ],
          "barpolar": [
           {
            "marker": {
             "line": {
              "color": "#E5ECF6",
              "width": 0.5
             }
            },
            "type": "barpolar"
           }
          ],
          "carpet": [
           {
            "aaxis": {
             "endlinecolor": "#2a3f5f",
             "gridcolor": "white",
             "linecolor": "white",
             "minorgridcolor": "white",
             "startlinecolor": "#2a3f5f"
            },
            "baxis": {
             "endlinecolor": "#2a3f5f",
             "gridcolor": "white",
             "linecolor": "white",
             "minorgridcolor": "white",
             "startlinecolor": "#2a3f5f"
            },
            "type": "carpet"
           }
          ],
          "choropleth": [
           {
            "colorbar": {
             "outlinewidth": 0,
             "ticks": ""
            },
            "type": "choropleth"
           }
          ],
          "contour": [
           {
            "colorbar": {
             "outlinewidth": 0,
             "ticks": ""
            },
            "colorscale": [
             [
              0,
              "#0d0887"
             ],
             [
              0.1111111111111111,
              "#46039f"
             ],
             [
              0.2222222222222222,
              "#7201a8"
             ],
             [
              0.3333333333333333,
              "#9c179e"
             ],
             [
              0.4444444444444444,
              "#bd3786"
             ],
             [
              0.5555555555555556,
              "#d8576b"
             ],
             [
              0.6666666666666666,
              "#ed7953"
             ],
             [
              0.7777777777777778,
              "#fb9f3a"
             ],
             [
              0.8888888888888888,
              "#fdca26"
             ],
             [
              1,
              "#f0f921"
             ]
            ],
            "type": "contour"
           }
          ],
          "contourcarpet": [
           {
            "colorbar": {
             "outlinewidth": 0,
             "ticks": ""
            },
            "type": "contourcarpet"
           }
          ],
          "heatmap": [
           {
            "colorbar": {
             "outlinewidth": 0,
             "ticks": ""
            },
            "colorscale": [
             [
              0,
              "#0d0887"
             ],
             [
              0.1111111111111111,
              "#46039f"
             ],
             [
              0.2222222222222222,
              "#7201a8"
             ],
             [
              0.3333333333333333,
              "#9c179e"
             ],
             [
              0.4444444444444444,
              "#bd3786"
             ],
             [
              0.5555555555555556,
              "#d8576b"
             ],
             [
              0.6666666666666666,
              "#ed7953"
             ],
             [
              0.7777777777777778,
              "#fb9f3a"
             ],
             [
              0.8888888888888888,
              "#fdca26"
             ],
             [
              1,
              "#f0f921"
             ]
            ],
            "type": "heatmap"
           }
          ],
          "heatmapgl": [
           {
            "colorbar": {
             "outlinewidth": 0,
             "ticks": ""
            },
            "colorscale": [
             [
              0,
              "#0d0887"
             ],
             [
              0.1111111111111111,
              "#46039f"
             ],
             [
              0.2222222222222222,
              "#7201a8"
             ],
             [
              0.3333333333333333,
              "#9c179e"
             ],
             [
              0.4444444444444444,
              "#bd3786"
             ],
             [
              0.5555555555555556,
              "#d8576b"
             ],
             [
              0.6666666666666666,
              "#ed7953"
             ],
             [
              0.7777777777777778,
              "#fb9f3a"
             ],
             [
              0.8888888888888888,
              "#fdca26"
             ],
             [
              1,
              "#f0f921"
             ]
            ],
            "type": "heatmapgl"
           }
          ],
          "histogram": [
           {
            "marker": {
             "colorbar": {
              "outlinewidth": 0,
              "ticks": ""
             }
            },
            "type": "histogram"
           }
          ],
          "histogram2d": [
           {
            "colorbar": {
             "outlinewidth": 0,
             "ticks": ""
            },
            "colorscale": [
             [
              0,
              "#0d0887"
             ],
             [
              0.1111111111111111,
              "#46039f"
             ],
             [
              0.2222222222222222,
              "#7201a8"
             ],
             [
              0.3333333333333333,
              "#9c179e"
             ],
             [
              0.4444444444444444,
              "#bd3786"
             ],
             [
              0.5555555555555556,
              "#d8576b"
             ],
             [
              0.6666666666666666,
              "#ed7953"
             ],
             [
              0.7777777777777778,
              "#fb9f3a"
             ],
             [
              0.8888888888888888,
              "#fdca26"
             ],
             [
              1,
              "#f0f921"
             ]
            ],
            "type": "histogram2d"
           }
          ],
          "histogram2dcontour": [
           {
            "colorbar": {
             "outlinewidth": 0,
             "ticks": ""
            },
            "colorscale": [
             [
              0,
              "#0d0887"
             ],
             [
              0.1111111111111111,
              "#46039f"
             ],
             [
              0.2222222222222222,
              "#7201a8"
             ],
             [
              0.3333333333333333,
              "#9c179e"
             ],
             [
              0.4444444444444444,
              "#bd3786"
             ],
             [
              0.5555555555555556,
              "#d8576b"
             ],
             [
              0.6666666666666666,
              "#ed7953"
             ],
             [
              0.7777777777777778,
              "#fb9f3a"
             ],
             [
              0.8888888888888888,
              "#fdca26"
             ],
             [
              1,
              "#f0f921"
             ]
            ],
            "type": "histogram2dcontour"
           }
          ],
          "mesh3d": [
           {
            "colorbar": {
             "outlinewidth": 0,
             "ticks": ""
            },
            "type": "mesh3d"
           }
          ],
          "parcoords": [
           {
            "line": {
             "colorbar": {
              "outlinewidth": 0,
              "ticks": ""
             }
            },
            "type": "parcoords"
           }
          ],
          "pie": [
           {
            "automargin": true,
            "type": "pie"
           }
          ],
          "scatter": [
           {
            "marker": {
             "colorbar": {
              "outlinewidth": 0,
              "ticks": ""
             }
            },
            "type": "scatter"
           }
          ],
          "scatter3d": [
           {
            "line": {
             "colorbar": {
              "outlinewidth": 0,
              "ticks": ""
             }
            },
            "marker": {
             "colorbar": {
              "outlinewidth": 0,
              "ticks": ""
             }
            },
            "type": "scatter3d"
           }
          ],
          "scattercarpet": [
           {
            "marker": {
             "colorbar": {
              "outlinewidth": 0,
              "ticks": ""
             }
            },
            "type": "scattercarpet"
           }
          ],
          "scattergeo": [
           {
            "marker": {
             "colorbar": {
              "outlinewidth": 0,
              "ticks": ""
             }
            },
            "type": "scattergeo"
           }
          ],
          "scattergl": [
           {
            "marker": {
             "colorbar": {
              "outlinewidth": 0,
              "ticks": ""
             }
            },
            "type": "scattergl"
           }
          ],
          "scattermapbox": [
           {
            "marker": {
             "colorbar": {
              "outlinewidth": 0,
              "ticks": ""
             }
            },
            "type": "scattermapbox"
           }
          ],
          "scatterpolar": [
           {
            "marker": {
             "colorbar": {
              "outlinewidth": 0,
              "ticks": ""
             }
            },
            "type": "scatterpolar"
           }
          ],
          "scatterpolargl": [
           {
            "marker": {
             "colorbar": {
              "outlinewidth": 0,
              "ticks": ""
             }
            },
            "type": "scatterpolargl"
           }
          ],
          "scatterternary": [
           {
            "marker": {
             "colorbar": {
              "outlinewidth": 0,
              "ticks": ""
             }
            },
            "type": "scatterternary"
           }
          ],
          "surface": [
           {
            "colorbar": {
             "outlinewidth": 0,
             "ticks": ""
            },
            "colorscale": [
             [
              0,
              "#0d0887"
             ],
             [
              0.1111111111111111,
              "#46039f"
             ],
             [
              0.2222222222222222,
              "#7201a8"
             ],
             [
              0.3333333333333333,
              "#9c179e"
             ],
             [
              0.4444444444444444,
              "#bd3786"
             ],
             [
              0.5555555555555556,
              "#d8576b"
             ],
             [
              0.6666666666666666,
              "#ed7953"
             ],
             [
              0.7777777777777778,
              "#fb9f3a"
             ],
             [
              0.8888888888888888,
              "#fdca26"
             ],
             [
              1,
              "#f0f921"
             ]
            ],
            "type": "surface"
           }
          ],
          "table": [
           {
            "cells": {
             "fill": {
              "color": "#EBF0F8"
             },
             "line": {
              "color": "white"
             }
            },
            "header": {
             "fill": {
              "color": "#C8D4E3"
             },
             "line": {
              "color": "white"
             }
            },
            "type": "table"
           }
          ]
         },
         "layout": {
          "annotationdefaults": {
           "arrowcolor": "#2a3f5f",
           "arrowhead": 0,
           "arrowwidth": 1
          },
          "autotypenumbers": "strict",
          "coloraxis": {
           "colorbar": {
            "outlinewidth": 0,
            "ticks": ""
           }
          },
          "colorscale": {
           "diverging": [
            [
             0,
             "#8e0152"
            ],
            [
             0.1,
             "#c51b7d"
            ],
            [
             0.2,
             "#de77ae"
            ],
            [
             0.3,
             "#f1b6da"
            ],
            [
             0.4,
             "#fde0ef"
            ],
            [
             0.5,
             "#f7f7f7"
            ],
            [
             0.6,
             "#e6f5d0"
            ],
            [
             0.7,
             "#b8e186"
            ],
            [
             0.8,
             "#7fbc41"
            ],
            [
             0.9,
             "#4d9221"
            ],
            [
             1,
             "#276419"
            ]
           ],
           "sequential": [
            [
             0,
             "#0d0887"
            ],
            [
             0.1111111111111111,
             "#46039f"
            ],
            [
             0.2222222222222222,
             "#7201a8"
            ],
            [
             0.3333333333333333,
             "#9c179e"
            ],
            [
             0.4444444444444444,
             "#bd3786"
            ],
            [
             0.5555555555555556,
             "#d8576b"
            ],
            [
             0.6666666666666666,
             "#ed7953"
            ],
            [
             0.7777777777777778,
             "#fb9f3a"
            ],
            [
             0.8888888888888888,
             "#fdca26"
            ],
            [
             1,
             "#f0f921"
            ]
           ],
           "sequentialminus": [
            [
             0,
             "#0d0887"
            ],
            [
             0.1111111111111111,
             "#46039f"
            ],
            [
             0.2222222222222222,
             "#7201a8"
            ],
            [
             0.3333333333333333,
             "#9c179e"
            ],
            [
             0.4444444444444444,
             "#bd3786"
            ],
            [
             0.5555555555555556,
             "#d8576b"
            ],
            [
             0.6666666666666666,
             "#ed7953"
            ],
            [
             0.7777777777777778,
             "#fb9f3a"
            ],
            [
             0.8888888888888888,
             "#fdca26"
            ],
            [
             1,
             "#f0f921"
            ]
           ]
          },
          "colorway": [
           "#636efa",
           "#EF553B",
           "#00cc96",
           "#ab63fa",
           "#FFA15A",
           "#19d3f3",
           "#FF6692",
           "#B6E880",
           "#FF97FF",
           "#FECB52"
          ],
          "font": {
           "color": "#2a3f5f"
          },
          "geo": {
           "bgcolor": "white",
           "lakecolor": "white",
           "landcolor": "#E5ECF6",
           "showlakes": true,
           "showland": true,
           "subunitcolor": "white"
          },
          "hoverlabel": {
           "align": "left"
          },
          "hovermode": "closest",
          "mapbox": {
           "style": "light"
          },
          "paper_bgcolor": "white",
          "plot_bgcolor": "#E5ECF6",
          "polar": {
           "angularaxis": {
            "gridcolor": "white",
            "linecolor": "white",
            "ticks": ""
           },
           "bgcolor": "#E5ECF6",
           "radialaxis": {
            "gridcolor": "white",
            "linecolor": "white",
            "ticks": ""
           }
          },
          "scene": {
           "xaxis": {
            "backgroundcolor": "#E5ECF6",
            "gridcolor": "white",
            "gridwidth": 2,
            "linecolor": "white",
            "showbackground": true,
            "ticks": "",
            "zerolinecolor": "white"
           },
           "yaxis": {
            "backgroundcolor": "#E5ECF6",
            "gridcolor": "white",
            "gridwidth": 2,
            "linecolor": "white",
            "showbackground": true,
            "ticks": "",
            "zerolinecolor": "white"
           },
           "zaxis": {
            "backgroundcolor": "#E5ECF6",
            "gridcolor": "white",
            "gridwidth": 2,
            "linecolor": "white",
            "showbackground": true,
            "ticks": "",
            "zerolinecolor": "white"
           }
          },
          "shapedefaults": {
           "line": {
            "color": "#2a3f5f"
           }
          },
          "ternary": {
           "aaxis": {
            "gridcolor": "white",
            "linecolor": "white",
            "ticks": ""
           },
           "baxis": {
            "gridcolor": "white",
            "linecolor": "white",
            "ticks": ""
           },
           "bgcolor": "#E5ECF6",
           "caxis": {
            "gridcolor": "white",
            "linecolor": "white",
            "ticks": ""
           }
          },
          "title": {
           "x": 0.05
          },
          "xaxis": {
           "automargin": true,
           "gridcolor": "white",
           "linecolor": "white",
           "ticks": "",
           "title": {
            "standoff": 15
           },
           "zerolinecolor": "white",
           "zerolinewidth": 2
          },
          "yaxis": {
           "automargin": true,
           "gridcolor": "white",
           "linecolor": "white",
           "ticks": "",
           "title": {
            "standoff": 15
           },
           "zerolinecolor": "white",
           "zerolinewidth": 2
          }
         }
        },
        "title": {
         "text": "Healthy life expectancy by country"
        },
        "xaxis": {
         "anchor": "y",
         "domain": [
          0,
          1
         ],
         "title": {
          "text": "year"
         }
        },
        "yaxis": {
         "anchor": "x",
         "domain": [
          0,
          1
         ],
         "title": {
          "text": "Healthy life expectancy"
         }
        }
       }
      },
      "text/html": [
       "<div>                            <div id=\"610caa11-aed0-40f0-aa6a-6f2dd2e3d1eb\" class=\"plotly-graph-div\" style=\"height:525px; width:100%;\"></div>            <script type=\"text/javascript\">                require([\"plotly\"], function(Plotly) {                    window.PLOTLYENV=window.PLOTLYENV || {};                                    if (document.getElementById(\"610caa11-aed0-40f0-aa6a-6f2dd2e3d1eb\")) {                    Plotly.newPlot(                        \"610caa11-aed0-40f0-aa6a-6f2dd2e3d1eb\",                        [{\"hovertemplate\": \"Country or region=Switzerland<br>year=%{x}<br>Healthy life expectancy=%{y}<extra></extra>\", \"legendgroup\": \"Switzerland\", \"line\": {\"color\": \"#636efa\", \"dash\": \"solid\"}, \"mode\": \"lines\", \"name\": \"Switzerland\", \"orientation\": \"v\", \"showlegend\": true, \"type\": \"scatter\", \"x\": [2015, 2016, 2017, 2018, 2019, 2020], \"xaxis\": \"x\", \"y\": [0.94143, 0.86303, 0.858131289482117, 0.927, 1.052, 1.040533185], \"yaxis\": \"y\"}, {\"hovertemplate\": \"Country or region=Iceland<br>year=%{x}<br>Healthy life expectancy=%{y}<extra></extra>\", \"legendgroup\": \"Iceland\", \"line\": {\"color\": \"#EF553B\", \"dash\": \"solid\"}, \"mode\": \"lines\", \"name\": \"Iceland\", \"orientation\": \"v\", \"showlegend\": true, \"type\": \"scatter\", \"x\": [2015, 2016, 2017, 2018, 2019, 2020], \"xaxis\": \"x\", \"y\": [0.94784, 0.86733, 0.833552122116089, 0.914, 1.026, 1.000843406], \"yaxis\": \"y\"}, {\"hovertemplate\": \"Country or region=Denmark<br>year=%{x}<br>Healthy life expectancy=%{y}<extra></extra>\", \"legendgroup\": \"Denmark\", \"line\": {\"color\": \"#00cc96\", \"dash\": \"solid\"}, \"mode\": \"lines\", \"name\": \"Denmark\", \"orientation\": \"v\", \"showlegend\": true, \"type\": \"scatter\", \"x\": [2015, 2016, 2017, 2018, 2019, 2020], \"xaxis\": \"x\", \"y\": [0.87464, 0.79504, 0.792565524578094, 0.868, 0.996, 0.979332566], \"yaxis\": \"y\"}, {\"hovertemplate\": \"Country or region=Norway<br>year=%{x}<br>Healthy life expectancy=%{y}<extra></extra>\", \"legendgroup\": \"Norway\", \"line\": {\"color\": \"#ab63fa\", \"dash\": \"solid\"}, \"mode\": \"lines\", \"name\": \"Norway\", \"orientation\": \"v\", \"showlegend\": true, \"type\": \"scatter\", \"x\": [2015, 2016, 2017, 2018, 2019, 2020], \"xaxis\": \"x\", \"y\": [0.88521, 0.79579, 0.796666502952576, 0.861, 1.028, 1.008071899], \"yaxis\": \"y\"}, {\"hovertemplate\": \"Country or region=Canada<br>year=%{x}<br>Healthy life expectancy=%{y}<extra></extra>\", \"legendgroup\": \"Canada\", \"line\": {\"color\": \"#FFA15A\", \"dash\": \"solid\"}, \"mode\": \"lines\", \"name\": \"Canada\", \"orientation\": \"v\", \"showlegend\": true, \"type\": \"scatter\", \"x\": [2015, 2016, 2017, 2018, 2019, 2020], \"xaxis\": \"x\", \"y\": [0.90563, 0.8276, 0.83455765247345, 0.896, 1.039, 1.022501945], \"yaxis\": \"y\"}, {\"hovertemplate\": \"Country or region=Finland<br>year=%{x}<br>Healthy life expectancy=%{y}<extra></extra>\", \"legendgroup\": \"Finland\", \"line\": {\"color\": \"#19d3f3\", \"dash\": \"solid\"}, \"mode\": \"lines\", \"name\": \"Finland\", \"orientation\": \"v\", \"showlegend\": true, \"type\": \"scatter\", \"x\": [2015, 2016, 2017, 2018, 2019, 2020], \"xaxis\": \"x\", \"y\": [0.88911, 0.81091, 0.80915766954422, 0.874, 0.986, 0.961271405], \"yaxis\": \"y\"}, {\"hovertemplate\": \"Country or region=Netherlands<br>year=%{x}<br>Healthy life expectancy=%{y}<extra></extra>\", \"legendgroup\": \"Netherlands\", \"line\": {\"color\": \"#FF6692\", \"dash\": \"solid\"}, \"mode\": \"lines\", \"name\": \"Netherlands\", \"orientation\": \"v\", \"showlegend\": true, \"type\": \"scatter\", \"x\": [2015, 2016, 2017, 2018, 2019, 2020], \"xaxis\": \"x\", \"y\": [0.89284, 0.81231, 0.810696125030518, 0.878, 0.999, 0.975675344], \"yaxis\": \"y\"}, {\"hovertemplate\": \"Country or region=Sweden<br>year=%{x}<br>Healthy life expectancy=%{y}<extra></extra>\", \"legendgroup\": \"Sweden\", \"line\": {\"color\": \"#B6E880\", \"dash\": \"solid\"}, \"mode\": \"lines\", \"name\": \"Sweden\", \"orientation\": \"v\", \"showlegend\": true, \"type\": \"scatter\", \"x\": [2015, 2016, 2017, 2018, 2019, 2020], \"xaxis\": \"x\", \"y\": [0.91087, 0.83121, 0.830875158309937, 0.913, 1.009, 0.986470461], \"yaxis\": \"y\"}, {\"hovertemplate\": \"Country or region=New Zealand<br>year=%{x}<br>Healthy life expectancy=%{y}<extra></extra>\", \"legendgroup\": \"New Zealand\", \"line\": {\"color\": \"#FF97FF\", \"dash\": \"solid\"}, \"mode\": \"lines\", \"name\": \"New Zealand\", \"orientation\": \"v\", \"showlegend\": true, \"type\": \"scatter\", \"x\": [2015, 2016, 2017, 2018, 2019, 2020], \"xaxis\": \"x\", \"y\": [0.90837, 0.83096, 0.816759705543518, 0.876, 1.026, 1.008138299], \"yaxis\": \"y\"}, {\"hovertemplate\": \"Country or region=Austria<br>year=%{x}<br>Healthy life expectancy=%{y}<extra></extra>\", \"legendgroup\": \"Austria\", \"line\": {\"color\": \"#FECB52\", \"dash\": \"solid\"}, \"mode\": \"lines\", \"name\": \"Austria\", \"orientation\": \"v\", \"showlegend\": true, \"type\": \"scatter\", \"x\": [2015, 2016, 2017, 2018, 2019, 2020], \"xaxis\": \"x\", \"y\": [0.89042, 0.80565, 0.815328419208527, 0.891, 1.016, 1.000933528], \"yaxis\": \"y\"}, {\"hovertemplate\": \"Country or region=United States<br>year=%{x}<br>Healthy life expectancy=%{y}<extra></extra>\", \"legendgroup\": \"United States\", \"line\": {\"color\": \"#636efa\", \"dash\": \"solid\"}, \"mode\": \"lines\", \"name\": \"United States\", \"orientation\": \"v\", \"showlegend\": true, \"type\": \"scatter\", \"x\": [2015, 2016, 2017, 2018, 2019, 2020], \"xaxis\": \"x\", \"y\": [0.86179, 0.779, 0.77428662776947, 0.819, 0.874, 0.831618011], \"yaxis\": \"y\"}, {\"hovertemplate\": \"Country or region=Luxembourg<br>year=%{x}<br>Healthy life expectancy=%{y}<extra></extra>\", \"legendgroup\": \"Luxembourg\", \"line\": {\"color\": \"#EF553B\", \"dash\": \"solid\"}, \"mode\": \"lines\", \"name\": \"Luxembourg\", \"orientation\": \"v\", \"showlegend\": true, \"type\": \"scatter\", \"x\": [2015, 2016, 2017, 2018, 2019, 2020], \"xaxis\": \"x\", \"y\": [0.91894, 0.84542, 0.845089495182037, 0.896, 1.012, 0.986442685], \"yaxis\": \"y\"}, {\"hovertemplate\": \"Country or region=South Korea<br>year=%{x}<br>Healthy life expectancy=%{y}<extra></extra>\", \"legendgroup\": \"South Korea\", \"line\": {\"color\": \"#00cc96\", \"dash\": \"solid\"}, \"mode\": \"lines\", \"name\": \"South Korea\", \"orientation\": \"v\", \"showlegend\": true, \"type\": \"scatter\", \"x\": [2015, 2016, 2017, 2018, 2019, 2020], \"xaxis\": \"x\", \"y\": [0.96538, 0.88645, 0.900214076042175, 0.955, 1.036, 1.022542596], \"yaxis\": \"y\"}, {\"hovertemplate\": \"Country or region=Russia<br>year=%{x}<br>Healthy life expectancy=%{y}<extra></extra>\", \"legendgroup\": \"Russia\", \"line\": {\"color\": \"#ab63fa\", \"dash\": \"solid\"}, \"mode\": \"lines\", \"name\": \"Russia\", \"orientation\": \"v\", \"showlegend\": true, \"type\": \"scatter\", \"x\": [2015, 2016, 2017, 2018, 2019, 2020], \"xaxis\": \"x\", \"y\": [0.66926, 0.58991, 0.547349333763123, 0.599, 0.726, 0.68044591], \"yaxis\": \"y\"}, {\"hovertemplate\": \"Country or region=Zambia<br>year=%{x}<br>Healthy life expectancy=%{y}<extra></extra>\", \"legendgroup\": \"Zambia\", \"line\": {\"color\": \"#FFA15A\", \"dash\": \"solid\"}, \"mode\": \"lines\", \"name\": \"Zambia\", \"orientation\": \"v\", \"showlegend\": true, \"type\": \"scatter\", \"x\": [2015, 2016, 2017, 2018, 2019, 2020], \"xaxis\": \"x\", \"y\": [0.29924, 0.23573, 0.257835894823074, 0.295, 0.426, 0.36359334], \"yaxis\": \"y\"}, {\"hovertemplate\": \"Country or region=Zimbabwe<br>year=%{x}<br>Healthy life expectancy=%{y}<extra></extra>\", \"legendgroup\": \"Zimbabwe\", \"line\": {\"color\": \"#19d3f3\", \"dash\": \"solid\"}, \"mode\": \"lines\", \"name\": \"Zimbabwe\", \"orientation\": \"v\", \"showlegend\": true, \"type\": \"scatter\", \"x\": [2015, 2016, 2017, 2018, 2019, 2020], \"xaxis\": \"x\", \"y\": [0.33475, 0.1595, 0.196763753890991, 0.248, 0.433, 0.375037611], \"yaxis\": \"y\"}, {\"hovertemplate\": \"Country or region=India<br>year=%{x}<br>Healthy life expectancy=%{y}<extra></extra>\", \"legendgroup\": \"India\", \"line\": {\"color\": \"#FF6692\", \"dash\": \"solid\"}, \"mode\": \"lines\", \"name\": \"India\", \"orientation\": \"v\", \"showlegend\": true, \"type\": \"scatter\", \"x\": [2015, 2016, 2017, 2018, 2019, 2020], \"xaxis\": \"x\", \"y\": [0.51529, 0.45091, 0.455427616834641, 0.485, 0.588, 0.54057014], \"yaxis\": \"y\"}, {\"hovertemplate\": \"Country or region=Haiti<br>year=%{x}<br>Healthy life expectancy=%{y}<extra></extra>\", \"legendgroup\": \"Haiti\", \"line\": {\"color\": \"#B6E880\", \"dash\": \"solid\"}, \"mode\": \"lines\", \"name\": \"Haiti\", \"orientation\": \"v\", \"showlegend\": true, \"type\": \"scatter\", \"x\": [2015, 2016, 2017, 2018, 2019, 2020], \"xaxis\": \"x\", \"y\": [0.38847, 0.27494, 0.277321130037308, 0.289, 0.449, 0.37436673], \"yaxis\": \"y\"}, {\"hovertemplate\": \"Country or region=Botswana<br>year=%{x}<br>Healthy life expectancy=%{y}<extra></extra>\", \"legendgroup\": \"Botswana\", \"line\": {\"color\": \"#FF97FF\", \"dash\": \"solid\"}, \"mode\": \"lines\", \"name\": \"Botswana\", \"orientation\": \"v\", \"showlegend\": true, \"type\": \"scatter\", \"x\": [2015, 2016, 2017, 2018, 2019, 2020], \"xaxis\": \"x\", \"y\": [0.04776, 0.34752, 0.341755509376526, 0.417, 0.538, 0.494101733], \"yaxis\": \"y\"}, {\"hovertemplate\": \"Country or region=Malawi<br>year=%{x}<br>Healthy life expectancy=%{y}<extra></extra>\", \"legendgroup\": \"Malawi\", \"line\": {\"color\": \"#FECB52\", \"dash\": \"solid\"}, \"mode\": \"lines\", \"name\": \"Malawi\", \"orientation\": \"v\", \"showlegend\": true, \"type\": \"scatter\", \"x\": [2015, 2016, 2017, 2018, 2019, 2020], \"xaxis\": \"x\", \"y\": [0.22562, 0.29364, 0.315089583396912, 0.306, 0.495, 0.446163297], \"yaxis\": \"y\"}, {\"hovertemplate\": \"Country or region=Yemen<br>year=%{x}<br>Healthy life expectancy=%{y}<extra></extra>\", \"legendgroup\": \"Yemen\", \"line\": {\"color\": \"#636efa\", \"dash\": \"solid\"}, \"mode\": \"lines\", \"name\": \"Yemen\", \"orientation\": \"v\", \"showlegend\": true, \"type\": \"scatter\", \"x\": [2015, 2016, 2017, 2018, 2019, 2020], \"xaxis\": \"x\", \"y\": [0.40064, 0.31048, 0.310080915689468, 0.343, 0.463, 0.41500017], \"yaxis\": \"y\"}, {\"hovertemplate\": \"Country or region=Tanzania<br>year=%{x}<br>Healthy life expectancy=%{y}<extra></extra>\", \"legendgroup\": \"Tanzania\", \"line\": {\"color\": \"#EF553B\", \"dash\": \"solid\"}, \"mode\": \"lines\", \"name\": \"Tanzania\", \"orientation\": \"v\", \"showlegend\": true, \"type\": \"scatter\", \"x\": [2015, 2016, 2017, 2018, 2019, 2020], \"xaxis\": \"x\", \"y\": [0.38215, 0.357, 0.364509284496307, 0.381, 0.499, 0.442677855], \"yaxis\": \"y\"}, {\"hovertemplate\": \"Country or region=Afghanistan<br>year=%{x}<br>Healthy life expectancy=%{y}<extra></extra>\", \"legendgroup\": \"Afghanistan\", \"line\": {\"color\": \"#00cc96\", \"dash\": \"solid\"}, \"mode\": \"lines\", \"name\": \"Afghanistan\", \"orientation\": \"v\", \"showlegend\": true, \"type\": \"scatter\", \"x\": [2015, 2016, 2017, 2018, 2019, 2020], \"xaxis\": \"x\", \"y\": [0.30335, 0.17344, 0.180746778845787, 0.255, 0.361, 0.266051531], \"yaxis\": \"y\"}, {\"hovertemplate\": \"Country or region=Rwanda<br>year=%{x}<br>Healthy life expectancy=%{y}<extra></extra>\", \"legendgroup\": \"Rwanda\", \"line\": {\"color\": \"#ab63fa\", \"dash\": \"solid\"}, \"mode\": \"lines\", \"name\": \"Rwanda\", \"orientation\": \"v\", \"showlegend\": true, \"type\": \"scatter\", \"x\": [2015, 2016, 2017, 2018, 2019, 2020], \"xaxis\": \"x\", \"y\": [0.42864, 0.31865, 0.326424807310104, 0.4, 0.614, 0.572383285], \"yaxis\": \"y\"}],                        {\"legend\": {\"title\": {\"text\": \"Country or region\"}, \"tracegroupgap\": 0}, \"template\": {\"data\": {\"bar\": [{\"error_x\": {\"color\": \"#2a3f5f\"}, \"error_y\": {\"color\": \"#2a3f5f\"}, \"marker\": {\"line\": {\"color\": \"#E5ECF6\", \"width\": 0.5}}, \"type\": \"bar\"}], \"barpolar\": [{\"marker\": {\"line\": {\"color\": \"#E5ECF6\", \"width\": 0.5}}, \"type\": \"barpolar\"}], \"carpet\": [{\"aaxis\": {\"endlinecolor\": \"#2a3f5f\", \"gridcolor\": \"white\", \"linecolor\": \"white\", \"minorgridcolor\": \"white\", \"startlinecolor\": \"#2a3f5f\"}, \"baxis\": {\"endlinecolor\": \"#2a3f5f\", \"gridcolor\": \"white\", \"linecolor\": \"white\", \"minorgridcolor\": \"white\", \"startlinecolor\": \"#2a3f5f\"}, \"type\": \"carpet\"}], \"choropleth\": [{\"colorbar\": {\"outlinewidth\": 0, \"ticks\": \"\"}, \"type\": \"choropleth\"}], \"contour\": [{\"colorbar\": {\"outlinewidth\": 0, \"ticks\": \"\"}, \"colorscale\": [[0.0, \"#0d0887\"], [0.1111111111111111, \"#46039f\"], [0.2222222222222222, \"#7201a8\"], [0.3333333333333333, \"#9c179e\"], [0.4444444444444444, \"#bd3786\"], [0.5555555555555556, \"#d8576b\"], [0.6666666666666666, \"#ed7953\"], [0.7777777777777778, \"#fb9f3a\"], [0.8888888888888888, \"#fdca26\"], [1.0, \"#f0f921\"]], \"type\": \"contour\"}], \"contourcarpet\": [{\"colorbar\": {\"outlinewidth\": 0, \"ticks\": \"\"}, \"type\": \"contourcarpet\"}], \"heatmap\": [{\"colorbar\": {\"outlinewidth\": 0, \"ticks\": \"\"}, \"colorscale\": [[0.0, \"#0d0887\"], [0.1111111111111111, \"#46039f\"], [0.2222222222222222, \"#7201a8\"], [0.3333333333333333, \"#9c179e\"], [0.4444444444444444, \"#bd3786\"], [0.5555555555555556, \"#d8576b\"], [0.6666666666666666, \"#ed7953\"], [0.7777777777777778, \"#fb9f3a\"], [0.8888888888888888, \"#fdca26\"], [1.0, \"#f0f921\"]], \"type\": \"heatmap\"}], \"heatmapgl\": [{\"colorbar\": {\"outlinewidth\": 0, \"ticks\": \"\"}, \"colorscale\": [[0.0, \"#0d0887\"], [0.1111111111111111, \"#46039f\"], [0.2222222222222222, \"#7201a8\"], [0.3333333333333333, \"#9c179e\"], [0.4444444444444444, \"#bd3786\"], [0.5555555555555556, \"#d8576b\"], [0.6666666666666666, \"#ed7953\"], [0.7777777777777778, \"#fb9f3a\"], [0.8888888888888888, \"#fdca26\"], [1.0, \"#f0f921\"]], \"type\": \"heatmapgl\"}], \"histogram\": [{\"marker\": {\"colorbar\": {\"outlinewidth\": 0, \"ticks\": \"\"}}, \"type\": \"histogram\"}], \"histogram2d\": [{\"colorbar\": {\"outlinewidth\": 0, \"ticks\": \"\"}, \"colorscale\": [[0.0, \"#0d0887\"], [0.1111111111111111, \"#46039f\"], [0.2222222222222222, \"#7201a8\"], [0.3333333333333333, \"#9c179e\"], [0.4444444444444444, \"#bd3786\"], [0.5555555555555556, \"#d8576b\"], [0.6666666666666666, \"#ed7953\"], [0.7777777777777778, \"#fb9f3a\"], [0.8888888888888888, \"#fdca26\"], [1.0, \"#f0f921\"]], \"type\": \"histogram2d\"}], \"histogram2dcontour\": [{\"colorbar\": {\"outlinewidth\": 0, \"ticks\": \"\"}, \"colorscale\": [[0.0, \"#0d0887\"], [0.1111111111111111, \"#46039f\"], [0.2222222222222222, \"#7201a8\"], [0.3333333333333333, \"#9c179e\"], [0.4444444444444444, \"#bd3786\"], [0.5555555555555556, \"#d8576b\"], [0.6666666666666666, \"#ed7953\"], [0.7777777777777778, \"#fb9f3a\"], [0.8888888888888888, \"#fdca26\"], [1.0, \"#f0f921\"]], \"type\": \"histogram2dcontour\"}], \"mesh3d\": [{\"colorbar\": {\"outlinewidth\": 0, \"ticks\": \"\"}, \"type\": \"mesh3d\"}], \"parcoords\": [{\"line\": {\"colorbar\": {\"outlinewidth\": 0, \"ticks\": \"\"}}, \"type\": \"parcoords\"}], \"pie\": [{\"automargin\": true, \"type\": \"pie\"}], \"scatter\": [{\"marker\": {\"colorbar\": {\"outlinewidth\": 0, \"ticks\": \"\"}}, \"type\": \"scatter\"}], \"scatter3d\": [{\"line\": {\"colorbar\": {\"outlinewidth\": 0, \"ticks\": \"\"}}, \"marker\": {\"colorbar\": {\"outlinewidth\": 0, \"ticks\": \"\"}}, \"type\": \"scatter3d\"}], \"scattercarpet\": [{\"marker\": {\"colorbar\": {\"outlinewidth\": 0, \"ticks\": \"\"}}, \"type\": \"scattercarpet\"}], \"scattergeo\": [{\"marker\": {\"colorbar\": {\"outlinewidth\": 0, \"ticks\": \"\"}}, \"type\": \"scattergeo\"}], \"scattergl\": [{\"marker\": {\"colorbar\": {\"outlinewidth\": 0, \"ticks\": \"\"}}, \"type\": \"scattergl\"}], \"scattermapbox\": [{\"marker\": {\"colorbar\": {\"outlinewidth\": 0, \"ticks\": \"\"}}, \"type\": \"scattermapbox\"}], \"scatterpolar\": [{\"marker\": {\"colorbar\": {\"outlinewidth\": 0, \"ticks\": \"\"}}, \"type\": \"scatterpolar\"}], \"scatterpolargl\": [{\"marker\": {\"colorbar\": {\"outlinewidth\": 0, \"ticks\": \"\"}}, \"type\": \"scatterpolargl\"}], \"scatterternary\": [{\"marker\": {\"colorbar\": {\"outlinewidth\": 0, \"ticks\": \"\"}}, \"type\": \"scatterternary\"}], \"surface\": [{\"colorbar\": {\"outlinewidth\": 0, \"ticks\": \"\"}, \"colorscale\": [[0.0, \"#0d0887\"], [0.1111111111111111, \"#46039f\"], [0.2222222222222222, \"#7201a8\"], [0.3333333333333333, \"#9c179e\"], [0.4444444444444444, \"#bd3786\"], [0.5555555555555556, \"#d8576b\"], [0.6666666666666666, \"#ed7953\"], [0.7777777777777778, \"#fb9f3a\"], [0.8888888888888888, \"#fdca26\"], [1.0, \"#f0f921\"]], \"type\": \"surface\"}], \"table\": [{\"cells\": {\"fill\": {\"color\": \"#EBF0F8\"}, \"line\": {\"color\": \"white\"}}, \"header\": {\"fill\": {\"color\": \"#C8D4E3\"}, \"line\": {\"color\": \"white\"}}, \"type\": \"table\"}]}, \"layout\": {\"annotationdefaults\": {\"arrowcolor\": \"#2a3f5f\", \"arrowhead\": 0, \"arrowwidth\": 1}, \"autotypenumbers\": \"strict\", \"coloraxis\": {\"colorbar\": {\"outlinewidth\": 0, \"ticks\": \"\"}}, \"colorscale\": {\"diverging\": [[0, \"#8e0152\"], [0.1, \"#c51b7d\"], [0.2, \"#de77ae\"], [0.3, \"#f1b6da\"], [0.4, \"#fde0ef\"], [0.5, \"#f7f7f7\"], [0.6, \"#e6f5d0\"], [0.7, \"#b8e186\"], [0.8, \"#7fbc41\"], [0.9, \"#4d9221\"], [1, \"#276419\"]], \"sequential\": [[0.0, \"#0d0887\"], [0.1111111111111111, \"#46039f\"], [0.2222222222222222, \"#7201a8\"], [0.3333333333333333, \"#9c179e\"], [0.4444444444444444, \"#bd3786\"], [0.5555555555555556, \"#d8576b\"], [0.6666666666666666, \"#ed7953\"], [0.7777777777777778, \"#fb9f3a\"], [0.8888888888888888, \"#fdca26\"], [1.0, \"#f0f921\"]], \"sequentialminus\": [[0.0, \"#0d0887\"], [0.1111111111111111, \"#46039f\"], [0.2222222222222222, \"#7201a8\"], [0.3333333333333333, \"#9c179e\"], [0.4444444444444444, \"#bd3786\"], [0.5555555555555556, \"#d8576b\"], [0.6666666666666666, \"#ed7953\"], [0.7777777777777778, \"#fb9f3a\"], [0.8888888888888888, \"#fdca26\"], [1.0, \"#f0f921\"]]}, \"colorway\": [\"#636efa\", \"#EF553B\", \"#00cc96\", \"#ab63fa\", \"#FFA15A\", \"#19d3f3\", \"#FF6692\", \"#B6E880\", \"#FF97FF\", \"#FECB52\"], \"font\": {\"color\": \"#2a3f5f\"}, \"geo\": {\"bgcolor\": \"white\", \"lakecolor\": \"white\", \"landcolor\": \"#E5ECF6\", \"showlakes\": true, \"showland\": true, \"subunitcolor\": \"white\"}, \"hoverlabel\": {\"align\": \"left\"}, \"hovermode\": \"closest\", \"mapbox\": {\"style\": \"light\"}, \"paper_bgcolor\": \"white\", \"plot_bgcolor\": \"#E5ECF6\", \"polar\": {\"angularaxis\": {\"gridcolor\": \"white\", \"linecolor\": \"white\", \"ticks\": \"\"}, \"bgcolor\": \"#E5ECF6\", \"radialaxis\": {\"gridcolor\": \"white\", \"linecolor\": \"white\", \"ticks\": \"\"}}, \"scene\": {\"xaxis\": {\"backgroundcolor\": \"#E5ECF6\", \"gridcolor\": \"white\", \"gridwidth\": 2, \"linecolor\": \"white\", \"showbackground\": true, \"ticks\": \"\", \"zerolinecolor\": \"white\"}, \"yaxis\": {\"backgroundcolor\": \"#E5ECF6\", \"gridcolor\": \"white\", \"gridwidth\": 2, \"linecolor\": \"white\", \"showbackground\": true, \"ticks\": \"\", \"zerolinecolor\": \"white\"}, \"zaxis\": {\"backgroundcolor\": \"#E5ECF6\", \"gridcolor\": \"white\", \"gridwidth\": 2, \"linecolor\": \"white\", \"showbackground\": true, \"ticks\": \"\", \"zerolinecolor\": \"white\"}}, \"shapedefaults\": {\"line\": {\"color\": \"#2a3f5f\"}}, \"ternary\": {\"aaxis\": {\"gridcolor\": \"white\", \"linecolor\": \"white\", \"ticks\": \"\"}, \"baxis\": {\"gridcolor\": \"white\", \"linecolor\": \"white\", \"ticks\": \"\"}, \"bgcolor\": \"#E5ECF6\", \"caxis\": {\"gridcolor\": \"white\", \"linecolor\": \"white\", \"ticks\": \"\"}}, \"title\": {\"x\": 0.05}, \"xaxis\": {\"automargin\": true, \"gridcolor\": \"white\", \"linecolor\": \"white\", \"ticks\": \"\", \"title\": {\"standoff\": 15}, \"zerolinecolor\": \"white\", \"zerolinewidth\": 2}, \"yaxis\": {\"automargin\": true, \"gridcolor\": \"white\", \"linecolor\": \"white\", \"ticks\": \"\", \"title\": {\"standoff\": 15}, \"zerolinecolor\": \"white\", \"zerolinewidth\": 2}}}, \"title\": {\"text\": \"Healthy life expectancy by country\"}, \"xaxis\": {\"anchor\": \"y\", \"domain\": [0.0, 1.0], \"title\": {\"text\": \"year\"}}, \"yaxis\": {\"anchor\": \"x\", \"domain\": [0.0, 1.0], \"title\": {\"text\": \"Healthy life expectancy\"}}},                        {\"responsive\": true}                    ).then(function(){\n",
       "                            \n",
       "var gd = document.getElementById('610caa11-aed0-40f0-aa6a-6f2dd2e3d1eb');\n",
       "var x = new MutationObserver(function (mutations, observer) {{\n",
       "        var display = window.getComputedStyle(gd).display;\n",
       "        if (!display || display === 'none') {{\n",
       "            console.log([gd, 'removed!']);\n",
       "            Plotly.purge(gd);\n",
       "            observer.disconnect();\n",
       "        }}\n",
       "}});\n",
       "\n",
       "// Listen for the removal of the full notebook cells\n",
       "var notebookContainer = gd.closest('#notebook-container');\n",
       "if (notebookContainer) {{\n",
       "    x.observe(notebookContainer, {childList: true});\n",
       "}}\n",
       "\n",
       "// Listen for the clearing of the current output cell\n",
       "var outputEl = gd.closest('.output');\n",
       "if (outputEl) {{\n",
       "    x.observe(outputEl, {childList: true});\n",
       "}}\n",
       "\n",
       "                        })                };                });            </script>        </div>"
      ]
     },
     "metadata": {},
     "output_type": "display_data"
    }
   ],
   "source": [
    "plot_line('Healthy life expectancy')"
   ]
  },
  {
   "cell_type": "code",
   "execution_count": 2168,
   "id": "permanent-education",
   "metadata": {},
   "outputs": [
    {
     "data": {
      "application/vnd.plotly.v1+json": {
       "config": {
        "plotlyServerURL": "https://plot.ly"
       },
       "data": [
        {
         "hovertemplate": "Country or region=%{x}<br>Healthy life expectancy=%{y}<br>year=%{marker.color}<extra></extra>",
         "legendgroup": "",
         "marker": {
          "color": [
           2015,
           2015,
           2015,
           2015,
           2015,
           2015,
           2015,
           2015,
           2015,
           2015,
           2015,
           2015,
           2015,
           2015,
           2015,
           2015,
           2015,
           2015,
           2015,
           2015,
           2015,
           2015,
           2015,
           2015,
           2016,
           2016,
           2016,
           2016,
           2016,
           2016,
           2016,
           2016,
           2016,
           2016,
           2016,
           2016,
           2016,
           2016,
           2016,
           2016,
           2016,
           2016,
           2016,
           2016,
           2016,
           2016,
           2016,
           2016,
           2017,
           2017,
           2017,
           2017,
           2017,
           2017,
           2017,
           2017,
           2017,
           2017,
           2017,
           2017,
           2017,
           2017,
           2017,
           2017,
           2017,
           2017,
           2017,
           2017,
           2017,
           2017,
           2017,
           2017,
           2018,
           2018,
           2018,
           2018,
           2018,
           2018,
           2018,
           2018,
           2018,
           2018,
           2018,
           2018,
           2018,
           2018,
           2018,
           2018,
           2018,
           2018,
           2018,
           2018,
           2018,
           2018,
           2018,
           2018,
           2019,
           2019,
           2019,
           2019,
           2019,
           2019,
           2019,
           2019,
           2019,
           2019,
           2019,
           2019,
           2019,
           2019,
           2019,
           2019,
           2019,
           2019,
           2019,
           2019,
           2019,
           2019,
           2019,
           2019,
           2020,
           2020,
           2020,
           2020,
           2020,
           2020,
           2020,
           2020,
           2020,
           2020,
           2020,
           2020,
           2020,
           2020,
           2020,
           2020,
           2020,
           2020,
           2020,
           2020,
           2020,
           2020,
           2020,
           2020
          ],
          "coloraxis": "coloraxis",
          "symbol": "circle"
         },
         "mode": "markers",
         "name": "",
         "orientation": "v",
         "showlegend": false,
         "type": "scatter",
         "x": [
          "Switzerland",
          "Iceland",
          "Denmark",
          "Norway",
          "Canada",
          "Finland",
          "Netherlands",
          "Sweden",
          "New Zealand",
          "Austria",
          "United States",
          "Luxembourg",
          "South Korea",
          "Russia",
          "Zambia",
          "Zimbabwe",
          "India",
          "Haiti",
          "Botswana",
          "Malawi",
          "Yemen",
          "Tanzania",
          "Afghanistan",
          "Rwanda",
          "Denmark",
          "Switzerland",
          "Iceland",
          "Norway",
          "Finland",
          "Canada",
          "Netherlands",
          "New Zealand",
          "Sweden",
          "Austria",
          "United States",
          "Luxembourg",
          "Russia",
          "South Korea",
          "Zambia",
          "India",
          "Zimbabwe",
          "Malawi",
          "Haiti",
          "Botswana",
          "Yemen",
          "Tanzania",
          "Rwanda",
          "Afghanistan",
          "Norway",
          "Denmark",
          "Iceland",
          "Switzerland",
          "Finland",
          "Netherlands",
          "Canada",
          "New Zealand",
          "Sweden",
          "Austria",
          "United States",
          "Luxembourg",
          "Russia",
          "South Korea",
          "Zambia",
          "India",
          "Malawi",
          "Zimbabwe",
          "Afghanistan",
          "Botswana",
          "Haiti",
          "Yemen",
          "Rwanda",
          "Tanzania",
          "Finland",
          "Norway",
          "Denmark",
          "Iceland",
          "Switzerland",
          "Netherlands",
          "Canada",
          "New Zealand",
          "Sweden",
          "Austria",
          "Luxembourg",
          "United States",
          "South Korea",
          "Russia",
          "Zambia",
          "India",
          "Zimbabwe",
          "Afghanistan",
          "Botswana",
          "Malawi",
          "Haiti",
          "Rwanda",
          "Yemen",
          "Tanzania",
          "Finland",
          "Denmark",
          "Norway",
          "Iceland",
          "Netherlands",
          "Switzerland",
          "Sweden",
          "New Zealand",
          "Canada",
          "Austria",
          "Luxembourg",
          "United States",
          "South Korea",
          "Russia",
          "Zambia",
          "India",
          "Zimbabwe",
          "Haiti",
          "Botswana",
          "Malawi",
          "Yemen",
          "Rwanda",
          "Tanzania",
          "Afghanistan",
          "Finland",
          "Denmark",
          "Switzerland",
          "Iceland",
          "Norway",
          "Netherlands",
          "Sweden",
          "New Zealand",
          "Austria",
          "Luxembourg",
          "Canada",
          "United States",
          "South Korea",
          "Russia",
          "Zambia",
          "Haiti",
          "India",
          "Malawi",
          "Yemen",
          "Botswana",
          "Tanzania",
          "Rwanda",
          "Zimbabwe",
          "Afghanistan"
         ],
         "xaxis": "x",
         "y": [
          0.94143,
          0.94784,
          0.87464,
          0.88521,
          0.90563,
          0.88911,
          0.89284,
          0.91087,
          0.90837,
          0.89042,
          0.86179,
          0.91894,
          0.96538,
          0.66926,
          0.29924,
          0.33475,
          0.51529,
          0.38847,
          0.04776,
          0.22562,
          0.40064,
          0.38215,
          0.30335,
          0.42864,
          0.79504,
          0.86303,
          0.86733,
          0.79579,
          0.81091,
          0.8276,
          0.81231,
          0.83096,
          0.83121,
          0.80565,
          0.779,
          0.84542,
          0.58991,
          0.88645,
          0.23573,
          0.45091,
          0.1595,
          0.29364,
          0.27494,
          0.34752,
          0.31048,
          0.357,
          0.31865,
          0.17344,
          0.796666502952576,
          0.792565524578094,
          0.833552122116089,
          0.858131289482117,
          0.80915766954422,
          0.810696125030518,
          0.83455765247345,
          0.816759705543518,
          0.830875158309937,
          0.815328419208527,
          0.77428662776947,
          0.845089495182037,
          0.547349333763123,
          0.900214076042175,
          0.257835894823074,
          0.455427616834641,
          0.315089583396912,
          0.196763753890991,
          0.180746778845787,
          0.341755509376526,
          0.277321130037308,
          0.310080915689468,
          0.326424807310104,
          0.364509284496307,
          0.874,
          0.861,
          0.868,
          0.914,
          0.927,
          0.878,
          0.896,
          0.876,
          0.913,
          0.891,
          0.896,
          0.819,
          0.955,
          0.599,
          0.295,
          0.485,
          0.248,
          0.255,
          0.417,
          0.306,
          0.289,
          0.4,
          0.343,
          0.381,
          0.986,
          0.996,
          1.028,
          1.026,
          0.999,
          1.052,
          1.009,
          1.026,
          1.039,
          1.016,
          1.012,
          0.874,
          1.036,
          0.726,
          0.426,
          0.588,
          0.433,
          0.449,
          0.538,
          0.495,
          0.463,
          0.614,
          0.499,
          0.361,
          0.961271405,
          0.979332566,
          1.040533185,
          1.000843406,
          1.008071899,
          0.975675344,
          0.986470461,
          1.008138299,
          1.000933528,
          0.986442685,
          1.022501945,
          0.831618011,
          1.022542596,
          0.68044591,
          0.36359334,
          0.37436673,
          0.54057014,
          0.446163297,
          0.41500017,
          0.494101733,
          0.442677855,
          0.572383285,
          0.375037611,
          0.266051531
         ],
         "yaxis": "y"
        }
       ],
       "layout": {
        "coloraxis": {
         "colorbar": {
          "title": {
           "text": "year"
          }
         },
         "colorscale": [
          [
           0,
           "#0d0887"
          ],
          [
           0.1111111111111111,
           "#46039f"
          ],
          [
           0.2222222222222222,
           "#7201a8"
          ],
          [
           0.3333333333333333,
           "#9c179e"
          ],
          [
           0.4444444444444444,
           "#bd3786"
          ],
          [
           0.5555555555555556,
           "#d8576b"
          ],
          [
           0.6666666666666666,
           "#ed7953"
          ],
          [
           0.7777777777777778,
           "#fb9f3a"
          ],
          [
           0.8888888888888888,
           "#fdca26"
          ],
          [
           1,
           "#f0f921"
          ]
         ]
        },
        "legend": {
         "tracegroupgap": 0
        },
        "template": {
         "data": {
          "bar": [
           {
            "error_x": {
             "color": "#2a3f5f"
            },
            "error_y": {
             "color": "#2a3f5f"
            },
            "marker": {
             "line": {
              "color": "#E5ECF6",
              "width": 0.5
             }
            },
            "type": "bar"
           }
          ],
          "barpolar": [
           {
            "marker": {
             "line": {
              "color": "#E5ECF6",
              "width": 0.5
             }
            },
            "type": "barpolar"
           }
          ],
          "carpet": [
           {
            "aaxis": {
             "endlinecolor": "#2a3f5f",
             "gridcolor": "white",
             "linecolor": "white",
             "minorgridcolor": "white",
             "startlinecolor": "#2a3f5f"
            },
            "baxis": {
             "endlinecolor": "#2a3f5f",
             "gridcolor": "white",
             "linecolor": "white",
             "minorgridcolor": "white",
             "startlinecolor": "#2a3f5f"
            },
            "type": "carpet"
           }
          ],
          "choropleth": [
           {
            "colorbar": {
             "outlinewidth": 0,
             "ticks": ""
            },
            "type": "choropleth"
           }
          ],
          "contour": [
           {
            "colorbar": {
             "outlinewidth": 0,
             "ticks": ""
            },
            "colorscale": [
             [
              0,
              "#0d0887"
             ],
             [
              0.1111111111111111,
              "#46039f"
             ],
             [
              0.2222222222222222,
              "#7201a8"
             ],
             [
              0.3333333333333333,
              "#9c179e"
             ],
             [
              0.4444444444444444,
              "#bd3786"
             ],
             [
              0.5555555555555556,
              "#d8576b"
             ],
             [
              0.6666666666666666,
              "#ed7953"
             ],
             [
              0.7777777777777778,
              "#fb9f3a"
             ],
             [
              0.8888888888888888,
              "#fdca26"
             ],
             [
              1,
              "#f0f921"
             ]
            ],
            "type": "contour"
           }
          ],
          "contourcarpet": [
           {
            "colorbar": {
             "outlinewidth": 0,
             "ticks": ""
            },
            "type": "contourcarpet"
           }
          ],
          "heatmap": [
           {
            "colorbar": {
             "outlinewidth": 0,
             "ticks": ""
            },
            "colorscale": [
             [
              0,
              "#0d0887"
             ],
             [
              0.1111111111111111,
              "#46039f"
             ],
             [
              0.2222222222222222,
              "#7201a8"
             ],
             [
              0.3333333333333333,
              "#9c179e"
             ],
             [
              0.4444444444444444,
              "#bd3786"
             ],
             [
              0.5555555555555556,
              "#d8576b"
             ],
             [
              0.6666666666666666,
              "#ed7953"
             ],
             [
              0.7777777777777778,
              "#fb9f3a"
             ],
             [
              0.8888888888888888,
              "#fdca26"
             ],
             [
              1,
              "#f0f921"
             ]
            ],
            "type": "heatmap"
           }
          ],
          "heatmapgl": [
           {
            "colorbar": {
             "outlinewidth": 0,
             "ticks": ""
            },
            "colorscale": [
             [
              0,
              "#0d0887"
             ],
             [
              0.1111111111111111,
              "#46039f"
             ],
             [
              0.2222222222222222,
              "#7201a8"
             ],
             [
              0.3333333333333333,
              "#9c179e"
             ],
             [
              0.4444444444444444,
              "#bd3786"
             ],
             [
              0.5555555555555556,
              "#d8576b"
             ],
             [
              0.6666666666666666,
              "#ed7953"
             ],
             [
              0.7777777777777778,
              "#fb9f3a"
             ],
             [
              0.8888888888888888,
              "#fdca26"
             ],
             [
              1,
              "#f0f921"
             ]
            ],
            "type": "heatmapgl"
           }
          ],
          "histogram": [
           {
            "marker": {
             "colorbar": {
              "outlinewidth": 0,
              "ticks": ""
             }
            },
            "type": "histogram"
           }
          ],
          "histogram2d": [
           {
            "colorbar": {
             "outlinewidth": 0,
             "ticks": ""
            },
            "colorscale": [
             [
              0,
              "#0d0887"
             ],
             [
              0.1111111111111111,
              "#46039f"
             ],
             [
              0.2222222222222222,
              "#7201a8"
             ],
             [
              0.3333333333333333,
              "#9c179e"
             ],
             [
              0.4444444444444444,
              "#bd3786"
             ],
             [
              0.5555555555555556,
              "#d8576b"
             ],
             [
              0.6666666666666666,
              "#ed7953"
             ],
             [
              0.7777777777777778,
              "#fb9f3a"
             ],
             [
              0.8888888888888888,
              "#fdca26"
             ],
             [
              1,
              "#f0f921"
             ]
            ],
            "type": "histogram2d"
           }
          ],
          "histogram2dcontour": [
           {
            "colorbar": {
             "outlinewidth": 0,
             "ticks": ""
            },
            "colorscale": [
             [
              0,
              "#0d0887"
             ],
             [
              0.1111111111111111,
              "#46039f"
             ],
             [
              0.2222222222222222,
              "#7201a8"
             ],
             [
              0.3333333333333333,
              "#9c179e"
             ],
             [
              0.4444444444444444,
              "#bd3786"
             ],
             [
              0.5555555555555556,
              "#d8576b"
             ],
             [
              0.6666666666666666,
              "#ed7953"
             ],
             [
              0.7777777777777778,
              "#fb9f3a"
             ],
             [
              0.8888888888888888,
              "#fdca26"
             ],
             [
              1,
              "#f0f921"
             ]
            ],
            "type": "histogram2dcontour"
           }
          ],
          "mesh3d": [
           {
            "colorbar": {
             "outlinewidth": 0,
             "ticks": ""
            },
            "type": "mesh3d"
           }
          ],
          "parcoords": [
           {
            "line": {
             "colorbar": {
              "outlinewidth": 0,
              "ticks": ""
             }
            },
            "type": "parcoords"
           }
          ],
          "pie": [
           {
            "automargin": true,
            "type": "pie"
           }
          ],
          "scatter": [
           {
            "marker": {
             "colorbar": {
              "outlinewidth": 0,
              "ticks": ""
             }
            },
            "type": "scatter"
           }
          ],
          "scatter3d": [
           {
            "line": {
             "colorbar": {
              "outlinewidth": 0,
              "ticks": ""
             }
            },
            "marker": {
             "colorbar": {
              "outlinewidth": 0,
              "ticks": ""
             }
            },
            "type": "scatter3d"
           }
          ],
          "scattercarpet": [
           {
            "marker": {
             "colorbar": {
              "outlinewidth": 0,
              "ticks": ""
             }
            },
            "type": "scattercarpet"
           }
          ],
          "scattergeo": [
           {
            "marker": {
             "colorbar": {
              "outlinewidth": 0,
              "ticks": ""
             }
            },
            "type": "scattergeo"
           }
          ],
          "scattergl": [
           {
            "marker": {
             "colorbar": {
              "outlinewidth": 0,
              "ticks": ""
             }
            },
            "type": "scattergl"
           }
          ],
          "scattermapbox": [
           {
            "marker": {
             "colorbar": {
              "outlinewidth": 0,
              "ticks": ""
             }
            },
            "type": "scattermapbox"
           }
          ],
          "scatterpolar": [
           {
            "marker": {
             "colorbar": {
              "outlinewidth": 0,
              "ticks": ""
             }
            },
            "type": "scatterpolar"
           }
          ],
          "scatterpolargl": [
           {
            "marker": {
             "colorbar": {
              "outlinewidth": 0,
              "ticks": ""
             }
            },
            "type": "scatterpolargl"
           }
          ],
          "scatterternary": [
           {
            "marker": {
             "colorbar": {
              "outlinewidth": 0,
              "ticks": ""
             }
            },
            "type": "scatterternary"
           }
          ],
          "surface": [
           {
            "colorbar": {
             "outlinewidth": 0,
             "ticks": ""
            },
            "colorscale": [
             [
              0,
              "#0d0887"
             ],
             [
              0.1111111111111111,
              "#46039f"
             ],
             [
              0.2222222222222222,
              "#7201a8"
             ],
             [
              0.3333333333333333,
              "#9c179e"
             ],
             [
              0.4444444444444444,
              "#bd3786"
             ],
             [
              0.5555555555555556,
              "#d8576b"
             ],
             [
              0.6666666666666666,
              "#ed7953"
             ],
             [
              0.7777777777777778,
              "#fb9f3a"
             ],
             [
              0.8888888888888888,
              "#fdca26"
             ],
             [
              1,
              "#f0f921"
             ]
            ],
            "type": "surface"
           }
          ],
          "table": [
           {
            "cells": {
             "fill": {
              "color": "#EBF0F8"
             },
             "line": {
              "color": "white"
             }
            },
            "header": {
             "fill": {
              "color": "#C8D4E3"
             },
             "line": {
              "color": "white"
             }
            },
            "type": "table"
           }
          ]
         },
         "layout": {
          "annotationdefaults": {
           "arrowcolor": "#2a3f5f",
           "arrowhead": 0,
           "arrowwidth": 1
          },
          "autotypenumbers": "strict",
          "coloraxis": {
           "colorbar": {
            "outlinewidth": 0,
            "ticks": ""
           }
          },
          "colorscale": {
           "diverging": [
            [
             0,
             "#8e0152"
            ],
            [
             0.1,
             "#c51b7d"
            ],
            [
             0.2,
             "#de77ae"
            ],
            [
             0.3,
             "#f1b6da"
            ],
            [
             0.4,
             "#fde0ef"
            ],
            [
             0.5,
             "#f7f7f7"
            ],
            [
             0.6,
             "#e6f5d0"
            ],
            [
             0.7,
             "#b8e186"
            ],
            [
             0.8,
             "#7fbc41"
            ],
            [
             0.9,
             "#4d9221"
            ],
            [
             1,
             "#276419"
            ]
           ],
           "sequential": [
            [
             0,
             "#0d0887"
            ],
            [
             0.1111111111111111,
             "#46039f"
            ],
            [
             0.2222222222222222,
             "#7201a8"
            ],
            [
             0.3333333333333333,
             "#9c179e"
            ],
            [
             0.4444444444444444,
             "#bd3786"
            ],
            [
             0.5555555555555556,
             "#d8576b"
            ],
            [
             0.6666666666666666,
             "#ed7953"
            ],
            [
             0.7777777777777778,
             "#fb9f3a"
            ],
            [
             0.8888888888888888,
             "#fdca26"
            ],
            [
             1,
             "#f0f921"
            ]
           ],
           "sequentialminus": [
            [
             0,
             "#0d0887"
            ],
            [
             0.1111111111111111,
             "#46039f"
            ],
            [
             0.2222222222222222,
             "#7201a8"
            ],
            [
             0.3333333333333333,
             "#9c179e"
            ],
            [
             0.4444444444444444,
             "#bd3786"
            ],
            [
             0.5555555555555556,
             "#d8576b"
            ],
            [
             0.6666666666666666,
             "#ed7953"
            ],
            [
             0.7777777777777778,
             "#fb9f3a"
            ],
            [
             0.8888888888888888,
             "#fdca26"
            ],
            [
             1,
             "#f0f921"
            ]
           ]
          },
          "colorway": [
           "#636efa",
           "#EF553B",
           "#00cc96",
           "#ab63fa",
           "#FFA15A",
           "#19d3f3",
           "#FF6692",
           "#B6E880",
           "#FF97FF",
           "#FECB52"
          ],
          "font": {
           "color": "#2a3f5f"
          },
          "geo": {
           "bgcolor": "white",
           "lakecolor": "white",
           "landcolor": "#E5ECF6",
           "showlakes": true,
           "showland": true,
           "subunitcolor": "white"
          },
          "hoverlabel": {
           "align": "left"
          },
          "hovermode": "closest",
          "mapbox": {
           "style": "light"
          },
          "paper_bgcolor": "white",
          "plot_bgcolor": "#E5ECF6",
          "polar": {
           "angularaxis": {
            "gridcolor": "white",
            "linecolor": "white",
            "ticks": ""
           },
           "bgcolor": "#E5ECF6",
           "radialaxis": {
            "gridcolor": "white",
            "linecolor": "white",
            "ticks": ""
           }
          },
          "scene": {
           "xaxis": {
            "backgroundcolor": "#E5ECF6",
            "gridcolor": "white",
            "gridwidth": 2,
            "linecolor": "white",
            "showbackground": true,
            "ticks": "",
            "zerolinecolor": "white"
           },
           "yaxis": {
            "backgroundcolor": "#E5ECF6",
            "gridcolor": "white",
            "gridwidth": 2,
            "linecolor": "white",
            "showbackground": true,
            "ticks": "",
            "zerolinecolor": "white"
           },
           "zaxis": {
            "backgroundcolor": "#E5ECF6",
            "gridcolor": "white",
            "gridwidth": 2,
            "linecolor": "white",
            "showbackground": true,
            "ticks": "",
            "zerolinecolor": "white"
           }
          },
          "shapedefaults": {
           "line": {
            "color": "#2a3f5f"
           }
          },
          "ternary": {
           "aaxis": {
            "gridcolor": "white",
            "linecolor": "white",
            "ticks": ""
           },
           "baxis": {
            "gridcolor": "white",
            "linecolor": "white",
            "ticks": ""
           },
           "bgcolor": "#E5ECF6",
           "caxis": {
            "gridcolor": "white",
            "linecolor": "white",
            "ticks": ""
           }
          },
          "title": {
           "x": 0.05
          },
          "xaxis": {
           "automargin": true,
           "gridcolor": "white",
           "linecolor": "white",
           "ticks": "",
           "title": {
            "standoff": 15
           },
           "zerolinecolor": "white",
           "zerolinewidth": 2
          },
          "yaxis": {
           "automargin": true,
           "gridcolor": "white",
           "linecolor": "white",
           "ticks": "",
           "title": {
            "standoff": 15
           },
           "zerolinecolor": "white",
           "zerolinewidth": 2
          }
         }
        },
        "title": {
         "text": "Healthy life expectancy by year"
        },
        "xaxis": {
         "anchor": "y",
         "domain": [
          0,
          1
         ],
         "title": {
          "text": "Country or region"
         }
        },
        "yaxis": {
         "anchor": "x",
         "domain": [
          0,
          1
         ],
         "title": {
          "text": "Healthy life expectancy"
         }
        }
       }
      },
      "text/html": [
       "<div>                            <div id=\"1d6d68e7-31cb-4a08-86f0-98608bfa0c44\" class=\"plotly-graph-div\" style=\"height:525px; width:100%;\"></div>            <script type=\"text/javascript\">                require([\"plotly\"], function(Plotly) {                    window.PLOTLYENV=window.PLOTLYENV || {};                                    if (document.getElementById(\"1d6d68e7-31cb-4a08-86f0-98608bfa0c44\")) {                    Plotly.newPlot(                        \"1d6d68e7-31cb-4a08-86f0-98608bfa0c44\",                        [{\"hovertemplate\": \"Country or region=%{x}<br>Healthy life expectancy=%{y}<br>year=%{marker.color}<extra></extra>\", \"legendgroup\": \"\", \"marker\": {\"color\": [2015, 2015, 2015, 2015, 2015, 2015, 2015, 2015, 2015, 2015, 2015, 2015, 2015, 2015, 2015, 2015, 2015, 2015, 2015, 2015, 2015, 2015, 2015, 2015, 2016, 2016, 2016, 2016, 2016, 2016, 2016, 2016, 2016, 2016, 2016, 2016, 2016, 2016, 2016, 2016, 2016, 2016, 2016, 2016, 2016, 2016, 2016, 2016, 2017, 2017, 2017, 2017, 2017, 2017, 2017, 2017, 2017, 2017, 2017, 2017, 2017, 2017, 2017, 2017, 2017, 2017, 2017, 2017, 2017, 2017, 2017, 2017, 2018, 2018, 2018, 2018, 2018, 2018, 2018, 2018, 2018, 2018, 2018, 2018, 2018, 2018, 2018, 2018, 2018, 2018, 2018, 2018, 2018, 2018, 2018, 2018, 2019, 2019, 2019, 2019, 2019, 2019, 2019, 2019, 2019, 2019, 2019, 2019, 2019, 2019, 2019, 2019, 2019, 2019, 2019, 2019, 2019, 2019, 2019, 2019, 2020, 2020, 2020, 2020, 2020, 2020, 2020, 2020, 2020, 2020, 2020, 2020, 2020, 2020, 2020, 2020, 2020, 2020, 2020, 2020, 2020, 2020, 2020, 2020], \"coloraxis\": \"coloraxis\", \"symbol\": \"circle\"}, \"mode\": \"markers\", \"name\": \"\", \"orientation\": \"v\", \"showlegend\": false, \"type\": \"scatter\", \"x\": [\"Switzerland\", \"Iceland\", \"Denmark\", \"Norway\", \"Canada\", \"Finland\", \"Netherlands\", \"Sweden\", \"New Zealand\", \"Austria\", \"United States\", \"Luxembourg\", \"South Korea\", \"Russia\", \"Zambia\", \"Zimbabwe\", \"India\", \"Haiti\", \"Botswana\", \"Malawi\", \"Yemen\", \"Tanzania\", \"Afghanistan\", \"Rwanda\", \"Denmark\", \"Switzerland\", \"Iceland\", \"Norway\", \"Finland\", \"Canada\", \"Netherlands\", \"New Zealand\", \"Sweden\", \"Austria\", \"United States\", \"Luxembourg\", \"Russia\", \"South Korea\", \"Zambia\", \"India\", \"Zimbabwe\", \"Malawi\", \"Haiti\", \"Botswana\", \"Yemen\", \"Tanzania\", \"Rwanda\", \"Afghanistan\", \"Norway\", \"Denmark\", \"Iceland\", \"Switzerland\", \"Finland\", \"Netherlands\", \"Canada\", \"New Zealand\", \"Sweden\", \"Austria\", \"United States\", \"Luxembourg\", \"Russia\", \"South Korea\", \"Zambia\", \"India\", \"Malawi\", \"Zimbabwe\", \"Afghanistan\", \"Botswana\", \"Haiti\", \"Yemen\", \"Rwanda\", \"Tanzania\", \"Finland\", \"Norway\", \"Denmark\", \"Iceland\", \"Switzerland\", \"Netherlands\", \"Canada\", \"New Zealand\", \"Sweden\", \"Austria\", \"Luxembourg\", \"United States\", \"South Korea\", \"Russia\", \"Zambia\", \"India\", \"Zimbabwe\", \"Afghanistan\", \"Botswana\", \"Malawi\", \"Haiti\", \"Rwanda\", \"Yemen\", \"Tanzania\", \"Finland\", \"Denmark\", \"Norway\", \"Iceland\", \"Netherlands\", \"Switzerland\", \"Sweden\", \"New Zealand\", \"Canada\", \"Austria\", \"Luxembourg\", \"United States\", \"South Korea\", \"Russia\", \"Zambia\", \"India\", \"Zimbabwe\", \"Haiti\", \"Botswana\", \"Malawi\", \"Yemen\", \"Rwanda\", \"Tanzania\", \"Afghanistan\", \"Finland\", \"Denmark\", \"Switzerland\", \"Iceland\", \"Norway\", \"Netherlands\", \"Sweden\", \"New Zealand\", \"Austria\", \"Luxembourg\", \"Canada\", \"United States\", \"South Korea\", \"Russia\", \"Zambia\", \"Haiti\", \"India\", \"Malawi\", \"Yemen\", \"Botswana\", \"Tanzania\", \"Rwanda\", \"Zimbabwe\", \"Afghanistan\"], \"xaxis\": \"x\", \"y\": [0.94143, 0.94784, 0.87464, 0.88521, 0.90563, 0.88911, 0.89284, 0.91087, 0.90837, 0.89042, 0.86179, 0.91894, 0.96538, 0.66926, 0.29924, 0.33475, 0.51529, 0.38847, 0.04776, 0.22562, 0.40064, 0.38215, 0.30335, 0.42864, 0.79504, 0.86303, 0.86733, 0.79579, 0.81091, 0.8276, 0.81231, 0.83096, 0.83121, 0.80565, 0.779, 0.84542, 0.58991, 0.88645, 0.23573, 0.45091, 0.1595, 0.29364, 0.27494, 0.34752, 0.31048, 0.357, 0.31865, 0.17344, 0.796666502952576, 0.792565524578094, 0.833552122116089, 0.858131289482117, 0.80915766954422, 0.810696125030518, 0.83455765247345, 0.816759705543518, 0.830875158309937, 0.815328419208527, 0.77428662776947, 0.845089495182037, 0.547349333763123, 0.900214076042175, 0.257835894823074, 0.455427616834641, 0.315089583396912, 0.196763753890991, 0.180746778845787, 0.341755509376526, 0.277321130037308, 0.310080915689468, 0.326424807310104, 0.364509284496307, 0.874, 0.861, 0.868, 0.914, 0.927, 0.878, 0.896, 0.876, 0.913, 0.891, 0.896, 0.819, 0.955, 0.599, 0.295, 0.485, 0.248, 0.255, 0.417, 0.306, 0.289, 0.4, 0.343, 0.381, 0.986, 0.996, 1.028, 1.026, 0.999, 1.052, 1.009, 1.026, 1.039, 1.016, 1.012, 0.874, 1.036, 0.726, 0.426, 0.588, 0.433, 0.449, 0.538, 0.495, 0.463, 0.614, 0.499, 0.361, 0.961271405, 0.979332566, 1.040533185, 1.000843406, 1.008071899, 0.975675344, 0.986470461, 1.008138299, 1.000933528, 0.986442685, 1.022501945, 0.831618011, 1.022542596, 0.68044591, 0.36359334, 0.37436673, 0.54057014, 0.446163297, 0.41500017, 0.494101733, 0.442677855, 0.572383285, 0.375037611, 0.266051531], \"yaxis\": \"y\"}],                        {\"coloraxis\": {\"colorbar\": {\"title\": {\"text\": \"year\"}}, \"colorscale\": [[0.0, \"#0d0887\"], [0.1111111111111111, \"#46039f\"], [0.2222222222222222, \"#7201a8\"], [0.3333333333333333, \"#9c179e\"], [0.4444444444444444, \"#bd3786\"], [0.5555555555555556, \"#d8576b\"], [0.6666666666666666, \"#ed7953\"], [0.7777777777777778, \"#fb9f3a\"], [0.8888888888888888, \"#fdca26\"], [1.0, \"#f0f921\"]]}, \"legend\": {\"tracegroupgap\": 0}, \"template\": {\"data\": {\"bar\": [{\"error_x\": {\"color\": \"#2a3f5f\"}, \"error_y\": {\"color\": \"#2a3f5f\"}, \"marker\": {\"line\": {\"color\": \"#E5ECF6\", \"width\": 0.5}}, \"type\": \"bar\"}], \"barpolar\": [{\"marker\": {\"line\": {\"color\": \"#E5ECF6\", \"width\": 0.5}}, \"type\": \"barpolar\"}], \"carpet\": [{\"aaxis\": {\"endlinecolor\": \"#2a3f5f\", \"gridcolor\": \"white\", \"linecolor\": \"white\", \"minorgridcolor\": \"white\", \"startlinecolor\": \"#2a3f5f\"}, \"baxis\": {\"endlinecolor\": \"#2a3f5f\", \"gridcolor\": \"white\", \"linecolor\": \"white\", \"minorgridcolor\": \"white\", \"startlinecolor\": \"#2a3f5f\"}, \"type\": \"carpet\"}], \"choropleth\": [{\"colorbar\": {\"outlinewidth\": 0, \"ticks\": \"\"}, \"type\": \"choropleth\"}], \"contour\": [{\"colorbar\": {\"outlinewidth\": 0, \"ticks\": \"\"}, \"colorscale\": [[0.0, \"#0d0887\"], [0.1111111111111111, \"#46039f\"], [0.2222222222222222, \"#7201a8\"], [0.3333333333333333, \"#9c179e\"], [0.4444444444444444, \"#bd3786\"], [0.5555555555555556, \"#d8576b\"], [0.6666666666666666, \"#ed7953\"], [0.7777777777777778, \"#fb9f3a\"], [0.8888888888888888, \"#fdca26\"], [1.0, \"#f0f921\"]], \"type\": \"contour\"}], \"contourcarpet\": [{\"colorbar\": {\"outlinewidth\": 0, \"ticks\": \"\"}, \"type\": \"contourcarpet\"}], \"heatmap\": [{\"colorbar\": {\"outlinewidth\": 0, \"ticks\": \"\"}, \"colorscale\": [[0.0, \"#0d0887\"], [0.1111111111111111, \"#46039f\"], [0.2222222222222222, \"#7201a8\"], [0.3333333333333333, \"#9c179e\"], [0.4444444444444444, \"#bd3786\"], [0.5555555555555556, \"#d8576b\"], [0.6666666666666666, \"#ed7953\"], [0.7777777777777778, \"#fb9f3a\"], [0.8888888888888888, \"#fdca26\"], [1.0, \"#f0f921\"]], \"type\": \"heatmap\"}], \"heatmapgl\": [{\"colorbar\": {\"outlinewidth\": 0, \"ticks\": \"\"}, \"colorscale\": [[0.0, \"#0d0887\"], [0.1111111111111111, \"#46039f\"], [0.2222222222222222, \"#7201a8\"], [0.3333333333333333, \"#9c179e\"], [0.4444444444444444, \"#bd3786\"], [0.5555555555555556, \"#d8576b\"], [0.6666666666666666, \"#ed7953\"], [0.7777777777777778, \"#fb9f3a\"], [0.8888888888888888, \"#fdca26\"], [1.0, \"#f0f921\"]], \"type\": \"heatmapgl\"}], \"histogram\": [{\"marker\": {\"colorbar\": {\"outlinewidth\": 0, \"ticks\": \"\"}}, \"type\": \"histogram\"}], \"histogram2d\": [{\"colorbar\": {\"outlinewidth\": 0, \"ticks\": \"\"}, \"colorscale\": [[0.0, \"#0d0887\"], [0.1111111111111111, \"#46039f\"], [0.2222222222222222, \"#7201a8\"], [0.3333333333333333, \"#9c179e\"], [0.4444444444444444, \"#bd3786\"], [0.5555555555555556, \"#d8576b\"], [0.6666666666666666, \"#ed7953\"], [0.7777777777777778, \"#fb9f3a\"], [0.8888888888888888, \"#fdca26\"], [1.0, \"#f0f921\"]], \"type\": \"histogram2d\"}], \"histogram2dcontour\": [{\"colorbar\": {\"outlinewidth\": 0, \"ticks\": \"\"}, \"colorscale\": [[0.0, \"#0d0887\"], [0.1111111111111111, \"#46039f\"], [0.2222222222222222, \"#7201a8\"], [0.3333333333333333, \"#9c179e\"], [0.4444444444444444, \"#bd3786\"], [0.5555555555555556, \"#d8576b\"], [0.6666666666666666, \"#ed7953\"], [0.7777777777777778, \"#fb9f3a\"], [0.8888888888888888, \"#fdca26\"], [1.0, \"#f0f921\"]], \"type\": \"histogram2dcontour\"}], \"mesh3d\": [{\"colorbar\": {\"outlinewidth\": 0, \"ticks\": \"\"}, \"type\": \"mesh3d\"}], \"parcoords\": [{\"line\": {\"colorbar\": {\"outlinewidth\": 0, \"ticks\": \"\"}}, \"type\": \"parcoords\"}], \"pie\": [{\"automargin\": true, \"type\": \"pie\"}], \"scatter\": [{\"marker\": {\"colorbar\": {\"outlinewidth\": 0, \"ticks\": \"\"}}, \"type\": \"scatter\"}], \"scatter3d\": [{\"line\": {\"colorbar\": {\"outlinewidth\": 0, \"ticks\": \"\"}}, \"marker\": {\"colorbar\": {\"outlinewidth\": 0, \"ticks\": \"\"}}, \"type\": \"scatter3d\"}], \"scattercarpet\": [{\"marker\": {\"colorbar\": {\"outlinewidth\": 0, \"ticks\": \"\"}}, \"type\": \"scattercarpet\"}], \"scattergeo\": [{\"marker\": {\"colorbar\": {\"outlinewidth\": 0, \"ticks\": \"\"}}, \"type\": \"scattergeo\"}], \"scattergl\": [{\"marker\": {\"colorbar\": {\"outlinewidth\": 0, \"ticks\": \"\"}}, \"type\": \"scattergl\"}], \"scattermapbox\": [{\"marker\": {\"colorbar\": {\"outlinewidth\": 0, \"ticks\": \"\"}}, \"type\": \"scattermapbox\"}], \"scatterpolar\": [{\"marker\": {\"colorbar\": {\"outlinewidth\": 0, \"ticks\": \"\"}}, \"type\": \"scatterpolar\"}], \"scatterpolargl\": [{\"marker\": {\"colorbar\": {\"outlinewidth\": 0, \"ticks\": \"\"}}, \"type\": \"scatterpolargl\"}], \"scatterternary\": [{\"marker\": {\"colorbar\": {\"outlinewidth\": 0, \"ticks\": \"\"}}, \"type\": \"scatterternary\"}], \"surface\": [{\"colorbar\": {\"outlinewidth\": 0, \"ticks\": \"\"}, \"colorscale\": [[0.0, \"#0d0887\"], [0.1111111111111111, \"#46039f\"], [0.2222222222222222, \"#7201a8\"], [0.3333333333333333, \"#9c179e\"], [0.4444444444444444, \"#bd3786\"], [0.5555555555555556, \"#d8576b\"], [0.6666666666666666, \"#ed7953\"], [0.7777777777777778, \"#fb9f3a\"], [0.8888888888888888, \"#fdca26\"], [1.0, \"#f0f921\"]], \"type\": \"surface\"}], \"table\": [{\"cells\": {\"fill\": {\"color\": \"#EBF0F8\"}, \"line\": {\"color\": \"white\"}}, \"header\": {\"fill\": {\"color\": \"#C8D4E3\"}, \"line\": {\"color\": \"white\"}}, \"type\": \"table\"}]}, \"layout\": {\"annotationdefaults\": {\"arrowcolor\": \"#2a3f5f\", \"arrowhead\": 0, \"arrowwidth\": 1}, \"autotypenumbers\": \"strict\", \"coloraxis\": {\"colorbar\": {\"outlinewidth\": 0, \"ticks\": \"\"}}, \"colorscale\": {\"diverging\": [[0, \"#8e0152\"], [0.1, \"#c51b7d\"], [0.2, \"#de77ae\"], [0.3, \"#f1b6da\"], [0.4, \"#fde0ef\"], [0.5, \"#f7f7f7\"], [0.6, \"#e6f5d0\"], [0.7, \"#b8e186\"], [0.8, \"#7fbc41\"], [0.9, \"#4d9221\"], [1, \"#276419\"]], \"sequential\": [[0.0, \"#0d0887\"], [0.1111111111111111, \"#46039f\"], [0.2222222222222222, \"#7201a8\"], [0.3333333333333333, \"#9c179e\"], [0.4444444444444444, \"#bd3786\"], [0.5555555555555556, \"#d8576b\"], [0.6666666666666666, \"#ed7953\"], [0.7777777777777778, \"#fb9f3a\"], [0.8888888888888888, \"#fdca26\"], [1.0, \"#f0f921\"]], \"sequentialminus\": [[0.0, \"#0d0887\"], [0.1111111111111111, \"#46039f\"], [0.2222222222222222, \"#7201a8\"], [0.3333333333333333, \"#9c179e\"], [0.4444444444444444, \"#bd3786\"], [0.5555555555555556, \"#d8576b\"], [0.6666666666666666, \"#ed7953\"], [0.7777777777777778, \"#fb9f3a\"], [0.8888888888888888, \"#fdca26\"], [1.0, \"#f0f921\"]]}, \"colorway\": [\"#636efa\", \"#EF553B\", \"#00cc96\", \"#ab63fa\", \"#FFA15A\", \"#19d3f3\", \"#FF6692\", \"#B6E880\", \"#FF97FF\", \"#FECB52\"], \"font\": {\"color\": \"#2a3f5f\"}, \"geo\": {\"bgcolor\": \"white\", \"lakecolor\": \"white\", \"landcolor\": \"#E5ECF6\", \"showlakes\": true, \"showland\": true, \"subunitcolor\": \"white\"}, \"hoverlabel\": {\"align\": \"left\"}, \"hovermode\": \"closest\", \"mapbox\": {\"style\": \"light\"}, \"paper_bgcolor\": \"white\", \"plot_bgcolor\": \"#E5ECF6\", \"polar\": {\"angularaxis\": {\"gridcolor\": \"white\", \"linecolor\": \"white\", \"ticks\": \"\"}, \"bgcolor\": \"#E5ECF6\", \"radialaxis\": {\"gridcolor\": \"white\", \"linecolor\": \"white\", \"ticks\": \"\"}}, \"scene\": {\"xaxis\": {\"backgroundcolor\": \"#E5ECF6\", \"gridcolor\": \"white\", \"gridwidth\": 2, \"linecolor\": \"white\", \"showbackground\": true, \"ticks\": \"\", \"zerolinecolor\": \"white\"}, \"yaxis\": {\"backgroundcolor\": \"#E5ECF6\", \"gridcolor\": \"white\", \"gridwidth\": 2, \"linecolor\": \"white\", \"showbackground\": true, \"ticks\": \"\", \"zerolinecolor\": \"white\"}, \"zaxis\": {\"backgroundcolor\": \"#E5ECF6\", \"gridcolor\": \"white\", \"gridwidth\": 2, \"linecolor\": \"white\", \"showbackground\": true, \"ticks\": \"\", \"zerolinecolor\": \"white\"}}, \"shapedefaults\": {\"line\": {\"color\": \"#2a3f5f\"}}, \"ternary\": {\"aaxis\": {\"gridcolor\": \"white\", \"linecolor\": \"white\", \"ticks\": \"\"}, \"baxis\": {\"gridcolor\": \"white\", \"linecolor\": \"white\", \"ticks\": \"\"}, \"bgcolor\": \"#E5ECF6\", \"caxis\": {\"gridcolor\": \"white\", \"linecolor\": \"white\", \"ticks\": \"\"}}, \"title\": {\"x\": 0.05}, \"xaxis\": {\"automargin\": true, \"gridcolor\": \"white\", \"linecolor\": \"white\", \"ticks\": \"\", \"title\": {\"standoff\": 15}, \"zerolinecolor\": \"white\", \"zerolinewidth\": 2}, \"yaxis\": {\"automargin\": true, \"gridcolor\": \"white\", \"linecolor\": \"white\", \"ticks\": \"\", \"title\": {\"standoff\": 15}, \"zerolinecolor\": \"white\", \"zerolinewidth\": 2}}}, \"title\": {\"text\": \"Healthy life expectancy by year\"}, \"xaxis\": {\"anchor\": \"y\", \"domain\": [0.0, 1.0], \"title\": {\"text\": \"Country or region\"}}, \"yaxis\": {\"anchor\": \"x\", \"domain\": [0.0, 1.0], \"title\": {\"text\": \"Healthy life expectancy\"}}},                        {\"responsive\": true}                    ).then(function(){\n",
       "                            \n",
       "var gd = document.getElementById('1d6d68e7-31cb-4a08-86f0-98608bfa0c44');\n",
       "var x = new MutationObserver(function (mutations, observer) {{\n",
       "        var display = window.getComputedStyle(gd).display;\n",
       "        if (!display || display === 'none') {{\n",
       "            console.log([gd, 'removed!']);\n",
       "            Plotly.purge(gd);\n",
       "            observer.disconnect();\n",
       "        }}\n",
       "}});\n",
       "\n",
       "// Listen for the removal of the full notebook cells\n",
       "var notebookContainer = gd.closest('#notebook-container');\n",
       "if (notebookContainer) {{\n",
       "    x.observe(notebookContainer, {childList: true});\n",
       "}}\n",
       "\n",
       "// Listen for the clearing of the current output cell\n",
       "var outputEl = gd.closest('.output');\n",
       "if (outputEl) {{\n",
       "    x.observe(outputEl, {childList: true});\n",
       "}}\n",
       "\n",
       "                        })                };                });            </script>        </div>"
      ]
     },
     "metadata": {},
     "output_type": "display_data"
    }
   ],
   "source": [
    "plot_scatter('Healthy life expectancy')"
   ]
  },
  {
   "cell_type": "code",
   "execution_count": 2169,
   "id": "invalid-spare",
   "metadata": {},
   "outputs": [],
   "source": [
    "train_y = df_all['Healthy life expectancy'].to_numpy()\n",
    "train_x = df_all.drop(columns=['Healthy life expectancy']).iloc[:, 4:]\n",
    "test_y = df2019['Healthy life expectancy'].to_numpy()\n",
    "test_x = df2019.drop(columns=['Healthy life expectancy']).iloc[:, 4:]\n",
    "scaler = StandardScaler()\n",
    "train_x = scaler.fit_transform(train_x)\n",
    "test_x = scaler.transform(test_x)"
   ]
  },
  {
   "cell_type": "code",
   "execution_count": 2170,
   "id": "realistic-surrey",
   "metadata": {},
   "outputs": [],
   "source": [
    "lr = LinearRegression()\n",
    "lr.fit(train_x, train_y)\n",
    "hyp_hle = lr.predict(test_x)"
   ]
  },
  {
   "cell_type": "code",
   "execution_count": 2171,
   "id": "cellular-seller",
   "metadata": {},
   "outputs": [
    {
     "name": "stdout",
     "output_type": "stream",
     "text": [
      "R2 score...          \t -2.5011035184523263e+24\n",
      "Variance explained...\t -2.4829795799129963e+24\n",
      "Mean squared error...\t 1.200986471208112e+23\n"
     ]
    }
   ],
   "source": [
    "r2 = r2_score(test_y, hyp_hle)\n",
    "var = explained_variance_score(test_y, hyp_hle)\n",
    "mse = mean_squared_error(test_y, hyp_hle)\n",
    "print('R2 score...          \\t', r2)\n",
    "print('Variance explained...\\t', var)\n",
    "print('Mean squared error...\\t', mse)"
   ]
  },
  {
   "cell_type": "markdown",
   "id": "alone-string",
   "metadata": {},
   "source": [
    "### Social support"
   ]
  },
  {
   "cell_type": "code",
   "execution_count": 2172,
   "id": "fabulous-hormone",
   "metadata": {},
   "outputs": [
    {
     "data": {
      "application/vnd.plotly.v1+json": {
       "config": {
        "plotlyServerURL": "https://plot.ly"
       },
       "data": [
        {
         "hovertemplate": "Country or region=Switzerland<br>year=%{x}<br>Social support=%{y}<extra></extra>",
         "legendgroup": "Switzerland",
         "line": {
          "color": "#636efa",
          "dash": "solid"
         },
         "mode": "lines",
         "name": "Switzerland",
         "orientation": "v",
         "showlegend": true,
         "type": "scatter",
         "x": [
          2015,
          2016,
          2017,
          2018,
          2019,
          2020
         ],
         "xaxis": "x",
         "y": [
          1.34951,
          1.14524,
          1.51691174507141,
          1.549,
          1.526,
          1.472403407
         ],
         "yaxis": "y"
        },
        {
         "hovertemplate": "Country or region=Iceland<br>year=%{x}<br>Social support=%{y}<extra></extra>",
         "legendgroup": "Iceland",
         "line": {
          "color": "#EF553B",
          "dash": "solid"
         },
         "mode": "lines",
         "name": "Iceland",
         "orientation": "v",
         "showlegend": true,
         "type": "scatter",
         "x": [
          2015,
          2016,
          2017,
          2018,
          2019,
          2020
         ],
         "xaxis": "x",
         "y": [
          1.40223,
          1.18326,
          1.6105740070343,
          1.644,
          1.624,
          1.547567487
         ],
         "yaxis": "y"
        },
        {
         "hovertemplate": "Country or region=Denmark<br>year=%{x}<br>Social support=%{y}<extra></extra>",
         "legendgroup": "Denmark",
         "line": {
          "color": "#00cc96",
          "dash": "solid"
         },
         "mode": "lines",
         "name": "Denmark",
         "orientation": "v",
         "showlegend": true,
         "type": "scatter",
         "x": [
          2015,
          2016,
          2017,
          2018,
          2019,
          2020
         ],
         "xaxis": "x",
         "y": [
          1.36058,
          1.16374,
          1.55112159252167,
          1.59,
          1.573,
          1.503449202
         ],
         "yaxis": "y"
        },
        {
         "hovertemplate": "Country or region=Norway<br>year=%{x}<br>Social support=%{y}<extra></extra>",
         "legendgroup": "Norway",
         "line": {
          "color": "#ab63fa",
          "dash": "solid"
         },
         "mode": "lines",
         "name": "Norway",
         "orientation": "v",
         "showlegend": true,
         "type": "scatter",
         "x": [
          2015,
          2016,
          2017,
          2018,
          2019,
          2020
         ],
         "xaxis": "x",
         "y": [
          1.33095,
          1.1269,
          1.53352355957031,
          1.582,
          1.582,
          1.495172501
         ],
         "yaxis": "y"
        },
        {
         "hovertemplate": "Country or region=Canada<br>year=%{x}<br>Social support=%{y}<extra></extra>",
         "legendgroup": "Canada",
         "line": {
          "color": "#FFA15A",
          "dash": "solid"
         },
         "mode": "lines",
         "name": "Canada",
         "orientation": "v",
         "showlegend": true,
         "type": "scatter",
         "x": [
          2015,
          2016,
          2017,
          2018,
          2019,
          2020
         ],
         "xaxis": "x",
         "y": [
          1.32261,
          1.0961,
          1.48134899139404,
          1.532,
          1.505,
          1.435391903
         ],
         "yaxis": "y"
        },
        {
         "hovertemplate": "Country or region=Finland<br>year=%{x}<br>Social support=%{y}<extra></extra>",
         "legendgroup": "Finland",
         "line": {
          "color": "#19d3f3",
          "dash": "solid"
         },
         "mode": "lines",
         "name": "Finland",
         "orientation": "v",
         "showlegend": true,
         "type": "scatter",
         "x": [
          2015,
          2016,
          2017,
          2018,
          2019,
          2020
         ],
         "xaxis": "x",
         "y": [
          1.31826,
          1.13464,
          1.5402467250824,
          1.592,
          1.587,
          1.499525905
         ],
         "yaxis": "y"
        },
        {
         "hovertemplate": "Country or region=Netherlands<br>year=%{x}<br>Social support=%{y}<extra></extra>",
         "legendgroup": "Netherlands",
         "line": {
          "color": "#FF6692",
          "dash": "solid"
         },
         "mode": "lines",
         "name": "Netherlands",
         "orientation": "v",
         "showlegend": true,
         "type": "scatter",
         "x": [
          2015,
          2016,
          2017,
          2018,
          2019,
          2020
         ],
         "xaxis": "x",
         "y": [
          1.28017,
          1.02912,
          1.42893922328949,
          1.488,
          1.522,
          1.463645935
         ],
         "yaxis": "y"
        },
        {
         "hovertemplate": "Country or region=Sweden<br>year=%{x}<br>Social support=%{y}<extra></extra>",
         "legendgroup": "Sweden",
         "line": {
          "color": "#B6E880",
          "dash": "solid"
         },
         "mode": "lines",
         "name": "Sweden",
         "orientation": "v",
         "showlegend": true,
         "type": "scatter",
         "x": [
          2015,
          2016,
          2017,
          2018,
          2019,
          2020
         ],
         "xaxis": "x",
         "y": [
          1.28907,
          1.08764,
          1.47816216945648,
          1.501,
          1.487,
          1.433347702
         ],
         "yaxis": "y"
        },
        {
         "hovertemplate": "Country or region=New Zealand<br>year=%{x}<br>Social support=%{y}<extra></extra>",
         "legendgroup": "New Zealand",
         "line": {
          "color": "#FF97FF",
          "dash": "solid"
         },
         "mode": "lines",
         "name": "New Zealand",
         "orientation": "v",
         "showlegend": true,
         "type": "scatter",
         "x": [
          2015,
          2016,
          2017,
          2018,
          2019,
          2020
         ],
         "xaxis": "x",
         "y": [
          1.31967,
          1.17278,
          1.54819512367249,
          1.601,
          1.557,
          1.48721838
         ],
         "yaxis": "y"
        },
        {
         "hovertemplate": "Country or region=Austria<br>year=%{x}<br>Social support=%{y}<extra></extra>",
         "legendgroup": "Austria",
         "line": {
          "color": "#FECB52",
          "dash": "solid"
         },
         "mode": "lines",
         "name": "Austria",
         "orientation": "v",
         "showlegend": true,
         "type": "scatter",
         "x": [
          2015,
          2016,
          2017,
          2018,
          2019,
          2020
         ],
         "xaxis": "x",
         "y": [
          1.29704,
          1.08383,
          1.4599449634552,
          1.504,
          1.475,
          1.437444925
         ],
         "yaxis": "y"
        },
        {
         "hovertemplate": "Country or region=United States<br>year=%{x}<br>Social support=%{y}<extra></extra>",
         "legendgroup": "United States",
         "line": {
          "color": "#636efa",
          "dash": "solid"
         },
         "mode": "lines",
         "name": "United States",
         "orientation": "v",
         "showlegend": true,
         "type": "scatter",
         "x": [
          2015,
          2016,
          2017,
          2018,
          2019,
          2020
         ],
         "xaxis": "x",
         "y": [
          1.24711,
          1.04782,
          1.41992056369781,
          1.471,
          1.457,
          1.404786706
         ],
         "yaxis": "y"
        },
        {
         "hovertemplate": "Country or region=Luxembourg<br>year=%{x}<br>Social support=%{y}<extra></extra>",
         "legendgroup": "Luxembourg",
         "line": {
          "color": "#EF553B",
          "dash": "solid"
         },
         "mode": "lines",
         "name": "Luxembourg",
         "orientation": "v",
         "showlegend": true,
         "type": "scatter",
         "x": [
          2015,
          2016,
          2017,
          2018,
          2019,
          2020
         ],
         "xaxis": "x",
         "y": [
          1.21963,
          1.03999,
          1.45758366584778,
          1.52,
          1.479,
          1.387528419
         ],
         "yaxis": "y"
        },
        {
         "hovertemplate": "Country or region=South Korea<br>year=%{x}<br>Social support=%{y}<extra></extra>",
         "legendgroup": "South Korea",
         "line": {
          "color": "#00cc96",
          "dash": "solid"
         },
         "mode": "lines",
         "name": "South Korea",
         "orientation": "v",
         "showlegend": true,
         "type": "scatter",
         "x": [
          2015,
          2016,
          2017,
          2018,
          2019,
          2020
         ],
         "xaxis": "x",
         "y": [
          0.95774,
          0.72194,
          1.12827444076538,
          1.204,
          1.219,
          1.133560538
         ],
         "yaxis": "y"
        },
        {
         "hovertemplate": "Country or region=Russia<br>year=%{x}<br>Social support=%{y}<extra></extra>",
         "legendgroup": "Russia",
         "line": {
          "color": "#ab63fa",
          "dash": "solid"
         },
         "mode": "lines",
         "name": "Russia",
         "orientation": "v",
         "showlegend": true,
         "type": "scatter",
         "x": [
          2015,
          2016,
          2017,
          2018,
          2019,
          2020
         ],
         "xaxis": "x",
         "y": [
          1.23617,
          1.05261,
          1.46928238868713,
          1.479,
          1.452,
          1.378644109
         ],
         "yaxis": "y"
        },
        {
         "hovertemplate": "Country or region=Zambia<br>year=%{x}<br>Social support=%{y}<extra></extra>",
         "legendgroup": "Zambia",
         "line": {
          "color": "#FFA15A",
          "dash": "solid"
         },
         "mode": "lines",
         "name": "Zambia",
         "orientation": "v",
         "showlegend": true,
         "type": "scatter",
         "x": [
          2015,
          2016,
          2017,
          2018,
          2019,
          2020
         ],
         "xaxis": "x",
         "y": [
          0.91612,
          0.6376,
          1.00318729877472,
          1.047,
          1.058,
          0.896037281
         ],
         "yaxis": "y"
        },
        {
         "hovertemplate": "Country or region=Zimbabwe<br>year=%{x}<br>Social support=%{y}<extra></extra>",
         "legendgroup": "Zimbabwe",
         "line": {
          "color": "#19d3f3",
          "dash": "solid"
         },
         "mode": "lines",
         "name": "Zimbabwe",
         "orientation": "v",
         "showlegend": true,
         "type": "scatter",
         "x": [
          2015,
          2016,
          2017,
          2018,
          2019,
          2020
         ],
         "xaxis": "x",
         "y": [
          1.03276,
          0.71478,
          1.08309590816498,
          1.094,
          1.114,
          1.047835231
         ],
         "yaxis": "y"
        },
        {
         "hovertemplate": "Country or region=India<br>year=%{x}<br>Social support=%{y}<extra></extra>",
         "legendgroup": "India",
         "line": {
          "color": "#FF6692",
          "dash": "solid"
         },
         "mode": "lines",
         "name": "India",
         "orientation": "v",
         "showlegend": true,
         "type": "scatter",
         "x": [
          2015,
          2016,
          2017,
          2018,
          2019,
          2020
         ],
         "xaxis": "x",
         "y": [
          0.38174,
          0.29247,
          0.754372596740723,
          0.747,
          0.765,
          0.644198656
         ],
         "yaxis": "y"
        },
        {
         "hovertemplate": "Country or region=Haiti<br>year=%{x}<br>Social support=%{y}<extra></extra>",
         "legendgroup": "Haiti",
         "line": {
          "color": "#B6E880",
          "dash": "solid"
         },
         "mode": "lines",
         "name": "Haiti",
         "orientation": "v",
         "showlegend": true,
         "type": "scatter",
         "x": [
          2015,
          2016,
          2017,
          2018,
          2019,
          2020
         ],
         "xaxis": "x",
         "y": [
          0.74302,
          0.29561,
          0.640449821949005,
          0.714,
          0.688,
          0.646671355
         ],
         "yaxis": "y"
        },
        {
         "hovertemplate": "Country or region=Botswana<br>year=%{x}<br>Social support=%{y}<extra></extra>",
         "legendgroup": "Botswana",
         "line": {
          "color": "#FF97FF",
          "dash": "solid"
         },
         "mode": "lines",
         "name": "Botswana",
         "orientation": "v",
         "showlegend": true,
         "type": "scatter",
         "x": [
          2015,
          2016,
          2017,
          2018,
          2019,
          2020
         ],
         "xaxis": "x",
         "y": [
          1.10464,
          0.89186,
          1.22155499458313,
          1.174,
          1.145,
          1.08569479
         ],
         "yaxis": "y"
        },
        {
         "hovertemplate": "Country or region=Malawi<br>year=%{x}<br>Social support=%{y}<extra></extra>",
         "legendgroup": "Malawi",
         "line": {
          "color": "#FECB52",
          "dash": "solid"
         },
         "mode": "lines",
         "name": "Malawi",
         "orientation": "v",
         "showlegend": true,
         "type": "scatter",
         "x": [
          2015,
          2016,
          2017,
          2018,
          2019,
          2020
         ],
         "xaxis": "x",
         "y": [
          0.41134,
          0.147,
          0.512568831443787,
          0.541,
          0.56,
          0.53036809
         ],
         "yaxis": "y"
        },
        {
         "hovertemplate": "Country or region=Yemen<br>year=%{x}<br>Social support=%{y}<extra></extra>",
         "legendgroup": "Yemen",
         "line": {
          "color": "#636efa",
          "dash": "solid"
         },
         "mode": "lines",
         "name": "Yemen",
         "orientation": "v",
         "showlegend": true,
         "type": "scatter",
         "x": [
          2015,
          2016,
          2017,
          2018,
          2019,
          2020
         ],
         "xaxis": "x",
         "y": [
          0.68093,
          0.47493,
          0.93538224697113,
          1.073,
          1.163,
          1.177477121
         ],
         "yaxis": "y"
        },
        {
         "hovertemplate": "Country or region=Tanzania<br>year=%{x}<br>Social support=%{y}<extra></extra>",
         "legendgroup": "Tanzania",
         "line": {
          "color": "#EF553B",
          "dash": "solid"
         },
         "mode": "lines",
         "name": "Tanzania",
         "orientation": "v",
         "showlegend": true,
         "type": "scatter",
         "x": [
          2015,
          2016,
          2017,
          2018,
          2019,
          2020
         ],
         "xaxis": "x",
         "y": [
          1.00268,
          0.77623,
          1.04198980331421,
          0.991,
          0.885,
          0.872674644
         ],
         "yaxis": "y"
        },
        {
         "hovertemplate": "Country or region=Afghanistan<br>year=%{x}<br>Social support=%{y}<extra></extra>",
         "legendgroup": "Afghanistan",
         "line": {
          "color": "#00cc96",
          "dash": "solid"
         },
         "mode": "lines",
         "name": "Afghanistan",
         "orientation": "v",
         "showlegend": true,
         "type": "scatter",
         "x": [
          2015,
          2016,
          2017,
          2018,
          2019,
          2020
         ],
         "xaxis": "x",
         "y": [
          0.30285,
          0.11037,
          0.581543326377869,
          0.537,
          0.517,
          0.356433839
         ],
         "yaxis": "y"
        },
        {
         "hovertemplate": "Country or region=Rwanda<br>year=%{x}<br>Social support=%{y}<extra></extra>",
         "legendgroup": "Rwanda",
         "line": {
          "color": "#ab63fa",
          "dash": "solid"
         },
         "mode": "lines",
         "name": "Rwanda",
         "orientation": "v",
         "showlegend": true,
         "type": "scatter",
         "x": [
          2015,
          2016,
          2017,
          2018,
          2019,
          2020
         ],
         "xaxis": "x",
         "y": [
          0.7737,
          0.61586,
          0.945707023143768,
          0.896,
          0.711,
          0.522876322
         ],
         "yaxis": "y"
        }
       ],
       "layout": {
        "legend": {
         "title": {
          "text": "Country or region"
         },
         "tracegroupgap": 0
        },
        "template": {
         "data": {
          "bar": [
           {
            "error_x": {
             "color": "#2a3f5f"
            },
            "error_y": {
             "color": "#2a3f5f"
            },
            "marker": {
             "line": {
              "color": "#E5ECF6",
              "width": 0.5
             }
            },
            "type": "bar"
           }
          ],
          "barpolar": [
           {
            "marker": {
             "line": {
              "color": "#E5ECF6",
              "width": 0.5
             }
            },
            "type": "barpolar"
           }
          ],
          "carpet": [
           {
            "aaxis": {
             "endlinecolor": "#2a3f5f",
             "gridcolor": "white",
             "linecolor": "white",
             "minorgridcolor": "white",
             "startlinecolor": "#2a3f5f"
            },
            "baxis": {
             "endlinecolor": "#2a3f5f",
             "gridcolor": "white",
             "linecolor": "white",
             "minorgridcolor": "white",
             "startlinecolor": "#2a3f5f"
            },
            "type": "carpet"
           }
          ],
          "choropleth": [
           {
            "colorbar": {
             "outlinewidth": 0,
             "ticks": ""
            },
            "type": "choropleth"
           }
          ],
          "contour": [
           {
            "colorbar": {
             "outlinewidth": 0,
             "ticks": ""
            },
            "colorscale": [
             [
              0,
              "#0d0887"
             ],
             [
              0.1111111111111111,
              "#46039f"
             ],
             [
              0.2222222222222222,
              "#7201a8"
             ],
             [
              0.3333333333333333,
              "#9c179e"
             ],
             [
              0.4444444444444444,
              "#bd3786"
             ],
             [
              0.5555555555555556,
              "#d8576b"
             ],
             [
              0.6666666666666666,
              "#ed7953"
             ],
             [
              0.7777777777777778,
              "#fb9f3a"
             ],
             [
              0.8888888888888888,
              "#fdca26"
             ],
             [
              1,
              "#f0f921"
             ]
            ],
            "type": "contour"
           }
          ],
          "contourcarpet": [
           {
            "colorbar": {
             "outlinewidth": 0,
             "ticks": ""
            },
            "type": "contourcarpet"
           }
          ],
          "heatmap": [
           {
            "colorbar": {
             "outlinewidth": 0,
             "ticks": ""
            },
            "colorscale": [
             [
              0,
              "#0d0887"
             ],
             [
              0.1111111111111111,
              "#46039f"
             ],
             [
              0.2222222222222222,
              "#7201a8"
             ],
             [
              0.3333333333333333,
              "#9c179e"
             ],
             [
              0.4444444444444444,
              "#bd3786"
             ],
             [
              0.5555555555555556,
              "#d8576b"
             ],
             [
              0.6666666666666666,
              "#ed7953"
             ],
             [
              0.7777777777777778,
              "#fb9f3a"
             ],
             [
              0.8888888888888888,
              "#fdca26"
             ],
             [
              1,
              "#f0f921"
             ]
            ],
            "type": "heatmap"
           }
          ],
          "heatmapgl": [
           {
            "colorbar": {
             "outlinewidth": 0,
             "ticks": ""
            },
            "colorscale": [
             [
              0,
              "#0d0887"
             ],
             [
              0.1111111111111111,
              "#46039f"
             ],
             [
              0.2222222222222222,
              "#7201a8"
             ],
             [
              0.3333333333333333,
              "#9c179e"
             ],
             [
              0.4444444444444444,
              "#bd3786"
             ],
             [
              0.5555555555555556,
              "#d8576b"
             ],
             [
              0.6666666666666666,
              "#ed7953"
             ],
             [
              0.7777777777777778,
              "#fb9f3a"
             ],
             [
              0.8888888888888888,
              "#fdca26"
             ],
             [
              1,
              "#f0f921"
             ]
            ],
            "type": "heatmapgl"
           }
          ],
          "histogram": [
           {
            "marker": {
             "colorbar": {
              "outlinewidth": 0,
              "ticks": ""
             }
            },
            "type": "histogram"
           }
          ],
          "histogram2d": [
           {
            "colorbar": {
             "outlinewidth": 0,
             "ticks": ""
            },
            "colorscale": [
             [
              0,
              "#0d0887"
             ],
             [
              0.1111111111111111,
              "#46039f"
             ],
             [
              0.2222222222222222,
              "#7201a8"
             ],
             [
              0.3333333333333333,
              "#9c179e"
             ],
             [
              0.4444444444444444,
              "#bd3786"
             ],
             [
              0.5555555555555556,
              "#d8576b"
             ],
             [
              0.6666666666666666,
              "#ed7953"
             ],
             [
              0.7777777777777778,
              "#fb9f3a"
             ],
             [
              0.8888888888888888,
              "#fdca26"
             ],
             [
              1,
              "#f0f921"
             ]
            ],
            "type": "histogram2d"
           }
          ],
          "histogram2dcontour": [
           {
            "colorbar": {
             "outlinewidth": 0,
             "ticks": ""
            },
            "colorscale": [
             [
              0,
              "#0d0887"
             ],
             [
              0.1111111111111111,
              "#46039f"
             ],
             [
              0.2222222222222222,
              "#7201a8"
             ],
             [
              0.3333333333333333,
              "#9c179e"
             ],
             [
              0.4444444444444444,
              "#bd3786"
             ],
             [
              0.5555555555555556,
              "#d8576b"
             ],
             [
              0.6666666666666666,
              "#ed7953"
             ],
             [
              0.7777777777777778,
              "#fb9f3a"
             ],
             [
              0.8888888888888888,
              "#fdca26"
             ],
             [
              1,
              "#f0f921"
             ]
            ],
            "type": "histogram2dcontour"
           }
          ],
          "mesh3d": [
           {
            "colorbar": {
             "outlinewidth": 0,
             "ticks": ""
            },
            "type": "mesh3d"
           }
          ],
          "parcoords": [
           {
            "line": {
             "colorbar": {
              "outlinewidth": 0,
              "ticks": ""
             }
            },
            "type": "parcoords"
           }
          ],
          "pie": [
           {
            "automargin": true,
            "type": "pie"
           }
          ],
          "scatter": [
           {
            "marker": {
             "colorbar": {
              "outlinewidth": 0,
              "ticks": ""
             }
            },
            "type": "scatter"
           }
          ],
          "scatter3d": [
           {
            "line": {
             "colorbar": {
              "outlinewidth": 0,
              "ticks": ""
             }
            },
            "marker": {
             "colorbar": {
              "outlinewidth": 0,
              "ticks": ""
             }
            },
            "type": "scatter3d"
           }
          ],
          "scattercarpet": [
           {
            "marker": {
             "colorbar": {
              "outlinewidth": 0,
              "ticks": ""
             }
            },
            "type": "scattercarpet"
           }
          ],
          "scattergeo": [
           {
            "marker": {
             "colorbar": {
              "outlinewidth": 0,
              "ticks": ""
             }
            },
            "type": "scattergeo"
           }
          ],
          "scattergl": [
           {
            "marker": {
             "colorbar": {
              "outlinewidth": 0,
              "ticks": ""
             }
            },
            "type": "scattergl"
           }
          ],
          "scattermapbox": [
           {
            "marker": {
             "colorbar": {
              "outlinewidth": 0,
              "ticks": ""
             }
            },
            "type": "scattermapbox"
           }
          ],
          "scatterpolar": [
           {
            "marker": {
             "colorbar": {
              "outlinewidth": 0,
              "ticks": ""
             }
            },
            "type": "scatterpolar"
           }
          ],
          "scatterpolargl": [
           {
            "marker": {
             "colorbar": {
              "outlinewidth": 0,
              "ticks": ""
             }
            },
            "type": "scatterpolargl"
           }
          ],
          "scatterternary": [
           {
            "marker": {
             "colorbar": {
              "outlinewidth": 0,
              "ticks": ""
             }
            },
            "type": "scatterternary"
           }
          ],
          "surface": [
           {
            "colorbar": {
             "outlinewidth": 0,
             "ticks": ""
            },
            "colorscale": [
             [
              0,
              "#0d0887"
             ],
             [
              0.1111111111111111,
              "#46039f"
             ],
             [
              0.2222222222222222,
              "#7201a8"
             ],
             [
              0.3333333333333333,
              "#9c179e"
             ],
             [
              0.4444444444444444,
              "#bd3786"
             ],
             [
              0.5555555555555556,
              "#d8576b"
             ],
             [
              0.6666666666666666,
              "#ed7953"
             ],
             [
              0.7777777777777778,
              "#fb9f3a"
             ],
             [
              0.8888888888888888,
              "#fdca26"
             ],
             [
              1,
              "#f0f921"
             ]
            ],
            "type": "surface"
           }
          ],
          "table": [
           {
            "cells": {
             "fill": {
              "color": "#EBF0F8"
             },
             "line": {
              "color": "white"
             }
            },
            "header": {
             "fill": {
              "color": "#C8D4E3"
             },
             "line": {
              "color": "white"
             }
            },
            "type": "table"
           }
          ]
         },
         "layout": {
          "annotationdefaults": {
           "arrowcolor": "#2a3f5f",
           "arrowhead": 0,
           "arrowwidth": 1
          },
          "autotypenumbers": "strict",
          "coloraxis": {
           "colorbar": {
            "outlinewidth": 0,
            "ticks": ""
           }
          },
          "colorscale": {
           "diverging": [
            [
             0,
             "#8e0152"
            ],
            [
             0.1,
             "#c51b7d"
            ],
            [
             0.2,
             "#de77ae"
            ],
            [
             0.3,
             "#f1b6da"
            ],
            [
             0.4,
             "#fde0ef"
            ],
            [
             0.5,
             "#f7f7f7"
            ],
            [
             0.6,
             "#e6f5d0"
            ],
            [
             0.7,
             "#b8e186"
            ],
            [
             0.8,
             "#7fbc41"
            ],
            [
             0.9,
             "#4d9221"
            ],
            [
             1,
             "#276419"
            ]
           ],
           "sequential": [
            [
             0,
             "#0d0887"
            ],
            [
             0.1111111111111111,
             "#46039f"
            ],
            [
             0.2222222222222222,
             "#7201a8"
            ],
            [
             0.3333333333333333,
             "#9c179e"
            ],
            [
             0.4444444444444444,
             "#bd3786"
            ],
            [
             0.5555555555555556,
             "#d8576b"
            ],
            [
             0.6666666666666666,
             "#ed7953"
            ],
            [
             0.7777777777777778,
             "#fb9f3a"
            ],
            [
             0.8888888888888888,
             "#fdca26"
            ],
            [
             1,
             "#f0f921"
            ]
           ],
           "sequentialminus": [
            [
             0,
             "#0d0887"
            ],
            [
             0.1111111111111111,
             "#46039f"
            ],
            [
             0.2222222222222222,
             "#7201a8"
            ],
            [
             0.3333333333333333,
             "#9c179e"
            ],
            [
             0.4444444444444444,
             "#bd3786"
            ],
            [
             0.5555555555555556,
             "#d8576b"
            ],
            [
             0.6666666666666666,
             "#ed7953"
            ],
            [
             0.7777777777777778,
             "#fb9f3a"
            ],
            [
             0.8888888888888888,
             "#fdca26"
            ],
            [
             1,
             "#f0f921"
            ]
           ]
          },
          "colorway": [
           "#636efa",
           "#EF553B",
           "#00cc96",
           "#ab63fa",
           "#FFA15A",
           "#19d3f3",
           "#FF6692",
           "#B6E880",
           "#FF97FF",
           "#FECB52"
          ],
          "font": {
           "color": "#2a3f5f"
          },
          "geo": {
           "bgcolor": "white",
           "lakecolor": "white",
           "landcolor": "#E5ECF6",
           "showlakes": true,
           "showland": true,
           "subunitcolor": "white"
          },
          "hoverlabel": {
           "align": "left"
          },
          "hovermode": "closest",
          "mapbox": {
           "style": "light"
          },
          "paper_bgcolor": "white",
          "plot_bgcolor": "#E5ECF6",
          "polar": {
           "angularaxis": {
            "gridcolor": "white",
            "linecolor": "white",
            "ticks": ""
           },
           "bgcolor": "#E5ECF6",
           "radialaxis": {
            "gridcolor": "white",
            "linecolor": "white",
            "ticks": ""
           }
          },
          "scene": {
           "xaxis": {
            "backgroundcolor": "#E5ECF6",
            "gridcolor": "white",
            "gridwidth": 2,
            "linecolor": "white",
            "showbackground": true,
            "ticks": "",
            "zerolinecolor": "white"
           },
           "yaxis": {
            "backgroundcolor": "#E5ECF6",
            "gridcolor": "white",
            "gridwidth": 2,
            "linecolor": "white",
            "showbackground": true,
            "ticks": "",
            "zerolinecolor": "white"
           },
           "zaxis": {
            "backgroundcolor": "#E5ECF6",
            "gridcolor": "white",
            "gridwidth": 2,
            "linecolor": "white",
            "showbackground": true,
            "ticks": "",
            "zerolinecolor": "white"
           }
          },
          "shapedefaults": {
           "line": {
            "color": "#2a3f5f"
           }
          },
          "ternary": {
           "aaxis": {
            "gridcolor": "white",
            "linecolor": "white",
            "ticks": ""
           },
           "baxis": {
            "gridcolor": "white",
            "linecolor": "white",
            "ticks": ""
           },
           "bgcolor": "#E5ECF6",
           "caxis": {
            "gridcolor": "white",
            "linecolor": "white",
            "ticks": ""
           }
          },
          "title": {
           "x": 0.05
          },
          "xaxis": {
           "automargin": true,
           "gridcolor": "white",
           "linecolor": "white",
           "ticks": "",
           "title": {
            "standoff": 15
           },
           "zerolinecolor": "white",
           "zerolinewidth": 2
          },
          "yaxis": {
           "automargin": true,
           "gridcolor": "white",
           "linecolor": "white",
           "ticks": "",
           "title": {
            "standoff": 15
           },
           "zerolinecolor": "white",
           "zerolinewidth": 2
          }
         }
        },
        "title": {
         "text": "Social support by country"
        },
        "xaxis": {
         "anchor": "y",
         "domain": [
          0,
          1
         ],
         "title": {
          "text": "year"
         }
        },
        "yaxis": {
         "anchor": "x",
         "domain": [
          0,
          1
         ],
         "title": {
          "text": "Social support"
         }
        }
       }
      },
      "text/html": [
       "<div>                            <div id=\"d28bf64a-bf54-44f7-9c9c-35802e81246c\" class=\"plotly-graph-div\" style=\"height:525px; width:100%;\"></div>            <script type=\"text/javascript\">                require([\"plotly\"], function(Plotly) {                    window.PLOTLYENV=window.PLOTLYENV || {};                                    if (document.getElementById(\"d28bf64a-bf54-44f7-9c9c-35802e81246c\")) {                    Plotly.newPlot(                        \"d28bf64a-bf54-44f7-9c9c-35802e81246c\",                        [{\"hovertemplate\": \"Country or region=Switzerland<br>year=%{x}<br>Social support=%{y}<extra></extra>\", \"legendgroup\": \"Switzerland\", \"line\": {\"color\": \"#636efa\", \"dash\": \"solid\"}, \"mode\": \"lines\", \"name\": \"Switzerland\", \"orientation\": \"v\", \"showlegend\": true, \"type\": \"scatter\", \"x\": [2015, 2016, 2017, 2018, 2019, 2020], \"xaxis\": \"x\", \"y\": [1.34951, 1.14524, 1.51691174507141, 1.549, 1.526, 1.472403407], \"yaxis\": \"y\"}, {\"hovertemplate\": \"Country or region=Iceland<br>year=%{x}<br>Social support=%{y}<extra></extra>\", \"legendgroup\": \"Iceland\", \"line\": {\"color\": \"#EF553B\", \"dash\": \"solid\"}, \"mode\": \"lines\", \"name\": \"Iceland\", \"orientation\": \"v\", \"showlegend\": true, \"type\": \"scatter\", \"x\": [2015, 2016, 2017, 2018, 2019, 2020], \"xaxis\": \"x\", \"y\": [1.40223, 1.18326, 1.6105740070343, 1.644, 1.624, 1.547567487], \"yaxis\": \"y\"}, {\"hovertemplate\": \"Country or region=Denmark<br>year=%{x}<br>Social support=%{y}<extra></extra>\", \"legendgroup\": \"Denmark\", \"line\": {\"color\": \"#00cc96\", \"dash\": \"solid\"}, \"mode\": \"lines\", \"name\": \"Denmark\", \"orientation\": \"v\", \"showlegend\": true, \"type\": \"scatter\", \"x\": [2015, 2016, 2017, 2018, 2019, 2020], \"xaxis\": \"x\", \"y\": [1.36058, 1.16374, 1.55112159252167, 1.59, 1.573, 1.503449202], \"yaxis\": \"y\"}, {\"hovertemplate\": \"Country or region=Norway<br>year=%{x}<br>Social support=%{y}<extra></extra>\", \"legendgroup\": \"Norway\", \"line\": {\"color\": \"#ab63fa\", \"dash\": \"solid\"}, \"mode\": \"lines\", \"name\": \"Norway\", \"orientation\": \"v\", \"showlegend\": true, \"type\": \"scatter\", \"x\": [2015, 2016, 2017, 2018, 2019, 2020], \"xaxis\": \"x\", \"y\": [1.33095, 1.1269, 1.53352355957031, 1.582, 1.582, 1.495172501], \"yaxis\": \"y\"}, {\"hovertemplate\": \"Country or region=Canada<br>year=%{x}<br>Social support=%{y}<extra></extra>\", \"legendgroup\": \"Canada\", \"line\": {\"color\": \"#FFA15A\", \"dash\": \"solid\"}, \"mode\": \"lines\", \"name\": \"Canada\", \"orientation\": \"v\", \"showlegend\": true, \"type\": \"scatter\", \"x\": [2015, 2016, 2017, 2018, 2019, 2020], \"xaxis\": \"x\", \"y\": [1.32261, 1.0961, 1.48134899139404, 1.532, 1.505, 1.435391903], \"yaxis\": \"y\"}, {\"hovertemplate\": \"Country or region=Finland<br>year=%{x}<br>Social support=%{y}<extra></extra>\", \"legendgroup\": \"Finland\", \"line\": {\"color\": \"#19d3f3\", \"dash\": \"solid\"}, \"mode\": \"lines\", \"name\": \"Finland\", \"orientation\": \"v\", \"showlegend\": true, \"type\": \"scatter\", \"x\": [2015, 2016, 2017, 2018, 2019, 2020], \"xaxis\": \"x\", \"y\": [1.31826, 1.13464, 1.5402467250824, 1.592, 1.587, 1.499525905], \"yaxis\": \"y\"}, {\"hovertemplate\": \"Country or region=Netherlands<br>year=%{x}<br>Social support=%{y}<extra></extra>\", \"legendgroup\": \"Netherlands\", \"line\": {\"color\": \"#FF6692\", \"dash\": \"solid\"}, \"mode\": \"lines\", \"name\": \"Netherlands\", \"orientation\": \"v\", \"showlegend\": true, \"type\": \"scatter\", \"x\": [2015, 2016, 2017, 2018, 2019, 2020], \"xaxis\": \"x\", \"y\": [1.28017, 1.02912, 1.42893922328949, 1.488, 1.522, 1.463645935], \"yaxis\": \"y\"}, {\"hovertemplate\": \"Country or region=Sweden<br>year=%{x}<br>Social support=%{y}<extra></extra>\", \"legendgroup\": \"Sweden\", \"line\": {\"color\": \"#B6E880\", \"dash\": \"solid\"}, \"mode\": \"lines\", \"name\": \"Sweden\", \"orientation\": \"v\", \"showlegend\": true, \"type\": \"scatter\", \"x\": [2015, 2016, 2017, 2018, 2019, 2020], \"xaxis\": \"x\", \"y\": [1.28907, 1.08764, 1.47816216945648, 1.501, 1.487, 1.433347702], \"yaxis\": \"y\"}, {\"hovertemplate\": \"Country or region=New Zealand<br>year=%{x}<br>Social support=%{y}<extra></extra>\", \"legendgroup\": \"New Zealand\", \"line\": {\"color\": \"#FF97FF\", \"dash\": \"solid\"}, \"mode\": \"lines\", \"name\": \"New Zealand\", \"orientation\": \"v\", \"showlegend\": true, \"type\": \"scatter\", \"x\": [2015, 2016, 2017, 2018, 2019, 2020], \"xaxis\": \"x\", \"y\": [1.31967, 1.17278, 1.54819512367249, 1.601, 1.557, 1.48721838], \"yaxis\": \"y\"}, {\"hovertemplate\": \"Country or region=Austria<br>year=%{x}<br>Social support=%{y}<extra></extra>\", \"legendgroup\": \"Austria\", \"line\": {\"color\": \"#FECB52\", \"dash\": \"solid\"}, \"mode\": \"lines\", \"name\": \"Austria\", \"orientation\": \"v\", \"showlegend\": true, \"type\": \"scatter\", \"x\": [2015, 2016, 2017, 2018, 2019, 2020], \"xaxis\": \"x\", \"y\": [1.29704, 1.08383, 1.4599449634552, 1.504, 1.475, 1.437444925], \"yaxis\": \"y\"}, {\"hovertemplate\": \"Country or region=United States<br>year=%{x}<br>Social support=%{y}<extra></extra>\", \"legendgroup\": \"United States\", \"line\": {\"color\": \"#636efa\", \"dash\": \"solid\"}, \"mode\": \"lines\", \"name\": \"United States\", \"orientation\": \"v\", \"showlegend\": true, \"type\": \"scatter\", \"x\": [2015, 2016, 2017, 2018, 2019, 2020], \"xaxis\": \"x\", \"y\": [1.24711, 1.04782, 1.41992056369781, 1.471, 1.457, 1.404786706], \"yaxis\": \"y\"}, {\"hovertemplate\": \"Country or region=Luxembourg<br>year=%{x}<br>Social support=%{y}<extra></extra>\", \"legendgroup\": \"Luxembourg\", \"line\": {\"color\": \"#EF553B\", \"dash\": \"solid\"}, \"mode\": \"lines\", \"name\": \"Luxembourg\", \"orientation\": \"v\", \"showlegend\": true, \"type\": \"scatter\", \"x\": [2015, 2016, 2017, 2018, 2019, 2020], \"xaxis\": \"x\", \"y\": [1.21963, 1.03999, 1.45758366584778, 1.52, 1.479, 1.387528419], \"yaxis\": \"y\"}, {\"hovertemplate\": \"Country or region=South Korea<br>year=%{x}<br>Social support=%{y}<extra></extra>\", \"legendgroup\": \"South Korea\", \"line\": {\"color\": \"#00cc96\", \"dash\": \"solid\"}, \"mode\": \"lines\", \"name\": \"South Korea\", \"orientation\": \"v\", \"showlegend\": true, \"type\": \"scatter\", \"x\": [2015, 2016, 2017, 2018, 2019, 2020], \"xaxis\": \"x\", \"y\": [0.95774, 0.72194, 1.12827444076538, 1.204, 1.219, 1.133560538], \"yaxis\": \"y\"}, {\"hovertemplate\": \"Country or region=Russia<br>year=%{x}<br>Social support=%{y}<extra></extra>\", \"legendgroup\": \"Russia\", \"line\": {\"color\": \"#ab63fa\", \"dash\": \"solid\"}, \"mode\": \"lines\", \"name\": \"Russia\", \"orientation\": \"v\", \"showlegend\": true, \"type\": \"scatter\", \"x\": [2015, 2016, 2017, 2018, 2019, 2020], \"xaxis\": \"x\", \"y\": [1.23617, 1.05261, 1.46928238868713, 1.479, 1.452, 1.378644109], \"yaxis\": \"y\"}, {\"hovertemplate\": \"Country or region=Zambia<br>year=%{x}<br>Social support=%{y}<extra></extra>\", \"legendgroup\": \"Zambia\", \"line\": {\"color\": \"#FFA15A\", \"dash\": \"solid\"}, \"mode\": \"lines\", \"name\": \"Zambia\", \"orientation\": \"v\", \"showlegend\": true, \"type\": \"scatter\", \"x\": [2015, 2016, 2017, 2018, 2019, 2020], \"xaxis\": \"x\", \"y\": [0.91612, 0.6376, 1.00318729877472, 1.047, 1.058, 0.896037281], \"yaxis\": \"y\"}, {\"hovertemplate\": \"Country or region=Zimbabwe<br>year=%{x}<br>Social support=%{y}<extra></extra>\", \"legendgroup\": \"Zimbabwe\", \"line\": {\"color\": \"#19d3f3\", \"dash\": \"solid\"}, \"mode\": \"lines\", \"name\": \"Zimbabwe\", \"orientation\": \"v\", \"showlegend\": true, \"type\": \"scatter\", \"x\": [2015, 2016, 2017, 2018, 2019, 2020], \"xaxis\": \"x\", \"y\": [1.03276, 0.71478, 1.08309590816498, 1.094, 1.114, 1.047835231], \"yaxis\": \"y\"}, {\"hovertemplate\": \"Country or region=India<br>year=%{x}<br>Social support=%{y}<extra></extra>\", \"legendgroup\": \"India\", \"line\": {\"color\": \"#FF6692\", \"dash\": \"solid\"}, \"mode\": \"lines\", \"name\": \"India\", \"orientation\": \"v\", \"showlegend\": true, \"type\": \"scatter\", \"x\": [2015, 2016, 2017, 2018, 2019, 2020], \"xaxis\": \"x\", \"y\": [0.38174, 0.29247, 0.754372596740723, 0.747, 0.765, 0.644198656], \"yaxis\": \"y\"}, {\"hovertemplate\": \"Country or region=Haiti<br>year=%{x}<br>Social support=%{y}<extra></extra>\", \"legendgroup\": \"Haiti\", \"line\": {\"color\": \"#B6E880\", \"dash\": \"solid\"}, \"mode\": \"lines\", \"name\": \"Haiti\", \"orientation\": \"v\", \"showlegend\": true, \"type\": \"scatter\", \"x\": [2015, 2016, 2017, 2018, 2019, 2020], \"xaxis\": \"x\", \"y\": [0.74302, 0.29561, 0.640449821949005, 0.714, 0.688, 0.646671355], \"yaxis\": \"y\"}, {\"hovertemplate\": \"Country or region=Botswana<br>year=%{x}<br>Social support=%{y}<extra></extra>\", \"legendgroup\": \"Botswana\", \"line\": {\"color\": \"#FF97FF\", \"dash\": \"solid\"}, \"mode\": \"lines\", \"name\": \"Botswana\", \"orientation\": \"v\", \"showlegend\": true, \"type\": \"scatter\", \"x\": [2015, 2016, 2017, 2018, 2019, 2020], \"xaxis\": \"x\", \"y\": [1.10464, 0.89186, 1.22155499458313, 1.174, 1.145, 1.08569479], \"yaxis\": \"y\"}, {\"hovertemplate\": \"Country or region=Malawi<br>year=%{x}<br>Social support=%{y}<extra></extra>\", \"legendgroup\": \"Malawi\", \"line\": {\"color\": \"#FECB52\", \"dash\": \"solid\"}, \"mode\": \"lines\", \"name\": \"Malawi\", \"orientation\": \"v\", \"showlegend\": true, \"type\": \"scatter\", \"x\": [2015, 2016, 2017, 2018, 2019, 2020], \"xaxis\": \"x\", \"y\": [0.41134, 0.147, 0.512568831443787, 0.541, 0.56, 0.53036809], \"yaxis\": \"y\"}, {\"hovertemplate\": \"Country or region=Yemen<br>year=%{x}<br>Social support=%{y}<extra></extra>\", \"legendgroup\": \"Yemen\", \"line\": {\"color\": \"#636efa\", \"dash\": \"solid\"}, \"mode\": \"lines\", \"name\": \"Yemen\", \"orientation\": \"v\", \"showlegend\": true, \"type\": \"scatter\", \"x\": [2015, 2016, 2017, 2018, 2019, 2020], \"xaxis\": \"x\", \"y\": [0.68093, 0.47493, 0.93538224697113, 1.073, 1.163, 1.177477121], \"yaxis\": \"y\"}, {\"hovertemplate\": \"Country or region=Tanzania<br>year=%{x}<br>Social support=%{y}<extra></extra>\", \"legendgroup\": \"Tanzania\", \"line\": {\"color\": \"#EF553B\", \"dash\": \"solid\"}, \"mode\": \"lines\", \"name\": \"Tanzania\", \"orientation\": \"v\", \"showlegend\": true, \"type\": \"scatter\", \"x\": [2015, 2016, 2017, 2018, 2019, 2020], \"xaxis\": \"x\", \"y\": [1.00268, 0.77623, 1.04198980331421, 0.991, 0.885, 0.872674644], \"yaxis\": \"y\"}, {\"hovertemplate\": \"Country or region=Afghanistan<br>year=%{x}<br>Social support=%{y}<extra></extra>\", \"legendgroup\": \"Afghanistan\", \"line\": {\"color\": \"#00cc96\", \"dash\": \"solid\"}, \"mode\": \"lines\", \"name\": \"Afghanistan\", \"orientation\": \"v\", \"showlegend\": true, \"type\": \"scatter\", \"x\": [2015, 2016, 2017, 2018, 2019, 2020], \"xaxis\": \"x\", \"y\": [0.30285, 0.11037, 0.581543326377869, 0.537, 0.517, 0.356433839], \"yaxis\": \"y\"}, {\"hovertemplate\": \"Country or region=Rwanda<br>year=%{x}<br>Social support=%{y}<extra></extra>\", \"legendgroup\": \"Rwanda\", \"line\": {\"color\": \"#ab63fa\", \"dash\": \"solid\"}, \"mode\": \"lines\", \"name\": \"Rwanda\", \"orientation\": \"v\", \"showlegend\": true, \"type\": \"scatter\", \"x\": [2015, 2016, 2017, 2018, 2019, 2020], \"xaxis\": \"x\", \"y\": [0.7737, 0.61586, 0.945707023143768, 0.896, 0.711, 0.522876322], \"yaxis\": \"y\"}],                        {\"legend\": {\"title\": {\"text\": \"Country or region\"}, \"tracegroupgap\": 0}, \"template\": {\"data\": {\"bar\": [{\"error_x\": {\"color\": \"#2a3f5f\"}, \"error_y\": {\"color\": \"#2a3f5f\"}, \"marker\": {\"line\": {\"color\": \"#E5ECF6\", \"width\": 0.5}}, \"type\": \"bar\"}], \"barpolar\": [{\"marker\": {\"line\": {\"color\": \"#E5ECF6\", \"width\": 0.5}}, \"type\": \"barpolar\"}], \"carpet\": [{\"aaxis\": {\"endlinecolor\": \"#2a3f5f\", \"gridcolor\": \"white\", \"linecolor\": \"white\", \"minorgridcolor\": \"white\", \"startlinecolor\": \"#2a3f5f\"}, \"baxis\": {\"endlinecolor\": \"#2a3f5f\", \"gridcolor\": \"white\", \"linecolor\": \"white\", \"minorgridcolor\": \"white\", \"startlinecolor\": \"#2a3f5f\"}, \"type\": \"carpet\"}], \"choropleth\": [{\"colorbar\": {\"outlinewidth\": 0, \"ticks\": \"\"}, \"type\": \"choropleth\"}], \"contour\": [{\"colorbar\": {\"outlinewidth\": 0, \"ticks\": \"\"}, \"colorscale\": [[0.0, \"#0d0887\"], [0.1111111111111111, \"#46039f\"], [0.2222222222222222, \"#7201a8\"], [0.3333333333333333, \"#9c179e\"], [0.4444444444444444, \"#bd3786\"], [0.5555555555555556, \"#d8576b\"], [0.6666666666666666, \"#ed7953\"], [0.7777777777777778, \"#fb9f3a\"], [0.8888888888888888, \"#fdca26\"], [1.0, \"#f0f921\"]], \"type\": \"contour\"}], \"contourcarpet\": [{\"colorbar\": {\"outlinewidth\": 0, \"ticks\": \"\"}, \"type\": \"contourcarpet\"}], \"heatmap\": [{\"colorbar\": {\"outlinewidth\": 0, \"ticks\": \"\"}, \"colorscale\": [[0.0, \"#0d0887\"], [0.1111111111111111, \"#46039f\"], [0.2222222222222222, \"#7201a8\"], [0.3333333333333333, \"#9c179e\"], [0.4444444444444444, \"#bd3786\"], [0.5555555555555556, \"#d8576b\"], [0.6666666666666666, \"#ed7953\"], [0.7777777777777778, \"#fb9f3a\"], [0.8888888888888888, \"#fdca26\"], [1.0, \"#f0f921\"]], \"type\": \"heatmap\"}], \"heatmapgl\": [{\"colorbar\": {\"outlinewidth\": 0, \"ticks\": \"\"}, \"colorscale\": [[0.0, \"#0d0887\"], [0.1111111111111111, \"#46039f\"], [0.2222222222222222, \"#7201a8\"], [0.3333333333333333, \"#9c179e\"], [0.4444444444444444, \"#bd3786\"], [0.5555555555555556, \"#d8576b\"], [0.6666666666666666, \"#ed7953\"], [0.7777777777777778, \"#fb9f3a\"], [0.8888888888888888, \"#fdca26\"], [1.0, \"#f0f921\"]], \"type\": \"heatmapgl\"}], \"histogram\": [{\"marker\": {\"colorbar\": {\"outlinewidth\": 0, \"ticks\": \"\"}}, \"type\": \"histogram\"}], \"histogram2d\": [{\"colorbar\": {\"outlinewidth\": 0, \"ticks\": \"\"}, \"colorscale\": [[0.0, \"#0d0887\"], [0.1111111111111111, \"#46039f\"], [0.2222222222222222, \"#7201a8\"], [0.3333333333333333, \"#9c179e\"], [0.4444444444444444, \"#bd3786\"], [0.5555555555555556, \"#d8576b\"], [0.6666666666666666, \"#ed7953\"], [0.7777777777777778, \"#fb9f3a\"], [0.8888888888888888, \"#fdca26\"], [1.0, \"#f0f921\"]], \"type\": \"histogram2d\"}], \"histogram2dcontour\": [{\"colorbar\": {\"outlinewidth\": 0, \"ticks\": \"\"}, \"colorscale\": [[0.0, \"#0d0887\"], [0.1111111111111111, \"#46039f\"], [0.2222222222222222, \"#7201a8\"], [0.3333333333333333, \"#9c179e\"], [0.4444444444444444, \"#bd3786\"], [0.5555555555555556, \"#d8576b\"], [0.6666666666666666, \"#ed7953\"], [0.7777777777777778, \"#fb9f3a\"], [0.8888888888888888, \"#fdca26\"], [1.0, \"#f0f921\"]], \"type\": \"histogram2dcontour\"}], \"mesh3d\": [{\"colorbar\": {\"outlinewidth\": 0, \"ticks\": \"\"}, \"type\": \"mesh3d\"}], \"parcoords\": [{\"line\": {\"colorbar\": {\"outlinewidth\": 0, \"ticks\": \"\"}}, \"type\": \"parcoords\"}], \"pie\": [{\"automargin\": true, \"type\": \"pie\"}], \"scatter\": [{\"marker\": {\"colorbar\": {\"outlinewidth\": 0, \"ticks\": \"\"}}, \"type\": \"scatter\"}], \"scatter3d\": [{\"line\": {\"colorbar\": {\"outlinewidth\": 0, \"ticks\": \"\"}}, \"marker\": {\"colorbar\": {\"outlinewidth\": 0, \"ticks\": \"\"}}, \"type\": \"scatter3d\"}], \"scattercarpet\": [{\"marker\": {\"colorbar\": {\"outlinewidth\": 0, \"ticks\": \"\"}}, \"type\": \"scattercarpet\"}], \"scattergeo\": [{\"marker\": {\"colorbar\": {\"outlinewidth\": 0, \"ticks\": \"\"}}, \"type\": \"scattergeo\"}], \"scattergl\": [{\"marker\": {\"colorbar\": {\"outlinewidth\": 0, \"ticks\": \"\"}}, \"type\": \"scattergl\"}], \"scattermapbox\": [{\"marker\": {\"colorbar\": {\"outlinewidth\": 0, \"ticks\": \"\"}}, \"type\": \"scattermapbox\"}], \"scatterpolar\": [{\"marker\": {\"colorbar\": {\"outlinewidth\": 0, \"ticks\": \"\"}}, \"type\": \"scatterpolar\"}], \"scatterpolargl\": [{\"marker\": {\"colorbar\": {\"outlinewidth\": 0, \"ticks\": \"\"}}, \"type\": \"scatterpolargl\"}], \"scatterternary\": [{\"marker\": {\"colorbar\": {\"outlinewidth\": 0, \"ticks\": \"\"}}, \"type\": \"scatterternary\"}], \"surface\": [{\"colorbar\": {\"outlinewidth\": 0, \"ticks\": \"\"}, \"colorscale\": [[0.0, \"#0d0887\"], [0.1111111111111111, \"#46039f\"], [0.2222222222222222, \"#7201a8\"], [0.3333333333333333, \"#9c179e\"], [0.4444444444444444, \"#bd3786\"], [0.5555555555555556, \"#d8576b\"], [0.6666666666666666, \"#ed7953\"], [0.7777777777777778, \"#fb9f3a\"], [0.8888888888888888, \"#fdca26\"], [1.0, \"#f0f921\"]], \"type\": \"surface\"}], \"table\": [{\"cells\": {\"fill\": {\"color\": \"#EBF0F8\"}, \"line\": {\"color\": \"white\"}}, \"header\": {\"fill\": {\"color\": \"#C8D4E3\"}, \"line\": {\"color\": \"white\"}}, \"type\": \"table\"}]}, \"layout\": {\"annotationdefaults\": {\"arrowcolor\": \"#2a3f5f\", \"arrowhead\": 0, \"arrowwidth\": 1}, \"autotypenumbers\": \"strict\", \"coloraxis\": {\"colorbar\": {\"outlinewidth\": 0, \"ticks\": \"\"}}, \"colorscale\": {\"diverging\": [[0, \"#8e0152\"], [0.1, \"#c51b7d\"], [0.2, \"#de77ae\"], [0.3, \"#f1b6da\"], [0.4, \"#fde0ef\"], [0.5, \"#f7f7f7\"], [0.6, \"#e6f5d0\"], [0.7, \"#b8e186\"], [0.8, \"#7fbc41\"], [0.9, \"#4d9221\"], [1, \"#276419\"]], \"sequential\": [[0.0, \"#0d0887\"], [0.1111111111111111, \"#46039f\"], [0.2222222222222222, \"#7201a8\"], [0.3333333333333333, \"#9c179e\"], [0.4444444444444444, \"#bd3786\"], [0.5555555555555556, \"#d8576b\"], [0.6666666666666666, \"#ed7953\"], [0.7777777777777778, \"#fb9f3a\"], [0.8888888888888888, \"#fdca26\"], [1.0, \"#f0f921\"]], \"sequentialminus\": [[0.0, \"#0d0887\"], [0.1111111111111111, \"#46039f\"], [0.2222222222222222, \"#7201a8\"], [0.3333333333333333, \"#9c179e\"], [0.4444444444444444, \"#bd3786\"], [0.5555555555555556, \"#d8576b\"], [0.6666666666666666, \"#ed7953\"], [0.7777777777777778, \"#fb9f3a\"], [0.8888888888888888, \"#fdca26\"], [1.0, \"#f0f921\"]]}, \"colorway\": [\"#636efa\", \"#EF553B\", \"#00cc96\", \"#ab63fa\", \"#FFA15A\", \"#19d3f3\", \"#FF6692\", \"#B6E880\", \"#FF97FF\", \"#FECB52\"], \"font\": {\"color\": \"#2a3f5f\"}, \"geo\": {\"bgcolor\": \"white\", \"lakecolor\": \"white\", \"landcolor\": \"#E5ECF6\", \"showlakes\": true, \"showland\": true, \"subunitcolor\": \"white\"}, \"hoverlabel\": {\"align\": \"left\"}, \"hovermode\": \"closest\", \"mapbox\": {\"style\": \"light\"}, \"paper_bgcolor\": \"white\", \"plot_bgcolor\": \"#E5ECF6\", \"polar\": {\"angularaxis\": {\"gridcolor\": \"white\", \"linecolor\": \"white\", \"ticks\": \"\"}, \"bgcolor\": \"#E5ECF6\", \"radialaxis\": {\"gridcolor\": \"white\", \"linecolor\": \"white\", \"ticks\": \"\"}}, \"scene\": {\"xaxis\": {\"backgroundcolor\": \"#E5ECF6\", \"gridcolor\": \"white\", \"gridwidth\": 2, \"linecolor\": \"white\", \"showbackground\": true, \"ticks\": \"\", \"zerolinecolor\": \"white\"}, \"yaxis\": {\"backgroundcolor\": \"#E5ECF6\", \"gridcolor\": \"white\", \"gridwidth\": 2, \"linecolor\": \"white\", \"showbackground\": true, \"ticks\": \"\", \"zerolinecolor\": \"white\"}, \"zaxis\": {\"backgroundcolor\": \"#E5ECF6\", \"gridcolor\": \"white\", \"gridwidth\": 2, \"linecolor\": \"white\", \"showbackground\": true, \"ticks\": \"\", \"zerolinecolor\": \"white\"}}, \"shapedefaults\": {\"line\": {\"color\": \"#2a3f5f\"}}, \"ternary\": {\"aaxis\": {\"gridcolor\": \"white\", \"linecolor\": \"white\", \"ticks\": \"\"}, \"baxis\": {\"gridcolor\": \"white\", \"linecolor\": \"white\", \"ticks\": \"\"}, \"bgcolor\": \"#E5ECF6\", \"caxis\": {\"gridcolor\": \"white\", \"linecolor\": \"white\", \"ticks\": \"\"}}, \"title\": {\"x\": 0.05}, \"xaxis\": {\"automargin\": true, \"gridcolor\": \"white\", \"linecolor\": \"white\", \"ticks\": \"\", \"title\": {\"standoff\": 15}, \"zerolinecolor\": \"white\", \"zerolinewidth\": 2}, \"yaxis\": {\"automargin\": true, \"gridcolor\": \"white\", \"linecolor\": \"white\", \"ticks\": \"\", \"title\": {\"standoff\": 15}, \"zerolinecolor\": \"white\", \"zerolinewidth\": 2}}}, \"title\": {\"text\": \"Social support by country\"}, \"xaxis\": {\"anchor\": \"y\", \"domain\": [0.0, 1.0], \"title\": {\"text\": \"year\"}}, \"yaxis\": {\"anchor\": \"x\", \"domain\": [0.0, 1.0], \"title\": {\"text\": \"Social support\"}}},                        {\"responsive\": true}                    ).then(function(){\n",
       "                            \n",
       "var gd = document.getElementById('d28bf64a-bf54-44f7-9c9c-35802e81246c');\n",
       "var x = new MutationObserver(function (mutations, observer) {{\n",
       "        var display = window.getComputedStyle(gd).display;\n",
       "        if (!display || display === 'none') {{\n",
       "            console.log([gd, 'removed!']);\n",
       "            Plotly.purge(gd);\n",
       "            observer.disconnect();\n",
       "        }}\n",
       "}});\n",
       "\n",
       "// Listen for the removal of the full notebook cells\n",
       "var notebookContainer = gd.closest('#notebook-container');\n",
       "if (notebookContainer) {{\n",
       "    x.observe(notebookContainer, {childList: true});\n",
       "}}\n",
       "\n",
       "// Listen for the clearing of the current output cell\n",
       "var outputEl = gd.closest('.output');\n",
       "if (outputEl) {{\n",
       "    x.observe(outputEl, {childList: true});\n",
       "}}\n",
       "\n",
       "                        })                };                });            </script>        </div>"
      ]
     },
     "metadata": {},
     "output_type": "display_data"
    }
   ],
   "source": [
    "plot_line('Social support')"
   ]
  },
  {
   "cell_type": "code",
   "execution_count": 2173,
   "id": "opponent-florence",
   "metadata": {},
   "outputs": [
    {
     "data": {
      "application/vnd.plotly.v1+json": {
       "config": {
        "plotlyServerURL": "https://plot.ly"
       },
       "data": [
        {
         "hovertemplate": "Country or region=%{x}<br>Social support=%{y}<br>year=%{marker.color}<extra></extra>",
         "legendgroup": "",
         "marker": {
          "color": [
           2015,
           2015,
           2015,
           2015,
           2015,
           2015,
           2015,
           2015,
           2015,
           2015,
           2015,
           2015,
           2015,
           2015,
           2015,
           2015,
           2015,
           2015,
           2015,
           2015,
           2015,
           2015,
           2015,
           2015,
           2016,
           2016,
           2016,
           2016,
           2016,
           2016,
           2016,
           2016,
           2016,
           2016,
           2016,
           2016,
           2016,
           2016,
           2016,
           2016,
           2016,
           2016,
           2016,
           2016,
           2016,
           2016,
           2016,
           2016,
           2017,
           2017,
           2017,
           2017,
           2017,
           2017,
           2017,
           2017,
           2017,
           2017,
           2017,
           2017,
           2017,
           2017,
           2017,
           2017,
           2017,
           2017,
           2017,
           2017,
           2017,
           2017,
           2017,
           2017,
           2018,
           2018,
           2018,
           2018,
           2018,
           2018,
           2018,
           2018,
           2018,
           2018,
           2018,
           2018,
           2018,
           2018,
           2018,
           2018,
           2018,
           2018,
           2018,
           2018,
           2018,
           2018,
           2018,
           2018,
           2019,
           2019,
           2019,
           2019,
           2019,
           2019,
           2019,
           2019,
           2019,
           2019,
           2019,
           2019,
           2019,
           2019,
           2019,
           2019,
           2019,
           2019,
           2019,
           2019,
           2019,
           2019,
           2019,
           2019,
           2020,
           2020,
           2020,
           2020,
           2020,
           2020,
           2020,
           2020,
           2020,
           2020,
           2020,
           2020,
           2020,
           2020,
           2020,
           2020,
           2020,
           2020,
           2020,
           2020,
           2020,
           2020,
           2020,
           2020
          ],
          "coloraxis": "coloraxis",
          "symbol": "circle"
         },
         "mode": "markers",
         "name": "",
         "orientation": "v",
         "showlegend": false,
         "type": "scatter",
         "x": [
          "Switzerland",
          "Iceland",
          "Denmark",
          "Norway",
          "Canada",
          "Finland",
          "Netherlands",
          "Sweden",
          "New Zealand",
          "Austria",
          "United States",
          "Luxembourg",
          "South Korea",
          "Russia",
          "Zambia",
          "Zimbabwe",
          "India",
          "Haiti",
          "Botswana",
          "Malawi",
          "Yemen",
          "Tanzania",
          "Afghanistan",
          "Rwanda",
          "Denmark",
          "Switzerland",
          "Iceland",
          "Norway",
          "Finland",
          "Canada",
          "Netherlands",
          "New Zealand",
          "Sweden",
          "Austria",
          "United States",
          "Luxembourg",
          "Russia",
          "South Korea",
          "Zambia",
          "India",
          "Zimbabwe",
          "Malawi",
          "Haiti",
          "Botswana",
          "Yemen",
          "Tanzania",
          "Rwanda",
          "Afghanistan",
          "Norway",
          "Denmark",
          "Iceland",
          "Switzerland",
          "Finland",
          "Netherlands",
          "Canada",
          "New Zealand",
          "Sweden",
          "Austria",
          "United States",
          "Luxembourg",
          "Russia",
          "South Korea",
          "Zambia",
          "India",
          "Malawi",
          "Zimbabwe",
          "Afghanistan",
          "Botswana",
          "Haiti",
          "Yemen",
          "Rwanda",
          "Tanzania",
          "Finland",
          "Norway",
          "Denmark",
          "Iceland",
          "Switzerland",
          "Netherlands",
          "Canada",
          "New Zealand",
          "Sweden",
          "Austria",
          "Luxembourg",
          "United States",
          "South Korea",
          "Russia",
          "Zambia",
          "India",
          "Zimbabwe",
          "Afghanistan",
          "Botswana",
          "Malawi",
          "Haiti",
          "Rwanda",
          "Yemen",
          "Tanzania",
          "Finland",
          "Denmark",
          "Norway",
          "Iceland",
          "Netherlands",
          "Switzerland",
          "Sweden",
          "New Zealand",
          "Canada",
          "Austria",
          "Luxembourg",
          "United States",
          "South Korea",
          "Russia",
          "Zambia",
          "India",
          "Zimbabwe",
          "Haiti",
          "Botswana",
          "Malawi",
          "Yemen",
          "Rwanda",
          "Tanzania",
          "Afghanistan",
          "Finland",
          "Denmark",
          "Switzerland",
          "Iceland",
          "Norway",
          "Netherlands",
          "Sweden",
          "New Zealand",
          "Austria",
          "Luxembourg",
          "Canada",
          "United States",
          "South Korea",
          "Russia",
          "Zambia",
          "Haiti",
          "India",
          "Malawi",
          "Yemen",
          "Botswana",
          "Tanzania",
          "Rwanda",
          "Zimbabwe",
          "Afghanistan"
         ],
         "xaxis": "x",
         "y": [
          1.34951,
          1.40223,
          1.36058,
          1.33095,
          1.32261,
          1.31826,
          1.28017,
          1.28907,
          1.31967,
          1.29704,
          1.24711,
          1.21963,
          0.95774,
          1.23617,
          0.91612,
          1.03276,
          0.38174,
          0.74302,
          1.10464,
          0.41134,
          0.68093,
          1.00268,
          0.30285,
          0.7737,
          1.16374,
          1.14524,
          1.18326,
          1.1269,
          1.13464,
          1.0961,
          1.02912,
          1.17278,
          1.08764,
          1.08383,
          1.04782,
          1.03999,
          1.05261,
          0.72194,
          0.6376,
          0.29247,
          0.71478,
          0.147,
          0.29561,
          0.89186,
          0.47493,
          0.77623,
          0.61586,
          0.11037,
          1.53352355957031,
          1.55112159252167,
          1.6105740070343,
          1.51691174507141,
          1.5402467250824,
          1.42893922328949,
          1.48134899139404,
          1.54819512367249,
          1.47816216945648,
          1.4599449634552,
          1.41992056369781,
          1.45758366584778,
          1.46928238868713,
          1.12827444076538,
          1.00318729877472,
          0.754372596740723,
          0.512568831443787,
          1.08309590816498,
          0.581543326377869,
          1.22155499458313,
          0.640449821949005,
          0.93538224697113,
          0.945707023143768,
          1.04198980331421,
          1.592,
          1.582,
          1.59,
          1.644,
          1.549,
          1.488,
          1.532,
          1.601,
          1.501,
          1.504,
          1.52,
          1.471,
          1.204,
          1.479,
          1.047,
          0.747,
          1.094,
          0.537,
          1.174,
          0.541,
          0.714,
          0.896,
          1.073,
          0.991,
          1.587,
          1.573,
          1.582,
          1.624,
          1.522,
          1.526,
          1.487,
          1.557,
          1.505,
          1.475,
          1.479,
          1.457,
          1.219,
          1.452,
          1.058,
          0.765,
          1.114,
          0.688,
          1.145,
          0.56,
          1.163,
          0.711,
          0.885,
          0.517,
          1.499525905,
          1.503449202,
          1.472403407,
          1.547567487,
          1.495172501,
          1.463645935,
          1.433347702,
          1.48721838,
          1.437444925,
          1.387528419,
          1.435391903,
          1.404786706,
          1.133560538,
          1.378644109,
          0.896037281,
          0.646671355,
          0.644198656,
          0.53036809,
          1.177477121,
          1.08569479,
          0.872674644,
          0.522876322,
          1.047835231,
          0.356433839
         ],
         "yaxis": "y"
        }
       ],
       "layout": {
        "coloraxis": {
         "colorbar": {
          "title": {
           "text": "year"
          }
         },
         "colorscale": [
          [
           0,
           "#0d0887"
          ],
          [
           0.1111111111111111,
           "#46039f"
          ],
          [
           0.2222222222222222,
           "#7201a8"
          ],
          [
           0.3333333333333333,
           "#9c179e"
          ],
          [
           0.4444444444444444,
           "#bd3786"
          ],
          [
           0.5555555555555556,
           "#d8576b"
          ],
          [
           0.6666666666666666,
           "#ed7953"
          ],
          [
           0.7777777777777778,
           "#fb9f3a"
          ],
          [
           0.8888888888888888,
           "#fdca26"
          ],
          [
           1,
           "#f0f921"
          ]
         ]
        },
        "legend": {
         "tracegroupgap": 0
        },
        "template": {
         "data": {
          "bar": [
           {
            "error_x": {
             "color": "#2a3f5f"
            },
            "error_y": {
             "color": "#2a3f5f"
            },
            "marker": {
             "line": {
              "color": "#E5ECF6",
              "width": 0.5
             }
            },
            "type": "bar"
           }
          ],
          "barpolar": [
           {
            "marker": {
             "line": {
              "color": "#E5ECF6",
              "width": 0.5
             }
            },
            "type": "barpolar"
           }
          ],
          "carpet": [
           {
            "aaxis": {
             "endlinecolor": "#2a3f5f",
             "gridcolor": "white",
             "linecolor": "white",
             "minorgridcolor": "white",
             "startlinecolor": "#2a3f5f"
            },
            "baxis": {
             "endlinecolor": "#2a3f5f",
             "gridcolor": "white",
             "linecolor": "white",
             "minorgridcolor": "white",
             "startlinecolor": "#2a3f5f"
            },
            "type": "carpet"
           }
          ],
          "choropleth": [
           {
            "colorbar": {
             "outlinewidth": 0,
             "ticks": ""
            },
            "type": "choropleth"
           }
          ],
          "contour": [
           {
            "colorbar": {
             "outlinewidth": 0,
             "ticks": ""
            },
            "colorscale": [
             [
              0,
              "#0d0887"
             ],
             [
              0.1111111111111111,
              "#46039f"
             ],
             [
              0.2222222222222222,
              "#7201a8"
             ],
             [
              0.3333333333333333,
              "#9c179e"
             ],
             [
              0.4444444444444444,
              "#bd3786"
             ],
             [
              0.5555555555555556,
              "#d8576b"
             ],
             [
              0.6666666666666666,
              "#ed7953"
             ],
             [
              0.7777777777777778,
              "#fb9f3a"
             ],
             [
              0.8888888888888888,
              "#fdca26"
             ],
             [
              1,
              "#f0f921"
             ]
            ],
            "type": "contour"
           }
          ],
          "contourcarpet": [
           {
            "colorbar": {
             "outlinewidth": 0,
             "ticks": ""
            },
            "type": "contourcarpet"
           }
          ],
          "heatmap": [
           {
            "colorbar": {
             "outlinewidth": 0,
             "ticks": ""
            },
            "colorscale": [
             [
              0,
              "#0d0887"
             ],
             [
              0.1111111111111111,
              "#46039f"
             ],
             [
              0.2222222222222222,
              "#7201a8"
             ],
             [
              0.3333333333333333,
              "#9c179e"
             ],
             [
              0.4444444444444444,
              "#bd3786"
             ],
             [
              0.5555555555555556,
              "#d8576b"
             ],
             [
              0.6666666666666666,
              "#ed7953"
             ],
             [
              0.7777777777777778,
              "#fb9f3a"
             ],
             [
              0.8888888888888888,
              "#fdca26"
             ],
             [
              1,
              "#f0f921"
             ]
            ],
            "type": "heatmap"
           }
          ],
          "heatmapgl": [
           {
            "colorbar": {
             "outlinewidth": 0,
             "ticks": ""
            },
            "colorscale": [
             [
              0,
              "#0d0887"
             ],
             [
              0.1111111111111111,
              "#46039f"
             ],
             [
              0.2222222222222222,
              "#7201a8"
             ],
             [
              0.3333333333333333,
              "#9c179e"
             ],
             [
              0.4444444444444444,
              "#bd3786"
             ],
             [
              0.5555555555555556,
              "#d8576b"
             ],
             [
              0.6666666666666666,
              "#ed7953"
             ],
             [
              0.7777777777777778,
              "#fb9f3a"
             ],
             [
              0.8888888888888888,
              "#fdca26"
             ],
             [
              1,
              "#f0f921"
             ]
            ],
            "type": "heatmapgl"
           }
          ],
          "histogram": [
           {
            "marker": {
             "colorbar": {
              "outlinewidth": 0,
              "ticks": ""
             }
            },
            "type": "histogram"
           }
          ],
          "histogram2d": [
           {
            "colorbar": {
             "outlinewidth": 0,
             "ticks": ""
            },
            "colorscale": [
             [
              0,
              "#0d0887"
             ],
             [
              0.1111111111111111,
              "#46039f"
             ],
             [
              0.2222222222222222,
              "#7201a8"
             ],
             [
              0.3333333333333333,
              "#9c179e"
             ],
             [
              0.4444444444444444,
              "#bd3786"
             ],
             [
              0.5555555555555556,
              "#d8576b"
             ],
             [
              0.6666666666666666,
              "#ed7953"
             ],
             [
              0.7777777777777778,
              "#fb9f3a"
             ],
             [
              0.8888888888888888,
              "#fdca26"
             ],
             [
              1,
              "#f0f921"
             ]
            ],
            "type": "histogram2d"
           }
          ],
          "histogram2dcontour": [
           {
            "colorbar": {
             "outlinewidth": 0,
             "ticks": ""
            },
            "colorscale": [
             [
              0,
              "#0d0887"
             ],
             [
              0.1111111111111111,
              "#46039f"
             ],
             [
              0.2222222222222222,
              "#7201a8"
             ],
             [
              0.3333333333333333,
              "#9c179e"
             ],
             [
              0.4444444444444444,
              "#bd3786"
             ],
             [
              0.5555555555555556,
              "#d8576b"
             ],
             [
              0.6666666666666666,
              "#ed7953"
             ],
             [
              0.7777777777777778,
              "#fb9f3a"
             ],
             [
              0.8888888888888888,
              "#fdca26"
             ],
             [
              1,
              "#f0f921"
             ]
            ],
            "type": "histogram2dcontour"
           }
          ],
          "mesh3d": [
           {
            "colorbar": {
             "outlinewidth": 0,
             "ticks": ""
            },
            "type": "mesh3d"
           }
          ],
          "parcoords": [
           {
            "line": {
             "colorbar": {
              "outlinewidth": 0,
              "ticks": ""
             }
            },
            "type": "parcoords"
           }
          ],
          "pie": [
           {
            "automargin": true,
            "type": "pie"
           }
          ],
          "scatter": [
           {
            "marker": {
             "colorbar": {
              "outlinewidth": 0,
              "ticks": ""
             }
            },
            "type": "scatter"
           }
          ],
          "scatter3d": [
           {
            "line": {
             "colorbar": {
              "outlinewidth": 0,
              "ticks": ""
             }
            },
            "marker": {
             "colorbar": {
              "outlinewidth": 0,
              "ticks": ""
             }
            },
            "type": "scatter3d"
           }
          ],
          "scattercarpet": [
           {
            "marker": {
             "colorbar": {
              "outlinewidth": 0,
              "ticks": ""
             }
            },
            "type": "scattercarpet"
           }
          ],
          "scattergeo": [
           {
            "marker": {
             "colorbar": {
              "outlinewidth": 0,
              "ticks": ""
             }
            },
            "type": "scattergeo"
           }
          ],
          "scattergl": [
           {
            "marker": {
             "colorbar": {
              "outlinewidth": 0,
              "ticks": ""
             }
            },
            "type": "scattergl"
           }
          ],
          "scattermapbox": [
           {
            "marker": {
             "colorbar": {
              "outlinewidth": 0,
              "ticks": ""
             }
            },
            "type": "scattermapbox"
           }
          ],
          "scatterpolar": [
           {
            "marker": {
             "colorbar": {
              "outlinewidth": 0,
              "ticks": ""
             }
            },
            "type": "scatterpolar"
           }
          ],
          "scatterpolargl": [
           {
            "marker": {
             "colorbar": {
              "outlinewidth": 0,
              "ticks": ""
             }
            },
            "type": "scatterpolargl"
           }
          ],
          "scatterternary": [
           {
            "marker": {
             "colorbar": {
              "outlinewidth": 0,
              "ticks": ""
             }
            },
            "type": "scatterternary"
           }
          ],
          "surface": [
           {
            "colorbar": {
             "outlinewidth": 0,
             "ticks": ""
            },
            "colorscale": [
             [
              0,
              "#0d0887"
             ],
             [
              0.1111111111111111,
              "#46039f"
             ],
             [
              0.2222222222222222,
              "#7201a8"
             ],
             [
              0.3333333333333333,
              "#9c179e"
             ],
             [
              0.4444444444444444,
              "#bd3786"
             ],
             [
              0.5555555555555556,
              "#d8576b"
             ],
             [
              0.6666666666666666,
              "#ed7953"
             ],
             [
              0.7777777777777778,
              "#fb9f3a"
             ],
             [
              0.8888888888888888,
              "#fdca26"
             ],
             [
              1,
              "#f0f921"
             ]
            ],
            "type": "surface"
           }
          ],
          "table": [
           {
            "cells": {
             "fill": {
              "color": "#EBF0F8"
             },
             "line": {
              "color": "white"
             }
            },
            "header": {
             "fill": {
              "color": "#C8D4E3"
             },
             "line": {
              "color": "white"
             }
            },
            "type": "table"
           }
          ]
         },
         "layout": {
          "annotationdefaults": {
           "arrowcolor": "#2a3f5f",
           "arrowhead": 0,
           "arrowwidth": 1
          },
          "autotypenumbers": "strict",
          "coloraxis": {
           "colorbar": {
            "outlinewidth": 0,
            "ticks": ""
           }
          },
          "colorscale": {
           "diverging": [
            [
             0,
             "#8e0152"
            ],
            [
             0.1,
             "#c51b7d"
            ],
            [
             0.2,
             "#de77ae"
            ],
            [
             0.3,
             "#f1b6da"
            ],
            [
             0.4,
             "#fde0ef"
            ],
            [
             0.5,
             "#f7f7f7"
            ],
            [
             0.6,
             "#e6f5d0"
            ],
            [
             0.7,
             "#b8e186"
            ],
            [
             0.8,
             "#7fbc41"
            ],
            [
             0.9,
             "#4d9221"
            ],
            [
             1,
             "#276419"
            ]
           ],
           "sequential": [
            [
             0,
             "#0d0887"
            ],
            [
             0.1111111111111111,
             "#46039f"
            ],
            [
             0.2222222222222222,
             "#7201a8"
            ],
            [
             0.3333333333333333,
             "#9c179e"
            ],
            [
             0.4444444444444444,
             "#bd3786"
            ],
            [
             0.5555555555555556,
             "#d8576b"
            ],
            [
             0.6666666666666666,
             "#ed7953"
            ],
            [
             0.7777777777777778,
             "#fb9f3a"
            ],
            [
             0.8888888888888888,
             "#fdca26"
            ],
            [
             1,
             "#f0f921"
            ]
           ],
           "sequentialminus": [
            [
             0,
             "#0d0887"
            ],
            [
             0.1111111111111111,
             "#46039f"
            ],
            [
             0.2222222222222222,
             "#7201a8"
            ],
            [
             0.3333333333333333,
             "#9c179e"
            ],
            [
             0.4444444444444444,
             "#bd3786"
            ],
            [
             0.5555555555555556,
             "#d8576b"
            ],
            [
             0.6666666666666666,
             "#ed7953"
            ],
            [
             0.7777777777777778,
             "#fb9f3a"
            ],
            [
             0.8888888888888888,
             "#fdca26"
            ],
            [
             1,
             "#f0f921"
            ]
           ]
          },
          "colorway": [
           "#636efa",
           "#EF553B",
           "#00cc96",
           "#ab63fa",
           "#FFA15A",
           "#19d3f3",
           "#FF6692",
           "#B6E880",
           "#FF97FF",
           "#FECB52"
          ],
          "font": {
           "color": "#2a3f5f"
          },
          "geo": {
           "bgcolor": "white",
           "lakecolor": "white",
           "landcolor": "#E5ECF6",
           "showlakes": true,
           "showland": true,
           "subunitcolor": "white"
          },
          "hoverlabel": {
           "align": "left"
          },
          "hovermode": "closest",
          "mapbox": {
           "style": "light"
          },
          "paper_bgcolor": "white",
          "plot_bgcolor": "#E5ECF6",
          "polar": {
           "angularaxis": {
            "gridcolor": "white",
            "linecolor": "white",
            "ticks": ""
           },
           "bgcolor": "#E5ECF6",
           "radialaxis": {
            "gridcolor": "white",
            "linecolor": "white",
            "ticks": ""
           }
          },
          "scene": {
           "xaxis": {
            "backgroundcolor": "#E5ECF6",
            "gridcolor": "white",
            "gridwidth": 2,
            "linecolor": "white",
            "showbackground": true,
            "ticks": "",
            "zerolinecolor": "white"
           },
           "yaxis": {
            "backgroundcolor": "#E5ECF6",
            "gridcolor": "white",
            "gridwidth": 2,
            "linecolor": "white",
            "showbackground": true,
            "ticks": "",
            "zerolinecolor": "white"
           },
           "zaxis": {
            "backgroundcolor": "#E5ECF6",
            "gridcolor": "white",
            "gridwidth": 2,
            "linecolor": "white",
            "showbackground": true,
            "ticks": "",
            "zerolinecolor": "white"
           }
          },
          "shapedefaults": {
           "line": {
            "color": "#2a3f5f"
           }
          },
          "ternary": {
           "aaxis": {
            "gridcolor": "white",
            "linecolor": "white",
            "ticks": ""
           },
           "baxis": {
            "gridcolor": "white",
            "linecolor": "white",
            "ticks": ""
           },
           "bgcolor": "#E5ECF6",
           "caxis": {
            "gridcolor": "white",
            "linecolor": "white",
            "ticks": ""
           }
          },
          "title": {
           "x": 0.05
          },
          "xaxis": {
           "automargin": true,
           "gridcolor": "white",
           "linecolor": "white",
           "ticks": "",
           "title": {
            "standoff": 15
           },
           "zerolinecolor": "white",
           "zerolinewidth": 2
          },
          "yaxis": {
           "automargin": true,
           "gridcolor": "white",
           "linecolor": "white",
           "ticks": "",
           "title": {
            "standoff": 15
           },
           "zerolinecolor": "white",
           "zerolinewidth": 2
          }
         }
        },
        "title": {
         "text": "Social support by year"
        },
        "xaxis": {
         "anchor": "y",
         "domain": [
          0,
          1
         ],
         "title": {
          "text": "Country or region"
         }
        },
        "yaxis": {
         "anchor": "x",
         "domain": [
          0,
          1
         ],
         "title": {
          "text": "Social support"
         }
        }
       }
      },
      "text/html": [
       "<div>                            <div id=\"7c6e6535-485f-4880-a67b-aa81d4bf5359\" class=\"plotly-graph-div\" style=\"height:525px; width:100%;\"></div>            <script type=\"text/javascript\">                require([\"plotly\"], function(Plotly) {                    window.PLOTLYENV=window.PLOTLYENV || {};                                    if (document.getElementById(\"7c6e6535-485f-4880-a67b-aa81d4bf5359\")) {                    Plotly.newPlot(                        \"7c6e6535-485f-4880-a67b-aa81d4bf5359\",                        [{\"hovertemplate\": \"Country or region=%{x}<br>Social support=%{y}<br>year=%{marker.color}<extra></extra>\", \"legendgroup\": \"\", \"marker\": {\"color\": [2015, 2015, 2015, 2015, 2015, 2015, 2015, 2015, 2015, 2015, 2015, 2015, 2015, 2015, 2015, 2015, 2015, 2015, 2015, 2015, 2015, 2015, 2015, 2015, 2016, 2016, 2016, 2016, 2016, 2016, 2016, 2016, 2016, 2016, 2016, 2016, 2016, 2016, 2016, 2016, 2016, 2016, 2016, 2016, 2016, 2016, 2016, 2016, 2017, 2017, 2017, 2017, 2017, 2017, 2017, 2017, 2017, 2017, 2017, 2017, 2017, 2017, 2017, 2017, 2017, 2017, 2017, 2017, 2017, 2017, 2017, 2017, 2018, 2018, 2018, 2018, 2018, 2018, 2018, 2018, 2018, 2018, 2018, 2018, 2018, 2018, 2018, 2018, 2018, 2018, 2018, 2018, 2018, 2018, 2018, 2018, 2019, 2019, 2019, 2019, 2019, 2019, 2019, 2019, 2019, 2019, 2019, 2019, 2019, 2019, 2019, 2019, 2019, 2019, 2019, 2019, 2019, 2019, 2019, 2019, 2020, 2020, 2020, 2020, 2020, 2020, 2020, 2020, 2020, 2020, 2020, 2020, 2020, 2020, 2020, 2020, 2020, 2020, 2020, 2020, 2020, 2020, 2020, 2020], \"coloraxis\": \"coloraxis\", \"symbol\": \"circle\"}, \"mode\": \"markers\", \"name\": \"\", \"orientation\": \"v\", \"showlegend\": false, \"type\": \"scatter\", \"x\": [\"Switzerland\", \"Iceland\", \"Denmark\", \"Norway\", \"Canada\", \"Finland\", \"Netherlands\", \"Sweden\", \"New Zealand\", \"Austria\", \"United States\", \"Luxembourg\", \"South Korea\", \"Russia\", \"Zambia\", \"Zimbabwe\", \"India\", \"Haiti\", \"Botswana\", \"Malawi\", \"Yemen\", \"Tanzania\", \"Afghanistan\", \"Rwanda\", \"Denmark\", \"Switzerland\", \"Iceland\", \"Norway\", \"Finland\", \"Canada\", \"Netherlands\", \"New Zealand\", \"Sweden\", \"Austria\", \"United States\", \"Luxembourg\", \"Russia\", \"South Korea\", \"Zambia\", \"India\", \"Zimbabwe\", \"Malawi\", \"Haiti\", \"Botswana\", \"Yemen\", \"Tanzania\", \"Rwanda\", \"Afghanistan\", \"Norway\", \"Denmark\", \"Iceland\", \"Switzerland\", \"Finland\", \"Netherlands\", \"Canada\", \"New Zealand\", \"Sweden\", \"Austria\", \"United States\", \"Luxembourg\", \"Russia\", \"South Korea\", \"Zambia\", \"India\", \"Malawi\", \"Zimbabwe\", \"Afghanistan\", \"Botswana\", \"Haiti\", \"Yemen\", \"Rwanda\", \"Tanzania\", \"Finland\", \"Norway\", \"Denmark\", \"Iceland\", \"Switzerland\", \"Netherlands\", \"Canada\", \"New Zealand\", \"Sweden\", \"Austria\", \"Luxembourg\", \"United States\", \"South Korea\", \"Russia\", \"Zambia\", \"India\", \"Zimbabwe\", \"Afghanistan\", \"Botswana\", \"Malawi\", \"Haiti\", \"Rwanda\", \"Yemen\", \"Tanzania\", \"Finland\", \"Denmark\", \"Norway\", \"Iceland\", \"Netherlands\", \"Switzerland\", \"Sweden\", \"New Zealand\", \"Canada\", \"Austria\", \"Luxembourg\", \"United States\", \"South Korea\", \"Russia\", \"Zambia\", \"India\", \"Zimbabwe\", \"Haiti\", \"Botswana\", \"Malawi\", \"Yemen\", \"Rwanda\", \"Tanzania\", \"Afghanistan\", \"Finland\", \"Denmark\", \"Switzerland\", \"Iceland\", \"Norway\", \"Netherlands\", \"Sweden\", \"New Zealand\", \"Austria\", \"Luxembourg\", \"Canada\", \"United States\", \"South Korea\", \"Russia\", \"Zambia\", \"Haiti\", \"India\", \"Malawi\", \"Yemen\", \"Botswana\", \"Tanzania\", \"Rwanda\", \"Zimbabwe\", \"Afghanistan\"], \"xaxis\": \"x\", \"y\": [1.34951, 1.40223, 1.36058, 1.33095, 1.32261, 1.31826, 1.28017, 1.28907, 1.31967, 1.29704, 1.24711, 1.21963, 0.95774, 1.23617, 0.91612, 1.03276, 0.38174, 0.74302, 1.10464, 0.41134, 0.68093, 1.00268, 0.30285, 0.7737, 1.16374, 1.14524, 1.18326, 1.1269, 1.13464, 1.0961, 1.02912, 1.17278, 1.08764, 1.08383, 1.04782, 1.03999, 1.05261, 0.72194, 0.6376, 0.29247, 0.71478, 0.147, 0.29561, 0.89186, 0.47493, 0.77623, 0.61586, 0.11037, 1.53352355957031, 1.55112159252167, 1.6105740070343, 1.51691174507141, 1.5402467250824, 1.42893922328949, 1.48134899139404, 1.54819512367249, 1.47816216945648, 1.4599449634552, 1.41992056369781, 1.45758366584778, 1.46928238868713, 1.12827444076538, 1.00318729877472, 0.754372596740723, 0.512568831443787, 1.08309590816498, 0.581543326377869, 1.22155499458313, 0.640449821949005, 0.93538224697113, 0.945707023143768, 1.04198980331421, 1.592, 1.582, 1.59, 1.644, 1.549, 1.488, 1.532, 1.601, 1.501, 1.504, 1.52, 1.471, 1.204, 1.479, 1.047, 0.747, 1.094, 0.537, 1.174, 0.541, 0.714, 0.896, 1.073, 0.991, 1.587, 1.573, 1.582, 1.624, 1.522, 1.526, 1.487, 1.557, 1.505, 1.475, 1.479, 1.457, 1.219, 1.452, 1.058, 0.765, 1.114, 0.688, 1.145, 0.56, 1.163, 0.711, 0.885, 0.517, 1.499525905, 1.503449202, 1.472403407, 1.547567487, 1.495172501, 1.463645935, 1.433347702, 1.48721838, 1.437444925, 1.387528419, 1.435391903, 1.404786706, 1.133560538, 1.378644109, 0.896037281, 0.646671355, 0.644198656, 0.53036809, 1.177477121, 1.08569479, 0.872674644, 0.522876322, 1.047835231, 0.356433839], \"yaxis\": \"y\"}],                        {\"coloraxis\": {\"colorbar\": {\"title\": {\"text\": \"year\"}}, \"colorscale\": [[0.0, \"#0d0887\"], [0.1111111111111111, \"#46039f\"], [0.2222222222222222, \"#7201a8\"], [0.3333333333333333, \"#9c179e\"], [0.4444444444444444, \"#bd3786\"], [0.5555555555555556, \"#d8576b\"], [0.6666666666666666, \"#ed7953\"], [0.7777777777777778, \"#fb9f3a\"], [0.8888888888888888, \"#fdca26\"], [1.0, \"#f0f921\"]]}, \"legend\": {\"tracegroupgap\": 0}, \"template\": {\"data\": {\"bar\": [{\"error_x\": {\"color\": \"#2a3f5f\"}, \"error_y\": {\"color\": \"#2a3f5f\"}, \"marker\": {\"line\": {\"color\": \"#E5ECF6\", \"width\": 0.5}}, \"type\": \"bar\"}], \"barpolar\": [{\"marker\": {\"line\": {\"color\": \"#E5ECF6\", \"width\": 0.5}}, \"type\": \"barpolar\"}], \"carpet\": [{\"aaxis\": {\"endlinecolor\": \"#2a3f5f\", \"gridcolor\": \"white\", \"linecolor\": \"white\", \"minorgridcolor\": \"white\", \"startlinecolor\": \"#2a3f5f\"}, \"baxis\": {\"endlinecolor\": \"#2a3f5f\", \"gridcolor\": \"white\", \"linecolor\": \"white\", \"minorgridcolor\": \"white\", \"startlinecolor\": \"#2a3f5f\"}, \"type\": \"carpet\"}], \"choropleth\": [{\"colorbar\": {\"outlinewidth\": 0, \"ticks\": \"\"}, \"type\": \"choropleth\"}], \"contour\": [{\"colorbar\": {\"outlinewidth\": 0, \"ticks\": \"\"}, \"colorscale\": [[0.0, \"#0d0887\"], [0.1111111111111111, \"#46039f\"], [0.2222222222222222, \"#7201a8\"], [0.3333333333333333, \"#9c179e\"], [0.4444444444444444, \"#bd3786\"], [0.5555555555555556, \"#d8576b\"], [0.6666666666666666, \"#ed7953\"], [0.7777777777777778, \"#fb9f3a\"], [0.8888888888888888, \"#fdca26\"], [1.0, \"#f0f921\"]], \"type\": \"contour\"}], \"contourcarpet\": [{\"colorbar\": {\"outlinewidth\": 0, \"ticks\": \"\"}, \"type\": \"contourcarpet\"}], \"heatmap\": [{\"colorbar\": {\"outlinewidth\": 0, \"ticks\": \"\"}, \"colorscale\": [[0.0, \"#0d0887\"], [0.1111111111111111, \"#46039f\"], [0.2222222222222222, \"#7201a8\"], [0.3333333333333333, \"#9c179e\"], [0.4444444444444444, \"#bd3786\"], [0.5555555555555556, \"#d8576b\"], [0.6666666666666666, \"#ed7953\"], [0.7777777777777778, \"#fb9f3a\"], [0.8888888888888888, \"#fdca26\"], [1.0, \"#f0f921\"]], \"type\": \"heatmap\"}], \"heatmapgl\": [{\"colorbar\": {\"outlinewidth\": 0, \"ticks\": \"\"}, \"colorscale\": [[0.0, \"#0d0887\"], [0.1111111111111111, \"#46039f\"], [0.2222222222222222, \"#7201a8\"], [0.3333333333333333, \"#9c179e\"], [0.4444444444444444, \"#bd3786\"], [0.5555555555555556, \"#d8576b\"], [0.6666666666666666, \"#ed7953\"], [0.7777777777777778, \"#fb9f3a\"], [0.8888888888888888, \"#fdca26\"], [1.0, \"#f0f921\"]], \"type\": \"heatmapgl\"}], \"histogram\": [{\"marker\": {\"colorbar\": {\"outlinewidth\": 0, \"ticks\": \"\"}}, \"type\": \"histogram\"}], \"histogram2d\": [{\"colorbar\": {\"outlinewidth\": 0, \"ticks\": \"\"}, \"colorscale\": [[0.0, \"#0d0887\"], [0.1111111111111111, \"#46039f\"], [0.2222222222222222, \"#7201a8\"], [0.3333333333333333, \"#9c179e\"], [0.4444444444444444, \"#bd3786\"], [0.5555555555555556, \"#d8576b\"], [0.6666666666666666, \"#ed7953\"], [0.7777777777777778, \"#fb9f3a\"], [0.8888888888888888, \"#fdca26\"], [1.0, \"#f0f921\"]], \"type\": \"histogram2d\"}], \"histogram2dcontour\": [{\"colorbar\": {\"outlinewidth\": 0, \"ticks\": \"\"}, \"colorscale\": [[0.0, \"#0d0887\"], [0.1111111111111111, \"#46039f\"], [0.2222222222222222, \"#7201a8\"], [0.3333333333333333, \"#9c179e\"], [0.4444444444444444, \"#bd3786\"], [0.5555555555555556, \"#d8576b\"], [0.6666666666666666, \"#ed7953\"], [0.7777777777777778, \"#fb9f3a\"], [0.8888888888888888, \"#fdca26\"], [1.0, \"#f0f921\"]], \"type\": \"histogram2dcontour\"}], \"mesh3d\": [{\"colorbar\": {\"outlinewidth\": 0, \"ticks\": \"\"}, \"type\": \"mesh3d\"}], \"parcoords\": [{\"line\": {\"colorbar\": {\"outlinewidth\": 0, \"ticks\": \"\"}}, \"type\": \"parcoords\"}], \"pie\": [{\"automargin\": true, \"type\": \"pie\"}], \"scatter\": [{\"marker\": {\"colorbar\": {\"outlinewidth\": 0, \"ticks\": \"\"}}, \"type\": \"scatter\"}], \"scatter3d\": [{\"line\": {\"colorbar\": {\"outlinewidth\": 0, \"ticks\": \"\"}}, \"marker\": {\"colorbar\": {\"outlinewidth\": 0, \"ticks\": \"\"}}, \"type\": \"scatter3d\"}], \"scattercarpet\": [{\"marker\": {\"colorbar\": {\"outlinewidth\": 0, \"ticks\": \"\"}}, \"type\": \"scattercarpet\"}], \"scattergeo\": [{\"marker\": {\"colorbar\": {\"outlinewidth\": 0, \"ticks\": \"\"}}, \"type\": \"scattergeo\"}], \"scattergl\": [{\"marker\": {\"colorbar\": {\"outlinewidth\": 0, \"ticks\": \"\"}}, \"type\": \"scattergl\"}], \"scattermapbox\": [{\"marker\": {\"colorbar\": {\"outlinewidth\": 0, \"ticks\": \"\"}}, \"type\": \"scattermapbox\"}], \"scatterpolar\": [{\"marker\": {\"colorbar\": {\"outlinewidth\": 0, \"ticks\": \"\"}}, \"type\": \"scatterpolar\"}], \"scatterpolargl\": [{\"marker\": {\"colorbar\": {\"outlinewidth\": 0, \"ticks\": \"\"}}, \"type\": \"scatterpolargl\"}], \"scatterternary\": [{\"marker\": {\"colorbar\": {\"outlinewidth\": 0, \"ticks\": \"\"}}, \"type\": \"scatterternary\"}], \"surface\": [{\"colorbar\": {\"outlinewidth\": 0, \"ticks\": \"\"}, \"colorscale\": [[0.0, \"#0d0887\"], [0.1111111111111111, \"#46039f\"], [0.2222222222222222, \"#7201a8\"], [0.3333333333333333, \"#9c179e\"], [0.4444444444444444, \"#bd3786\"], [0.5555555555555556, \"#d8576b\"], [0.6666666666666666, \"#ed7953\"], [0.7777777777777778, \"#fb9f3a\"], [0.8888888888888888, \"#fdca26\"], [1.0, \"#f0f921\"]], \"type\": \"surface\"}], \"table\": [{\"cells\": {\"fill\": {\"color\": \"#EBF0F8\"}, \"line\": {\"color\": \"white\"}}, \"header\": {\"fill\": {\"color\": \"#C8D4E3\"}, \"line\": {\"color\": \"white\"}}, \"type\": \"table\"}]}, \"layout\": {\"annotationdefaults\": {\"arrowcolor\": \"#2a3f5f\", \"arrowhead\": 0, \"arrowwidth\": 1}, \"autotypenumbers\": \"strict\", \"coloraxis\": {\"colorbar\": {\"outlinewidth\": 0, \"ticks\": \"\"}}, \"colorscale\": {\"diverging\": [[0, \"#8e0152\"], [0.1, \"#c51b7d\"], [0.2, \"#de77ae\"], [0.3, \"#f1b6da\"], [0.4, \"#fde0ef\"], [0.5, \"#f7f7f7\"], [0.6, \"#e6f5d0\"], [0.7, \"#b8e186\"], [0.8, \"#7fbc41\"], [0.9, \"#4d9221\"], [1, \"#276419\"]], \"sequential\": [[0.0, \"#0d0887\"], [0.1111111111111111, \"#46039f\"], [0.2222222222222222, \"#7201a8\"], [0.3333333333333333, \"#9c179e\"], [0.4444444444444444, \"#bd3786\"], [0.5555555555555556, \"#d8576b\"], [0.6666666666666666, \"#ed7953\"], [0.7777777777777778, \"#fb9f3a\"], [0.8888888888888888, \"#fdca26\"], [1.0, \"#f0f921\"]], \"sequentialminus\": [[0.0, \"#0d0887\"], [0.1111111111111111, \"#46039f\"], [0.2222222222222222, \"#7201a8\"], [0.3333333333333333, \"#9c179e\"], [0.4444444444444444, \"#bd3786\"], [0.5555555555555556, \"#d8576b\"], [0.6666666666666666, \"#ed7953\"], [0.7777777777777778, \"#fb9f3a\"], [0.8888888888888888, \"#fdca26\"], [1.0, \"#f0f921\"]]}, \"colorway\": [\"#636efa\", \"#EF553B\", \"#00cc96\", \"#ab63fa\", \"#FFA15A\", \"#19d3f3\", \"#FF6692\", \"#B6E880\", \"#FF97FF\", \"#FECB52\"], \"font\": {\"color\": \"#2a3f5f\"}, \"geo\": {\"bgcolor\": \"white\", \"lakecolor\": \"white\", \"landcolor\": \"#E5ECF6\", \"showlakes\": true, \"showland\": true, \"subunitcolor\": \"white\"}, \"hoverlabel\": {\"align\": \"left\"}, \"hovermode\": \"closest\", \"mapbox\": {\"style\": \"light\"}, \"paper_bgcolor\": \"white\", \"plot_bgcolor\": \"#E5ECF6\", \"polar\": {\"angularaxis\": {\"gridcolor\": \"white\", \"linecolor\": \"white\", \"ticks\": \"\"}, \"bgcolor\": \"#E5ECF6\", \"radialaxis\": {\"gridcolor\": \"white\", \"linecolor\": \"white\", \"ticks\": \"\"}}, \"scene\": {\"xaxis\": {\"backgroundcolor\": \"#E5ECF6\", \"gridcolor\": \"white\", \"gridwidth\": 2, \"linecolor\": \"white\", \"showbackground\": true, \"ticks\": \"\", \"zerolinecolor\": \"white\"}, \"yaxis\": {\"backgroundcolor\": \"#E5ECF6\", \"gridcolor\": \"white\", \"gridwidth\": 2, \"linecolor\": \"white\", \"showbackground\": true, \"ticks\": \"\", \"zerolinecolor\": \"white\"}, \"zaxis\": {\"backgroundcolor\": \"#E5ECF6\", \"gridcolor\": \"white\", \"gridwidth\": 2, \"linecolor\": \"white\", \"showbackground\": true, \"ticks\": \"\", \"zerolinecolor\": \"white\"}}, \"shapedefaults\": {\"line\": {\"color\": \"#2a3f5f\"}}, \"ternary\": {\"aaxis\": {\"gridcolor\": \"white\", \"linecolor\": \"white\", \"ticks\": \"\"}, \"baxis\": {\"gridcolor\": \"white\", \"linecolor\": \"white\", \"ticks\": \"\"}, \"bgcolor\": \"#E5ECF6\", \"caxis\": {\"gridcolor\": \"white\", \"linecolor\": \"white\", \"ticks\": \"\"}}, \"title\": {\"x\": 0.05}, \"xaxis\": {\"automargin\": true, \"gridcolor\": \"white\", \"linecolor\": \"white\", \"ticks\": \"\", \"title\": {\"standoff\": 15}, \"zerolinecolor\": \"white\", \"zerolinewidth\": 2}, \"yaxis\": {\"automargin\": true, \"gridcolor\": \"white\", \"linecolor\": \"white\", \"ticks\": \"\", \"title\": {\"standoff\": 15}, \"zerolinecolor\": \"white\", \"zerolinewidth\": 2}}}, \"title\": {\"text\": \"Social support by year\"}, \"xaxis\": {\"anchor\": \"y\", \"domain\": [0.0, 1.0], \"title\": {\"text\": \"Country or region\"}}, \"yaxis\": {\"anchor\": \"x\", \"domain\": [0.0, 1.0], \"title\": {\"text\": \"Social support\"}}},                        {\"responsive\": true}                    ).then(function(){\n",
       "                            \n",
       "var gd = document.getElementById('7c6e6535-485f-4880-a67b-aa81d4bf5359');\n",
       "var x = new MutationObserver(function (mutations, observer) {{\n",
       "        var display = window.getComputedStyle(gd).display;\n",
       "        if (!display || display === 'none') {{\n",
       "            console.log([gd, 'removed!']);\n",
       "            Plotly.purge(gd);\n",
       "            observer.disconnect();\n",
       "        }}\n",
       "}});\n",
       "\n",
       "// Listen for the removal of the full notebook cells\n",
       "var notebookContainer = gd.closest('#notebook-container');\n",
       "if (notebookContainer) {{\n",
       "    x.observe(notebookContainer, {childList: true});\n",
       "}}\n",
       "\n",
       "// Listen for the clearing of the current output cell\n",
       "var outputEl = gd.closest('.output');\n",
       "if (outputEl) {{\n",
       "    x.observe(outputEl, {childList: true});\n",
       "}}\n",
       "\n",
       "                        })                };                });            </script>        </div>"
      ]
     },
     "metadata": {},
     "output_type": "display_data"
    }
   ],
   "source": [
    "plot_scatter('Social support')"
   ]
  },
  {
   "cell_type": "code",
   "execution_count": 2174,
   "id": "distinct-virus",
   "metadata": {},
   "outputs": [],
   "source": [
    "train_y = df_all['Social support'].to_numpy()\n",
    "train_x = df_all.drop(columns=['Social support']).iloc[:, 4:]\n",
    "test_y = df2019['Social support'].to_numpy()\n",
    "test_x = df2019.drop(columns=['Social support']).iloc[:, 4:]\n",
    "scaler = StandardScaler()\n",
    "train_x = scaler.fit_transform(train_x)\n",
    "test_x = scaler.transform(test_x)"
   ]
  },
  {
   "cell_type": "code",
   "execution_count": 2175,
   "id": "binding-validation",
   "metadata": {},
   "outputs": [],
   "source": [
    "lr = LinearRegression()\n",
    "lr.fit(train_x, train_y)\n",
    "hyp_ss = lr.predict(test_x)"
   ]
  },
  {
   "cell_type": "code",
   "execution_count": 2176,
   "id": "present-truck",
   "metadata": {},
   "outputs": [
    {
     "name": "stdout",
     "output_type": "stream",
     "text": [
      "R2 score...          \t 0.07647775334872542\n",
      "Variance explained...\t 0.4056861057111397\n",
      "Mean squared error...\t 0.06989547116883021\n"
     ]
    }
   ],
   "source": [
    "r2 = r2_score(test_y, hyp_ss)\n",
    "var = explained_variance_score(test_y, hyp_ss)\n",
    "mse = mean_squared_error(test_y, hyp_ss)\n",
    "print('R2 score...          \\t', r2)\n",
    "print('Variance explained...\\t', var)\n",
    "print('Mean squared error...\\t', mse)"
   ]
  },
  {
   "cell_type": "markdown",
   "id": "molecular-tribute",
   "metadata": {},
   "source": [
    "### Freedom to make life choices"
   ]
  },
  {
   "cell_type": "code",
   "execution_count": 2177,
   "id": "norman-interpretation",
   "metadata": {},
   "outputs": [
    {
     "data": {
      "application/vnd.plotly.v1+json": {
       "config": {
        "plotlyServerURL": "https://plot.ly"
       },
       "data": [
        {
         "hovertemplate": "Country or region=Switzerland<br>year=%{x}<br>Freedom=%{y}<extra></extra>",
         "legendgroup": "Switzerland",
         "line": {
          "color": "#636efa",
          "dash": "solid"
         },
         "mode": "lines",
         "name": "Switzerland",
         "orientation": "v",
         "showlegend": true,
         "type": "scatter",
         "x": [
          2015,
          2016,
          2017,
          2018,
          2019,
          2020
         ],
         "xaxis": "x",
         "y": [
          0.66557,
          0.58557,
          0.620070576667786,
          0.66,
          0.572,
          0.62895447
         ],
         "yaxis": "y"
        },
        {
         "hovertemplate": "Country or region=Iceland<br>year=%{x}<br>Freedom=%{y}<extra></extra>",
         "legendgroup": "Iceland",
         "line": {
          "color": "#EF553B",
          "dash": "solid"
         },
         "mode": "lines",
         "name": "Iceland",
         "orientation": "v",
         "showlegend": true,
         "type": "scatter",
         "x": [
          2015,
          2016,
          2017,
          2018,
          2019,
          2020
         ],
         "xaxis": "x",
         "y": [
          0.62877,
          0.56624,
          0.627162635326385,
          0.677,
          0.591,
          0.661980748
         ],
         "yaxis": "y"
        },
        {
         "hovertemplate": "Country or region=Denmark<br>year=%{x}<br>Freedom=%{y}<extra></extra>",
         "legendgroup": "Denmark",
         "line": {
          "color": "#00cc96",
          "dash": "solid"
         },
         "mode": "lines",
         "name": "Denmark",
         "orientation": "v",
         "showlegend": true,
         "type": "scatter",
         "x": [
          2015,
          2016,
          2017,
          2018,
          2019,
          2020
         ],
         "xaxis": "x",
         "y": [
          0.64938,
          0.57941,
          0.626006722450256,
          0.683,
          0.592,
          0.665039897
         ],
         "yaxis": "y"
        },
        {
         "hovertemplate": "Country or region=Norway<br>year=%{x}<br>Freedom=%{y}<extra></extra>",
         "legendgroup": "Norway",
         "line": {
          "color": "#ab63fa",
          "dash": "solid"
         },
         "mode": "lines",
         "name": "Norway",
         "orientation": "v",
         "showlegend": true,
         "type": "scatter",
         "x": [
          2015,
          2016,
          2017,
          2018,
          2019,
          2020
         ],
         "xaxis": "x",
         "y": [
          0.66973,
          0.59609,
          0.635422587394714,
          0.686,
          0.603,
          0.670200884
         ],
         "yaxis": "y"
        },
        {
         "hovertemplate": "Country or region=Canada<br>year=%{x}<br>Freedom=%{y}<extra></extra>",
         "legendgroup": "Canada",
         "line": {
          "color": "#FFA15A",
          "dash": "solid"
         },
         "mode": "lines",
         "name": "Canada",
         "orientation": "v",
         "showlegend": true,
         "type": "scatter",
         "x": [
          2015,
          2016,
          2017,
          2018,
          2019,
          2020
         ],
         "xaxis": "x",
         "y": [
          0.63297,
          0.5737,
          0.611100912094116,
          0.653,
          0.584,
          0.644028127
         ],
         "yaxis": "y"
        },
        {
         "hovertemplate": "Country or region=Finland<br>year=%{x}<br>Freedom=%{y}<extra></extra>",
         "legendgroup": "Finland",
         "line": {
          "color": "#19d3f3",
          "dash": "solid"
         },
         "mode": "lines",
         "name": "Finland",
         "orientation": "v",
         "showlegend": true,
         "type": "scatter",
         "x": [
          2015,
          2016,
          2017,
          2018,
          2019,
          2020
         ],
         "xaxis": "x",
         "y": [
          0.64169,
          0.57104,
          0.617950856685638,
          0.681,
          0.596,
          0.66231674
         ],
         "yaxis": "y"
        },
        {
         "hovertemplate": "Country or region=Netherlands<br>year=%{x}<br>Freedom=%{y}<extra></extra>",
         "legendgroup": "Netherlands",
         "line": {
          "color": "#FF6692",
          "dash": "solid"
         },
         "mode": "lines",
         "name": "Netherlands",
         "orientation": "v",
         "showlegend": true,
         "type": "scatter",
         "x": [
          2015,
          2016,
          2017,
          2018,
          2019,
          2020
         ],
         "xaxis": "x",
         "y": [
          0.61576,
          0.55211,
          0.585384488105774,
          0.638,
          0.557,
          0.61362648
         ],
         "yaxis": "y"
        },
        {
         "hovertemplate": "Country or region=Sweden<br>year=%{x}<br>Freedom=%{y}<extra></extra>",
         "legendgroup": "Sweden",
         "line": {
          "color": "#B6E880",
          "dash": "solid"
         },
         "mode": "lines",
         "name": "Sweden",
         "orientation": "v",
         "showlegend": true,
         "type": "scatter",
         "x": [
          2015,
          2016,
          2017,
          2018,
          2019,
          2020
         ],
         "xaxis": "x",
         "y": [
          0.6598,
          0.58218,
          0.612924098968506,
          0.659,
          0.574,
          0.650297701
         ],
         "yaxis": "y"
        },
        {
         "hovertemplate": "Country or region=New Zealand<br>year=%{x}<br>Freedom=%{y}<extra></extra>",
         "legendgroup": "New Zealand",
         "line": {
          "color": "#FF97FF",
          "dash": "solid"
         },
         "mode": "lines",
         "name": "New Zealand",
         "orientation": "v",
         "showlegend": true,
         "type": "scatter",
         "x": [
          2015,
          2016,
          2017,
          2018,
          2019,
          2020
         ],
         "xaxis": "x",
         "y": [
          0.63938,
          0.58147,
          0.614062130451202,
          0.669,
          0.585,
          0.646789908
         ],
         "yaxis": "y"
        },
        {
         "hovertemplate": "Country or region=Austria<br>year=%{x}<br>Freedom=%{y}<extra></extra>",
         "legendgroup": "Austria",
         "line": {
          "color": "#FECB52",
          "dash": "solid"
         },
         "mode": "lines",
         "name": "Austria",
         "orientation": "v",
         "showlegend": true,
         "type": "scatter",
         "x": [
          2015,
          2016,
          2017,
          2018,
          2019,
          2020
         ],
         "xaxis": "x",
         "y": [
          0.62433,
          0.54355,
          0.567766189575195,
          0.617,
          0.532,
          0.603368878
         ],
         "yaxis": "y"
        },
        {
         "hovertemplate": "Country or region=United States<br>year=%{x}<br>Freedom=%{y}<extra></extra>",
         "legendgroup": "United States",
         "line": {
          "color": "#636efa",
          "dash": "solid"
         },
         "mode": "lines",
         "name": "United States",
         "orientation": "v",
         "showlegend": true,
         "type": "scatter",
         "x": [
          2015,
          2016,
          2017,
          2018,
          2019,
          2020
         ],
         "xaxis": "x",
         "y": [
          0.54604,
          0.48163,
          0.505740523338318,
          0.547,
          0.454,
          0.534608245
         ],
         "yaxis": "y"
        },
        {
         "hovertemplate": "Country or region=Luxembourg<br>year=%{x}<br>Freedom=%{y}<extra></extra>",
         "legendgroup": "Luxembourg",
         "line": {
          "color": "#EF553B",
          "dash": "solid"
         },
         "mode": "lines",
         "name": "Luxembourg",
         "orientation": "v",
         "showlegend": true,
         "type": "scatter",
         "x": [
          2015,
          2016,
          2017,
          2018,
          2019,
          2020
         ],
         "xaxis": "x",
         "y": [
          0.61583,
          0.5487,
          0.59662789106369,
          0.632,
          0.526,
          0.610137045
         ],
         "yaxis": "y"
        },
        {
         "hovertemplate": "Country or region=South Korea<br>year=%{x}<br>Freedom=%{y}<extra></extra>",
         "legendgroup": "South Korea",
         "line": {
          "color": "#00cc96",
          "dash": "solid"
         },
         "mode": "lines",
         "name": "South Korea",
         "orientation": "v",
         "showlegend": true,
         "type": "scatter",
         "x": [
          2015,
          2016,
          2017,
          2018,
          2019,
          2020
         ],
         "xaxis": "x",
         "y": [
          0.33208,
          0.25168,
          0.257921665906906,
          0.244,
          0.159,
          0.25935635
         ],
         "yaxis": "y"
        },
        {
         "hovertemplate": "Country or region=Russia<br>year=%{x}<br>Freedom=%{y}<extra></extra>",
         "legendgroup": "Russia",
         "line": {
          "color": "#ab63fa",
          "dash": "solid"
         },
         "mode": "lines",
         "name": "Russia",
         "orientation": "v",
         "showlegend": true,
         "type": "scatter",
         "x": [
          2015,
          2016,
          2017,
          2018,
          2019,
          2020
         ],
         "xaxis": "x",
         "y": [
          0.36679,
          0.32682,
          0.373783111572266,
          0.399,
          0.334,
          0.399499595
         ],
         "yaxis": "y"
        },
        {
         "hovertemplate": "Country or region=Zambia<br>year=%{x}<br>Freedom=%{y}<extra></extra>",
         "legendgroup": "Zambia",
         "line": {
          "color": "#FFA15A",
          "dash": "solid"
         },
         "mode": "lines",
         "name": "Zambia",
         "orientation": "v",
         "showlegend": true,
         "type": "scatter",
         "x": [
          2015,
          2016,
          2017,
          2018,
          2019,
          2020
         ],
         "xaxis": "x",
         "y": [
          0.48827,
          0.42662,
          0.461603492498398,
          0.503,
          0.431,
          0.49131754
         ],
         "yaxis": "y"
        },
        {
         "hovertemplate": "Country or region=Zimbabwe<br>year=%{x}<br>Freedom=%{y}<extra></extra>",
         "legendgroup": "Zimbabwe",
         "line": {
          "color": "#19d3f3",
          "dash": "solid"
         },
         "mode": "lines",
         "name": "Zimbabwe",
         "orientation": "v",
         "showlegend": true,
         "type": "scatter",
         "x": [
          2015,
          2016,
          2017,
          2018,
          2019,
          2020
         ],
         "xaxis": "x",
         "y": [
          0.25861,
          0.25429,
          0.336384207010269,
          0.406,
          0.361,
          0.37740472
         ],
         "yaxis": "y"
        },
        {
         "hovertemplate": "Country or region=India<br>year=%{x}<br>Freedom=%{y}<extra></extra>",
         "legendgroup": "India",
         "line": {
          "color": "#FF6692",
          "dash": "solid"
         },
         "mode": "lines",
         "name": "India",
         "orientation": "v",
         "showlegend": true,
         "type": "scatter",
         "x": [
          2015,
          2016,
          2017,
          2018,
          2019,
          2020
         ],
         "xaxis": "x",
         "y": [
          0.39786,
          0.40285,
          0.469987004995346,
          0.539,
          0.498,
          0.581142247
         ],
         "yaxis": "y"
        },
        {
         "hovertemplate": "Country or region=Haiti<br>year=%{x}<br>Freedom=%{y}<extra></extra>",
         "legendgroup": "Haiti",
         "line": {
          "color": "#B6E880",
          "dash": "solid"
         },
         "mode": "lines",
         "name": "Haiti",
         "orientation": "v",
         "showlegend": true,
         "type": "scatter",
         "x": [
          2015,
          2016,
          2017,
          2018,
          2019,
          2020
         ],
         "xaxis": "x",
         "y": [
          0.24425,
          0.12072,
          0.0303698573261499,
          0.025,
          0.026,
          0.169297516
         ],
         "yaxis": "y"
        },
        {
         "hovertemplate": "Country or region=Botswana<br>year=%{x}<br>Freedom=%{y}<extra></extra>",
         "legendgroup": "Botswana",
         "line": {
          "color": "#FF97FF",
          "dash": "solid"
         },
         "mode": "lines",
         "name": "Botswana",
         "orientation": "v",
         "showlegend": true,
         "type": "scatter",
         "x": [
          2015,
          2016,
          2017,
          2018,
          2019,
          2020
         ],
         "xaxis": "x",
         "y": [
          0.49495,
          0.44089,
          0.505196332931519,
          0.557,
          0.455,
          0.50908941
         ],
         "yaxis": "y"
        },
        {
         "hovertemplate": "Country or region=Malawi<br>year=%{x}<br>Freedom=%{y}<extra></extra>",
         "legendgroup": "Malawi",
         "line": {
          "color": "#FECB52",
          "dash": "solid"
         },
         "mode": "lines",
         "name": "Malawi",
         "orientation": "v",
         "showlegend": true,
         "type": "scatter",
         "x": [
          2015,
          2016,
          2017,
          2018,
          2019,
          2020
         ],
         "xaxis": "x",
         "y": [
          0.43054,
          0.4143,
          0.466914653778076,
          0.531,
          0.443,
          0.487389833
         ],
         "yaxis": "y"
        },
        {
         "hovertemplate": "Country or region=Yemen<br>year=%{x}<br>Freedom=%{y}<extra></extra>",
         "legendgroup": "Yemen",
         "line": {
          "color": "#636efa",
          "dash": "solid"
         },
         "mode": "lines",
         "name": "Yemen",
         "orientation": "v",
         "showlegend": true,
         "type": "scatter",
         "x": [
          2015,
          2016,
          2017,
          2018,
          2019,
          2020
         ],
         "xaxis": "x",
         "y": [
          0.35571,
          0.2287,
          0.249463722109795,
          0.244,
          0.143,
          0.243721485
         ],
         "yaxis": "y"
        },
        {
         "hovertemplate": "Country or region=Tanzania<br>year=%{x}<br>Freedom=%{y}<extra></extra>",
         "legendgroup": "Tanzania",
         "line": {
          "color": "#EF553B",
          "dash": "solid"
         },
         "mode": "lines",
         "name": "Tanzania",
         "orientation": "v",
         "showlegend": true,
         "type": "scatter",
         "x": [
          2015,
          2016,
          2017,
          2018,
          2019,
          2020
         ],
         "xaxis": "x",
         "y": [
          0.32878,
          0.3176,
          0.390017777681351,
          0.481,
          0.417,
          0.509343088
         ],
         "yaxis": "y"
        },
        {
         "hovertemplate": "Country or region=Afghanistan<br>year=%{x}<br>Freedom=%{y}<extra></extra>",
         "legendgroup": "Afghanistan",
         "line": {
          "color": "#00cc96",
          "dash": "solid"
         },
         "mode": "lines",
         "name": "Afghanistan",
         "orientation": "v",
         "showlegend": true,
         "type": "scatter",
         "x": [
          2015,
          2016,
          2017,
          2018,
          2019,
          2020
         ],
         "xaxis": "x",
         "y": [
          0.23414,
          0.1643,
          0.106179520487785,
          0.085,
          0,
          0
         ],
         "yaxis": "y"
        },
        {
         "hovertemplate": "Country or region=Rwanda<br>year=%{x}<br>Freedom=%{y}<extra></extra>",
         "legendgroup": "Rwanda",
         "line": {
          "color": "#ab63fa",
          "dash": "solid"
         },
         "mode": "lines",
         "name": "Rwanda",
         "orientation": "v",
         "showlegend": true,
         "type": "scatter",
         "x": [
          2015,
          2016,
          2017,
          2018,
          2019,
          2020
         ],
         "xaxis": "x",
         "y": [
          0.59201,
          0.5432,
          0.581843852996826,
          0.636,
          0.555,
          0.604087889
         ],
         "yaxis": "y"
        }
       ],
       "layout": {
        "legend": {
         "title": {
          "text": "Country or region"
         },
         "tracegroupgap": 0
        },
        "template": {
         "data": {
          "bar": [
           {
            "error_x": {
             "color": "#2a3f5f"
            },
            "error_y": {
             "color": "#2a3f5f"
            },
            "marker": {
             "line": {
              "color": "#E5ECF6",
              "width": 0.5
             }
            },
            "type": "bar"
           }
          ],
          "barpolar": [
           {
            "marker": {
             "line": {
              "color": "#E5ECF6",
              "width": 0.5
             }
            },
            "type": "barpolar"
           }
          ],
          "carpet": [
           {
            "aaxis": {
             "endlinecolor": "#2a3f5f",
             "gridcolor": "white",
             "linecolor": "white",
             "minorgridcolor": "white",
             "startlinecolor": "#2a3f5f"
            },
            "baxis": {
             "endlinecolor": "#2a3f5f",
             "gridcolor": "white",
             "linecolor": "white",
             "minorgridcolor": "white",
             "startlinecolor": "#2a3f5f"
            },
            "type": "carpet"
           }
          ],
          "choropleth": [
           {
            "colorbar": {
             "outlinewidth": 0,
             "ticks": ""
            },
            "type": "choropleth"
           }
          ],
          "contour": [
           {
            "colorbar": {
             "outlinewidth": 0,
             "ticks": ""
            },
            "colorscale": [
             [
              0,
              "#0d0887"
             ],
             [
              0.1111111111111111,
              "#46039f"
             ],
             [
              0.2222222222222222,
              "#7201a8"
             ],
             [
              0.3333333333333333,
              "#9c179e"
             ],
             [
              0.4444444444444444,
              "#bd3786"
             ],
             [
              0.5555555555555556,
              "#d8576b"
             ],
             [
              0.6666666666666666,
              "#ed7953"
             ],
             [
              0.7777777777777778,
              "#fb9f3a"
             ],
             [
              0.8888888888888888,
              "#fdca26"
             ],
             [
              1,
              "#f0f921"
             ]
            ],
            "type": "contour"
           }
          ],
          "contourcarpet": [
           {
            "colorbar": {
             "outlinewidth": 0,
             "ticks": ""
            },
            "type": "contourcarpet"
           }
          ],
          "heatmap": [
           {
            "colorbar": {
             "outlinewidth": 0,
             "ticks": ""
            },
            "colorscale": [
             [
              0,
              "#0d0887"
             ],
             [
              0.1111111111111111,
              "#46039f"
             ],
             [
              0.2222222222222222,
              "#7201a8"
             ],
             [
              0.3333333333333333,
              "#9c179e"
             ],
             [
              0.4444444444444444,
              "#bd3786"
             ],
             [
              0.5555555555555556,
              "#d8576b"
             ],
             [
              0.6666666666666666,
              "#ed7953"
             ],
             [
              0.7777777777777778,
              "#fb9f3a"
             ],
             [
              0.8888888888888888,
              "#fdca26"
             ],
             [
              1,
              "#f0f921"
             ]
            ],
            "type": "heatmap"
           }
          ],
          "heatmapgl": [
           {
            "colorbar": {
             "outlinewidth": 0,
             "ticks": ""
            },
            "colorscale": [
             [
              0,
              "#0d0887"
             ],
             [
              0.1111111111111111,
              "#46039f"
             ],
             [
              0.2222222222222222,
              "#7201a8"
             ],
             [
              0.3333333333333333,
              "#9c179e"
             ],
             [
              0.4444444444444444,
              "#bd3786"
             ],
             [
              0.5555555555555556,
              "#d8576b"
             ],
             [
              0.6666666666666666,
              "#ed7953"
             ],
             [
              0.7777777777777778,
              "#fb9f3a"
             ],
             [
              0.8888888888888888,
              "#fdca26"
             ],
             [
              1,
              "#f0f921"
             ]
            ],
            "type": "heatmapgl"
           }
          ],
          "histogram": [
           {
            "marker": {
             "colorbar": {
              "outlinewidth": 0,
              "ticks": ""
             }
            },
            "type": "histogram"
           }
          ],
          "histogram2d": [
           {
            "colorbar": {
             "outlinewidth": 0,
             "ticks": ""
            },
            "colorscale": [
             [
              0,
              "#0d0887"
             ],
             [
              0.1111111111111111,
              "#46039f"
             ],
             [
              0.2222222222222222,
              "#7201a8"
             ],
             [
              0.3333333333333333,
              "#9c179e"
             ],
             [
              0.4444444444444444,
              "#bd3786"
             ],
             [
              0.5555555555555556,
              "#d8576b"
             ],
             [
              0.6666666666666666,
              "#ed7953"
             ],
             [
              0.7777777777777778,
              "#fb9f3a"
             ],
             [
              0.8888888888888888,
              "#fdca26"
             ],
             [
              1,
              "#f0f921"
             ]
            ],
            "type": "histogram2d"
           }
          ],
          "histogram2dcontour": [
           {
            "colorbar": {
             "outlinewidth": 0,
             "ticks": ""
            },
            "colorscale": [
             [
              0,
              "#0d0887"
             ],
             [
              0.1111111111111111,
              "#46039f"
             ],
             [
              0.2222222222222222,
              "#7201a8"
             ],
             [
              0.3333333333333333,
              "#9c179e"
             ],
             [
              0.4444444444444444,
              "#bd3786"
             ],
             [
              0.5555555555555556,
              "#d8576b"
             ],
             [
              0.6666666666666666,
              "#ed7953"
             ],
             [
              0.7777777777777778,
              "#fb9f3a"
             ],
             [
              0.8888888888888888,
              "#fdca26"
             ],
             [
              1,
              "#f0f921"
             ]
            ],
            "type": "histogram2dcontour"
           }
          ],
          "mesh3d": [
           {
            "colorbar": {
             "outlinewidth": 0,
             "ticks": ""
            },
            "type": "mesh3d"
           }
          ],
          "parcoords": [
           {
            "line": {
             "colorbar": {
              "outlinewidth": 0,
              "ticks": ""
             }
            },
            "type": "parcoords"
           }
          ],
          "pie": [
           {
            "automargin": true,
            "type": "pie"
           }
          ],
          "scatter": [
           {
            "marker": {
             "colorbar": {
              "outlinewidth": 0,
              "ticks": ""
             }
            },
            "type": "scatter"
           }
          ],
          "scatter3d": [
           {
            "line": {
             "colorbar": {
              "outlinewidth": 0,
              "ticks": ""
             }
            },
            "marker": {
             "colorbar": {
              "outlinewidth": 0,
              "ticks": ""
             }
            },
            "type": "scatter3d"
           }
          ],
          "scattercarpet": [
           {
            "marker": {
             "colorbar": {
              "outlinewidth": 0,
              "ticks": ""
             }
            },
            "type": "scattercarpet"
           }
          ],
          "scattergeo": [
           {
            "marker": {
             "colorbar": {
              "outlinewidth": 0,
              "ticks": ""
             }
            },
            "type": "scattergeo"
           }
          ],
          "scattergl": [
           {
            "marker": {
             "colorbar": {
              "outlinewidth": 0,
              "ticks": ""
             }
            },
            "type": "scattergl"
           }
          ],
          "scattermapbox": [
           {
            "marker": {
             "colorbar": {
              "outlinewidth": 0,
              "ticks": ""
             }
            },
            "type": "scattermapbox"
           }
          ],
          "scatterpolar": [
           {
            "marker": {
             "colorbar": {
              "outlinewidth": 0,
              "ticks": ""
             }
            },
            "type": "scatterpolar"
           }
          ],
          "scatterpolargl": [
           {
            "marker": {
             "colorbar": {
              "outlinewidth": 0,
              "ticks": ""
             }
            },
            "type": "scatterpolargl"
           }
          ],
          "scatterternary": [
           {
            "marker": {
             "colorbar": {
              "outlinewidth": 0,
              "ticks": ""
             }
            },
            "type": "scatterternary"
           }
          ],
          "surface": [
           {
            "colorbar": {
             "outlinewidth": 0,
             "ticks": ""
            },
            "colorscale": [
             [
              0,
              "#0d0887"
             ],
             [
              0.1111111111111111,
              "#46039f"
             ],
             [
              0.2222222222222222,
              "#7201a8"
             ],
             [
              0.3333333333333333,
              "#9c179e"
             ],
             [
              0.4444444444444444,
              "#bd3786"
             ],
             [
              0.5555555555555556,
              "#d8576b"
             ],
             [
              0.6666666666666666,
              "#ed7953"
             ],
             [
              0.7777777777777778,
              "#fb9f3a"
             ],
             [
              0.8888888888888888,
              "#fdca26"
             ],
             [
              1,
              "#f0f921"
             ]
            ],
            "type": "surface"
           }
          ],
          "table": [
           {
            "cells": {
             "fill": {
              "color": "#EBF0F8"
             },
             "line": {
              "color": "white"
             }
            },
            "header": {
             "fill": {
              "color": "#C8D4E3"
             },
             "line": {
              "color": "white"
             }
            },
            "type": "table"
           }
          ]
         },
         "layout": {
          "annotationdefaults": {
           "arrowcolor": "#2a3f5f",
           "arrowhead": 0,
           "arrowwidth": 1
          },
          "autotypenumbers": "strict",
          "coloraxis": {
           "colorbar": {
            "outlinewidth": 0,
            "ticks": ""
           }
          },
          "colorscale": {
           "diverging": [
            [
             0,
             "#8e0152"
            ],
            [
             0.1,
             "#c51b7d"
            ],
            [
             0.2,
             "#de77ae"
            ],
            [
             0.3,
             "#f1b6da"
            ],
            [
             0.4,
             "#fde0ef"
            ],
            [
             0.5,
             "#f7f7f7"
            ],
            [
             0.6,
             "#e6f5d0"
            ],
            [
             0.7,
             "#b8e186"
            ],
            [
             0.8,
             "#7fbc41"
            ],
            [
             0.9,
             "#4d9221"
            ],
            [
             1,
             "#276419"
            ]
           ],
           "sequential": [
            [
             0,
             "#0d0887"
            ],
            [
             0.1111111111111111,
             "#46039f"
            ],
            [
             0.2222222222222222,
             "#7201a8"
            ],
            [
             0.3333333333333333,
             "#9c179e"
            ],
            [
             0.4444444444444444,
             "#bd3786"
            ],
            [
             0.5555555555555556,
             "#d8576b"
            ],
            [
             0.6666666666666666,
             "#ed7953"
            ],
            [
             0.7777777777777778,
             "#fb9f3a"
            ],
            [
             0.8888888888888888,
             "#fdca26"
            ],
            [
             1,
             "#f0f921"
            ]
           ],
           "sequentialminus": [
            [
             0,
             "#0d0887"
            ],
            [
             0.1111111111111111,
             "#46039f"
            ],
            [
             0.2222222222222222,
             "#7201a8"
            ],
            [
             0.3333333333333333,
             "#9c179e"
            ],
            [
             0.4444444444444444,
             "#bd3786"
            ],
            [
             0.5555555555555556,
             "#d8576b"
            ],
            [
             0.6666666666666666,
             "#ed7953"
            ],
            [
             0.7777777777777778,
             "#fb9f3a"
            ],
            [
             0.8888888888888888,
             "#fdca26"
            ],
            [
             1,
             "#f0f921"
            ]
           ]
          },
          "colorway": [
           "#636efa",
           "#EF553B",
           "#00cc96",
           "#ab63fa",
           "#FFA15A",
           "#19d3f3",
           "#FF6692",
           "#B6E880",
           "#FF97FF",
           "#FECB52"
          ],
          "font": {
           "color": "#2a3f5f"
          },
          "geo": {
           "bgcolor": "white",
           "lakecolor": "white",
           "landcolor": "#E5ECF6",
           "showlakes": true,
           "showland": true,
           "subunitcolor": "white"
          },
          "hoverlabel": {
           "align": "left"
          },
          "hovermode": "closest",
          "mapbox": {
           "style": "light"
          },
          "paper_bgcolor": "white",
          "plot_bgcolor": "#E5ECF6",
          "polar": {
           "angularaxis": {
            "gridcolor": "white",
            "linecolor": "white",
            "ticks": ""
           },
           "bgcolor": "#E5ECF6",
           "radialaxis": {
            "gridcolor": "white",
            "linecolor": "white",
            "ticks": ""
           }
          },
          "scene": {
           "xaxis": {
            "backgroundcolor": "#E5ECF6",
            "gridcolor": "white",
            "gridwidth": 2,
            "linecolor": "white",
            "showbackground": true,
            "ticks": "",
            "zerolinecolor": "white"
           },
           "yaxis": {
            "backgroundcolor": "#E5ECF6",
            "gridcolor": "white",
            "gridwidth": 2,
            "linecolor": "white",
            "showbackground": true,
            "ticks": "",
            "zerolinecolor": "white"
           },
           "zaxis": {
            "backgroundcolor": "#E5ECF6",
            "gridcolor": "white",
            "gridwidth": 2,
            "linecolor": "white",
            "showbackground": true,
            "ticks": "",
            "zerolinecolor": "white"
           }
          },
          "shapedefaults": {
           "line": {
            "color": "#2a3f5f"
           }
          },
          "ternary": {
           "aaxis": {
            "gridcolor": "white",
            "linecolor": "white",
            "ticks": ""
           },
           "baxis": {
            "gridcolor": "white",
            "linecolor": "white",
            "ticks": ""
           },
           "bgcolor": "#E5ECF6",
           "caxis": {
            "gridcolor": "white",
            "linecolor": "white",
            "ticks": ""
           }
          },
          "title": {
           "x": 0.05
          },
          "xaxis": {
           "automargin": true,
           "gridcolor": "white",
           "linecolor": "white",
           "ticks": "",
           "title": {
            "standoff": 15
           },
           "zerolinecolor": "white",
           "zerolinewidth": 2
          },
          "yaxis": {
           "automargin": true,
           "gridcolor": "white",
           "linecolor": "white",
           "ticks": "",
           "title": {
            "standoff": 15
           },
           "zerolinecolor": "white",
           "zerolinewidth": 2
          }
         }
        },
        "title": {
         "text": "Freedom by country"
        },
        "xaxis": {
         "anchor": "y",
         "domain": [
          0,
          1
         ],
         "title": {
          "text": "year"
         }
        },
        "yaxis": {
         "anchor": "x",
         "domain": [
          0,
          1
         ],
         "title": {
          "text": "Freedom"
         }
        }
       }
      },
      "text/html": [
       "<div>                            <div id=\"d38bb10c-4d69-4c38-809d-cf4dc38b1bdc\" class=\"plotly-graph-div\" style=\"height:525px; width:100%;\"></div>            <script type=\"text/javascript\">                require([\"plotly\"], function(Plotly) {                    window.PLOTLYENV=window.PLOTLYENV || {};                                    if (document.getElementById(\"d38bb10c-4d69-4c38-809d-cf4dc38b1bdc\")) {                    Plotly.newPlot(                        \"d38bb10c-4d69-4c38-809d-cf4dc38b1bdc\",                        [{\"hovertemplate\": \"Country or region=Switzerland<br>year=%{x}<br>Freedom=%{y}<extra></extra>\", \"legendgroup\": \"Switzerland\", \"line\": {\"color\": \"#636efa\", \"dash\": \"solid\"}, \"mode\": \"lines\", \"name\": \"Switzerland\", \"orientation\": \"v\", \"showlegend\": true, \"type\": \"scatter\", \"x\": [2015, 2016, 2017, 2018, 2019, 2020], \"xaxis\": \"x\", \"y\": [0.66557, 0.58557, 0.620070576667786, 0.66, 0.572, 0.62895447], \"yaxis\": \"y\"}, {\"hovertemplate\": \"Country or region=Iceland<br>year=%{x}<br>Freedom=%{y}<extra></extra>\", \"legendgroup\": \"Iceland\", \"line\": {\"color\": \"#EF553B\", \"dash\": \"solid\"}, \"mode\": \"lines\", \"name\": \"Iceland\", \"orientation\": \"v\", \"showlegend\": true, \"type\": \"scatter\", \"x\": [2015, 2016, 2017, 2018, 2019, 2020], \"xaxis\": \"x\", \"y\": [0.62877, 0.56624, 0.627162635326385, 0.677, 0.591, 0.661980748], \"yaxis\": \"y\"}, {\"hovertemplate\": \"Country or region=Denmark<br>year=%{x}<br>Freedom=%{y}<extra></extra>\", \"legendgroup\": \"Denmark\", \"line\": {\"color\": \"#00cc96\", \"dash\": \"solid\"}, \"mode\": \"lines\", \"name\": \"Denmark\", \"orientation\": \"v\", \"showlegend\": true, \"type\": \"scatter\", \"x\": [2015, 2016, 2017, 2018, 2019, 2020], \"xaxis\": \"x\", \"y\": [0.64938, 0.57941, 0.626006722450256, 0.683, 0.592, 0.665039897], \"yaxis\": \"y\"}, {\"hovertemplate\": \"Country or region=Norway<br>year=%{x}<br>Freedom=%{y}<extra></extra>\", \"legendgroup\": \"Norway\", \"line\": {\"color\": \"#ab63fa\", \"dash\": \"solid\"}, \"mode\": \"lines\", \"name\": \"Norway\", \"orientation\": \"v\", \"showlegend\": true, \"type\": \"scatter\", \"x\": [2015, 2016, 2017, 2018, 2019, 2020], \"xaxis\": \"x\", \"y\": [0.66973, 0.59609, 0.635422587394714, 0.686, 0.603, 0.670200884], \"yaxis\": \"y\"}, {\"hovertemplate\": \"Country or region=Canada<br>year=%{x}<br>Freedom=%{y}<extra></extra>\", \"legendgroup\": \"Canada\", \"line\": {\"color\": \"#FFA15A\", \"dash\": \"solid\"}, \"mode\": \"lines\", \"name\": \"Canada\", \"orientation\": \"v\", \"showlegend\": true, \"type\": \"scatter\", \"x\": [2015, 2016, 2017, 2018, 2019, 2020], \"xaxis\": \"x\", \"y\": [0.63297, 0.5737, 0.611100912094116, 0.653, 0.584, 0.644028127], \"yaxis\": \"y\"}, {\"hovertemplate\": \"Country or region=Finland<br>year=%{x}<br>Freedom=%{y}<extra></extra>\", \"legendgroup\": \"Finland\", \"line\": {\"color\": \"#19d3f3\", \"dash\": \"solid\"}, \"mode\": \"lines\", \"name\": \"Finland\", \"orientation\": \"v\", \"showlegend\": true, \"type\": \"scatter\", \"x\": [2015, 2016, 2017, 2018, 2019, 2020], \"xaxis\": \"x\", \"y\": [0.64169, 0.57104, 0.617950856685638, 0.681, 0.596, 0.66231674], \"yaxis\": \"y\"}, {\"hovertemplate\": \"Country or region=Netherlands<br>year=%{x}<br>Freedom=%{y}<extra></extra>\", \"legendgroup\": \"Netherlands\", \"line\": {\"color\": \"#FF6692\", \"dash\": \"solid\"}, \"mode\": \"lines\", \"name\": \"Netherlands\", \"orientation\": \"v\", \"showlegend\": true, \"type\": \"scatter\", \"x\": [2015, 2016, 2017, 2018, 2019, 2020], \"xaxis\": \"x\", \"y\": [0.61576, 0.55211, 0.585384488105774, 0.638, 0.557, 0.61362648], \"yaxis\": \"y\"}, {\"hovertemplate\": \"Country or region=Sweden<br>year=%{x}<br>Freedom=%{y}<extra></extra>\", \"legendgroup\": \"Sweden\", \"line\": {\"color\": \"#B6E880\", \"dash\": \"solid\"}, \"mode\": \"lines\", \"name\": \"Sweden\", \"orientation\": \"v\", \"showlegend\": true, \"type\": \"scatter\", \"x\": [2015, 2016, 2017, 2018, 2019, 2020], \"xaxis\": \"x\", \"y\": [0.6598, 0.58218, 0.612924098968506, 0.659, 0.574, 0.650297701], \"yaxis\": \"y\"}, {\"hovertemplate\": \"Country or region=New Zealand<br>year=%{x}<br>Freedom=%{y}<extra></extra>\", \"legendgroup\": \"New Zealand\", \"line\": {\"color\": \"#FF97FF\", \"dash\": \"solid\"}, \"mode\": \"lines\", \"name\": \"New Zealand\", \"orientation\": \"v\", \"showlegend\": true, \"type\": \"scatter\", \"x\": [2015, 2016, 2017, 2018, 2019, 2020], \"xaxis\": \"x\", \"y\": [0.63938, 0.58147, 0.614062130451202, 0.669, 0.585, 0.646789908], \"yaxis\": \"y\"}, {\"hovertemplate\": \"Country or region=Austria<br>year=%{x}<br>Freedom=%{y}<extra></extra>\", \"legendgroup\": \"Austria\", \"line\": {\"color\": \"#FECB52\", \"dash\": \"solid\"}, \"mode\": \"lines\", \"name\": \"Austria\", \"orientation\": \"v\", \"showlegend\": true, \"type\": \"scatter\", \"x\": [2015, 2016, 2017, 2018, 2019, 2020], \"xaxis\": \"x\", \"y\": [0.62433, 0.54355, 0.567766189575195, 0.617, 0.532, 0.603368878], \"yaxis\": \"y\"}, {\"hovertemplate\": \"Country or region=United States<br>year=%{x}<br>Freedom=%{y}<extra></extra>\", \"legendgroup\": \"United States\", \"line\": {\"color\": \"#636efa\", \"dash\": \"solid\"}, \"mode\": \"lines\", \"name\": \"United States\", \"orientation\": \"v\", \"showlegend\": true, \"type\": \"scatter\", \"x\": [2015, 2016, 2017, 2018, 2019, 2020], \"xaxis\": \"x\", \"y\": [0.54604, 0.48163, 0.505740523338318, 0.547, 0.454, 0.534608245], \"yaxis\": \"y\"}, {\"hovertemplate\": \"Country or region=Luxembourg<br>year=%{x}<br>Freedom=%{y}<extra></extra>\", \"legendgroup\": \"Luxembourg\", \"line\": {\"color\": \"#EF553B\", \"dash\": \"solid\"}, \"mode\": \"lines\", \"name\": \"Luxembourg\", \"orientation\": \"v\", \"showlegend\": true, \"type\": \"scatter\", \"x\": [2015, 2016, 2017, 2018, 2019, 2020], \"xaxis\": \"x\", \"y\": [0.61583, 0.5487, 0.59662789106369, 0.632, 0.526, 0.610137045], \"yaxis\": \"y\"}, {\"hovertemplate\": \"Country or region=South Korea<br>year=%{x}<br>Freedom=%{y}<extra></extra>\", \"legendgroup\": \"South Korea\", \"line\": {\"color\": \"#00cc96\", \"dash\": \"solid\"}, \"mode\": \"lines\", \"name\": \"South Korea\", \"orientation\": \"v\", \"showlegend\": true, \"type\": \"scatter\", \"x\": [2015, 2016, 2017, 2018, 2019, 2020], \"xaxis\": \"x\", \"y\": [0.33208, 0.25168, 0.257921665906906, 0.244, 0.159, 0.25935635], \"yaxis\": \"y\"}, {\"hovertemplate\": \"Country or region=Russia<br>year=%{x}<br>Freedom=%{y}<extra></extra>\", \"legendgroup\": \"Russia\", \"line\": {\"color\": \"#ab63fa\", \"dash\": \"solid\"}, \"mode\": \"lines\", \"name\": \"Russia\", \"orientation\": \"v\", \"showlegend\": true, \"type\": \"scatter\", \"x\": [2015, 2016, 2017, 2018, 2019, 2020], \"xaxis\": \"x\", \"y\": [0.36679, 0.32682, 0.373783111572266, 0.399, 0.334, 0.399499595], \"yaxis\": \"y\"}, {\"hovertemplate\": \"Country or region=Zambia<br>year=%{x}<br>Freedom=%{y}<extra></extra>\", \"legendgroup\": \"Zambia\", \"line\": {\"color\": \"#FFA15A\", \"dash\": \"solid\"}, \"mode\": \"lines\", \"name\": \"Zambia\", \"orientation\": \"v\", \"showlegend\": true, \"type\": \"scatter\", \"x\": [2015, 2016, 2017, 2018, 2019, 2020], \"xaxis\": \"x\", \"y\": [0.48827, 0.42662, 0.461603492498398, 0.503, 0.431, 0.49131754], \"yaxis\": \"y\"}, {\"hovertemplate\": \"Country or region=Zimbabwe<br>year=%{x}<br>Freedom=%{y}<extra></extra>\", \"legendgroup\": \"Zimbabwe\", \"line\": {\"color\": \"#19d3f3\", \"dash\": \"solid\"}, \"mode\": \"lines\", \"name\": \"Zimbabwe\", \"orientation\": \"v\", \"showlegend\": true, \"type\": \"scatter\", \"x\": [2015, 2016, 2017, 2018, 2019, 2020], \"xaxis\": \"x\", \"y\": [0.25861, 0.25429, 0.336384207010269, 0.406, 0.361, 0.37740472], \"yaxis\": \"y\"}, {\"hovertemplate\": \"Country or region=India<br>year=%{x}<br>Freedom=%{y}<extra></extra>\", \"legendgroup\": \"India\", \"line\": {\"color\": \"#FF6692\", \"dash\": \"solid\"}, \"mode\": \"lines\", \"name\": \"India\", \"orientation\": \"v\", \"showlegend\": true, \"type\": \"scatter\", \"x\": [2015, 2016, 2017, 2018, 2019, 2020], \"xaxis\": \"x\", \"y\": [0.39786, 0.40285, 0.469987004995346, 0.539, 0.498, 0.581142247], \"yaxis\": \"y\"}, {\"hovertemplate\": \"Country or region=Haiti<br>year=%{x}<br>Freedom=%{y}<extra></extra>\", \"legendgroup\": \"Haiti\", \"line\": {\"color\": \"#B6E880\", \"dash\": \"solid\"}, \"mode\": \"lines\", \"name\": \"Haiti\", \"orientation\": \"v\", \"showlegend\": true, \"type\": \"scatter\", \"x\": [2015, 2016, 2017, 2018, 2019, 2020], \"xaxis\": \"x\", \"y\": [0.24425, 0.12072, 0.0303698573261499, 0.025, 0.026, 0.169297516], \"yaxis\": \"y\"}, {\"hovertemplate\": \"Country or region=Botswana<br>year=%{x}<br>Freedom=%{y}<extra></extra>\", \"legendgroup\": \"Botswana\", \"line\": {\"color\": \"#FF97FF\", \"dash\": \"solid\"}, \"mode\": \"lines\", \"name\": \"Botswana\", \"orientation\": \"v\", \"showlegend\": true, \"type\": \"scatter\", \"x\": [2015, 2016, 2017, 2018, 2019, 2020], \"xaxis\": \"x\", \"y\": [0.49495, 0.44089, 0.505196332931519, 0.557, 0.455, 0.50908941], \"yaxis\": \"y\"}, {\"hovertemplate\": \"Country or region=Malawi<br>year=%{x}<br>Freedom=%{y}<extra></extra>\", \"legendgroup\": \"Malawi\", \"line\": {\"color\": \"#FECB52\", \"dash\": \"solid\"}, \"mode\": \"lines\", \"name\": \"Malawi\", \"orientation\": \"v\", \"showlegend\": true, \"type\": \"scatter\", \"x\": [2015, 2016, 2017, 2018, 2019, 2020], \"xaxis\": \"x\", \"y\": [0.43054, 0.4143, 0.466914653778076, 0.531, 0.443, 0.487389833], \"yaxis\": \"y\"}, {\"hovertemplate\": \"Country or region=Yemen<br>year=%{x}<br>Freedom=%{y}<extra></extra>\", \"legendgroup\": \"Yemen\", \"line\": {\"color\": \"#636efa\", \"dash\": \"solid\"}, \"mode\": \"lines\", \"name\": \"Yemen\", \"orientation\": \"v\", \"showlegend\": true, \"type\": \"scatter\", \"x\": [2015, 2016, 2017, 2018, 2019, 2020], \"xaxis\": \"x\", \"y\": [0.35571, 0.2287, 0.249463722109795, 0.244, 0.143, 0.243721485], \"yaxis\": \"y\"}, {\"hovertemplate\": \"Country or region=Tanzania<br>year=%{x}<br>Freedom=%{y}<extra></extra>\", \"legendgroup\": \"Tanzania\", \"line\": {\"color\": \"#EF553B\", \"dash\": \"solid\"}, \"mode\": \"lines\", \"name\": \"Tanzania\", \"orientation\": \"v\", \"showlegend\": true, \"type\": \"scatter\", \"x\": [2015, 2016, 2017, 2018, 2019, 2020], \"xaxis\": \"x\", \"y\": [0.32878, 0.3176, 0.390017777681351, 0.481, 0.417, 0.509343088], \"yaxis\": \"y\"}, {\"hovertemplate\": \"Country or region=Afghanistan<br>year=%{x}<br>Freedom=%{y}<extra></extra>\", \"legendgroup\": \"Afghanistan\", \"line\": {\"color\": \"#00cc96\", \"dash\": \"solid\"}, \"mode\": \"lines\", \"name\": \"Afghanistan\", \"orientation\": \"v\", \"showlegend\": true, \"type\": \"scatter\", \"x\": [2015, 2016, 2017, 2018, 2019, 2020], \"xaxis\": \"x\", \"y\": [0.23414, 0.1643, 0.106179520487785, 0.085, 0.0, 0.0], \"yaxis\": \"y\"}, {\"hovertemplate\": \"Country or region=Rwanda<br>year=%{x}<br>Freedom=%{y}<extra></extra>\", \"legendgroup\": \"Rwanda\", \"line\": {\"color\": \"#ab63fa\", \"dash\": \"solid\"}, \"mode\": \"lines\", \"name\": \"Rwanda\", \"orientation\": \"v\", \"showlegend\": true, \"type\": \"scatter\", \"x\": [2015, 2016, 2017, 2018, 2019, 2020], \"xaxis\": \"x\", \"y\": [0.59201, 0.5432, 0.581843852996826, 0.636, 0.555, 0.604087889], \"yaxis\": \"y\"}],                        {\"legend\": {\"title\": {\"text\": \"Country or region\"}, \"tracegroupgap\": 0}, \"template\": {\"data\": {\"bar\": [{\"error_x\": {\"color\": \"#2a3f5f\"}, \"error_y\": {\"color\": \"#2a3f5f\"}, \"marker\": {\"line\": {\"color\": \"#E5ECF6\", \"width\": 0.5}}, \"type\": \"bar\"}], \"barpolar\": [{\"marker\": {\"line\": {\"color\": \"#E5ECF6\", \"width\": 0.5}}, \"type\": \"barpolar\"}], \"carpet\": [{\"aaxis\": {\"endlinecolor\": \"#2a3f5f\", \"gridcolor\": \"white\", \"linecolor\": \"white\", \"minorgridcolor\": \"white\", \"startlinecolor\": \"#2a3f5f\"}, \"baxis\": {\"endlinecolor\": \"#2a3f5f\", \"gridcolor\": \"white\", \"linecolor\": \"white\", \"minorgridcolor\": \"white\", \"startlinecolor\": \"#2a3f5f\"}, \"type\": \"carpet\"}], \"choropleth\": [{\"colorbar\": {\"outlinewidth\": 0, \"ticks\": \"\"}, \"type\": \"choropleth\"}], \"contour\": [{\"colorbar\": {\"outlinewidth\": 0, \"ticks\": \"\"}, \"colorscale\": [[0.0, \"#0d0887\"], [0.1111111111111111, \"#46039f\"], [0.2222222222222222, \"#7201a8\"], [0.3333333333333333, \"#9c179e\"], [0.4444444444444444, \"#bd3786\"], [0.5555555555555556, \"#d8576b\"], [0.6666666666666666, \"#ed7953\"], [0.7777777777777778, \"#fb9f3a\"], [0.8888888888888888, \"#fdca26\"], [1.0, \"#f0f921\"]], \"type\": \"contour\"}], \"contourcarpet\": [{\"colorbar\": {\"outlinewidth\": 0, \"ticks\": \"\"}, \"type\": \"contourcarpet\"}], \"heatmap\": [{\"colorbar\": {\"outlinewidth\": 0, \"ticks\": \"\"}, \"colorscale\": [[0.0, \"#0d0887\"], [0.1111111111111111, \"#46039f\"], [0.2222222222222222, \"#7201a8\"], [0.3333333333333333, \"#9c179e\"], [0.4444444444444444, \"#bd3786\"], [0.5555555555555556, \"#d8576b\"], [0.6666666666666666, \"#ed7953\"], [0.7777777777777778, \"#fb9f3a\"], [0.8888888888888888, \"#fdca26\"], [1.0, \"#f0f921\"]], \"type\": \"heatmap\"}], \"heatmapgl\": [{\"colorbar\": {\"outlinewidth\": 0, \"ticks\": \"\"}, \"colorscale\": [[0.0, \"#0d0887\"], [0.1111111111111111, \"#46039f\"], [0.2222222222222222, \"#7201a8\"], [0.3333333333333333, \"#9c179e\"], [0.4444444444444444, \"#bd3786\"], [0.5555555555555556, \"#d8576b\"], [0.6666666666666666, \"#ed7953\"], [0.7777777777777778, \"#fb9f3a\"], [0.8888888888888888, \"#fdca26\"], [1.0, \"#f0f921\"]], \"type\": \"heatmapgl\"}], \"histogram\": [{\"marker\": {\"colorbar\": {\"outlinewidth\": 0, \"ticks\": \"\"}}, \"type\": \"histogram\"}], \"histogram2d\": [{\"colorbar\": {\"outlinewidth\": 0, \"ticks\": \"\"}, \"colorscale\": [[0.0, \"#0d0887\"], [0.1111111111111111, \"#46039f\"], [0.2222222222222222, \"#7201a8\"], [0.3333333333333333, \"#9c179e\"], [0.4444444444444444, \"#bd3786\"], [0.5555555555555556, \"#d8576b\"], [0.6666666666666666, \"#ed7953\"], [0.7777777777777778, \"#fb9f3a\"], [0.8888888888888888, \"#fdca26\"], [1.0, \"#f0f921\"]], \"type\": \"histogram2d\"}], \"histogram2dcontour\": [{\"colorbar\": {\"outlinewidth\": 0, \"ticks\": \"\"}, \"colorscale\": [[0.0, \"#0d0887\"], [0.1111111111111111, \"#46039f\"], [0.2222222222222222, \"#7201a8\"], [0.3333333333333333, \"#9c179e\"], [0.4444444444444444, \"#bd3786\"], [0.5555555555555556, \"#d8576b\"], [0.6666666666666666, \"#ed7953\"], [0.7777777777777778, \"#fb9f3a\"], [0.8888888888888888, \"#fdca26\"], [1.0, \"#f0f921\"]], \"type\": \"histogram2dcontour\"}], \"mesh3d\": [{\"colorbar\": {\"outlinewidth\": 0, \"ticks\": \"\"}, \"type\": \"mesh3d\"}], \"parcoords\": [{\"line\": {\"colorbar\": {\"outlinewidth\": 0, \"ticks\": \"\"}}, \"type\": \"parcoords\"}], \"pie\": [{\"automargin\": true, \"type\": \"pie\"}], \"scatter\": [{\"marker\": {\"colorbar\": {\"outlinewidth\": 0, \"ticks\": \"\"}}, \"type\": \"scatter\"}], \"scatter3d\": [{\"line\": {\"colorbar\": {\"outlinewidth\": 0, \"ticks\": \"\"}}, \"marker\": {\"colorbar\": {\"outlinewidth\": 0, \"ticks\": \"\"}}, \"type\": \"scatter3d\"}], \"scattercarpet\": [{\"marker\": {\"colorbar\": {\"outlinewidth\": 0, \"ticks\": \"\"}}, \"type\": \"scattercarpet\"}], \"scattergeo\": [{\"marker\": {\"colorbar\": {\"outlinewidth\": 0, \"ticks\": \"\"}}, \"type\": \"scattergeo\"}], \"scattergl\": [{\"marker\": {\"colorbar\": {\"outlinewidth\": 0, \"ticks\": \"\"}}, \"type\": \"scattergl\"}], \"scattermapbox\": [{\"marker\": {\"colorbar\": {\"outlinewidth\": 0, \"ticks\": \"\"}}, \"type\": \"scattermapbox\"}], \"scatterpolar\": [{\"marker\": {\"colorbar\": {\"outlinewidth\": 0, \"ticks\": \"\"}}, \"type\": \"scatterpolar\"}], \"scatterpolargl\": [{\"marker\": {\"colorbar\": {\"outlinewidth\": 0, \"ticks\": \"\"}}, \"type\": \"scatterpolargl\"}], \"scatterternary\": [{\"marker\": {\"colorbar\": {\"outlinewidth\": 0, \"ticks\": \"\"}}, \"type\": \"scatterternary\"}], \"surface\": [{\"colorbar\": {\"outlinewidth\": 0, \"ticks\": \"\"}, \"colorscale\": [[0.0, \"#0d0887\"], [0.1111111111111111, \"#46039f\"], [0.2222222222222222, \"#7201a8\"], [0.3333333333333333, \"#9c179e\"], [0.4444444444444444, \"#bd3786\"], [0.5555555555555556, \"#d8576b\"], [0.6666666666666666, \"#ed7953\"], [0.7777777777777778, \"#fb9f3a\"], [0.8888888888888888, \"#fdca26\"], [1.0, \"#f0f921\"]], \"type\": \"surface\"}], \"table\": [{\"cells\": {\"fill\": {\"color\": \"#EBF0F8\"}, \"line\": {\"color\": \"white\"}}, \"header\": {\"fill\": {\"color\": \"#C8D4E3\"}, \"line\": {\"color\": \"white\"}}, \"type\": \"table\"}]}, \"layout\": {\"annotationdefaults\": {\"arrowcolor\": \"#2a3f5f\", \"arrowhead\": 0, \"arrowwidth\": 1}, \"autotypenumbers\": \"strict\", \"coloraxis\": {\"colorbar\": {\"outlinewidth\": 0, \"ticks\": \"\"}}, \"colorscale\": {\"diverging\": [[0, \"#8e0152\"], [0.1, \"#c51b7d\"], [0.2, \"#de77ae\"], [0.3, \"#f1b6da\"], [0.4, \"#fde0ef\"], [0.5, \"#f7f7f7\"], [0.6, \"#e6f5d0\"], [0.7, \"#b8e186\"], [0.8, \"#7fbc41\"], [0.9, \"#4d9221\"], [1, \"#276419\"]], \"sequential\": [[0.0, \"#0d0887\"], [0.1111111111111111, \"#46039f\"], [0.2222222222222222, \"#7201a8\"], [0.3333333333333333, \"#9c179e\"], [0.4444444444444444, \"#bd3786\"], [0.5555555555555556, \"#d8576b\"], [0.6666666666666666, \"#ed7953\"], [0.7777777777777778, \"#fb9f3a\"], [0.8888888888888888, \"#fdca26\"], [1.0, \"#f0f921\"]], \"sequentialminus\": [[0.0, \"#0d0887\"], [0.1111111111111111, \"#46039f\"], [0.2222222222222222, \"#7201a8\"], [0.3333333333333333, \"#9c179e\"], [0.4444444444444444, \"#bd3786\"], [0.5555555555555556, \"#d8576b\"], [0.6666666666666666, \"#ed7953\"], [0.7777777777777778, \"#fb9f3a\"], [0.8888888888888888, \"#fdca26\"], [1.0, \"#f0f921\"]]}, \"colorway\": [\"#636efa\", \"#EF553B\", \"#00cc96\", \"#ab63fa\", \"#FFA15A\", \"#19d3f3\", \"#FF6692\", \"#B6E880\", \"#FF97FF\", \"#FECB52\"], \"font\": {\"color\": \"#2a3f5f\"}, \"geo\": {\"bgcolor\": \"white\", \"lakecolor\": \"white\", \"landcolor\": \"#E5ECF6\", \"showlakes\": true, \"showland\": true, \"subunitcolor\": \"white\"}, \"hoverlabel\": {\"align\": \"left\"}, \"hovermode\": \"closest\", \"mapbox\": {\"style\": \"light\"}, \"paper_bgcolor\": \"white\", \"plot_bgcolor\": \"#E5ECF6\", \"polar\": {\"angularaxis\": {\"gridcolor\": \"white\", \"linecolor\": \"white\", \"ticks\": \"\"}, \"bgcolor\": \"#E5ECF6\", \"radialaxis\": {\"gridcolor\": \"white\", \"linecolor\": \"white\", \"ticks\": \"\"}}, \"scene\": {\"xaxis\": {\"backgroundcolor\": \"#E5ECF6\", \"gridcolor\": \"white\", \"gridwidth\": 2, \"linecolor\": \"white\", \"showbackground\": true, \"ticks\": \"\", \"zerolinecolor\": \"white\"}, \"yaxis\": {\"backgroundcolor\": \"#E5ECF6\", \"gridcolor\": \"white\", \"gridwidth\": 2, \"linecolor\": \"white\", \"showbackground\": true, \"ticks\": \"\", \"zerolinecolor\": \"white\"}, \"zaxis\": {\"backgroundcolor\": \"#E5ECF6\", \"gridcolor\": \"white\", \"gridwidth\": 2, \"linecolor\": \"white\", \"showbackground\": true, \"ticks\": \"\", \"zerolinecolor\": \"white\"}}, \"shapedefaults\": {\"line\": {\"color\": \"#2a3f5f\"}}, \"ternary\": {\"aaxis\": {\"gridcolor\": \"white\", \"linecolor\": \"white\", \"ticks\": \"\"}, \"baxis\": {\"gridcolor\": \"white\", \"linecolor\": \"white\", \"ticks\": \"\"}, \"bgcolor\": \"#E5ECF6\", \"caxis\": {\"gridcolor\": \"white\", \"linecolor\": \"white\", \"ticks\": \"\"}}, \"title\": {\"x\": 0.05}, \"xaxis\": {\"automargin\": true, \"gridcolor\": \"white\", \"linecolor\": \"white\", \"ticks\": \"\", \"title\": {\"standoff\": 15}, \"zerolinecolor\": \"white\", \"zerolinewidth\": 2}, \"yaxis\": {\"automargin\": true, \"gridcolor\": \"white\", \"linecolor\": \"white\", \"ticks\": \"\", \"title\": {\"standoff\": 15}, \"zerolinecolor\": \"white\", \"zerolinewidth\": 2}}}, \"title\": {\"text\": \"Freedom by country\"}, \"xaxis\": {\"anchor\": \"y\", \"domain\": [0.0, 1.0], \"title\": {\"text\": \"year\"}}, \"yaxis\": {\"anchor\": \"x\", \"domain\": [0.0, 1.0], \"title\": {\"text\": \"Freedom\"}}},                        {\"responsive\": true}                    ).then(function(){\n",
       "                            \n",
       "var gd = document.getElementById('d38bb10c-4d69-4c38-809d-cf4dc38b1bdc');\n",
       "var x = new MutationObserver(function (mutations, observer) {{\n",
       "        var display = window.getComputedStyle(gd).display;\n",
       "        if (!display || display === 'none') {{\n",
       "            console.log([gd, 'removed!']);\n",
       "            Plotly.purge(gd);\n",
       "            observer.disconnect();\n",
       "        }}\n",
       "}});\n",
       "\n",
       "// Listen for the removal of the full notebook cells\n",
       "var notebookContainer = gd.closest('#notebook-container');\n",
       "if (notebookContainer) {{\n",
       "    x.observe(notebookContainer, {childList: true});\n",
       "}}\n",
       "\n",
       "// Listen for the clearing of the current output cell\n",
       "var outputEl = gd.closest('.output');\n",
       "if (outputEl) {{\n",
       "    x.observe(outputEl, {childList: true});\n",
       "}}\n",
       "\n",
       "                        })                };                });            </script>        </div>"
      ]
     },
     "metadata": {},
     "output_type": "display_data"
    }
   ],
   "source": [
    "plot_line('Freedom')"
   ]
  },
  {
   "cell_type": "code",
   "execution_count": 2178,
   "id": "valid-ethiopia",
   "metadata": {},
   "outputs": [
    {
     "data": {
      "application/vnd.plotly.v1+json": {
       "config": {
        "plotlyServerURL": "https://plot.ly"
       },
       "data": [
        {
         "hovertemplate": "Country or region=%{x}<br>Freedom=%{y}<br>year=%{marker.color}<extra></extra>",
         "legendgroup": "",
         "marker": {
          "color": [
           2015,
           2015,
           2015,
           2015,
           2015,
           2015,
           2015,
           2015,
           2015,
           2015,
           2015,
           2015,
           2015,
           2015,
           2015,
           2015,
           2015,
           2015,
           2015,
           2015,
           2015,
           2015,
           2015,
           2015,
           2016,
           2016,
           2016,
           2016,
           2016,
           2016,
           2016,
           2016,
           2016,
           2016,
           2016,
           2016,
           2016,
           2016,
           2016,
           2016,
           2016,
           2016,
           2016,
           2016,
           2016,
           2016,
           2016,
           2016,
           2017,
           2017,
           2017,
           2017,
           2017,
           2017,
           2017,
           2017,
           2017,
           2017,
           2017,
           2017,
           2017,
           2017,
           2017,
           2017,
           2017,
           2017,
           2017,
           2017,
           2017,
           2017,
           2017,
           2017,
           2018,
           2018,
           2018,
           2018,
           2018,
           2018,
           2018,
           2018,
           2018,
           2018,
           2018,
           2018,
           2018,
           2018,
           2018,
           2018,
           2018,
           2018,
           2018,
           2018,
           2018,
           2018,
           2018,
           2018,
           2019,
           2019,
           2019,
           2019,
           2019,
           2019,
           2019,
           2019,
           2019,
           2019,
           2019,
           2019,
           2019,
           2019,
           2019,
           2019,
           2019,
           2019,
           2019,
           2019,
           2019,
           2019,
           2019,
           2019,
           2020,
           2020,
           2020,
           2020,
           2020,
           2020,
           2020,
           2020,
           2020,
           2020,
           2020,
           2020,
           2020,
           2020,
           2020,
           2020,
           2020,
           2020,
           2020,
           2020,
           2020,
           2020,
           2020,
           2020
          ],
          "coloraxis": "coloraxis",
          "symbol": "circle"
         },
         "mode": "markers",
         "name": "",
         "orientation": "v",
         "showlegend": false,
         "type": "scatter",
         "x": [
          "Switzerland",
          "Iceland",
          "Denmark",
          "Norway",
          "Canada",
          "Finland",
          "Netherlands",
          "Sweden",
          "New Zealand",
          "Austria",
          "United States",
          "Luxembourg",
          "South Korea",
          "Russia",
          "Zambia",
          "Zimbabwe",
          "India",
          "Haiti",
          "Botswana",
          "Malawi",
          "Yemen",
          "Tanzania",
          "Afghanistan",
          "Rwanda",
          "Denmark",
          "Switzerland",
          "Iceland",
          "Norway",
          "Finland",
          "Canada",
          "Netherlands",
          "New Zealand",
          "Sweden",
          "Austria",
          "United States",
          "Luxembourg",
          "Russia",
          "South Korea",
          "Zambia",
          "India",
          "Zimbabwe",
          "Malawi",
          "Haiti",
          "Botswana",
          "Yemen",
          "Tanzania",
          "Rwanda",
          "Afghanistan",
          "Norway",
          "Denmark",
          "Iceland",
          "Switzerland",
          "Finland",
          "Netherlands",
          "Canada",
          "New Zealand",
          "Sweden",
          "Austria",
          "United States",
          "Luxembourg",
          "Russia",
          "South Korea",
          "Zambia",
          "India",
          "Malawi",
          "Zimbabwe",
          "Afghanistan",
          "Botswana",
          "Haiti",
          "Yemen",
          "Rwanda",
          "Tanzania",
          "Finland",
          "Norway",
          "Denmark",
          "Iceland",
          "Switzerland",
          "Netherlands",
          "Canada",
          "New Zealand",
          "Sweden",
          "Austria",
          "Luxembourg",
          "United States",
          "South Korea",
          "Russia",
          "Zambia",
          "India",
          "Zimbabwe",
          "Afghanistan",
          "Botswana",
          "Malawi",
          "Haiti",
          "Rwanda",
          "Yemen",
          "Tanzania",
          "Finland",
          "Denmark",
          "Norway",
          "Iceland",
          "Netherlands",
          "Switzerland",
          "Sweden",
          "New Zealand",
          "Canada",
          "Austria",
          "Luxembourg",
          "United States",
          "South Korea",
          "Russia",
          "Zambia",
          "India",
          "Zimbabwe",
          "Haiti",
          "Botswana",
          "Malawi",
          "Yemen",
          "Rwanda",
          "Tanzania",
          "Afghanistan",
          "Finland",
          "Denmark",
          "Switzerland",
          "Iceland",
          "Norway",
          "Netherlands",
          "Sweden",
          "New Zealand",
          "Austria",
          "Luxembourg",
          "Canada",
          "United States",
          "South Korea",
          "Russia",
          "Zambia",
          "Haiti",
          "India",
          "Malawi",
          "Yemen",
          "Botswana",
          "Tanzania",
          "Rwanda",
          "Zimbabwe",
          "Afghanistan"
         ],
         "xaxis": "x",
         "y": [
          0.66557,
          0.62877,
          0.64938,
          0.66973,
          0.63297,
          0.64169,
          0.61576,
          0.6598,
          0.63938,
          0.62433,
          0.54604,
          0.61583,
          0.33208,
          0.36679,
          0.48827,
          0.25861,
          0.39786,
          0.24425,
          0.49495,
          0.43054,
          0.35571,
          0.32878,
          0.23414,
          0.59201,
          0.57941,
          0.58557,
          0.56624,
          0.59609,
          0.57104,
          0.5737,
          0.55211,
          0.58147,
          0.58218,
          0.54355,
          0.48163,
          0.5487,
          0.32682,
          0.25168,
          0.42662,
          0.40285,
          0.25429,
          0.4143,
          0.12072,
          0.44089,
          0.2287,
          0.3176,
          0.5432,
          0.1643,
          0.635422587394714,
          0.626006722450256,
          0.627162635326385,
          0.620070576667786,
          0.617950856685638,
          0.585384488105774,
          0.611100912094116,
          0.614062130451202,
          0.612924098968506,
          0.567766189575195,
          0.505740523338318,
          0.59662789106369,
          0.373783111572266,
          0.257921665906906,
          0.461603492498398,
          0.469987004995346,
          0.466914653778076,
          0.336384207010269,
          0.106179520487785,
          0.505196332931519,
          0.0303698573261499,
          0.249463722109795,
          0.581843852996826,
          0.390017777681351,
          0.681,
          0.686,
          0.683,
          0.677,
          0.66,
          0.638,
          0.653,
          0.669,
          0.659,
          0.617,
          0.632,
          0.547,
          0.244,
          0.399,
          0.503,
          0.539,
          0.406,
          0.085,
          0.557,
          0.531,
          0.025,
          0.636,
          0.244,
          0.481,
          0.596,
          0.592,
          0.603,
          0.591,
          0.557,
          0.572,
          0.574,
          0.585,
          0.584,
          0.532,
          0.526,
          0.454,
          0.159,
          0.334,
          0.431,
          0.498,
          0.361,
          0.026,
          0.455,
          0.443,
          0.143,
          0.555,
          0.417,
          0,
          0.66231674,
          0.665039897,
          0.62895447,
          0.661980748,
          0.670200884,
          0.61362648,
          0.650297701,
          0.646789908,
          0.603368878,
          0.610137045,
          0.644028127,
          0.534608245,
          0.25935635,
          0.399499595,
          0.49131754,
          0.169297516,
          0.581142247,
          0.487389833,
          0.243721485,
          0.50908941,
          0.509343088,
          0.604087889,
          0.37740472,
          0
         ],
         "yaxis": "y"
        }
       ],
       "layout": {
        "coloraxis": {
         "colorbar": {
          "title": {
           "text": "year"
          }
         },
         "colorscale": [
          [
           0,
           "#0d0887"
          ],
          [
           0.1111111111111111,
           "#46039f"
          ],
          [
           0.2222222222222222,
           "#7201a8"
          ],
          [
           0.3333333333333333,
           "#9c179e"
          ],
          [
           0.4444444444444444,
           "#bd3786"
          ],
          [
           0.5555555555555556,
           "#d8576b"
          ],
          [
           0.6666666666666666,
           "#ed7953"
          ],
          [
           0.7777777777777778,
           "#fb9f3a"
          ],
          [
           0.8888888888888888,
           "#fdca26"
          ],
          [
           1,
           "#f0f921"
          ]
         ]
        },
        "legend": {
         "tracegroupgap": 0
        },
        "template": {
         "data": {
          "bar": [
           {
            "error_x": {
             "color": "#2a3f5f"
            },
            "error_y": {
             "color": "#2a3f5f"
            },
            "marker": {
             "line": {
              "color": "#E5ECF6",
              "width": 0.5
             }
            },
            "type": "bar"
           }
          ],
          "barpolar": [
           {
            "marker": {
             "line": {
              "color": "#E5ECF6",
              "width": 0.5
             }
            },
            "type": "barpolar"
           }
          ],
          "carpet": [
           {
            "aaxis": {
             "endlinecolor": "#2a3f5f",
             "gridcolor": "white",
             "linecolor": "white",
             "minorgridcolor": "white",
             "startlinecolor": "#2a3f5f"
            },
            "baxis": {
             "endlinecolor": "#2a3f5f",
             "gridcolor": "white",
             "linecolor": "white",
             "minorgridcolor": "white",
             "startlinecolor": "#2a3f5f"
            },
            "type": "carpet"
           }
          ],
          "choropleth": [
           {
            "colorbar": {
             "outlinewidth": 0,
             "ticks": ""
            },
            "type": "choropleth"
           }
          ],
          "contour": [
           {
            "colorbar": {
             "outlinewidth": 0,
             "ticks": ""
            },
            "colorscale": [
             [
              0,
              "#0d0887"
             ],
             [
              0.1111111111111111,
              "#46039f"
             ],
             [
              0.2222222222222222,
              "#7201a8"
             ],
             [
              0.3333333333333333,
              "#9c179e"
             ],
             [
              0.4444444444444444,
              "#bd3786"
             ],
             [
              0.5555555555555556,
              "#d8576b"
             ],
             [
              0.6666666666666666,
              "#ed7953"
             ],
             [
              0.7777777777777778,
              "#fb9f3a"
             ],
             [
              0.8888888888888888,
              "#fdca26"
             ],
             [
              1,
              "#f0f921"
             ]
            ],
            "type": "contour"
           }
          ],
          "contourcarpet": [
           {
            "colorbar": {
             "outlinewidth": 0,
             "ticks": ""
            },
            "type": "contourcarpet"
           }
          ],
          "heatmap": [
           {
            "colorbar": {
             "outlinewidth": 0,
             "ticks": ""
            },
            "colorscale": [
             [
              0,
              "#0d0887"
             ],
             [
              0.1111111111111111,
              "#46039f"
             ],
             [
              0.2222222222222222,
              "#7201a8"
             ],
             [
              0.3333333333333333,
              "#9c179e"
             ],
             [
              0.4444444444444444,
              "#bd3786"
             ],
             [
              0.5555555555555556,
              "#d8576b"
             ],
             [
              0.6666666666666666,
              "#ed7953"
             ],
             [
              0.7777777777777778,
              "#fb9f3a"
             ],
             [
              0.8888888888888888,
              "#fdca26"
             ],
             [
              1,
              "#f0f921"
             ]
            ],
            "type": "heatmap"
           }
          ],
          "heatmapgl": [
           {
            "colorbar": {
             "outlinewidth": 0,
             "ticks": ""
            },
            "colorscale": [
             [
              0,
              "#0d0887"
             ],
             [
              0.1111111111111111,
              "#46039f"
             ],
             [
              0.2222222222222222,
              "#7201a8"
             ],
             [
              0.3333333333333333,
              "#9c179e"
             ],
             [
              0.4444444444444444,
              "#bd3786"
             ],
             [
              0.5555555555555556,
              "#d8576b"
             ],
             [
              0.6666666666666666,
              "#ed7953"
             ],
             [
              0.7777777777777778,
              "#fb9f3a"
             ],
             [
              0.8888888888888888,
              "#fdca26"
             ],
             [
              1,
              "#f0f921"
             ]
            ],
            "type": "heatmapgl"
           }
          ],
          "histogram": [
           {
            "marker": {
             "colorbar": {
              "outlinewidth": 0,
              "ticks": ""
             }
            },
            "type": "histogram"
           }
          ],
          "histogram2d": [
           {
            "colorbar": {
             "outlinewidth": 0,
             "ticks": ""
            },
            "colorscale": [
             [
              0,
              "#0d0887"
             ],
             [
              0.1111111111111111,
              "#46039f"
             ],
             [
              0.2222222222222222,
              "#7201a8"
             ],
             [
              0.3333333333333333,
              "#9c179e"
             ],
             [
              0.4444444444444444,
              "#bd3786"
             ],
             [
              0.5555555555555556,
              "#d8576b"
             ],
             [
              0.6666666666666666,
              "#ed7953"
             ],
             [
              0.7777777777777778,
              "#fb9f3a"
             ],
             [
              0.8888888888888888,
              "#fdca26"
             ],
             [
              1,
              "#f0f921"
             ]
            ],
            "type": "histogram2d"
           }
          ],
          "histogram2dcontour": [
           {
            "colorbar": {
             "outlinewidth": 0,
             "ticks": ""
            },
            "colorscale": [
             [
              0,
              "#0d0887"
             ],
             [
              0.1111111111111111,
              "#46039f"
             ],
             [
              0.2222222222222222,
              "#7201a8"
             ],
             [
              0.3333333333333333,
              "#9c179e"
             ],
             [
              0.4444444444444444,
              "#bd3786"
             ],
             [
              0.5555555555555556,
              "#d8576b"
             ],
             [
              0.6666666666666666,
              "#ed7953"
             ],
             [
              0.7777777777777778,
              "#fb9f3a"
             ],
             [
              0.8888888888888888,
              "#fdca26"
             ],
             [
              1,
              "#f0f921"
             ]
            ],
            "type": "histogram2dcontour"
           }
          ],
          "mesh3d": [
           {
            "colorbar": {
             "outlinewidth": 0,
             "ticks": ""
            },
            "type": "mesh3d"
           }
          ],
          "parcoords": [
           {
            "line": {
             "colorbar": {
              "outlinewidth": 0,
              "ticks": ""
             }
            },
            "type": "parcoords"
           }
          ],
          "pie": [
           {
            "automargin": true,
            "type": "pie"
           }
          ],
          "scatter": [
           {
            "marker": {
             "colorbar": {
              "outlinewidth": 0,
              "ticks": ""
             }
            },
            "type": "scatter"
           }
          ],
          "scatter3d": [
           {
            "line": {
             "colorbar": {
              "outlinewidth": 0,
              "ticks": ""
             }
            },
            "marker": {
             "colorbar": {
              "outlinewidth": 0,
              "ticks": ""
             }
            },
            "type": "scatter3d"
           }
          ],
          "scattercarpet": [
           {
            "marker": {
             "colorbar": {
              "outlinewidth": 0,
              "ticks": ""
             }
            },
            "type": "scattercarpet"
           }
          ],
          "scattergeo": [
           {
            "marker": {
             "colorbar": {
              "outlinewidth": 0,
              "ticks": ""
             }
            },
            "type": "scattergeo"
           }
          ],
          "scattergl": [
           {
            "marker": {
             "colorbar": {
              "outlinewidth": 0,
              "ticks": ""
             }
            },
            "type": "scattergl"
           }
          ],
          "scattermapbox": [
           {
            "marker": {
             "colorbar": {
              "outlinewidth": 0,
              "ticks": ""
             }
            },
            "type": "scattermapbox"
           }
          ],
          "scatterpolar": [
           {
            "marker": {
             "colorbar": {
              "outlinewidth": 0,
              "ticks": ""
             }
            },
            "type": "scatterpolar"
           }
          ],
          "scatterpolargl": [
           {
            "marker": {
             "colorbar": {
              "outlinewidth": 0,
              "ticks": ""
             }
            },
            "type": "scatterpolargl"
           }
          ],
          "scatterternary": [
           {
            "marker": {
             "colorbar": {
              "outlinewidth": 0,
              "ticks": ""
             }
            },
            "type": "scatterternary"
           }
          ],
          "surface": [
           {
            "colorbar": {
             "outlinewidth": 0,
             "ticks": ""
            },
            "colorscale": [
             [
              0,
              "#0d0887"
             ],
             [
              0.1111111111111111,
              "#46039f"
             ],
             [
              0.2222222222222222,
              "#7201a8"
             ],
             [
              0.3333333333333333,
              "#9c179e"
             ],
             [
              0.4444444444444444,
              "#bd3786"
             ],
             [
              0.5555555555555556,
              "#d8576b"
             ],
             [
              0.6666666666666666,
              "#ed7953"
             ],
             [
              0.7777777777777778,
              "#fb9f3a"
             ],
             [
              0.8888888888888888,
              "#fdca26"
             ],
             [
              1,
              "#f0f921"
             ]
            ],
            "type": "surface"
           }
          ],
          "table": [
           {
            "cells": {
             "fill": {
              "color": "#EBF0F8"
             },
             "line": {
              "color": "white"
             }
            },
            "header": {
             "fill": {
              "color": "#C8D4E3"
             },
             "line": {
              "color": "white"
             }
            },
            "type": "table"
           }
          ]
         },
         "layout": {
          "annotationdefaults": {
           "arrowcolor": "#2a3f5f",
           "arrowhead": 0,
           "arrowwidth": 1
          },
          "autotypenumbers": "strict",
          "coloraxis": {
           "colorbar": {
            "outlinewidth": 0,
            "ticks": ""
           }
          },
          "colorscale": {
           "diverging": [
            [
             0,
             "#8e0152"
            ],
            [
             0.1,
             "#c51b7d"
            ],
            [
             0.2,
             "#de77ae"
            ],
            [
             0.3,
             "#f1b6da"
            ],
            [
             0.4,
             "#fde0ef"
            ],
            [
             0.5,
             "#f7f7f7"
            ],
            [
             0.6,
             "#e6f5d0"
            ],
            [
             0.7,
             "#b8e186"
            ],
            [
             0.8,
             "#7fbc41"
            ],
            [
             0.9,
             "#4d9221"
            ],
            [
             1,
             "#276419"
            ]
           ],
           "sequential": [
            [
             0,
             "#0d0887"
            ],
            [
             0.1111111111111111,
             "#46039f"
            ],
            [
             0.2222222222222222,
             "#7201a8"
            ],
            [
             0.3333333333333333,
             "#9c179e"
            ],
            [
             0.4444444444444444,
             "#bd3786"
            ],
            [
             0.5555555555555556,
             "#d8576b"
            ],
            [
             0.6666666666666666,
             "#ed7953"
            ],
            [
             0.7777777777777778,
             "#fb9f3a"
            ],
            [
             0.8888888888888888,
             "#fdca26"
            ],
            [
             1,
             "#f0f921"
            ]
           ],
           "sequentialminus": [
            [
             0,
             "#0d0887"
            ],
            [
             0.1111111111111111,
             "#46039f"
            ],
            [
             0.2222222222222222,
             "#7201a8"
            ],
            [
             0.3333333333333333,
             "#9c179e"
            ],
            [
             0.4444444444444444,
             "#bd3786"
            ],
            [
             0.5555555555555556,
             "#d8576b"
            ],
            [
             0.6666666666666666,
             "#ed7953"
            ],
            [
             0.7777777777777778,
             "#fb9f3a"
            ],
            [
             0.8888888888888888,
             "#fdca26"
            ],
            [
             1,
             "#f0f921"
            ]
           ]
          },
          "colorway": [
           "#636efa",
           "#EF553B",
           "#00cc96",
           "#ab63fa",
           "#FFA15A",
           "#19d3f3",
           "#FF6692",
           "#B6E880",
           "#FF97FF",
           "#FECB52"
          ],
          "font": {
           "color": "#2a3f5f"
          },
          "geo": {
           "bgcolor": "white",
           "lakecolor": "white",
           "landcolor": "#E5ECF6",
           "showlakes": true,
           "showland": true,
           "subunitcolor": "white"
          },
          "hoverlabel": {
           "align": "left"
          },
          "hovermode": "closest",
          "mapbox": {
           "style": "light"
          },
          "paper_bgcolor": "white",
          "plot_bgcolor": "#E5ECF6",
          "polar": {
           "angularaxis": {
            "gridcolor": "white",
            "linecolor": "white",
            "ticks": ""
           },
           "bgcolor": "#E5ECF6",
           "radialaxis": {
            "gridcolor": "white",
            "linecolor": "white",
            "ticks": ""
           }
          },
          "scene": {
           "xaxis": {
            "backgroundcolor": "#E5ECF6",
            "gridcolor": "white",
            "gridwidth": 2,
            "linecolor": "white",
            "showbackground": true,
            "ticks": "",
            "zerolinecolor": "white"
           },
           "yaxis": {
            "backgroundcolor": "#E5ECF6",
            "gridcolor": "white",
            "gridwidth": 2,
            "linecolor": "white",
            "showbackground": true,
            "ticks": "",
            "zerolinecolor": "white"
           },
           "zaxis": {
            "backgroundcolor": "#E5ECF6",
            "gridcolor": "white",
            "gridwidth": 2,
            "linecolor": "white",
            "showbackground": true,
            "ticks": "",
            "zerolinecolor": "white"
           }
          },
          "shapedefaults": {
           "line": {
            "color": "#2a3f5f"
           }
          },
          "ternary": {
           "aaxis": {
            "gridcolor": "white",
            "linecolor": "white",
            "ticks": ""
           },
           "baxis": {
            "gridcolor": "white",
            "linecolor": "white",
            "ticks": ""
           },
           "bgcolor": "#E5ECF6",
           "caxis": {
            "gridcolor": "white",
            "linecolor": "white",
            "ticks": ""
           }
          },
          "title": {
           "x": 0.05
          },
          "xaxis": {
           "automargin": true,
           "gridcolor": "white",
           "linecolor": "white",
           "ticks": "",
           "title": {
            "standoff": 15
           },
           "zerolinecolor": "white",
           "zerolinewidth": 2
          },
          "yaxis": {
           "automargin": true,
           "gridcolor": "white",
           "linecolor": "white",
           "ticks": "",
           "title": {
            "standoff": 15
           },
           "zerolinecolor": "white",
           "zerolinewidth": 2
          }
         }
        },
        "title": {
         "text": "Freedom by year"
        },
        "xaxis": {
         "anchor": "y",
         "domain": [
          0,
          1
         ],
         "title": {
          "text": "Country or region"
         }
        },
        "yaxis": {
         "anchor": "x",
         "domain": [
          0,
          1
         ],
         "title": {
          "text": "Freedom"
         }
        }
       }
      },
      "text/html": [
       "<div>                            <div id=\"fdcfb2ea-4281-4d31-9e8c-e4f0adcabe13\" class=\"plotly-graph-div\" style=\"height:525px; width:100%;\"></div>            <script type=\"text/javascript\">                require([\"plotly\"], function(Plotly) {                    window.PLOTLYENV=window.PLOTLYENV || {};                                    if (document.getElementById(\"fdcfb2ea-4281-4d31-9e8c-e4f0adcabe13\")) {                    Plotly.newPlot(                        \"fdcfb2ea-4281-4d31-9e8c-e4f0adcabe13\",                        [{\"hovertemplate\": \"Country or region=%{x}<br>Freedom=%{y}<br>year=%{marker.color}<extra></extra>\", \"legendgroup\": \"\", \"marker\": {\"color\": [2015, 2015, 2015, 2015, 2015, 2015, 2015, 2015, 2015, 2015, 2015, 2015, 2015, 2015, 2015, 2015, 2015, 2015, 2015, 2015, 2015, 2015, 2015, 2015, 2016, 2016, 2016, 2016, 2016, 2016, 2016, 2016, 2016, 2016, 2016, 2016, 2016, 2016, 2016, 2016, 2016, 2016, 2016, 2016, 2016, 2016, 2016, 2016, 2017, 2017, 2017, 2017, 2017, 2017, 2017, 2017, 2017, 2017, 2017, 2017, 2017, 2017, 2017, 2017, 2017, 2017, 2017, 2017, 2017, 2017, 2017, 2017, 2018, 2018, 2018, 2018, 2018, 2018, 2018, 2018, 2018, 2018, 2018, 2018, 2018, 2018, 2018, 2018, 2018, 2018, 2018, 2018, 2018, 2018, 2018, 2018, 2019, 2019, 2019, 2019, 2019, 2019, 2019, 2019, 2019, 2019, 2019, 2019, 2019, 2019, 2019, 2019, 2019, 2019, 2019, 2019, 2019, 2019, 2019, 2019, 2020, 2020, 2020, 2020, 2020, 2020, 2020, 2020, 2020, 2020, 2020, 2020, 2020, 2020, 2020, 2020, 2020, 2020, 2020, 2020, 2020, 2020, 2020, 2020], \"coloraxis\": \"coloraxis\", \"symbol\": \"circle\"}, \"mode\": \"markers\", \"name\": \"\", \"orientation\": \"v\", \"showlegend\": false, \"type\": \"scatter\", \"x\": [\"Switzerland\", \"Iceland\", \"Denmark\", \"Norway\", \"Canada\", \"Finland\", \"Netherlands\", \"Sweden\", \"New Zealand\", \"Austria\", \"United States\", \"Luxembourg\", \"South Korea\", \"Russia\", \"Zambia\", \"Zimbabwe\", \"India\", \"Haiti\", \"Botswana\", \"Malawi\", \"Yemen\", \"Tanzania\", \"Afghanistan\", \"Rwanda\", \"Denmark\", \"Switzerland\", \"Iceland\", \"Norway\", \"Finland\", \"Canada\", \"Netherlands\", \"New Zealand\", \"Sweden\", \"Austria\", \"United States\", \"Luxembourg\", \"Russia\", \"South Korea\", \"Zambia\", \"India\", \"Zimbabwe\", \"Malawi\", \"Haiti\", \"Botswana\", \"Yemen\", \"Tanzania\", \"Rwanda\", \"Afghanistan\", \"Norway\", \"Denmark\", \"Iceland\", \"Switzerland\", \"Finland\", \"Netherlands\", \"Canada\", \"New Zealand\", \"Sweden\", \"Austria\", \"United States\", \"Luxembourg\", \"Russia\", \"South Korea\", \"Zambia\", \"India\", \"Malawi\", \"Zimbabwe\", \"Afghanistan\", \"Botswana\", \"Haiti\", \"Yemen\", \"Rwanda\", \"Tanzania\", \"Finland\", \"Norway\", \"Denmark\", \"Iceland\", \"Switzerland\", \"Netherlands\", \"Canada\", \"New Zealand\", \"Sweden\", \"Austria\", \"Luxembourg\", \"United States\", \"South Korea\", \"Russia\", \"Zambia\", \"India\", \"Zimbabwe\", \"Afghanistan\", \"Botswana\", \"Malawi\", \"Haiti\", \"Rwanda\", \"Yemen\", \"Tanzania\", \"Finland\", \"Denmark\", \"Norway\", \"Iceland\", \"Netherlands\", \"Switzerland\", \"Sweden\", \"New Zealand\", \"Canada\", \"Austria\", \"Luxembourg\", \"United States\", \"South Korea\", \"Russia\", \"Zambia\", \"India\", \"Zimbabwe\", \"Haiti\", \"Botswana\", \"Malawi\", \"Yemen\", \"Rwanda\", \"Tanzania\", \"Afghanistan\", \"Finland\", \"Denmark\", \"Switzerland\", \"Iceland\", \"Norway\", \"Netherlands\", \"Sweden\", \"New Zealand\", \"Austria\", \"Luxembourg\", \"Canada\", \"United States\", \"South Korea\", \"Russia\", \"Zambia\", \"Haiti\", \"India\", \"Malawi\", \"Yemen\", \"Botswana\", \"Tanzania\", \"Rwanda\", \"Zimbabwe\", \"Afghanistan\"], \"xaxis\": \"x\", \"y\": [0.66557, 0.62877, 0.64938, 0.66973, 0.63297, 0.64169, 0.61576, 0.6598, 0.63938, 0.62433, 0.54604, 0.61583, 0.33208, 0.36679, 0.48827, 0.25861, 0.39786, 0.24425, 0.49495, 0.43054, 0.35571, 0.32878, 0.23414, 0.59201, 0.57941, 0.58557, 0.56624, 0.59609, 0.57104, 0.5737, 0.55211, 0.58147, 0.58218, 0.54355, 0.48163, 0.5487, 0.32682, 0.25168, 0.42662, 0.40285, 0.25429, 0.4143, 0.12072, 0.44089, 0.2287, 0.3176, 0.5432, 0.1643, 0.635422587394714, 0.626006722450256, 0.627162635326385, 0.620070576667786, 0.617950856685638, 0.585384488105774, 0.611100912094116, 0.614062130451202, 0.612924098968506, 0.567766189575195, 0.505740523338318, 0.59662789106369, 0.373783111572266, 0.257921665906906, 0.461603492498398, 0.469987004995346, 0.466914653778076, 0.336384207010269, 0.106179520487785, 0.505196332931519, 0.0303698573261499, 0.249463722109795, 0.581843852996826, 0.390017777681351, 0.681, 0.686, 0.683, 0.677, 0.66, 0.638, 0.653, 0.669, 0.659, 0.617, 0.632, 0.547, 0.244, 0.399, 0.503, 0.539, 0.406, 0.085, 0.557, 0.531, 0.025, 0.636, 0.244, 0.481, 0.596, 0.592, 0.603, 0.591, 0.557, 0.572, 0.574, 0.585, 0.584, 0.532, 0.526, 0.454, 0.159, 0.334, 0.431, 0.498, 0.361, 0.026, 0.455, 0.443, 0.143, 0.555, 0.417, 0.0, 0.66231674, 0.665039897, 0.62895447, 0.661980748, 0.670200884, 0.61362648, 0.650297701, 0.646789908, 0.603368878, 0.610137045, 0.644028127, 0.534608245, 0.25935635, 0.399499595, 0.49131754, 0.169297516, 0.581142247, 0.487389833, 0.243721485, 0.50908941, 0.509343088, 0.604087889, 0.37740472, 0.0], \"yaxis\": \"y\"}],                        {\"coloraxis\": {\"colorbar\": {\"title\": {\"text\": \"year\"}}, \"colorscale\": [[0.0, \"#0d0887\"], [0.1111111111111111, \"#46039f\"], [0.2222222222222222, \"#7201a8\"], [0.3333333333333333, \"#9c179e\"], [0.4444444444444444, \"#bd3786\"], [0.5555555555555556, \"#d8576b\"], [0.6666666666666666, \"#ed7953\"], [0.7777777777777778, \"#fb9f3a\"], [0.8888888888888888, \"#fdca26\"], [1.0, \"#f0f921\"]]}, \"legend\": {\"tracegroupgap\": 0}, \"template\": {\"data\": {\"bar\": [{\"error_x\": {\"color\": \"#2a3f5f\"}, \"error_y\": {\"color\": \"#2a3f5f\"}, \"marker\": {\"line\": {\"color\": \"#E5ECF6\", \"width\": 0.5}}, \"type\": \"bar\"}], \"barpolar\": [{\"marker\": {\"line\": {\"color\": \"#E5ECF6\", \"width\": 0.5}}, \"type\": \"barpolar\"}], \"carpet\": [{\"aaxis\": {\"endlinecolor\": \"#2a3f5f\", \"gridcolor\": \"white\", \"linecolor\": \"white\", \"minorgridcolor\": \"white\", \"startlinecolor\": \"#2a3f5f\"}, \"baxis\": {\"endlinecolor\": \"#2a3f5f\", \"gridcolor\": \"white\", \"linecolor\": \"white\", \"minorgridcolor\": \"white\", \"startlinecolor\": \"#2a3f5f\"}, \"type\": \"carpet\"}], \"choropleth\": [{\"colorbar\": {\"outlinewidth\": 0, \"ticks\": \"\"}, \"type\": \"choropleth\"}], \"contour\": [{\"colorbar\": {\"outlinewidth\": 0, \"ticks\": \"\"}, \"colorscale\": [[0.0, \"#0d0887\"], [0.1111111111111111, \"#46039f\"], [0.2222222222222222, \"#7201a8\"], [0.3333333333333333, \"#9c179e\"], [0.4444444444444444, \"#bd3786\"], [0.5555555555555556, \"#d8576b\"], [0.6666666666666666, \"#ed7953\"], [0.7777777777777778, \"#fb9f3a\"], [0.8888888888888888, \"#fdca26\"], [1.0, \"#f0f921\"]], \"type\": \"contour\"}], \"contourcarpet\": [{\"colorbar\": {\"outlinewidth\": 0, \"ticks\": \"\"}, \"type\": \"contourcarpet\"}], \"heatmap\": [{\"colorbar\": {\"outlinewidth\": 0, \"ticks\": \"\"}, \"colorscale\": [[0.0, \"#0d0887\"], [0.1111111111111111, \"#46039f\"], [0.2222222222222222, \"#7201a8\"], [0.3333333333333333, \"#9c179e\"], [0.4444444444444444, \"#bd3786\"], [0.5555555555555556, \"#d8576b\"], [0.6666666666666666, \"#ed7953\"], [0.7777777777777778, \"#fb9f3a\"], [0.8888888888888888, \"#fdca26\"], [1.0, \"#f0f921\"]], \"type\": \"heatmap\"}], \"heatmapgl\": [{\"colorbar\": {\"outlinewidth\": 0, \"ticks\": \"\"}, \"colorscale\": [[0.0, \"#0d0887\"], [0.1111111111111111, \"#46039f\"], [0.2222222222222222, \"#7201a8\"], [0.3333333333333333, \"#9c179e\"], [0.4444444444444444, \"#bd3786\"], [0.5555555555555556, \"#d8576b\"], [0.6666666666666666, \"#ed7953\"], [0.7777777777777778, \"#fb9f3a\"], [0.8888888888888888, \"#fdca26\"], [1.0, \"#f0f921\"]], \"type\": \"heatmapgl\"}], \"histogram\": [{\"marker\": {\"colorbar\": {\"outlinewidth\": 0, \"ticks\": \"\"}}, \"type\": \"histogram\"}], \"histogram2d\": [{\"colorbar\": {\"outlinewidth\": 0, \"ticks\": \"\"}, \"colorscale\": [[0.0, \"#0d0887\"], [0.1111111111111111, \"#46039f\"], [0.2222222222222222, \"#7201a8\"], [0.3333333333333333, \"#9c179e\"], [0.4444444444444444, \"#bd3786\"], [0.5555555555555556, \"#d8576b\"], [0.6666666666666666, \"#ed7953\"], [0.7777777777777778, \"#fb9f3a\"], [0.8888888888888888, \"#fdca26\"], [1.0, \"#f0f921\"]], \"type\": \"histogram2d\"}], \"histogram2dcontour\": [{\"colorbar\": {\"outlinewidth\": 0, \"ticks\": \"\"}, \"colorscale\": [[0.0, \"#0d0887\"], [0.1111111111111111, \"#46039f\"], [0.2222222222222222, \"#7201a8\"], [0.3333333333333333, \"#9c179e\"], [0.4444444444444444, \"#bd3786\"], [0.5555555555555556, \"#d8576b\"], [0.6666666666666666, \"#ed7953\"], [0.7777777777777778, \"#fb9f3a\"], [0.8888888888888888, \"#fdca26\"], [1.0, \"#f0f921\"]], \"type\": \"histogram2dcontour\"}], \"mesh3d\": [{\"colorbar\": {\"outlinewidth\": 0, \"ticks\": \"\"}, \"type\": \"mesh3d\"}], \"parcoords\": [{\"line\": {\"colorbar\": {\"outlinewidth\": 0, \"ticks\": \"\"}}, \"type\": \"parcoords\"}], \"pie\": [{\"automargin\": true, \"type\": \"pie\"}], \"scatter\": [{\"marker\": {\"colorbar\": {\"outlinewidth\": 0, \"ticks\": \"\"}}, \"type\": \"scatter\"}], \"scatter3d\": [{\"line\": {\"colorbar\": {\"outlinewidth\": 0, \"ticks\": \"\"}}, \"marker\": {\"colorbar\": {\"outlinewidth\": 0, \"ticks\": \"\"}}, \"type\": \"scatter3d\"}], \"scattercarpet\": [{\"marker\": {\"colorbar\": {\"outlinewidth\": 0, \"ticks\": \"\"}}, \"type\": \"scattercarpet\"}], \"scattergeo\": [{\"marker\": {\"colorbar\": {\"outlinewidth\": 0, \"ticks\": \"\"}}, \"type\": \"scattergeo\"}], \"scattergl\": [{\"marker\": {\"colorbar\": {\"outlinewidth\": 0, \"ticks\": \"\"}}, \"type\": \"scattergl\"}], \"scattermapbox\": [{\"marker\": {\"colorbar\": {\"outlinewidth\": 0, \"ticks\": \"\"}}, \"type\": \"scattermapbox\"}], \"scatterpolar\": [{\"marker\": {\"colorbar\": {\"outlinewidth\": 0, \"ticks\": \"\"}}, \"type\": \"scatterpolar\"}], \"scatterpolargl\": [{\"marker\": {\"colorbar\": {\"outlinewidth\": 0, \"ticks\": \"\"}}, \"type\": \"scatterpolargl\"}], \"scatterternary\": [{\"marker\": {\"colorbar\": {\"outlinewidth\": 0, \"ticks\": \"\"}}, \"type\": \"scatterternary\"}], \"surface\": [{\"colorbar\": {\"outlinewidth\": 0, \"ticks\": \"\"}, \"colorscale\": [[0.0, \"#0d0887\"], [0.1111111111111111, \"#46039f\"], [0.2222222222222222, \"#7201a8\"], [0.3333333333333333, \"#9c179e\"], [0.4444444444444444, \"#bd3786\"], [0.5555555555555556, \"#d8576b\"], [0.6666666666666666, \"#ed7953\"], [0.7777777777777778, \"#fb9f3a\"], [0.8888888888888888, \"#fdca26\"], [1.0, \"#f0f921\"]], \"type\": \"surface\"}], \"table\": [{\"cells\": {\"fill\": {\"color\": \"#EBF0F8\"}, \"line\": {\"color\": \"white\"}}, \"header\": {\"fill\": {\"color\": \"#C8D4E3\"}, \"line\": {\"color\": \"white\"}}, \"type\": \"table\"}]}, \"layout\": {\"annotationdefaults\": {\"arrowcolor\": \"#2a3f5f\", \"arrowhead\": 0, \"arrowwidth\": 1}, \"autotypenumbers\": \"strict\", \"coloraxis\": {\"colorbar\": {\"outlinewidth\": 0, \"ticks\": \"\"}}, \"colorscale\": {\"diverging\": [[0, \"#8e0152\"], [0.1, \"#c51b7d\"], [0.2, \"#de77ae\"], [0.3, \"#f1b6da\"], [0.4, \"#fde0ef\"], [0.5, \"#f7f7f7\"], [0.6, \"#e6f5d0\"], [0.7, \"#b8e186\"], [0.8, \"#7fbc41\"], [0.9, \"#4d9221\"], [1, \"#276419\"]], \"sequential\": [[0.0, \"#0d0887\"], [0.1111111111111111, \"#46039f\"], [0.2222222222222222, \"#7201a8\"], [0.3333333333333333, \"#9c179e\"], [0.4444444444444444, \"#bd3786\"], [0.5555555555555556, \"#d8576b\"], [0.6666666666666666, \"#ed7953\"], [0.7777777777777778, \"#fb9f3a\"], [0.8888888888888888, \"#fdca26\"], [1.0, \"#f0f921\"]], \"sequentialminus\": [[0.0, \"#0d0887\"], [0.1111111111111111, \"#46039f\"], [0.2222222222222222, \"#7201a8\"], [0.3333333333333333, \"#9c179e\"], [0.4444444444444444, \"#bd3786\"], [0.5555555555555556, \"#d8576b\"], [0.6666666666666666, \"#ed7953\"], [0.7777777777777778, \"#fb9f3a\"], [0.8888888888888888, \"#fdca26\"], [1.0, \"#f0f921\"]]}, \"colorway\": [\"#636efa\", \"#EF553B\", \"#00cc96\", \"#ab63fa\", \"#FFA15A\", \"#19d3f3\", \"#FF6692\", \"#B6E880\", \"#FF97FF\", \"#FECB52\"], \"font\": {\"color\": \"#2a3f5f\"}, \"geo\": {\"bgcolor\": \"white\", \"lakecolor\": \"white\", \"landcolor\": \"#E5ECF6\", \"showlakes\": true, \"showland\": true, \"subunitcolor\": \"white\"}, \"hoverlabel\": {\"align\": \"left\"}, \"hovermode\": \"closest\", \"mapbox\": {\"style\": \"light\"}, \"paper_bgcolor\": \"white\", \"plot_bgcolor\": \"#E5ECF6\", \"polar\": {\"angularaxis\": {\"gridcolor\": \"white\", \"linecolor\": \"white\", \"ticks\": \"\"}, \"bgcolor\": \"#E5ECF6\", \"radialaxis\": {\"gridcolor\": \"white\", \"linecolor\": \"white\", \"ticks\": \"\"}}, \"scene\": {\"xaxis\": {\"backgroundcolor\": \"#E5ECF6\", \"gridcolor\": \"white\", \"gridwidth\": 2, \"linecolor\": \"white\", \"showbackground\": true, \"ticks\": \"\", \"zerolinecolor\": \"white\"}, \"yaxis\": {\"backgroundcolor\": \"#E5ECF6\", \"gridcolor\": \"white\", \"gridwidth\": 2, \"linecolor\": \"white\", \"showbackground\": true, \"ticks\": \"\", \"zerolinecolor\": \"white\"}, \"zaxis\": {\"backgroundcolor\": \"#E5ECF6\", \"gridcolor\": \"white\", \"gridwidth\": 2, \"linecolor\": \"white\", \"showbackground\": true, \"ticks\": \"\", \"zerolinecolor\": \"white\"}}, \"shapedefaults\": {\"line\": {\"color\": \"#2a3f5f\"}}, \"ternary\": {\"aaxis\": {\"gridcolor\": \"white\", \"linecolor\": \"white\", \"ticks\": \"\"}, \"baxis\": {\"gridcolor\": \"white\", \"linecolor\": \"white\", \"ticks\": \"\"}, \"bgcolor\": \"#E5ECF6\", \"caxis\": {\"gridcolor\": \"white\", \"linecolor\": \"white\", \"ticks\": \"\"}}, \"title\": {\"x\": 0.05}, \"xaxis\": {\"automargin\": true, \"gridcolor\": \"white\", \"linecolor\": \"white\", \"ticks\": \"\", \"title\": {\"standoff\": 15}, \"zerolinecolor\": \"white\", \"zerolinewidth\": 2}, \"yaxis\": {\"automargin\": true, \"gridcolor\": \"white\", \"linecolor\": \"white\", \"ticks\": \"\", \"title\": {\"standoff\": 15}, \"zerolinecolor\": \"white\", \"zerolinewidth\": 2}}}, \"title\": {\"text\": \"Freedom by year\"}, \"xaxis\": {\"anchor\": \"y\", \"domain\": [0.0, 1.0], \"title\": {\"text\": \"Country or region\"}}, \"yaxis\": {\"anchor\": \"x\", \"domain\": [0.0, 1.0], \"title\": {\"text\": \"Freedom\"}}},                        {\"responsive\": true}                    ).then(function(){\n",
       "                            \n",
       "var gd = document.getElementById('fdcfb2ea-4281-4d31-9e8c-e4f0adcabe13');\n",
       "var x = new MutationObserver(function (mutations, observer) {{\n",
       "        var display = window.getComputedStyle(gd).display;\n",
       "        if (!display || display === 'none') {{\n",
       "            console.log([gd, 'removed!']);\n",
       "            Plotly.purge(gd);\n",
       "            observer.disconnect();\n",
       "        }}\n",
       "}});\n",
       "\n",
       "// Listen for the removal of the full notebook cells\n",
       "var notebookContainer = gd.closest('#notebook-container');\n",
       "if (notebookContainer) {{\n",
       "    x.observe(notebookContainer, {childList: true});\n",
       "}}\n",
       "\n",
       "// Listen for the clearing of the current output cell\n",
       "var outputEl = gd.closest('.output');\n",
       "if (outputEl) {{\n",
       "    x.observe(outputEl, {childList: true});\n",
       "}}\n",
       "\n",
       "                        })                };                });            </script>        </div>"
      ]
     },
     "metadata": {},
     "output_type": "display_data"
    }
   ],
   "source": [
    "plot_scatter('Freedom')"
   ]
  },
  {
   "cell_type": "code",
   "execution_count": 2179,
   "id": "impressive-clock",
   "metadata": {},
   "outputs": [],
   "source": [
    "train_y = df_all['Freedom'].to_numpy()\n",
    "train_x = df_all.drop(columns=['Freedom']).iloc[:, 4:]\n",
    "test_y = df2019['Freedom'].to_numpy()\n",
    "test_x = df2019.drop(columns=['Freedom']).iloc[:, 4:]\n",
    "scaler = StandardScaler()\n",
    "train_x = scaler.fit_transform(train_x)\n",
    "test_x = scaler.transform(test_x)"
   ]
  },
  {
   "cell_type": "code",
   "execution_count": 2180,
   "id": "tested-problem",
   "metadata": {},
   "outputs": [],
   "source": [
    "lr = LinearRegression()\n",
    "lr.fit(train_x, train_y)\n",
    "hyp_fre = lr.predict(test_x)"
   ]
  },
  {
   "cell_type": "code",
   "execution_count": 2181,
   "id": "secondary-affiliate",
   "metadata": {},
   "outputs": [
    {
     "name": "stdout",
     "output_type": "stream",
     "text": [
      "R2 score...          \t -3.4766349913066802e+25\n",
      "Variance explained...\t -3.451441984123262e+25\n",
      "Mean squared error...\t 6.758432230635313e+23\n"
     ]
    }
   ],
   "source": [
    "r2 = r2_score(test_y, hyp_fre)\n",
    "var = explained_variance_score(test_y, hyp_fre)\n",
    "mse = mean_squared_error(test_y, hyp_fre)\n",
    "print('R2 score...          \\t', r2)\n",
    "print('Variance explained...\\t', var)\n",
    "print('Mean squared error...\\t', mse)"
   ]
  },
  {
   "cell_type": "markdown",
   "id": "sacred-monday",
   "metadata": {},
   "source": [
    "### Perceptions of corruption"
   ]
  },
  {
   "cell_type": "code",
   "execution_count": 2182,
   "id": "mental-wagon",
   "metadata": {},
   "outputs": [
    {
     "data": {
      "application/vnd.plotly.v1+json": {
       "config": {
        "plotlyServerURL": "https://plot.ly"
       },
       "data": [
        {
         "hovertemplate": "Country or region=Switzerland<br>year=%{x}<br>Perceptions of corruption=%{y}<extra></extra>",
         "legendgroup": "Switzerland",
         "line": {
          "color": "#636efa",
          "dash": "solid"
         },
         "mode": "lines",
         "name": "Switzerland",
         "orientation": "v",
         "showlegend": true,
         "type": "scatter",
         "x": [
          2015,
          2016,
          2017,
          2018,
          2019,
          2020
         ],
         "xaxis": "x",
         "y": [
          0.41978,
          0.41203,
          0.367007285356522,
          0.357,
          0.343,
          0.407945901
         ],
         "yaxis": "y"
        },
        {
         "hovertemplate": "Country or region=Iceland<br>year=%{x}<br>Perceptions of corruption=%{y}<extra></extra>",
         "legendgroup": "Iceland",
         "line": {
          "color": "#EF553B",
          "dash": "solid"
         },
         "mode": "lines",
         "name": "Iceland",
         "orientation": "v",
         "showlegend": true,
         "type": "scatter",
         "x": [
          2015,
          2016,
          2017,
          2018,
          2019,
          2020
         ],
         "xaxis": "x",
         "y": [
          0.14145,
          0.14975,
          0.153526559472084,
          0.138,
          0.118,
          0.144540772
         ],
         "yaxis": "y"
        },
        {
         "hovertemplate": "Country or region=Denmark<br>year=%{x}<br>Perceptions of corruption=%{y}<extra></extra>",
         "legendgroup": "Denmark",
         "line": {
          "color": "#00cc96",
          "dash": "solid"
         },
         "mode": "lines",
         "name": "Denmark",
         "orientation": "v",
         "showlegend": true,
         "type": "scatter",
         "x": [
          2015,
          2016,
          2017,
          2018,
          2019,
          2020
         ],
         "xaxis": "x",
         "y": [
          0.48357,
          0.44453,
          0.40077006816864,
          0.408,
          0.41,
          0.495260328
         ],
         "yaxis": "y"
        },
        {
         "hovertemplate": "Country or region=Norway<br>year=%{x}<br>Perceptions of corruption=%{y}<extra></extra>",
         "legendgroup": "Norway",
         "line": {
          "color": "#ab63fa",
          "dash": "solid"
         },
         "mode": "lines",
         "name": "Norway",
         "orientation": "v",
         "showlegend": true,
         "type": "scatter",
         "x": [
          2015,
          2016,
          2017,
          2018,
          2019,
          2020
         ],
         "xaxis": "x",
         "y": [
          0.36503,
          0.35776,
          0.315963834524155,
          0.34,
          0.341,
          0.434100568
         ],
         "yaxis": "y"
        },
        {
         "hovertemplate": "Country or region=Canada<br>year=%{x}<br>Perceptions of corruption=%{y}<extra></extra>",
         "legendgroup": "Canada",
         "line": {
          "color": "#FFA15A",
          "dash": "solid"
         },
         "mode": "lines",
         "name": "Canada",
         "orientation": "v",
         "showlegend": true,
         "type": "scatter",
         "x": [
          2015,
          2016,
          2017,
          2018,
          2019,
          2020
         ],
         "xaxis": "x",
         "y": [
          0.32957,
          0.31329,
          0.287371516227722,
          0.291,
          0.308,
          0.351701856
         ],
         "yaxis": "y"
        },
        {
         "hovertemplate": "Country or region=Finland<br>year=%{x}<br>Perceptions of corruption=%{y}<extra></extra>",
         "legendgroup": "Finland",
         "line": {
          "color": "#19d3f3",
          "dash": "solid"
         },
         "mode": "lines",
         "name": "Finland",
         "orientation": "v",
         "showlegend": true,
         "type": "scatter",
         "x": [
          2015,
          2016,
          2017,
          2018,
          2019,
          2020
         ],
         "xaxis": "x",
         "y": [
          0.41372,
          0.41004,
          0.38261154294014,
          0.393,
          0.393,
          0.477857262
         ],
         "yaxis": "y"
        },
        {
         "hovertemplate": "Country or region=Netherlands<br>year=%{x}<br>Perceptions of corruption=%{y}<extra></extra>",
         "legendgroup": "Netherlands",
         "line": {
          "color": "#FF6692",
          "dash": "solid"
         },
         "mode": "lines",
         "name": "Netherlands",
         "orientation": "v",
         "showlegend": true,
         "type": "scatter",
         "x": [
          2015,
          2016,
          2017,
          2018,
          2019,
          2020
         ],
         "xaxis": "x",
         "y": [
          0.31814,
          0.29927,
          0.282661825418472,
          0.295,
          0.298,
          0.368569762
         ],
         "yaxis": "y"
        },
        {
         "hovertemplate": "Country or region=Sweden<br>year=%{x}<br>Perceptions of corruption=%{y}<extra></extra>",
         "legendgroup": "Sweden",
         "line": {
          "color": "#B6E880",
          "dash": "solid"
         },
         "mode": "lines",
         "name": "Sweden",
         "orientation": "v",
         "showlegend": true,
         "type": "scatter",
         "x": [
          2015,
          2016,
          2017,
          2018,
          2019,
          2020
         ],
         "xaxis": "x",
         "y": [
          0.43844,
          0.40867,
          0.384398728609085,
          0.383,
          0.373,
          0.442066371
         ],
         "yaxis": "y"
        },
        {
         "hovertemplate": "Country or region=New Zealand<br>year=%{x}<br>Perceptions of corruption=%{y}<extra></extra>",
         "legendgroup": "New Zealand",
         "line": {
          "color": "#FF97FF",
          "dash": "solid"
         },
         "mode": "lines",
         "name": "New Zealand",
         "orientation": "v",
         "showlegend": true,
         "type": "scatter",
         "x": [
          2015,
          2016,
          2017,
          2018,
          2019,
          2020
         ],
         "xaxis": "x",
         "y": [
          0.42922,
          0.41904,
          0.382816702127457,
          0.389,
          0.38,
          0.461268276
         ],
         "yaxis": "y"
        },
        {
         "hovertemplate": "Country or region=Austria<br>year=%{x}<br>Perceptions of corruption=%{y}<extra></extra>",
         "legendgroup": "Austria",
         "line": {
          "color": "#FECB52",
          "dash": "solid"
         },
         "mode": "lines",
         "name": "Austria",
         "orientation": "v",
         "showlegend": true,
         "type": "scatter",
         "x": [
          2015,
          2016,
          2017,
          2018,
          2019,
          2020
         ],
         "xaxis": "x",
         "y": [
          0.18676,
          0.21348,
          0.221060365438461,
          0.224,
          0.226,
          0.281256139
         ],
         "yaxis": "y"
        },
        {
         "hovertemplate": "Country or region=United States<br>year=%{x}<br>Perceptions of corruption=%{y}<extra></extra>",
         "legendgroup": "United States",
         "line": {
          "color": "#636efa",
          "dash": "solid"
         },
         "mode": "lines",
         "name": "United States",
         "orientation": "v",
         "showlegend": true,
         "type": "scatter",
         "x": [
          2015,
          2016,
          2017,
          2018,
          2019,
          2020
         ],
         "xaxis": "x",
         "y": [
          0.1589,
          0.14868,
          0.135638788342476,
          0.133,
          0.128,
          0.152284741
         ],
         "yaxis": "y"
        },
        {
         "hovertemplate": "Country or region=Luxembourg<br>year=%{x}<br>Perceptions of corruption=%{y}<extra></extra>",
         "legendgroup": "Luxembourg",
         "line": {
          "color": "#EF553B",
          "dash": "solid"
         },
         "mode": "lines",
         "name": "Luxembourg",
         "orientation": "v",
         "showlegend": true,
         "type": "scatter",
         "x": [
          2015,
          2016,
          2017,
          2018,
          2019,
          2020
         ],
         "xaxis": "x",
         "y": [
          0.37798,
          0.35329,
          0.31883442401886,
          0.321,
          0.316,
          0.367041469
         ],
         "yaxis": "y"
        },
        {
         "hovertemplate": "Country or region=South Korea<br>year=%{x}<br>Perceptions of corruption=%{y}<extra></extra>",
         "legendgroup": "South Korea",
         "line": {
          "color": "#00cc96",
          "dash": "solid"
         },
         "mode": "lines",
         "name": "South Korea",
         "orientation": "v",
         "showlegend": true,
         "type": "scatter",
         "x": [
          2015,
          2016,
          2017,
          2018,
          2019,
          2020
         ],
         "xaxis": "x",
         "y": [
          0.07857,
          0.07716,
          0.0632826685905457,
          0.051,
          0.056,
          0.094596282
         ],
         "yaxis": "y"
        },
        {
         "hovertemplate": "Country or region=Russia<br>year=%{x}<br>Perceptions of corruption=%{y}<extra></extra>",
         "legendgroup": "Russia",
         "line": {
          "color": "#ab63fa",
          "dash": "solid"
         },
         "mode": "lines",
         "name": "Russia",
         "orientation": "v",
         "showlegend": true,
         "type": "scatter",
         "x": [
          2015,
          2016,
          2017,
          2018,
          2019,
          2020
         ],
         "xaxis": "x",
         "y": [
          0.03005,
          0.03586,
          0.0329628810286522,
          0.025,
          0.031,
          0.045699362
         ],
         "yaxis": "y"
        },
        {
         "hovertemplate": "Country or region=Zambia<br>year=%{x}<br>Perceptions of corruption=%{y}<extra></extra>",
         "legendgroup": "Zambia",
         "line": {
          "color": "#FFA15A",
          "dash": "solid"
         },
         "mode": "lines",
         "name": "Zambia",
         "orientation": "v",
         "showlegend": true,
         "type": "scatter",
         "x": [
          2015,
          2016,
          2017,
          2018,
          2019,
          2020
         ],
         "xaxis": "x",
         "y": [
          0.12468,
          0.11479,
          0.0782135501503944,
          0.082,
          0.087,
          0.086705238
         ],
         "yaxis": "y"
        },
        {
         "hovertemplate": "Country or region=Zimbabwe<br>year=%{x}<br>Perceptions of corruption=%{y}<extra></extra>",
         "legendgroup": "Zimbabwe",
         "line": {
          "color": "#19d3f3",
          "dash": "solid"
         },
         "mode": "lines",
         "name": "Zimbabwe",
         "orientation": "v",
         "showlegend": true,
         "type": "scatter",
         "x": [
          2015,
          2016,
          2017,
          2018,
          2019,
          2020
         ],
         "xaxis": "x",
         "y": [
          0.08079,
          0.08582,
          0.0953753814101219,
          0.099,
          0.089,
          0.080928579
         ],
         "yaxis": "y"
        },
        {
         "hovertemplate": "Country or region=India<br>year=%{x}<br>Perceptions of corruption=%{y}<extra></extra>",
         "legendgroup": "India",
         "line": {
          "color": "#FF6692",
          "dash": "solid"
         },
         "mode": "lines",
         "name": "India",
         "orientation": "v",
         "showlegend": true,
         "type": "scatter",
         "x": [
          2015,
          2016,
          2017,
          2018,
          2019,
          2020
         ],
         "xaxis": "x",
         "y": [
          0.08492,
          0.08722,
          0.0922268852591515,
          0.093,
          0.085,
          0.105587982
         ],
         "yaxis": "y"
        },
        {
         "hovertemplate": "Country or region=Haiti<br>year=%{x}<br>Perceptions of corruption=%{y}<extra></extra>",
         "legendgroup": "Haiti",
         "line": {
          "color": "#B6E880",
          "dash": "solid"
         },
         "mode": "lines",
         "name": "Haiti",
         "orientation": "v",
         "showlegend": true,
         "type": "scatter",
         "x": [
          2015,
          2016,
          2017,
          2018,
          2019,
          2020
         ],
         "xaxis": "x",
         "y": [
          0.17175,
          0.14476,
          0.0998721495270729,
          0.104,
          0.11,
          0.161935672
         ],
         "yaxis": "y"
        },
        {
         "hovertemplate": "Country or region=Botswana<br>year=%{x}<br>Perceptions of corruption=%{y}<extra></extra>",
         "legendgroup": "Botswana",
         "line": {
          "color": "#FF97FF",
          "dash": "solid"
         },
         "mode": "lines",
         "name": "Botswana",
         "orientation": "v",
         "showlegend": true,
         "type": "scatter",
         "x": [
          2015,
          2016,
          2017,
          2018,
          2019,
          2020
         ],
         "xaxis": "x",
         "y": [
          0.12474,
          0.10769,
          0.0985831990838051,
          0.092,
          0.1,
          0.101786368
         ],
         "yaxis": "y"
        },
        {
         "hovertemplate": "Country or region=Malawi<br>year=%{x}<br>Perceptions of corruption=%{y}<extra></extra>",
         "legendgroup": "Malawi",
         "line": {
          "color": "#FECB52",
          "dash": "solid"
         },
         "mode": "lines",
         "name": "Malawi",
         "orientation": "v",
         "showlegend": true,
         "type": "scatter",
         "x": [
          2015,
          2016,
          2017,
          2018,
          2019,
          2020
         ],
         "xaxis": "x",
         "y": [
          0.06977,
          0.07564,
          0.0727116540074348,
          0.08,
          0.089,
          0.131633952
         ],
         "yaxis": "y"
        },
        {
         "hovertemplate": "Country or region=Yemen<br>year=%{x}<br>Perceptions of corruption=%{y}<extra></extra>",
         "legendgroup": "Yemen",
         "line": {
          "color": "#636efa",
          "dash": "solid"
         },
         "mode": "lines",
         "name": "Yemen",
         "orientation": "v",
         "showlegend": true,
         "type": "scatter",
         "x": [
          2015,
          2016,
          2017,
          2018,
          2019,
          2020
         ],
         "xaxis": "x",
         "y": [
          0.07854,
          0.05892,
          0.0567674227058887,
          0.064,
          0.077,
          0.087352127
         ],
         "yaxis": "y"
        },
        {
         "hovertemplate": "Country or region=Tanzania<br>year=%{x}<br>Perceptions of corruption=%{y}<extra></extra>",
         "legendgroup": "Tanzania",
         "line": {
          "color": "#EF553B",
          "dash": "solid"
         },
         "mode": "lines",
         "name": "Tanzania",
         "orientation": "v",
         "showlegend": true,
         "type": "scatter",
         "x": [
          2015,
          2016,
          2017,
          2018,
          2019,
          2020
         ],
         "xaxis": "x",
         "y": [
          0.05747,
          0.05099,
          0.0660351067781448,
          0.097,
          0.147,
          0.203880861
         ],
         "yaxis": "y"
        },
        {
         "hovertemplate": "Country or region=Afghanistan<br>year=%{x}<br>Perceptions of corruption=%{y}<extra></extra>",
         "legendgroup": "Afghanistan",
         "line": {
          "color": "#00cc96",
          "dash": "solid"
         },
         "mode": "lines",
         "name": "Afghanistan",
         "orientation": "v",
         "showlegend": true,
         "type": "scatter",
         "x": [
          2015,
          2016,
          2017,
          2018,
          2019,
          2020
         ],
         "xaxis": "x",
         "y": [
          0.09719,
          0.07112,
          0.0611578300595284,
          0.036,
          0.025,
          0.001225785
         ],
         "yaxis": "y"
        },
        {
         "hovertemplate": "Country or region=Rwanda<br>year=%{x}<br>Perceptions of corruption=%{y}<extra></extra>",
         "legendgroup": "Rwanda",
         "line": {
          "color": "#ab63fa",
          "dash": "solid"
         },
         "mode": "lines",
         "name": "Rwanda",
         "orientation": "v",
         "showlegend": true,
         "type": "scatter",
         "x": [
          2015,
          2016,
          2017,
          2018,
          2019,
          2020
         ],
         "xaxis": "x",
         "y": [
          0.55191,
          0.50521,
          0.455220013856888,
          0.444,
          0.411,
          0.485542476
         ],
         "yaxis": "y"
        }
       ],
       "layout": {
        "legend": {
         "title": {
          "text": "Country or region"
         },
         "tracegroupgap": 0
        },
        "template": {
         "data": {
          "bar": [
           {
            "error_x": {
             "color": "#2a3f5f"
            },
            "error_y": {
             "color": "#2a3f5f"
            },
            "marker": {
             "line": {
              "color": "#E5ECF6",
              "width": 0.5
             }
            },
            "type": "bar"
           }
          ],
          "barpolar": [
           {
            "marker": {
             "line": {
              "color": "#E5ECF6",
              "width": 0.5
             }
            },
            "type": "barpolar"
           }
          ],
          "carpet": [
           {
            "aaxis": {
             "endlinecolor": "#2a3f5f",
             "gridcolor": "white",
             "linecolor": "white",
             "minorgridcolor": "white",
             "startlinecolor": "#2a3f5f"
            },
            "baxis": {
             "endlinecolor": "#2a3f5f",
             "gridcolor": "white",
             "linecolor": "white",
             "minorgridcolor": "white",
             "startlinecolor": "#2a3f5f"
            },
            "type": "carpet"
           }
          ],
          "choropleth": [
           {
            "colorbar": {
             "outlinewidth": 0,
             "ticks": ""
            },
            "type": "choropleth"
           }
          ],
          "contour": [
           {
            "colorbar": {
             "outlinewidth": 0,
             "ticks": ""
            },
            "colorscale": [
             [
              0,
              "#0d0887"
             ],
             [
              0.1111111111111111,
              "#46039f"
             ],
             [
              0.2222222222222222,
              "#7201a8"
             ],
             [
              0.3333333333333333,
              "#9c179e"
             ],
             [
              0.4444444444444444,
              "#bd3786"
             ],
             [
              0.5555555555555556,
              "#d8576b"
             ],
             [
              0.6666666666666666,
              "#ed7953"
             ],
             [
              0.7777777777777778,
              "#fb9f3a"
             ],
             [
              0.8888888888888888,
              "#fdca26"
             ],
             [
              1,
              "#f0f921"
             ]
            ],
            "type": "contour"
           }
          ],
          "contourcarpet": [
           {
            "colorbar": {
             "outlinewidth": 0,
             "ticks": ""
            },
            "type": "contourcarpet"
           }
          ],
          "heatmap": [
           {
            "colorbar": {
             "outlinewidth": 0,
             "ticks": ""
            },
            "colorscale": [
             [
              0,
              "#0d0887"
             ],
             [
              0.1111111111111111,
              "#46039f"
             ],
             [
              0.2222222222222222,
              "#7201a8"
             ],
             [
              0.3333333333333333,
              "#9c179e"
             ],
             [
              0.4444444444444444,
              "#bd3786"
             ],
             [
              0.5555555555555556,
              "#d8576b"
             ],
             [
              0.6666666666666666,
              "#ed7953"
             ],
             [
              0.7777777777777778,
              "#fb9f3a"
             ],
             [
              0.8888888888888888,
              "#fdca26"
             ],
             [
              1,
              "#f0f921"
             ]
            ],
            "type": "heatmap"
           }
          ],
          "heatmapgl": [
           {
            "colorbar": {
             "outlinewidth": 0,
             "ticks": ""
            },
            "colorscale": [
             [
              0,
              "#0d0887"
             ],
             [
              0.1111111111111111,
              "#46039f"
             ],
             [
              0.2222222222222222,
              "#7201a8"
             ],
             [
              0.3333333333333333,
              "#9c179e"
             ],
             [
              0.4444444444444444,
              "#bd3786"
             ],
             [
              0.5555555555555556,
              "#d8576b"
             ],
             [
              0.6666666666666666,
              "#ed7953"
             ],
             [
              0.7777777777777778,
              "#fb9f3a"
             ],
             [
              0.8888888888888888,
              "#fdca26"
             ],
             [
              1,
              "#f0f921"
             ]
            ],
            "type": "heatmapgl"
           }
          ],
          "histogram": [
           {
            "marker": {
             "colorbar": {
              "outlinewidth": 0,
              "ticks": ""
             }
            },
            "type": "histogram"
           }
          ],
          "histogram2d": [
           {
            "colorbar": {
             "outlinewidth": 0,
             "ticks": ""
            },
            "colorscale": [
             [
              0,
              "#0d0887"
             ],
             [
              0.1111111111111111,
              "#46039f"
             ],
             [
              0.2222222222222222,
              "#7201a8"
             ],
             [
              0.3333333333333333,
              "#9c179e"
             ],
             [
              0.4444444444444444,
              "#bd3786"
             ],
             [
              0.5555555555555556,
              "#d8576b"
             ],
             [
              0.6666666666666666,
              "#ed7953"
             ],
             [
              0.7777777777777778,
              "#fb9f3a"
             ],
             [
              0.8888888888888888,
              "#fdca26"
             ],
             [
              1,
              "#f0f921"
             ]
            ],
            "type": "histogram2d"
           }
          ],
          "histogram2dcontour": [
           {
            "colorbar": {
             "outlinewidth": 0,
             "ticks": ""
            },
            "colorscale": [
             [
              0,
              "#0d0887"
             ],
             [
              0.1111111111111111,
              "#46039f"
             ],
             [
              0.2222222222222222,
              "#7201a8"
             ],
             [
              0.3333333333333333,
              "#9c179e"
             ],
             [
              0.4444444444444444,
              "#bd3786"
             ],
             [
              0.5555555555555556,
              "#d8576b"
             ],
             [
              0.6666666666666666,
              "#ed7953"
             ],
             [
              0.7777777777777778,
              "#fb9f3a"
             ],
             [
              0.8888888888888888,
              "#fdca26"
             ],
             [
              1,
              "#f0f921"
             ]
            ],
            "type": "histogram2dcontour"
           }
          ],
          "mesh3d": [
           {
            "colorbar": {
             "outlinewidth": 0,
             "ticks": ""
            },
            "type": "mesh3d"
           }
          ],
          "parcoords": [
           {
            "line": {
             "colorbar": {
              "outlinewidth": 0,
              "ticks": ""
             }
            },
            "type": "parcoords"
           }
          ],
          "pie": [
           {
            "automargin": true,
            "type": "pie"
           }
          ],
          "scatter": [
           {
            "marker": {
             "colorbar": {
              "outlinewidth": 0,
              "ticks": ""
             }
            },
            "type": "scatter"
           }
          ],
          "scatter3d": [
           {
            "line": {
             "colorbar": {
              "outlinewidth": 0,
              "ticks": ""
             }
            },
            "marker": {
             "colorbar": {
              "outlinewidth": 0,
              "ticks": ""
             }
            },
            "type": "scatter3d"
           }
          ],
          "scattercarpet": [
           {
            "marker": {
             "colorbar": {
              "outlinewidth": 0,
              "ticks": ""
             }
            },
            "type": "scattercarpet"
           }
          ],
          "scattergeo": [
           {
            "marker": {
             "colorbar": {
              "outlinewidth": 0,
              "ticks": ""
             }
            },
            "type": "scattergeo"
           }
          ],
          "scattergl": [
           {
            "marker": {
             "colorbar": {
              "outlinewidth": 0,
              "ticks": ""
             }
            },
            "type": "scattergl"
           }
          ],
          "scattermapbox": [
           {
            "marker": {
             "colorbar": {
              "outlinewidth": 0,
              "ticks": ""
             }
            },
            "type": "scattermapbox"
           }
          ],
          "scatterpolar": [
           {
            "marker": {
             "colorbar": {
              "outlinewidth": 0,
              "ticks": ""
             }
            },
            "type": "scatterpolar"
           }
          ],
          "scatterpolargl": [
           {
            "marker": {
             "colorbar": {
              "outlinewidth": 0,
              "ticks": ""
             }
            },
            "type": "scatterpolargl"
           }
          ],
          "scatterternary": [
           {
            "marker": {
             "colorbar": {
              "outlinewidth": 0,
              "ticks": ""
             }
            },
            "type": "scatterternary"
           }
          ],
          "surface": [
           {
            "colorbar": {
             "outlinewidth": 0,
             "ticks": ""
            },
            "colorscale": [
             [
              0,
              "#0d0887"
             ],
             [
              0.1111111111111111,
              "#46039f"
             ],
             [
              0.2222222222222222,
              "#7201a8"
             ],
             [
              0.3333333333333333,
              "#9c179e"
             ],
             [
              0.4444444444444444,
              "#bd3786"
             ],
             [
              0.5555555555555556,
              "#d8576b"
             ],
             [
              0.6666666666666666,
              "#ed7953"
             ],
             [
              0.7777777777777778,
              "#fb9f3a"
             ],
             [
              0.8888888888888888,
              "#fdca26"
             ],
             [
              1,
              "#f0f921"
             ]
            ],
            "type": "surface"
           }
          ],
          "table": [
           {
            "cells": {
             "fill": {
              "color": "#EBF0F8"
             },
             "line": {
              "color": "white"
             }
            },
            "header": {
             "fill": {
              "color": "#C8D4E3"
             },
             "line": {
              "color": "white"
             }
            },
            "type": "table"
           }
          ]
         },
         "layout": {
          "annotationdefaults": {
           "arrowcolor": "#2a3f5f",
           "arrowhead": 0,
           "arrowwidth": 1
          },
          "autotypenumbers": "strict",
          "coloraxis": {
           "colorbar": {
            "outlinewidth": 0,
            "ticks": ""
           }
          },
          "colorscale": {
           "diverging": [
            [
             0,
             "#8e0152"
            ],
            [
             0.1,
             "#c51b7d"
            ],
            [
             0.2,
             "#de77ae"
            ],
            [
             0.3,
             "#f1b6da"
            ],
            [
             0.4,
             "#fde0ef"
            ],
            [
             0.5,
             "#f7f7f7"
            ],
            [
             0.6,
             "#e6f5d0"
            ],
            [
             0.7,
             "#b8e186"
            ],
            [
             0.8,
             "#7fbc41"
            ],
            [
             0.9,
             "#4d9221"
            ],
            [
             1,
             "#276419"
            ]
           ],
           "sequential": [
            [
             0,
             "#0d0887"
            ],
            [
             0.1111111111111111,
             "#46039f"
            ],
            [
             0.2222222222222222,
             "#7201a8"
            ],
            [
             0.3333333333333333,
             "#9c179e"
            ],
            [
             0.4444444444444444,
             "#bd3786"
            ],
            [
             0.5555555555555556,
             "#d8576b"
            ],
            [
             0.6666666666666666,
             "#ed7953"
            ],
            [
             0.7777777777777778,
             "#fb9f3a"
            ],
            [
             0.8888888888888888,
             "#fdca26"
            ],
            [
             1,
             "#f0f921"
            ]
           ],
           "sequentialminus": [
            [
             0,
             "#0d0887"
            ],
            [
             0.1111111111111111,
             "#46039f"
            ],
            [
             0.2222222222222222,
             "#7201a8"
            ],
            [
             0.3333333333333333,
             "#9c179e"
            ],
            [
             0.4444444444444444,
             "#bd3786"
            ],
            [
             0.5555555555555556,
             "#d8576b"
            ],
            [
             0.6666666666666666,
             "#ed7953"
            ],
            [
             0.7777777777777778,
             "#fb9f3a"
            ],
            [
             0.8888888888888888,
             "#fdca26"
            ],
            [
             1,
             "#f0f921"
            ]
           ]
          },
          "colorway": [
           "#636efa",
           "#EF553B",
           "#00cc96",
           "#ab63fa",
           "#FFA15A",
           "#19d3f3",
           "#FF6692",
           "#B6E880",
           "#FF97FF",
           "#FECB52"
          ],
          "font": {
           "color": "#2a3f5f"
          },
          "geo": {
           "bgcolor": "white",
           "lakecolor": "white",
           "landcolor": "#E5ECF6",
           "showlakes": true,
           "showland": true,
           "subunitcolor": "white"
          },
          "hoverlabel": {
           "align": "left"
          },
          "hovermode": "closest",
          "mapbox": {
           "style": "light"
          },
          "paper_bgcolor": "white",
          "plot_bgcolor": "#E5ECF6",
          "polar": {
           "angularaxis": {
            "gridcolor": "white",
            "linecolor": "white",
            "ticks": ""
           },
           "bgcolor": "#E5ECF6",
           "radialaxis": {
            "gridcolor": "white",
            "linecolor": "white",
            "ticks": ""
           }
          },
          "scene": {
           "xaxis": {
            "backgroundcolor": "#E5ECF6",
            "gridcolor": "white",
            "gridwidth": 2,
            "linecolor": "white",
            "showbackground": true,
            "ticks": "",
            "zerolinecolor": "white"
           },
           "yaxis": {
            "backgroundcolor": "#E5ECF6",
            "gridcolor": "white",
            "gridwidth": 2,
            "linecolor": "white",
            "showbackground": true,
            "ticks": "",
            "zerolinecolor": "white"
           },
           "zaxis": {
            "backgroundcolor": "#E5ECF6",
            "gridcolor": "white",
            "gridwidth": 2,
            "linecolor": "white",
            "showbackground": true,
            "ticks": "",
            "zerolinecolor": "white"
           }
          },
          "shapedefaults": {
           "line": {
            "color": "#2a3f5f"
           }
          },
          "ternary": {
           "aaxis": {
            "gridcolor": "white",
            "linecolor": "white",
            "ticks": ""
           },
           "baxis": {
            "gridcolor": "white",
            "linecolor": "white",
            "ticks": ""
           },
           "bgcolor": "#E5ECF6",
           "caxis": {
            "gridcolor": "white",
            "linecolor": "white",
            "ticks": ""
           }
          },
          "title": {
           "x": 0.05
          },
          "xaxis": {
           "automargin": true,
           "gridcolor": "white",
           "linecolor": "white",
           "ticks": "",
           "title": {
            "standoff": 15
           },
           "zerolinecolor": "white",
           "zerolinewidth": 2
          },
          "yaxis": {
           "automargin": true,
           "gridcolor": "white",
           "linecolor": "white",
           "ticks": "",
           "title": {
            "standoff": 15
           },
           "zerolinecolor": "white",
           "zerolinewidth": 2
          }
         }
        },
        "title": {
         "text": "Perceptions of corruption by country"
        },
        "xaxis": {
         "anchor": "y",
         "domain": [
          0,
          1
         ],
         "title": {
          "text": "year"
         }
        },
        "yaxis": {
         "anchor": "x",
         "domain": [
          0,
          1
         ],
         "title": {
          "text": "Perceptions of corruption"
         }
        }
       }
      },
      "text/html": [
       "<div>                            <div id=\"47c34d3a-98b2-40c6-be4b-432390bf33f3\" class=\"plotly-graph-div\" style=\"height:525px; width:100%;\"></div>            <script type=\"text/javascript\">                require([\"plotly\"], function(Plotly) {                    window.PLOTLYENV=window.PLOTLYENV || {};                                    if (document.getElementById(\"47c34d3a-98b2-40c6-be4b-432390bf33f3\")) {                    Plotly.newPlot(                        \"47c34d3a-98b2-40c6-be4b-432390bf33f3\",                        [{\"hovertemplate\": \"Country or region=Switzerland<br>year=%{x}<br>Perceptions of corruption=%{y}<extra></extra>\", \"legendgroup\": \"Switzerland\", \"line\": {\"color\": \"#636efa\", \"dash\": \"solid\"}, \"mode\": \"lines\", \"name\": \"Switzerland\", \"orientation\": \"v\", \"showlegend\": true, \"type\": \"scatter\", \"x\": [2015, 2016, 2017, 2018, 2019, 2020], \"xaxis\": \"x\", \"y\": [0.41978, 0.41203, 0.367007285356522, 0.357, 0.343, 0.407945901], \"yaxis\": \"y\"}, {\"hovertemplate\": \"Country or region=Iceland<br>year=%{x}<br>Perceptions of corruption=%{y}<extra></extra>\", \"legendgroup\": \"Iceland\", \"line\": {\"color\": \"#EF553B\", \"dash\": \"solid\"}, \"mode\": \"lines\", \"name\": \"Iceland\", \"orientation\": \"v\", \"showlegend\": true, \"type\": \"scatter\", \"x\": [2015, 2016, 2017, 2018, 2019, 2020], \"xaxis\": \"x\", \"y\": [0.14145, 0.14975, 0.153526559472084, 0.138, 0.118, 0.144540772], \"yaxis\": \"y\"}, {\"hovertemplate\": \"Country or region=Denmark<br>year=%{x}<br>Perceptions of corruption=%{y}<extra></extra>\", \"legendgroup\": \"Denmark\", \"line\": {\"color\": \"#00cc96\", \"dash\": \"solid\"}, \"mode\": \"lines\", \"name\": \"Denmark\", \"orientation\": \"v\", \"showlegend\": true, \"type\": \"scatter\", \"x\": [2015, 2016, 2017, 2018, 2019, 2020], \"xaxis\": \"x\", \"y\": [0.48357, 0.44453, 0.40077006816864, 0.408, 0.41, 0.495260328], \"yaxis\": \"y\"}, {\"hovertemplate\": \"Country or region=Norway<br>year=%{x}<br>Perceptions of corruption=%{y}<extra></extra>\", \"legendgroup\": \"Norway\", \"line\": {\"color\": \"#ab63fa\", \"dash\": \"solid\"}, \"mode\": \"lines\", \"name\": \"Norway\", \"orientation\": \"v\", \"showlegend\": true, \"type\": \"scatter\", \"x\": [2015, 2016, 2017, 2018, 2019, 2020], \"xaxis\": \"x\", \"y\": [0.36503, 0.35776, 0.315963834524155, 0.34, 0.341, 0.434100568], \"yaxis\": \"y\"}, {\"hovertemplate\": \"Country or region=Canada<br>year=%{x}<br>Perceptions of corruption=%{y}<extra></extra>\", \"legendgroup\": \"Canada\", \"line\": {\"color\": \"#FFA15A\", \"dash\": \"solid\"}, \"mode\": \"lines\", \"name\": \"Canada\", \"orientation\": \"v\", \"showlegend\": true, \"type\": \"scatter\", \"x\": [2015, 2016, 2017, 2018, 2019, 2020], \"xaxis\": \"x\", \"y\": [0.32957, 0.31329, 0.287371516227722, 0.291, 0.308, 0.351701856], \"yaxis\": \"y\"}, {\"hovertemplate\": \"Country or region=Finland<br>year=%{x}<br>Perceptions of corruption=%{y}<extra></extra>\", \"legendgroup\": \"Finland\", \"line\": {\"color\": \"#19d3f3\", \"dash\": \"solid\"}, \"mode\": \"lines\", \"name\": \"Finland\", \"orientation\": \"v\", \"showlegend\": true, \"type\": \"scatter\", \"x\": [2015, 2016, 2017, 2018, 2019, 2020], \"xaxis\": \"x\", \"y\": [0.41372, 0.41004, 0.38261154294014, 0.393, 0.393, 0.477857262], \"yaxis\": \"y\"}, {\"hovertemplate\": \"Country or region=Netherlands<br>year=%{x}<br>Perceptions of corruption=%{y}<extra></extra>\", \"legendgroup\": \"Netherlands\", \"line\": {\"color\": \"#FF6692\", \"dash\": \"solid\"}, \"mode\": \"lines\", \"name\": \"Netherlands\", \"orientation\": \"v\", \"showlegend\": true, \"type\": \"scatter\", \"x\": [2015, 2016, 2017, 2018, 2019, 2020], \"xaxis\": \"x\", \"y\": [0.31814, 0.29927, 0.282661825418472, 0.295, 0.298, 0.368569762], \"yaxis\": \"y\"}, {\"hovertemplate\": \"Country or region=Sweden<br>year=%{x}<br>Perceptions of corruption=%{y}<extra></extra>\", \"legendgroup\": \"Sweden\", \"line\": {\"color\": \"#B6E880\", \"dash\": \"solid\"}, \"mode\": \"lines\", \"name\": \"Sweden\", \"orientation\": \"v\", \"showlegend\": true, \"type\": \"scatter\", \"x\": [2015, 2016, 2017, 2018, 2019, 2020], \"xaxis\": \"x\", \"y\": [0.43844, 0.40867, 0.384398728609085, 0.383, 0.373, 0.442066371], \"yaxis\": \"y\"}, {\"hovertemplate\": \"Country or region=New Zealand<br>year=%{x}<br>Perceptions of corruption=%{y}<extra></extra>\", \"legendgroup\": \"New Zealand\", \"line\": {\"color\": \"#FF97FF\", \"dash\": \"solid\"}, \"mode\": \"lines\", \"name\": \"New Zealand\", \"orientation\": \"v\", \"showlegend\": true, \"type\": \"scatter\", \"x\": [2015, 2016, 2017, 2018, 2019, 2020], \"xaxis\": \"x\", \"y\": [0.42922, 0.41904, 0.382816702127457, 0.389, 0.38, 0.461268276], \"yaxis\": \"y\"}, {\"hovertemplate\": \"Country or region=Austria<br>year=%{x}<br>Perceptions of corruption=%{y}<extra></extra>\", \"legendgroup\": \"Austria\", \"line\": {\"color\": \"#FECB52\", \"dash\": \"solid\"}, \"mode\": \"lines\", \"name\": \"Austria\", \"orientation\": \"v\", \"showlegend\": true, \"type\": \"scatter\", \"x\": [2015, 2016, 2017, 2018, 2019, 2020], \"xaxis\": \"x\", \"y\": [0.18676, 0.21348, 0.221060365438461, 0.224, 0.226, 0.281256139], \"yaxis\": \"y\"}, {\"hovertemplate\": \"Country or region=United States<br>year=%{x}<br>Perceptions of corruption=%{y}<extra></extra>\", \"legendgroup\": \"United States\", \"line\": {\"color\": \"#636efa\", \"dash\": \"solid\"}, \"mode\": \"lines\", \"name\": \"United States\", \"orientation\": \"v\", \"showlegend\": true, \"type\": \"scatter\", \"x\": [2015, 2016, 2017, 2018, 2019, 2020], \"xaxis\": \"x\", \"y\": [0.1589, 0.14868, 0.135638788342476, 0.133, 0.128, 0.152284741], \"yaxis\": \"y\"}, {\"hovertemplate\": \"Country or region=Luxembourg<br>year=%{x}<br>Perceptions of corruption=%{y}<extra></extra>\", \"legendgroup\": \"Luxembourg\", \"line\": {\"color\": \"#EF553B\", \"dash\": \"solid\"}, \"mode\": \"lines\", \"name\": \"Luxembourg\", \"orientation\": \"v\", \"showlegend\": true, \"type\": \"scatter\", \"x\": [2015, 2016, 2017, 2018, 2019, 2020], \"xaxis\": \"x\", \"y\": [0.37798, 0.35329, 0.31883442401886, 0.321, 0.316, 0.367041469], \"yaxis\": \"y\"}, {\"hovertemplate\": \"Country or region=South Korea<br>year=%{x}<br>Perceptions of corruption=%{y}<extra></extra>\", \"legendgroup\": \"South Korea\", \"line\": {\"color\": \"#00cc96\", \"dash\": \"solid\"}, \"mode\": \"lines\", \"name\": \"South Korea\", \"orientation\": \"v\", \"showlegend\": true, \"type\": \"scatter\", \"x\": [2015, 2016, 2017, 2018, 2019, 2020], \"xaxis\": \"x\", \"y\": [0.07857, 0.07716, 0.0632826685905457, 0.051, 0.056, 0.094596282], \"yaxis\": \"y\"}, {\"hovertemplate\": \"Country or region=Russia<br>year=%{x}<br>Perceptions of corruption=%{y}<extra></extra>\", \"legendgroup\": \"Russia\", \"line\": {\"color\": \"#ab63fa\", \"dash\": \"solid\"}, \"mode\": \"lines\", \"name\": \"Russia\", \"orientation\": \"v\", \"showlegend\": true, \"type\": \"scatter\", \"x\": [2015, 2016, 2017, 2018, 2019, 2020], \"xaxis\": \"x\", \"y\": [0.03005, 0.03586, 0.0329628810286522, 0.025, 0.031, 0.045699362], \"yaxis\": \"y\"}, {\"hovertemplate\": \"Country or region=Zambia<br>year=%{x}<br>Perceptions of corruption=%{y}<extra></extra>\", \"legendgroup\": \"Zambia\", \"line\": {\"color\": \"#FFA15A\", \"dash\": \"solid\"}, \"mode\": \"lines\", \"name\": \"Zambia\", \"orientation\": \"v\", \"showlegend\": true, \"type\": \"scatter\", \"x\": [2015, 2016, 2017, 2018, 2019, 2020], \"xaxis\": \"x\", \"y\": [0.12468, 0.11479, 0.0782135501503944, 0.082, 0.087, 0.086705238], \"yaxis\": \"y\"}, {\"hovertemplate\": \"Country or region=Zimbabwe<br>year=%{x}<br>Perceptions of corruption=%{y}<extra></extra>\", \"legendgroup\": \"Zimbabwe\", \"line\": {\"color\": \"#19d3f3\", \"dash\": \"solid\"}, \"mode\": \"lines\", \"name\": \"Zimbabwe\", \"orientation\": \"v\", \"showlegend\": true, \"type\": \"scatter\", \"x\": [2015, 2016, 2017, 2018, 2019, 2020], \"xaxis\": \"x\", \"y\": [0.08079, 0.08582, 0.0953753814101219, 0.099, 0.089, 0.080928579], \"yaxis\": \"y\"}, {\"hovertemplate\": \"Country or region=India<br>year=%{x}<br>Perceptions of corruption=%{y}<extra></extra>\", \"legendgroup\": \"India\", \"line\": {\"color\": \"#FF6692\", \"dash\": \"solid\"}, \"mode\": \"lines\", \"name\": \"India\", \"orientation\": \"v\", \"showlegend\": true, \"type\": \"scatter\", \"x\": [2015, 2016, 2017, 2018, 2019, 2020], \"xaxis\": \"x\", \"y\": [0.08492, 0.08722, 0.0922268852591515, 0.093, 0.085, 0.105587982], \"yaxis\": \"y\"}, {\"hovertemplate\": \"Country or region=Haiti<br>year=%{x}<br>Perceptions of corruption=%{y}<extra></extra>\", \"legendgroup\": \"Haiti\", \"line\": {\"color\": \"#B6E880\", \"dash\": \"solid\"}, \"mode\": \"lines\", \"name\": \"Haiti\", \"orientation\": \"v\", \"showlegend\": true, \"type\": \"scatter\", \"x\": [2015, 2016, 2017, 2018, 2019, 2020], \"xaxis\": \"x\", \"y\": [0.17175, 0.14476, 0.0998721495270729, 0.104, 0.11, 0.161935672], \"yaxis\": \"y\"}, {\"hovertemplate\": \"Country or region=Botswana<br>year=%{x}<br>Perceptions of corruption=%{y}<extra></extra>\", \"legendgroup\": \"Botswana\", \"line\": {\"color\": \"#FF97FF\", \"dash\": \"solid\"}, \"mode\": \"lines\", \"name\": \"Botswana\", \"orientation\": \"v\", \"showlegend\": true, \"type\": \"scatter\", \"x\": [2015, 2016, 2017, 2018, 2019, 2020], \"xaxis\": \"x\", \"y\": [0.12474, 0.10769, 0.0985831990838051, 0.092, 0.1, 0.101786368], \"yaxis\": \"y\"}, {\"hovertemplate\": \"Country or region=Malawi<br>year=%{x}<br>Perceptions of corruption=%{y}<extra></extra>\", \"legendgroup\": \"Malawi\", \"line\": {\"color\": \"#FECB52\", \"dash\": \"solid\"}, \"mode\": \"lines\", \"name\": \"Malawi\", \"orientation\": \"v\", \"showlegend\": true, \"type\": \"scatter\", \"x\": [2015, 2016, 2017, 2018, 2019, 2020], \"xaxis\": \"x\", \"y\": [0.06977, 0.07564, 0.0727116540074348, 0.08, 0.089, 0.131633952], \"yaxis\": \"y\"}, {\"hovertemplate\": \"Country or region=Yemen<br>year=%{x}<br>Perceptions of corruption=%{y}<extra></extra>\", \"legendgroup\": \"Yemen\", \"line\": {\"color\": \"#636efa\", \"dash\": \"solid\"}, \"mode\": \"lines\", \"name\": \"Yemen\", \"orientation\": \"v\", \"showlegend\": true, \"type\": \"scatter\", \"x\": [2015, 2016, 2017, 2018, 2019, 2020], \"xaxis\": \"x\", \"y\": [0.07854, 0.05892, 0.0567674227058887, 0.064, 0.077, 0.087352127], \"yaxis\": \"y\"}, {\"hovertemplate\": \"Country or region=Tanzania<br>year=%{x}<br>Perceptions of corruption=%{y}<extra></extra>\", \"legendgroup\": \"Tanzania\", \"line\": {\"color\": \"#EF553B\", \"dash\": \"solid\"}, \"mode\": \"lines\", \"name\": \"Tanzania\", \"orientation\": \"v\", \"showlegend\": true, \"type\": \"scatter\", \"x\": [2015, 2016, 2017, 2018, 2019, 2020], \"xaxis\": \"x\", \"y\": [0.05747, 0.05099, 0.0660351067781448, 0.097, 0.147, 0.203880861], \"yaxis\": \"y\"}, {\"hovertemplate\": \"Country or region=Afghanistan<br>year=%{x}<br>Perceptions of corruption=%{y}<extra></extra>\", \"legendgroup\": \"Afghanistan\", \"line\": {\"color\": \"#00cc96\", \"dash\": \"solid\"}, \"mode\": \"lines\", \"name\": \"Afghanistan\", \"orientation\": \"v\", \"showlegend\": true, \"type\": \"scatter\", \"x\": [2015, 2016, 2017, 2018, 2019, 2020], \"xaxis\": \"x\", \"y\": [0.09719, 0.07112, 0.0611578300595284, 0.036, 0.025, 0.001225785], \"yaxis\": \"y\"}, {\"hovertemplate\": \"Country or region=Rwanda<br>year=%{x}<br>Perceptions of corruption=%{y}<extra></extra>\", \"legendgroup\": \"Rwanda\", \"line\": {\"color\": \"#ab63fa\", \"dash\": \"solid\"}, \"mode\": \"lines\", \"name\": \"Rwanda\", \"orientation\": \"v\", \"showlegend\": true, \"type\": \"scatter\", \"x\": [2015, 2016, 2017, 2018, 2019, 2020], \"xaxis\": \"x\", \"y\": [0.55191, 0.50521, 0.455220013856888, 0.444, 0.411, 0.485542476], \"yaxis\": \"y\"}],                        {\"legend\": {\"title\": {\"text\": \"Country or region\"}, \"tracegroupgap\": 0}, \"template\": {\"data\": {\"bar\": [{\"error_x\": {\"color\": \"#2a3f5f\"}, \"error_y\": {\"color\": \"#2a3f5f\"}, \"marker\": {\"line\": {\"color\": \"#E5ECF6\", \"width\": 0.5}}, \"type\": \"bar\"}], \"barpolar\": [{\"marker\": {\"line\": {\"color\": \"#E5ECF6\", \"width\": 0.5}}, \"type\": \"barpolar\"}], \"carpet\": [{\"aaxis\": {\"endlinecolor\": \"#2a3f5f\", \"gridcolor\": \"white\", \"linecolor\": \"white\", \"minorgridcolor\": \"white\", \"startlinecolor\": \"#2a3f5f\"}, \"baxis\": {\"endlinecolor\": \"#2a3f5f\", \"gridcolor\": \"white\", \"linecolor\": \"white\", \"minorgridcolor\": \"white\", \"startlinecolor\": \"#2a3f5f\"}, \"type\": \"carpet\"}], \"choropleth\": [{\"colorbar\": {\"outlinewidth\": 0, \"ticks\": \"\"}, \"type\": \"choropleth\"}], \"contour\": [{\"colorbar\": {\"outlinewidth\": 0, \"ticks\": \"\"}, \"colorscale\": [[0.0, \"#0d0887\"], [0.1111111111111111, \"#46039f\"], [0.2222222222222222, \"#7201a8\"], [0.3333333333333333, \"#9c179e\"], [0.4444444444444444, \"#bd3786\"], [0.5555555555555556, \"#d8576b\"], [0.6666666666666666, \"#ed7953\"], [0.7777777777777778, \"#fb9f3a\"], [0.8888888888888888, \"#fdca26\"], [1.0, \"#f0f921\"]], \"type\": \"contour\"}], \"contourcarpet\": [{\"colorbar\": {\"outlinewidth\": 0, \"ticks\": \"\"}, \"type\": \"contourcarpet\"}], \"heatmap\": [{\"colorbar\": {\"outlinewidth\": 0, \"ticks\": \"\"}, \"colorscale\": [[0.0, \"#0d0887\"], [0.1111111111111111, \"#46039f\"], [0.2222222222222222, \"#7201a8\"], [0.3333333333333333, \"#9c179e\"], [0.4444444444444444, \"#bd3786\"], [0.5555555555555556, \"#d8576b\"], [0.6666666666666666, \"#ed7953\"], [0.7777777777777778, \"#fb9f3a\"], [0.8888888888888888, \"#fdca26\"], [1.0, \"#f0f921\"]], \"type\": \"heatmap\"}], \"heatmapgl\": [{\"colorbar\": {\"outlinewidth\": 0, \"ticks\": \"\"}, \"colorscale\": [[0.0, \"#0d0887\"], [0.1111111111111111, \"#46039f\"], [0.2222222222222222, \"#7201a8\"], [0.3333333333333333, \"#9c179e\"], [0.4444444444444444, \"#bd3786\"], [0.5555555555555556, \"#d8576b\"], [0.6666666666666666, \"#ed7953\"], [0.7777777777777778, \"#fb9f3a\"], [0.8888888888888888, \"#fdca26\"], [1.0, \"#f0f921\"]], \"type\": \"heatmapgl\"}], \"histogram\": [{\"marker\": {\"colorbar\": {\"outlinewidth\": 0, \"ticks\": \"\"}}, \"type\": \"histogram\"}], \"histogram2d\": [{\"colorbar\": {\"outlinewidth\": 0, \"ticks\": \"\"}, \"colorscale\": [[0.0, \"#0d0887\"], [0.1111111111111111, \"#46039f\"], [0.2222222222222222, \"#7201a8\"], [0.3333333333333333, \"#9c179e\"], [0.4444444444444444, \"#bd3786\"], [0.5555555555555556, \"#d8576b\"], [0.6666666666666666, \"#ed7953\"], [0.7777777777777778, \"#fb9f3a\"], [0.8888888888888888, \"#fdca26\"], [1.0, \"#f0f921\"]], \"type\": \"histogram2d\"}], \"histogram2dcontour\": [{\"colorbar\": {\"outlinewidth\": 0, \"ticks\": \"\"}, \"colorscale\": [[0.0, \"#0d0887\"], [0.1111111111111111, \"#46039f\"], [0.2222222222222222, \"#7201a8\"], [0.3333333333333333, \"#9c179e\"], [0.4444444444444444, \"#bd3786\"], [0.5555555555555556, \"#d8576b\"], [0.6666666666666666, \"#ed7953\"], [0.7777777777777778, \"#fb9f3a\"], [0.8888888888888888, \"#fdca26\"], [1.0, \"#f0f921\"]], \"type\": \"histogram2dcontour\"}], \"mesh3d\": [{\"colorbar\": {\"outlinewidth\": 0, \"ticks\": \"\"}, \"type\": \"mesh3d\"}], \"parcoords\": [{\"line\": {\"colorbar\": {\"outlinewidth\": 0, \"ticks\": \"\"}}, \"type\": \"parcoords\"}], \"pie\": [{\"automargin\": true, \"type\": \"pie\"}], \"scatter\": [{\"marker\": {\"colorbar\": {\"outlinewidth\": 0, \"ticks\": \"\"}}, \"type\": \"scatter\"}], \"scatter3d\": [{\"line\": {\"colorbar\": {\"outlinewidth\": 0, \"ticks\": \"\"}}, \"marker\": {\"colorbar\": {\"outlinewidth\": 0, \"ticks\": \"\"}}, \"type\": \"scatter3d\"}], \"scattercarpet\": [{\"marker\": {\"colorbar\": {\"outlinewidth\": 0, \"ticks\": \"\"}}, \"type\": \"scattercarpet\"}], \"scattergeo\": [{\"marker\": {\"colorbar\": {\"outlinewidth\": 0, \"ticks\": \"\"}}, \"type\": \"scattergeo\"}], \"scattergl\": [{\"marker\": {\"colorbar\": {\"outlinewidth\": 0, \"ticks\": \"\"}}, \"type\": \"scattergl\"}], \"scattermapbox\": [{\"marker\": {\"colorbar\": {\"outlinewidth\": 0, \"ticks\": \"\"}}, \"type\": \"scattermapbox\"}], \"scatterpolar\": [{\"marker\": {\"colorbar\": {\"outlinewidth\": 0, \"ticks\": \"\"}}, \"type\": \"scatterpolar\"}], \"scatterpolargl\": [{\"marker\": {\"colorbar\": {\"outlinewidth\": 0, \"ticks\": \"\"}}, \"type\": \"scatterpolargl\"}], \"scatterternary\": [{\"marker\": {\"colorbar\": {\"outlinewidth\": 0, \"ticks\": \"\"}}, \"type\": \"scatterternary\"}], \"surface\": [{\"colorbar\": {\"outlinewidth\": 0, \"ticks\": \"\"}, \"colorscale\": [[0.0, \"#0d0887\"], [0.1111111111111111, \"#46039f\"], [0.2222222222222222, \"#7201a8\"], [0.3333333333333333, \"#9c179e\"], [0.4444444444444444, \"#bd3786\"], [0.5555555555555556, \"#d8576b\"], [0.6666666666666666, \"#ed7953\"], [0.7777777777777778, \"#fb9f3a\"], [0.8888888888888888, \"#fdca26\"], [1.0, \"#f0f921\"]], \"type\": \"surface\"}], \"table\": [{\"cells\": {\"fill\": {\"color\": \"#EBF0F8\"}, \"line\": {\"color\": \"white\"}}, \"header\": {\"fill\": {\"color\": \"#C8D4E3\"}, \"line\": {\"color\": \"white\"}}, \"type\": \"table\"}]}, \"layout\": {\"annotationdefaults\": {\"arrowcolor\": \"#2a3f5f\", \"arrowhead\": 0, \"arrowwidth\": 1}, \"autotypenumbers\": \"strict\", \"coloraxis\": {\"colorbar\": {\"outlinewidth\": 0, \"ticks\": \"\"}}, \"colorscale\": {\"diverging\": [[0, \"#8e0152\"], [0.1, \"#c51b7d\"], [0.2, \"#de77ae\"], [0.3, \"#f1b6da\"], [0.4, \"#fde0ef\"], [0.5, \"#f7f7f7\"], [0.6, \"#e6f5d0\"], [0.7, \"#b8e186\"], [0.8, \"#7fbc41\"], [0.9, \"#4d9221\"], [1, \"#276419\"]], \"sequential\": [[0.0, \"#0d0887\"], [0.1111111111111111, \"#46039f\"], [0.2222222222222222, \"#7201a8\"], [0.3333333333333333, \"#9c179e\"], [0.4444444444444444, \"#bd3786\"], [0.5555555555555556, \"#d8576b\"], [0.6666666666666666, \"#ed7953\"], [0.7777777777777778, \"#fb9f3a\"], [0.8888888888888888, \"#fdca26\"], [1.0, \"#f0f921\"]], \"sequentialminus\": [[0.0, \"#0d0887\"], [0.1111111111111111, \"#46039f\"], [0.2222222222222222, \"#7201a8\"], [0.3333333333333333, \"#9c179e\"], [0.4444444444444444, \"#bd3786\"], [0.5555555555555556, \"#d8576b\"], [0.6666666666666666, \"#ed7953\"], [0.7777777777777778, \"#fb9f3a\"], [0.8888888888888888, \"#fdca26\"], [1.0, \"#f0f921\"]]}, \"colorway\": [\"#636efa\", \"#EF553B\", \"#00cc96\", \"#ab63fa\", \"#FFA15A\", \"#19d3f3\", \"#FF6692\", \"#B6E880\", \"#FF97FF\", \"#FECB52\"], \"font\": {\"color\": \"#2a3f5f\"}, \"geo\": {\"bgcolor\": \"white\", \"lakecolor\": \"white\", \"landcolor\": \"#E5ECF6\", \"showlakes\": true, \"showland\": true, \"subunitcolor\": \"white\"}, \"hoverlabel\": {\"align\": \"left\"}, \"hovermode\": \"closest\", \"mapbox\": {\"style\": \"light\"}, \"paper_bgcolor\": \"white\", \"plot_bgcolor\": \"#E5ECF6\", \"polar\": {\"angularaxis\": {\"gridcolor\": \"white\", \"linecolor\": \"white\", \"ticks\": \"\"}, \"bgcolor\": \"#E5ECF6\", \"radialaxis\": {\"gridcolor\": \"white\", \"linecolor\": \"white\", \"ticks\": \"\"}}, \"scene\": {\"xaxis\": {\"backgroundcolor\": \"#E5ECF6\", \"gridcolor\": \"white\", \"gridwidth\": 2, \"linecolor\": \"white\", \"showbackground\": true, \"ticks\": \"\", \"zerolinecolor\": \"white\"}, \"yaxis\": {\"backgroundcolor\": \"#E5ECF6\", \"gridcolor\": \"white\", \"gridwidth\": 2, \"linecolor\": \"white\", \"showbackground\": true, \"ticks\": \"\", \"zerolinecolor\": \"white\"}, \"zaxis\": {\"backgroundcolor\": \"#E5ECF6\", \"gridcolor\": \"white\", \"gridwidth\": 2, \"linecolor\": \"white\", \"showbackground\": true, \"ticks\": \"\", \"zerolinecolor\": \"white\"}}, \"shapedefaults\": {\"line\": {\"color\": \"#2a3f5f\"}}, \"ternary\": {\"aaxis\": {\"gridcolor\": \"white\", \"linecolor\": \"white\", \"ticks\": \"\"}, \"baxis\": {\"gridcolor\": \"white\", \"linecolor\": \"white\", \"ticks\": \"\"}, \"bgcolor\": \"#E5ECF6\", \"caxis\": {\"gridcolor\": \"white\", \"linecolor\": \"white\", \"ticks\": \"\"}}, \"title\": {\"x\": 0.05}, \"xaxis\": {\"automargin\": true, \"gridcolor\": \"white\", \"linecolor\": \"white\", \"ticks\": \"\", \"title\": {\"standoff\": 15}, \"zerolinecolor\": \"white\", \"zerolinewidth\": 2}, \"yaxis\": {\"automargin\": true, \"gridcolor\": \"white\", \"linecolor\": \"white\", \"ticks\": \"\", \"title\": {\"standoff\": 15}, \"zerolinecolor\": \"white\", \"zerolinewidth\": 2}}}, \"title\": {\"text\": \"Perceptions of corruption by country\"}, \"xaxis\": {\"anchor\": \"y\", \"domain\": [0.0, 1.0], \"title\": {\"text\": \"year\"}}, \"yaxis\": {\"anchor\": \"x\", \"domain\": [0.0, 1.0], \"title\": {\"text\": \"Perceptions of corruption\"}}},                        {\"responsive\": true}                    ).then(function(){\n",
       "                            \n",
       "var gd = document.getElementById('47c34d3a-98b2-40c6-be4b-432390bf33f3');\n",
       "var x = new MutationObserver(function (mutations, observer) {{\n",
       "        var display = window.getComputedStyle(gd).display;\n",
       "        if (!display || display === 'none') {{\n",
       "            console.log([gd, 'removed!']);\n",
       "            Plotly.purge(gd);\n",
       "            observer.disconnect();\n",
       "        }}\n",
       "}});\n",
       "\n",
       "// Listen for the removal of the full notebook cells\n",
       "var notebookContainer = gd.closest('#notebook-container');\n",
       "if (notebookContainer) {{\n",
       "    x.observe(notebookContainer, {childList: true});\n",
       "}}\n",
       "\n",
       "// Listen for the clearing of the current output cell\n",
       "var outputEl = gd.closest('.output');\n",
       "if (outputEl) {{\n",
       "    x.observe(outputEl, {childList: true});\n",
       "}}\n",
       "\n",
       "                        })                };                });            </script>        </div>"
      ]
     },
     "metadata": {},
     "output_type": "display_data"
    }
   ],
   "source": [
    "plot_line('Perceptions of corruption')"
   ]
  },
  {
   "cell_type": "code",
   "execution_count": 2183,
   "id": "impressed-stone",
   "metadata": {},
   "outputs": [
    {
     "data": {
      "application/vnd.plotly.v1+json": {
       "config": {
        "plotlyServerURL": "https://plot.ly"
       },
       "data": [
        {
         "hovertemplate": "Country or region=%{x}<br>Perceptions of corruption=%{y}<br>year=%{marker.color}<extra></extra>",
         "legendgroup": "",
         "marker": {
          "color": [
           2015,
           2015,
           2015,
           2015,
           2015,
           2015,
           2015,
           2015,
           2015,
           2015,
           2015,
           2015,
           2015,
           2015,
           2015,
           2015,
           2015,
           2015,
           2015,
           2015,
           2015,
           2015,
           2015,
           2015,
           2016,
           2016,
           2016,
           2016,
           2016,
           2016,
           2016,
           2016,
           2016,
           2016,
           2016,
           2016,
           2016,
           2016,
           2016,
           2016,
           2016,
           2016,
           2016,
           2016,
           2016,
           2016,
           2016,
           2016,
           2017,
           2017,
           2017,
           2017,
           2017,
           2017,
           2017,
           2017,
           2017,
           2017,
           2017,
           2017,
           2017,
           2017,
           2017,
           2017,
           2017,
           2017,
           2017,
           2017,
           2017,
           2017,
           2017,
           2017,
           2018,
           2018,
           2018,
           2018,
           2018,
           2018,
           2018,
           2018,
           2018,
           2018,
           2018,
           2018,
           2018,
           2018,
           2018,
           2018,
           2018,
           2018,
           2018,
           2018,
           2018,
           2018,
           2018,
           2018,
           2019,
           2019,
           2019,
           2019,
           2019,
           2019,
           2019,
           2019,
           2019,
           2019,
           2019,
           2019,
           2019,
           2019,
           2019,
           2019,
           2019,
           2019,
           2019,
           2019,
           2019,
           2019,
           2019,
           2019,
           2020,
           2020,
           2020,
           2020,
           2020,
           2020,
           2020,
           2020,
           2020,
           2020,
           2020,
           2020,
           2020,
           2020,
           2020,
           2020,
           2020,
           2020,
           2020,
           2020,
           2020,
           2020,
           2020,
           2020
          ],
          "coloraxis": "coloraxis",
          "symbol": "circle"
         },
         "mode": "markers",
         "name": "",
         "orientation": "v",
         "showlegend": false,
         "type": "scatter",
         "x": [
          "Switzerland",
          "Iceland",
          "Denmark",
          "Norway",
          "Canada",
          "Finland",
          "Netherlands",
          "Sweden",
          "New Zealand",
          "Austria",
          "United States",
          "Luxembourg",
          "South Korea",
          "Russia",
          "Zambia",
          "Zimbabwe",
          "India",
          "Haiti",
          "Botswana",
          "Malawi",
          "Yemen",
          "Tanzania",
          "Afghanistan",
          "Rwanda",
          "Denmark",
          "Switzerland",
          "Iceland",
          "Norway",
          "Finland",
          "Canada",
          "Netherlands",
          "New Zealand",
          "Sweden",
          "Austria",
          "United States",
          "Luxembourg",
          "Russia",
          "South Korea",
          "Zambia",
          "India",
          "Zimbabwe",
          "Malawi",
          "Haiti",
          "Botswana",
          "Yemen",
          "Tanzania",
          "Rwanda",
          "Afghanistan",
          "Norway",
          "Denmark",
          "Iceland",
          "Switzerland",
          "Finland",
          "Netherlands",
          "Canada",
          "New Zealand",
          "Sweden",
          "Austria",
          "United States",
          "Luxembourg",
          "Russia",
          "South Korea",
          "Zambia",
          "India",
          "Malawi",
          "Zimbabwe",
          "Afghanistan",
          "Botswana",
          "Haiti",
          "Yemen",
          "Rwanda",
          "Tanzania",
          "Finland",
          "Norway",
          "Denmark",
          "Iceland",
          "Switzerland",
          "Netherlands",
          "Canada",
          "New Zealand",
          "Sweden",
          "Austria",
          "Luxembourg",
          "United States",
          "South Korea",
          "Russia",
          "Zambia",
          "India",
          "Zimbabwe",
          "Afghanistan",
          "Botswana",
          "Malawi",
          "Haiti",
          "Rwanda",
          "Yemen",
          "Tanzania",
          "Finland",
          "Denmark",
          "Norway",
          "Iceland",
          "Netherlands",
          "Switzerland",
          "Sweden",
          "New Zealand",
          "Canada",
          "Austria",
          "Luxembourg",
          "United States",
          "South Korea",
          "Russia",
          "Zambia",
          "India",
          "Zimbabwe",
          "Haiti",
          "Botswana",
          "Malawi",
          "Yemen",
          "Rwanda",
          "Tanzania",
          "Afghanistan",
          "Finland",
          "Denmark",
          "Switzerland",
          "Iceland",
          "Norway",
          "Netherlands",
          "Sweden",
          "New Zealand",
          "Austria",
          "Luxembourg",
          "Canada",
          "United States",
          "South Korea",
          "Russia",
          "Zambia",
          "Haiti",
          "India",
          "Malawi",
          "Yemen",
          "Botswana",
          "Tanzania",
          "Rwanda",
          "Zimbabwe",
          "Afghanistan"
         ],
         "xaxis": "x",
         "y": [
          0.41978,
          0.14145,
          0.48357,
          0.36503,
          0.32957,
          0.41372,
          0.31814,
          0.43844,
          0.42922,
          0.18676,
          0.1589,
          0.37798,
          0.07857,
          0.03005,
          0.12468,
          0.08079,
          0.08492,
          0.17175,
          0.12474,
          0.06977,
          0.07854,
          0.05747,
          0.09719,
          0.55191,
          0.44453,
          0.41203,
          0.14975,
          0.35776,
          0.41004,
          0.31329,
          0.29927,
          0.41904,
          0.40867,
          0.21348,
          0.14868,
          0.35329,
          0.03586,
          0.07716,
          0.11479,
          0.08722,
          0.08582,
          0.07564,
          0.14476,
          0.10769,
          0.05892,
          0.05099,
          0.50521,
          0.07112,
          0.315963834524155,
          0.40077006816864,
          0.153526559472084,
          0.367007285356522,
          0.38261154294014,
          0.282661825418472,
          0.287371516227722,
          0.382816702127457,
          0.384398728609085,
          0.221060365438461,
          0.135638788342476,
          0.31883442401886,
          0.0329628810286522,
          0.0632826685905457,
          0.0782135501503944,
          0.0922268852591515,
          0.0727116540074348,
          0.0953753814101219,
          0.0611578300595284,
          0.0985831990838051,
          0.0998721495270729,
          0.0567674227058887,
          0.455220013856888,
          0.0660351067781448,
          0.393,
          0.34,
          0.408,
          0.138,
          0.357,
          0.295,
          0.291,
          0.389,
          0.383,
          0.224,
          0.321,
          0.133,
          0.051,
          0.025,
          0.082,
          0.093,
          0.099,
          0.036,
          0.092,
          0.08,
          0.104,
          0.444,
          0.064,
          0.097,
          0.393,
          0.41,
          0.341,
          0.118,
          0.298,
          0.343,
          0.373,
          0.38,
          0.308,
          0.226,
          0.316,
          0.128,
          0.056,
          0.031,
          0.087,
          0.085,
          0.089,
          0.11,
          0.1,
          0.089,
          0.077,
          0.411,
          0.147,
          0.025,
          0.477857262,
          0.495260328,
          0.407945901,
          0.144540772,
          0.434100568,
          0.368569762,
          0.442066371,
          0.461268276,
          0.281256139,
          0.367041469,
          0.351701856,
          0.152284741,
          0.094596282,
          0.045699362,
          0.086705238,
          0.161935672,
          0.105587982,
          0.131633952,
          0.087352127,
          0.101786368,
          0.203880861,
          0.485542476,
          0.080928579,
          0.001225785
         ],
         "yaxis": "y"
        }
       ],
       "layout": {
        "coloraxis": {
         "colorbar": {
          "title": {
           "text": "year"
          }
         },
         "colorscale": [
          [
           0,
           "#0d0887"
          ],
          [
           0.1111111111111111,
           "#46039f"
          ],
          [
           0.2222222222222222,
           "#7201a8"
          ],
          [
           0.3333333333333333,
           "#9c179e"
          ],
          [
           0.4444444444444444,
           "#bd3786"
          ],
          [
           0.5555555555555556,
           "#d8576b"
          ],
          [
           0.6666666666666666,
           "#ed7953"
          ],
          [
           0.7777777777777778,
           "#fb9f3a"
          ],
          [
           0.8888888888888888,
           "#fdca26"
          ],
          [
           1,
           "#f0f921"
          ]
         ]
        },
        "legend": {
         "tracegroupgap": 0
        },
        "template": {
         "data": {
          "bar": [
           {
            "error_x": {
             "color": "#2a3f5f"
            },
            "error_y": {
             "color": "#2a3f5f"
            },
            "marker": {
             "line": {
              "color": "#E5ECF6",
              "width": 0.5
             }
            },
            "type": "bar"
           }
          ],
          "barpolar": [
           {
            "marker": {
             "line": {
              "color": "#E5ECF6",
              "width": 0.5
             }
            },
            "type": "barpolar"
           }
          ],
          "carpet": [
           {
            "aaxis": {
             "endlinecolor": "#2a3f5f",
             "gridcolor": "white",
             "linecolor": "white",
             "minorgridcolor": "white",
             "startlinecolor": "#2a3f5f"
            },
            "baxis": {
             "endlinecolor": "#2a3f5f",
             "gridcolor": "white",
             "linecolor": "white",
             "minorgridcolor": "white",
             "startlinecolor": "#2a3f5f"
            },
            "type": "carpet"
           }
          ],
          "choropleth": [
           {
            "colorbar": {
             "outlinewidth": 0,
             "ticks": ""
            },
            "type": "choropleth"
           }
          ],
          "contour": [
           {
            "colorbar": {
             "outlinewidth": 0,
             "ticks": ""
            },
            "colorscale": [
             [
              0,
              "#0d0887"
             ],
             [
              0.1111111111111111,
              "#46039f"
             ],
             [
              0.2222222222222222,
              "#7201a8"
             ],
             [
              0.3333333333333333,
              "#9c179e"
             ],
             [
              0.4444444444444444,
              "#bd3786"
             ],
             [
              0.5555555555555556,
              "#d8576b"
             ],
             [
              0.6666666666666666,
              "#ed7953"
             ],
             [
              0.7777777777777778,
              "#fb9f3a"
             ],
             [
              0.8888888888888888,
              "#fdca26"
             ],
             [
              1,
              "#f0f921"
             ]
            ],
            "type": "contour"
           }
          ],
          "contourcarpet": [
           {
            "colorbar": {
             "outlinewidth": 0,
             "ticks": ""
            },
            "type": "contourcarpet"
           }
          ],
          "heatmap": [
           {
            "colorbar": {
             "outlinewidth": 0,
             "ticks": ""
            },
            "colorscale": [
             [
              0,
              "#0d0887"
             ],
             [
              0.1111111111111111,
              "#46039f"
             ],
             [
              0.2222222222222222,
              "#7201a8"
             ],
             [
              0.3333333333333333,
              "#9c179e"
             ],
             [
              0.4444444444444444,
              "#bd3786"
             ],
             [
              0.5555555555555556,
              "#d8576b"
             ],
             [
              0.6666666666666666,
              "#ed7953"
             ],
             [
              0.7777777777777778,
              "#fb9f3a"
             ],
             [
              0.8888888888888888,
              "#fdca26"
             ],
             [
              1,
              "#f0f921"
             ]
            ],
            "type": "heatmap"
           }
          ],
          "heatmapgl": [
           {
            "colorbar": {
             "outlinewidth": 0,
             "ticks": ""
            },
            "colorscale": [
             [
              0,
              "#0d0887"
             ],
             [
              0.1111111111111111,
              "#46039f"
             ],
             [
              0.2222222222222222,
              "#7201a8"
             ],
             [
              0.3333333333333333,
              "#9c179e"
             ],
             [
              0.4444444444444444,
              "#bd3786"
             ],
             [
              0.5555555555555556,
              "#d8576b"
             ],
             [
              0.6666666666666666,
              "#ed7953"
             ],
             [
              0.7777777777777778,
              "#fb9f3a"
             ],
             [
              0.8888888888888888,
              "#fdca26"
             ],
             [
              1,
              "#f0f921"
             ]
            ],
            "type": "heatmapgl"
           }
          ],
          "histogram": [
           {
            "marker": {
             "colorbar": {
              "outlinewidth": 0,
              "ticks": ""
             }
            },
            "type": "histogram"
           }
          ],
          "histogram2d": [
           {
            "colorbar": {
             "outlinewidth": 0,
             "ticks": ""
            },
            "colorscale": [
             [
              0,
              "#0d0887"
             ],
             [
              0.1111111111111111,
              "#46039f"
             ],
             [
              0.2222222222222222,
              "#7201a8"
             ],
             [
              0.3333333333333333,
              "#9c179e"
             ],
             [
              0.4444444444444444,
              "#bd3786"
             ],
             [
              0.5555555555555556,
              "#d8576b"
             ],
             [
              0.6666666666666666,
              "#ed7953"
             ],
             [
              0.7777777777777778,
              "#fb9f3a"
             ],
             [
              0.8888888888888888,
              "#fdca26"
             ],
             [
              1,
              "#f0f921"
             ]
            ],
            "type": "histogram2d"
           }
          ],
          "histogram2dcontour": [
           {
            "colorbar": {
             "outlinewidth": 0,
             "ticks": ""
            },
            "colorscale": [
             [
              0,
              "#0d0887"
             ],
             [
              0.1111111111111111,
              "#46039f"
             ],
             [
              0.2222222222222222,
              "#7201a8"
             ],
             [
              0.3333333333333333,
              "#9c179e"
             ],
             [
              0.4444444444444444,
              "#bd3786"
             ],
             [
              0.5555555555555556,
              "#d8576b"
             ],
             [
              0.6666666666666666,
              "#ed7953"
             ],
             [
              0.7777777777777778,
              "#fb9f3a"
             ],
             [
              0.8888888888888888,
              "#fdca26"
             ],
             [
              1,
              "#f0f921"
             ]
            ],
            "type": "histogram2dcontour"
           }
          ],
          "mesh3d": [
           {
            "colorbar": {
             "outlinewidth": 0,
             "ticks": ""
            },
            "type": "mesh3d"
           }
          ],
          "parcoords": [
           {
            "line": {
             "colorbar": {
              "outlinewidth": 0,
              "ticks": ""
             }
            },
            "type": "parcoords"
           }
          ],
          "pie": [
           {
            "automargin": true,
            "type": "pie"
           }
          ],
          "scatter": [
           {
            "marker": {
             "colorbar": {
              "outlinewidth": 0,
              "ticks": ""
             }
            },
            "type": "scatter"
           }
          ],
          "scatter3d": [
           {
            "line": {
             "colorbar": {
              "outlinewidth": 0,
              "ticks": ""
             }
            },
            "marker": {
             "colorbar": {
              "outlinewidth": 0,
              "ticks": ""
             }
            },
            "type": "scatter3d"
           }
          ],
          "scattercarpet": [
           {
            "marker": {
             "colorbar": {
              "outlinewidth": 0,
              "ticks": ""
             }
            },
            "type": "scattercarpet"
           }
          ],
          "scattergeo": [
           {
            "marker": {
             "colorbar": {
              "outlinewidth": 0,
              "ticks": ""
             }
            },
            "type": "scattergeo"
           }
          ],
          "scattergl": [
           {
            "marker": {
             "colorbar": {
              "outlinewidth": 0,
              "ticks": ""
             }
            },
            "type": "scattergl"
           }
          ],
          "scattermapbox": [
           {
            "marker": {
             "colorbar": {
              "outlinewidth": 0,
              "ticks": ""
             }
            },
            "type": "scattermapbox"
           }
          ],
          "scatterpolar": [
           {
            "marker": {
             "colorbar": {
              "outlinewidth": 0,
              "ticks": ""
             }
            },
            "type": "scatterpolar"
           }
          ],
          "scatterpolargl": [
           {
            "marker": {
             "colorbar": {
              "outlinewidth": 0,
              "ticks": ""
             }
            },
            "type": "scatterpolargl"
           }
          ],
          "scatterternary": [
           {
            "marker": {
             "colorbar": {
              "outlinewidth": 0,
              "ticks": ""
             }
            },
            "type": "scatterternary"
           }
          ],
          "surface": [
           {
            "colorbar": {
             "outlinewidth": 0,
             "ticks": ""
            },
            "colorscale": [
             [
              0,
              "#0d0887"
             ],
             [
              0.1111111111111111,
              "#46039f"
             ],
             [
              0.2222222222222222,
              "#7201a8"
             ],
             [
              0.3333333333333333,
              "#9c179e"
             ],
             [
              0.4444444444444444,
              "#bd3786"
             ],
             [
              0.5555555555555556,
              "#d8576b"
             ],
             [
              0.6666666666666666,
              "#ed7953"
             ],
             [
              0.7777777777777778,
              "#fb9f3a"
             ],
             [
              0.8888888888888888,
              "#fdca26"
             ],
             [
              1,
              "#f0f921"
             ]
            ],
            "type": "surface"
           }
          ],
          "table": [
           {
            "cells": {
             "fill": {
              "color": "#EBF0F8"
             },
             "line": {
              "color": "white"
             }
            },
            "header": {
             "fill": {
              "color": "#C8D4E3"
             },
             "line": {
              "color": "white"
             }
            },
            "type": "table"
           }
          ]
         },
         "layout": {
          "annotationdefaults": {
           "arrowcolor": "#2a3f5f",
           "arrowhead": 0,
           "arrowwidth": 1
          },
          "autotypenumbers": "strict",
          "coloraxis": {
           "colorbar": {
            "outlinewidth": 0,
            "ticks": ""
           }
          },
          "colorscale": {
           "diverging": [
            [
             0,
             "#8e0152"
            ],
            [
             0.1,
             "#c51b7d"
            ],
            [
             0.2,
             "#de77ae"
            ],
            [
             0.3,
             "#f1b6da"
            ],
            [
             0.4,
             "#fde0ef"
            ],
            [
             0.5,
             "#f7f7f7"
            ],
            [
             0.6,
             "#e6f5d0"
            ],
            [
             0.7,
             "#b8e186"
            ],
            [
             0.8,
             "#7fbc41"
            ],
            [
             0.9,
             "#4d9221"
            ],
            [
             1,
             "#276419"
            ]
           ],
           "sequential": [
            [
             0,
             "#0d0887"
            ],
            [
             0.1111111111111111,
             "#46039f"
            ],
            [
             0.2222222222222222,
             "#7201a8"
            ],
            [
             0.3333333333333333,
             "#9c179e"
            ],
            [
             0.4444444444444444,
             "#bd3786"
            ],
            [
             0.5555555555555556,
             "#d8576b"
            ],
            [
             0.6666666666666666,
             "#ed7953"
            ],
            [
             0.7777777777777778,
             "#fb9f3a"
            ],
            [
             0.8888888888888888,
             "#fdca26"
            ],
            [
             1,
             "#f0f921"
            ]
           ],
           "sequentialminus": [
            [
             0,
             "#0d0887"
            ],
            [
             0.1111111111111111,
             "#46039f"
            ],
            [
             0.2222222222222222,
             "#7201a8"
            ],
            [
             0.3333333333333333,
             "#9c179e"
            ],
            [
             0.4444444444444444,
             "#bd3786"
            ],
            [
             0.5555555555555556,
             "#d8576b"
            ],
            [
             0.6666666666666666,
             "#ed7953"
            ],
            [
             0.7777777777777778,
             "#fb9f3a"
            ],
            [
             0.8888888888888888,
             "#fdca26"
            ],
            [
             1,
             "#f0f921"
            ]
           ]
          },
          "colorway": [
           "#636efa",
           "#EF553B",
           "#00cc96",
           "#ab63fa",
           "#FFA15A",
           "#19d3f3",
           "#FF6692",
           "#B6E880",
           "#FF97FF",
           "#FECB52"
          ],
          "font": {
           "color": "#2a3f5f"
          },
          "geo": {
           "bgcolor": "white",
           "lakecolor": "white",
           "landcolor": "#E5ECF6",
           "showlakes": true,
           "showland": true,
           "subunitcolor": "white"
          },
          "hoverlabel": {
           "align": "left"
          },
          "hovermode": "closest",
          "mapbox": {
           "style": "light"
          },
          "paper_bgcolor": "white",
          "plot_bgcolor": "#E5ECF6",
          "polar": {
           "angularaxis": {
            "gridcolor": "white",
            "linecolor": "white",
            "ticks": ""
           },
           "bgcolor": "#E5ECF6",
           "radialaxis": {
            "gridcolor": "white",
            "linecolor": "white",
            "ticks": ""
           }
          },
          "scene": {
           "xaxis": {
            "backgroundcolor": "#E5ECF6",
            "gridcolor": "white",
            "gridwidth": 2,
            "linecolor": "white",
            "showbackground": true,
            "ticks": "",
            "zerolinecolor": "white"
           },
           "yaxis": {
            "backgroundcolor": "#E5ECF6",
            "gridcolor": "white",
            "gridwidth": 2,
            "linecolor": "white",
            "showbackground": true,
            "ticks": "",
            "zerolinecolor": "white"
           },
           "zaxis": {
            "backgroundcolor": "#E5ECF6",
            "gridcolor": "white",
            "gridwidth": 2,
            "linecolor": "white",
            "showbackground": true,
            "ticks": "",
            "zerolinecolor": "white"
           }
          },
          "shapedefaults": {
           "line": {
            "color": "#2a3f5f"
           }
          },
          "ternary": {
           "aaxis": {
            "gridcolor": "white",
            "linecolor": "white",
            "ticks": ""
           },
           "baxis": {
            "gridcolor": "white",
            "linecolor": "white",
            "ticks": ""
           },
           "bgcolor": "#E5ECF6",
           "caxis": {
            "gridcolor": "white",
            "linecolor": "white",
            "ticks": ""
           }
          },
          "title": {
           "x": 0.05
          },
          "xaxis": {
           "automargin": true,
           "gridcolor": "white",
           "linecolor": "white",
           "ticks": "",
           "title": {
            "standoff": 15
           },
           "zerolinecolor": "white",
           "zerolinewidth": 2
          },
          "yaxis": {
           "automargin": true,
           "gridcolor": "white",
           "linecolor": "white",
           "ticks": "",
           "title": {
            "standoff": 15
           },
           "zerolinecolor": "white",
           "zerolinewidth": 2
          }
         }
        },
        "title": {
         "text": "Perceptions of corruption by year"
        },
        "xaxis": {
         "anchor": "y",
         "domain": [
          0,
          1
         ],
         "title": {
          "text": "Country or region"
         }
        },
        "yaxis": {
         "anchor": "x",
         "domain": [
          0,
          1
         ],
         "title": {
          "text": "Perceptions of corruption"
         }
        }
       }
      },
      "text/html": [
       "<div>                            <div id=\"88222cd8-14e9-4945-9fc9-664466488bcd\" class=\"plotly-graph-div\" style=\"height:525px; width:100%;\"></div>            <script type=\"text/javascript\">                require([\"plotly\"], function(Plotly) {                    window.PLOTLYENV=window.PLOTLYENV || {};                                    if (document.getElementById(\"88222cd8-14e9-4945-9fc9-664466488bcd\")) {                    Plotly.newPlot(                        \"88222cd8-14e9-4945-9fc9-664466488bcd\",                        [{\"hovertemplate\": \"Country or region=%{x}<br>Perceptions of corruption=%{y}<br>year=%{marker.color}<extra></extra>\", \"legendgroup\": \"\", \"marker\": {\"color\": [2015, 2015, 2015, 2015, 2015, 2015, 2015, 2015, 2015, 2015, 2015, 2015, 2015, 2015, 2015, 2015, 2015, 2015, 2015, 2015, 2015, 2015, 2015, 2015, 2016, 2016, 2016, 2016, 2016, 2016, 2016, 2016, 2016, 2016, 2016, 2016, 2016, 2016, 2016, 2016, 2016, 2016, 2016, 2016, 2016, 2016, 2016, 2016, 2017, 2017, 2017, 2017, 2017, 2017, 2017, 2017, 2017, 2017, 2017, 2017, 2017, 2017, 2017, 2017, 2017, 2017, 2017, 2017, 2017, 2017, 2017, 2017, 2018, 2018, 2018, 2018, 2018, 2018, 2018, 2018, 2018, 2018, 2018, 2018, 2018, 2018, 2018, 2018, 2018, 2018, 2018, 2018, 2018, 2018, 2018, 2018, 2019, 2019, 2019, 2019, 2019, 2019, 2019, 2019, 2019, 2019, 2019, 2019, 2019, 2019, 2019, 2019, 2019, 2019, 2019, 2019, 2019, 2019, 2019, 2019, 2020, 2020, 2020, 2020, 2020, 2020, 2020, 2020, 2020, 2020, 2020, 2020, 2020, 2020, 2020, 2020, 2020, 2020, 2020, 2020, 2020, 2020, 2020, 2020], \"coloraxis\": \"coloraxis\", \"symbol\": \"circle\"}, \"mode\": \"markers\", \"name\": \"\", \"orientation\": \"v\", \"showlegend\": false, \"type\": \"scatter\", \"x\": [\"Switzerland\", \"Iceland\", \"Denmark\", \"Norway\", \"Canada\", \"Finland\", \"Netherlands\", \"Sweden\", \"New Zealand\", \"Austria\", \"United States\", \"Luxembourg\", \"South Korea\", \"Russia\", \"Zambia\", \"Zimbabwe\", \"India\", \"Haiti\", \"Botswana\", \"Malawi\", \"Yemen\", \"Tanzania\", \"Afghanistan\", \"Rwanda\", \"Denmark\", \"Switzerland\", \"Iceland\", \"Norway\", \"Finland\", \"Canada\", \"Netherlands\", \"New Zealand\", \"Sweden\", \"Austria\", \"United States\", \"Luxembourg\", \"Russia\", \"South Korea\", \"Zambia\", \"India\", \"Zimbabwe\", \"Malawi\", \"Haiti\", \"Botswana\", \"Yemen\", \"Tanzania\", \"Rwanda\", \"Afghanistan\", \"Norway\", \"Denmark\", \"Iceland\", \"Switzerland\", \"Finland\", \"Netherlands\", \"Canada\", \"New Zealand\", \"Sweden\", \"Austria\", \"United States\", \"Luxembourg\", \"Russia\", \"South Korea\", \"Zambia\", \"India\", \"Malawi\", \"Zimbabwe\", \"Afghanistan\", \"Botswana\", \"Haiti\", \"Yemen\", \"Rwanda\", \"Tanzania\", \"Finland\", \"Norway\", \"Denmark\", \"Iceland\", \"Switzerland\", \"Netherlands\", \"Canada\", \"New Zealand\", \"Sweden\", \"Austria\", \"Luxembourg\", \"United States\", \"South Korea\", \"Russia\", \"Zambia\", \"India\", \"Zimbabwe\", \"Afghanistan\", \"Botswana\", \"Malawi\", \"Haiti\", \"Rwanda\", \"Yemen\", \"Tanzania\", \"Finland\", \"Denmark\", \"Norway\", \"Iceland\", \"Netherlands\", \"Switzerland\", \"Sweden\", \"New Zealand\", \"Canada\", \"Austria\", \"Luxembourg\", \"United States\", \"South Korea\", \"Russia\", \"Zambia\", \"India\", \"Zimbabwe\", \"Haiti\", \"Botswana\", \"Malawi\", \"Yemen\", \"Rwanda\", \"Tanzania\", \"Afghanistan\", \"Finland\", \"Denmark\", \"Switzerland\", \"Iceland\", \"Norway\", \"Netherlands\", \"Sweden\", \"New Zealand\", \"Austria\", \"Luxembourg\", \"Canada\", \"United States\", \"South Korea\", \"Russia\", \"Zambia\", \"Haiti\", \"India\", \"Malawi\", \"Yemen\", \"Botswana\", \"Tanzania\", \"Rwanda\", \"Zimbabwe\", \"Afghanistan\"], \"xaxis\": \"x\", \"y\": [0.41978, 0.14145, 0.48357, 0.36503, 0.32957, 0.41372, 0.31814, 0.43844, 0.42922, 0.18676, 0.1589, 0.37798, 0.07857, 0.03005, 0.12468, 0.08079, 0.08492, 0.17175, 0.12474, 0.06977, 0.07854, 0.05747, 0.09719, 0.55191, 0.44453, 0.41203, 0.14975, 0.35776, 0.41004, 0.31329, 0.29927, 0.41904, 0.40867, 0.21348, 0.14868, 0.35329, 0.03586, 0.07716, 0.11479, 0.08722, 0.08582, 0.07564, 0.14476, 0.10769, 0.05892, 0.05099, 0.50521, 0.07112, 0.315963834524155, 0.40077006816864, 0.153526559472084, 0.367007285356522, 0.38261154294014, 0.282661825418472, 0.287371516227722, 0.382816702127457, 0.384398728609085, 0.221060365438461, 0.135638788342476, 0.31883442401886, 0.0329628810286522, 0.0632826685905457, 0.0782135501503944, 0.0922268852591515, 0.0727116540074348, 0.0953753814101219, 0.0611578300595284, 0.0985831990838051, 0.0998721495270729, 0.0567674227058887, 0.455220013856888, 0.0660351067781448, 0.393, 0.34, 0.408, 0.138, 0.357, 0.295, 0.291, 0.389, 0.383, 0.224, 0.321, 0.133, 0.051, 0.025, 0.082, 0.093, 0.099, 0.036, 0.092, 0.08, 0.104, 0.444, 0.064, 0.097, 0.393, 0.41, 0.341, 0.118, 0.298, 0.343, 0.373, 0.38, 0.308, 0.226, 0.316, 0.128, 0.056, 0.031, 0.087, 0.085, 0.089, 0.11, 0.1, 0.089, 0.077, 0.411, 0.147, 0.025, 0.477857262, 0.495260328, 0.407945901, 0.144540772, 0.434100568, 0.368569762, 0.442066371, 0.461268276, 0.281256139, 0.367041469, 0.351701856, 0.152284741, 0.094596282, 0.045699362, 0.086705238, 0.161935672, 0.105587982, 0.131633952, 0.087352127, 0.101786368, 0.203880861, 0.485542476, 0.080928579, 0.001225785], \"yaxis\": \"y\"}],                        {\"coloraxis\": {\"colorbar\": {\"title\": {\"text\": \"year\"}}, \"colorscale\": [[0.0, \"#0d0887\"], [0.1111111111111111, \"#46039f\"], [0.2222222222222222, \"#7201a8\"], [0.3333333333333333, \"#9c179e\"], [0.4444444444444444, \"#bd3786\"], [0.5555555555555556, \"#d8576b\"], [0.6666666666666666, \"#ed7953\"], [0.7777777777777778, \"#fb9f3a\"], [0.8888888888888888, \"#fdca26\"], [1.0, \"#f0f921\"]]}, \"legend\": {\"tracegroupgap\": 0}, \"template\": {\"data\": {\"bar\": [{\"error_x\": {\"color\": \"#2a3f5f\"}, \"error_y\": {\"color\": \"#2a3f5f\"}, \"marker\": {\"line\": {\"color\": \"#E5ECF6\", \"width\": 0.5}}, \"type\": \"bar\"}], \"barpolar\": [{\"marker\": {\"line\": {\"color\": \"#E5ECF6\", \"width\": 0.5}}, \"type\": \"barpolar\"}], \"carpet\": [{\"aaxis\": {\"endlinecolor\": \"#2a3f5f\", \"gridcolor\": \"white\", \"linecolor\": \"white\", \"minorgridcolor\": \"white\", \"startlinecolor\": \"#2a3f5f\"}, \"baxis\": {\"endlinecolor\": \"#2a3f5f\", \"gridcolor\": \"white\", \"linecolor\": \"white\", \"minorgridcolor\": \"white\", \"startlinecolor\": \"#2a3f5f\"}, \"type\": \"carpet\"}], \"choropleth\": [{\"colorbar\": {\"outlinewidth\": 0, \"ticks\": \"\"}, \"type\": \"choropleth\"}], \"contour\": [{\"colorbar\": {\"outlinewidth\": 0, \"ticks\": \"\"}, \"colorscale\": [[0.0, \"#0d0887\"], [0.1111111111111111, \"#46039f\"], [0.2222222222222222, \"#7201a8\"], [0.3333333333333333, \"#9c179e\"], [0.4444444444444444, \"#bd3786\"], [0.5555555555555556, \"#d8576b\"], [0.6666666666666666, \"#ed7953\"], [0.7777777777777778, \"#fb9f3a\"], [0.8888888888888888, \"#fdca26\"], [1.0, \"#f0f921\"]], \"type\": \"contour\"}], \"contourcarpet\": [{\"colorbar\": {\"outlinewidth\": 0, \"ticks\": \"\"}, \"type\": \"contourcarpet\"}], \"heatmap\": [{\"colorbar\": {\"outlinewidth\": 0, \"ticks\": \"\"}, \"colorscale\": [[0.0, \"#0d0887\"], [0.1111111111111111, \"#46039f\"], [0.2222222222222222, \"#7201a8\"], [0.3333333333333333, \"#9c179e\"], [0.4444444444444444, \"#bd3786\"], [0.5555555555555556, \"#d8576b\"], [0.6666666666666666, \"#ed7953\"], [0.7777777777777778, \"#fb9f3a\"], [0.8888888888888888, \"#fdca26\"], [1.0, \"#f0f921\"]], \"type\": \"heatmap\"}], \"heatmapgl\": [{\"colorbar\": {\"outlinewidth\": 0, \"ticks\": \"\"}, \"colorscale\": [[0.0, \"#0d0887\"], [0.1111111111111111, \"#46039f\"], [0.2222222222222222, \"#7201a8\"], [0.3333333333333333, \"#9c179e\"], [0.4444444444444444, \"#bd3786\"], [0.5555555555555556, \"#d8576b\"], [0.6666666666666666, \"#ed7953\"], [0.7777777777777778, \"#fb9f3a\"], [0.8888888888888888, \"#fdca26\"], [1.0, \"#f0f921\"]], \"type\": \"heatmapgl\"}], \"histogram\": [{\"marker\": {\"colorbar\": {\"outlinewidth\": 0, \"ticks\": \"\"}}, \"type\": \"histogram\"}], \"histogram2d\": [{\"colorbar\": {\"outlinewidth\": 0, \"ticks\": \"\"}, \"colorscale\": [[0.0, \"#0d0887\"], [0.1111111111111111, \"#46039f\"], [0.2222222222222222, \"#7201a8\"], [0.3333333333333333, \"#9c179e\"], [0.4444444444444444, \"#bd3786\"], [0.5555555555555556, \"#d8576b\"], [0.6666666666666666, \"#ed7953\"], [0.7777777777777778, \"#fb9f3a\"], [0.8888888888888888, \"#fdca26\"], [1.0, \"#f0f921\"]], \"type\": \"histogram2d\"}], \"histogram2dcontour\": [{\"colorbar\": {\"outlinewidth\": 0, \"ticks\": \"\"}, \"colorscale\": [[0.0, \"#0d0887\"], [0.1111111111111111, \"#46039f\"], [0.2222222222222222, \"#7201a8\"], [0.3333333333333333, \"#9c179e\"], [0.4444444444444444, \"#bd3786\"], [0.5555555555555556, \"#d8576b\"], [0.6666666666666666, \"#ed7953\"], [0.7777777777777778, \"#fb9f3a\"], [0.8888888888888888, \"#fdca26\"], [1.0, \"#f0f921\"]], \"type\": \"histogram2dcontour\"}], \"mesh3d\": [{\"colorbar\": {\"outlinewidth\": 0, \"ticks\": \"\"}, \"type\": \"mesh3d\"}], \"parcoords\": [{\"line\": {\"colorbar\": {\"outlinewidth\": 0, \"ticks\": \"\"}}, \"type\": \"parcoords\"}], \"pie\": [{\"automargin\": true, \"type\": \"pie\"}], \"scatter\": [{\"marker\": {\"colorbar\": {\"outlinewidth\": 0, \"ticks\": \"\"}}, \"type\": \"scatter\"}], \"scatter3d\": [{\"line\": {\"colorbar\": {\"outlinewidth\": 0, \"ticks\": \"\"}}, \"marker\": {\"colorbar\": {\"outlinewidth\": 0, \"ticks\": \"\"}}, \"type\": \"scatter3d\"}], \"scattercarpet\": [{\"marker\": {\"colorbar\": {\"outlinewidth\": 0, \"ticks\": \"\"}}, \"type\": \"scattercarpet\"}], \"scattergeo\": [{\"marker\": {\"colorbar\": {\"outlinewidth\": 0, \"ticks\": \"\"}}, \"type\": \"scattergeo\"}], \"scattergl\": [{\"marker\": {\"colorbar\": {\"outlinewidth\": 0, \"ticks\": \"\"}}, \"type\": \"scattergl\"}], \"scattermapbox\": [{\"marker\": {\"colorbar\": {\"outlinewidth\": 0, \"ticks\": \"\"}}, \"type\": \"scattermapbox\"}], \"scatterpolar\": [{\"marker\": {\"colorbar\": {\"outlinewidth\": 0, \"ticks\": \"\"}}, \"type\": \"scatterpolar\"}], \"scatterpolargl\": [{\"marker\": {\"colorbar\": {\"outlinewidth\": 0, \"ticks\": \"\"}}, \"type\": \"scatterpolargl\"}], \"scatterternary\": [{\"marker\": {\"colorbar\": {\"outlinewidth\": 0, \"ticks\": \"\"}}, \"type\": \"scatterternary\"}], \"surface\": [{\"colorbar\": {\"outlinewidth\": 0, \"ticks\": \"\"}, \"colorscale\": [[0.0, \"#0d0887\"], [0.1111111111111111, \"#46039f\"], [0.2222222222222222, \"#7201a8\"], [0.3333333333333333, \"#9c179e\"], [0.4444444444444444, \"#bd3786\"], [0.5555555555555556, \"#d8576b\"], [0.6666666666666666, \"#ed7953\"], [0.7777777777777778, \"#fb9f3a\"], [0.8888888888888888, \"#fdca26\"], [1.0, \"#f0f921\"]], \"type\": \"surface\"}], \"table\": [{\"cells\": {\"fill\": {\"color\": \"#EBF0F8\"}, \"line\": {\"color\": \"white\"}}, \"header\": {\"fill\": {\"color\": \"#C8D4E3\"}, \"line\": {\"color\": \"white\"}}, \"type\": \"table\"}]}, \"layout\": {\"annotationdefaults\": {\"arrowcolor\": \"#2a3f5f\", \"arrowhead\": 0, \"arrowwidth\": 1}, \"autotypenumbers\": \"strict\", \"coloraxis\": {\"colorbar\": {\"outlinewidth\": 0, \"ticks\": \"\"}}, \"colorscale\": {\"diverging\": [[0, \"#8e0152\"], [0.1, \"#c51b7d\"], [0.2, \"#de77ae\"], [0.3, \"#f1b6da\"], [0.4, \"#fde0ef\"], [0.5, \"#f7f7f7\"], [0.6, \"#e6f5d0\"], [0.7, \"#b8e186\"], [0.8, \"#7fbc41\"], [0.9, \"#4d9221\"], [1, \"#276419\"]], \"sequential\": [[0.0, \"#0d0887\"], [0.1111111111111111, \"#46039f\"], [0.2222222222222222, \"#7201a8\"], [0.3333333333333333, \"#9c179e\"], [0.4444444444444444, \"#bd3786\"], [0.5555555555555556, \"#d8576b\"], [0.6666666666666666, \"#ed7953\"], [0.7777777777777778, \"#fb9f3a\"], [0.8888888888888888, \"#fdca26\"], [1.0, \"#f0f921\"]], \"sequentialminus\": [[0.0, \"#0d0887\"], [0.1111111111111111, \"#46039f\"], [0.2222222222222222, \"#7201a8\"], [0.3333333333333333, \"#9c179e\"], [0.4444444444444444, \"#bd3786\"], [0.5555555555555556, \"#d8576b\"], [0.6666666666666666, \"#ed7953\"], [0.7777777777777778, \"#fb9f3a\"], [0.8888888888888888, \"#fdca26\"], [1.0, \"#f0f921\"]]}, \"colorway\": [\"#636efa\", \"#EF553B\", \"#00cc96\", \"#ab63fa\", \"#FFA15A\", \"#19d3f3\", \"#FF6692\", \"#B6E880\", \"#FF97FF\", \"#FECB52\"], \"font\": {\"color\": \"#2a3f5f\"}, \"geo\": {\"bgcolor\": \"white\", \"lakecolor\": \"white\", \"landcolor\": \"#E5ECF6\", \"showlakes\": true, \"showland\": true, \"subunitcolor\": \"white\"}, \"hoverlabel\": {\"align\": \"left\"}, \"hovermode\": \"closest\", \"mapbox\": {\"style\": \"light\"}, \"paper_bgcolor\": \"white\", \"plot_bgcolor\": \"#E5ECF6\", \"polar\": {\"angularaxis\": {\"gridcolor\": \"white\", \"linecolor\": \"white\", \"ticks\": \"\"}, \"bgcolor\": \"#E5ECF6\", \"radialaxis\": {\"gridcolor\": \"white\", \"linecolor\": \"white\", \"ticks\": \"\"}}, \"scene\": {\"xaxis\": {\"backgroundcolor\": \"#E5ECF6\", \"gridcolor\": \"white\", \"gridwidth\": 2, \"linecolor\": \"white\", \"showbackground\": true, \"ticks\": \"\", \"zerolinecolor\": \"white\"}, \"yaxis\": {\"backgroundcolor\": \"#E5ECF6\", \"gridcolor\": \"white\", \"gridwidth\": 2, \"linecolor\": \"white\", \"showbackground\": true, \"ticks\": \"\", \"zerolinecolor\": \"white\"}, \"zaxis\": {\"backgroundcolor\": \"#E5ECF6\", \"gridcolor\": \"white\", \"gridwidth\": 2, \"linecolor\": \"white\", \"showbackground\": true, \"ticks\": \"\", \"zerolinecolor\": \"white\"}}, \"shapedefaults\": {\"line\": {\"color\": \"#2a3f5f\"}}, \"ternary\": {\"aaxis\": {\"gridcolor\": \"white\", \"linecolor\": \"white\", \"ticks\": \"\"}, \"baxis\": {\"gridcolor\": \"white\", \"linecolor\": \"white\", \"ticks\": \"\"}, \"bgcolor\": \"#E5ECF6\", \"caxis\": {\"gridcolor\": \"white\", \"linecolor\": \"white\", \"ticks\": \"\"}}, \"title\": {\"x\": 0.05}, \"xaxis\": {\"automargin\": true, \"gridcolor\": \"white\", \"linecolor\": \"white\", \"ticks\": \"\", \"title\": {\"standoff\": 15}, \"zerolinecolor\": \"white\", \"zerolinewidth\": 2}, \"yaxis\": {\"automargin\": true, \"gridcolor\": \"white\", \"linecolor\": \"white\", \"ticks\": \"\", \"title\": {\"standoff\": 15}, \"zerolinecolor\": \"white\", \"zerolinewidth\": 2}}}, \"title\": {\"text\": \"Perceptions of corruption by year\"}, \"xaxis\": {\"anchor\": \"y\", \"domain\": [0.0, 1.0], \"title\": {\"text\": \"Country or region\"}}, \"yaxis\": {\"anchor\": \"x\", \"domain\": [0.0, 1.0], \"title\": {\"text\": \"Perceptions of corruption\"}}},                        {\"responsive\": true}                    ).then(function(){\n",
       "                            \n",
       "var gd = document.getElementById('88222cd8-14e9-4945-9fc9-664466488bcd');\n",
       "var x = new MutationObserver(function (mutations, observer) {{\n",
       "        var display = window.getComputedStyle(gd).display;\n",
       "        if (!display || display === 'none') {{\n",
       "            console.log([gd, 'removed!']);\n",
       "            Plotly.purge(gd);\n",
       "            observer.disconnect();\n",
       "        }}\n",
       "}});\n",
       "\n",
       "// Listen for the removal of the full notebook cells\n",
       "var notebookContainer = gd.closest('#notebook-container');\n",
       "if (notebookContainer) {{\n",
       "    x.observe(notebookContainer, {childList: true});\n",
       "}}\n",
       "\n",
       "// Listen for the clearing of the current output cell\n",
       "var outputEl = gd.closest('.output');\n",
       "if (outputEl) {{\n",
       "    x.observe(outputEl, {childList: true});\n",
       "}}\n",
       "\n",
       "                        })                };                });            </script>        </div>"
      ]
     },
     "metadata": {},
     "output_type": "display_data"
    }
   ],
   "source": [
    "plot_scatter('Perceptions of corruption')"
   ]
  },
  {
   "cell_type": "code",
   "execution_count": 2184,
   "id": "electric-jefferson",
   "metadata": {},
   "outputs": [],
   "source": [
    "train_y = df_all['Perceptions of corruption'].to_numpy()\n",
    "train_x = df_all.drop(columns=['Perceptions of corruption']).iloc[:, 4:]\n",
    "test_y = df2019['Perceptions of corruption'].to_numpy()\n",
    "test_x = df2019.drop(columns=['Perceptions of corruption']).iloc[:, 4:]\n",
    "scaler = StandardScaler()\n",
    "train_x = scaler.fit_transform(train_x)\n",
    "test_x = scaler.transform(test_x)"
   ]
  },
  {
   "cell_type": "code",
   "execution_count": 2185,
   "id": "confused-russell",
   "metadata": {},
   "outputs": [],
   "source": [
    "lr = LinearRegression()\n",
    "lr.fit(train_x, train_y)\n",
    "hyp_per = lr.predict(test_x)"
   ]
  },
  {
   "cell_type": "code",
   "execution_count": 2186,
   "id": "synthetic-regulation",
   "metadata": {},
   "outputs": [
    {
     "name": "stdout",
     "output_type": "stream",
     "text": [
      "R2 score...          \t -1.1247009260883402e+25\n",
      "Variance explained...\t -1.1165509193775523e+25\n",
      "Mean squared error...\t 1.0475435132809058e+23\n"
     ]
    }
   ],
   "source": [
    "r2 = r2_score(test_y, hyp_per)\n",
    "var = explained_variance_score(test_y, hyp_per)\n",
    "mse = mean_squared_error(test_y, hyp_per)\n",
    "print('R2 score...          \\t', r2)\n",
    "print('Variance explained...\\t', var)\n",
    "print('Mean squared error...\\t', mse)"
   ]
  },
  {
   "cell_type": "markdown",
   "id": "usual-aspect",
   "metadata": {},
   "source": [
    "### Generosity"
   ]
  },
  {
   "cell_type": "code",
   "execution_count": 2187,
   "id": "stone-commitment",
   "metadata": {},
   "outputs": [
    {
     "data": {
      "application/vnd.plotly.v1+json": {
       "config": {
        "plotlyServerURL": "https://plot.ly"
       },
       "data": [
        {
         "hovertemplate": "Country or region=Switzerland<br>year=%{x}<br>Generosity=%{y}<extra></extra>",
         "legendgroup": "Switzerland",
         "line": {
          "color": "#636efa",
          "dash": "solid"
         },
         "mode": "lines",
         "name": "Switzerland",
         "orientation": "v",
         "showlegend": true,
         "type": "scatter",
         "x": [
          2015,
          2016,
          2017,
          2018,
          2019,
          2020
         ],
         "xaxis": "x",
         "y": [
          0.29678,
          0.28083,
          0.290549278259277,
          0.256,
          0.263,
          0.269055754
         ],
         "yaxis": "y"
        },
        {
         "hovertemplate": "Country or region=Iceland<br>year=%{x}<br>Generosity=%{y}<extra></extra>",
         "legendgroup": "Iceland",
         "line": {
          "color": "#EF553B",
          "dash": "solid"
         },
         "mode": "lines",
         "name": "Iceland",
         "orientation": "v",
         "showlegend": true,
         "type": "scatter",
         "x": [
          2015,
          2016,
          2017,
          2018,
          2019,
          2020
         ],
         "xaxis": "x",
         "y": [
          0.4363,
          0.47678,
          0.475540220737457,
          0.353,
          0.354,
          0.362330228
         ],
         "yaxis": "y"
        },
        {
         "hovertemplate": "Country or region=Denmark<br>year=%{x}<br>Generosity=%{y}<extra></extra>",
         "legendgroup": "Denmark",
         "line": {
          "color": "#00cc96",
          "dash": "solid"
         },
         "mode": "lines",
         "name": "Denmark",
         "orientation": "v",
         "showlegend": true,
         "type": "scatter",
         "x": [
          2015,
          2016,
          2017,
          2018,
          2019,
          2020
         ],
         "xaxis": "x",
         "y": [
          0.34139,
          0.36171,
          0.355280488729477,
          0.284,
          0.252,
          0.242793396
         ],
         "yaxis": "y"
        },
        {
         "hovertemplate": "Country or region=Norway<br>year=%{x}<br>Generosity=%{y}<extra></extra>",
         "legendgroup": "Norway",
         "line": {
          "color": "#ab63fa",
          "dash": "solid"
         },
         "mode": "lines",
         "name": "Norway",
         "orientation": "v",
         "showlegend": true,
         "type": "scatter",
         "x": [
          2015,
          2016,
          2017,
          2018,
          2019,
          2020
         ],
         "xaxis": "x",
         "y": [
          0.34699,
          0.37895,
          0.36201223731041,
          0.286,
          0.271,
          0.287985086
         ],
         "yaxis": "y"
        },
        {
         "hovertemplate": "Country or region=Canada<br>year=%{x}<br>Generosity=%{y}<extra></extra>",
         "legendgroup": "Canada",
         "line": {
          "color": "#FFA15A",
          "dash": "solid"
         },
         "mode": "lines",
         "name": "Canada",
         "orientation": "v",
         "showlegend": true,
         "type": "scatter",
         "x": [
          2015,
          2016,
          2017,
          2018,
          2019,
          2020
         ],
         "xaxis": "x",
         "y": [
          0.45811,
          0.44834,
          0.435539722442627,
          0.321,
          0.285,
          0.28152892
         ],
         "yaxis": "y"
        },
        {
         "hovertemplate": "Country or region=Finland<br>year=%{x}<br>Generosity=%{y}<extra></extra>",
         "legendgroup": "Finland",
         "line": {
          "color": "#19d3f3",
          "dash": "solid"
         },
         "mode": "lines",
         "name": "Finland",
         "orientation": "v",
         "showlegend": true,
         "type": "scatter",
         "x": [
          2015,
          2016,
          2017,
          2018,
          2019,
          2020
         ],
         "xaxis": "x",
         "y": [
          0.23351,
          0.25492,
          0.24548277258873,
          0.202,
          0.153,
          0.159670442
         ],
         "yaxis": "y"
        },
        {
         "hovertemplate": "Country or region=Netherlands<br>year=%{x}<br>Generosity=%{y}<extra></extra>",
         "legendgroup": "Netherlands",
         "line": {
          "color": "#FF6692",
          "dash": "solid"
         },
         "mode": "lines",
         "name": "Netherlands",
         "orientation": "v",
         "showlegend": true,
         "type": "scatter",
         "x": [
          2015,
          2016,
          2017,
          2018,
          2019,
          2020
         ],
         "xaxis": "x",
         "y": [
          0.4761,
          0.47416,
          0.470489829778671,
          0.333,
          0.322,
          0.336317569
         ],
         "yaxis": "y"
        },
        {
         "hovertemplate": "Country or region=Sweden<br>year=%{x}<br>Generosity=%{y}<extra></extra>",
         "legendgroup": "Sweden",
         "line": {
          "color": "#B6E880",
          "dash": "solid"
         },
         "mode": "lines",
         "name": "Sweden",
         "orientation": "v",
         "showlegend": true,
         "type": "scatter",
         "x": [
          2015,
          2016,
          2017,
          2018,
          2019,
          2020
         ],
         "xaxis": "x",
         "y": [
          0.36262,
          0.38254,
          0.385399252176285,
          0.285,
          0.267,
          0.272827893
         ],
         "yaxis": "y"
        },
        {
         "hovertemplate": "Country or region=New Zealand<br>year=%{x}<br>Generosity=%{y}<extra></extra>",
         "legendgroup": "New Zealand",
         "line": {
          "color": "#FF97FF",
          "dash": "solid"
         },
         "mode": "lines",
         "name": "New Zealand",
         "orientation": "v",
         "showlegend": true,
         "type": "scatter",
         "x": [
          2015,
          2016,
          2017,
          2018,
          2019,
          2020
         ],
         "xaxis": "x",
         "y": [
          0.47501,
          0.49401,
          0.500005125999451,
          0.365,
          0.33,
          0.325726211
         ],
         "yaxis": "y"
        },
        {
         "hovertemplate": "Country or region=Austria<br>year=%{x}<br>Generosity=%{y}<extra></extra>",
         "legendgroup": "Austria",
         "line": {
          "color": "#FECB52",
          "dash": "solid"
         },
         "mode": "lines",
         "name": "Austria",
         "orientation": "v",
         "showlegend": true,
         "type": "scatter",
         "x": [
          2015,
          2016,
          2017,
          2018,
          2019,
          2020
         ],
         "xaxis": "x",
         "y": [
          0.33088,
          0.32865,
          0.316472321748734,
          0.242,
          0.244,
          0.255509764
         ],
         "yaxis": "y"
        },
        {
         "hovertemplate": "Country or region=United States<br>year=%{x}<br>Generosity=%{y}<extra></extra>",
         "legendgroup": "United States",
         "line": {
          "color": "#636efa",
          "dash": "solid"
         },
         "mode": "lines",
         "name": "United States",
         "orientation": "v",
         "showlegend": true,
         "type": "scatter",
         "x": [
          2015,
          2016,
          2017,
          2018,
          2019,
          2020
         ],
         "xaxis": "x",
         "y": [
          0.40105,
          0.41077,
          0.392578780651093,
          0.291,
          0.28,
          0.298143059
         ],
         "yaxis": "y"
        },
        {
         "hovertemplate": "Country or region=Luxembourg<br>year=%{x}<br>Generosity=%{y}<extra></extra>",
         "legendgroup": "Luxembourg",
         "line": {
          "color": "#EF553B",
          "dash": "solid"
         },
         "mode": "lines",
         "name": "Luxembourg",
         "orientation": "v",
         "showlegend": true,
         "type": "scatter",
         "x": [
          2015,
          2016,
          2017,
          2018,
          2019,
          2020
         ],
         "xaxis": "x",
         "y": [
          0.28034,
          0.27571,
          0.283180981874466,
          0.196,
          0.194,
          0.19595392
         ],
         "yaxis": "y"
        },
        {
         "hovertemplate": "Country or region=South Korea<br>year=%{x}<br>Generosity=%{y}<extra></extra>",
         "legendgroup": "South Korea",
         "line": {
          "color": "#00cc96",
          "dash": "solid"
         },
         "mode": "lines",
         "name": "South Korea",
         "orientation": "v",
         "showlegend": true,
         "type": "scatter",
         "x": [
          2015,
          2016,
          2017,
          2018,
          2019,
          2020
         ],
         "xaxis": "x",
         "y": [
          0.18557,
          0.18824,
          0.206674367189407,
          0.175,
          0.175,
          0.170303866
         ],
         "yaxis": "y"
        },
        {
         "hovertemplate": "Country or region=Russia<br>year=%{x}<br>Generosity=%{y}<extra></extra>",
         "legendgroup": "Russia",
         "line": {
          "color": "#ab63fa",
          "dash": "solid"
         },
         "mode": "lines",
         "name": "Russia",
         "orientation": "v",
         "showlegend": true,
         "type": "scatter",
         "x": [
          2015,
          2016,
          2017,
          2018,
          2019,
          2020
         ],
         "xaxis": "x",
         "y": [
          0.00199,
          0.02736,
          0.0522638224065304,
          0.065,
          0.082,
          0.099041916
         ],
         "yaxis": "y"
        },
        {
         "hovertemplate": "Country or region=Zambia<br>year=%{x}<br>Generosity=%{y}<extra></extra>",
         "legendgroup": "Zambia",
         "line": {
          "color": "#FFA15A",
          "dash": "solid"
         },
         "mode": "lines",
         "name": "Zambia",
         "orientation": "v",
         "showlegend": true,
         "type": "scatter",
         "x": [
          2015,
          2016,
          2017,
          2018,
          2019,
          2020
         ],
         "xaxis": "x",
         "y": [
          0.19591,
          0.17866,
          0.249580144882202,
          0.221,
          0.247,
          0.250620902
         ],
         "yaxis": "y"
        },
        {
         "hovertemplate": "Country or region=Zimbabwe<br>year=%{x}<br>Generosity=%{y}<extra></extra>",
         "legendgroup": "Zimbabwe",
         "line": {
          "color": "#19d3f3",
          "dash": "solid"
         },
         "mode": "lines",
         "name": "Zimbabwe",
         "orientation": "v",
         "showlegend": true,
         "type": "scatter",
         "x": [
          2015,
          2016,
          2017,
          2018,
          2019,
          2020
         ],
         "xaxis": "x",
         "y": [
          0.18987,
          0.18503,
          0.189143493771553,
          0.132,
          0.151,
          0.151349187
         ],
         "yaxis": "y"
        },
        {
         "hovertemplate": "Country or region=India<br>year=%{x}<br>Generosity=%{y}<extra></extra>",
         "legendgroup": "India",
         "line": {
          "color": "#FF6692",
          "dash": "solid"
         },
         "mode": "lines",
         "name": "India",
         "orientation": "v",
         "showlegend": true,
         "type": "scatter",
         "x": [
          2015,
          2016,
          2017,
          2018,
          2019,
          2020
         ],
         "xaxis": "x",
         "y": [
          0.26475,
          0.25028,
          0.231538489460945,
          0.172,
          0.2,
          0.237072483
         ],
         "yaxis": "y"
        },
        {
         "hovertemplate": "Country or region=Haiti<br>year=%{x}<br>Generosity=%{y}<extra></extra>",
         "legendgroup": "Haiti",
         "line": {
          "color": "#B6E880",
          "dash": "solid"
         },
         "mode": "lines",
         "name": "Haiti",
         "orientation": "v",
         "showlegend": true,
         "type": "scatter",
         "x": [
          2015,
          2016,
          2017,
          2018,
          2019,
          2020
         ],
         "xaxis": "x",
         "y": [
          0.46187,
          0.47958,
          0.489203780889511,
          0.392,
          0.419,
          0.463909656
         ],
         "yaxis": "y"
        },
        {
         "hovertemplate": "Country or region=Botswana<br>year=%{x}<br>Generosity=%{y}<extra></extra>",
         "legendgroup": "Botswana",
         "line": {
          "color": "#FF97FF",
          "dash": "solid"
         },
         "mode": "lines",
         "name": "Botswana",
         "orientation": "v",
         "showlegend": true,
         "type": "scatter",
         "x": [
          2015,
          2016,
          2017,
          2018,
          2019,
          2020
         ],
         "xaxis": "x",
         "y": [
          0.10461,
          0.12425,
          0.0993484482169151,
          0.042,
          0.025,
          0.033407487
         ],
         "yaxis": "y"
        },
        {
         "hovertemplate": "Country or region=Malawi<br>year=%{x}<br>Generosity=%{y}<extra></extra>",
         "legendgroup": "Malawi",
         "line": {
          "color": "#FECB52",
          "dash": "solid"
         },
         "mode": "lines",
         "name": "Malawi",
         "orientation": "v",
         "showlegend": true,
         "type": "scatter",
         "x": [
          2015,
          2016,
          2017,
          2018,
          2019,
          2020
         ],
         "xaxis": "x",
         "y": [
          0.33128,
          0.30968,
          0.287170469760895,
          0.21,
          0.218,
          0.213185057
         ],
         "yaxis": "y"
        },
        {
         "hovertemplate": "Country or region=Yemen<br>year=%{x}<br>Generosity=%{y}<extra></extra>",
         "legendgroup": "Yemen",
         "line": {
          "color": "#636efa",
          "dash": "solid"
         },
         "mode": "lines",
         "name": "Yemen",
         "orientation": "v",
         "showlegend": true,
         "type": "scatter",
         "x": [
          2015,
          2016,
          2017,
          2018,
          2019,
          2020
         ],
         "xaxis": "x",
         "y": [
          0.09131,
          0.09821,
          0.104125209152699,
          0.083,
          0.108,
          0.094689012
         ],
         "yaxis": "y"
        },
        {
         "hovertemplate": "Country or region=Tanzania<br>year=%{x}<br>Generosity=%{y}<extra></extra>",
         "legendgroup": "Tanzania",
         "line": {
          "color": "#EF553B",
          "dash": "solid"
         },
         "mode": "lines",
         "name": "Tanzania",
         "orientation": "v",
         "showlegend": true,
         "type": "scatter",
         "x": [
          2015,
          2016,
          2017,
          2018,
          2019,
          2020
         ],
         "xaxis": "x",
         "y": [
          0.34377,
          0.31472,
          0.354256361722946,
          0.27,
          0.276,
          0.27154091
         ],
         "yaxis": "y"
        },
        {
         "hovertemplate": "Country or region=Afghanistan<br>year=%{x}<br>Generosity=%{y}<extra></extra>",
         "legendgroup": "Afghanistan",
         "line": {
          "color": "#00cc96",
          "dash": "solid"
         },
         "mode": "lines",
         "name": "Afghanistan",
         "orientation": "v",
         "showlegend": true,
         "type": "scatter",
         "x": [
          2015,
          2016,
          2017,
          2018,
          2019,
          2020
         ],
         "xaxis": "x",
         "y": [
          0.3651,
          0.31268,
          0.311870932579041,
          0.191,
          0.158,
          0.135234714
         ],
         "yaxis": "y"
        },
        {
         "hovertemplate": "Country or region=Rwanda<br>year=%{x}<br>Generosity=%{y}<extra></extra>",
         "legendgroup": "Rwanda",
         "line": {
          "color": "#ab63fa",
          "dash": "solid"
         },
         "mode": "lines",
         "name": "Rwanda",
         "orientation": "v",
         "showlegend": true,
         "type": "scatter",
         "x": [
          2015,
          2016,
          2017,
          2018,
          2019,
          2020
         ],
         "xaxis": "x",
         "y": [
          0.22628,
          0.23552,
          0.252756029367447,
          0.2,
          0.217,
          0.235704988
         ],
         "yaxis": "y"
        }
       ],
       "layout": {
        "legend": {
         "title": {
          "text": "Country or region"
         },
         "tracegroupgap": 0
        },
        "template": {
         "data": {
          "bar": [
           {
            "error_x": {
             "color": "#2a3f5f"
            },
            "error_y": {
             "color": "#2a3f5f"
            },
            "marker": {
             "line": {
              "color": "#E5ECF6",
              "width": 0.5
             }
            },
            "type": "bar"
           }
          ],
          "barpolar": [
           {
            "marker": {
             "line": {
              "color": "#E5ECF6",
              "width": 0.5
             }
            },
            "type": "barpolar"
           }
          ],
          "carpet": [
           {
            "aaxis": {
             "endlinecolor": "#2a3f5f",
             "gridcolor": "white",
             "linecolor": "white",
             "minorgridcolor": "white",
             "startlinecolor": "#2a3f5f"
            },
            "baxis": {
             "endlinecolor": "#2a3f5f",
             "gridcolor": "white",
             "linecolor": "white",
             "minorgridcolor": "white",
             "startlinecolor": "#2a3f5f"
            },
            "type": "carpet"
           }
          ],
          "choropleth": [
           {
            "colorbar": {
             "outlinewidth": 0,
             "ticks": ""
            },
            "type": "choropleth"
           }
          ],
          "contour": [
           {
            "colorbar": {
             "outlinewidth": 0,
             "ticks": ""
            },
            "colorscale": [
             [
              0,
              "#0d0887"
             ],
             [
              0.1111111111111111,
              "#46039f"
             ],
             [
              0.2222222222222222,
              "#7201a8"
             ],
             [
              0.3333333333333333,
              "#9c179e"
             ],
             [
              0.4444444444444444,
              "#bd3786"
             ],
             [
              0.5555555555555556,
              "#d8576b"
             ],
             [
              0.6666666666666666,
              "#ed7953"
             ],
             [
              0.7777777777777778,
              "#fb9f3a"
             ],
             [
              0.8888888888888888,
              "#fdca26"
             ],
             [
              1,
              "#f0f921"
             ]
            ],
            "type": "contour"
           }
          ],
          "contourcarpet": [
           {
            "colorbar": {
             "outlinewidth": 0,
             "ticks": ""
            },
            "type": "contourcarpet"
           }
          ],
          "heatmap": [
           {
            "colorbar": {
             "outlinewidth": 0,
             "ticks": ""
            },
            "colorscale": [
             [
              0,
              "#0d0887"
             ],
             [
              0.1111111111111111,
              "#46039f"
             ],
             [
              0.2222222222222222,
              "#7201a8"
             ],
             [
              0.3333333333333333,
              "#9c179e"
             ],
             [
              0.4444444444444444,
              "#bd3786"
             ],
             [
              0.5555555555555556,
              "#d8576b"
             ],
             [
              0.6666666666666666,
              "#ed7953"
             ],
             [
              0.7777777777777778,
              "#fb9f3a"
             ],
             [
              0.8888888888888888,
              "#fdca26"
             ],
             [
              1,
              "#f0f921"
             ]
            ],
            "type": "heatmap"
           }
          ],
          "heatmapgl": [
           {
            "colorbar": {
             "outlinewidth": 0,
             "ticks": ""
            },
            "colorscale": [
             [
              0,
              "#0d0887"
             ],
             [
              0.1111111111111111,
              "#46039f"
             ],
             [
              0.2222222222222222,
              "#7201a8"
             ],
             [
              0.3333333333333333,
              "#9c179e"
             ],
             [
              0.4444444444444444,
              "#bd3786"
             ],
             [
              0.5555555555555556,
              "#d8576b"
             ],
             [
              0.6666666666666666,
              "#ed7953"
             ],
             [
              0.7777777777777778,
              "#fb9f3a"
             ],
             [
              0.8888888888888888,
              "#fdca26"
             ],
             [
              1,
              "#f0f921"
             ]
            ],
            "type": "heatmapgl"
           }
          ],
          "histogram": [
           {
            "marker": {
             "colorbar": {
              "outlinewidth": 0,
              "ticks": ""
             }
            },
            "type": "histogram"
           }
          ],
          "histogram2d": [
           {
            "colorbar": {
             "outlinewidth": 0,
             "ticks": ""
            },
            "colorscale": [
             [
              0,
              "#0d0887"
             ],
             [
              0.1111111111111111,
              "#46039f"
             ],
             [
              0.2222222222222222,
              "#7201a8"
             ],
             [
              0.3333333333333333,
              "#9c179e"
             ],
             [
              0.4444444444444444,
              "#bd3786"
             ],
             [
              0.5555555555555556,
              "#d8576b"
             ],
             [
              0.6666666666666666,
              "#ed7953"
             ],
             [
              0.7777777777777778,
              "#fb9f3a"
             ],
             [
              0.8888888888888888,
              "#fdca26"
             ],
             [
              1,
              "#f0f921"
             ]
            ],
            "type": "histogram2d"
           }
          ],
          "histogram2dcontour": [
           {
            "colorbar": {
             "outlinewidth": 0,
             "ticks": ""
            },
            "colorscale": [
             [
              0,
              "#0d0887"
             ],
             [
              0.1111111111111111,
              "#46039f"
             ],
             [
              0.2222222222222222,
              "#7201a8"
             ],
             [
              0.3333333333333333,
              "#9c179e"
             ],
             [
              0.4444444444444444,
              "#bd3786"
             ],
             [
              0.5555555555555556,
              "#d8576b"
             ],
             [
              0.6666666666666666,
              "#ed7953"
             ],
             [
              0.7777777777777778,
              "#fb9f3a"
             ],
             [
              0.8888888888888888,
              "#fdca26"
             ],
             [
              1,
              "#f0f921"
             ]
            ],
            "type": "histogram2dcontour"
           }
          ],
          "mesh3d": [
           {
            "colorbar": {
             "outlinewidth": 0,
             "ticks": ""
            },
            "type": "mesh3d"
           }
          ],
          "parcoords": [
           {
            "line": {
             "colorbar": {
              "outlinewidth": 0,
              "ticks": ""
             }
            },
            "type": "parcoords"
           }
          ],
          "pie": [
           {
            "automargin": true,
            "type": "pie"
           }
          ],
          "scatter": [
           {
            "marker": {
             "colorbar": {
              "outlinewidth": 0,
              "ticks": ""
             }
            },
            "type": "scatter"
           }
          ],
          "scatter3d": [
           {
            "line": {
             "colorbar": {
              "outlinewidth": 0,
              "ticks": ""
             }
            },
            "marker": {
             "colorbar": {
              "outlinewidth": 0,
              "ticks": ""
             }
            },
            "type": "scatter3d"
           }
          ],
          "scattercarpet": [
           {
            "marker": {
             "colorbar": {
              "outlinewidth": 0,
              "ticks": ""
             }
            },
            "type": "scattercarpet"
           }
          ],
          "scattergeo": [
           {
            "marker": {
             "colorbar": {
              "outlinewidth": 0,
              "ticks": ""
             }
            },
            "type": "scattergeo"
           }
          ],
          "scattergl": [
           {
            "marker": {
             "colorbar": {
              "outlinewidth": 0,
              "ticks": ""
             }
            },
            "type": "scattergl"
           }
          ],
          "scattermapbox": [
           {
            "marker": {
             "colorbar": {
              "outlinewidth": 0,
              "ticks": ""
             }
            },
            "type": "scattermapbox"
           }
          ],
          "scatterpolar": [
           {
            "marker": {
             "colorbar": {
              "outlinewidth": 0,
              "ticks": ""
             }
            },
            "type": "scatterpolar"
           }
          ],
          "scatterpolargl": [
           {
            "marker": {
             "colorbar": {
              "outlinewidth": 0,
              "ticks": ""
             }
            },
            "type": "scatterpolargl"
           }
          ],
          "scatterternary": [
           {
            "marker": {
             "colorbar": {
              "outlinewidth": 0,
              "ticks": ""
             }
            },
            "type": "scatterternary"
           }
          ],
          "surface": [
           {
            "colorbar": {
             "outlinewidth": 0,
             "ticks": ""
            },
            "colorscale": [
             [
              0,
              "#0d0887"
             ],
             [
              0.1111111111111111,
              "#46039f"
             ],
             [
              0.2222222222222222,
              "#7201a8"
             ],
             [
              0.3333333333333333,
              "#9c179e"
             ],
             [
              0.4444444444444444,
              "#bd3786"
             ],
             [
              0.5555555555555556,
              "#d8576b"
             ],
             [
              0.6666666666666666,
              "#ed7953"
             ],
             [
              0.7777777777777778,
              "#fb9f3a"
             ],
             [
              0.8888888888888888,
              "#fdca26"
             ],
             [
              1,
              "#f0f921"
             ]
            ],
            "type": "surface"
           }
          ],
          "table": [
           {
            "cells": {
             "fill": {
              "color": "#EBF0F8"
             },
             "line": {
              "color": "white"
             }
            },
            "header": {
             "fill": {
              "color": "#C8D4E3"
             },
             "line": {
              "color": "white"
             }
            },
            "type": "table"
           }
          ]
         },
         "layout": {
          "annotationdefaults": {
           "arrowcolor": "#2a3f5f",
           "arrowhead": 0,
           "arrowwidth": 1
          },
          "autotypenumbers": "strict",
          "coloraxis": {
           "colorbar": {
            "outlinewidth": 0,
            "ticks": ""
           }
          },
          "colorscale": {
           "diverging": [
            [
             0,
             "#8e0152"
            ],
            [
             0.1,
             "#c51b7d"
            ],
            [
             0.2,
             "#de77ae"
            ],
            [
             0.3,
             "#f1b6da"
            ],
            [
             0.4,
             "#fde0ef"
            ],
            [
             0.5,
             "#f7f7f7"
            ],
            [
             0.6,
             "#e6f5d0"
            ],
            [
             0.7,
             "#b8e186"
            ],
            [
             0.8,
             "#7fbc41"
            ],
            [
             0.9,
             "#4d9221"
            ],
            [
             1,
             "#276419"
            ]
           ],
           "sequential": [
            [
             0,
             "#0d0887"
            ],
            [
             0.1111111111111111,
             "#46039f"
            ],
            [
             0.2222222222222222,
             "#7201a8"
            ],
            [
             0.3333333333333333,
             "#9c179e"
            ],
            [
             0.4444444444444444,
             "#bd3786"
            ],
            [
             0.5555555555555556,
             "#d8576b"
            ],
            [
             0.6666666666666666,
             "#ed7953"
            ],
            [
             0.7777777777777778,
             "#fb9f3a"
            ],
            [
             0.8888888888888888,
             "#fdca26"
            ],
            [
             1,
             "#f0f921"
            ]
           ],
           "sequentialminus": [
            [
             0,
             "#0d0887"
            ],
            [
             0.1111111111111111,
             "#46039f"
            ],
            [
             0.2222222222222222,
             "#7201a8"
            ],
            [
             0.3333333333333333,
             "#9c179e"
            ],
            [
             0.4444444444444444,
             "#bd3786"
            ],
            [
             0.5555555555555556,
             "#d8576b"
            ],
            [
             0.6666666666666666,
             "#ed7953"
            ],
            [
             0.7777777777777778,
             "#fb9f3a"
            ],
            [
             0.8888888888888888,
             "#fdca26"
            ],
            [
             1,
             "#f0f921"
            ]
           ]
          },
          "colorway": [
           "#636efa",
           "#EF553B",
           "#00cc96",
           "#ab63fa",
           "#FFA15A",
           "#19d3f3",
           "#FF6692",
           "#B6E880",
           "#FF97FF",
           "#FECB52"
          ],
          "font": {
           "color": "#2a3f5f"
          },
          "geo": {
           "bgcolor": "white",
           "lakecolor": "white",
           "landcolor": "#E5ECF6",
           "showlakes": true,
           "showland": true,
           "subunitcolor": "white"
          },
          "hoverlabel": {
           "align": "left"
          },
          "hovermode": "closest",
          "mapbox": {
           "style": "light"
          },
          "paper_bgcolor": "white",
          "plot_bgcolor": "#E5ECF6",
          "polar": {
           "angularaxis": {
            "gridcolor": "white",
            "linecolor": "white",
            "ticks": ""
           },
           "bgcolor": "#E5ECF6",
           "radialaxis": {
            "gridcolor": "white",
            "linecolor": "white",
            "ticks": ""
           }
          },
          "scene": {
           "xaxis": {
            "backgroundcolor": "#E5ECF6",
            "gridcolor": "white",
            "gridwidth": 2,
            "linecolor": "white",
            "showbackground": true,
            "ticks": "",
            "zerolinecolor": "white"
           },
           "yaxis": {
            "backgroundcolor": "#E5ECF6",
            "gridcolor": "white",
            "gridwidth": 2,
            "linecolor": "white",
            "showbackground": true,
            "ticks": "",
            "zerolinecolor": "white"
           },
           "zaxis": {
            "backgroundcolor": "#E5ECF6",
            "gridcolor": "white",
            "gridwidth": 2,
            "linecolor": "white",
            "showbackground": true,
            "ticks": "",
            "zerolinecolor": "white"
           }
          },
          "shapedefaults": {
           "line": {
            "color": "#2a3f5f"
           }
          },
          "ternary": {
           "aaxis": {
            "gridcolor": "white",
            "linecolor": "white",
            "ticks": ""
           },
           "baxis": {
            "gridcolor": "white",
            "linecolor": "white",
            "ticks": ""
           },
           "bgcolor": "#E5ECF6",
           "caxis": {
            "gridcolor": "white",
            "linecolor": "white",
            "ticks": ""
           }
          },
          "title": {
           "x": 0.05
          },
          "xaxis": {
           "automargin": true,
           "gridcolor": "white",
           "linecolor": "white",
           "ticks": "",
           "title": {
            "standoff": 15
           },
           "zerolinecolor": "white",
           "zerolinewidth": 2
          },
          "yaxis": {
           "automargin": true,
           "gridcolor": "white",
           "linecolor": "white",
           "ticks": "",
           "title": {
            "standoff": 15
           },
           "zerolinecolor": "white",
           "zerolinewidth": 2
          }
         }
        },
        "title": {
         "text": "Generosity by country"
        },
        "xaxis": {
         "anchor": "y",
         "domain": [
          0,
          1
         ],
         "title": {
          "text": "year"
         }
        },
        "yaxis": {
         "anchor": "x",
         "domain": [
          0,
          1
         ],
         "title": {
          "text": "Generosity"
         }
        }
       }
      },
      "text/html": [
       "<div>                            <div id=\"927cbf59-67e8-4327-89de-087a389900ba\" class=\"plotly-graph-div\" style=\"height:525px; width:100%;\"></div>            <script type=\"text/javascript\">                require([\"plotly\"], function(Plotly) {                    window.PLOTLYENV=window.PLOTLYENV || {};                                    if (document.getElementById(\"927cbf59-67e8-4327-89de-087a389900ba\")) {                    Plotly.newPlot(                        \"927cbf59-67e8-4327-89de-087a389900ba\",                        [{\"hovertemplate\": \"Country or region=Switzerland<br>year=%{x}<br>Generosity=%{y}<extra></extra>\", \"legendgroup\": \"Switzerland\", \"line\": {\"color\": \"#636efa\", \"dash\": \"solid\"}, \"mode\": \"lines\", \"name\": \"Switzerland\", \"orientation\": \"v\", \"showlegend\": true, \"type\": \"scatter\", \"x\": [2015, 2016, 2017, 2018, 2019, 2020], \"xaxis\": \"x\", \"y\": [0.29678, 0.28083, 0.290549278259277, 0.256, 0.263, 0.269055754], \"yaxis\": \"y\"}, {\"hovertemplate\": \"Country or region=Iceland<br>year=%{x}<br>Generosity=%{y}<extra></extra>\", \"legendgroup\": \"Iceland\", \"line\": {\"color\": \"#EF553B\", \"dash\": \"solid\"}, \"mode\": \"lines\", \"name\": \"Iceland\", \"orientation\": \"v\", \"showlegend\": true, \"type\": \"scatter\", \"x\": [2015, 2016, 2017, 2018, 2019, 2020], \"xaxis\": \"x\", \"y\": [0.4363, 0.47678, 0.475540220737457, 0.353, 0.354, 0.362330228], \"yaxis\": \"y\"}, {\"hovertemplate\": \"Country or region=Denmark<br>year=%{x}<br>Generosity=%{y}<extra></extra>\", \"legendgroup\": \"Denmark\", \"line\": {\"color\": \"#00cc96\", \"dash\": \"solid\"}, \"mode\": \"lines\", \"name\": \"Denmark\", \"orientation\": \"v\", \"showlegend\": true, \"type\": \"scatter\", \"x\": [2015, 2016, 2017, 2018, 2019, 2020], \"xaxis\": \"x\", \"y\": [0.34139, 0.36171, 0.355280488729477, 0.284, 0.252, 0.242793396], \"yaxis\": \"y\"}, {\"hovertemplate\": \"Country or region=Norway<br>year=%{x}<br>Generosity=%{y}<extra></extra>\", \"legendgroup\": \"Norway\", \"line\": {\"color\": \"#ab63fa\", \"dash\": \"solid\"}, \"mode\": \"lines\", \"name\": \"Norway\", \"orientation\": \"v\", \"showlegend\": true, \"type\": \"scatter\", \"x\": [2015, 2016, 2017, 2018, 2019, 2020], \"xaxis\": \"x\", \"y\": [0.34699, 0.37895, 0.36201223731041, 0.286, 0.271, 0.287985086], \"yaxis\": \"y\"}, {\"hovertemplate\": \"Country or region=Canada<br>year=%{x}<br>Generosity=%{y}<extra></extra>\", \"legendgroup\": \"Canada\", \"line\": {\"color\": \"#FFA15A\", \"dash\": \"solid\"}, \"mode\": \"lines\", \"name\": \"Canada\", \"orientation\": \"v\", \"showlegend\": true, \"type\": \"scatter\", \"x\": [2015, 2016, 2017, 2018, 2019, 2020], \"xaxis\": \"x\", \"y\": [0.45811, 0.44834, 0.435539722442627, 0.321, 0.285, 0.28152892], \"yaxis\": \"y\"}, {\"hovertemplate\": \"Country or region=Finland<br>year=%{x}<br>Generosity=%{y}<extra></extra>\", \"legendgroup\": \"Finland\", \"line\": {\"color\": \"#19d3f3\", \"dash\": \"solid\"}, \"mode\": \"lines\", \"name\": \"Finland\", \"orientation\": \"v\", \"showlegend\": true, \"type\": \"scatter\", \"x\": [2015, 2016, 2017, 2018, 2019, 2020], \"xaxis\": \"x\", \"y\": [0.23351, 0.25492, 0.24548277258873, 0.202, 0.153, 0.159670442], \"yaxis\": \"y\"}, {\"hovertemplate\": \"Country or region=Netherlands<br>year=%{x}<br>Generosity=%{y}<extra></extra>\", \"legendgroup\": \"Netherlands\", \"line\": {\"color\": \"#FF6692\", \"dash\": \"solid\"}, \"mode\": \"lines\", \"name\": \"Netherlands\", \"orientation\": \"v\", \"showlegend\": true, \"type\": \"scatter\", \"x\": [2015, 2016, 2017, 2018, 2019, 2020], \"xaxis\": \"x\", \"y\": [0.4761, 0.47416, 0.470489829778671, 0.333, 0.322, 0.336317569], \"yaxis\": \"y\"}, {\"hovertemplate\": \"Country or region=Sweden<br>year=%{x}<br>Generosity=%{y}<extra></extra>\", \"legendgroup\": \"Sweden\", \"line\": {\"color\": \"#B6E880\", \"dash\": \"solid\"}, \"mode\": \"lines\", \"name\": \"Sweden\", \"orientation\": \"v\", \"showlegend\": true, \"type\": \"scatter\", \"x\": [2015, 2016, 2017, 2018, 2019, 2020], \"xaxis\": \"x\", \"y\": [0.36262, 0.38254, 0.385399252176285, 0.285, 0.267, 0.272827893], \"yaxis\": \"y\"}, {\"hovertemplate\": \"Country or region=New Zealand<br>year=%{x}<br>Generosity=%{y}<extra></extra>\", \"legendgroup\": \"New Zealand\", \"line\": {\"color\": \"#FF97FF\", \"dash\": \"solid\"}, \"mode\": \"lines\", \"name\": \"New Zealand\", \"orientation\": \"v\", \"showlegend\": true, \"type\": \"scatter\", \"x\": [2015, 2016, 2017, 2018, 2019, 2020], \"xaxis\": \"x\", \"y\": [0.47501, 0.49401, 0.500005125999451, 0.365, 0.33, 0.325726211], \"yaxis\": \"y\"}, {\"hovertemplate\": \"Country or region=Austria<br>year=%{x}<br>Generosity=%{y}<extra></extra>\", \"legendgroup\": \"Austria\", \"line\": {\"color\": \"#FECB52\", \"dash\": \"solid\"}, \"mode\": \"lines\", \"name\": \"Austria\", \"orientation\": \"v\", \"showlegend\": true, \"type\": \"scatter\", \"x\": [2015, 2016, 2017, 2018, 2019, 2020], \"xaxis\": \"x\", \"y\": [0.33088, 0.32865, 0.316472321748734, 0.242, 0.244, 0.255509764], \"yaxis\": \"y\"}, {\"hovertemplate\": \"Country or region=United States<br>year=%{x}<br>Generosity=%{y}<extra></extra>\", \"legendgroup\": \"United States\", \"line\": {\"color\": \"#636efa\", \"dash\": \"solid\"}, \"mode\": \"lines\", \"name\": \"United States\", \"orientation\": \"v\", \"showlegend\": true, \"type\": \"scatter\", \"x\": [2015, 2016, 2017, 2018, 2019, 2020], \"xaxis\": \"x\", \"y\": [0.40105, 0.41077, 0.392578780651093, 0.291, 0.28, 0.298143059], \"yaxis\": \"y\"}, {\"hovertemplate\": \"Country or region=Luxembourg<br>year=%{x}<br>Generosity=%{y}<extra></extra>\", \"legendgroup\": \"Luxembourg\", \"line\": {\"color\": \"#EF553B\", \"dash\": \"solid\"}, \"mode\": \"lines\", \"name\": \"Luxembourg\", \"orientation\": \"v\", \"showlegend\": true, \"type\": \"scatter\", \"x\": [2015, 2016, 2017, 2018, 2019, 2020], \"xaxis\": \"x\", \"y\": [0.28034, 0.27571, 0.283180981874466, 0.196, 0.194, 0.19595392], \"yaxis\": \"y\"}, {\"hovertemplate\": \"Country or region=South Korea<br>year=%{x}<br>Generosity=%{y}<extra></extra>\", \"legendgroup\": \"South Korea\", \"line\": {\"color\": \"#00cc96\", \"dash\": \"solid\"}, \"mode\": \"lines\", \"name\": \"South Korea\", \"orientation\": \"v\", \"showlegend\": true, \"type\": \"scatter\", \"x\": [2015, 2016, 2017, 2018, 2019, 2020], \"xaxis\": \"x\", \"y\": [0.18557, 0.18824, 0.206674367189407, 0.175, 0.175, 0.170303866], \"yaxis\": \"y\"}, {\"hovertemplate\": \"Country or region=Russia<br>year=%{x}<br>Generosity=%{y}<extra></extra>\", \"legendgroup\": \"Russia\", \"line\": {\"color\": \"#ab63fa\", \"dash\": \"solid\"}, \"mode\": \"lines\", \"name\": \"Russia\", \"orientation\": \"v\", \"showlegend\": true, \"type\": \"scatter\", \"x\": [2015, 2016, 2017, 2018, 2019, 2020], \"xaxis\": \"x\", \"y\": [0.00199, 0.02736, 0.0522638224065304, 0.065, 0.082, 0.099041916], \"yaxis\": \"y\"}, {\"hovertemplate\": \"Country or region=Zambia<br>year=%{x}<br>Generosity=%{y}<extra></extra>\", \"legendgroup\": \"Zambia\", \"line\": {\"color\": \"#FFA15A\", \"dash\": \"solid\"}, \"mode\": \"lines\", \"name\": \"Zambia\", \"orientation\": \"v\", \"showlegend\": true, \"type\": \"scatter\", \"x\": [2015, 2016, 2017, 2018, 2019, 2020], \"xaxis\": \"x\", \"y\": [0.19591, 0.17866, 0.249580144882202, 0.221, 0.247, 0.250620902], \"yaxis\": \"y\"}, {\"hovertemplate\": \"Country or region=Zimbabwe<br>year=%{x}<br>Generosity=%{y}<extra></extra>\", \"legendgroup\": \"Zimbabwe\", \"line\": {\"color\": \"#19d3f3\", \"dash\": \"solid\"}, \"mode\": \"lines\", \"name\": \"Zimbabwe\", \"orientation\": \"v\", \"showlegend\": true, \"type\": \"scatter\", \"x\": [2015, 2016, 2017, 2018, 2019, 2020], \"xaxis\": \"x\", \"y\": [0.18987, 0.18503, 0.189143493771553, 0.132, 0.151, 0.151349187], \"yaxis\": \"y\"}, {\"hovertemplate\": \"Country or region=India<br>year=%{x}<br>Generosity=%{y}<extra></extra>\", \"legendgroup\": \"India\", \"line\": {\"color\": \"#FF6692\", \"dash\": \"solid\"}, \"mode\": \"lines\", \"name\": \"India\", \"orientation\": \"v\", \"showlegend\": true, \"type\": \"scatter\", \"x\": [2015, 2016, 2017, 2018, 2019, 2020], \"xaxis\": \"x\", \"y\": [0.26475, 0.25028, 0.231538489460945, 0.172, 0.2, 0.237072483], \"yaxis\": \"y\"}, {\"hovertemplate\": \"Country or region=Haiti<br>year=%{x}<br>Generosity=%{y}<extra></extra>\", \"legendgroup\": \"Haiti\", \"line\": {\"color\": \"#B6E880\", \"dash\": \"solid\"}, \"mode\": \"lines\", \"name\": \"Haiti\", \"orientation\": \"v\", \"showlegend\": true, \"type\": \"scatter\", \"x\": [2015, 2016, 2017, 2018, 2019, 2020], \"xaxis\": \"x\", \"y\": [0.46187, 0.47958, 0.489203780889511, 0.392, 0.419, 0.463909656], \"yaxis\": \"y\"}, {\"hovertemplate\": \"Country or region=Botswana<br>year=%{x}<br>Generosity=%{y}<extra></extra>\", \"legendgroup\": \"Botswana\", \"line\": {\"color\": \"#FF97FF\", \"dash\": \"solid\"}, \"mode\": \"lines\", \"name\": \"Botswana\", \"orientation\": \"v\", \"showlegend\": true, \"type\": \"scatter\", \"x\": [2015, 2016, 2017, 2018, 2019, 2020], \"xaxis\": \"x\", \"y\": [0.10461, 0.12425, 0.0993484482169151, 0.042, 0.025, 0.033407487], \"yaxis\": \"y\"}, {\"hovertemplate\": \"Country or region=Malawi<br>year=%{x}<br>Generosity=%{y}<extra></extra>\", \"legendgroup\": \"Malawi\", \"line\": {\"color\": \"#FECB52\", \"dash\": \"solid\"}, \"mode\": \"lines\", \"name\": \"Malawi\", \"orientation\": \"v\", \"showlegend\": true, \"type\": \"scatter\", \"x\": [2015, 2016, 2017, 2018, 2019, 2020], \"xaxis\": \"x\", \"y\": [0.33128, 0.30968, 0.287170469760895, 0.21, 0.218, 0.213185057], \"yaxis\": \"y\"}, {\"hovertemplate\": \"Country or region=Yemen<br>year=%{x}<br>Generosity=%{y}<extra></extra>\", \"legendgroup\": \"Yemen\", \"line\": {\"color\": \"#636efa\", \"dash\": \"solid\"}, \"mode\": \"lines\", \"name\": \"Yemen\", \"orientation\": \"v\", \"showlegend\": true, \"type\": \"scatter\", \"x\": [2015, 2016, 2017, 2018, 2019, 2020], \"xaxis\": \"x\", \"y\": [0.09131, 0.09821, 0.104125209152699, 0.083, 0.108, 0.094689012], \"yaxis\": \"y\"}, {\"hovertemplate\": \"Country or region=Tanzania<br>year=%{x}<br>Generosity=%{y}<extra></extra>\", \"legendgroup\": \"Tanzania\", \"line\": {\"color\": \"#EF553B\", \"dash\": \"solid\"}, \"mode\": \"lines\", \"name\": \"Tanzania\", \"orientation\": \"v\", \"showlegend\": true, \"type\": \"scatter\", \"x\": [2015, 2016, 2017, 2018, 2019, 2020], \"xaxis\": \"x\", \"y\": [0.34377, 0.31472, 0.354256361722946, 0.27, 0.276, 0.27154091], \"yaxis\": \"y\"}, {\"hovertemplate\": \"Country or region=Afghanistan<br>year=%{x}<br>Generosity=%{y}<extra></extra>\", \"legendgroup\": \"Afghanistan\", \"line\": {\"color\": \"#00cc96\", \"dash\": \"solid\"}, \"mode\": \"lines\", \"name\": \"Afghanistan\", \"orientation\": \"v\", \"showlegend\": true, \"type\": \"scatter\", \"x\": [2015, 2016, 2017, 2018, 2019, 2020], \"xaxis\": \"x\", \"y\": [0.3651, 0.31268, 0.311870932579041, 0.191, 0.158, 0.135234714], \"yaxis\": \"y\"}, {\"hovertemplate\": \"Country or region=Rwanda<br>year=%{x}<br>Generosity=%{y}<extra></extra>\", \"legendgroup\": \"Rwanda\", \"line\": {\"color\": \"#ab63fa\", \"dash\": \"solid\"}, \"mode\": \"lines\", \"name\": \"Rwanda\", \"orientation\": \"v\", \"showlegend\": true, \"type\": \"scatter\", \"x\": [2015, 2016, 2017, 2018, 2019, 2020], \"xaxis\": \"x\", \"y\": [0.22628, 0.23552, 0.252756029367447, 0.2, 0.217, 0.235704988], \"yaxis\": \"y\"}],                        {\"legend\": {\"title\": {\"text\": \"Country or region\"}, \"tracegroupgap\": 0}, \"template\": {\"data\": {\"bar\": [{\"error_x\": {\"color\": \"#2a3f5f\"}, \"error_y\": {\"color\": \"#2a3f5f\"}, \"marker\": {\"line\": {\"color\": \"#E5ECF6\", \"width\": 0.5}}, \"type\": \"bar\"}], \"barpolar\": [{\"marker\": {\"line\": {\"color\": \"#E5ECF6\", \"width\": 0.5}}, \"type\": \"barpolar\"}], \"carpet\": [{\"aaxis\": {\"endlinecolor\": \"#2a3f5f\", \"gridcolor\": \"white\", \"linecolor\": \"white\", \"minorgridcolor\": \"white\", \"startlinecolor\": \"#2a3f5f\"}, \"baxis\": {\"endlinecolor\": \"#2a3f5f\", \"gridcolor\": \"white\", \"linecolor\": \"white\", \"minorgridcolor\": \"white\", \"startlinecolor\": \"#2a3f5f\"}, \"type\": \"carpet\"}], \"choropleth\": [{\"colorbar\": {\"outlinewidth\": 0, \"ticks\": \"\"}, \"type\": \"choropleth\"}], \"contour\": [{\"colorbar\": {\"outlinewidth\": 0, \"ticks\": \"\"}, \"colorscale\": [[0.0, \"#0d0887\"], [0.1111111111111111, \"#46039f\"], [0.2222222222222222, \"#7201a8\"], [0.3333333333333333, \"#9c179e\"], [0.4444444444444444, \"#bd3786\"], [0.5555555555555556, \"#d8576b\"], [0.6666666666666666, \"#ed7953\"], [0.7777777777777778, \"#fb9f3a\"], [0.8888888888888888, \"#fdca26\"], [1.0, \"#f0f921\"]], \"type\": \"contour\"}], \"contourcarpet\": [{\"colorbar\": {\"outlinewidth\": 0, \"ticks\": \"\"}, \"type\": \"contourcarpet\"}], \"heatmap\": [{\"colorbar\": {\"outlinewidth\": 0, \"ticks\": \"\"}, \"colorscale\": [[0.0, \"#0d0887\"], [0.1111111111111111, \"#46039f\"], [0.2222222222222222, \"#7201a8\"], [0.3333333333333333, \"#9c179e\"], [0.4444444444444444, \"#bd3786\"], [0.5555555555555556, \"#d8576b\"], [0.6666666666666666, \"#ed7953\"], [0.7777777777777778, \"#fb9f3a\"], [0.8888888888888888, \"#fdca26\"], [1.0, \"#f0f921\"]], \"type\": \"heatmap\"}], \"heatmapgl\": [{\"colorbar\": {\"outlinewidth\": 0, \"ticks\": \"\"}, \"colorscale\": [[0.0, \"#0d0887\"], [0.1111111111111111, \"#46039f\"], [0.2222222222222222, \"#7201a8\"], [0.3333333333333333, \"#9c179e\"], [0.4444444444444444, \"#bd3786\"], [0.5555555555555556, \"#d8576b\"], [0.6666666666666666, \"#ed7953\"], [0.7777777777777778, \"#fb9f3a\"], [0.8888888888888888, \"#fdca26\"], [1.0, \"#f0f921\"]], \"type\": \"heatmapgl\"}], \"histogram\": [{\"marker\": {\"colorbar\": {\"outlinewidth\": 0, \"ticks\": \"\"}}, \"type\": \"histogram\"}], \"histogram2d\": [{\"colorbar\": {\"outlinewidth\": 0, \"ticks\": \"\"}, \"colorscale\": [[0.0, \"#0d0887\"], [0.1111111111111111, \"#46039f\"], [0.2222222222222222, \"#7201a8\"], [0.3333333333333333, \"#9c179e\"], [0.4444444444444444, \"#bd3786\"], [0.5555555555555556, \"#d8576b\"], [0.6666666666666666, \"#ed7953\"], [0.7777777777777778, \"#fb9f3a\"], [0.8888888888888888, \"#fdca26\"], [1.0, \"#f0f921\"]], \"type\": \"histogram2d\"}], \"histogram2dcontour\": [{\"colorbar\": {\"outlinewidth\": 0, \"ticks\": \"\"}, \"colorscale\": [[0.0, \"#0d0887\"], [0.1111111111111111, \"#46039f\"], [0.2222222222222222, \"#7201a8\"], [0.3333333333333333, \"#9c179e\"], [0.4444444444444444, \"#bd3786\"], [0.5555555555555556, \"#d8576b\"], [0.6666666666666666, \"#ed7953\"], [0.7777777777777778, \"#fb9f3a\"], [0.8888888888888888, \"#fdca26\"], [1.0, \"#f0f921\"]], \"type\": \"histogram2dcontour\"}], \"mesh3d\": [{\"colorbar\": {\"outlinewidth\": 0, \"ticks\": \"\"}, \"type\": \"mesh3d\"}], \"parcoords\": [{\"line\": {\"colorbar\": {\"outlinewidth\": 0, \"ticks\": \"\"}}, \"type\": \"parcoords\"}], \"pie\": [{\"automargin\": true, \"type\": \"pie\"}], \"scatter\": [{\"marker\": {\"colorbar\": {\"outlinewidth\": 0, \"ticks\": \"\"}}, \"type\": \"scatter\"}], \"scatter3d\": [{\"line\": {\"colorbar\": {\"outlinewidth\": 0, \"ticks\": \"\"}}, \"marker\": {\"colorbar\": {\"outlinewidth\": 0, \"ticks\": \"\"}}, \"type\": \"scatter3d\"}], \"scattercarpet\": [{\"marker\": {\"colorbar\": {\"outlinewidth\": 0, \"ticks\": \"\"}}, \"type\": \"scattercarpet\"}], \"scattergeo\": [{\"marker\": {\"colorbar\": {\"outlinewidth\": 0, \"ticks\": \"\"}}, \"type\": \"scattergeo\"}], \"scattergl\": [{\"marker\": {\"colorbar\": {\"outlinewidth\": 0, \"ticks\": \"\"}}, \"type\": \"scattergl\"}], \"scattermapbox\": [{\"marker\": {\"colorbar\": {\"outlinewidth\": 0, \"ticks\": \"\"}}, \"type\": \"scattermapbox\"}], \"scatterpolar\": [{\"marker\": {\"colorbar\": {\"outlinewidth\": 0, \"ticks\": \"\"}}, \"type\": \"scatterpolar\"}], \"scatterpolargl\": [{\"marker\": {\"colorbar\": {\"outlinewidth\": 0, \"ticks\": \"\"}}, \"type\": \"scatterpolargl\"}], \"scatterternary\": [{\"marker\": {\"colorbar\": {\"outlinewidth\": 0, \"ticks\": \"\"}}, \"type\": \"scatterternary\"}], \"surface\": [{\"colorbar\": {\"outlinewidth\": 0, \"ticks\": \"\"}, \"colorscale\": [[0.0, \"#0d0887\"], [0.1111111111111111, \"#46039f\"], [0.2222222222222222, \"#7201a8\"], [0.3333333333333333, \"#9c179e\"], [0.4444444444444444, \"#bd3786\"], [0.5555555555555556, \"#d8576b\"], [0.6666666666666666, \"#ed7953\"], [0.7777777777777778, \"#fb9f3a\"], [0.8888888888888888, \"#fdca26\"], [1.0, \"#f0f921\"]], \"type\": \"surface\"}], \"table\": [{\"cells\": {\"fill\": {\"color\": \"#EBF0F8\"}, \"line\": {\"color\": \"white\"}}, \"header\": {\"fill\": {\"color\": \"#C8D4E3\"}, \"line\": {\"color\": \"white\"}}, \"type\": \"table\"}]}, \"layout\": {\"annotationdefaults\": {\"arrowcolor\": \"#2a3f5f\", \"arrowhead\": 0, \"arrowwidth\": 1}, \"autotypenumbers\": \"strict\", \"coloraxis\": {\"colorbar\": {\"outlinewidth\": 0, \"ticks\": \"\"}}, \"colorscale\": {\"diverging\": [[0, \"#8e0152\"], [0.1, \"#c51b7d\"], [0.2, \"#de77ae\"], [0.3, \"#f1b6da\"], [0.4, \"#fde0ef\"], [0.5, \"#f7f7f7\"], [0.6, \"#e6f5d0\"], [0.7, \"#b8e186\"], [0.8, \"#7fbc41\"], [0.9, \"#4d9221\"], [1, \"#276419\"]], \"sequential\": [[0.0, \"#0d0887\"], [0.1111111111111111, \"#46039f\"], [0.2222222222222222, \"#7201a8\"], [0.3333333333333333, \"#9c179e\"], [0.4444444444444444, \"#bd3786\"], [0.5555555555555556, \"#d8576b\"], [0.6666666666666666, \"#ed7953\"], [0.7777777777777778, \"#fb9f3a\"], [0.8888888888888888, \"#fdca26\"], [1.0, \"#f0f921\"]], \"sequentialminus\": [[0.0, \"#0d0887\"], [0.1111111111111111, \"#46039f\"], [0.2222222222222222, \"#7201a8\"], [0.3333333333333333, \"#9c179e\"], [0.4444444444444444, \"#bd3786\"], [0.5555555555555556, \"#d8576b\"], [0.6666666666666666, \"#ed7953\"], [0.7777777777777778, \"#fb9f3a\"], [0.8888888888888888, \"#fdca26\"], [1.0, \"#f0f921\"]]}, \"colorway\": [\"#636efa\", \"#EF553B\", \"#00cc96\", \"#ab63fa\", \"#FFA15A\", \"#19d3f3\", \"#FF6692\", \"#B6E880\", \"#FF97FF\", \"#FECB52\"], \"font\": {\"color\": \"#2a3f5f\"}, \"geo\": {\"bgcolor\": \"white\", \"lakecolor\": \"white\", \"landcolor\": \"#E5ECF6\", \"showlakes\": true, \"showland\": true, \"subunitcolor\": \"white\"}, \"hoverlabel\": {\"align\": \"left\"}, \"hovermode\": \"closest\", \"mapbox\": {\"style\": \"light\"}, \"paper_bgcolor\": \"white\", \"plot_bgcolor\": \"#E5ECF6\", \"polar\": {\"angularaxis\": {\"gridcolor\": \"white\", \"linecolor\": \"white\", \"ticks\": \"\"}, \"bgcolor\": \"#E5ECF6\", \"radialaxis\": {\"gridcolor\": \"white\", \"linecolor\": \"white\", \"ticks\": \"\"}}, \"scene\": {\"xaxis\": {\"backgroundcolor\": \"#E5ECF6\", \"gridcolor\": \"white\", \"gridwidth\": 2, \"linecolor\": \"white\", \"showbackground\": true, \"ticks\": \"\", \"zerolinecolor\": \"white\"}, \"yaxis\": {\"backgroundcolor\": \"#E5ECF6\", \"gridcolor\": \"white\", \"gridwidth\": 2, \"linecolor\": \"white\", \"showbackground\": true, \"ticks\": \"\", \"zerolinecolor\": \"white\"}, \"zaxis\": {\"backgroundcolor\": \"#E5ECF6\", \"gridcolor\": \"white\", \"gridwidth\": 2, \"linecolor\": \"white\", \"showbackground\": true, \"ticks\": \"\", \"zerolinecolor\": \"white\"}}, \"shapedefaults\": {\"line\": {\"color\": \"#2a3f5f\"}}, \"ternary\": {\"aaxis\": {\"gridcolor\": \"white\", \"linecolor\": \"white\", \"ticks\": \"\"}, \"baxis\": {\"gridcolor\": \"white\", \"linecolor\": \"white\", \"ticks\": \"\"}, \"bgcolor\": \"#E5ECF6\", \"caxis\": {\"gridcolor\": \"white\", \"linecolor\": \"white\", \"ticks\": \"\"}}, \"title\": {\"x\": 0.05}, \"xaxis\": {\"automargin\": true, \"gridcolor\": \"white\", \"linecolor\": \"white\", \"ticks\": \"\", \"title\": {\"standoff\": 15}, \"zerolinecolor\": \"white\", \"zerolinewidth\": 2}, \"yaxis\": {\"automargin\": true, \"gridcolor\": \"white\", \"linecolor\": \"white\", \"ticks\": \"\", \"title\": {\"standoff\": 15}, \"zerolinecolor\": \"white\", \"zerolinewidth\": 2}}}, \"title\": {\"text\": \"Generosity by country\"}, \"xaxis\": {\"anchor\": \"y\", \"domain\": [0.0, 1.0], \"title\": {\"text\": \"year\"}}, \"yaxis\": {\"anchor\": \"x\", \"domain\": [0.0, 1.0], \"title\": {\"text\": \"Generosity\"}}},                        {\"responsive\": true}                    ).then(function(){\n",
       "                            \n",
       "var gd = document.getElementById('927cbf59-67e8-4327-89de-087a389900ba');\n",
       "var x = new MutationObserver(function (mutations, observer) {{\n",
       "        var display = window.getComputedStyle(gd).display;\n",
       "        if (!display || display === 'none') {{\n",
       "            console.log([gd, 'removed!']);\n",
       "            Plotly.purge(gd);\n",
       "            observer.disconnect();\n",
       "        }}\n",
       "}});\n",
       "\n",
       "// Listen for the removal of the full notebook cells\n",
       "var notebookContainer = gd.closest('#notebook-container');\n",
       "if (notebookContainer) {{\n",
       "    x.observe(notebookContainer, {childList: true});\n",
       "}}\n",
       "\n",
       "// Listen for the clearing of the current output cell\n",
       "var outputEl = gd.closest('.output');\n",
       "if (outputEl) {{\n",
       "    x.observe(outputEl, {childList: true});\n",
       "}}\n",
       "\n",
       "                        })                };                });            </script>        </div>"
      ]
     },
     "metadata": {},
     "output_type": "display_data"
    }
   ],
   "source": [
    "plot_line('Generosity')"
   ]
  },
  {
   "cell_type": "code",
   "execution_count": 2188,
   "id": "loose-timing",
   "metadata": {},
   "outputs": [
    {
     "data": {
      "application/vnd.plotly.v1+json": {
       "config": {
        "plotlyServerURL": "https://plot.ly"
       },
       "data": [
        {
         "hovertemplate": "Country or region=%{x}<br>Generosity=%{y}<br>year=%{marker.color}<extra></extra>",
         "legendgroup": "",
         "marker": {
          "color": [
           2015,
           2015,
           2015,
           2015,
           2015,
           2015,
           2015,
           2015,
           2015,
           2015,
           2015,
           2015,
           2015,
           2015,
           2015,
           2015,
           2015,
           2015,
           2015,
           2015,
           2015,
           2015,
           2015,
           2015,
           2016,
           2016,
           2016,
           2016,
           2016,
           2016,
           2016,
           2016,
           2016,
           2016,
           2016,
           2016,
           2016,
           2016,
           2016,
           2016,
           2016,
           2016,
           2016,
           2016,
           2016,
           2016,
           2016,
           2016,
           2017,
           2017,
           2017,
           2017,
           2017,
           2017,
           2017,
           2017,
           2017,
           2017,
           2017,
           2017,
           2017,
           2017,
           2017,
           2017,
           2017,
           2017,
           2017,
           2017,
           2017,
           2017,
           2017,
           2017,
           2018,
           2018,
           2018,
           2018,
           2018,
           2018,
           2018,
           2018,
           2018,
           2018,
           2018,
           2018,
           2018,
           2018,
           2018,
           2018,
           2018,
           2018,
           2018,
           2018,
           2018,
           2018,
           2018,
           2018,
           2019,
           2019,
           2019,
           2019,
           2019,
           2019,
           2019,
           2019,
           2019,
           2019,
           2019,
           2019,
           2019,
           2019,
           2019,
           2019,
           2019,
           2019,
           2019,
           2019,
           2019,
           2019,
           2019,
           2019,
           2020,
           2020,
           2020,
           2020,
           2020,
           2020,
           2020,
           2020,
           2020,
           2020,
           2020,
           2020,
           2020,
           2020,
           2020,
           2020,
           2020,
           2020,
           2020,
           2020,
           2020,
           2020,
           2020,
           2020
          ],
          "coloraxis": "coloraxis",
          "symbol": "circle"
         },
         "mode": "markers",
         "name": "",
         "orientation": "v",
         "showlegend": false,
         "type": "scatter",
         "x": [
          "Switzerland",
          "Iceland",
          "Denmark",
          "Norway",
          "Canada",
          "Finland",
          "Netherlands",
          "Sweden",
          "New Zealand",
          "Austria",
          "United States",
          "Luxembourg",
          "South Korea",
          "Russia",
          "Zambia",
          "Zimbabwe",
          "India",
          "Haiti",
          "Botswana",
          "Malawi",
          "Yemen",
          "Tanzania",
          "Afghanistan",
          "Rwanda",
          "Denmark",
          "Switzerland",
          "Iceland",
          "Norway",
          "Finland",
          "Canada",
          "Netherlands",
          "New Zealand",
          "Sweden",
          "Austria",
          "United States",
          "Luxembourg",
          "Russia",
          "South Korea",
          "Zambia",
          "India",
          "Zimbabwe",
          "Malawi",
          "Haiti",
          "Botswana",
          "Yemen",
          "Tanzania",
          "Rwanda",
          "Afghanistan",
          "Norway",
          "Denmark",
          "Iceland",
          "Switzerland",
          "Finland",
          "Netherlands",
          "Canada",
          "New Zealand",
          "Sweden",
          "Austria",
          "United States",
          "Luxembourg",
          "Russia",
          "South Korea",
          "Zambia",
          "India",
          "Malawi",
          "Zimbabwe",
          "Afghanistan",
          "Botswana",
          "Haiti",
          "Yemen",
          "Rwanda",
          "Tanzania",
          "Finland",
          "Norway",
          "Denmark",
          "Iceland",
          "Switzerland",
          "Netherlands",
          "Canada",
          "New Zealand",
          "Sweden",
          "Austria",
          "Luxembourg",
          "United States",
          "South Korea",
          "Russia",
          "Zambia",
          "India",
          "Zimbabwe",
          "Afghanistan",
          "Botswana",
          "Malawi",
          "Haiti",
          "Rwanda",
          "Yemen",
          "Tanzania",
          "Finland",
          "Denmark",
          "Norway",
          "Iceland",
          "Netherlands",
          "Switzerland",
          "Sweden",
          "New Zealand",
          "Canada",
          "Austria",
          "Luxembourg",
          "United States",
          "South Korea",
          "Russia",
          "Zambia",
          "India",
          "Zimbabwe",
          "Haiti",
          "Botswana",
          "Malawi",
          "Yemen",
          "Rwanda",
          "Tanzania",
          "Afghanistan",
          "Finland",
          "Denmark",
          "Switzerland",
          "Iceland",
          "Norway",
          "Netherlands",
          "Sweden",
          "New Zealand",
          "Austria",
          "Luxembourg",
          "Canada",
          "United States",
          "South Korea",
          "Russia",
          "Zambia",
          "Haiti",
          "India",
          "Malawi",
          "Yemen",
          "Botswana",
          "Tanzania",
          "Rwanda",
          "Zimbabwe",
          "Afghanistan"
         ],
         "xaxis": "x",
         "y": [
          0.29678,
          0.4363,
          0.34139,
          0.34699,
          0.45811,
          0.23351,
          0.4761,
          0.36262,
          0.47501,
          0.33088,
          0.40105,
          0.28034,
          0.18557,
          0.00199,
          0.19591,
          0.18987,
          0.26475,
          0.46187,
          0.10461,
          0.33128,
          0.09131,
          0.34377,
          0.3651,
          0.22628,
          0.36171,
          0.28083,
          0.47678,
          0.37895,
          0.25492,
          0.44834,
          0.47416,
          0.49401,
          0.38254,
          0.32865,
          0.41077,
          0.27571,
          0.02736,
          0.18824,
          0.17866,
          0.25028,
          0.18503,
          0.30968,
          0.47958,
          0.12425,
          0.09821,
          0.31472,
          0.23552,
          0.31268,
          0.36201223731041,
          0.355280488729477,
          0.475540220737457,
          0.290549278259277,
          0.24548277258873,
          0.470489829778671,
          0.435539722442627,
          0.500005125999451,
          0.385399252176285,
          0.316472321748734,
          0.392578780651093,
          0.283180981874466,
          0.0522638224065304,
          0.206674367189407,
          0.249580144882202,
          0.231538489460945,
          0.287170469760895,
          0.189143493771553,
          0.311870932579041,
          0.0993484482169151,
          0.489203780889511,
          0.104125209152699,
          0.252756029367447,
          0.354256361722946,
          0.202,
          0.286,
          0.284,
          0.353,
          0.256,
          0.333,
          0.321,
          0.365,
          0.285,
          0.242,
          0.196,
          0.291,
          0.175,
          0.065,
          0.221,
          0.172,
          0.132,
          0.191,
          0.042,
          0.21,
          0.392,
          0.2,
          0.083,
          0.27,
          0.153,
          0.252,
          0.271,
          0.354,
          0.322,
          0.263,
          0.267,
          0.33,
          0.285,
          0.244,
          0.194,
          0.28,
          0.175,
          0.082,
          0.247,
          0.2,
          0.151,
          0.419,
          0.025,
          0.218,
          0.108,
          0.217,
          0.276,
          0.158,
          0.159670442,
          0.242793396,
          0.269055754,
          0.362330228,
          0.287985086,
          0.336317569,
          0.272827893,
          0.325726211,
          0.255509764,
          0.19595392,
          0.28152892,
          0.298143059,
          0.170303866,
          0.099041916,
          0.250620902,
          0.463909656,
          0.237072483,
          0.213185057,
          0.094689012,
          0.033407487,
          0.27154091,
          0.235704988,
          0.151349187,
          0.135234714
         ],
         "yaxis": "y"
        }
       ],
       "layout": {
        "coloraxis": {
         "colorbar": {
          "title": {
           "text": "year"
          }
         },
         "colorscale": [
          [
           0,
           "#0d0887"
          ],
          [
           0.1111111111111111,
           "#46039f"
          ],
          [
           0.2222222222222222,
           "#7201a8"
          ],
          [
           0.3333333333333333,
           "#9c179e"
          ],
          [
           0.4444444444444444,
           "#bd3786"
          ],
          [
           0.5555555555555556,
           "#d8576b"
          ],
          [
           0.6666666666666666,
           "#ed7953"
          ],
          [
           0.7777777777777778,
           "#fb9f3a"
          ],
          [
           0.8888888888888888,
           "#fdca26"
          ],
          [
           1,
           "#f0f921"
          ]
         ]
        },
        "legend": {
         "tracegroupgap": 0
        },
        "template": {
         "data": {
          "bar": [
           {
            "error_x": {
             "color": "#2a3f5f"
            },
            "error_y": {
             "color": "#2a3f5f"
            },
            "marker": {
             "line": {
              "color": "#E5ECF6",
              "width": 0.5
             }
            },
            "type": "bar"
           }
          ],
          "barpolar": [
           {
            "marker": {
             "line": {
              "color": "#E5ECF6",
              "width": 0.5
             }
            },
            "type": "barpolar"
           }
          ],
          "carpet": [
           {
            "aaxis": {
             "endlinecolor": "#2a3f5f",
             "gridcolor": "white",
             "linecolor": "white",
             "minorgridcolor": "white",
             "startlinecolor": "#2a3f5f"
            },
            "baxis": {
             "endlinecolor": "#2a3f5f",
             "gridcolor": "white",
             "linecolor": "white",
             "minorgridcolor": "white",
             "startlinecolor": "#2a3f5f"
            },
            "type": "carpet"
           }
          ],
          "choropleth": [
           {
            "colorbar": {
             "outlinewidth": 0,
             "ticks": ""
            },
            "type": "choropleth"
           }
          ],
          "contour": [
           {
            "colorbar": {
             "outlinewidth": 0,
             "ticks": ""
            },
            "colorscale": [
             [
              0,
              "#0d0887"
             ],
             [
              0.1111111111111111,
              "#46039f"
             ],
             [
              0.2222222222222222,
              "#7201a8"
             ],
             [
              0.3333333333333333,
              "#9c179e"
             ],
             [
              0.4444444444444444,
              "#bd3786"
             ],
             [
              0.5555555555555556,
              "#d8576b"
             ],
             [
              0.6666666666666666,
              "#ed7953"
             ],
             [
              0.7777777777777778,
              "#fb9f3a"
             ],
             [
              0.8888888888888888,
              "#fdca26"
             ],
             [
              1,
              "#f0f921"
             ]
            ],
            "type": "contour"
           }
          ],
          "contourcarpet": [
           {
            "colorbar": {
             "outlinewidth": 0,
             "ticks": ""
            },
            "type": "contourcarpet"
           }
          ],
          "heatmap": [
           {
            "colorbar": {
             "outlinewidth": 0,
             "ticks": ""
            },
            "colorscale": [
             [
              0,
              "#0d0887"
             ],
             [
              0.1111111111111111,
              "#46039f"
             ],
             [
              0.2222222222222222,
              "#7201a8"
             ],
             [
              0.3333333333333333,
              "#9c179e"
             ],
             [
              0.4444444444444444,
              "#bd3786"
             ],
             [
              0.5555555555555556,
              "#d8576b"
             ],
             [
              0.6666666666666666,
              "#ed7953"
             ],
             [
              0.7777777777777778,
              "#fb9f3a"
             ],
             [
              0.8888888888888888,
              "#fdca26"
             ],
             [
              1,
              "#f0f921"
             ]
            ],
            "type": "heatmap"
           }
          ],
          "heatmapgl": [
           {
            "colorbar": {
             "outlinewidth": 0,
             "ticks": ""
            },
            "colorscale": [
             [
              0,
              "#0d0887"
             ],
             [
              0.1111111111111111,
              "#46039f"
             ],
             [
              0.2222222222222222,
              "#7201a8"
             ],
             [
              0.3333333333333333,
              "#9c179e"
             ],
             [
              0.4444444444444444,
              "#bd3786"
             ],
             [
              0.5555555555555556,
              "#d8576b"
             ],
             [
              0.6666666666666666,
              "#ed7953"
             ],
             [
              0.7777777777777778,
              "#fb9f3a"
             ],
             [
              0.8888888888888888,
              "#fdca26"
             ],
             [
              1,
              "#f0f921"
             ]
            ],
            "type": "heatmapgl"
           }
          ],
          "histogram": [
           {
            "marker": {
             "colorbar": {
              "outlinewidth": 0,
              "ticks": ""
             }
            },
            "type": "histogram"
           }
          ],
          "histogram2d": [
           {
            "colorbar": {
             "outlinewidth": 0,
             "ticks": ""
            },
            "colorscale": [
             [
              0,
              "#0d0887"
             ],
             [
              0.1111111111111111,
              "#46039f"
             ],
             [
              0.2222222222222222,
              "#7201a8"
             ],
             [
              0.3333333333333333,
              "#9c179e"
             ],
             [
              0.4444444444444444,
              "#bd3786"
             ],
             [
              0.5555555555555556,
              "#d8576b"
             ],
             [
              0.6666666666666666,
              "#ed7953"
             ],
             [
              0.7777777777777778,
              "#fb9f3a"
             ],
             [
              0.8888888888888888,
              "#fdca26"
             ],
             [
              1,
              "#f0f921"
             ]
            ],
            "type": "histogram2d"
           }
          ],
          "histogram2dcontour": [
           {
            "colorbar": {
             "outlinewidth": 0,
             "ticks": ""
            },
            "colorscale": [
             [
              0,
              "#0d0887"
             ],
             [
              0.1111111111111111,
              "#46039f"
             ],
             [
              0.2222222222222222,
              "#7201a8"
             ],
             [
              0.3333333333333333,
              "#9c179e"
             ],
             [
              0.4444444444444444,
              "#bd3786"
             ],
             [
              0.5555555555555556,
              "#d8576b"
             ],
             [
              0.6666666666666666,
              "#ed7953"
             ],
             [
              0.7777777777777778,
              "#fb9f3a"
             ],
             [
              0.8888888888888888,
              "#fdca26"
             ],
             [
              1,
              "#f0f921"
             ]
            ],
            "type": "histogram2dcontour"
           }
          ],
          "mesh3d": [
           {
            "colorbar": {
             "outlinewidth": 0,
             "ticks": ""
            },
            "type": "mesh3d"
           }
          ],
          "parcoords": [
           {
            "line": {
             "colorbar": {
              "outlinewidth": 0,
              "ticks": ""
             }
            },
            "type": "parcoords"
           }
          ],
          "pie": [
           {
            "automargin": true,
            "type": "pie"
           }
          ],
          "scatter": [
           {
            "marker": {
             "colorbar": {
              "outlinewidth": 0,
              "ticks": ""
             }
            },
            "type": "scatter"
           }
          ],
          "scatter3d": [
           {
            "line": {
             "colorbar": {
              "outlinewidth": 0,
              "ticks": ""
             }
            },
            "marker": {
             "colorbar": {
              "outlinewidth": 0,
              "ticks": ""
             }
            },
            "type": "scatter3d"
           }
          ],
          "scattercarpet": [
           {
            "marker": {
             "colorbar": {
              "outlinewidth": 0,
              "ticks": ""
             }
            },
            "type": "scattercarpet"
           }
          ],
          "scattergeo": [
           {
            "marker": {
             "colorbar": {
              "outlinewidth": 0,
              "ticks": ""
             }
            },
            "type": "scattergeo"
           }
          ],
          "scattergl": [
           {
            "marker": {
             "colorbar": {
              "outlinewidth": 0,
              "ticks": ""
             }
            },
            "type": "scattergl"
           }
          ],
          "scattermapbox": [
           {
            "marker": {
             "colorbar": {
              "outlinewidth": 0,
              "ticks": ""
             }
            },
            "type": "scattermapbox"
           }
          ],
          "scatterpolar": [
           {
            "marker": {
             "colorbar": {
              "outlinewidth": 0,
              "ticks": ""
             }
            },
            "type": "scatterpolar"
           }
          ],
          "scatterpolargl": [
           {
            "marker": {
             "colorbar": {
              "outlinewidth": 0,
              "ticks": ""
             }
            },
            "type": "scatterpolargl"
           }
          ],
          "scatterternary": [
           {
            "marker": {
             "colorbar": {
              "outlinewidth": 0,
              "ticks": ""
             }
            },
            "type": "scatterternary"
           }
          ],
          "surface": [
           {
            "colorbar": {
             "outlinewidth": 0,
             "ticks": ""
            },
            "colorscale": [
             [
              0,
              "#0d0887"
             ],
             [
              0.1111111111111111,
              "#46039f"
             ],
             [
              0.2222222222222222,
              "#7201a8"
             ],
             [
              0.3333333333333333,
              "#9c179e"
             ],
             [
              0.4444444444444444,
              "#bd3786"
             ],
             [
              0.5555555555555556,
              "#d8576b"
             ],
             [
              0.6666666666666666,
              "#ed7953"
             ],
             [
              0.7777777777777778,
              "#fb9f3a"
             ],
             [
              0.8888888888888888,
              "#fdca26"
             ],
             [
              1,
              "#f0f921"
             ]
            ],
            "type": "surface"
           }
          ],
          "table": [
           {
            "cells": {
             "fill": {
              "color": "#EBF0F8"
             },
             "line": {
              "color": "white"
             }
            },
            "header": {
             "fill": {
              "color": "#C8D4E3"
             },
             "line": {
              "color": "white"
             }
            },
            "type": "table"
           }
          ]
         },
         "layout": {
          "annotationdefaults": {
           "arrowcolor": "#2a3f5f",
           "arrowhead": 0,
           "arrowwidth": 1
          },
          "autotypenumbers": "strict",
          "coloraxis": {
           "colorbar": {
            "outlinewidth": 0,
            "ticks": ""
           }
          },
          "colorscale": {
           "diverging": [
            [
             0,
             "#8e0152"
            ],
            [
             0.1,
             "#c51b7d"
            ],
            [
             0.2,
             "#de77ae"
            ],
            [
             0.3,
             "#f1b6da"
            ],
            [
             0.4,
             "#fde0ef"
            ],
            [
             0.5,
             "#f7f7f7"
            ],
            [
             0.6,
             "#e6f5d0"
            ],
            [
             0.7,
             "#b8e186"
            ],
            [
             0.8,
             "#7fbc41"
            ],
            [
             0.9,
             "#4d9221"
            ],
            [
             1,
             "#276419"
            ]
           ],
           "sequential": [
            [
             0,
             "#0d0887"
            ],
            [
             0.1111111111111111,
             "#46039f"
            ],
            [
             0.2222222222222222,
             "#7201a8"
            ],
            [
             0.3333333333333333,
             "#9c179e"
            ],
            [
             0.4444444444444444,
             "#bd3786"
            ],
            [
             0.5555555555555556,
             "#d8576b"
            ],
            [
             0.6666666666666666,
             "#ed7953"
            ],
            [
             0.7777777777777778,
             "#fb9f3a"
            ],
            [
             0.8888888888888888,
             "#fdca26"
            ],
            [
             1,
             "#f0f921"
            ]
           ],
           "sequentialminus": [
            [
             0,
             "#0d0887"
            ],
            [
             0.1111111111111111,
             "#46039f"
            ],
            [
             0.2222222222222222,
             "#7201a8"
            ],
            [
             0.3333333333333333,
             "#9c179e"
            ],
            [
             0.4444444444444444,
             "#bd3786"
            ],
            [
             0.5555555555555556,
             "#d8576b"
            ],
            [
             0.6666666666666666,
             "#ed7953"
            ],
            [
             0.7777777777777778,
             "#fb9f3a"
            ],
            [
             0.8888888888888888,
             "#fdca26"
            ],
            [
             1,
             "#f0f921"
            ]
           ]
          },
          "colorway": [
           "#636efa",
           "#EF553B",
           "#00cc96",
           "#ab63fa",
           "#FFA15A",
           "#19d3f3",
           "#FF6692",
           "#B6E880",
           "#FF97FF",
           "#FECB52"
          ],
          "font": {
           "color": "#2a3f5f"
          },
          "geo": {
           "bgcolor": "white",
           "lakecolor": "white",
           "landcolor": "#E5ECF6",
           "showlakes": true,
           "showland": true,
           "subunitcolor": "white"
          },
          "hoverlabel": {
           "align": "left"
          },
          "hovermode": "closest",
          "mapbox": {
           "style": "light"
          },
          "paper_bgcolor": "white",
          "plot_bgcolor": "#E5ECF6",
          "polar": {
           "angularaxis": {
            "gridcolor": "white",
            "linecolor": "white",
            "ticks": ""
           },
           "bgcolor": "#E5ECF6",
           "radialaxis": {
            "gridcolor": "white",
            "linecolor": "white",
            "ticks": ""
           }
          },
          "scene": {
           "xaxis": {
            "backgroundcolor": "#E5ECF6",
            "gridcolor": "white",
            "gridwidth": 2,
            "linecolor": "white",
            "showbackground": true,
            "ticks": "",
            "zerolinecolor": "white"
           },
           "yaxis": {
            "backgroundcolor": "#E5ECF6",
            "gridcolor": "white",
            "gridwidth": 2,
            "linecolor": "white",
            "showbackground": true,
            "ticks": "",
            "zerolinecolor": "white"
           },
           "zaxis": {
            "backgroundcolor": "#E5ECF6",
            "gridcolor": "white",
            "gridwidth": 2,
            "linecolor": "white",
            "showbackground": true,
            "ticks": "",
            "zerolinecolor": "white"
           }
          },
          "shapedefaults": {
           "line": {
            "color": "#2a3f5f"
           }
          },
          "ternary": {
           "aaxis": {
            "gridcolor": "white",
            "linecolor": "white",
            "ticks": ""
           },
           "baxis": {
            "gridcolor": "white",
            "linecolor": "white",
            "ticks": ""
           },
           "bgcolor": "#E5ECF6",
           "caxis": {
            "gridcolor": "white",
            "linecolor": "white",
            "ticks": ""
           }
          },
          "title": {
           "x": 0.05
          },
          "xaxis": {
           "automargin": true,
           "gridcolor": "white",
           "linecolor": "white",
           "ticks": "",
           "title": {
            "standoff": 15
           },
           "zerolinecolor": "white",
           "zerolinewidth": 2
          },
          "yaxis": {
           "automargin": true,
           "gridcolor": "white",
           "linecolor": "white",
           "ticks": "",
           "title": {
            "standoff": 15
           },
           "zerolinecolor": "white",
           "zerolinewidth": 2
          }
         }
        },
        "title": {
         "text": "Generosity by year"
        },
        "xaxis": {
         "anchor": "y",
         "domain": [
          0,
          1
         ],
         "title": {
          "text": "Country or region"
         }
        },
        "yaxis": {
         "anchor": "x",
         "domain": [
          0,
          1
         ],
         "title": {
          "text": "Generosity"
         }
        }
       }
      },
      "text/html": [
       "<div>                            <div id=\"01611d67-1fad-4ad4-857f-6db3e38b03c5\" class=\"plotly-graph-div\" style=\"height:525px; width:100%;\"></div>            <script type=\"text/javascript\">                require([\"plotly\"], function(Plotly) {                    window.PLOTLYENV=window.PLOTLYENV || {};                                    if (document.getElementById(\"01611d67-1fad-4ad4-857f-6db3e38b03c5\")) {                    Plotly.newPlot(                        \"01611d67-1fad-4ad4-857f-6db3e38b03c5\",                        [{\"hovertemplate\": \"Country or region=%{x}<br>Generosity=%{y}<br>year=%{marker.color}<extra></extra>\", \"legendgroup\": \"\", \"marker\": {\"color\": [2015, 2015, 2015, 2015, 2015, 2015, 2015, 2015, 2015, 2015, 2015, 2015, 2015, 2015, 2015, 2015, 2015, 2015, 2015, 2015, 2015, 2015, 2015, 2015, 2016, 2016, 2016, 2016, 2016, 2016, 2016, 2016, 2016, 2016, 2016, 2016, 2016, 2016, 2016, 2016, 2016, 2016, 2016, 2016, 2016, 2016, 2016, 2016, 2017, 2017, 2017, 2017, 2017, 2017, 2017, 2017, 2017, 2017, 2017, 2017, 2017, 2017, 2017, 2017, 2017, 2017, 2017, 2017, 2017, 2017, 2017, 2017, 2018, 2018, 2018, 2018, 2018, 2018, 2018, 2018, 2018, 2018, 2018, 2018, 2018, 2018, 2018, 2018, 2018, 2018, 2018, 2018, 2018, 2018, 2018, 2018, 2019, 2019, 2019, 2019, 2019, 2019, 2019, 2019, 2019, 2019, 2019, 2019, 2019, 2019, 2019, 2019, 2019, 2019, 2019, 2019, 2019, 2019, 2019, 2019, 2020, 2020, 2020, 2020, 2020, 2020, 2020, 2020, 2020, 2020, 2020, 2020, 2020, 2020, 2020, 2020, 2020, 2020, 2020, 2020, 2020, 2020, 2020, 2020], \"coloraxis\": \"coloraxis\", \"symbol\": \"circle\"}, \"mode\": \"markers\", \"name\": \"\", \"orientation\": \"v\", \"showlegend\": false, \"type\": \"scatter\", \"x\": [\"Switzerland\", \"Iceland\", \"Denmark\", \"Norway\", \"Canada\", \"Finland\", \"Netherlands\", \"Sweden\", \"New Zealand\", \"Austria\", \"United States\", \"Luxembourg\", \"South Korea\", \"Russia\", \"Zambia\", \"Zimbabwe\", \"India\", \"Haiti\", \"Botswana\", \"Malawi\", \"Yemen\", \"Tanzania\", \"Afghanistan\", \"Rwanda\", \"Denmark\", \"Switzerland\", \"Iceland\", \"Norway\", \"Finland\", \"Canada\", \"Netherlands\", \"New Zealand\", \"Sweden\", \"Austria\", \"United States\", \"Luxembourg\", \"Russia\", \"South Korea\", \"Zambia\", \"India\", \"Zimbabwe\", \"Malawi\", \"Haiti\", \"Botswana\", \"Yemen\", \"Tanzania\", \"Rwanda\", \"Afghanistan\", \"Norway\", \"Denmark\", \"Iceland\", \"Switzerland\", \"Finland\", \"Netherlands\", \"Canada\", \"New Zealand\", \"Sweden\", \"Austria\", \"United States\", \"Luxembourg\", \"Russia\", \"South Korea\", \"Zambia\", \"India\", \"Malawi\", \"Zimbabwe\", \"Afghanistan\", \"Botswana\", \"Haiti\", \"Yemen\", \"Rwanda\", \"Tanzania\", \"Finland\", \"Norway\", \"Denmark\", \"Iceland\", \"Switzerland\", \"Netherlands\", \"Canada\", \"New Zealand\", \"Sweden\", \"Austria\", \"Luxembourg\", \"United States\", \"South Korea\", \"Russia\", \"Zambia\", \"India\", \"Zimbabwe\", \"Afghanistan\", \"Botswana\", \"Malawi\", \"Haiti\", \"Rwanda\", \"Yemen\", \"Tanzania\", \"Finland\", \"Denmark\", \"Norway\", \"Iceland\", \"Netherlands\", \"Switzerland\", \"Sweden\", \"New Zealand\", \"Canada\", \"Austria\", \"Luxembourg\", \"United States\", \"South Korea\", \"Russia\", \"Zambia\", \"India\", \"Zimbabwe\", \"Haiti\", \"Botswana\", \"Malawi\", \"Yemen\", \"Rwanda\", \"Tanzania\", \"Afghanistan\", \"Finland\", \"Denmark\", \"Switzerland\", \"Iceland\", \"Norway\", \"Netherlands\", \"Sweden\", \"New Zealand\", \"Austria\", \"Luxembourg\", \"Canada\", \"United States\", \"South Korea\", \"Russia\", \"Zambia\", \"Haiti\", \"India\", \"Malawi\", \"Yemen\", \"Botswana\", \"Tanzania\", \"Rwanda\", \"Zimbabwe\", \"Afghanistan\"], \"xaxis\": \"x\", \"y\": [0.29678, 0.4363, 0.34139, 0.34699, 0.45811, 0.23351, 0.4761, 0.36262, 0.47501, 0.33088, 0.40105, 0.28034, 0.18557, 0.00199, 0.19591, 0.18987, 0.26475, 0.46187, 0.10461, 0.33128, 0.09131, 0.34377, 0.3651, 0.22628, 0.36171, 0.28083, 0.47678, 0.37895, 0.25492, 0.44834, 0.47416, 0.49401, 0.38254, 0.32865, 0.41077, 0.27571, 0.02736, 0.18824, 0.17866, 0.25028, 0.18503, 0.30968, 0.47958, 0.12425, 0.09821, 0.31472, 0.23552, 0.31268, 0.36201223731041, 0.355280488729477, 0.475540220737457, 0.290549278259277, 0.24548277258873, 0.470489829778671, 0.435539722442627, 0.500005125999451, 0.385399252176285, 0.316472321748734, 0.392578780651093, 0.283180981874466, 0.0522638224065304, 0.206674367189407, 0.249580144882202, 0.231538489460945, 0.287170469760895, 0.189143493771553, 0.311870932579041, 0.0993484482169151, 0.489203780889511, 0.104125209152699, 0.252756029367447, 0.354256361722946, 0.202, 0.286, 0.284, 0.353, 0.256, 0.333, 0.321, 0.365, 0.285, 0.242, 0.196, 0.291, 0.175, 0.065, 0.221, 0.172, 0.132, 0.191, 0.042, 0.21, 0.392, 0.2, 0.083, 0.27, 0.153, 0.252, 0.271, 0.354, 0.322, 0.263, 0.267, 0.33, 0.285, 0.244, 0.194, 0.28, 0.175, 0.082, 0.247, 0.2, 0.151, 0.419, 0.025, 0.218, 0.108, 0.217, 0.276, 0.158, 0.159670442, 0.242793396, 0.269055754, 0.362330228, 0.287985086, 0.336317569, 0.272827893, 0.325726211, 0.255509764, 0.19595392, 0.28152892, 0.298143059, 0.170303866, 0.099041916, 0.250620902, 0.463909656, 0.237072483, 0.213185057, 0.094689012, 0.033407487, 0.27154091, 0.235704988, 0.151349187, 0.135234714], \"yaxis\": \"y\"}],                        {\"coloraxis\": {\"colorbar\": {\"title\": {\"text\": \"year\"}}, \"colorscale\": [[0.0, \"#0d0887\"], [0.1111111111111111, \"#46039f\"], [0.2222222222222222, \"#7201a8\"], [0.3333333333333333, \"#9c179e\"], [0.4444444444444444, \"#bd3786\"], [0.5555555555555556, \"#d8576b\"], [0.6666666666666666, \"#ed7953\"], [0.7777777777777778, \"#fb9f3a\"], [0.8888888888888888, \"#fdca26\"], [1.0, \"#f0f921\"]]}, \"legend\": {\"tracegroupgap\": 0}, \"template\": {\"data\": {\"bar\": [{\"error_x\": {\"color\": \"#2a3f5f\"}, \"error_y\": {\"color\": \"#2a3f5f\"}, \"marker\": {\"line\": {\"color\": \"#E5ECF6\", \"width\": 0.5}}, \"type\": \"bar\"}], \"barpolar\": [{\"marker\": {\"line\": {\"color\": \"#E5ECF6\", \"width\": 0.5}}, \"type\": \"barpolar\"}], \"carpet\": [{\"aaxis\": {\"endlinecolor\": \"#2a3f5f\", \"gridcolor\": \"white\", \"linecolor\": \"white\", \"minorgridcolor\": \"white\", \"startlinecolor\": \"#2a3f5f\"}, \"baxis\": {\"endlinecolor\": \"#2a3f5f\", \"gridcolor\": \"white\", \"linecolor\": \"white\", \"minorgridcolor\": \"white\", \"startlinecolor\": \"#2a3f5f\"}, \"type\": \"carpet\"}], \"choropleth\": [{\"colorbar\": {\"outlinewidth\": 0, \"ticks\": \"\"}, \"type\": \"choropleth\"}], \"contour\": [{\"colorbar\": {\"outlinewidth\": 0, \"ticks\": \"\"}, \"colorscale\": [[0.0, \"#0d0887\"], [0.1111111111111111, \"#46039f\"], [0.2222222222222222, \"#7201a8\"], [0.3333333333333333, \"#9c179e\"], [0.4444444444444444, \"#bd3786\"], [0.5555555555555556, \"#d8576b\"], [0.6666666666666666, \"#ed7953\"], [0.7777777777777778, \"#fb9f3a\"], [0.8888888888888888, \"#fdca26\"], [1.0, \"#f0f921\"]], \"type\": \"contour\"}], \"contourcarpet\": [{\"colorbar\": {\"outlinewidth\": 0, \"ticks\": \"\"}, \"type\": \"contourcarpet\"}], \"heatmap\": [{\"colorbar\": {\"outlinewidth\": 0, \"ticks\": \"\"}, \"colorscale\": [[0.0, \"#0d0887\"], [0.1111111111111111, \"#46039f\"], [0.2222222222222222, \"#7201a8\"], [0.3333333333333333, \"#9c179e\"], [0.4444444444444444, \"#bd3786\"], [0.5555555555555556, \"#d8576b\"], [0.6666666666666666, \"#ed7953\"], [0.7777777777777778, \"#fb9f3a\"], [0.8888888888888888, \"#fdca26\"], [1.0, \"#f0f921\"]], \"type\": \"heatmap\"}], \"heatmapgl\": [{\"colorbar\": {\"outlinewidth\": 0, \"ticks\": \"\"}, \"colorscale\": [[0.0, \"#0d0887\"], [0.1111111111111111, \"#46039f\"], [0.2222222222222222, \"#7201a8\"], [0.3333333333333333, \"#9c179e\"], [0.4444444444444444, \"#bd3786\"], [0.5555555555555556, \"#d8576b\"], [0.6666666666666666, \"#ed7953\"], [0.7777777777777778, \"#fb9f3a\"], [0.8888888888888888, \"#fdca26\"], [1.0, \"#f0f921\"]], \"type\": \"heatmapgl\"}], \"histogram\": [{\"marker\": {\"colorbar\": {\"outlinewidth\": 0, \"ticks\": \"\"}}, \"type\": \"histogram\"}], \"histogram2d\": [{\"colorbar\": {\"outlinewidth\": 0, \"ticks\": \"\"}, \"colorscale\": [[0.0, \"#0d0887\"], [0.1111111111111111, \"#46039f\"], [0.2222222222222222, \"#7201a8\"], [0.3333333333333333, \"#9c179e\"], [0.4444444444444444, \"#bd3786\"], [0.5555555555555556, \"#d8576b\"], [0.6666666666666666, \"#ed7953\"], [0.7777777777777778, \"#fb9f3a\"], [0.8888888888888888, \"#fdca26\"], [1.0, \"#f0f921\"]], \"type\": \"histogram2d\"}], \"histogram2dcontour\": [{\"colorbar\": {\"outlinewidth\": 0, \"ticks\": \"\"}, \"colorscale\": [[0.0, \"#0d0887\"], [0.1111111111111111, \"#46039f\"], [0.2222222222222222, \"#7201a8\"], [0.3333333333333333, \"#9c179e\"], [0.4444444444444444, \"#bd3786\"], [0.5555555555555556, \"#d8576b\"], [0.6666666666666666, \"#ed7953\"], [0.7777777777777778, \"#fb9f3a\"], [0.8888888888888888, \"#fdca26\"], [1.0, \"#f0f921\"]], \"type\": \"histogram2dcontour\"}], \"mesh3d\": [{\"colorbar\": {\"outlinewidth\": 0, \"ticks\": \"\"}, \"type\": \"mesh3d\"}], \"parcoords\": [{\"line\": {\"colorbar\": {\"outlinewidth\": 0, \"ticks\": \"\"}}, \"type\": \"parcoords\"}], \"pie\": [{\"automargin\": true, \"type\": \"pie\"}], \"scatter\": [{\"marker\": {\"colorbar\": {\"outlinewidth\": 0, \"ticks\": \"\"}}, \"type\": \"scatter\"}], \"scatter3d\": [{\"line\": {\"colorbar\": {\"outlinewidth\": 0, \"ticks\": \"\"}}, \"marker\": {\"colorbar\": {\"outlinewidth\": 0, \"ticks\": \"\"}}, \"type\": \"scatter3d\"}], \"scattercarpet\": [{\"marker\": {\"colorbar\": {\"outlinewidth\": 0, \"ticks\": \"\"}}, \"type\": \"scattercarpet\"}], \"scattergeo\": [{\"marker\": {\"colorbar\": {\"outlinewidth\": 0, \"ticks\": \"\"}}, \"type\": \"scattergeo\"}], \"scattergl\": [{\"marker\": {\"colorbar\": {\"outlinewidth\": 0, \"ticks\": \"\"}}, \"type\": \"scattergl\"}], \"scattermapbox\": [{\"marker\": {\"colorbar\": {\"outlinewidth\": 0, \"ticks\": \"\"}}, \"type\": \"scattermapbox\"}], \"scatterpolar\": [{\"marker\": {\"colorbar\": {\"outlinewidth\": 0, \"ticks\": \"\"}}, \"type\": \"scatterpolar\"}], \"scatterpolargl\": [{\"marker\": {\"colorbar\": {\"outlinewidth\": 0, \"ticks\": \"\"}}, \"type\": \"scatterpolargl\"}], \"scatterternary\": [{\"marker\": {\"colorbar\": {\"outlinewidth\": 0, \"ticks\": \"\"}}, \"type\": \"scatterternary\"}], \"surface\": [{\"colorbar\": {\"outlinewidth\": 0, \"ticks\": \"\"}, \"colorscale\": [[0.0, \"#0d0887\"], [0.1111111111111111, \"#46039f\"], [0.2222222222222222, \"#7201a8\"], [0.3333333333333333, \"#9c179e\"], [0.4444444444444444, \"#bd3786\"], [0.5555555555555556, \"#d8576b\"], [0.6666666666666666, \"#ed7953\"], [0.7777777777777778, \"#fb9f3a\"], [0.8888888888888888, \"#fdca26\"], [1.0, \"#f0f921\"]], \"type\": \"surface\"}], \"table\": [{\"cells\": {\"fill\": {\"color\": \"#EBF0F8\"}, \"line\": {\"color\": \"white\"}}, \"header\": {\"fill\": {\"color\": \"#C8D4E3\"}, \"line\": {\"color\": \"white\"}}, \"type\": \"table\"}]}, \"layout\": {\"annotationdefaults\": {\"arrowcolor\": \"#2a3f5f\", \"arrowhead\": 0, \"arrowwidth\": 1}, \"autotypenumbers\": \"strict\", \"coloraxis\": {\"colorbar\": {\"outlinewidth\": 0, \"ticks\": \"\"}}, \"colorscale\": {\"diverging\": [[0, \"#8e0152\"], [0.1, \"#c51b7d\"], [0.2, \"#de77ae\"], [0.3, \"#f1b6da\"], [0.4, \"#fde0ef\"], [0.5, \"#f7f7f7\"], [0.6, \"#e6f5d0\"], [0.7, \"#b8e186\"], [0.8, \"#7fbc41\"], [0.9, \"#4d9221\"], [1, \"#276419\"]], \"sequential\": [[0.0, \"#0d0887\"], [0.1111111111111111, \"#46039f\"], [0.2222222222222222, \"#7201a8\"], [0.3333333333333333, \"#9c179e\"], [0.4444444444444444, \"#bd3786\"], [0.5555555555555556, \"#d8576b\"], [0.6666666666666666, \"#ed7953\"], [0.7777777777777778, \"#fb9f3a\"], [0.8888888888888888, \"#fdca26\"], [1.0, \"#f0f921\"]], \"sequentialminus\": [[0.0, \"#0d0887\"], [0.1111111111111111, \"#46039f\"], [0.2222222222222222, \"#7201a8\"], [0.3333333333333333, \"#9c179e\"], [0.4444444444444444, \"#bd3786\"], [0.5555555555555556, \"#d8576b\"], [0.6666666666666666, \"#ed7953\"], [0.7777777777777778, \"#fb9f3a\"], [0.8888888888888888, \"#fdca26\"], [1.0, \"#f0f921\"]]}, \"colorway\": [\"#636efa\", \"#EF553B\", \"#00cc96\", \"#ab63fa\", \"#FFA15A\", \"#19d3f3\", \"#FF6692\", \"#B6E880\", \"#FF97FF\", \"#FECB52\"], \"font\": {\"color\": \"#2a3f5f\"}, \"geo\": {\"bgcolor\": \"white\", \"lakecolor\": \"white\", \"landcolor\": \"#E5ECF6\", \"showlakes\": true, \"showland\": true, \"subunitcolor\": \"white\"}, \"hoverlabel\": {\"align\": \"left\"}, \"hovermode\": \"closest\", \"mapbox\": {\"style\": \"light\"}, \"paper_bgcolor\": \"white\", \"plot_bgcolor\": \"#E5ECF6\", \"polar\": {\"angularaxis\": {\"gridcolor\": \"white\", \"linecolor\": \"white\", \"ticks\": \"\"}, \"bgcolor\": \"#E5ECF6\", \"radialaxis\": {\"gridcolor\": \"white\", \"linecolor\": \"white\", \"ticks\": \"\"}}, \"scene\": {\"xaxis\": {\"backgroundcolor\": \"#E5ECF6\", \"gridcolor\": \"white\", \"gridwidth\": 2, \"linecolor\": \"white\", \"showbackground\": true, \"ticks\": \"\", \"zerolinecolor\": \"white\"}, \"yaxis\": {\"backgroundcolor\": \"#E5ECF6\", \"gridcolor\": \"white\", \"gridwidth\": 2, \"linecolor\": \"white\", \"showbackground\": true, \"ticks\": \"\", \"zerolinecolor\": \"white\"}, \"zaxis\": {\"backgroundcolor\": \"#E5ECF6\", \"gridcolor\": \"white\", \"gridwidth\": 2, \"linecolor\": \"white\", \"showbackground\": true, \"ticks\": \"\", \"zerolinecolor\": \"white\"}}, \"shapedefaults\": {\"line\": {\"color\": \"#2a3f5f\"}}, \"ternary\": {\"aaxis\": {\"gridcolor\": \"white\", \"linecolor\": \"white\", \"ticks\": \"\"}, \"baxis\": {\"gridcolor\": \"white\", \"linecolor\": \"white\", \"ticks\": \"\"}, \"bgcolor\": \"#E5ECF6\", \"caxis\": {\"gridcolor\": \"white\", \"linecolor\": \"white\", \"ticks\": \"\"}}, \"title\": {\"x\": 0.05}, \"xaxis\": {\"automargin\": true, \"gridcolor\": \"white\", \"linecolor\": \"white\", \"ticks\": \"\", \"title\": {\"standoff\": 15}, \"zerolinecolor\": \"white\", \"zerolinewidth\": 2}, \"yaxis\": {\"automargin\": true, \"gridcolor\": \"white\", \"linecolor\": \"white\", \"ticks\": \"\", \"title\": {\"standoff\": 15}, \"zerolinecolor\": \"white\", \"zerolinewidth\": 2}}}, \"title\": {\"text\": \"Generosity by year\"}, \"xaxis\": {\"anchor\": \"y\", \"domain\": [0.0, 1.0], \"title\": {\"text\": \"Country or region\"}}, \"yaxis\": {\"anchor\": \"x\", \"domain\": [0.0, 1.0], \"title\": {\"text\": \"Generosity\"}}},                        {\"responsive\": true}                    ).then(function(){\n",
       "                            \n",
       "var gd = document.getElementById('01611d67-1fad-4ad4-857f-6db3e38b03c5');\n",
       "var x = new MutationObserver(function (mutations, observer) {{\n",
       "        var display = window.getComputedStyle(gd).display;\n",
       "        if (!display || display === 'none') {{\n",
       "            console.log([gd, 'removed!']);\n",
       "            Plotly.purge(gd);\n",
       "            observer.disconnect();\n",
       "        }}\n",
       "}});\n",
       "\n",
       "// Listen for the removal of the full notebook cells\n",
       "var notebookContainer = gd.closest('#notebook-container');\n",
       "if (notebookContainer) {{\n",
       "    x.observe(notebookContainer, {childList: true});\n",
       "}}\n",
       "\n",
       "// Listen for the clearing of the current output cell\n",
       "var outputEl = gd.closest('.output');\n",
       "if (outputEl) {{\n",
       "    x.observe(outputEl, {childList: true});\n",
       "}}\n",
       "\n",
       "                        })                };                });            </script>        </div>"
      ]
     },
     "metadata": {},
     "output_type": "display_data"
    }
   ],
   "source": [
    "plot_scatter('Generosity')"
   ]
  },
  {
   "cell_type": "code",
   "execution_count": 2189,
   "id": "responsible-roots",
   "metadata": {},
   "outputs": [],
   "source": [
    "train_y = df_all['Generosity'].to_numpy()\n",
    "train_x = df_all.drop(columns=['Generosity']).iloc[:, 4:]\n",
    "test_y = df2019['Generosity'].to_numpy()\n",
    "test_x = df2019.drop(columns=['Generosity']).iloc[:, 4:]\n",
    "scaler = StandardScaler()\n",
    "train_x = scaler.fit_transform(train_x)\n",
    "test_x = scaler.transform(test_x)"
   ]
  },
  {
   "cell_type": "code",
   "execution_count": 2190,
   "id": "plain-capitol",
   "metadata": {},
   "outputs": [],
   "source": [
    "lr = LinearRegression()\n",
    "lr.fit(train_x, train_y)\n",
    "hyp_gen = lr.predict(test_x)"
   ]
  },
  {
   "cell_type": "code",
   "execution_count": 2191,
   "id": "directed-thomas",
   "metadata": {},
   "outputs": [
    {
     "name": "stdout",
     "output_type": "stream",
     "text": [
      "R2 score...          \t -0.31450207469643177\n",
      "Variance explained...\t -0.1436839718660412\n",
      "Mean squared error...\t 0.012179396523683673\n"
     ]
    }
   ],
   "source": [
    "r2 = r2_score(test_y, hyp_gen)\n",
    "var = explained_variance_score(test_y, hyp_gen)\n",
    "mse = mean_squared_error(test_y, hyp_gen)\n",
    "print('R2 score...          \\t', r2)\n",
    "print('Variance explained...\\t', var)\n",
    "print('Mean squared error...\\t', mse)"
   ]
  },
  {
   "cell_type": "markdown",
   "id": "optical-saturn",
   "metadata": {},
   "source": [
    "### Score ? "
   ]
  },
  {
   "cell_type": "markdown",
   "id": "laden-advice",
   "metadata": {},
   "source": [
    "## Predicting happiness score/rank\n",
    "- Basically what we were doing from step 1, but with a predicted dataset"
   ]
  },
  {
   "cell_type": "code",
   "execution_count": 2192,
   "id": "precious-algebra",
   "metadata": {},
   "outputs": [],
   "source": [
    "data={'GDP per capita':hyp_gdp, 'Social support': hyp_ss, \n",
    "     'Healthy life expectancy': hyp_hle, 'Freedom': hyp_fre, \n",
    "      'Perceptions of corruption': hyp_per, 'Generosity': hyp_gen}\n",
    "df_hyp = pd.DataFrame(data=data) # dataframe of hypothesis # train_x "
   ]
  },
  {
   "cell_type": "code",
   "execution_count": 2193,
   "id": "distinct-builder",
   "metadata": {},
   "outputs": [
    {
     "data": {
      "text/html": [
       "<div>\n",
       "<style scoped>\n",
       "    .dataframe tbody tr th:only-of-type {\n",
       "        vertical-align: middle;\n",
       "    }\n",
       "\n",
       "    .dataframe tbody tr th {\n",
       "        vertical-align: top;\n",
       "    }\n",
       "\n",
       "    .dataframe thead th {\n",
       "        text-align: right;\n",
       "    }\n",
       "</style>\n",
       "<table border=\"1\" class=\"dataframe\">\n",
       "  <thead>\n",
       "    <tr style=\"text-align: right;\">\n",
       "      <th></th>\n",
       "      <th>GDP per capita</th>\n",
       "      <th>Social support</th>\n",
       "      <th>Healthy life expectancy</th>\n",
       "      <th>Freedom</th>\n",
       "      <th>Perceptions of corruption</th>\n",
       "      <th>Generosity</th>\n",
       "    </tr>\n",
       "  </thead>\n",
       "  <tbody>\n",
       "    <tr>\n",
       "      <th>0</th>\n",
       "      <td>1.285190</td>\n",
       "      <td>1.499526</td>\n",
       "      <td>0.961271</td>\n",
       "      <td>0.662317</td>\n",
       "      <td>0.477857</td>\n",
       "      <td>0.159670</td>\n",
       "    </tr>\n",
       "    <tr>\n",
       "      <th>1</th>\n",
       "      <td>1.326949</td>\n",
       "      <td>1.503449</td>\n",
       "      <td>0.979333</td>\n",
       "      <td>0.665040</td>\n",
       "      <td>0.495260</td>\n",
       "      <td>0.242793</td>\n",
       "    </tr>\n",
       "    <tr>\n",
       "      <th>2</th>\n",
       "      <td>1.390774</td>\n",
       "      <td>1.472403</td>\n",
       "      <td>1.040533</td>\n",
       "      <td>0.628954</td>\n",
       "      <td>0.407946</td>\n",
       "      <td>0.269056</td>\n",
       "    </tr>\n",
       "    <tr>\n",
       "      <th>3</th>\n",
       "      <td>1.326502</td>\n",
       "      <td>1.547567</td>\n",
       "      <td>1.000843</td>\n",
       "      <td>0.661981</td>\n",
       "      <td>0.144541</td>\n",
       "      <td>0.362330</td>\n",
       "    </tr>\n",
       "    <tr>\n",
       "      <th>4</th>\n",
       "      <td>1.424207</td>\n",
       "      <td>1.495173</td>\n",
       "      <td>1.008072</td>\n",
       "      <td>0.670201</td>\n",
       "      <td>0.434101</td>\n",
       "      <td>0.287985</td>\n",
       "    </tr>\n",
       "    <tr>\n",
       "      <th>...</th>\n",
       "      <td>...</td>\n",
       "      <td>...</td>\n",
       "      <td>...</td>\n",
       "      <td>...</td>\n",
       "      <td>...</td>\n",
       "      <td>...</td>\n",
       "    </tr>\n",
       "    <tr>\n",
       "      <th>133</th>\n",
       "      <td>0.997549</td>\n",
       "      <td>1.085695</td>\n",
       "      <td>0.494102</td>\n",
       "      <td>0.509089</td>\n",
       "      <td>0.101786</td>\n",
       "      <td>0.033407</td>\n",
       "    </tr>\n",
       "    <tr>\n",
       "      <th>134</th>\n",
       "      <td>0.457163</td>\n",
       "      <td>0.872675</td>\n",
       "      <td>0.442678</td>\n",
       "      <td>0.509343</td>\n",
       "      <td>0.203881</td>\n",
       "      <td>0.271541</td>\n",
       "    </tr>\n",
       "    <tr>\n",
       "      <th>135</th>\n",
       "      <td>0.343243</td>\n",
       "      <td>0.522876</td>\n",
       "      <td>0.572383</td>\n",
       "      <td>0.604088</td>\n",
       "      <td>0.485542</td>\n",
       "      <td>0.235705</td>\n",
       "    </tr>\n",
       "    <tr>\n",
       "      <th>136</th>\n",
       "      <td>0.425564</td>\n",
       "      <td>1.047835</td>\n",
       "      <td>0.375038</td>\n",
       "      <td>0.377405</td>\n",
       "      <td>0.080929</td>\n",
       "      <td>0.151349</td>\n",
       "    </tr>\n",
       "    <tr>\n",
       "      <th>137</th>\n",
       "      <td>0.300706</td>\n",
       "      <td>0.356434</td>\n",
       "      <td>0.266052</td>\n",
       "      <td>0.000000</td>\n",
       "      <td>0.001226</td>\n",
       "      <td>0.135235</td>\n",
       "    </tr>\n",
       "  </tbody>\n",
       "</table>\n",
       "<p>138 rows × 6 columns</p>\n",
       "</div>"
      ],
      "text/plain": [
       "     GDP per capita  Social support  Healthy life expectancy   Freedom  \\\n",
       "0          1.285190        1.499526                 0.961271  0.662317   \n",
       "1          1.326949        1.503449                 0.979333  0.665040   \n",
       "2          1.390774        1.472403                 1.040533  0.628954   \n",
       "3          1.326502        1.547567                 1.000843  0.661981   \n",
       "4          1.424207        1.495173                 1.008072  0.670201   \n",
       "..              ...             ...                      ...       ...   \n",
       "133        0.997549        1.085695                 0.494102  0.509089   \n",
       "134        0.457163        0.872675                 0.442678  0.509343   \n",
       "135        0.343243        0.522876                 0.572383  0.604088   \n",
       "136        0.425564        1.047835                 0.375038  0.377405   \n",
       "137        0.300706        0.356434                 0.266052  0.000000   \n",
       "\n",
       "     Perceptions of corruption  Generosity  \n",
       "0                     0.477857    0.159670  \n",
       "1                     0.495260    0.242793  \n",
       "2                     0.407946    0.269056  \n",
       "3                     0.144541    0.362330  \n",
       "4                     0.434101    0.287985  \n",
       "..                         ...         ...  \n",
       "133                   0.101786    0.033407  \n",
       "134                   0.203881    0.271541  \n",
       "135                   0.485542    0.235705  \n",
       "136                   0.080929    0.151349  \n",
       "137                   0.001226    0.135235  \n",
       "\n",
       "[138 rows x 6 columns]"
      ]
     },
     "execution_count": 2193,
     "metadata": {},
     "output_type": "execute_result"
    }
   ],
   "source": [
    "df2020.iloc[:, 4:10]"
   ]
  },
  {
   "cell_type": "code",
   "execution_count": 2194,
   "id": "animal-guinea",
   "metadata": {},
   "outputs": [],
   "source": [
    "train_x = scaler.fit_transform(df_hyp.to_numpy())\n",
    "train_y = df2019['Score']\n",
    "# train_x, test_x, train_y, test_y = train_test_split(X, Y, test_size=.2)\n",
    "test_x = scaler.transform(df2020.iloc[:, 4:10])\n",
    "test_y = df2020['Score'].to_numpy()"
   ]
  },
  {
   "cell_type": "code",
   "execution_count": 2195,
   "id": "simplified-imaging",
   "metadata": {},
   "outputs": [],
   "source": [
    "lr = LinearRegression()\n",
    "lr.fit(train_x, train_y)\n",
    "hyp = lr.predict(test_x) # actual 2020 features "
   ]
  },
  {
   "cell_type": "code",
   "execution_count": 2196,
   "id": "compressed-leader",
   "metadata": {},
   "outputs": [
    {
     "name": "stdout",
     "output_type": "stream",
     "text": [
      "R2 score...          \t 0.5654640761936507\n",
      "Variance explained...\t 0.6129436524083103\n",
      "Mean squared error...\t 0.5228233695281939\n"
     ]
    }
   ],
   "source": [
    "r2 = r2_score(test_y, hyp)\n",
    "var = explained_variance_score(test_y, hyp)\n",
    "mse = mean_squared_error(test_y, hyp)\n",
    "print('R2 score...          \\t', r2)\n",
    "print('Variance explained...\\t', var)\n",
    "print('Mean squared error...\\t', mse)"
   ]
  },
  {
   "cell_type": "markdown",
   "id": "approximate-animation",
   "metadata": {},
   "source": [
    "## Viewing Results"
   ]
  },
  {
   "cell_type": "code",
   "execution_count": 2197,
   "id": "decreased-bunny",
   "metadata": {},
   "outputs": [
    {
     "data": {
      "text/html": [
       "<div>\n",
       "<style scoped>\n",
       "    .dataframe tbody tr th:only-of-type {\n",
       "        vertical-align: middle;\n",
       "    }\n",
       "\n",
       "    .dataframe tbody tr th {\n",
       "        vertical-align: top;\n",
       "    }\n",
       "\n",
       "    .dataframe thead th {\n",
       "        text-align: right;\n",
       "    }\n",
       "</style>\n",
       "<table border=\"1\" class=\"dataframe\">\n",
       "  <thead>\n",
       "    <tr style=\"text-align: right;\">\n",
       "      <th></th>\n",
       "      <th>name</th>\n",
       "      <th>Actual Score</th>\n",
       "      <th>Hypothetical Score</th>\n",
       "      <th>Actual Rank</th>\n",
       "    </tr>\n",
       "  </thead>\n",
       "  <tbody>\n",
       "    <tr>\n",
       "      <th>0</th>\n",
       "      <td>Finland</td>\n",
       "      <td>7.8087</td>\n",
       "      <td>6.093086</td>\n",
       "      <td>1</td>\n",
       "    </tr>\n",
       "    <tr>\n",
       "      <th>1</th>\n",
       "      <td>Denmark</td>\n",
       "      <td>7.6456</td>\n",
       "      <td>6.340153</td>\n",
       "      <td>2</td>\n",
       "    </tr>\n",
       "    <tr>\n",
       "      <th>2</th>\n",
       "      <td>Switzerland</td>\n",
       "      <td>7.5599</td>\n",
       "      <td>6.655884</td>\n",
       "      <td>3</td>\n",
       "    </tr>\n",
       "    <tr>\n",
       "      <th>3</th>\n",
       "      <td>Iceland</td>\n",
       "      <td>7.5045</td>\n",
       "      <td>7.032471</td>\n",
       "      <td>4</td>\n",
       "    </tr>\n",
       "    <tr>\n",
       "      <th>4</th>\n",
       "      <td>Norway</td>\n",
       "      <td>7.4880</td>\n",
       "      <td>6.662285</td>\n",
       "      <td>5</td>\n",
       "    </tr>\n",
       "    <tr>\n",
       "      <th>...</th>\n",
       "      <td>...</td>\n",
       "      <td>...</td>\n",
       "      <td>...</td>\n",
       "      <td>...</td>\n",
       "    </tr>\n",
       "    <tr>\n",
       "      <th>133</th>\n",
       "      <td>Botswana</td>\n",
       "      <td>3.4789</td>\n",
       "      <td>4.720391</td>\n",
       "      <td>147</td>\n",
       "    </tr>\n",
       "    <tr>\n",
       "      <th>134</th>\n",
       "      <td>Tanzania</td>\n",
       "      <td>3.4762</td>\n",
       "      <td>4.000412</td>\n",
       "      <td>148</td>\n",
       "    </tr>\n",
       "    <tr>\n",
       "      <th>135</th>\n",
       "      <td>Rwanda</td>\n",
       "      <td>3.3123</td>\n",
       "      <td>3.133126</td>\n",
       "      <td>150</td>\n",
       "    </tr>\n",
       "    <tr>\n",
       "      <th>136</th>\n",
       "      <td>Zimbabwe</td>\n",
       "      <td>3.2992</td>\n",
       "      <td>4.070699</td>\n",
       "      <td>151</td>\n",
       "    </tr>\n",
       "    <tr>\n",
       "      <th>137</th>\n",
       "      <td>Afghanistan</td>\n",
       "      <td>2.5669</td>\n",
       "      <td>3.236240</td>\n",
       "      <td>153</td>\n",
       "    </tr>\n",
       "  </tbody>\n",
       "</table>\n",
       "<p>138 rows × 4 columns</p>\n",
       "</div>"
      ],
      "text/plain": [
       "            name  Actual Score  Hypothetical Score  Actual Rank\n",
       "0        Finland        7.8087            6.093086            1\n",
       "1        Denmark        7.6456            6.340153            2\n",
       "2    Switzerland        7.5599            6.655884            3\n",
       "3        Iceland        7.5045            7.032471            4\n",
       "4         Norway        7.4880            6.662285            5\n",
       "..           ...           ...                 ...          ...\n",
       "133     Botswana        3.4789            4.720391          147\n",
       "134     Tanzania        3.4762            4.000412          148\n",
       "135       Rwanda        3.3123            3.133126          150\n",
       "136     Zimbabwe        3.2992            4.070699          151\n",
       "137  Afghanistan        2.5669            3.236240          153\n",
       "\n",
       "[138 rows x 4 columns]"
      ]
     },
     "execution_count": 2197,
     "metadata": {},
     "output_type": "execute_result"
    }
   ],
   "source": [
    "df2020_res = pd.DataFrame(df2020['Country or region'])\n",
    "df2020_res = df2020_res.join(df2020['Score'])\n",
    "df2020_res = df2020_res.join(pd.DataFrame(hyp, columns=['Hypothetical Score']))\n",
    "df2020_res = df2020_res.join(df2020['Overall rank'])\n",
    "df2020_res = df2020_res.rename({'Country or region': 'name', 'Score': 'Actual Score', 'Overall rank': 'Actual Rank'}, axis='columns')\n",
    "df2020_res"
   ]
  },
  {
   "cell_type": "code",
   "execution_count": 2198,
   "id": "encouraging-district",
   "metadata": {},
   "outputs": [],
   "source": [
    "# plot the happiness score of each country on this map\n",
    "world = gp.read_file(gp.datasets.get_path('naturalearth_lowres')) # read in world df\n",
    "\n",
    "# rename some df2020 names to match world df \n",
    "for index in df2020_res.index:\n",
    "    if df2020_res.loc[index,'name']=='United States':\n",
    "        df2020_res.loc[index,'name'] = 'United States of America'\n",
    "merge2020 = pd.merge(world, df2020_res, on='name', how='left')"
   ]
  },
  {
   "cell_type": "code",
   "execution_count": 2199,
   "id": "breathing-issue",
   "metadata": {},
   "outputs": [
    {
     "data": {
      "image/png": "[encoded data removed]",
      "text/plain": [
       "<Figure size 1080x1080 with 2 Axes>"
      ]
     },
     "metadata": {
      "needs_background": "light"
     },
     "output_type": "display_data"
    }
   ],
   "source": [
    "fig, ax = plt.subplots(1, 1)\n",
    "fig.set_size_inches(15, 15)\n",
    "merge2020.plot(column='Hypothetical Score',legend=True, ax=ax,cmap='PiYG', legend_kwds={'label': \"Hypothetical Score\", 'orientation': \"horizontal\"},\n",
    "missing_kwds={ \"color\": \"lightgrey\", \"edgecolor\": \"red\", \"hatch\": \"///\", \"label\": \"Missing values\", },)\n",
    "\n",
    "plt.title('Year 2020: Hypothetical', loc='center') # center title? \n",
    "plt.xlabel('Longitude')\n",
    "plt.ylabel('Latitude')\n",
    "plt.show()"
   ]
  },
  {
   "cell_type": "code",
   "execution_count": 2200,
   "id": "spectacular-great",
   "metadata": {},
   "outputs": [
    {
     "data": {
      "application/vnd.plotly.v1+json": {
       "config": {
        "plotlyServerURL": "https://plot.ly"
       },
       "data": [
        {
         "name": "Actual Score",
         "type": "bar",
         "x": [
          "Finland",
          "Denmark",
          "Switzerland",
          "Iceland",
          "Norway",
          "Netherlands",
          "Sweden",
          "New Zealand",
          "Austria",
          "Luxembourg",
          "Canada",
          "Australia",
          "United Kingdom",
          "Israel",
          "Costa Rica",
          "Ireland",
          "Germany",
          "United States of America",
          "Belgium",
          "United Arab Emirates",
          "France",
          "Mexico",
          "Uruguay",
          "Saudi Arabia",
          "Spain",
          "Guatemala",
          "Italy",
          "Brazil",
          "Slovenia",
          "El Salvador",
          "Kosovo",
          "Panama",
          "Slovakia",
          "Uzbekistan",
          "Chile",
          "Lithuania",
          "Poland",
          "Colombia",
          "Cyprus",
          "Nicaragua",
          "Romania",
          "Kuwait",
          "Kazakhstan",
          "Estonia",
          "Philippines",
          "Hungary",
          "Thailand",
          "Argentina",
          "Honduras",
          "Latvia",
          "Ecuador",
          "Portugal",
          "Jamaica",
          "South Korea",
          "Japan",
          "Peru",
          "Serbia",
          "Bolivia",
          "Pakistan",
          "Paraguay",
          "Moldova",
          "Tajikistan",
          "Montenegro",
          "Russia",
          "Kyrgyzstan",
          "Belarus",
          "Greece",
          "Croatia",
          "Libya",
          "Mongolia",
          "Malaysia",
          "Vietnam",
          "Indonesia",
          "Benin",
          "Azerbaijan",
          "Ghana",
          "Nepal",
          "Turkey",
          "China",
          "Turkmenistan",
          "Bulgaria",
          "Morocco",
          "Cameroon",
          "Venezuela",
          "Algeria",
          "Senegal",
          "Guinea",
          "Niger",
          "Albania",
          "Cambodia",
          "Bangladesh",
          "Gabon",
          "South Africa",
          "Iraq",
          "Lebanon",
          "Burkina Faso",
          "Mali",
          "Nigeria",
          "Armenia",
          "Georgia",
          "Iran",
          "Jordan",
          "Kenya",
          "Ukraine",
          "Liberia",
          "Uganda",
          "Chad",
          "Tunisia",
          "Mauritania",
          "Sri Lanka",
          "Myanmar",
          "Togo",
          "Ethiopia",
          "Madagascar",
          "Egypt",
          "Sierra Leone",
          "Burundi",
          "Zambia",
          "Haiti",
          "India",
          "Malawi",
          "Yemen",
          "Botswana",
          "Tanzania",
          "Rwanda",
          "Zimbabwe",
          "Afghanistan"
         ],
         "y": [
          7.808700085,
          7.645599842,
          7.559899807,
          7.504499912,
          7.487999916,
          7.448900223,
          7.353499889,
          7.299600124,
          7.294199944,
          7.237500191,
          7.23210001,
          7.222799778,
          7.164500237,
          7.128600121,
          7.121399879,
          7.093699932,
          7.075799942,
          6.939599991,
          6.863500118,
          6.790800095,
          6.663799763,
          6.465000153,
          6.440100193,
          6.406499863,
          6.400899887,
          6.398900032,
          6.38740015,
          6.375599861,
          6.363399982,
          6.34829998,
          6.325200081,
          6.304800034,
          6.280600071,
          6.257599831,
          6.228499889,
          6.215499878,
          6.186299801,
          6.163400173,
          6.15899992,
          6.13710022,
          6.123700142,
          6.102099895,
          6.057899952,
          6.021800041,
          6.006000042,
          6.000400066,
          5.998799801,
          5.974699974,
          5.953199863,
          5.949999809,
          5.925199986,
          5.910900116,
          5.889800072,
          5.872399807,
          5.870800018,
          5.796800137,
          5.77820015,
          5.747499943,
          5.69329977,
          5.692100048,
          5.607500076,
          5.555699825,
          5.54610014,
          5.546000004,
          5.541500092,
          5.539899826,
          5.514999866,
          5.504700184,
          5.488800049,
          5.456200123,
          5.384300232,
          5.353499889,
          5.285600185,
          5.21600008,
          5.164800167,
          5.147999763,
          5.137199879,
          5.131800175,
          5.123899937,
          5.119100094,
          5.101500034,
          5.094799995,
          5.084899902,
          5.053199768,
          5.005099773,
          4.980800152,
          4.949299812,
          4.909599781,
          4.882699966,
          4.848400116,
          4.832799911,
          4.829299927,
          4.814099789,
          4.784800053,
          4.771500111,
          4.768700123,
          4.729300022,
          4.724100113,
          4.676799774,
          4.672599792,
          4.672399998,
          4.633399963,
          4.583000183,
          4.56069994,
          4.557899952,
          4.43200016,
          4.422699928,
          4.392199993,
          4.374599934,
          4.327000141,
          4.308000088,
          4.187200069,
          4.186200142,
          4.165599823,
          4.151400089,
          3.926399946,
          3.775300026,
          3.759399891,
          3.720799923,
          3.573299885,
          3.538000107,
          3.527400017,
          3.478899956,
          3.476200104,
          3.312299967,
          3.299200058,
          2.566900015
         ]
        },
        {
         "name": "Hypothetical Score",
         "type": "bar",
         "x": [
          "Finland",
          "Denmark",
          "Switzerland",
          "Iceland",
          "Norway",
          "Netherlands",
          "Sweden",
          "New Zealand",
          "Austria",
          "Luxembourg",
          "Canada",
          "Australia",
          "United Kingdom",
          "Israel",
          "Costa Rica",
          "Ireland",
          "Germany",
          "United States of America",
          "Belgium",
          "United Arab Emirates",
          "France",
          "Mexico",
          "Uruguay",
          "Saudi Arabia",
          "Spain",
          "Guatemala",
          "Italy",
          "Brazil",
          "Slovenia",
          "El Salvador",
          "Kosovo",
          "Panama",
          "Slovakia",
          "Uzbekistan",
          "Chile",
          "Lithuania",
          "Poland",
          "Colombia",
          "Cyprus",
          "Nicaragua",
          "Romania",
          "Kuwait",
          "Kazakhstan",
          "Estonia",
          "Philippines",
          "Hungary",
          "Thailand",
          "Argentina",
          "Honduras",
          "Latvia",
          "Ecuador",
          "Portugal",
          "Jamaica",
          "South Korea",
          "Japan",
          "Peru",
          "Serbia",
          "Bolivia",
          "Pakistan",
          "Paraguay",
          "Moldova",
          "Tajikistan",
          "Montenegro",
          "Russia",
          "Kyrgyzstan",
          "Belarus",
          "Greece",
          "Croatia",
          "Libya",
          "Mongolia",
          "Malaysia",
          "Vietnam",
          "Indonesia",
          "Benin",
          "Azerbaijan",
          "Ghana",
          "Nepal",
          "Turkey",
          "China",
          "Turkmenistan",
          "Bulgaria",
          "Morocco",
          "Cameroon",
          "Venezuela",
          "Algeria",
          "Senegal",
          "Guinea",
          "Niger",
          "Albania",
          "Cambodia",
          "Bangladesh",
          "Gabon",
          "South Africa",
          "Iraq",
          "Lebanon",
          "Burkina Faso",
          "Mali",
          "Nigeria",
          "Armenia",
          "Georgia",
          "Iran",
          "Jordan",
          "Kenya",
          "Ukraine",
          "Liberia",
          "Uganda",
          "Chad",
          "Tunisia",
          "Mauritania",
          "Sri Lanka",
          "Myanmar",
          "Togo",
          "Ethiopia",
          "Madagascar",
          "Egypt",
          "Sierra Leone",
          "Burundi",
          "Zambia",
          "Haiti",
          "India",
          "Malawi",
          "Yemen",
          "Botswana",
          "Tanzania",
          "Rwanda",
          "Zimbabwe",
          "Afghanistan"
         ],
         "y": [
          6.093086442231067,
          6.340152940033802,
          6.655883988617786,
          7.032470902680286,
          6.662285050629505,
          6.671978196381458,
          6.383732041596302,
          6.465839585541614,
          6.569320878266224,
          6.580757340668567,
          6.523266038178333,
          6.717354020356067,
          6.775314530609974,
          6.762867173432239,
          5.8020288555611454,
          6.767715653656849,
          6.435013016938099,
          6.64473744320763,
          6.373825272797474,
          6.253082474945911,
          6.401062211274036,
          5.511238297699817,
          5.826885422943958,
          5.892704209565052,
          6.639316758393177,
          4.990730485199817,
          6.686432084320911,
          5.633674821137317,
          6.281723222016224,
          4.973034104584583,
          5.546856126068958,
          5.911533555268177,
          6.302997788666614,
          5.411247452973255,
          6.121368607758411,
          6.027664384125599,
          5.756889542817005,
          5.568222245453724,
          6.388408860443958,
          5.126228532074817,
          5.6186792461861454,
          6.089065751313099,
          5.924530228852161,
          6.009136399506458,
          4.834781846283802,
          6.109855851410755,
          6.208877763031849,
          5.756454667328724,
          5.143654069184192,
          6.024139603852161,
          5.332706650971302,
          6.036171159027942,
          5.454639634369739,
          6.4272424786080204,
          6.199161729096302,
          5.437362870453724,
          5.895031174897083,
          4.846451005219349,
          4.35414906430138,
          5.618293961762317,
          5.311699113129505,
          4.597175797699817,
          5.905231675385364,
          5.846733292817005,
          5.166519364594349,
          5.739959916352161,
          6.005985459565052,
          6.134838303803333,
          5.287231644867786,
          5.925956925629505,
          5.975258073090442,
          5.106628617524036,
          5.912883958100208,
          3.049976548432239,
          5.082283219574817,
          4.429783066986927,
          4.7668726055611454,
          5.789810380219349,
          5.307235917328724,
          6.129001816986927,
          6.016708573578724,
          4.268646439789661,
          3.9096033184517704,
          5.496383866547474,
          5.6230737774361454,
          4.320633134125599,
          3.760730942963489,
          3.075187882660755,
          5.183338364838489,
          4.4898035137642704,
          4.242660722016224,
          4.987320145844349,
          4.9869653789986454,
          5.141399583100208,
          5.769390305756458,
          3.731262406586536,
          3.7245218365181767,
          4.136169633149036,
          5.064956864594349,
          4.3201257793892704,
          5.543766221283802,
          5.046882828949817,
          4.5913354961861454,
          5.580482682465442,
          3.7360078899849736,
          4.1539880840767704,
          3.368793687104114,
          5.041076859711536,
          4.477245530365833,
          5.647995194672474,
          5.249633988617786,
          3.294445237397083,
          4.103264054535755,
          3.9630472271431767,
          4.766605576752552,
          3.4264261333931767,
          2.5570757000435673,
          4.1188318340767704,
          4.123615464447864,
          4.199905595063099,
          3.1326372234810673,
          4.2437707989205204,
          4.720390519379505,
          4.000412186859974,
          3.1331255047310673,
          4.070699009781822,
          3.2362396579470976
         ]
        }
       ],
       "layout": {
        "barmode": "group",
        "template": {
         "data": {
          "bar": [
           {
            "error_x": {
             "color": "#2a3f5f"
            },
            "error_y": {
             "color": "#2a3f5f"
            },
            "marker": {
             "line": {
              "color": "#E5ECF6",
              "width": 0.5
             }
            },
            "type": "bar"
           }
          ],
          "barpolar": [
           {
            "marker": {
             "line": {
              "color": "#E5ECF6",
              "width": 0.5
             }
            },
            "type": "barpolar"
           }
          ],
          "carpet": [
           {
            "aaxis": {
             "endlinecolor": "#2a3f5f",
             "gridcolor": "white",
             "linecolor": "white",
             "minorgridcolor": "white",
             "startlinecolor": "#2a3f5f"
            },
            "baxis": {
             "endlinecolor": "#2a3f5f",
             "gridcolor": "white",
             "linecolor": "white",
             "minorgridcolor": "white",
             "startlinecolor": "#2a3f5f"
            },
            "type": "carpet"
           }
          ],
          "choropleth": [
           {
            "colorbar": {
             "outlinewidth": 0,
             "ticks": ""
            },
            "type": "choropleth"
           }
          ],
          "contour": [
           {
            "colorbar": {
             "outlinewidth": 0,
             "ticks": ""
            },
            "colorscale": [
             [
              0,
              "#0d0887"
             ],
             [
              0.1111111111111111,
              "#46039f"
             ],
             [
              0.2222222222222222,
              "#7201a8"
             ],
             [
              0.3333333333333333,
              "#9c179e"
             ],
             [
              0.4444444444444444,
              "#bd3786"
             ],
             [
              0.5555555555555556,
              "#d8576b"
             ],
             [
              0.6666666666666666,
              "#ed7953"
             ],
             [
              0.7777777777777778,
              "#fb9f3a"
             ],
             [
              0.8888888888888888,
              "#fdca26"
             ],
             [
              1,
              "#f0f921"
             ]
            ],
            "type": "contour"
           }
          ],
          "contourcarpet": [
           {
            "colorbar": {
             "outlinewidth": 0,
             "ticks": ""
            },
            "type": "contourcarpet"
           }
          ],
          "heatmap": [
           {
            "colorbar": {
             "outlinewidth": 0,
             "ticks": ""
            },
            "colorscale": [
             [
              0,
              "#0d0887"
             ],
             [
              0.1111111111111111,
              "#46039f"
             ],
             [
              0.2222222222222222,
              "#7201a8"
             ],
             [
              0.3333333333333333,
              "#9c179e"
             ],
             [
              0.4444444444444444,
              "#bd3786"
             ],
             [
              0.5555555555555556,
              "#d8576b"
             ],
             [
              0.6666666666666666,
              "#ed7953"
             ],
             [
              0.7777777777777778,
              "#fb9f3a"
             ],
             [
              0.8888888888888888,
              "#fdca26"
             ],
             [
              1,
              "#f0f921"
             ]
            ],
            "type": "heatmap"
           }
          ],
          "heatmapgl": [
           {
            "colorbar": {
             "outlinewidth": 0,
             "ticks": ""
            },
            "colorscale": [
             [
              0,
              "#0d0887"
             ],
             [
              0.1111111111111111,
              "#46039f"
             ],
             [
              0.2222222222222222,
              "#7201a8"
             ],
             [
              0.3333333333333333,
              "#9c179e"
             ],
             [
              0.4444444444444444,
              "#bd3786"
             ],
             [
              0.5555555555555556,
              "#d8576b"
             ],
             [
              0.6666666666666666,
              "#ed7953"
             ],
             [
              0.7777777777777778,
              "#fb9f3a"
             ],
             [
              0.8888888888888888,
              "#fdca26"
             ],
             [
              1,
              "#f0f921"
             ]
            ],
            "type": "heatmapgl"
           }
          ],
          "histogram": [
           {
            "marker": {
             "colorbar": {
              "outlinewidth": 0,
              "ticks": ""
             }
            },
            "type": "histogram"
           }
          ],
          "histogram2d": [
           {
            "colorbar": {
             "outlinewidth": 0,
             "ticks": ""
            },
            "colorscale": [
             [
              0,
              "#0d0887"
             ],
             [
              0.1111111111111111,
              "#46039f"
             ],
             [
              0.2222222222222222,
              "#7201a8"
             ],
             [
              0.3333333333333333,
              "#9c179e"
             ],
             [
              0.4444444444444444,
              "#bd3786"
             ],
             [
              0.5555555555555556,
              "#d8576b"
             ],
             [
              0.6666666666666666,
              "#ed7953"
             ],
             [
              0.7777777777777778,
              "#fb9f3a"
             ],
             [
              0.8888888888888888,
              "#fdca26"
             ],
             [
              1,
              "#f0f921"
             ]
            ],
            "type": "histogram2d"
           }
          ],
          "histogram2dcontour": [
           {
            "colorbar": {
             "outlinewidth": 0,
             "ticks": ""
            },
            "colorscale": [
             [
              0,
              "#0d0887"
             ],
             [
              0.1111111111111111,
              "#46039f"
             ],
             [
              0.2222222222222222,
              "#7201a8"
             ],
             [
              0.3333333333333333,
              "#9c179e"
             ],
             [
              0.4444444444444444,
              "#bd3786"
             ],
             [
              0.5555555555555556,
              "#d8576b"
             ],
             [
              0.6666666666666666,
              "#ed7953"
             ],
             [
              0.7777777777777778,
              "#fb9f3a"
             ],
             [
              0.8888888888888888,
              "#fdca26"
             ],
             [
              1,
              "#f0f921"
             ]
            ],
            "type": "histogram2dcontour"
           }
          ],
          "mesh3d": [
           {
            "colorbar": {
             "outlinewidth": 0,
             "ticks": ""
            },
            "type": "mesh3d"
           }
          ],
          "parcoords": [
           {
            "line": {
             "colorbar": {
              "outlinewidth": 0,
              "ticks": ""
             }
            },
            "type": "parcoords"
           }
          ],
          "pie": [
           {
            "automargin": true,
            "type": "pie"
           }
          ],
          "scatter": [
           {
            "marker": {
             "colorbar": {
              "outlinewidth": 0,
              "ticks": ""
             }
            },
            "type": "scatter"
           }
          ],
          "scatter3d": [
           {
            "line": {
             "colorbar": {
              "outlinewidth": 0,
              "ticks": ""
             }
            },
            "marker": {
             "colorbar": {
              "outlinewidth": 0,
              "ticks": ""
             }
            },
            "type": "scatter3d"
           }
          ],
          "scattercarpet": [
           {
            "marker": {
             "colorbar": {
              "outlinewidth": 0,
              "ticks": ""
             }
            },
            "type": "scattercarpet"
           }
          ],
          "scattergeo": [
           {
            "marker": {
             "colorbar": {
              "outlinewidth": 0,
              "ticks": ""
             }
            },
            "type": "scattergeo"
           }
          ],
          "scattergl": [
           {
            "marker": {
             "colorbar": {
              "outlinewidth": 0,
              "ticks": ""
             }
            },
            "type": "scattergl"
           }
          ],
          "scattermapbox": [
           {
            "marker": {
             "colorbar": {
              "outlinewidth": 0,
              "ticks": ""
             }
            },
            "type": "scattermapbox"
           }
          ],
          "scatterpolar": [
           {
            "marker": {
             "colorbar": {
              "outlinewidth": 0,
              "ticks": ""
             }
            },
            "type": "scatterpolar"
           }
          ],
          "scatterpolargl": [
           {
            "marker": {
             "colorbar": {
              "outlinewidth": 0,
              "ticks": ""
             }
            },
            "type": "scatterpolargl"
           }
          ],
          "scatterternary": [
           {
            "marker": {
             "colorbar": {
              "outlinewidth": 0,
              "ticks": ""
             }
            },
            "type": "scatterternary"
           }
          ],
          "surface": [
           {
            "colorbar": {
             "outlinewidth": 0,
             "ticks": ""
            },
            "colorscale": [
             [
              0,
              "#0d0887"
             ],
             [
              0.1111111111111111,
              "#46039f"
             ],
             [
              0.2222222222222222,
              "#7201a8"
             ],
             [
              0.3333333333333333,
              "#9c179e"
             ],
             [
              0.4444444444444444,
              "#bd3786"
             ],
             [
              0.5555555555555556,
              "#d8576b"
             ],
             [
              0.6666666666666666,
              "#ed7953"
             ],
             [
              0.7777777777777778,
              "#fb9f3a"
             ],
             [
              0.8888888888888888,
              "#fdca26"
             ],
             [
              1,
              "#f0f921"
             ]
            ],
            "type": "surface"
           }
          ],
          "table": [
           {
            "cells": {
             "fill": {
              "color": "#EBF0F8"
             },
             "line": {
              "color": "white"
             }
            },
            "header": {
             "fill": {
              "color": "#C8D4E3"
             },
             "line": {
              "color": "white"
             }
            },
            "type": "table"
           }
          ]
         },
         "layout": {
          "annotationdefaults": {
           "arrowcolor": "#2a3f5f",
           "arrowhead": 0,
           "arrowwidth": 1
          },
          "autotypenumbers": "strict",
          "coloraxis": {
           "colorbar": {
            "outlinewidth": 0,
            "ticks": ""
           }
          },
          "colorscale": {
           "diverging": [
            [
             0,
             "#8e0152"
            ],
            [
             0.1,
             "#c51b7d"
            ],
            [
             0.2,
             "#de77ae"
            ],
            [
             0.3,
             "#f1b6da"
            ],
            [
             0.4,
             "#fde0ef"
            ],
            [
             0.5,
             "#f7f7f7"
            ],
            [
             0.6,
             "#e6f5d0"
            ],
            [
             0.7,
             "#b8e186"
            ],
            [
             0.8,
             "#7fbc41"
            ],
            [
             0.9,
             "#4d9221"
            ],
            [
             1,
             "#276419"
            ]
           ],
           "sequential": [
            [
             0,
             "#0d0887"
            ],
            [
             0.1111111111111111,
             "#46039f"
            ],
            [
             0.2222222222222222,
             "#7201a8"
            ],
            [
             0.3333333333333333,
             "#9c179e"
            ],
            [
             0.4444444444444444,
             "#bd3786"
            ],
            [
             0.5555555555555556,
             "#d8576b"
            ],
            [
             0.6666666666666666,
             "#ed7953"
            ],
            [
             0.7777777777777778,
             "#fb9f3a"
            ],
            [
             0.8888888888888888,
             "#fdca26"
            ],
            [
             1,
             "#f0f921"
            ]
           ],
           "sequentialminus": [
            [
             0,
             "#0d0887"
            ],
            [
             0.1111111111111111,
             "#46039f"
            ],
            [
             0.2222222222222222,
             "#7201a8"
            ],
            [
             0.3333333333333333,
             "#9c179e"
            ],
            [
             0.4444444444444444,
             "#bd3786"
            ],
            [
             0.5555555555555556,
             "#d8576b"
            ],
            [
             0.6666666666666666,
             "#ed7953"
            ],
            [
             0.7777777777777778,
             "#fb9f3a"
            ],
            [
             0.8888888888888888,
             "#fdca26"
            ],
            [
             1,
             "#f0f921"
            ]
           ]
          },
          "colorway": [
           "#636efa",
           "#EF553B",
           "#00cc96",
           "#ab63fa",
           "#FFA15A",
           "#19d3f3",
           "#FF6692",
           "#B6E880",
           "#FF97FF",
           "#FECB52"
          ],
          "font": {
           "color": "#2a3f5f"
          },
          "geo": {
           "bgcolor": "white",
           "lakecolor": "white",
           "landcolor": "#E5ECF6",
           "showlakes": true,
           "showland": true,
           "subunitcolor": "white"
          },
          "hoverlabel": {
           "align": "left"
          },
          "hovermode": "closest",
          "mapbox": {
           "style": "light"
          },
          "paper_bgcolor": "white",
          "plot_bgcolor": "#E5ECF6",
          "polar": {
           "angularaxis": {
            "gridcolor": "white",
            "linecolor": "white",
            "ticks": ""
           },
           "bgcolor": "#E5ECF6",
           "radialaxis": {
            "gridcolor": "white",
            "linecolor": "white",
            "ticks": ""
           }
          },
          "scene": {
           "xaxis": {
            "backgroundcolor": "#E5ECF6",
            "gridcolor": "white",
            "gridwidth": 2,
            "linecolor": "white",
            "showbackground": true,
            "ticks": "",
            "zerolinecolor": "white"
           },
           "yaxis": {
            "backgroundcolor": "#E5ECF6",
            "gridcolor": "white",
            "gridwidth": 2,
            "linecolor": "white",
            "showbackground": true,
            "ticks": "",
            "zerolinecolor": "white"
           },
           "zaxis": {
            "backgroundcolor": "#E5ECF6",
            "gridcolor": "white",
            "gridwidth": 2,
            "linecolor": "white",
            "showbackground": true,
            "ticks": "",
            "zerolinecolor": "white"
           }
          },
          "shapedefaults": {
           "line": {
            "color": "#2a3f5f"
           }
          },
          "ternary": {
           "aaxis": {
            "gridcolor": "white",
            "linecolor": "white",
            "ticks": ""
           },
           "baxis": {
            "gridcolor": "white",
            "linecolor": "white",
            "ticks": ""
           },
           "bgcolor": "#E5ECF6",
           "caxis": {
            "gridcolor": "white",
            "linecolor": "white",
            "ticks": ""
           }
          },
          "title": {
           "x": 0.05
          },
          "xaxis": {
           "automargin": true,
           "gridcolor": "white",
           "linecolor": "white",
           "ticks": "",
           "title": {
            "standoff": 15
           },
           "zerolinecolor": "white",
           "zerolinewidth": 2
          },
          "yaxis": {
           "automargin": true,
           "gridcolor": "white",
           "linecolor": "white",
           "ticks": "",
           "title": {
            "standoff": 15
           },
           "zerolinecolor": "white",
           "zerolinewidth": 2
          }
         }
        },
        "title": {
         "text": "Actual vs. Hypothetical Scores"
        }
       }
      },
      "text/html": [
       "<div>                            <div id=\"cbd7ba20-3f47-4614-9847-78a18ce5eaf0\" class=\"plotly-graph-div\" style=\"height:525px; width:100%;\"></div>            <script type=\"text/javascript\">                require([\"plotly\"], function(Plotly) {                    window.PLOTLYENV=window.PLOTLYENV || {};                                    if (document.getElementById(\"cbd7ba20-3f47-4614-9847-78a18ce5eaf0\")) {                    Plotly.newPlot(                        \"cbd7ba20-3f47-4614-9847-78a18ce5eaf0\",                        [{\"name\": \"Actual Score\", \"type\": \"bar\", \"x\": [\"Finland\", \"Denmark\", \"Switzerland\", \"Iceland\", \"Norway\", \"Netherlands\", \"Sweden\", \"New Zealand\", \"Austria\", \"Luxembourg\", \"Canada\", \"Australia\", \"United Kingdom\", \"Israel\", \"Costa Rica\", \"Ireland\", \"Germany\", \"United States of America\", \"Belgium\", \"United Arab Emirates\", \"France\", \"Mexico\", \"Uruguay\", \"Saudi Arabia\", \"Spain\", \"Guatemala\", \"Italy\", \"Brazil\", \"Slovenia\", \"El Salvador\", \"Kosovo\", \"Panama\", \"Slovakia\", \"Uzbekistan\", \"Chile\", \"Lithuania\", \"Poland\", \"Colombia\", \"Cyprus\", \"Nicaragua\", \"Romania\", \"Kuwait\", \"Kazakhstan\", \"Estonia\", \"Philippines\", \"Hungary\", \"Thailand\", \"Argentina\", \"Honduras\", \"Latvia\", \"Ecuador\", \"Portugal\", \"Jamaica\", \"South Korea\", \"Japan\", \"Peru\", \"Serbia\", \"Bolivia\", \"Pakistan\", \"Paraguay\", \"Moldova\", \"Tajikistan\", \"Montenegro\", \"Russia\", \"Kyrgyzstan\", \"Belarus\", \"Greece\", \"Croatia\", \"Libya\", \"Mongolia\", \"Malaysia\", \"Vietnam\", \"Indonesia\", \"Benin\", \"Azerbaijan\", \"Ghana\", \"Nepal\", \"Turkey\", \"China\", \"Turkmenistan\", \"Bulgaria\", \"Morocco\", \"Cameroon\", \"Venezuela\", \"Algeria\", \"Senegal\", \"Guinea\", \"Niger\", \"Albania\", \"Cambodia\", \"Bangladesh\", \"Gabon\", \"South Africa\", \"Iraq\", \"Lebanon\", \"Burkina Faso\", \"Mali\", \"Nigeria\", \"Armenia\", \"Georgia\", \"Iran\", \"Jordan\", \"Kenya\", \"Ukraine\", \"Liberia\", \"Uganda\", \"Chad\", \"Tunisia\", \"Mauritania\", \"Sri Lanka\", \"Myanmar\", \"Togo\", \"Ethiopia\", \"Madagascar\", \"Egypt\", \"Sierra Leone\", \"Burundi\", \"Zambia\", \"Haiti\", \"India\", \"Malawi\", \"Yemen\", \"Botswana\", \"Tanzania\", \"Rwanda\", \"Zimbabwe\", \"Afghanistan\"], \"y\": [7.808700085, 7.645599842, 7.559899807, 7.504499912, 7.487999916, 7.448900223, 7.353499889, 7.299600124, 7.294199944, 7.237500191, 7.23210001, 7.222799778, 7.164500237, 7.128600121, 7.121399879, 7.093699932, 7.075799942, 6.939599991, 6.863500118, 6.790800095, 6.663799763, 6.465000153, 6.440100193, 6.406499863, 6.400899887, 6.398900032, 6.38740015, 6.375599861, 6.363399982, 6.34829998, 6.325200081, 6.304800034, 6.280600071, 6.257599831, 6.228499889, 6.215499878, 6.186299801, 6.163400173, 6.15899992, 6.13710022, 6.123700142, 6.102099895, 6.057899952, 6.021800041, 6.006000042, 6.000400066, 5.998799801, 5.974699974, 5.953199863, 5.949999809, 5.925199986, 5.910900116, 5.889800072, 5.872399807, 5.870800018, 5.796800137, 5.77820015, 5.747499943, 5.69329977, 5.692100048, 5.607500076, 5.555699825, 5.54610014, 5.546000004, 5.541500092, 5.539899826, 5.514999866, 5.504700184, 5.488800049, 5.456200123, 5.384300232, 5.353499889, 5.285600185, 5.21600008, 5.164800167, 5.147999763, 5.137199879, 5.131800175, 5.123899937, 5.119100094, 5.101500034, 5.094799995, 5.084899902, 5.053199768, 5.005099773, 4.980800152, 4.949299812, 4.909599781, 4.882699966, 4.848400116, 4.832799911, 4.829299927, 4.814099789, 4.784800053, 4.771500111, 4.768700123, 4.729300022, 4.724100113, 4.676799774, 4.672599792, 4.672399998, 4.633399963, 4.583000183, 4.56069994, 4.557899952, 4.43200016, 4.422699928, 4.392199993, 4.374599934, 4.327000141, 4.308000088, 4.187200069, 4.186200142, 4.165599823, 4.151400089, 3.926399946, 3.775300026, 3.759399891, 3.720799923, 3.573299885, 3.538000107, 3.527400017, 3.478899956, 3.476200104, 3.312299967, 3.299200058, 2.566900015]}, {\"name\": \"Hypothetical Score\", \"type\": \"bar\", \"x\": [\"Finland\", \"Denmark\", \"Switzerland\", \"Iceland\", \"Norway\", \"Netherlands\", \"Sweden\", \"New Zealand\", \"Austria\", \"Luxembourg\", \"Canada\", \"Australia\", \"United Kingdom\", \"Israel\", \"Costa Rica\", \"Ireland\", \"Germany\", \"United States of America\", \"Belgium\", \"United Arab Emirates\", \"France\", \"Mexico\", \"Uruguay\", \"Saudi Arabia\", \"Spain\", \"Guatemala\", \"Italy\", \"Brazil\", \"Slovenia\", \"El Salvador\", \"Kosovo\", \"Panama\", \"Slovakia\", \"Uzbekistan\", \"Chile\", \"Lithuania\", \"Poland\", \"Colombia\", \"Cyprus\", \"Nicaragua\", \"Romania\", \"Kuwait\", \"Kazakhstan\", \"Estonia\", \"Philippines\", \"Hungary\", \"Thailand\", \"Argentina\", \"Honduras\", \"Latvia\", \"Ecuador\", \"Portugal\", \"Jamaica\", \"South Korea\", \"Japan\", \"Peru\", \"Serbia\", \"Bolivia\", \"Pakistan\", \"Paraguay\", \"Moldova\", \"Tajikistan\", \"Montenegro\", \"Russia\", \"Kyrgyzstan\", \"Belarus\", \"Greece\", \"Croatia\", \"Libya\", \"Mongolia\", \"Malaysia\", \"Vietnam\", \"Indonesia\", \"Benin\", \"Azerbaijan\", \"Ghana\", \"Nepal\", \"Turkey\", \"China\", \"Turkmenistan\", \"Bulgaria\", \"Morocco\", \"Cameroon\", \"Venezuela\", \"Algeria\", \"Senegal\", \"Guinea\", \"Niger\", \"Albania\", \"Cambodia\", \"Bangladesh\", \"Gabon\", \"South Africa\", \"Iraq\", \"Lebanon\", \"Burkina Faso\", \"Mali\", \"Nigeria\", \"Armenia\", \"Georgia\", \"Iran\", \"Jordan\", \"Kenya\", \"Ukraine\", \"Liberia\", \"Uganda\", \"Chad\", \"Tunisia\", \"Mauritania\", \"Sri Lanka\", \"Myanmar\", \"Togo\", \"Ethiopia\", \"Madagascar\", \"Egypt\", \"Sierra Leone\", \"Burundi\", \"Zambia\", \"Haiti\", \"India\", \"Malawi\", \"Yemen\", \"Botswana\", \"Tanzania\", \"Rwanda\", \"Zimbabwe\", \"Afghanistan\"], \"y\": [6.093086442231067, 6.340152940033802, 6.655883988617786, 7.032470902680286, 6.662285050629505, 6.671978196381458, 6.383732041596302, 6.465839585541614, 6.569320878266224, 6.580757340668567, 6.523266038178333, 6.717354020356067, 6.775314530609974, 6.762867173432239, 5.8020288555611454, 6.767715653656849, 6.435013016938099, 6.64473744320763, 6.373825272797474, 6.253082474945911, 6.401062211274036, 5.511238297699817, 5.826885422943958, 5.892704209565052, 6.639316758393177, 4.990730485199817, 6.686432084320911, 5.633674821137317, 6.281723222016224, 4.973034104584583, 5.546856126068958, 5.911533555268177, 6.302997788666614, 5.411247452973255, 6.121368607758411, 6.027664384125599, 5.756889542817005, 5.568222245453724, 6.388408860443958, 5.126228532074817, 5.6186792461861454, 6.089065751313099, 5.924530228852161, 6.009136399506458, 4.834781846283802, 6.109855851410755, 6.208877763031849, 5.756454667328724, 5.143654069184192, 6.024139603852161, 5.332706650971302, 6.036171159027942, 5.454639634369739, 6.4272424786080204, 6.199161729096302, 5.437362870453724, 5.895031174897083, 4.846451005219349, 4.35414906430138, 5.618293961762317, 5.311699113129505, 4.597175797699817, 5.905231675385364, 5.846733292817005, 5.166519364594349, 5.739959916352161, 6.005985459565052, 6.134838303803333, 5.287231644867786, 5.925956925629505, 5.975258073090442, 5.106628617524036, 5.912883958100208, 3.049976548432239, 5.082283219574817, 4.429783066986927, 4.7668726055611454, 5.789810380219349, 5.307235917328724, 6.129001816986927, 6.016708573578724, 4.268646439789661, 3.9096033184517704, 5.496383866547474, 5.6230737774361454, 4.320633134125599, 3.760730942963489, 3.075187882660755, 5.183338364838489, 4.4898035137642704, 4.242660722016224, 4.987320145844349, 4.9869653789986454, 5.141399583100208, 5.769390305756458, 3.731262406586536, 3.7245218365181767, 4.136169633149036, 5.064956864594349, 4.3201257793892704, 5.543766221283802, 5.046882828949817, 4.5913354961861454, 5.580482682465442, 3.7360078899849736, 4.1539880840767704, 3.368793687104114, 5.041076859711536, 4.477245530365833, 5.647995194672474, 5.249633988617786, 3.294445237397083, 4.103264054535755, 3.9630472271431767, 4.766605576752552, 3.4264261333931767, 2.5570757000435673, 4.1188318340767704, 4.123615464447864, 4.199905595063099, 3.1326372234810673, 4.2437707989205204, 4.720390519379505, 4.000412186859974, 3.1331255047310673, 4.070699009781822, 3.2362396579470976]}],                        {\"barmode\": \"group\", \"template\": {\"data\": {\"bar\": [{\"error_x\": {\"color\": \"#2a3f5f\"}, \"error_y\": {\"color\": \"#2a3f5f\"}, \"marker\": {\"line\": {\"color\": \"#E5ECF6\", \"width\": 0.5}}, \"type\": \"bar\"}], \"barpolar\": [{\"marker\": {\"line\": {\"color\": \"#E5ECF6\", \"width\": 0.5}}, \"type\": \"barpolar\"}], \"carpet\": [{\"aaxis\": {\"endlinecolor\": \"#2a3f5f\", \"gridcolor\": \"white\", \"linecolor\": \"white\", \"minorgridcolor\": \"white\", \"startlinecolor\": \"#2a3f5f\"}, \"baxis\": {\"endlinecolor\": \"#2a3f5f\", \"gridcolor\": \"white\", \"linecolor\": \"white\", \"minorgridcolor\": \"white\", \"startlinecolor\": \"#2a3f5f\"}, \"type\": \"carpet\"}], \"choropleth\": [{\"colorbar\": {\"outlinewidth\": 0, \"ticks\": \"\"}, \"type\": \"choropleth\"}], \"contour\": [{\"colorbar\": {\"outlinewidth\": 0, \"ticks\": \"\"}, \"colorscale\": [[0.0, \"#0d0887\"], [0.1111111111111111, \"#46039f\"], [0.2222222222222222, \"#7201a8\"], [0.3333333333333333, \"#9c179e\"], [0.4444444444444444, \"#bd3786\"], [0.5555555555555556, \"#d8576b\"], [0.6666666666666666, \"#ed7953\"], [0.7777777777777778, \"#fb9f3a\"], [0.8888888888888888, \"#fdca26\"], [1.0, \"#f0f921\"]], \"type\": \"contour\"}], \"contourcarpet\": [{\"colorbar\": {\"outlinewidth\": 0, \"ticks\": \"\"}, \"type\": \"contourcarpet\"}], \"heatmap\": [{\"colorbar\": {\"outlinewidth\": 0, \"ticks\": \"\"}, \"colorscale\": [[0.0, \"#0d0887\"], [0.1111111111111111, \"#46039f\"], [0.2222222222222222, \"#7201a8\"], [0.3333333333333333, \"#9c179e\"], [0.4444444444444444, \"#bd3786\"], [0.5555555555555556, \"#d8576b\"], [0.6666666666666666, \"#ed7953\"], [0.7777777777777778, \"#fb9f3a\"], [0.8888888888888888, \"#fdca26\"], [1.0, \"#f0f921\"]], \"type\": \"heatmap\"}], \"heatmapgl\": [{\"colorbar\": {\"outlinewidth\": 0, \"ticks\": \"\"}, \"colorscale\": [[0.0, \"#0d0887\"], [0.1111111111111111, \"#46039f\"], [0.2222222222222222, \"#7201a8\"], [0.3333333333333333, \"#9c179e\"], [0.4444444444444444, \"#bd3786\"], [0.5555555555555556, \"#d8576b\"], [0.6666666666666666, \"#ed7953\"], [0.7777777777777778, \"#fb9f3a\"], [0.8888888888888888, \"#fdca26\"], [1.0, \"#f0f921\"]], \"type\": \"heatmapgl\"}], \"histogram\": [{\"marker\": {\"colorbar\": {\"outlinewidth\": 0, \"ticks\": \"\"}}, \"type\": \"histogram\"}], \"histogram2d\": [{\"colorbar\": {\"outlinewidth\": 0, \"ticks\": \"\"}, \"colorscale\": [[0.0, \"#0d0887\"], [0.1111111111111111, \"#46039f\"], [0.2222222222222222, \"#7201a8\"], [0.3333333333333333, \"#9c179e\"], [0.4444444444444444, \"#bd3786\"], [0.5555555555555556, \"#d8576b\"], [0.6666666666666666, \"#ed7953\"], [0.7777777777777778, \"#fb9f3a\"], [0.8888888888888888, \"#fdca26\"], [1.0, \"#f0f921\"]], \"type\": \"histogram2d\"}], \"histogram2dcontour\": [{\"colorbar\": {\"outlinewidth\": 0, \"ticks\": \"\"}, \"colorscale\": [[0.0, \"#0d0887\"], [0.1111111111111111, \"#46039f\"], [0.2222222222222222, \"#7201a8\"], [0.3333333333333333, \"#9c179e\"], [0.4444444444444444, \"#bd3786\"], [0.5555555555555556, \"#d8576b\"], [0.6666666666666666, \"#ed7953\"], [0.7777777777777778, \"#fb9f3a\"], [0.8888888888888888, \"#fdca26\"], [1.0, \"#f0f921\"]], \"type\": \"histogram2dcontour\"}], \"mesh3d\": [{\"colorbar\": {\"outlinewidth\": 0, \"ticks\": \"\"}, \"type\": \"mesh3d\"}], \"parcoords\": [{\"line\": {\"colorbar\": {\"outlinewidth\": 0, \"ticks\": \"\"}}, \"type\": \"parcoords\"}], \"pie\": [{\"automargin\": true, \"type\": \"pie\"}], \"scatter\": [{\"marker\": {\"colorbar\": {\"outlinewidth\": 0, \"ticks\": \"\"}}, \"type\": \"scatter\"}], \"scatter3d\": [{\"line\": {\"colorbar\": {\"outlinewidth\": 0, \"ticks\": \"\"}}, \"marker\": {\"colorbar\": {\"outlinewidth\": 0, \"ticks\": \"\"}}, \"type\": \"scatter3d\"}], \"scattercarpet\": [{\"marker\": {\"colorbar\": {\"outlinewidth\": 0, \"ticks\": \"\"}}, \"type\": \"scattercarpet\"}], \"scattergeo\": [{\"marker\": {\"colorbar\": {\"outlinewidth\": 0, \"ticks\": \"\"}}, \"type\": \"scattergeo\"}], \"scattergl\": [{\"marker\": {\"colorbar\": {\"outlinewidth\": 0, \"ticks\": \"\"}}, \"type\": \"scattergl\"}], \"scattermapbox\": [{\"marker\": {\"colorbar\": {\"outlinewidth\": 0, \"ticks\": \"\"}}, \"type\": \"scattermapbox\"}], \"scatterpolar\": [{\"marker\": {\"colorbar\": {\"outlinewidth\": 0, \"ticks\": \"\"}}, \"type\": \"scatterpolar\"}], \"scatterpolargl\": [{\"marker\": {\"colorbar\": {\"outlinewidth\": 0, \"ticks\": \"\"}}, \"type\": \"scatterpolargl\"}], \"scatterternary\": [{\"marker\": {\"colorbar\": {\"outlinewidth\": 0, \"ticks\": \"\"}}, \"type\": \"scatterternary\"}], \"surface\": [{\"colorbar\": {\"outlinewidth\": 0, \"ticks\": \"\"}, \"colorscale\": [[0.0, \"#0d0887\"], [0.1111111111111111, \"#46039f\"], [0.2222222222222222, \"#7201a8\"], [0.3333333333333333, \"#9c179e\"], [0.4444444444444444, \"#bd3786\"], [0.5555555555555556, \"#d8576b\"], [0.6666666666666666, \"#ed7953\"], [0.7777777777777778, \"#fb9f3a\"], [0.8888888888888888, \"#fdca26\"], [1.0, \"#f0f921\"]], \"type\": \"surface\"}], \"table\": [{\"cells\": {\"fill\": {\"color\": \"#EBF0F8\"}, \"line\": {\"color\": \"white\"}}, \"header\": {\"fill\": {\"color\": \"#C8D4E3\"}, \"line\": {\"color\": \"white\"}}, \"type\": \"table\"}]}, \"layout\": {\"annotationdefaults\": {\"arrowcolor\": \"#2a3f5f\", \"arrowhead\": 0, \"arrowwidth\": 1}, \"autotypenumbers\": \"strict\", \"coloraxis\": {\"colorbar\": {\"outlinewidth\": 0, \"ticks\": \"\"}}, \"colorscale\": {\"diverging\": [[0, \"#8e0152\"], [0.1, \"#c51b7d\"], [0.2, \"#de77ae\"], [0.3, \"#f1b6da\"], [0.4, \"#fde0ef\"], [0.5, \"#f7f7f7\"], [0.6, \"#e6f5d0\"], [0.7, \"#b8e186\"], [0.8, \"#7fbc41\"], [0.9, \"#4d9221\"], [1, \"#276419\"]], \"sequential\": [[0.0, \"#0d0887\"], [0.1111111111111111, \"#46039f\"], [0.2222222222222222, \"#7201a8\"], [0.3333333333333333, \"#9c179e\"], [0.4444444444444444, \"#bd3786\"], [0.5555555555555556, \"#d8576b\"], [0.6666666666666666, \"#ed7953\"], [0.7777777777777778, \"#fb9f3a\"], [0.8888888888888888, \"#fdca26\"], [1.0, \"#f0f921\"]], \"sequentialminus\": [[0.0, \"#0d0887\"], [0.1111111111111111, \"#46039f\"], [0.2222222222222222, \"#7201a8\"], [0.3333333333333333, \"#9c179e\"], [0.4444444444444444, \"#bd3786\"], [0.5555555555555556, \"#d8576b\"], [0.6666666666666666, \"#ed7953\"], [0.7777777777777778, \"#fb9f3a\"], [0.8888888888888888, \"#fdca26\"], [1.0, \"#f0f921\"]]}, \"colorway\": [\"#636efa\", \"#EF553B\", \"#00cc96\", \"#ab63fa\", \"#FFA15A\", \"#19d3f3\", \"#FF6692\", \"#B6E880\", \"#FF97FF\", \"#FECB52\"], \"font\": {\"color\": \"#2a3f5f\"}, \"geo\": {\"bgcolor\": \"white\", \"lakecolor\": \"white\", \"landcolor\": \"#E5ECF6\", \"showlakes\": true, \"showland\": true, \"subunitcolor\": \"white\"}, \"hoverlabel\": {\"align\": \"left\"}, \"hovermode\": \"closest\", \"mapbox\": {\"style\": \"light\"}, \"paper_bgcolor\": \"white\", \"plot_bgcolor\": \"#E5ECF6\", \"polar\": {\"angularaxis\": {\"gridcolor\": \"white\", \"linecolor\": \"white\", \"ticks\": \"\"}, \"bgcolor\": \"#E5ECF6\", \"radialaxis\": {\"gridcolor\": \"white\", \"linecolor\": \"white\", \"ticks\": \"\"}}, \"scene\": {\"xaxis\": {\"backgroundcolor\": \"#E5ECF6\", \"gridcolor\": \"white\", \"gridwidth\": 2, \"linecolor\": \"white\", \"showbackground\": true, \"ticks\": \"\", \"zerolinecolor\": \"white\"}, \"yaxis\": {\"backgroundcolor\": \"#E5ECF6\", \"gridcolor\": \"white\", \"gridwidth\": 2, \"linecolor\": \"white\", \"showbackground\": true, \"ticks\": \"\", \"zerolinecolor\": \"white\"}, \"zaxis\": {\"backgroundcolor\": \"#E5ECF6\", \"gridcolor\": \"white\", \"gridwidth\": 2, \"linecolor\": \"white\", \"showbackground\": true, \"ticks\": \"\", \"zerolinecolor\": \"white\"}}, \"shapedefaults\": {\"line\": {\"color\": \"#2a3f5f\"}}, \"ternary\": {\"aaxis\": {\"gridcolor\": \"white\", \"linecolor\": \"white\", \"ticks\": \"\"}, \"baxis\": {\"gridcolor\": \"white\", \"linecolor\": \"white\", \"ticks\": \"\"}, \"bgcolor\": \"#E5ECF6\", \"caxis\": {\"gridcolor\": \"white\", \"linecolor\": \"white\", \"ticks\": \"\"}}, \"title\": {\"x\": 0.05}, \"xaxis\": {\"automargin\": true, \"gridcolor\": \"white\", \"linecolor\": \"white\", \"ticks\": \"\", \"title\": {\"standoff\": 15}, \"zerolinecolor\": \"white\", \"zerolinewidth\": 2}, \"yaxis\": {\"automargin\": true, \"gridcolor\": \"white\", \"linecolor\": \"white\", \"ticks\": \"\", \"title\": {\"standoff\": 15}, \"zerolinecolor\": \"white\", \"zerolinewidth\": 2}}}, \"title\": {\"text\": \"Actual vs. Hypothetical Scores\"}},                        {\"responsive\": true}                    ).then(function(){\n",
       "                            \n",
       "var gd = document.getElementById('cbd7ba20-3f47-4614-9847-78a18ce5eaf0');\n",
       "var x = new MutationObserver(function (mutations, observer) {{\n",
       "        var display = window.getComputedStyle(gd).display;\n",
       "        if (!display || display === 'none') {{\n",
       "            console.log([gd, 'removed!']);\n",
       "            Plotly.purge(gd);\n",
       "            observer.disconnect();\n",
       "        }}\n",
       "}});\n",
       "\n",
       "// Listen for the removal of the full notebook cells\n",
       "var notebookContainer = gd.closest('#notebook-container');\n",
       "if (notebookContainer) {{\n",
       "    x.observe(notebookContainer, {childList: true});\n",
       "}}\n",
       "\n",
       "// Listen for the clearing of the current output cell\n",
       "var outputEl = gd.closest('.output');\n",
       "if (outputEl) {{\n",
       "    x.observe(outputEl, {childList: true});\n",
       "}}\n",
       "\n",
       "                        })                };                });            </script>        </div>"
      ]
     },
     "metadata": {},
     "output_type": "display_data"
    }
   ],
   "source": [
    "df_res=merge2020[merge2020['name'].isin(countries)].sort_values(by='Actual Score', ascending=False)\n",
    "sorted_merge = merge2020.sort_values(by='Actual Score', ascending=False).dropna()\n",
    "fig = go.Figure(data=[\n",
    "    go.Bar(x=sorted_merge['name'], y=sorted_merge['Actual Score'], name='Actual Score'),\n",
    "    go.Bar(x=sorted_merge['name'], y=sorted_merge['Hypothetical Score'], name='Hypothetical Score')\n",
    "])\n",
    "# Change the bar mode\n",
    "fig.update_layout(barmode='group', title='Actual vs. Hypothetical Scores')\n",
    "fig.show()"
   ]
  },
  {
   "cell_type": "markdown",
   "id": "civic-representative",
   "metadata": {},
   "source": [
    "# References\n",
    "- [Happiness Data Analysis 2015-2019](https://www.kaggle.com/kojisera/happiness-data-analysis-2015-2019) - See top happy 30 countries scatter plot for 2015-2019"
   ]
  },
  {
   "cell_type": "code",
   "execution_count": null,
   "id": "varying-miniature",
   "metadata": {},
   "outputs": [],
   "source": []
  }
 ],
 "metadata": {
  "kernelspec": {
   "display_name": "Python 3",
   "language": "python",
   "name": "python3"
  },
  "language_info": {
   "codemirror_mode": {
    "name": "ipython",
    "version": 3
   },
   "file_extension": ".py",
   "mimetype": "text/x-python",
   "name": "python",
   "nbconvert_exporter": "python",
   "pygments_lexer": "ipython3",
   "version": "3.9.2"
  }
 },
 "nbformat": 4,
 "nbformat_minor": 5
}
